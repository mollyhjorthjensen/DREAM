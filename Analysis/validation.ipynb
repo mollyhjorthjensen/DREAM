{
 "cells": [
  {
   "cell_type": "markdown",
   "metadata": {},
   "source": [
    "# Validation"
   ]
  },
  {
   "cell_type": "code",
   "execution_count": 1,
   "metadata": {},
   "outputs": [
    {
     "name": "stdout",
     "output_type": "stream",
     "text": [
      "Welcome to JupyROOT 6.18/00\n"
     ]
    }
   ],
   "source": [
    "# import libraries\n",
    "import os\n",
    "import ROOT\n",
    "import numpy as np\n",
    "from scipy import stats"
   ]
  },
  {
   "cell_type": "code",
   "execution_count": 2,
   "metadata": {},
   "outputs": [],
   "source": [
    "# color palette\n",
    "blue = ROOT.TColor(ROOT.TColor.GetFreeColorIndex(), 31., 119., 180.)\n",
    "orange = ROOT.TColor(ROOT.TColor.GetFreeColorIndex(), 255., 127., 14.)\n",
    "green = ROOT.TColor(ROOT.TColor.GetFreeColorIndex(), 44., 160., 44.)\n",
    "red = ROOT.TColor(ROOT.TColor.GetFreeColorIndex(), 214., 39., 40.)\n",
    "purple = ROOT.TColor(ROOT.TColor.GetFreeColorIndex(), 148., 103., 189.)\n",
    "palette = {'blue': blue, 'orange': orange, 'green': green, 'red': red, 'purple': purple}"
   ]
  },
  {
   "cell_type": "markdown",
   "metadata": {},
   "source": [
    "## 0. Create dataframes"
   ]
  },
  {
   "cell_type": "code",
   "execution_count": 3,
   "metadata": {},
   "outputs": [],
   "source": [
    "# helpers\n",
    "def leakageCorrection(col):\n",
    "    return f\"{col}*PrimaryEnergy/(PrimaryEnergy-LateralLeakage)\"\n",
    "\n",
    "def modifiedZscore(rdf, col, D=3.5):\n",
    "    x = rdf.AsNumpy(columns=[col])[col]\n",
    "    xtilde = np.median(x)\n",
    "    MAD = np.median(np.abs(x-xtilde))\n",
    "    return f\"abs(0.6745*({col}-({xtilde}))/{MAD}) <= {D}\""
   ]
  },
  {
   "cell_type": "code",
   "execution_count": 4,
   "metadata": {},
   "outputs": [],
   "source": [
    "treeName = \"B4\"\n",
    "path = \"/groups/hep/mojen/repositories/DREAM/Run/final_validation/brass_copy/\""
   ]
  },
  {
   "cell_type": "code",
   "execution_count": 11,
   "metadata": {},
   "outputs": [
    {
     "ename": "TypeError",
     "evalue": "can not resolve method template call for 'Define'",
     "output_type": "error",
     "traceback": [
      "\u001b[0;31m---------------------------------------------------------------------------\u001b[0m",
      "\u001b[0;31mTypeError\u001b[0m                                 Traceback (most recent call last)",
      "\u001b[0;32m<ipython-input-11-3e3f36524aac>\u001b[0m in \u001b[0;36m<module>\u001b[0;34m\u001b[0m\n\u001b[1;32m      4\u001b[0m \u001b[0mrdf\u001b[0m \u001b[0;34m=\u001b[0m \u001b[0mROOT\u001b[0m\u001b[0;34m.\u001b[0m\u001b[0mROOT\u001b[0m\u001b[0;34m.\u001b[0m\u001b[0mRDataFrame\u001b[0m\u001b[0;34m(\u001b[0m\u001b[0mtreeName\u001b[0m\u001b[0;34m,\u001b[0m \u001b[0mos\u001b[0m\u001b[0;34m.\u001b[0m\u001b[0mpath\u001b[0m\u001b[0;34m.\u001b[0m\u001b[0mjoin\u001b[0m\u001b[0;34m(\u001b[0m\u001b[0mpath\u001b[0m\u001b[0;34m,\u001b[0m \u001b[0mfileName\u001b[0m\u001b[0;34m)\u001b[0m\u001b[0;34m)\u001b[0m\u001b[0;34m\u001b[0m\u001b[0m\n\u001b[1;32m      5\u001b[0m \u001b[0;31m# define new columns\u001b[0m\u001b[0;34m\u001b[0m\u001b[0;34m\u001b[0m\u001b[0m\n\u001b[0;32m----> 6\u001b[0;31m \u001b[0mrdf\u001b[0m \u001b[0;34m=\u001b[0m \u001b[0mrdf\u001b[0m\u001b[0;34m.\u001b[0m\u001b[0mDefine\u001b[0m\u001b[0;34m(\u001b[0m\u001b[0;34m\"VecSignalScnt_corr\"\u001b[0m\u001b[0;34m,\u001b[0m \u001b[0mleakageCorrection\u001b[0m\u001b[0;34m(\u001b[0m\u001b[0;34m\"VecSignalScnt\"\u001b[0m\u001b[0;34m)\u001b[0m\u001b[0;34m)\u001b[0m\u001b[0;34m\u001b[0m\u001b[0m\n\u001b[0m\u001b[1;32m      7\u001b[0m \u001b[0mrdf\u001b[0m \u001b[0;34m=\u001b[0m \u001b[0mrdf\u001b[0m\u001b[0;34m.\u001b[0m\u001b[0mDefine\u001b[0m\u001b[0;34m(\u001b[0m\u001b[0;34m\"VecSignalCkov_corr\"\u001b[0m\u001b[0;34m,\u001b[0m \u001b[0mleakageCorrection\u001b[0m\u001b[0;34m(\u001b[0m\u001b[0;34m\"VecSignalCkov\"\u001b[0m \u001b[0;34m)\u001b[0m\u001b[0;34m)\u001b[0m\u001b[0;34m\u001b[0m\u001b[0m\n\u001b[1;32m      8\u001b[0m \u001b[0mrdf\u001b[0m \u001b[0;34m=\u001b[0m \u001b[0mrdf\u001b[0m\u001b[0;34m.\u001b[0m\u001b[0mDefine\u001b[0m\u001b[0;34m(\u001b[0m\u001b[0;34m\"Ssum\"\u001b[0m\u001b[0;34m,\u001b[0m \u001b[0;34m\"Sum(VecSignalScnt_corr)\"\u001b[0m\u001b[0;34m)\u001b[0m\u001b[0;34m\u001b[0m\u001b[0m\n",
      "\u001b[0;31mTypeError\u001b[0m: can not resolve method template call for 'Define'"
     ]
    },
    {
     "name": "stderr",
     "output_type": "stream",
     "text": [
      "Error in <TFile::TFile>: file /groups/hep/mojen/repositories/DREAM/Run/final_validation/brass_copy/electron_100GeV/electron_100GeV.root does not exist\n",
      "Error in <TFile::TFile>: file /groups/hep/mojen/repositories/DREAM/Run/final_validation/brass_copy/electron_100GeV/electron_100GeV.root does not exist\n"
     ]
    }
   ],
   "source": [
    "# create rdataframe\n",
    "\n",
    "fileName = os.path.join(path, \"electron_100GeV/electron_100GeV.root\")\n",
    "rdf = ROOT.ROOT.RDataFrame(treeName, os.path.join(path, fileName))\n",
    "# define new columns\n",
    "rdf = rdf.Define(\"VecSignalScnt_corr\", leakageCorrection(\"VecSignalScnt\"))\n",
    "rdf = rdf.Define(\"VecSignalCkov_corr\", leakageCorrection(\"VecSignalCkov\" ))\n",
    "rdf = rdf.Define(\"Ssum\", \"Sum(VecSignalScnt_corr)\")\n",
    "rdf = rdf.Define(\"Csum\", \"Sum(VecSignalCkov_corr)\")"
   ]
  },
  {
   "cell_type": "code",
   "execution_count": 37,
   "metadata": {},
   "outputs": [
    {
     "data": {
      "image/png": "[encoded data removed]",
      "text/plain": [
       "<IPython.core.display.Image object>"
      ]
     },
     "metadata": {},
     "output_type": "display_data"
    }
   ],
   "source": [
    "c1 = ROOT.TCanvas(\"c\", \"c\", 800, 400)\n",
    "c1.Divide(2)\n",
    "c1.cd(1)\n",
    "# model = (\"\", \"\", 100, 0., 2000.)\n",
    "h1a = rdf.Filter(\"PrimaryPDG == 11\").Histo1D(\"Ssum\")\n",
    "h1b = rdf.Filter(\"PrimaryPDG == -211\").Histo1D(\"Ssum\")\n",
    "h1a.Draw()\n",
    "h1b.SetLineColor(ROOT.kRed)\n",
    "h1b.Draw(\"SAME\")\n",
    "c1.cd(2)\n",
    "h2a = rdf.Filter(\"PrimaryPDG == 11\").Histo1D(\"Csum\")\n",
    "h2b = rdf.Filter(\"PrimaryPDG == -211\").Histo1D(\"Csum\")\n",
    "h2a.Draw()\n",
    "h2b.SetLineColor(ROOT.kRed)\n",
    "h2b.Draw(\"SAME\")\n",
    "c1.Draw()"
   ]
  },
  {
   "cell_type": "markdown",
   "metadata": {},
   "source": [
    "## 1. Calibration"
   ]
  },
  {
   "cell_type": "markdown",
   "metadata": {},
   "source": [
    "### 50 GeV electrons -> S_cal, C_cal"
   ]
  },
  {
   "cell_type": "code",
   "execution_count": 38,
   "metadata": {},
   "outputs": [
    {
     "name": "stdout",
     "output_type": "stream",
     "text": [
      "electron  : pass=500        all=500        -- eff=100.00 % cumulative eff=100.00 %\n",
      "Cut1      : pass=499        all=500        -- eff=99.80 % cumulative eff=99.80 %\n",
      "Cut2      : pass=473        all=499        -- eff=94.79 % cumulative eff=94.60 %\n",
      "electron  : pass=500        all=500        -- eff=100.00 % cumulative eff=100.00 %\n",
      "Cut1      : pass=499        all=500        -- eff=99.80 % cumulative eff=99.80 %\n",
      "Cut2      : pass=473        all=499        -- eff=94.79 % cumulative eff=94.60 %\n"
     ]
    }
   ],
   "source": [
    "rdf_cal = rdf.Filter(\"PrimaryPDG == 11\", \"electron\")\n",
    "rdf_cal_S = rdf_cal.Filter(\"Ssum > 0.\", \"Cut1\").Define(\"Snorm\", \"PrimaryEnergy/Ssum\")\n",
    "rdf_cal_C = rdf_cal.Filter(\"Csum > 0.\", \"Cut1\").Define(\"Cnorm\", \"PrimaryEnergy/Csum\")\n",
    "# modified Z score\n",
    "rdf_cal_S = rdf_cal_S.Filter(modifiedZscore(rdf_cal_S, \"Snorm\"), \"Cut2\")\n",
    "rdf_cal_C = rdf_cal_C.Filter(modifiedZscore(rdf_cal_C, \"Cnorm\"), \"Cut2\")\n",
    "# print cuts report\n",
    "cutsReport_S = rdf_cal_S.Report()\n",
    "cutsReport_S.Print()\n",
    "cutsReport_C = rdf_cal_C.Report()\n",
    "cutsReport_C.Print()"
   ]
  },
  {
   "cell_type": "code",
   "execution_count": 39,
   "metadata": {},
   "outputs": [
    {
     "name": "stdout",
     "output_type": "stream",
     "text": [
      "0.4083659434202771 19.575867001640727\n",
      " FCN=61.4701 FROM MIGRAD    STATUS=CONVERGED      72 CALLS          73 TOTAL\n",
      "                     EDM=3.21047e-08    STRATEGY= 1      ERROR MATRIX ACCURATE \n",
      "  EXT PARAMETER                                   STEP         FIRST   \n",
      "  NO.   NAME      VALUE            ERROR          SIZE      DERIVATIVE \n",
      "   1  Constant     1.46209e+01   1.01580e+00   2.78145e-03  -3.21975e-05\n",
      "   2  Mean         4.01376e-01   3.56965e-03   1.37470e-05  -6.48168e-02\n",
      "   3  Sigma        6.77251e-02   3.76892e-03   5.03140e-05  -6.26716e-03\n",
      " FCN=76.9777 FROM MIGRAD    STATUS=CONVERGED      83 CALLS          84 TOTAL\n",
      "                     EDM=2.5423e-10    STRATEGY= 1      ERROR MATRIX ACCURATE \n",
      "  EXT PARAMETER                                   STEP         FIRST   \n",
      "  NO.   NAME      VALUE            ERROR          SIZE      DERIVATIVE \n",
      "   1  Constant     1.45122e+01   1.03231e+00   3.14448e-03   1.73732e-05\n",
      "   2  Mean         1.90236e+01   1.62842e-01   6.95907e-04   1.07225e-04\n",
      "   3  Sigma        2.95974e+00   1.73715e-01   5.73555e-05   1.05735e-04\n"
     ]
    },
    {
     "data": {
      "image/png": "[encoded data removed]",
      "text/plain": [
       "<IPython.core.display.Image object>"
      ]
     },
     "metadata": {},
     "output_type": "display_data"
    }
   ],
   "source": [
    "c1 = ROOT.TCanvas(\"c\", \"c\", 800, 400)\n",
    "c1.Divide(2)\n",
    "col = [\"Snorm\", \"Cnorm\"]\n",
    "d = [rdf_cal_S, rdf_cal_C]\n",
    "h = [None, None]\n",
    "mean = [None, None]\n",
    "for i in range(len(col)):\n",
    "    c1.cd(i+1)\n",
    "    ROOT.gStyle.SetOptStat(\"nemr ou\")\n",
    "    ROOT.gStyle.SetOptFit(1111)\n",
    "    ROOT.gPad.SetLeftMargin(0.12)\n",
    "    ROOT.gPad.SetBottomMargin(0.12)\n",
    "    ROOT.gPad.SetRightMargin(0.08)\n",
    "    ROOT.gPad.SetTopMargin(0.08)\n",
    "    h[i] = d[i].Histo1D(col[i])\n",
    "    h[i].GetXaxis().SetTitle(col[i])\n",
    "    h[i].GetXaxis().SetTitleSize(0.04)\n",
    "    h[i].GetYaxis().SetTitle(\"Events\")\n",
    "    h[i].GetYaxis().SetTitleSize(0.04)\n",
    "    h[i].DrawCopy(\"E1\")\n",
    "    r = h[i].Fit(\"gaus\", \"S\")\n",
    "    h[i].SetLineColor(palette['blue'].GetNumber())\n",
    "    h[i].SetLineWidth(2)\n",
    "    gaus = h[i].GetFunction(\"gaus\")\n",
    "    gaus.SetLineColor(palette['red'].GetNumber())\n",
    "    gaus.SetLineWidth(2)\n",
    "    mean[i] = r.Parameter(1)\n",
    "    rms = r.Parameter(2)\n",
    "    # add legend\n",
    "    legend = ROOT.TLegend(0.62, 0.2, 0.82, 0.3)\n",
    "    legend.SetFillColor(0)\n",
    "    legend.SetBorderSize(0)\n",
    "    legend.SetTextSize(0.03)\n",
    "    legend.AddEntry(h[i].GetValue(), \"Simulated data\", \"l\")\n",
    "    legend.AddEntry(gaus, \"Gaussian fit\", \"l\")\n",
    "    legend.Draw()\n",
    "    \n",
    "ROOT.gPad.Modified()\n",
    "ROOT.gPad.Update()\n",
    "c1.Draw()\n",
    "\n",
    "S_cal = mean[0]\n",
    "C_cal = mean[1]\n",
    "\n",
    "S_cal = rdf_cal_S.Mean(\"Snorm\").GetValue()\n",
    "C_cal = rdf_cal_C.Mean(\"Cnorm\").GetValue()\n",
    "print(S_cal, C_cal)"
   ]
  },
  {
   "cell_type": "markdown",
   "metadata": {},
   "source": [
    "### 50 GeV pions -> chi"
   ]
  },
  {
   "cell_type": "markdown",
   "metadata": {},
   "source": [
    "NB! Should use S_cal, C_cal on new independent data which is not done here"
   ]
  },
  {
   "cell_type": "code",
   "execution_count": 8,
   "metadata": {},
   "outputs": [],
   "source": [
    "rdf_chi = rdf\n",
    "rdf_chi = rdf_chi.Define(\"Ssum_cal\", f\"Ssum*{S_cal}\")\n",
    "rdf_chi = rdf_chi.Define(\"Csum_cal\", f\"Csum*{C_cal}\")\n",
    "rdf_chi = rdf_chi.Define(\"CoverS\", \"Csum_cal/Ssum_cal\")\n",
    "rdf_chi = rdf_chi.Define(\"Snorm_cal\", \"Ssum_cal/PrimaryEnergy\")\n",
    "rdf_chi = rdf_chi.Define(\"Cnorm_cal\", \"Csum_cal/PrimaryEnergy\")\n",
    "rdf_chi = rdf_chi.Define(\"chi\", \"(1-Snorm_cal)/(1-Cnorm_cal)\")"
   ]
  },
  {
   "cell_type": "code",
   "execution_count": 9,
   "metadata": {},
   "outputs": [
    {
     "name": "stdout",
     "output_type": "stream",
     "text": [
      "pion      : pass=50         all=100        -- eff=50.00 % cumulative eff=50.00 %\n",
      "Cut2      : pass=50         all=50         -- eff=100.00 % cumulative eff=50.00 %\n"
     ]
    }
   ],
   "source": [
    "rdf_chi_pi = rdf_chi.Filter(\"PrimaryPDG == -211\", \"pion\")\n",
    "# modified Z score\n",
    "rdf_chi_pi = rdf_chi_pi.Filter(modifiedZscore(rdf_chi, \"chi\"), \"Cut2\")\n",
    "# print cuts report\n",
    "cutsReport_chi_pi = rdf_chi_pi.Report()\n",
    "cutsReport_chi_pi.Print()"
   ]
  },
  {
   "cell_type": "code",
   "execution_count": 10,
   "metadata": {},
   "outputs": [
    {
     "name": "stdout",
     "output_type": "stream",
     "text": [
      " FCN=7.14684 FROM MIGRAD    STATUS=CONVERGED      94 CALLS          95 TOTAL\n",
      "                     EDM=1.47079e-07    STRATEGY= 1      ERROR MATRIX ACCURATE \n",
      "  EXT PARAMETER                                   STEP         FIRST   \n",
      "  NO.   NAME      VALUE            ERROR          SIZE      DERIVATIVE \n",
      "   1  Constant     1.51982e+00   2.92739e-01   3.23444e-04  -7.33933e-04\n",
      "   2  Mean         5.11798e-01   1.69761e-01   2.36535e-04   1.72426e-03\n",
      "   3  Sigma        4.59086e-01   3.03946e-01   4.33211e-04   6.78140e-04\n"
     ]
    },
    {
     "data": {
      "image/png": "[encoded data removed]",
      "text/plain": [
       "<IPython.core.display.Image object>"
      ]
     },
     "metadata": {},
     "output_type": "display_data"
    }
   ],
   "source": [
    "c2 = ROOT.TCanvas(\"c\", \"c\", 400, 400)\n",
    "col = [\"chi\"]\n",
    "d = [rdf_chi_pi]\n",
    "h = [None]\n",
    "mean = [None]\n",
    "for i in range(len(col)):\n",
    "    c2.cd(i+1)\n",
    "    ROOT.gStyle.SetOptStat(\"nemr ou\")\n",
    "    ROOT.gStyle.SetOptFit(1111)\n",
    "    ROOT.gPad.SetLeftMargin(0.12)\n",
    "    ROOT.gPad.SetBottomMargin(0.12)\n",
    "    ROOT.gPad.SetRightMargin(0.08)\n",
    "    ROOT.gPad.SetTopMargin(0.08)\n",
    "    h[i] = d[i].Histo1D(col[i])\n",
    "    h[i].GetXaxis().SetTitle(col[i])\n",
    "    h[i].GetXaxis().SetTitleSize(0.04)\n",
    "    h[i].GetYaxis().SetTitle(\"Events\")\n",
    "    h[i].GetYaxis().SetTitleSize(0.04)\n",
    "    h[i].DrawCopy(\"E1\")\n",
    "    r = h[i].Fit(\"gaus\", \"S\")\n",
    "    h[i].SetLineColor(palette['blue'].GetNumber())\n",
    "    h[i].SetLineWidth(2)\n",
    "    gaus = h[i].GetFunction(\"gaus\")\n",
    "    gaus.SetLineColor(palette['red'].GetNumber())\n",
    "    gaus.SetLineWidth(2)\n",
    "    mean[i] = r.Parameter(1)\n",
    "    rms = r.Parameter(2)\n",
    "    # add legend\n",
    "    legend = ROOT.TLegend(0.62, 0.2, 0.82, 0.3)\n",
    "    legend.SetFillColor(0)\n",
    "    legend.SetBorderSize(0)\n",
    "    legend.SetTextSize(0.03)\n",
    "    legend.AddEntry(h[i].GetValue(), \"Simulated data\", \"l\")\n",
    "    legend.AddEntry(gaus, \"Gaussian fit\", \"l\")\n",
    "    legend.Draw()\n",
    "    \n",
    "ROOT.gPad.Modified()\n",
    "ROOT.gPad.Update()\n",
    "c2.Draw()\n",
    "\n",
    "chi = mean[0]"
   ]
  },
  {
   "cell_type": "markdown",
   "metadata": {},
   "source": [
    "## 2. Performance"
   ]
  },
  {
   "cell_type": "markdown",
   "metadata": {},
   "source": [
    "### Energy resolution"
   ]
  },
  {
   "cell_type": "code",
   "execution_count": 11,
   "metadata": {},
   "outputs": [
    {
     "name": "stdout",
     "output_type": "stream",
     "text": [
      "pion      : pass=50         all=100        -- eff=50.00 % cumulative eff=50.00 %\n",
      "Cut2      : pass=48         all=50         -- eff=96.00 % cumulative eff=48.00 %\n"
     ]
    }
   ],
   "source": [
    "rdf_energy = rdf_chi\n",
    "rdf_energy_e = rdf_energy.Filter(\"PrimaryPDG == 11\", \"electron\")\n",
    "rdf_energy_pi = rdf_energy.Filter(\"PrimaryPDG == -211\", \"pion\")\n",
    "# modified Z score\n",
    "rdf_energy_pi = rdf_energy_pi.Filter(modifiedZscore(rdf_energy_pi, \"Snorm_cal\")+\"&&\"+modifiedZscore(rdf_energy_pi, \"Cnorm_cal\"), \"Cut2\")\n",
    "# print cuts report\n",
    "cutsReport_energy = rdf_energy_pi.Report()\n",
    "cutsReport_energy.Print()"
   ]
  },
  {
   "cell_type": "code",
   "execution_count": 12,
   "metadata": {},
   "outputs": [
    {
     "name": "stdout",
     "output_type": "stream",
     "text": [
      "(0.34241490875149494, 0.01492969296669148)\n",
      "(0.8726878971203889, 6.357107580545599e-16)\n"
     ]
    }
   ],
   "source": [
    "# correlation coefficients\n",
    "SC_e = rdf_energy_e.AsNumpy(columns=[\"Snorm_cal\", \"Cnorm_cal\"])\n",
    "SC_pi = rdf_energy_pi.AsNumpy(columns=[\"Snorm_cal\", \"Cnorm_cal\"])\n",
    "print(stats.pearsonr(x=SC_e['Snorm_cal'], y=SC_e['Cnorm_cal']))\n",
    "print(stats.pearsonr(x=SC_pi['Snorm_cal'], y=SC_pi['Cnorm_cal']))"
   ]
  },
  {
   "cell_type": "code",
   "execution_count": 13,
   "metadata": {},
   "outputs": [
    {
     "name": "stdout",
     "output_type": "stream",
     "text": [
      "\n",
      "****************************************\n",
      "Minimizer is Linear\n",
      "Chi2                      =     0.369514\n",
      "NDf                       =           46\n",
      "p0                        =     -0.29739   +/-   0.0657543   \n",
      "p1                        =      1.07703   +/-   0.0888497   \n"
     ]
    }
   ],
   "source": [
    "# rotation method\n",
    "gr = rdf_energy_pi.Graph(\"Snorm_cal\", \"Cnorm_cal\")\n",
    "# linear fit\n",
    "r = gr.Fit(\"pol1\", \"S\")"
   ]
  },
  {
   "cell_type": "code",
   "execution_count": 14,
   "metadata": {},
   "outputs": [
    {
     "name": "stdout",
     "output_type": "stream",
     "text": [
      "-0.29739031665872734 1.0770266359377163 3.8608763454137733 42.876156455976805\n"
     ]
    }
   ],
   "source": [
    "p0 = r.Parameter(0)\n",
    "p1 = r.Parameter(1)\n",
    "X = p0/(1-p1)\n",
    "theta = np.pi/2 - np.arctan(p1)\n",
    "print(p0, p1, X, theta*180/np.pi)"
   ]
  },
  {
   "cell_type": "code",
   "execution_count": 15,
   "metadata": {},
   "outputs": [
    {
     "data": {
      "text/plain": [
       "True"
      ]
     },
     "execution_count": 15,
     "metadata": {},
     "output_type": "execute_result"
    }
   ],
   "source": [
    "rotate_xcoord_code = '''\n",
    "double rotate_xcoord(double x, double y, double angle, double cx) {\n",
    "    double s = sin(angle);\n",
    "    double c = cos(angle);\n",
    "    x -= cx;\n",
    "    y -= cx;\n",
    "    double xnew = x * c - y * s;\n",
    "    double ynew = x * s + y * c;\n",
    "    x = xnew + cx;\n",
    "    y = ynew + cx;\n",
    "    return x;\n",
    "};\n",
    "'''\n",
    "ROOT.gInterpreter.Declare(rotate_xcoord_code)\n",
    "rotate_ycoord_code = '''\n",
    "double rotate_ycoord(double x, double y, double angle, double cx) {\n",
    "    double s = sin(angle);\n",
    "    double c = cos(angle);\n",
    "    x -= cx;\n",
    "    y -= cx;\n",
    "    double xnew = x * c - y * s;\n",
    "    double ynew = x * s + y * c;\n",
    "    x = xnew + cx;\n",
    "    y = ynew + cx;\n",
    "    return y;\n",
    "};\n",
    "'''\n",
    "ROOT.gInterpreter.Declare(rotate_ycoord_code)"
   ]
  },
  {
   "cell_type": "code",
   "execution_count": 16,
   "metadata": {},
   "outputs": [],
   "source": [
    "rdf_energy_pi = rdf_energy_pi.Define(\"PivotPoint\", str(X))\n",
    "rdf_energy_pi = rdf_energy_pi.Define(\"PivotAngle\", str(theta))\n",
    "rdf_energy_pi = rdf_energy_pi.Define(\"Snorm_cal_rot\", \"rotate_xcoord(Snorm_cal, Cnorm_cal, PivotAngle, PivotPoint)\")\n",
    "rdf_energy_pi = rdf_energy_pi.Define(\"Cnorm_cal_rot\", \"rotate_ycoord(Snorm_cal, Cnorm_cal, PivotAngle, PivotPoint)\")"
   ]
  },
  {
   "cell_type": "code",
   "execution_count": 17,
   "metadata": {},
   "outputs": [
    {
     "name": "stdout",
     "output_type": "stream",
     "text": [
      " FCN=6.73253 FROM MIGRAD    STATUS=CONVERGED     126 CALLS         127 TOTAL\n",
      "                     EDM=9.4313e-09    STRATEGY= 1      ERROR MATRIX ACCURATE \n",
      "  EXT PARAMETER                                   STEP         FIRST   \n",
      "  NO.   NAME      VALUE            ERROR          SIZE      DERIVATIVE \n",
      "   1  Constant     1.31951e+00   2.68143e-01   2.78786e-04  -3.96446e-05\n",
      "   2  Mean         3.85700e+00   9.20446e-02   1.24999e-04  -4.43549e-04\n",
      "   3  Sigma        1.89113e-01   2.08554e-01   8.96481e-04  -1.56975e-04\n"
     ]
    },
    {
     "data": {
      "image/png": "[encoded data removed]",
      "text/plain": [
       "<IPython.core.display.Image object>"
      ]
     },
     "metadata": {},
     "output_type": "display_data"
    }
   ],
   "source": [
    "c5 = ROOT.TCanvas(\"c5\", \"c5\", 1200, 400)\n",
    "h5c = rdf_energy_pi.Histo1D(\"Snorm_cal_rot\")\n",
    "h5c.Draw()\n",
    "rc = h5c.Fit(\"gaus\", \"S\")\n",
    "c5.Draw()"
   ]
  },
  {
   "cell_type": "code",
   "execution_count": 18,
   "metadata": {},
   "outputs": [],
   "source": [
    "# C/E vs S/E\n",
    "gr1 = rdf_energy_e.Graph(\"Snorm_cal\", \"Cnorm_cal\")\n",
    "gr2 = rdf_energy_pi.Graph(\"Snorm_cal\", \"Cnorm_cal\")\n",
    "gr1.SetMarkerColor(palette['blue'].GetNumber())\n",
    "gr2.SetMarkerColor(palette['red'].GetNumber())\n",
    "gr1.SetMarkerStyle(ROOT.kFullDotSmall)\n",
    "gr2.SetMarkerStyle(ROOT.kFullDotSmall)"
   ]
  },
  {
   "cell_type": "code",
   "execution_count": 19,
   "metadata": {},
   "outputs": [
    {
     "data": {
      "image/png": "[encoded data removed]",
      "text/plain": [
       "<IPython.core.display.Image object>"
      ]
     },
     "metadata": {},
     "output_type": "display_data"
    }
   ],
   "source": [
    "ratio = 7/3\n",
    "nbins = 40\n",
    "c1 = ROOT.TCanvas(\"c1\", \"c1\", 420, 420)\n",
    "c1.SetRightMargin(0.)\n",
    "c1.SetTopMargin(0.)\n",
    "mg = ROOT.TMultiGraph()\n",
    "mg.Add(gr1.GetPtr())\n",
    "mg.Add(gr2.GetPtr())\n",
    "mg.Draw(\"ap\")\n",
    "mg.GetXaxis().SetTitle(\"S/E\")\n",
    "mg.GetYaxis().SetTitle(\"C/E\")\n",
    "mg.GetXaxis().CenterTitle()\n",
    "mg.GetYaxis().CenterTitle()\n",
    "# add legend\n",
    "legend = ROOT.TLegend(0.12, 0.88, 0.32, 0.98)\n",
    "legend.SetFillColor(0)\n",
    "legend.SetBorderSize(0)\n",
    "legend.SetTextSize(0.03)\n",
    "legend.AddEntry(gr1.GetValue(), \"electron\", \"p\")\n",
    "legend.AddEntry(gr2.GetValue(), \"pion\", \"p\")\n",
    "legend.Draw()\n",
    "c1.Draw()\n",
    "c1.Print(\"hXY.png\")"
   ]
  },
  {
   "cell_type": "code",
   "execution_count": 20,
   "metadata": {},
   "outputs": [
    {
     "name": "stdout",
     "output_type": "stream",
     "text": [
      " FCN=11.1063 FROM MIGRAD    STATUS=CONVERGED      83 CALLS          84 TOTAL\n",
      "                     EDM=2.78539e-10    STRATEGY= 1      ERROR MATRIX ACCURATE \n",
      "  EXT PARAMETER                                   STEP         FIRST   \n",
      "  NO.   NAME      VALUE            ERROR          SIZE      DERIVATIVE \n",
      "   1  Constant     2.01064e+00   4.24540e-01   5.62724e-04  -3.31804e-05\n",
      "   2  Mean         7.26684e-01   7.05219e-02   1.19536e-04  -4.98017e-05\n",
      "   3  Sigma        2.58417e-01   9.32013e-02   2.22382e-04  -1.74189e-04\n"
     ]
    },
    {
     "data": {
      "image/png": "[encoded data removed]",
      "text/plain": [
       "<IPython.core.display.Image object>"
      ]
     },
     "metadata": {},
     "output_type": "display_data"
    }
   ],
   "source": [
    "c2 = ROOT.TCanvas(\"c1\", \"c1\", 420, 180)\n",
    "c2.SetRightMargin(0.)\n",
    "c2.SetTopMargin(0.)\n",
    "modelX = (\"\", \"\", nbins, mg.GetXaxis().GetXmin(), mg.GetXaxis().GetXmax())\n",
    "hX = rdf_energy_pi.Histo1D(modelX, \"Snorm_cal\")\n",
    "hX.SetFillStyle(0)\n",
    "hX.SetLineColor(palette['red'].GetNumber())\n",
    "# hX.GetXaxis().SetLabelOffset(999)\n",
    "# hX.GetXaxis().SetLabelSize(0)\n",
    "hX.GetYaxis().SetLabelSize(mg.GetYaxis().GetLabelSize()*ratio)\n",
    "rX = hX.Fit(\"gaus\", \"S\")\n",
    "hX.SetStats(False)\n",
    "hX.Draw()\n",
    "c2.Draw()\n",
    "c2.Print(\"hX.png\")"
   ]
  },
  {
   "cell_type": "code",
   "execution_count": 21,
   "metadata": {},
   "outputs": [
    {
     "name": "stdout",
     "output_type": "stream",
     "text": [
      " FCN=12.2911 FROM MIGRAD    STATUS=CONVERGED     104 CALLS         105 TOTAL\n",
      "                     EDM=5.40738e-10    STRATEGY= 1      ERROR MATRIX ACCURATE \n",
      "  EXT PARAMETER                                   STEP         FIRST   \n",
      "  NO.   NAME      VALUE            ERROR          SIZE      DERIVATIVE \n",
      "   1  Constant     2.05889e+00   4.74021e-01   6.13406e-04  -9.03589e-06\n",
      "   2  Mean         7.04621e-01   8.01874e-02   1.41636e-04   3.12188e-04\n",
      "   3  Sigma        3.03344e-01   1.17462e-01   2.25296e-04  -1.20991e-04\n"
     ]
    },
    {
     "data": {
      "image/png": "[encoded data removed]",
      "text/plain": [
       "<IPython.core.display.Image object>"
      ]
     },
     "metadata": {},
     "output_type": "display_data"
    }
   ],
   "source": [
    "c3 = ROOT.TCanvas(\"c3\", \"c3\", 420, 180)\n",
    "c3.SetLeftMargin(0.)\n",
    "c3.SetTopMargin(0.)\n",
    "xmin = mg.GetYaxis().GetXmin()\n",
    "xmax = mg.GetYaxis().GetXmax()\n",
    "modelY = (\"\", \"\", nbins, xmin, xmax)\n",
    "rdf_energy_pi_rev = rdf_energy_pi\n",
    "rdf_energy_pi_rev = rdf_energy_pi_rev.Define(\"reversedCnorm_cal\", f\"{xmax}-Cnorm_cal+{xmin}\")\n",
    "hY = rdf_energy_pi_rev.Histo1D(modelY, \"reversedCnorm_cal\")\n",
    "hY.SetFillStyle(0)\n",
    "hY.SetLineColor(palette['red'].GetNumber())\n",
    "hY.GetYaxis().SetLabelSize(mg.GetYaxis().GetLabelSize()*ratio)\n",
    "\n",
    "rY = hY.Fit(\"gaus\", \"S\")\n",
    "hY.SetStats(False)\n",
    "hY.Draw(\"Y+\")\n",
    "\n",
    "# Remove the current axis\n",
    "hY.GetXaxis().SetLabelOffset(999)\n",
    "hY.GetXaxis().SetTickLength(0)\n",
    "\n",
    "# Redraw the new axis\n",
    "ROOT.gPad.Update()\n",
    "newaxis = ROOT.TGaxis(ROOT.gPad.GetUxmax(), ROOT.gPad.GetUymin(),\n",
    "                      ROOT.gPad.GetUxmin(), ROOT.gPad.GetUymin(),\n",
    "                      xmin, xmax, 510, \"-\")\n",
    "newaxis.SetLabelOffset(-0.03)\n",
    "newaxis.Draw()\n",
    "\n",
    "ROOT.gPad.Update()\n",
    "for i in range(7):\n",
    "    hY.GetYaxis().ChangeLabel(i, 90., -1, 23)\n",
    "c3.Update()\n",
    "c3.Draw()\n",
    "c3.Print(\"hY.png\")"
   ]
  },
  {
   "cell_type": "code",
   "execution_count": 22,
   "metadata": {},
   "outputs": [
    {
     "data": {
      "image/png": "[encoded data removed]",
      "text/plain": [
       "<IPython.core.display.Image object>"
      ]
     },
     "metadata": {},
     "output_type": "display_data"
    }
   ],
   "source": [
    "c4 = ROOT.TCanvas(\"c4\", \"c4\", 600, 600)\n",
    "pad1 = ROOT.TPad(\"pad1\", \"pad1\", 0., 0., .7, .7); pad1.Draw()\n",
    "pad2 = ROOT.TPad(\"pad2\", \"pad2\", 0., .7, .7, 1.); pad2.Draw()\n",
    "pad3 = ROOT.TPad(\"pad3\", \"pad3\", .7, 0., 1., .7); pad3.Draw()\n",
    "# pad1\n",
    "pad1.cd()\n",
    "h_img = ROOT.TImage.Open(\"hXY.png\")\n",
    "h_img.Draw(\"x\")\n",
    "pad1.Update()\n",
    "# pad2\n",
    "pad2.cd()\n",
    "hX_img = ROOT.TImage.Open(\"hX.png\")\n",
    "hX_img.Draw(\"x\")\n",
    "pad2.Update()\n",
    "# pad3\n",
    "pad3.cd()\n",
    "hY_img = ROOT.TImage.Open(\"hY.png\")\n",
    "hY_img.Flip(270)\n",
    "hY_img.Draw(\"x\")\n",
    "pad3.Update()\n",
    "\n",
    "c4.Update()\n",
    "c4.Draw()\n",
    "c4.Print(\"final.png\")"
   ]
  },
  {
   "cell_type": "markdown",
   "metadata": {},
   "source": [
    "### Particle identification"
   ]
  },
  {
   "cell_type": "code",
   "execution_count": 23,
   "metadata": {},
   "outputs": [
    {
     "data": {
      "image/png": "[encoded data removed]",
      "text/plain": [
       "<IPython.core.display.Image object>"
      ]
     },
     "metadata": {},
     "output_type": "display_data"
    }
   ],
   "source": [
    "c6 = ROOT.TCanvas(\"c6\", \"c6\", 400, 400)\n",
    "model = (\"\",\"\", 40, 0., 2)\n",
    "h6_e = rdf_energy_e.Histo1D(model, \"CoverS\")\n",
    "h6_pi = rdf_energy_pi.Histo1D(model, \"CoverS\")\n",
    "h6_e.SetLineColor(palette['blue'].GetNumber())\n",
    "h6_pi.SetLineColor(palette['red'].GetNumber())\n",
    "h6_e.Draw()\n",
    "h6_pi.Draw(\"same\")\n",
    "c6.Draw()"
   ]
  },
  {
   "cell_type": "code",
   "execution_count": null,
   "metadata": {},
   "outputs": [],
   "source": []
  },
  {
   "cell_type": "markdown",
   "metadata": {},
   "source": [
    "## 3. Shower profiles"
   ]
  },
  {
   "cell_type": "code",
   "execution_count": 4,
   "metadata": {},
   "outputs": [],
   "source": [
    "path = \"/groups/hep/mojen/repositories/DREAM/Run/final_run/module\""
   ]
  },
  {
   "cell_type": "code",
   "execution_count": 5,
   "metadata": {},
   "outputs": [
    {
     "data": {
      "text/plain": [
       "True"
      ]
     },
     "execution_count": 5,
     "metadata": {},
     "output_type": "execute_result"
    }
   ],
   "source": [
    "getNij_code = '''\n",
    "using namespace ROOT::VecOps;\n",
    "RVec<int> getNi(RVec<int> v, int voxelsAlongY) {\n",
    "    return v / voxelsAlongY;\n",
    "};\n",
    "RVec<int> getNj(RVec<int> v, int voxelsAlongY) {\n",
    "    return v % voxelsAlongY;\n",
    "};\n",
    "'''\n",
    "ROOT.gInterpreter.Declare(getNij_code)"
   ]
  },
  {
   "cell_type": "code",
   "execution_count": 6,
   "metadata": {},
   "outputs": [
    {
     "data": {
      "text/plain": [
       "True"
      ]
     },
     "execution_count": 6,
     "metadata": {},
     "output_type": "execute_result"
    }
   ],
   "source": [
    "getRadialDistance_code = '''\n",
    "using namespace ROOT::VecOps;\n",
    "RVec<double> getRadialDistance(const RVec<double> &x, const RVec<double> &y)\n",
    "{ \n",
    "  auto mod = [](double x, double y) { return sqrt(x * x + y * y); };\n",
    "  return Map(x, y, mod);\n",
    "}\n",
    "'''\n",
    "ROOT.gInterpreter.Declare(getRadialDistance_code)"
   ]
  },
  {
   "cell_type": "code",
   "execution_count": 7,
   "metadata": {},
   "outputs": [
    {
     "data": {
      "text/plain": [
       "True"
      ]
     },
     "execution_count": 7,
     "metadata": {},
     "output_type": "execute_result"
    }
   ],
   "source": [
    "getArange_code ='''\n",
    "using namespace ROOT::VecOps;\n",
    "RVec<int> getArange(const int& a)\n",
    "{ \n",
    "  RVec<int> v(a);\n",
    "  std::iota(std::begin(v), std::end(v), 0);\n",
    "  return v;\n",
    "}\n",
    "'''\n",
    "ROOT.gInterpreter.Declare(getArange_code)"
   ]
  },
  {
   "cell_type": "code",
   "execution_count": 8,
   "metadata": {},
   "outputs": [
    {
     "data": {
      "text/plain": [
       "True"
      ]
     },
     "execution_count": 8,
     "metadata": {},
     "output_type": "execute_result"
    }
   ],
   "source": [
    "getRadialProfile_code ='''\n",
    "using namespace ROOT::VecOps;\n",
    "RVec<double> getRadialProfile(const RVec<double> &r, const RVec<double> &v1, const RVec<double> &xbins)\n",
    "{\n",
    "  double v2 = 0.;\n",
    "  RVec<double> v(xbins.size());\n",
    "  RVec<bool> c;\n",
    "  RVec<double> if_c_v1_else_v2;\n",
    "  for (size_t i = 0; i<xbins.size()-1; ++i) { \n",
    "    c = (r >= xbins.at(i)) && (r < xbins.at(i+1));\n",
    "    if_c_v1_else_v2 = Where(c, v1, v2);\n",
    "    v.at(i) = Sum(if_c_v1_else_v2);\n",
    "  }\n",
    "  return v;\n",
    "}\n",
    "'''\n",
    "ROOT.gInterpreter.Declare(getRadialProfile_code)"
   ]
  },
  {
   "cell_type": "code",
   "execution_count": 9,
   "metadata": {},
   "outputs": [],
   "source": [
    "# create dataframes\n",
    "treeName = \"B4\"\n",
    "rdf_profile = dict()\n",
    "for s in ['10GeV', '40GeV']:\n",
    "    fileName = os.path.join(path, f\"{s}/{s}.root\")\n",
    "    rdf_profile[s] = ROOT.ROOT.RDataFrame(treeName, os.path.join(path, fileName))\n",
    "    # define new columns\n",
    "    rdf_profile[s] = rdf_profile[s].Define(\"VecSignalScnt_corr\", leakageCorrection(\"VecSignalScnt\"))\n",
    "    rdf_profile[s] = rdf_profile[s].Define(\"VecSignalCkov_corr\", leakageCorrection(\"VecSignalCkov\"))"
   ]
  },
  {
   "cell_type": "code",
   "execution_count": 10,
   "metadata": {},
   "outputs": [],
   "source": [
    "for s, v in zip(['10GeV', '40GeV'], [\"Scnt\", \"Ckov\"]):\n",
    "    rdf_profile[s] = rdf_profile[s].Define(f\"{v}_i\", f\"getNi(VecIndex{v}, VoxelsAlongY)\")\n",
    "    rdf_profile[s] = rdf_profile[s].Define(f\"{v}_j\", f\"getNj(VecIndex{v}, VoxelsAlongY)\")\n",
    "    rdf_profile[s] = rdf_profile[s].Define(f\"{v}_x\", f\"{v}_j-VecShower{v}CoMj.at(0)\")\n",
    "    rdf_profile[s] = rdf_profile[s].Define(f\"{v}_y\", f\"{v}_i-VecShower{v}CoMi.at(0)\")\n",
    "    rdf_profile[s] = rdf_profile[s].Define(f\"{v}_norm\", f\"VecSignal{v}_corr/Sum(VecSignal{v}_corr)\")    \n",
    "#     rdf_profile[s] = rdf_profile[s].Define(f\"{v}_norm\", f\"RVec<double>(VecSignal{v})/Sum(VecSignal{v})\")    \n",
    "    rdf_profile[s] = rdf_profile[s].Define(f\"{v}_r_mm\", f\"1.5*getRadialDistance({v}_x, {v}_y)\")"
   ]
  },
  {
   "cell_type": "code",
   "execution_count": 11,
   "metadata": {},
   "outputs": [
    {
     "name": "stdout",
     "output_type": "stream",
     "text": [
      "29 0.0 17.4\n"
     ]
    }
   ],
   "source": [
    "binwidth = 0.6\n",
    "xlow = 0.\n",
    "xup = 1.5*np.sqrt(2*8**2)\n",
    "nbins = int(np.ceil((xup-xlow)/binwidth))\n",
    "xup = nbins*binwidth\n",
    "print(nbins, xlow, xup)"
   ]
  },
  {
   "cell_type": "markdown",
   "metadata": {},
   "source": [
    "Normalized signal INCLUDING under and overflow\n",
    "\n",
    "The signal is leakage corrected (normalization makes calibration void)\n",
    "\n",
    "The radial distance ($r_i$) between each individual fiber 𝑖 and the\n",
    "shower axis was then determined as Eq. 3 Antonello2018"
   ]
  },
  {
   "cell_type": "code",
   "execution_count": 38,
   "metadata": {},
   "outputs": [
    {
     "data": {
      "image/png": "[encoded data removed]",
      "text/plain": [
       "<IPython.core.display.Image object>"
      ]
     },
     "metadata": {},
     "output_type": "display_data"
    }
   ],
   "source": [
    "c8 = ROOT.TCanvas(\"c8\", \"c8\", 600, 600)\n",
    "ROOT.gStyle.SetOptStat(\"em\")\n",
    "x = [\"Scnt_r_mm\", \"Ckov_r_mm\"]\n",
    "y = [\"Scnt_norm\", \"Ckov_norm\"]\n",
    "p = [None, None]\n",
    "model = (\"\", \"\", nbins, xlow, xup)\n",
    "p[0] = rdf_profile['10GeV'].Profile1D(model, x[0], y[0])\n",
    "p[1] = rdf_profile['40GeV'].Profile1D(model, x[1], y[1])\n",
    "p[0].Draw()\n",
    "p[1].Draw(\"sames\")\n",
    "\n",
    "#\n",
    "p[0].SetLineColor(palette['blue'].GetNumber())\n",
    "p[1].SetLineColor(palette['red'].GetNumber())\n",
    "p[0].GetXaxis().SetTitle(\"Radial distance, #it{r_{i}} [mm]\")\n",
    "p[0].GetXaxis().SetRangeUser(0., 7.8)\n",
    "p[0].GetYaxis().SetTitle(f\"Fractional fibre signal / {binwidth} mm\")\n",
    "p[0].SetAxisRange(0., 0.5, \"Y\")\n",
    "\n",
    "#\n",
    "ROOT.gPad.SetLeftMargin(0.18)\n",
    "ROOT.gPad.SetBottomMargin(0.15)\n",
    "ROOT.gPad.SetRightMargin(0.02)\n",
    "ROOT.gPad.SetTopMargin(0.05)\n",
    "\n",
    "labelsize = 1 * p[0].GetYaxis().GetLabelSize()\n",
    "titlesize = 1.2 * p[0].GetYaxis().GetTitleSize()\n",
    "xtitleoffset = 1.3 * p[0].GetXaxis().GetTitleOffset()\n",
    "ytitleoffset = 1.4 * xtitleoffset\n",
    "xlabeloffset = 2 * p[0].GetXaxis().GetLabelOffset()\n",
    "ylabeloffset = 2 * p[0].GetYaxis().GetLabelOffset()\n",
    "linewidth = 3\n",
    "x2ndc = 0.89+0.08\n",
    "y2ndc = 0.88+0.05\n",
    "\n",
    "p[0].SetLineWidth(linewidth)\n",
    "p[1].SetLineWidth(linewidth)\n",
    "\n",
    "p[0].GetXaxis().SetTitleSize(titlesize)\n",
    "p[0].GetXaxis().SetLabelSize(labelsize)\n",
    "p[0].GetXaxis().CenterTitle()\n",
    "p[0].GetXaxis().SetTitleOffset(xtitleoffset)\n",
    "p[0].GetXaxis().SetLabelOffset(xlabeloffset)\n",
    "\n",
    "p[0].GetYaxis().SetTitleSize(titlesize)\n",
    "p[0].GetYaxis().SetLabelSize(labelsize)\n",
    "p[0].GetYaxis().CenterTitle()\n",
    "p[0].GetYaxis().SetTitleOffset(ytitleoffset)\n",
    "p[0].GetYaxis().SetLabelOffset(ylabeloffset)\n",
    "\n",
    "c8.Update()\n",
    "\n",
    "# stat box\n",
    "stats1 = p[0].GetListOfFunctions().FindObject(\"stats\")\n",
    "p[0].GetListOfFunctions().Remove(stats1)\n",
    "p[0].SetStats(0)\n",
    "stats1.GetLineWith(\"Mean y\").SetTextColor(0)\n",
    "stats1.SetTextColor(palette['blue'].GetNumber())\n",
    "stats1.SetX2NDC(x2ndc)\n",
    "stats1.SetY2NDC(y2ndc)\n",
    "stats1.SetX1NDC(stats1.GetX2NDC()-0.3)\n",
    "stats1.SetY1NDC(stats1.GetY2NDC()-0.1)\n",
    "stats1.SetTextSize(labelsize)\n",
    "stats1.SetBorderSize(0)\n",
    "stats1.GetListOfLines().Remove(stats1.GetLineWith(\"Mean y\"))\n",
    "stats1.Draw()\n",
    "p[0].SetStats(0)\n",
    "\n",
    "stats2 = p[1].GetListOfFunctions().FindObject(\"stats\")\n",
    "p[1].GetListOfFunctions().Remove(stats2)\n",
    "p[1].SetStats(0)\n",
    "stats2.SetTextColor(palette['red'].GetNumber())\n",
    "stats2.SetX2NDC(stats1.GetX2NDC())\n",
    "stats2.SetY2NDC(stats1.GetY1NDC())\n",
    "stats2.SetX1NDC(stats1.GetX1NDC())\n",
    "stats2.SetY1NDC(stats1.GetY1NDC()-0.1)\n",
    "stats2.SetTextSize(labelsize)\n",
    "stats2.SetBorderSize(0)\n",
    "stats2.GetListOfLines().Remove(stats2.GetLineWith(\"Mean y\"))\n",
    "stats2.Draw()\n",
    "p[1].SetStats(0)\n",
    "\n",
    "# legend\n",
    "legend = ROOT.TLegend(stats1.GetX1NDC()+0.07, 0.2, stats1.GetX2NDC(), 0.3)\n",
    "legend.SetFillColor(0)\n",
    "#legend.SetTextAlign(ROOT.kHAlignLeft+ROOT.kVAlignTop)\n",
    "legend.SetBorderSize(0)\n",
    "legend.SetTextSize(labelsize)\n",
    "legend.AddEntry(p[0].GetValue(), \"Scintillation\", \"l\")\n",
    "legend.AddEntry(p[1].GetValue(), \"#check{C}erenkov\", \"l\")\n",
    "legend.Draw()\n",
    "\n",
    "c8.Modified()\n",
    "\n",
    "c8.Update()\n",
    "c8.Draw()\n",
    "c8.SaveAs(\"LateralProfile.png\")"
   ]
  },
  {
   "cell_type": "code",
   "execution_count": null,
   "metadata": {},
   "outputs": [],
   "source": []
  },
  {
   "cell_type": "code",
   "execution_count": null,
   "metadata": {},
   "outputs": [],
   "source": []
  }
 ],
 "metadata": {
  "kernelspec": {
   "display_name": "Python 3",
   "language": "python",
   "name": "python3"
  },
  "language_info": {
   "codemirror_mode": {
    "name": "ipython",
    "version": 3
   },
   "file_extension": ".py",
   "mimetype": "text/x-python",
   "name": "python",
   "nbconvert_exporter": "python",
   "pygments_lexer": "ipython3",
   "version": "3.6.5"
  }
 },
 "nbformat": 4,
 "nbformat_minor": 2
}
