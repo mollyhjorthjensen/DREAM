{
 "cells": [
  {
   "cell_type": "markdown",
   "metadata": {},
   "source": [
    "# Validation"
   ]
  },
  {
   "cell_type": "markdown",
   "metadata": {},
   "source": [
    "### Helpers"
   ]
  },
  {
   "cell_type": "code",
   "execution_count": 1,
   "metadata": {},
   "outputs": [
    {
     "name": "stdout",
     "output_type": "stream",
     "text": [
      "Welcome to JupyROOT 6.18/00\n"
     ]
    }
   ],
   "source": [
    "# import libraries\n",
    "import os\n",
    "import ROOT\n",
    "import numpy as np"
   ]
  },
  {
   "cell_type": "code",
   "execution_count": 2,
   "metadata": {},
   "outputs": [],
   "source": [
    "# color palette\n",
    "blue = ROOT.TColor(ROOT.TColor.GetFreeColorIndex(), 31., 119., 180.)\n",
    "orange = ROOT.TColor(ROOT.TColor.GetFreeColorIndex(), 255., 127., 14.)\n",
    "green = ROOT.TColor(ROOT.TColor.GetFreeColorIndex(), 44., 160., 44.)\n",
    "red = ROOT.TColor(ROOT.TColor.GetFreeColorIndex(), 214., 39., 40.)\n",
    "purple = ROOT.TColor(ROOT.TColor.GetFreeColorIndex(), 148., 103., 189.)\n",
    "palette = {'blue': blue, 'orange': orange, 'green': green, 'red': red, 'purple': purple}"
   ]
  },
  {
   "cell_type": "code",
   "execution_count": 3,
   "metadata": {},
   "outputs": [],
   "source": [
    "def leakageCorrection(col):\n",
    "    return f\"{col}*PrimaryParticleEnergy/(PrimaryParticleEnergy-EscapedEnergy)\"\n",
    "\n",
    "def modifiedZscore(rdf, col, D=3.5):\n",
    "    x = rdf.AsNumpy(columns=[col])[col]\n",
    "    xtilde = np.median(x)\n",
    "    MAD = np.median(np.abs(x-xtilde))\n",
    "    return f\"abs(0.6745*({col}-({xtilde}))/{MAD}) <= {D}\""
   ]
  },
  {
   "cell_type": "markdown",
   "metadata": {},
   "source": [
    "### Create dataframe"
   ]
  },
  {
   "cell_type": "code",
   "execution_count": 4,
   "metadata": {},
   "outputs": [],
   "source": [
    "# create rdataframe\n",
    "treeName = \"B4\"\n",
    "path = \"/groups/hep/mojen/repositories/DREAM/Run\"\n",
    "fileName = os.path.join(path, \"B4.root\")\n",
    "rdf = ROOT.ROOT.RDataFrame(treeName, os.path.join(path, fileName))\n",
    "# define new columns\n",
    "rdf = rdf.Define(\"VectorSignals_cal\", leakageCorrection(\"VectorSignals\"))\n",
    "rdf = rdf.Define(\"VectorSignalsCher_cal\", leakageCorrection(\"VectorSignalsCher\"))\n",
    "rdf = rdf.Define(\"Ssum\", \"Sum(VectorSignals_cal)\")\n",
    "rdf = rdf.Define(\"Csum\", \"Sum(VectorSignalsCher_cal)\")"
   ]
  },
  {
   "cell_type": "markdown",
   "metadata": {},
   "source": [
    "### Calibration"
   ]
  },
  {
   "cell_type": "code",
   "execution_count": 5,
   "metadata": {},
   "outputs": [
    {
     "name": "stdout",
     "output_type": "stream",
     "text": [
      "Cut1      : pass=100        all=100        -- eff=100.00 % cumulative eff=100.00 %\n",
      "Cut2      : pass=81         all=100        -- eff=81.00 % cumulative eff=81.00 %\n",
      "Cut1      : pass=100        all=100        -- eff=100.00 % cumulative eff=100.00 %\n",
      "Cut2      : pass=82         all=100        -- eff=82.00 % cumulative eff=82.00 %\n"
     ]
    }
   ],
   "source": [
    "rdf_e = rdf.Range(100)\n",
    "rdf_eS = rdf_e.Filter(\"Ssum > 0.\", \"Cut1\").Define(\"Snorm\", \"PrimaryParticleEnergy/Ssum\")\n",
    "rdf_eC = rdf_e.Filter(\"Csum > 0.\", \"Cut1\").Define(\"Cnorm\", \"PrimaryParticleEnergy/Csum\")\n",
    "# modified Z score\n",
    "rdf_eS = rdf_eS.Filter(modifiedZscore(rdf_eS, \"Snorm\"), \"Cut2\")\n",
    "rdf_eC = rdf_eC.Filter(modifiedZscore(rdf_eC, \"Cnorm\"), \"Cut2\")\n",
    "# print cuts report\n",
    "cutsReport_eS = rdf_eS.Report()\n",
    "cutsReport_eS.Print()\n",
    "cutsReport_eC = rdf_eC.Report()\n",
    "cutsReport_eC.Print()"
   ]
  },
  {
   "cell_type": "code",
   "execution_count": 6,
   "metadata": {},
   "outputs": [
    {
     "name": "stdout",
     "output_type": "stream",
     "text": [
      " FCN=25.1536 FROM MIGRAD    STATUS=CONVERGED     173 CALLS         174 TOTAL\n",
      "                     EDM=7.41978e-10    STRATEGY= 1      ERROR MATRIX ACCURATE \n",
      "  EXT PARAMETER                                   STEP         FIRST   \n",
      "  NO.   NAME      VALUE            ERROR          SIZE      DERIVATIVE \n",
      "   1  Constant     1.76775e+00   3.25788e-01   5.90774e-04  -1.51756e-05\n",
      "   2  Mean         2.59639e+01   8.86060e-01   1.71309e-03   4.25334e-05\n",
      "   3  Sigma        2.64399e+00   1.46190e+00   4.62159e-04   1.51399e-06\n",
      " FCN=18.2356 FROM MIGRAD    STATUS=CONVERGED     109 CALLS         110 TOTAL\n",
      "                     EDM=2.34033e-09    STRATEGY= 1      ERROR MATRIX ACCURATE \n",
      "  EXT PARAMETER                                   STEP         FIRST   \n",
      "  NO.   NAME      VALUE            ERROR          SIZE      DERIVATIVE \n",
      "   1  Constant     2.13245e+00   5.30232e-01   5.71841e-04  -1.13973e-04\n",
      "   2  Mean         2.61905e+01   4.32153e-01   8.82835e-04  -2.14734e-05\n",
      "   3  Sigma        2.20051e+00   1.02397e+00   2.08612e-04   2.76529e-05\n"
     ]
    },
    {
     "data": {
      "image/png": "[encoded data removed]",
      "text/plain": [
       "<IPython.core.display.Image object>"
      ]
     },
     "metadata": {},
     "output_type": "display_data"
    }
   ],
   "source": [
    "c1 = ROOT.TCanvas(\"c\", \"c\", 800, 400)\n",
    "c1.Divide(2)\n",
    "col = [\"Snorm\", \"Cnorm\"]\n",
    "d = [rdf_eS, rdf_eC]\n",
    "h = [None, None]\n",
    "mean = [None, None]\n",
    "for i in range(len(col)):\n",
    "    c1.cd(i+1)\n",
    "    ROOT.gStyle.SetOptStat(\"nemr ou\")\n",
    "    ROOT.gStyle.SetOptFit(1111)\n",
    "    ROOT.gPad.SetLeftMargin(0.12)\n",
    "    ROOT.gPad.SetBottomMargin(0.12)\n",
    "    ROOT.gPad.SetRightMargin(0.08)\n",
    "    ROOT.gPad.SetTopMargin(0.08)\n",
    "    h[i] = d[i].Histo1D(col[i])\n",
    "    h[i].GetXaxis().SetTitle(col[i])\n",
    "    h[i].GetXaxis().SetTitleSize(0.04)\n",
    "    h[i].GetYaxis().SetTitle(\"Events\")\n",
    "    h[i].GetYaxis().SetTitleSize(0.04)\n",
    "    h[i].DrawCopy(\"E1\")\n",
    "    r = h[i].Fit(\"gaus\", \"S\")\n",
    "    h[i].SetLineColor(palette['blue'].GetNumber())\n",
    "    h[i].SetLineWidth(2)\n",
    "    gaus = h[i].GetFunction(\"gaus\")\n",
    "    gaus.SetLineColor(palette['red'].GetNumber())\n",
    "    gaus.SetLineWidth(2)\n",
    "    mean[i] = r.Parameter(1)\n",
    "    rms = r.Parameter(2)\n",
    "    # add legend\n",
    "    legend = ROOT.TLegend(0.62, 0.2, 0.82, 0.3)\n",
    "    legend.SetFillColor(0)\n",
    "    legend.SetBorderSize(0)\n",
    "    legend.SetTextSize(0.03)\n",
    "    legend.AddEntry(h[i].GetValue(), \"Simulated data\", \"l\")\n",
    "    legend.AddEntry(gaus, \"Gaussian fit\", \"l\")\n",
    "    legend.Draw()\n",
    "    \n",
    "ROOT.gPad.Modified()\n",
    "ROOT.gPad.Update()\n",
    "c1.Draw()\n",
    "\n",
    "S_cal = mean[0]\n",
    "C_cal = mean[1]"
   ]
  },
  {
   "cell_type": "markdown",
   "metadata": {},
   "source": [
    "### Chi"
   ]
  },
  {
   "cell_type": "code",
   "execution_count": 7,
   "metadata": {},
   "outputs": [],
   "source": [
    "rdf2 = rdf\n",
    "rdf2 = rdf2.Define(\"Ssum_cal\", f\"Ssum*{S_cal}\")\n",
    "rdf2 = rdf2.Define(\"Csum_cal\", f\"Csum*{C_cal}\")\n",
    "rdf2 = rdf2.Filter(\"PrimaryParticleEnergy > 0.\").Define(\"Snorm_cal\", \"Ssum_cal/PrimaryParticleEnergy\")\n",
    "rdf2 = rdf2.Define(\"Cnorm_cal\", \"Csum_cal/PrimaryParticleEnergy\")\n",
    "rdf2 = rdf2.Define(\"chi\", \"(1-Snorm_cal)/(1-Cnorm_cal)\")\n",
    "rdf2_e = rdf2.Range(100)\n",
    "rdf2_pi = rdf2.Range(100, 200)"
   ]
  },
  {
   "cell_type": "code",
   "execution_count": 8,
   "metadata": {},
   "outputs": [
    {
     "name": "stdout",
     "output_type": "stream",
     "text": [
      "Cut1      : pass=100        all=100        -- eff=100.00 % cumulative eff=100.00 %\n",
      "Cut2      : pass=81         all=100        -- eff=81.00 % cumulative eff=81.00 %\n"
     ]
    }
   ],
   "source": [
    "# modified Z score\n",
    "rdf2_pi = rdf2_pi.Filter(modifiedZscore(rdf2_pi, \"chi\"), \"Cut2\")\n",
    "# print cuts report\n",
    "cutsReport_eS = rdf_eS.Report()\n",
    "cutsReport_eS.Print()"
   ]
  },
  {
   "cell_type": "code",
   "execution_count": 9,
   "metadata": {},
   "outputs": [
    {
     "name": "stdout",
     "output_type": "stream",
     "text": [
      " FCN=23.396 FROM MIGRAD    STATUS=CONVERGED     106 CALLS         107 TOTAL\n",
      "                     EDM=4.03147e-08    STRATEGY= 1      ERROR MATRIX ACCURATE \n",
      "  EXT PARAMETER                                   STEP         FIRST   \n",
      "  NO.   NAME      VALUE            ERROR          SIZE      DERIVATIVE \n",
      "   1  Constant     2.04307e+00   3.30001e-01   6.03784e-04   9.47063e-04\n",
      "   2  Mean         3.37425e-01   5.07791e-02   1.22338e-04   5.51007e-04\n",
      "   3  Sigma        2.42260e-01   7.40936e-02   2.66732e-04   2.43847e-03\n"
     ]
    },
    {
     "data": {
      "image/png": "[encoded data removed]",
      "text/plain": [
       "<IPython.core.display.Image object>"
      ]
     },
     "metadata": {},
     "output_type": "display_data"
    }
   ],
   "source": [
    "c2 = ROOT.TCanvas(\"c\", \"c\", 400, 400)\n",
    "col = [\"chi\"]\n",
    "d = [rdf2_pi]\n",
    "h = [None]\n",
    "mean = [None]\n",
    "for i in range(len(col)):\n",
    "    c2.cd(i+1)\n",
    "    ROOT.gStyle.SetOptStat(\"nemr ou\")\n",
    "    ROOT.gStyle.SetOptFit(1111)\n",
    "    ROOT.gPad.SetLeftMargin(0.12)\n",
    "    ROOT.gPad.SetBottomMargin(0.12)\n",
    "    ROOT.gPad.SetRightMargin(0.08)\n",
    "    ROOT.gPad.SetTopMargin(0.08)\n",
    "    h[i] = d[i].Histo1D(col[i])\n",
    "    h[i].GetXaxis().SetTitle(col[i])\n",
    "    h[i].GetXaxis().SetTitleSize(0.04)\n",
    "    h[i].GetYaxis().SetTitle(\"Events\")\n",
    "    h[i].GetYaxis().SetTitleSize(0.04)\n",
    "    h[i].DrawCopy(\"E1\")\n",
    "    r = h[i].Fit(\"gaus\", \"S\")\n",
    "    h[i].SetLineColor(palette['blue'].GetNumber())\n",
    "    h[i].SetLineWidth(2)\n",
    "    gaus = h[i].GetFunction(\"gaus\")\n",
    "    gaus.SetLineColor(palette['red'].GetNumber())\n",
    "    gaus.SetLineWidth(2)\n",
    "    mean[i] = r.Parameter(1)\n",
    "    rms = r.Parameter(2)\n",
    "    # add legend\n",
    "    legend = ROOT.TLegend(0.62, 0.2, 0.82, 0.3)\n",
    "    legend.SetFillColor(0)\n",
    "    legend.SetBorderSize(0)\n",
    "    legend.SetTextSize(0.03)\n",
    "    legend.AddEntry(h[i].GetValue(), \"Simulated data\", \"l\")\n",
    "    legend.AddEntry(gaus, \"Gaussian fit\", \"l\")\n",
    "    legend.Draw()\n",
    "    \n",
    "ROOT.gPad.Modified()\n",
    "ROOT.gPad.Update()\n",
    "c2.Draw()\n",
    "\n",
    "chi = mean[0]"
   ]
  },
  {
   "cell_type": "markdown",
   "metadata": {},
   "source": [
    "### C/E vs S/E"
   ]
  },
  {
   "cell_type": "code",
   "execution_count": 10,
   "metadata": {},
   "outputs": [],
   "source": [
    "gr1 = rdf2_e.Graph(\"Snorm_cal\", \"Cnorm_cal\")\n",
    "gr2 = rdf2_pi.Graph(\"Snorm_cal\", \"Cnorm_cal\")\n",
    "\n",
    "gr1.SetMarkerColor(palette['blue'].GetNumber())\n",
    "gr2.SetMarkerColor(palette['red'].GetNumber())\n",
    "gr1.SetMarkerStyle(ROOT.kFullDotSmall)\n",
    "gr2.SetMarkerStyle(ROOT.kFullDotSmall)"
   ]
  },
  {
   "cell_type": "code",
   "execution_count": 11,
   "metadata": {},
   "outputs": [
    {
     "data": {
      "image/png": "[encoded data removed]",
      "text/plain": [
       "<IPython.core.display.Image object>"
      ]
     },
     "metadata": {},
     "output_type": "display_data"
    }
   ],
   "source": [
    "c3 = ROOT.TCanvas(\"c2\", \"c2\", 400, 400)\n",
    "mg = ROOT.TMultiGraph()\n",
    "mg.Add(gr1.GetPtr())\n",
    "mg.Add(gr2.GetPtr())\n",
    "mg.Draw(\"ap\")\n",
    "\n",
    "# axis settings\n",
    "mg.GetXaxis().SetLimits(0., 1.2)\n",
    "mg.GetYaxis().SetRangeUser(0., 1.2)\n",
    "mg.GetXaxis().SetTitle(\"S/E\")\n",
    "mg.GetYaxis().SetTitle(\"C/E\")\n",
    "\n",
    "# add legend\n",
    "legend = ROOT.TLegend(0.12, 0.78, 0.32, 0.88)\n",
    "legend.SetFillColor(0)\n",
    "legend.SetBorderSize(0)\n",
    "legend.SetTextSize(0.03)\n",
    "legend.AddEntry(gr1.GetValue(), \"e-\", \"p\")\n",
    "legend.AddEntry(gr2.GetValue(), \"pi-\", \"p\")\n",
    "legend.Draw()\n",
    "\n",
    "ROOT.gPad.Modified()\n",
    "ROOT.gPad.Update()\n",
    "c3.Draw()"
   ]
  },
  {
   "cell_type": "code",
   "execution_count": null,
   "metadata": {},
   "outputs": [],
   "source": []
  },
  {
   "cell_type": "code",
   "execution_count": null,
   "metadata": {},
   "outputs": [],
   "source": []
  }
 ],
 "metadata": {
  "kernelspec": {
   "display_name": "Python 3",
   "language": "python",
   "name": "python3"
  },
  "language_info": {
   "codemirror_mode": {
    "name": "ipython",
    "version": 3
   },
   "file_extension": ".py",
   "mimetype": "text/x-python",
   "name": "python",
   "nbconvert_exporter": "python",
   "pygments_lexer": "ipython3",
   "version": "3.6.5"
  }
 },
 "nbformat": 4,
 "nbformat_minor": 2
}
