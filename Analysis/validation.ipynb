{
 "cells": [
  {
   "cell_type": "markdown",
   "metadata": {},
   "source": [
    "# Validation"
   ]
  },
  {
   "cell_type": "code",
   "execution_count": 1,
   "metadata": {},
   "outputs": [
    {
     "name": "stdout",
     "output_type": "stream",
     "text": [
      "Welcome to JupyROOT 6.18/00\n"
     ]
    }
   ],
   "source": [
    "# import libraries\n",
    "import os\n",
    "import ROOT\n",
    "import numpy as np\n",
    "from scipy import stats"
   ]
  },
  {
   "cell_type": "code",
   "execution_count": 2,
   "metadata": {},
   "outputs": [],
   "source": [
    "# color palette\n",
    "blue = ROOT.TColor(ROOT.TColor.GetFreeColorIndex(), 31., 119., 180.)\n",
    "orange = ROOT.TColor(ROOT.TColor.GetFreeColorIndex(), 255., 127., 14.)\n",
    "green = ROOT.TColor(ROOT.TColor.GetFreeColorIndex(), 44., 160., 44.)\n",
    "red = ROOT.TColor(ROOT.TColor.GetFreeColorIndex(), 214., 39., 40.)\n",
    "purple = ROOT.TColor(ROOT.TColor.GetFreeColorIndex(), 148., 103., 189.)\n",
    "palette = {'blue': blue, 'orange': orange, 'green': green, 'red': red, 'purple': purple}"
   ]
  },
  {
   "cell_type": "markdown",
   "metadata": {},
   "source": [
    "## 0. Create dataframes"
   ]
  },
  {
   "cell_type": "code",
   "execution_count": 3,
   "metadata": {},
   "outputs": [],
   "source": [
    "# helpers\n",
    "def leakageCorrection(col):\n",
    "    return f\"{col}*PrimaryEnergy/(PrimaryEnergy-LateralLeakage)\"\n",
    "\n",
    "def modifiedZscore(rdf, col, D=3.5):\n",
    "    x = rdf.AsNumpy(columns=[col])[col]\n",
    "    xtilde = np.median(x)\n",
    "    MAD = np.median(np.abs(x-xtilde))\n",
    "    return f\"abs(0.6745*({col}-({xtilde}))/{MAD}) <= {D}\""
   ]
  },
  {
   "cell_type": "code",
   "execution_count": 4,
   "metadata": {},
   "outputs": [],
   "source": [
    "# create rdataframe\n",
    "treeName = \"B4\"\n",
    "path = \"/groups/hep/mojen/repositories/DREAM/Run/shower_validation\"\n",
    "fileName = os.path.join(path, \"B4.root\")\n",
    "rdf = ROOT.ROOT.RDataFrame(treeName, os.path.join(path, fileName))\n",
    "# define new columns\n",
    "rdf = rdf.Define(\"VecSignalScnt_corr\", leakageCorrection(\"VecSignalScnt\"))\n",
    "rdf = rdf.Define(\"VecSignalCkov_corr\", leakageCorrection(\"VecSignalCkov\" ))\n",
    "rdf = rdf.Define(\"Ssum\", \"Sum(VecSignalScnt_corr)\")\n",
    "rdf = rdf.Define(\"Csum\", \"Sum(VecSignalCkov_corr)\")"
   ]
  },
  {
   "cell_type": "code",
   "execution_count": 5,
   "metadata": {},
   "outputs": [
    {
     "data": {
      "image/png": "[encoded data removed]",
      "text/plain": [
       "<IPython.core.display.Image object>"
      ]
     },
     "metadata": {},
     "output_type": "display_data"
    }
   ],
   "source": [
    "c1 = ROOT.TCanvas(\"c\", \"c\", 800, 400)\n",
    "c1.Divide(2)\n",
    "c1.cd(1)\n",
    "model = (\"\", \"\", 100, 0., 2000.)\n",
    "h1a = rdf.Filter(\"PrimaryPDG == 11\").Histo1D(model, \"Ssum\")\n",
    "h1b = rdf.Filter(\"PrimaryPDG == -211\").Histo1D(model, \"Ssum\")\n",
    "h1a.Draw()\n",
    "h1b.SetLineColor(ROOT.kRed)\n",
    "h1b.Draw(\"SAME\")\n",
    "c1.cd(2)\n",
    "h2a = rdf.Filter(\"PrimaryPDG == 11\").Histo1D(model, \"Csum\")\n",
    "h2b = rdf.Filter(\"PrimaryPDG == -211\").Histo1D(model, \"Csum\")\n",
    "h2a.Draw()\n",
    "h2b.SetLineColor(ROOT.kRed)\n",
    "h2b.Draw(\"SAME\")\n",
    "c1.Draw()"
   ]
  },
  {
   "cell_type": "markdown",
   "metadata": {},
   "source": [
    "## 1. Calibration"
   ]
  },
  {
   "cell_type": "markdown",
   "metadata": {},
   "source": [
    "### 50 GeV electrons -> S_cal, C_cal"
   ]
  },
  {
   "cell_type": "code",
   "execution_count": 6,
   "metadata": {},
   "outputs": [
    {
     "name": "stdout",
     "output_type": "stream",
     "text": [
      "electron  : pass=50         all=100        -- eff=50.00 % cumulative eff=50.00 %\n",
      "Cut1      : pass=50         all=50         -- eff=100.00 % cumulative eff=50.00 %\n",
      "Cut2      : pass=50         all=50         -- eff=100.00 % cumulative eff=50.00 %\n",
      "electron  : pass=50         all=100        -- eff=50.00 % cumulative eff=50.00 %\n",
      "Cut1      : pass=50         all=50         -- eff=100.00 % cumulative eff=50.00 %\n",
      "Cut2      : pass=50         all=50         -- eff=100.00 % cumulative eff=50.00 %\n"
     ]
    }
   ],
   "source": [
    "rdf_cal = rdf.Filter(\"PrimaryPDG == 11\", \"electron\")\n",
    "rdf_cal_S = rdf_cal.Filter(\"Ssum > 0.\", \"Cut1\").Define(\"Snorm\", \"PrimaryEnergy/Ssum\")\n",
    "rdf_cal_C = rdf_cal.Filter(\"Csum > 0.\", \"Cut1\").Define(\"Cnorm\", \"PrimaryEnergy/Csum\")\n",
    "# modified Z score\n",
    "rdf_cal_S = rdf_cal_S.Filter(modifiedZscore(rdf_cal_S, \"Snorm\"), \"Cut2\")\n",
    "rdf_cal_C = rdf_cal_C.Filter(modifiedZscore(rdf_cal_C, \"Cnorm\"), \"Cut2\")\n",
    "# print cuts report\n",
    "cutsReport_S = rdf_cal_S.Report()\n",
    "cutsReport_S.Print()\n",
    "cutsReport_C = rdf_cal_C.Report()\n",
    "cutsReport_C.Print()"
   ]
  },
  {
   "cell_type": "code",
   "execution_count": 7,
   "metadata": {},
   "outputs": [
    {
     "name": "stdout",
     "output_type": "stream",
     "text": [
      "0.1339824334535534 5.815601267911911\n",
      " FCN=7.5666 FROM MIGRAD    STATUS=CONVERGED     106 CALLS         107 TOTAL\n",
      "                     EDM=9.10778e-08    STRATEGY= 1      ERROR MATRIX ACCURATE \n",
      "  EXT PARAMETER                                   STEP         FIRST   \n",
      "  NO.   NAME      VALUE            ERROR          SIZE      DERIVATIVE \n",
      "   1  Constant     1.53273e+00   3.25615e-01   3.36078e-04   1.00002e-03\n",
      "   2  Mean         1.35010e-01   3.37441e-03   4.79032e-06  -1.03044e-01\n",
      "   3  Sigma        1.11620e-02   6.09114e-03   2.89881e-04   1.40649e-03\n",
      " FCN=6.61415 FROM MIGRAD    STATUS=CONVERGED     154 CALLS         155 TOTAL\n",
      "                     EDM=2.80091e-07    STRATEGY= 1      ERROR MATRIX ACCURATE \n",
      "  EXT PARAMETER                                   STEP         FIRST   \n",
      "  NO.   NAME      VALUE            ERROR          SIZE      DERIVATIVE \n",
      "   1  Constant     1.24389e+00   2.55594e-01   2.54299e-04  -1.00478e-03\n",
      "   2  Mean         5.77033e+00   3.26631e-01   4.36233e-04   1.97767e-03\n",
      "   3  Sigma        7.10573e-01   7.52023e-01   8.17997e-04   3.48439e-05\n"
     ]
    },
    {
     "data": {
      "image/png": "[encoded data removed]",
      "text/plain": [
       "<IPython.core.display.Image object>"
      ]
     },
     "metadata": {},
     "output_type": "display_data"
    }
   ],
   "source": [
    "c1 = ROOT.TCanvas(\"c\", \"c\", 800, 400)\n",
    "c1.Divide(2)\n",
    "col = [\"Snorm\", \"Cnorm\"]\n",
    "d = [rdf_cal_S, rdf_cal_C]\n",
    "h = [None, None]\n",
    "mean = [None, None]\n",
    "for i in range(len(col)):\n",
    "    c1.cd(i+1)\n",
    "    ROOT.gStyle.SetOptStat(\"nemr ou\")\n",
    "    ROOT.gStyle.SetOptFit(1111)\n",
    "    ROOT.gPad.SetLeftMargin(0.12)\n",
    "    ROOT.gPad.SetBottomMargin(0.12)\n",
    "    ROOT.gPad.SetRightMargin(0.08)\n",
    "    ROOT.gPad.SetTopMargin(0.08)\n",
    "    h[i] = d[i].Histo1D(col[i])\n",
    "    h[i].GetXaxis().SetTitle(col[i])\n",
    "    h[i].GetXaxis().SetTitleSize(0.04)\n",
    "    h[i].GetYaxis().SetTitle(\"Events\")\n",
    "    h[i].GetYaxis().SetTitleSize(0.04)\n",
    "    h[i].DrawCopy(\"E1\")\n",
    "    r = h[i].Fit(\"gaus\", \"S\")\n",
    "    h[i].SetLineColor(palette['blue'].GetNumber())\n",
    "    h[i].SetLineWidth(2)\n",
    "    gaus = h[i].GetFunction(\"gaus\")\n",
    "    gaus.SetLineColor(palette['red'].GetNumber())\n",
    "    gaus.SetLineWidth(2)\n",
    "    mean[i] = r.Parameter(1)\n",
    "    rms = r.Parameter(2)\n",
    "    # add legend\n",
    "    legend = ROOT.TLegend(0.62, 0.2, 0.82, 0.3)\n",
    "    legend.SetFillColor(0)\n",
    "    legend.SetBorderSize(0)\n",
    "    legend.SetTextSize(0.03)\n",
    "    legend.AddEntry(h[i].GetValue(), \"Simulated data\", \"l\")\n",
    "    legend.AddEntry(gaus, \"Gaussian fit\", \"l\")\n",
    "    legend.Draw()\n",
    "    \n",
    "ROOT.gPad.Modified()\n",
    "ROOT.gPad.Update()\n",
    "c1.Draw()\n",
    "\n",
    "# S_cal = mean[0]\n",
    "# C_cal = mean[1]\n",
    "\n",
    "S_cal = rdf_cal_S.Mean(\"Snorm\").GetValue()\n",
    "C_cal = rdf_cal_C.Mean(\"Cnorm\").GetValue()\n",
    "print(S_cal, C_cal)"
   ]
  },
  {
   "cell_type": "markdown",
   "metadata": {},
   "source": [
    "### 50 GeV pions -> chi"
   ]
  },
  {
   "cell_type": "markdown",
   "metadata": {},
   "source": [
    "NB! Should use S_cal, C_cal on new independent data which is not done here"
   ]
  },
  {
   "cell_type": "code",
   "execution_count": 8,
   "metadata": {},
   "outputs": [],
   "source": [
    "rdf_chi = rdf\n",
    "rdf_chi = rdf_chi.Define(\"Ssum_cal\", f\"Ssum*{S_cal}\")\n",
    "rdf_chi = rdf_chi.Define(\"Csum_cal\", f\"Csum*{C_cal}\")\n",
    "rdf_chi = rdf_chi.Define(\"CoverS\", \"Csum_cal/Ssum_cal\")\n",
    "rdf_chi = rdf_chi.Define(\"Snorm_cal\", \"Ssum_cal/PrimaryEnergy\")\n",
    "rdf_chi = rdf_chi.Define(\"Cnorm_cal\", \"Csum_cal/PrimaryEnergy\")\n",
    "rdf_chi = rdf_chi.Define(\"chi\", \"(1-Snorm_cal)/(1-Cnorm_cal)\")"
   ]
  },
  {
   "cell_type": "code",
   "execution_count": 9,
   "metadata": {},
   "outputs": [
    {
     "name": "stdout",
     "output_type": "stream",
     "text": [
      "pion      : pass=50         all=100        -- eff=50.00 % cumulative eff=50.00 %\n",
      "Cut2      : pass=50         all=50         -- eff=100.00 % cumulative eff=50.00 %\n"
     ]
    }
   ],
   "source": [
    "rdf_chi_pi = rdf_chi.Filter(\"PrimaryPDG == -211\", \"pion\")\n",
    "# modified Z score\n",
    "rdf_chi_pi = rdf_chi_pi.Filter(modifiedZscore(rdf_chi, \"chi\"), \"Cut2\")\n",
    "# print cuts report\n",
    "cutsReport_chi_pi = rdf_chi_pi.Report()\n",
    "cutsReport_chi_pi.Print()"
   ]
  },
  {
   "cell_type": "code",
   "execution_count": 10,
   "metadata": {},
   "outputs": [
    {
     "name": "stdout",
     "output_type": "stream",
     "text": [
      " FCN=7.38048 FROM MIGRAD    STATUS=CONVERGED      90 CALLS          91 TOTAL\n",
      "                     EDM=1.03842e-08    STRATEGY= 1      ERROR MATRIX ACCURATE \n",
      "  EXT PARAMETER                                   STEP         FIRST   \n",
      "  NO.   NAME      VALUE            ERROR          SIZE      DERIVATIVE \n",
      "   1  Constant     2.00190e+00   4.51033e-01   4.33267e-04   2.80246e-04\n",
      "   2  Mean         5.97981e-01   8.67460e-02   1.19404e-04  -4.57299e-04\n",
      "   3  Sigma        3.38740e-01   1.48226e-01   1.81733e-04   9.95722e-04\n"
     ]
    },
    {
     "data": {
      "image/png": "[encoded data removed]",
      "text/plain": [
       "<IPython.core.display.Image object>"
      ]
     },
     "metadata": {},
     "output_type": "display_data"
    }
   ],
   "source": [
    "c2 = ROOT.TCanvas(\"c\", \"c\", 400, 400)\n",
    "col = [\"chi\"]\n",
    "d = [rdf_chi_pi]\n",
    "h = [None]\n",
    "mean = [None]\n",
    "for i in range(len(col)):\n",
    "    c2.cd(i+1)\n",
    "    ROOT.gStyle.SetOptStat(\"nemr ou\")\n",
    "    ROOT.gStyle.SetOptFit(1111)\n",
    "    ROOT.gPad.SetLeftMargin(0.12)\n",
    "    ROOT.gPad.SetBottomMargin(0.12)\n",
    "    ROOT.gPad.SetRightMargin(0.08)\n",
    "    ROOT.gPad.SetTopMargin(0.08)\n",
    "    h[i] = d[i].Histo1D(col[i])\n",
    "    h[i].GetXaxis().SetTitle(col[i])\n",
    "    h[i].GetXaxis().SetTitleSize(0.04)\n",
    "    h[i].GetYaxis().SetTitle(\"Events\")\n",
    "    h[i].GetYaxis().SetTitleSize(0.04)\n",
    "    h[i].DrawCopy(\"E1\")\n",
    "    r = h[i].Fit(\"gaus\", \"S\")\n",
    "    h[i].SetLineColor(palette['blue'].GetNumber())\n",
    "    h[i].SetLineWidth(2)\n",
    "    gaus = h[i].GetFunction(\"gaus\")\n",
    "    gaus.SetLineColor(palette['red'].GetNumber())\n",
    "    gaus.SetLineWidth(2)\n",
    "    mean[i] = r.Parameter(1)\n",
    "    rms = r.Parameter(2)\n",
    "    # add legend\n",
    "    legend = ROOT.TLegend(0.62, 0.2, 0.82, 0.3)\n",
    "    legend.SetFillColor(0)\n",
    "    legend.SetBorderSize(0)\n",
    "    legend.SetTextSize(0.03)\n",
    "    legend.AddEntry(h[i].GetValue(), \"Simulated data\", \"l\")\n",
    "    legend.AddEntry(gaus, \"Gaussian fit\", \"l\")\n",
    "    legend.Draw()\n",
    "    \n",
    "ROOT.gPad.Modified()\n",
    "ROOT.gPad.Update()\n",
    "c2.Draw()\n",
    "\n",
    "chi = mean[0]"
   ]
  },
  {
   "cell_type": "markdown",
   "metadata": {},
   "source": [
    "## 2. Performance"
   ]
  },
  {
   "cell_type": "markdown",
   "metadata": {},
   "source": [
    "### Energy resolution"
   ]
  },
  {
   "cell_type": "code",
   "execution_count": 11,
   "metadata": {},
   "outputs": [
    {
     "name": "stdout",
     "output_type": "stream",
     "text": [
      "pion      : pass=50         all=100        -- eff=50.00 % cumulative eff=50.00 %\n",
      "Cut2      : pass=47         all=50         -- eff=94.00 % cumulative eff=47.00 %\n"
     ]
    }
   ],
   "source": [
    "rdf_energy = rdf_chi\n",
    "rdf_energy_e = rdf_energy.Filter(\"PrimaryPDG == 11\", \"electron\")\n",
    "rdf_energy_pi = rdf_energy.Filter(\"PrimaryPDG == -211\", \"pion\")\n",
    "# modified Z score\n",
    "rdf_energy_pi = rdf_energy_pi.Filter(modifiedZscore(rdf_energy_pi, \"Snorm_cal\")+\"&&\"+modifiedZscore(rdf_energy_pi, \"Cnorm_cal\"), \"Cut2\")\n",
    "# print cuts report\n",
    "cutsReport_energy = rdf_energy_pi.Report()\n",
    "cutsReport_energy.Print()"
   ]
  },
  {
   "cell_type": "code",
   "execution_count": 12,
   "metadata": {},
   "outputs": [
    {
     "name": "stdout",
     "output_type": "stream",
     "text": [
      "(0.09680318928558793, 0.5036471871259383)\n",
      "(0.7976207218422127, 1.9294271270304176e-11)\n"
     ]
    }
   ],
   "source": [
    "# correlation coefficients\n",
    "SC_e = rdf_energy_e.AsNumpy(columns=[\"Snorm_cal\", \"Cnorm_cal\"])\n",
    "SC_pi = rdf_energy_pi.AsNumpy(columns=[\"Snorm_cal\", \"Cnorm_cal\"])\n",
    "print(stats.pearsonr(x=SC_e['Snorm_cal'], y=SC_e['Cnorm_cal']))\n",
    "print(stats.pearsonr(x=SC_pi['Snorm_cal'], y=SC_pi['Cnorm_cal']))"
   ]
  },
  {
   "cell_type": "code",
   "execution_count": 13,
   "metadata": {},
   "outputs": [
    {
     "name": "stdout",
     "output_type": "stream",
     "text": [
      "\n",
      "****************************************\n",
      "Minimizer is Linear\n",
      "Chi2                      =     0.539491\n",
      "NDf                       =           45\n",
      "p0                        =    -0.232501   +/-   0.0846041   \n",
      "p1                        =      1.04304   +/-   0.117579    \n"
     ]
    }
   ],
   "source": [
    "# rotation method\n",
    "gr = rdf_energy_pi.Graph(\"Snorm_cal\", \"Cnorm_cal\")\n",
    "# linear fit\n",
    "r = gr.Fit(\"pol1\", \"S\")"
   ]
  },
  {
   "cell_type": "code",
   "execution_count": 14,
   "metadata": {},
   "outputs": [
    {
     "name": "stdout",
     "output_type": "stream",
     "text": [
      "-0.232501315841797 1.0430401662308035 5.401961381724346 43.79314406040311\n"
     ]
    }
   ],
   "source": [
    "p0 = r.Parameter(0)\n",
    "p1 = r.Parameter(1)\n",
    "X = p0/(1-p1)\n",
    "theta = np.pi/2 - np.arctan(p1)\n",
    "print(p0, p1, X, theta*180/np.pi)"
   ]
  },
  {
   "cell_type": "code",
   "execution_count": 15,
   "metadata": {},
   "outputs": [
    {
     "data": {
      "text/plain": [
       "True"
      ]
     },
     "execution_count": 15,
     "metadata": {},
     "output_type": "execute_result"
    }
   ],
   "source": [
    "rotate_xcoord_code = '''\n",
    "double rotate_xcoord(double x, double y, double angle, double cx) {\n",
    "    double s = sin(angle);\n",
    "    double c = cos(angle);\n",
    "    x -= cx;\n",
    "    y -= cx;\n",
    "    double xnew = x * c - y * s;\n",
    "    double ynew = x * s + y * c;\n",
    "    x = xnew + cx;\n",
    "    y = ynew + cx;\n",
    "    return x;\n",
    "};\n",
    "'''\n",
    "ROOT.gInterpreter.Declare(rotate_xcoord_code)\n",
    "rotate_ycoord_code = '''\n",
    "double rotate_ycoord(double x, double y, double angle, double cx) {\n",
    "    double s = sin(angle);\n",
    "    double c = cos(angle);\n",
    "    x -= cx;\n",
    "    y -= cx;\n",
    "    double xnew = x * c - y * s;\n",
    "    double ynew = x * s + y * c;\n",
    "    x = xnew + cx;\n",
    "    y = ynew + cx;\n",
    "    return y;\n",
    "};\n",
    "'''\n",
    "ROOT.gInterpreter.Declare(rotate_ycoord_code)"
   ]
  },
  {
   "cell_type": "code",
   "execution_count": 16,
   "metadata": {},
   "outputs": [],
   "source": [
    "rdf_energy_pi = rdf_energy_pi.Define(\"PivotPoint\", str(X))\n",
    "rdf_energy_pi = rdf_energy_pi.Define(\"PivotAngle\", str(theta))\n",
    "rdf_energy_pi = rdf_energy_pi.Define(\"Snorm_cal_rot\", \"rotate_xcoord(Snorm_cal, Cnorm_cal, PivotAngle, PivotPoint)\")\n",
    "rdf_energy_pi = rdf_energy_pi.Define(\"Cnorm_cal_rot\", \"rotate_ycoord(Snorm_cal, Cnorm_cal, PivotAngle, PivotPoint)\")"
   ]
  },
  {
   "cell_type": "code",
   "execution_count": 17,
   "metadata": {},
   "outputs": [
    {
     "name": "stdout",
     "output_type": "stream",
     "text": [
      " FCN=6.38889 FROM MIGRAD    STATUS=CONVERGED      97 CALLS          98 TOTAL\n",
      "                     EDM=2.36469e-10    STRATEGY= 1  ERROR MATRIX UNCERTAINTY   0.1 per cent\n",
      "  EXT PARAMETER                                   STEP         FIRST   \n",
      "  NO.   NAME      VALUE            ERROR          SIZE      DERIVATIVE \n",
      "   1  Constant     1.34247e+00   3.06248e-01  -2.56679e-04  -2.03966e-05\n",
      "   2  Mean         5.39583e+00   7.14129e-02   1.82744e-04  -2.20330e-04\n",
      "   3  Sigma        1.84903e-01   1.73309e-01   6.11284e-04  -5.55339e-05\n"
     ]
    },
    {
     "data": {
      "image/png": "[encoded data removed]",
      "text/plain": [
       "<IPython.core.display.Image object>"
      ]
     },
     "metadata": {},
     "output_type": "display_data"
    }
   ],
   "source": [
    "c5 = ROOT.TCanvas(\"c5\", \"c5\", 1200, 400)\n",
    "h5c = rdf_energy_pi.Histo1D(\"Snorm_cal_rot\")\n",
    "h5c.Draw()\n",
    "rc = h5c.Fit(\"gaus\", \"S\")\n",
    "c5.Draw()"
   ]
  },
  {
   "cell_type": "code",
   "execution_count": 18,
   "metadata": {},
   "outputs": [],
   "source": [
    "# C/E vs S/E\n",
    "gr1 = rdf_energy_e.Graph(\"Snorm_cal\", \"Cnorm_cal\")\n",
    "gr2 = rdf_energy_pi.Graph(\"Snorm_cal\", \"Cnorm_cal\")\n",
    "gr1.SetMarkerColor(palette['blue'].GetNumber())\n",
    "gr2.SetMarkerColor(palette['red'].GetNumber())\n",
    "gr1.SetMarkerStyle(ROOT.kFullDotSmall)\n",
    "gr2.SetMarkerStyle(ROOT.kFullDotSmall)"
   ]
  },
  {
   "cell_type": "code",
   "execution_count": 19,
   "metadata": {},
   "outputs": [
    {
     "data": {
      "image/png": "[encoded data removed]",
      "text/plain": [
       "<IPython.core.display.Image object>"
      ]
     },
     "metadata": {},
     "output_type": "display_data"
    }
   ],
   "source": [
    "ratio = 7/3\n",
    "nbins = 40\n",
    "c1 = ROOT.TCanvas(\"c1\", \"c1\", 420, 420)\n",
    "c1.SetRightMargin(0.)\n",
    "c1.SetTopMargin(0.)\n",
    "mg = ROOT.TMultiGraph()\n",
    "mg.Add(gr1.GetPtr())\n",
    "mg.Add(gr2.GetPtr())\n",
    "mg.Draw(\"ap\")\n",
    "mg.GetXaxis().SetTitle(\"S/E\")\n",
    "mg.GetYaxis().SetTitle(\"C/E\")\n",
    "mg.GetXaxis().CenterTitle()\n",
    "mg.GetYaxis().CenterTitle()\n",
    "# add legend\n",
    "legend = ROOT.TLegend(0.12, 0.88, 0.32, 0.98)\n",
    "legend.SetFillColor(0)\n",
    "legend.SetBorderSize(0)\n",
    "legend.SetTextSize(0.03)\n",
    "legend.AddEntry(gr1.GetValue(), \"electron\", \"p\")\n",
    "legend.AddEntry(gr2.GetValue(), \"pion\", \"p\")\n",
    "legend.Draw()\n",
    "c1.Draw()\n",
    "c1.Print(\"hXY.png\")"
   ]
  },
  {
   "cell_type": "code",
   "execution_count": 20,
   "metadata": {},
   "outputs": [
    {
     "name": "stdout",
     "output_type": "stream",
     "text": [
      " FCN=9.56451 FROM MIGRAD    STATUS=CONVERGED      87 CALLS          88 TOTAL\n",
      "                     EDM=2.15949e-07    STRATEGY= 1      ERROR MATRIX ACCURATE \n",
      "  EXT PARAMETER                                   STEP         FIRST   \n",
      "  NO.   NAME      VALUE            ERROR          SIZE      DERIVATIVE \n",
      "   1  Constant     2.45256e+00   7.07470e-01   6.35750e-04  -8.25866e-04\n",
      "   2  Mean         7.10613e-01   3.80858e-02   5.79329e-05  -2.36033e-03\n",
      "   3  Sigma        1.69756e-01   7.00128e-02   1.38254e-04   3.60026e-04\n"
     ]
    },
    {
     "data": {
      "image/png": "[encoded data removed]",
      "text/plain": [
       "<IPython.core.display.Image object>"
      ]
     },
     "metadata": {},
     "output_type": "display_data"
    }
   ],
   "source": [
    "c2 = ROOT.TCanvas(\"c1\", \"c1\", 420, 180)\n",
    "c2.SetRightMargin(0.)\n",
    "c2.SetTopMargin(0.)\n",
    "modelX = (\"\", \"\", nbins, mg.GetXaxis().GetXmin(), mg.GetXaxis().GetXmax())\n",
    "hX = rdf_energy_pi.Histo1D(modelX, \"Snorm_cal\")\n",
    "hX.SetFillStyle(0)\n",
    "hX.SetLineColor(palette['red'].GetNumber())\n",
    "# hX.GetXaxis().SetLabelOffset(999)\n",
    "# hX.GetXaxis().SetLabelSize(0)\n",
    "hX.GetYaxis().SetLabelSize(mg.GetYaxis().GetLabelSize()*ratio)\n",
    "rX = hX.Fit(\"gaus\", \"S\")\n",
    "hX.SetStats(False)\n",
    "hX.Draw()\n",
    "c2.Draw()\n",
    "c2.Print(\"hX.png\")"
   ]
  },
  {
   "cell_type": "code",
   "execution_count": 21,
   "metadata": {},
   "outputs": [
    {
     "name": "stdout",
     "output_type": "stream",
     "text": [
      " FCN=7.25502 FROM MIGRAD    STATUS=CONVERGED      82 CALLS          83 TOTAL\n",
      "                     EDM=1.0399e-06    STRATEGY= 1      ERROR MATRIX ACCURATE \n",
      "  EXT PARAMETER                                   STEP         FIRST   \n",
      "  NO.   NAME      VALUE            ERROR          SIZE      DERIVATIVE \n",
      "   1  Constant     2.11567e+00   4.24412e-01   4.69060e-04  -2.13369e-03\n",
      "   2  Mean         7.30509e-01   8.46916e-02   1.19945e-04  -4.39167e-03\n",
      "   3  Sigma        3.14726e-01   1.09658e-01   1.83934e-04  -1.07434e-02\n"
     ]
    },
    {
     "data": {
      "image/png": "[encoded data removed]",
      "text/plain": [
       "<IPython.core.display.Image object>"
      ]
     },
     "metadata": {},
     "output_type": "display_data"
    }
   ],
   "source": [
    "c3 = ROOT.TCanvas(\"c3\", \"c3\", 420, 180)\n",
    "c3.SetLeftMargin(0.)\n",
    "c3.SetTopMargin(0.)\n",
    "xmin = mg.GetYaxis().GetXmin()\n",
    "xmax = mg.GetYaxis().GetXmax()\n",
    "modelY = (\"\", \"\", nbins, xmin, xmax)\n",
    "rdf_energy_pi_rev = rdf_energy_pi\n",
    "rdf_energy_pi_rev = rdf_energy_pi_rev.Define(\"reversedCnorm_cal\", f\"{xmax}-Cnorm_cal+{xmin}\")\n",
    "hY = rdf_energy_pi_rev.Histo1D(modelY, \"reversedCnorm_cal\")\n",
    "hY.SetFillStyle(0)\n",
    "hY.SetLineColor(palette['red'].GetNumber())\n",
    "hY.GetYaxis().SetLabelSize(mg.GetYaxis().GetLabelSize()*ratio)\n",
    "\n",
    "rY = hY.Fit(\"gaus\", \"S\")\n",
    "hY.SetStats(False)\n",
    "hY.Draw(\"Y+\")\n",
    "\n",
    "# Remove the current axis\n",
    "hY.GetXaxis().SetLabelOffset(999)\n",
    "hY.GetXaxis().SetTickLength(0)\n",
    "\n",
    "# Redraw the new axis\n",
    "ROOT.gPad.Update()\n",
    "newaxis = ROOT.TGaxis(ROOT.gPad.GetUxmax(), ROOT.gPad.GetUymin(),\n",
    "                      ROOT.gPad.GetUxmin(), ROOT.gPad.GetUymin(),\n",
    "                      xmin, xmax, 510, \"-\")\n",
    "newaxis.SetLabelOffset(-0.03)\n",
    "newaxis.Draw()\n",
    "\n",
    "ROOT.gPad.Update()\n",
    "for i in range(7):\n",
    "    hY.GetYaxis().ChangeLabel(i, 90., -1, 23)\n",
    "c3.Update()\n",
    "c3.Draw()\n",
    "c3.Print(\"hY.png\")"
   ]
  },
  {
   "cell_type": "code",
   "execution_count": 22,
   "metadata": {},
   "outputs": [
    {
     "data": {
      "image/png": "[encoded data removed]",
      "text/plain": [
       "<IPython.core.display.Image object>"
      ]
     },
     "metadata": {},
     "output_type": "display_data"
    }
   ],
   "source": [
    "c4 = ROOT.TCanvas(\"c4\", \"c4\", 600, 600)\n",
    "pad1 = ROOT.TPad(\"pad1\", \"pad1\", 0., 0., .7, .7); pad1.Draw()\n",
    "pad2 = ROOT.TPad(\"pad2\", \"pad2\", 0., .7, .7, 1.); pad2.Draw()\n",
    "pad3 = ROOT.TPad(\"pad3\", \"pad3\", .7, 0., 1., .7); pad3.Draw()\n",
    "# pad1\n",
    "pad1.cd()\n",
    "h_img = ROOT.TImage.Open(\"hXY.png\")\n",
    "h_img.Draw(\"x\")\n",
    "pad1.Update()\n",
    "# pad2\n",
    "pad2.cd()\n",
    "hX_img = ROOT.TImage.Open(\"hX.png\")\n",
    "hX_img.Draw(\"x\")\n",
    "pad2.Update()\n",
    "# pad3\n",
    "pad3.cd()\n",
    "hY_img = ROOT.TImage.Open(\"hY.png\")\n",
    "hY_img.Flip(270)\n",
    "hY_img.Draw(\"x\")\n",
    "pad3.Update()\n",
    "\n",
    "c4.Update()\n",
    "c4.Draw()\n",
    "c4.Print(\"final.png\")"
   ]
  },
  {
   "cell_type": "markdown",
   "metadata": {},
   "source": [
    "### Particle identification"
   ]
  },
  {
   "cell_type": "code",
   "execution_count": 23,
   "metadata": {},
   "outputs": [
    {
     "data": {
      "image/png": "[encoded data removed]",
      "text/plain": [
       "<IPython.core.display.Image object>"
      ]
     },
     "metadata": {},
     "output_type": "display_data"
    }
   ],
   "source": [
    "c6 = ROOT.TCanvas(\"c6\", \"c6\", 400, 400)\n",
    "model = (\"\",\"\", 40, 0., 2)\n",
    "h6_e = rdf_energy_e.Histo1D(model, \"CoverS\")\n",
    "h6_pi = rdf_energy_pi.Histo1D(model, \"CoverS\")\n",
    "h6_e.SetLineColor(palette['blue'].GetNumber())\n",
    "h6_e.SetLineColor(palette['red'].GetNumber())\n",
    "h6_e.Draw()\n",
    "h6_pi.Draw(\"same\")\n",
    "c6.Draw()"
   ]
  },
  {
   "cell_type": "code",
   "execution_count": null,
   "metadata": {},
   "outputs": [],
   "source": []
  },
  {
   "cell_type": "markdown",
   "metadata": {},
   "source": [
    "## 3. Shower profiles"
   ]
  },
  {
   "cell_type": "markdown",
   "metadata": {},
   "source": [
    "NB! The following part of the code has not been run"
   ]
  },
  {
   "cell_type": "code",
   "execution_count": 43,
   "metadata": {},
   "outputs": [],
   "source": [
    "import ROOT"
   ]
  },
  {
   "cell_type": "code",
   "execution_count": 24,
   "metadata": {},
   "outputs": [
    {
     "data": {
      "text/plain": [
       "True"
      ]
     },
     "execution_count": 24,
     "metadata": {},
     "output_type": "execute_result"
    }
   ],
   "source": [
    "getNij_code = '''\n",
    "const int Nofmodules = 71;\n",
    "const int NofFibers = 8;\n",
    "using namespace ROOT::VecOps;\n",
    "using ints = RVec<int>;\n",
    "using doubles = RVec<double>;\n",
    "ints getNi(doubles v) {\n",
    "    auto nonzero_idx = Nonzero(v);\n",
    "    ints module_idx = ints(nonzero_idx) / (NofFibers*NofFibers);\n",
    "    ints fibre_idx = ints(nonzero_idx) % (NofFibers*NofFibers);\n",
    "    ints module_i = module_idx / Nofmodules;\n",
    "    ints fibre_i = fibre_idx / NofFibers;\n",
    "    return NofFibers*module_i + fibre_i;\n",
    "};\n",
    "ints getNj(doubles v) {\n",
    "    auto nonzero_idx = Nonzero(v);\n",
    "    ints module_idx = ints(nonzero_idx) / (NofFibers*NofFibers);\n",
    "    ints fibre_idx = ints(nonzero_idx) % (NofFibers*NofFibers);\n",
    "    ints module_j = module_idx % Nofmodules;\n",
    "    ints fibre_j = fibre_idx % NofFibers;\n",
    "    return NofFibers*module_j + fibre_j;\n",
    "};\n",
    "'''\n",
    "ROOT.gInterpreter.Declare(getNij_code)"
   ]
  },
  {
   "cell_type": "code",
   "execution_count": 25,
   "metadata": {},
   "outputs": [
    {
     "data": {
      "text/plain": [
       "True"
      ]
     },
     "execution_count": 25,
     "metadata": {},
     "output_type": "execute_result"
    }
   ],
   "source": [
    "getWeightedMean_code = '''\n",
    "using namespace ROOT::VecOps;\n",
    "double getWeightedMean(const RVec<int> &v, const RVec<double> &w)\n",
    "{ \n",
    "    return Dot(v, w) / Sum(w);\n",
    "}\n",
    "'''\n",
    "ROOT.gInterpreter.Declare(getWeightedMean_code)\n",
    "\n",
    "getRadialDistance_code = '''\n",
    "using namespace ROOT::VecOps;\n",
    "RVec<double> getRadialDistance(const RVec<double> &x, const RVec<double> &y)\n",
    "{ \n",
    "  auto mod = [](double x, double y) { return sqrt(x * x + y * y); };\n",
    "  return Map(x, y, mod);\n",
    "}\n",
    "'''\n",
    "ROOT.gInterpreter.Declare(getRadialDistance_code)"
   ]
  },
  {
   "cell_type": "code",
   "execution_count": 26,
   "metadata": {},
   "outputs": [
    {
     "data": {
      "text/plain": [
       "True"
      ]
     },
     "execution_count": 26,
     "metadata": {},
     "output_type": "execute_result"
    }
   ],
   "source": [
    "getArange_code ='''\n",
    "using namespace ROOT::VecOps;\n",
    "RVec<int> getArange(const int& a)\n",
    "{ \n",
    "  RVec<int> v(a);\n",
    "  std::iota(std::begin(v), std::end(v), 0);\n",
    "  return v;\n",
    "}\n",
    "'''\n",
    "ROOT.gInterpreter.Declare(getArange_code)"
   ]
  },
  {
   "cell_type": "code",
   "execution_count": 27,
   "metadata": {},
   "outputs": [
    {
     "data": {
      "text/plain": [
       "True"
      ]
     },
     "execution_count": 27,
     "metadata": {},
     "output_type": "execute_result"
    }
   ],
   "source": [
    "getRadialProfile_code ='''\n",
    "using namespace ROOT::VecOps;\n",
    "RVec<double> getRadialProfile(const RVec<double> &r, const RVec<double> &v1, const RVec<double> &xbins)\n",
    "{\n",
    "  double v2 = 0.;\n",
    "  RVec<double> v(xbins.size());\n",
    "  RVec<bool> c;\n",
    "  RVec<double> if_c_v1_else_v2;\n",
    "  for (size_t i = 0; i<xbins.size()-1; ++i) { \n",
    "    c = (r >= xbins.at(i)) && (r < xbins.at(i+1));\n",
    "    if_c_v1_else_v2 = Where(c, v1, v2);\n",
    "    v.at(i) = Sum(if_c_v1_else_v2);\n",
    "  }\n",
    "  return v;\n",
    "}\n",
    "'''\n",
    "ROOT.gInterpreter.Declare(getRadialProfile_code)"
   ]
  },
  {
   "cell_type": "code",
   "execution_count": 28,
   "metadata": {},
   "outputs": [],
   "source": [
    "# create dataframes\n",
    "treeName = \"B4\"\n",
    "path = \"/groups/hep/mojen/repositories/DREAM/Run\"\n",
    "rdf_profile = dict()\n",
    "for s, E in zip(['e10', 'e40'], [10000., 40000.]):\n",
    "    fileName = os.path.join(path, f\"{s}/{s}.root\")\n",
    "    rdf_profile[s] = ROOT.ROOT.RDataFrame(treeName, os.path.join(path, fileName))\n",
    "    # define new columns\n",
    "    rdf_profile[s] = rdf_profile[s].Define(\"myPrimaryEnergy\", str(E))\n",
    "    rdf_profile[s] = rdf_profile[s].Define(\"VectorSignals_corr\", leakageCorrection(\"VectorSignals\"))\n",
    "    rdf_profile[s] = rdf_profile[s].Define(\"VectorSignalsCher_corr\", leakageCorrection(\"VectorSignalsCher\"))"
   ]
  },
  {
   "cell_type": "code",
   "execution_count": 29,
   "metadata": {},
   "outputs": [],
   "source": [
    "# rdf_profile = rdf\n",
    "for s, v, vec in zip(['e10', 'e40'], [\"S\", \"C\"], [\"VectorSignals_corr\", \"VectorSignalsCher_corr\"]):\n",
    "    rdf_profile[s] = rdf_profile[s].Define(\"xbins\", \"0.6*RVec<double>(getArange(50))\")\n",
    "    rdf_profile[s] = rdf_profile[s].Define(f\"{v}_i\", f\"getNi({vec})\")\n",
    "    rdf_profile[s] = rdf_profile[s].Define(f\"{v}_j\", f\"getNj({vec})\")\n",
    "    rdf_profile[s] = rdf_profile[s].Define(f\"{v}_vec\", f\"Take({vec}, Nonzero({vec}))\")\n",
    "    rdf_profile[s] = rdf_profile[s].Define(f\"{v}_vec_norm\", f\"{v}_vec/Sum({v}_vec)\")\n",
    "    rdf_profile[s] = rdf_profile[s].Define(f\"{v}_imean\", f\"getWeightedMean({v}_i, {v}_vec)\")\n",
    "    rdf_profile[s] = rdf_profile[s].Define(f\"{v}_jmean\", f\"getWeightedMean({v}_j, {v}_vec)\")\n",
    "    rdf_profile[s] = rdf_profile[s].Define(f\"{v}_r_mm\", f\"1.5*getRadialDistance({v}_j-{v}_jmean, {v}_i-{v}_imean)\")\n",
    "    rdf_profile[s] = rdf_profile[s].Define(f\"{v}_radialProfile\", f\"getRadialProfile({v}_r_mm, {v}_vec, xbins)\")"
   ]
  },
  {
   "cell_type": "code",
   "execution_count": 30,
   "metadata": {},
   "outputs": [
    {
     "data": {
      "image/png": "[encoded data removed]",
      "text/plain": [
       "<IPython.core.display.Image object>"
      ]
     },
     "metadata": {},
     "output_type": "display_data"
    }
   ],
   "source": [
    "c7 = ROOT.TCanvas(\"c7\", \"c7\", 400, 400)\n",
    "model = (\"\", \"\", 568, 0., 568., 568, 0., 568.)\n",
    "h = rdf_profile['e10'].Range(1).Histo2D(model, \"S_i\", \"S_j\")\n",
    "h.Draw(\"COLZ\")\n",
    "c7.Draw()"
   ]
  },
  {
   "cell_type": "code",
   "execution_count": 31,
   "metadata": {},
   "outputs": [
    {
     "name": "stdout",
     "output_type": "stream",
     "text": [
      "29 0.0 17.4\n"
     ]
    }
   ],
   "source": [
    "binwidth = 0.6\n",
    "xlow = 0.\n",
    "xup = 1.5*np.sqrt(2*8**2)\n",
    "nbins = int(np.ceil((xup-xlow)/binwidth))\n",
    "xup = nbins*binwidth\n",
    "print(nbins, xlow, xup)\n",
    "model = (\"\", \"\", nbins, xlow, xup)"
   ]
  },
  {
   "cell_type": "code",
   "execution_count": 32,
   "metadata": {},
   "outputs": [],
   "source": [
    "# rdf_profile_e = rdf_profile.Range(100)\n",
    "# rdf_profile_pi = rdf_profile.Range(100, 200)"
   ]
  },
  {
   "cell_type": "markdown",
   "metadata": {},
   "source": [
    "Normalized signal INCLUDING under and overflow\n",
    "\n",
    "The signal is leakage corrected (normalization makes calibration void)\n",
    "\n",
    "The radial distance ($r_i$) between each individual fiber 𝑖 and the\n",
    "shower axis was then determined as Eq. 3 Antonello2018"
   ]
  },
  {
   "cell_type": "code",
   "execution_count": 33,
   "metadata": {},
   "outputs": [
    {
     "data": {
      "image/png": "[encoded data removed]",
      "text/plain": [
       "<IPython.core.display.Image object>"
      ]
     },
     "metadata": {},
     "output_type": "display_data"
    }
   ],
   "source": [
    "c8 = ROOT.TCanvas(\"c8\", \"c8\", 800, 400)\n",
    "ROOT.gStyle.SetOptStat(0)\n",
    "c8.Divide(2)\n",
    "x = [[\"S_r_mm\", \"C_r_mm\"], [\"xbins\", \"xbins\"]]\n",
    "y = [[\"S_vec\", \"C_vec\"], [\"S_radialProfile\", \"C_radialProfile\"]]\n",
    "# y = [[\"S_vec_norm\", \"C_vec_norm\"], [\"S_radialProfile\", \"C_radialProfile\"]]\n",
    "p = [[None, None], [None, None]]\n",
    "p_norm = p.copy()\n",
    "for i in range(2):\n",
    "    c8.cd(i+1)\n",
    "    ROOT.gPad.SetLeftMargin(0.15)\n",
    "    p[i][0] = rdf_profile['e10'].Profile1D(model, x[i][0], y[i][0])\n",
    "#     p[i][0].Draw(\"SAME\")\n",
    "    p_norm[i][0] = p[i][0].DrawNormalized(\"SAME\")\n",
    "    p[i][1] = rdf_profile['e40'].Profile1D(model, x[i][1], y[i][1])\n",
    "    p_norm[i][1] = p[i][1].DrawNormalized(\"SAME\")\n",
    "#     p[i][1].Draw(\"SAME\")\n",
    "    p_norm[i][0].SetLineColor(palette['blue'].GetNumber())\n",
    "    p_norm[i][1].SetLineColor(palette['red'].GetNumber())\n",
    "#     p_norm[i][0].GetXaxis().SetRangeUser(0., 7.8)\n",
    "#     p_norm[i][0].GetYaxis().SetRangeUser(0., .4)\n",
    "    p_norm[i][0].GetXaxis().SetTitle(\"Radial distance, #it{r_{i}} [mm]\")\n",
    "    p_norm[i][0].GetYaxis().SetTitle(f\"Normalized signal / {binwidth} mm\")\n",
    "\n",
    "c8.Update()\n",
    "c8.Draw()"
   ]
  },
  {
   "cell_type": "code",
   "execution_count": null,
   "metadata": {},
   "outputs": [],
   "source": []
  }
 ],
 "metadata": {
  "kernelspec": {
   "display_name": "Python 3",
   "language": "python",
   "name": "python3"
  },
  "language_info": {
   "codemirror_mode": {
    "name": "ipython",
    "version": 3
   },
   "file_extension": ".py",
   "mimetype": "text/x-python",
   "name": "python",
   "nbconvert_exporter": "python",
   "pygments_lexer": "ipython3",
   "version": "3.6.5"
  }
 },
 "nbformat": 4,
 "nbformat_minor": 2
}
