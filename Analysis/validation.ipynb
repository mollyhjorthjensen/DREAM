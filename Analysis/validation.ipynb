{
 "cells": [
  {
   "cell_type": "markdown",
   "metadata": {},
   "source": [
    "# Validation"
   ]
  },
  {
   "cell_type": "code",
   "execution_count": 1,
   "metadata": {},
   "outputs": [
    {
     "name": "stdout",
     "output_type": "stream",
     "text": [
      "Welcome to JupyROOT 6.18/00\n"
     ]
    }
   ],
   "source": [
    "# import libraries\n",
    "import os\n",
    "import ROOT\n",
    "import numpy as np\n",
    "from scipy import stats\n",
    "from tableauColors import palette"
   ]
  },
  {
   "cell_type": "markdown",
   "metadata": {},
   "source": [
    "## 0. Create dataframes"
   ]
  },
  {
   "cell_type": "code",
   "execution_count": 2,
   "metadata": {},
   "outputs": [],
   "source": [
    "# helpers\n",
    "def leakageCorrection(col):\n",
    "    return f\"{col}*PrimaryEnergy/(PrimaryEnergy-LateralLeakage)\"\n",
    "\n",
    "def modifiedZscore(rdf, col, D=3.5):\n",
    "    x = rdf.AsNumpy(columns=[col])[col]\n",
    "    xtilde = np.median(x)\n",
    "    MAD = np.median(np.abs(x-xtilde))\n",
    "    return f\"abs(0.6745*({col}-({xtilde}))/{MAD}) <= {D}\""
   ]
  },
  {
   "cell_type": "code",
   "execution_count": 4,
   "metadata": {},
   "outputs": [
    {
     "name": "stdout",
     "output_type": "stream",
     "text": [
      "{ \"PrimaryPDG\", \"PrimaryEnergy\", \"PrimaryDecayMode\", \"LateralLeakage\", \"AbsorberMaterial\", \"VoxelsAlongY\", \"VecShowerPDG\", \"VecShowerCharge\", \"VecShowerPosition\", \"VecShowerEnergy\", \"VecShowerMomentum\", \"VecShowerCkovCoMi\", \"VecShowerCkovCoMj\", \"VecShowerScntCoMi\", \"VecShowerScntCoMj\", \"VecIndexCkov\", \"VecSignalCkov\", \"VecIndexScnt\", \"VecSignalScnt\" }\n"
     ]
    }
   ],
   "source": [
    "# create rdataframe\n",
    "path = \"/groups/hep/mojen/repositories/DREAM/Run/final_run/range\"\n",
    "fileName = os.path.join(path, \"range.root\")\n",
    "rdf = ROOT.ROOT.RDataFrame(\"B4\", os.path.join(path, fileName))\n",
    "print(rdf.GetColumnNames())"
   ]
  },
  {
   "cell_type": "markdown",
   "metadata": {},
   "source": [
    "## 1. Performance"
   ]
  },
  {
   "cell_type": "markdown",
   "metadata": {},
   "source": [
    "### Energy resolution"
   ]
  },
  {
   "cell_type": "code",
   "execution_count": 5,
   "metadata": {},
   "outputs": [],
   "source": [
    "cal = np.load(\"calibration.pkl.npy\", allow_pickle=True).item()"
   ]
  },
  {
   "cell_type": "code",
   "execution_count": 22,
   "metadata": {},
   "outputs": [],
   "source": [
    "rdf2 = rdf\n",
    "# rdf2 = rdf2.Filter(\"( > 10000) && (VecShowerEnergy.at(0)) < 25000\")\n",
    "rdf2 = rdf2.Define(\"Chi\", f\"{cal['chi']}\")\n",
    "rdf2 = rdf2.Define(\"VecSignalScnt_corr\", leakageCorrection(\"VecSignalScnt\"))\n",
    "rdf2 = rdf2.Define(\"VecSignalCkov_corr\", leakageCorrection(\"VecSignalCkov\"))\n",
    "rdf2 = rdf2.Define(\"VecSignalScnt_cal\", f\"VecSignalScnt*{cal['Scnt']}\")\n",
    "rdf2 = rdf2.Define(\"VecSignalCkov_cal\", f\"VecSignalCkov*{cal['Ckov']}\")\n",
    "rdf2 = rdf2.Define(\"Ssum\", \"Sum(VecSignalScnt_cal)\")\n",
    "rdf2 = rdf2.Define(\"Csum\", \"Sum(VecSignalCkov_cal)\")\n",
    "rdf2 = rdf2.Define(\"Snorm\", f\"Ssum / PrimaryEnergy\")\n",
    "rdf2 = rdf2.Define(\"Cnorm\", f\"Csum / PrimaryEnergy\")\n",
    "rdf2 = rdf2.Define(\"CoverS\", \"Cnorm/Snorm\")\n",
    "rdf2 = rdf2.Define(\"PrimaryEnergy_GeV\", \"PrimaryEnergy / 1000.\")\n",
    "rdf2_e = rdf2.Filter(\"PrimaryPDG == 11\", \"electron\")\n",
    "rdf2_pi = rdf2.Filter(\"PrimaryPDG == -211\", \"pion\")\n",
    "rdf2_e = rdf2_e.Define(\"reconstructed_energy\", f\"(Ssum+Csum)/2\")\n",
    "rdf2_pi = rdf2_pi.Define(\"reconstructed_energy\", f\"(Ssum-Chi*Csum)/(1-Chi)\")\n",
    "rdf2_e = rdf2_e.Define(\"rmse\", \"sqrt(pow(PrimaryEnergy-reconstructed_energy, 2))/PrimaryEnergy*100\")\n",
    "rdf2_pi = rdf2_pi.Define(\"rmse\", \"sqrt(pow(PrimaryEnergy-reconstructed_energy, 2))/PrimaryEnergy*100\")\n",
    "\n",
    "# print cuts report\n",
    "# cutsReport = rdf_energy_pi.Report()\n",
    "# cutsReport.Print()"
   ]
  },
  {
   "cell_type": "markdown",
   "metadata": {},
   "source": [
    "### C/E vs. S/E"
   ]
  },
  {
   "cell_type": "code",
   "execution_count": 8,
   "metadata": {},
   "outputs": [],
   "source": [
    "rdf3_e = rdf2_e\n",
    "rdf3_pi = rdf2_pi\n",
    "# rdf3_e = rdf2_e.Filter(\"PrimaryEnergy > 15000 && PrimaryEnergy < 25000\")\n",
    "# rdf3_pi = rdf2_pi.Filter(\"PrimaryEnergy > 15000 && PrimaryEnergy < 25000\")\n",
    "# modified Z score\n",
    "#rdf3_e = rdf3_e.Filter(modifiedZscore(rdf3_e, \"Snorm\")+\"&&\"+modifiedZscore(rdf3_e, \"Cnorm\"), \"Cut2\")\n",
    "#rdf3_pi = rdf3_pi.Filter(modifiedZscore(rdf3_pi, \"Snorm\")+\"&&\"+modifiedZscore(rdf3_pi, \"Cnorm\"), \"Cut2\")"
   ]
  },
  {
   "cell_type": "code",
   "execution_count": 9,
   "metadata": {},
   "outputs": [
    {
     "name": "stdout",
     "output_type": "stream",
     "text": [
      "(-0.09960651396945631, 2.7518591794235755e-21)\n",
      "(0.7315351882157909, 0.0)\n"
     ]
    }
   ],
   "source": [
    "# correlation coefficients\n",
    "SC_e = rdf3_e.AsNumpy(columns=[\"Snorm\", \"Cnorm\"])\n",
    "SC_pi = rdf3_pi.AsNumpy(columns=[\"Snorm\", \"Cnorm\"])\n",
    "print(stats.pearsonr(x=SC_e['Snorm'], y=SC_e['Cnorm']))\n",
    "print(stats.pearsonr(x=SC_pi['Snorm'], y=SC_pi['Cnorm']))"
   ]
  },
  {
   "cell_type": "code",
   "execution_count": 10,
   "metadata": {},
   "outputs": [
    {
     "name": "stdout",
     "output_type": "stream",
     "text": [
      "\n",
      "****************************************\n",
      "Minimizer is Linear\n",
      "Chi2                      =      84.2695\n",
      "NDf                       =         8998\n",
      "p0                        =    -0.321605   +/-   0.00878572  \n",
      "p1                        =      1.02539   +/-   0.0100749   \n"
     ]
    }
   ],
   "source": [
    "# rotation method\n",
    "gr = rdf3_pi.Graph(\"Snorm\", \"Cnorm\")\n",
    "# linear fit\n",
    "r = gr.Fit(\"pol1\", \"S\")"
   ]
  },
  {
   "cell_type": "code",
   "execution_count": 11,
   "metadata": {},
   "outputs": [
    {
     "name": "stdout",
     "output_type": "stream",
     "text": [
      "-0.3216053373453362 1.0253873037455836 12.66795956625692 44.28186121074958\n"
     ]
    }
   ],
   "source": [
    "p0 = r.Parameter(0)\n",
    "p1 = r.Parameter(1)\n",
    "X = p0/(1-p1)\n",
    "theta = np.pi/2 - np.arctan(p1)\n",
    "print(p0, p1, X, theta*180/np.pi)"
   ]
  },
  {
   "cell_type": "code",
   "execution_count": 12,
   "metadata": {},
   "outputs": [
    {
     "data": {
      "text/plain": [
       "True"
      ]
     },
     "execution_count": 12,
     "metadata": {},
     "output_type": "execute_result"
    }
   ],
   "source": [
    "rotate_xcoord_code = '''\n",
    "double rotate_xcoord(double x, double y, double angle, double cx) {\n",
    "    double s = sin(angle);\n",
    "    double c = cos(angle);\n",
    "    x -= cx;\n",
    "    y -= cx;\n",
    "    double xnew = x * c - y * s;\n",
    "    double ynew = x * s + y * c;\n",
    "    x = xnew + cx;\n",
    "    y = ynew + cx;\n",
    "    return x;\n",
    "};\n",
    "'''\n",
    "ROOT.gInterpreter.Declare(rotate_xcoord_code)\n",
    "rotate_ycoord_code = '''\n",
    "double rotate_ycoord(double x, double y, double angle, double cx) {\n",
    "    double s = sin(angle);\n",
    "    double c = cos(angle);\n",
    "    x -= cx;\n",
    "    y -= cx;\n",
    "    double xnew = x * c - y * s;\n",
    "    double ynew = x * s + y * c;\n",
    "    x = xnew + cx;\n",
    "    y = ynew + cx;\n",
    "    return y;\n",
    "};\n",
    "'''\n",
    "ROOT.gInterpreter.Declare(rotate_ycoord_code)"
   ]
  },
  {
   "cell_type": "code",
   "execution_count": 13,
   "metadata": {},
   "outputs": [],
   "source": [
    "rdf3_pi = rdf3_pi.Define(\"PivotPoint\", str(X))\n",
    "rdf3_pi = rdf3_pi.Define(\"PivotAngle\", str(theta))\n",
    "rdf3_pi = rdf3_pi.Define(\"Snorm_rot\", \"rotate_xcoord(Snorm, Cnorm, PivotAngle, PivotPoint)\")\n",
    "rdf3_pi = rdf3_pi.Define(\"Cnorm_rot\", \"rotate_ycoord(Snorm, Cnorm, PivotAngle, PivotPoint)\")"
   ]
  },
  {
   "cell_type": "code",
   "execution_count": 14,
   "metadata": {},
   "outputs": [
    {
     "data": {
      "image/png": "[encoded data removed]",
      "text/plain": [
       "<IPython.core.display.Image object>"
      ]
     },
     "metadata": {},
     "output_type": "display_data"
    }
   ],
   "source": [
    "c1 = ROOT.TCanvas(\"c1\", \"c1\", 600, 600)\n",
    "gr = rdf3_pi.Graph(\"Snorm_rot\", \"Cnorm_rot\")\n",
    "gr.Draw(\"ap\")\n",
    "c1.Draw()"
   ]
  },
  {
   "cell_type": "code",
   "execution_count": 15,
   "metadata": {},
   "outputs": [
    {
     "name": "stdout",
     "output_type": "stream",
     "text": [
      " FCN=179.996 FROM MIGRAD    STATUS=CONVERGED      71 CALLS          72 TOTAL\n",
      "                     EDM=3.74333e-08    STRATEGY= 1      ERROR MATRIX ACCURATE \n",
      "  EXT PARAMETER                                   STEP         FIRST   \n",
      "  NO.   NAME      VALUE            ERROR          SIZE      DERIVATIVE \n",
      "   1  Constant     4.66481e+02   6.46948e+00   3.26300e-02  -6.92965e-06\n",
      "   2  Mean         1.26699e+01   6.92201e-04   6.04147e-06   1.67639e-01\n",
      "   3  Sigma        6.38815e-02   5.68680e-04   1.43670e-05  -8.83533e-02\n"
     ]
    },
    {
     "data": {
      "image/png": "[encoded data removed]",
      "text/plain": [
       "<IPython.core.display.Image object>"
      ]
     },
     "metadata": {},
     "output_type": "display_data"
    }
   ],
   "source": [
    "c5 = ROOT.TCanvas(\"c5\", \"c5\", 1200, 400)\n",
    "h5c = rdf3_pi.Histo1D(\"Snorm_rot\")\n",
    "h5c.Draw()\n",
    "rc = h5c.Fit(\"gaus\", \"S\")\n",
    "c5.Draw()"
   ]
  },
  {
   "cell_type": "code",
   "execution_count": 16,
   "metadata": {},
   "outputs": [],
   "source": [
    "# rdf3_e = rdf3_e.Define(\"reconstructed_energy\", f\"(Snorm+Cnorm)/2\")\n",
    "# rdf3_pi = rdf3_pi.Define(\"reconstructed_energy\", f\"(Snorm-Chi*Cnorm)/(1-Chi)\")\n",
    "# rdf3_e = rdf3_e.Define(\"reconstructed_energy\", f\"(Sum(VecSignalScnt_cal)-Chi*Sum(VecSignalCkov_cal))/(1-Chi)\")\n",
    "# rdf3_pi = rdf3_pi.Define(\"reconstructed_energy\", f\"(Sum(VecSignalScnt_cal)-Chi*Sum(VecSignalCkov_cal))/(1-Chi)\")"
   ]
  },
  {
   "cell_type": "code",
   "execution_count": 17,
   "metadata": {},
   "outputs": [
    {
     "name": "stdout",
     "output_type": "stream",
     "text": [
      " FCN=1376.92 FROM MIGRAD    STATUS=CONVERGED      74 CALLS          75 TOTAL\n",
      "                     EDM=6.18247e-10    STRATEGY= 1      ERROR MATRIX ACCURATE \n",
      "  EXT PARAMETER                                   STEP         FIRST   \n",
      "  NO.   NAME      VALUE            ERROR          SIZE      DERIVATIVE \n",
      "   1  Constant     2.30544e+02   3.00219e+00   4.78606e-02  -5.43256e-06\n",
      "   2  Mean         4.80383e+04   2.89136e+02   4.98028e+00   1.12983e-07\n",
      "   3  Sigma        2.24330e+04   1.62886e+02   3.57822e-05   2.98830e-03\n"
     ]
    },
    {
     "data": {
      "image/png": "[encoded data removed]",
      "text/plain": [
       "<IPython.core.display.Image object>"
      ]
     },
     "metadata": {},
     "output_type": "display_data"
    }
   ],
   "source": [
    "c5 = ROOT.TCanvas(\"c5\", \"c5\", 1200, 400)\n",
    "h5c = rdf3_pi.Histo1D(\"Ssum\")\n",
    "h5c.Draw()\n",
    "rc = h5c.Fit(\"gaus\", \"S\")\n",
    "c5.Draw()"
   ]
  },
  {
   "cell_type": "code",
   "execution_count": 18,
   "metadata": {},
   "outputs": [],
   "source": [
    "# C/E vs S/E\n",
    "gr1 = rdf3_e.Graph(\"Snorm\", \"Cnorm\")\n",
    "gr2 = rdf3_pi.Graph(\"Snorm\", \"Cnorm\")\n",
    "gr1.SetMarkerColor(palette['blue'].GetNumber())\n",
    "gr2.SetMarkerColor(palette['red'].GetNumber())\n",
    "gr1.SetMarkerStyle(ROOT.kFullDotSmall)\n",
    "gr2.SetMarkerStyle(ROOT.kFullDotSmall)"
   ]
  },
  {
   "cell_type": "code",
   "execution_count": 19,
   "metadata": {},
   "outputs": [
    {
     "data": {
      "image/png": "[encoded data removed]",
      "text/plain": [
       "<IPython.core.display.Image object>"
      ]
     },
     "metadata": {},
     "output_type": "display_data"
    }
   ],
   "source": [
    "ratio = 7/3\n",
    "nbins = 40\n",
    "c1 = ROOT.TCanvas(\"c1\", \"c1\", 560, 560)\n",
    "# c1.SetRightMargin(0.)\n",
    "# c1.SetTopMargin(0.)\n",
    "mg = ROOT.TMultiGraph()\n",
    "mg.Add(gr1.GetPtr())\n",
    "mg.Add(gr2.GetPtr())\n",
    "mg.Draw(\"ap\")\n",
    "mg.GetXaxis().SetTitle(\"S/E\")\n",
    "mg.GetYaxis().SetTitle(\"C/E\")\n",
    "mg.GetXaxis().CenterTitle()\n",
    "mg.GetYaxis().CenterTitle()\n",
    "mg.SetMinimum(0)\n",
    "mg.SetMaximum(1.2)\n",
    "mg.GetXaxis().SetLimits(0, 1.2)\n",
    "\n",
    "# \n",
    "labelsize = 1.2 * mg.GetYaxis().GetLabelSize()\n",
    "titlesize = 1.4 * mg.GetYaxis().GetTitleSize()\n",
    "xtitleoffset = 1.2 * mg.GetXaxis().GetTitleOffset()\n",
    "ytitleoffset = 0.9 * xtitleoffset\n",
    "xlabeloffset = 2 * mg.GetXaxis().GetLabelOffset()\n",
    "ylabeloffset = 1.5 * mg.GetYaxis().GetLabelOffset()\n",
    "linewidth = 2\n",
    "ticklength = 0.02\n",
    "\n",
    "# add legend\n",
    "legend = ROOT.TLegend(0.12, 0.88, 0.32, 0.98)\n",
    "legend.SetFillColor(0)\n",
    "legend.SetBorderSize(0)\n",
    "legend.SetTextSize(0.03)\n",
    "legend.AddEntry(gr1.GetValue(), \"electron\", \"p\")\n",
    "legend.AddEntry(gr2.GetValue(), \"pion\", \"p\")\n",
    "legend.Draw()\n",
    "c1.Draw()\n",
    "c1.Print(\"hXY.png\")"
   ]
  },
  {
   "cell_type": "markdown",
   "metadata": {},
   "source": [
    "## Energy resolution"
   ]
  },
  {
   "cell_type": "code",
   "execution_count": 3,
   "metadata": {},
   "outputs": [
    {
     "name": "stdout",
     "output_type": "stream",
     "text": [
      "{ \"PrimaryPDG\", \"PrimaryEnergy\", \"PrimaryDecayMode\", \"LateralLeakage\", \"AbsorberMaterial\", \"VoxelsAlongY\", \"VecShowerPDG\", \"VecShowerCharge\", \"VecShowerPosition\", \"VecShowerEnergy\", \"VecShowerMomentum\", \"VecShowerCkovCoMi\", \"VecShowerCkovCoMj\", \"VecShowerScntCoMi\", \"VecShowerScntCoMj\", \"VecIndexCkov\", \"VecSignalCkov\", \"VecIndexScnt\", \"VecSignalScnt\" }\n"
     ]
    }
   ],
   "source": [
    "# create rdataframe\n",
    "path = \"/groups/hep/mojen/repositories/DREAM/Run/final_run/range\"\n",
    "fileName = os.path.join(path, \"range2.root\")\n",
    "rdf = ROOT.ROOT.RDataFrame(\"B4\", os.path.join(path, fileName))\n",
    "print(rdf.GetColumnNames())"
   ]
  },
  {
   "cell_type": "code",
   "execution_count": 6,
   "metadata": {},
   "outputs": [],
   "source": [
    "rdf2 = rdf\n",
    "rdf2 = rdf2.Define(\"Chi\", f\"{cal['chi']}\")\n",
    "rdf2 = rdf2.Define(\"VecSignalScnt_corr\", leakageCorrection(\"VecSignalScnt\"))\n",
    "rdf2 = rdf2.Define(\"VecSignalCkov_corr\", leakageCorrection(\"VecSignalCkov\"))\n",
    "rdf2 = rdf2.Define(\"VecSignalScnt_cal\", f\"VecSignalScnt*{cal['Scnt']}\")\n",
    "rdf2 = rdf2.Define(\"VecSignalCkov_cal\", f\"VecSignalCkov*{cal['Ckov']}\")\n",
    "rdf2 = rdf2.Define(\"Ssum\", \"Sum(VecSignalScnt_cal)\")\n",
    "rdf2 = rdf2.Define(\"Csum\", \"Sum(VecSignalCkov_cal)\")\n",
    "rdf2 = rdf2.Define(\"Snorm\", f\"Ssum / PrimaryEnergy\")\n",
    "rdf2 = rdf2.Define(\"Cnorm\", f\"Csum / PrimaryEnergy\")\n",
    "rdf2 = rdf2.Define(\"CoverS\", \"Cnorm/Snorm\")\n",
    "rdf2 = rdf2.Define(\"PrimaryEnergy_GeV\", \"PrimaryEnergy / 1000.\")\n",
    "rdf2_e = rdf2.Filter(\"PrimaryPDG == 11\", \"electron\")\n",
    "rdf2_pi = rdf2.Filter(\"PrimaryPDG == -211\", \"pion\")\n",
    "rdf2_e = rdf2_e.Define(\"reconstructed_energy\", f\"(Ssum+Csum)/2\")\n",
    "rdf2_pi = rdf2_pi.Define(\"reconstructed_energy\", f\"(Ssum-Chi*Csum)/(1-Chi)\")\n",
    "rdf2_e = rdf2_e.Define(\"rmse\", \"sqrt(pow(PrimaryEnergy-reconstructed_energy, 2))/PrimaryEnergy*100\")\n",
    "rdf2_pi = rdf2_pi.Define(\"rmse\", \"sqrt(pow(PrimaryEnergy-reconstructed_energy, 2))/PrimaryEnergy*100\")\n",
    "\n",
    "# print cuts report\n",
    "# cutsReport = rdf_energy_pi.Report()\n",
    "# cutsReport.Print()"
   ]
  },
  {
   "cell_type": "code",
   "execution_count": 7,
   "metadata": {},
   "outputs": [
    {
     "ename": "NameError",
     "evalue": "name 'linewidth' is not defined",
     "output_type": "error",
     "traceback": [
      "\u001b[0;31m---------------------------------------------------------------------------\u001b[0m",
      "\u001b[0;31mNameError\u001b[0m                                 Traceback (most recent call last)",
      "\u001b[0;32m<ipython-input-7-29cdaab8be6b>\u001b[0m in \u001b[0;36m<module>\u001b[0;34m\u001b[0m\n\u001b[1;32m     15\u001b[0m \u001b[0;31m#     hX.SetStats(False)\u001b[0m\u001b[0;34m\u001b[0m\u001b[0;34m\u001b[0m\u001b[0m\n\u001b[1;32m     16\u001b[0m \u001b[0;34m\u001b[0m\u001b[0m\n\u001b[0;32m---> 17\u001b[0;31m     \u001b[0mh_e\u001b[0m\u001b[0;34m[\u001b[0m\u001b[0mi\u001b[0m\u001b[0;34m]\u001b[0m\u001b[0;34m.\u001b[0m\u001b[0mSetLineWidth\u001b[0m\u001b[0;34m(\u001b[0m\u001b[0mlinewidth\u001b[0m\u001b[0;34m)\u001b[0m\u001b[0;34m\u001b[0m\u001b[0m\n\u001b[0m\u001b[1;32m     18\u001b[0m     \u001b[0mh_pi\u001b[0m\u001b[0;34m[\u001b[0m\u001b[0mi\u001b[0m\u001b[0;34m]\u001b[0m\u001b[0;34m.\u001b[0m\u001b[0mSetLineWidth\u001b[0m\u001b[0;34m(\u001b[0m\u001b[0mlinewidth\u001b[0m\u001b[0;34m)\u001b[0m\u001b[0;34m\u001b[0m\u001b[0m\n\u001b[1;32m     19\u001b[0m \u001b[0;34m\u001b[0m\u001b[0m\n",
      "\u001b[0;31mNameError\u001b[0m: name 'linewidth' is not defined"
     ]
    },
    {
     "name": "stdout",
     "output_type": "stream",
     "text": [
      " FCN=325.677 FROM MIGRAD    STATUS=CONVERGED      94 CALLS          95 TOTAL\n",
      "                     EDM=9.19682e-10    STRATEGY= 1      ERROR MATRIX ACCURATE \n",
      "  EXT PARAMETER                                   STEP         FIRST   \n",
      "  NO.   NAME      VALUE            ERROR          SIZE      DERIVATIVE \n",
      "   1  Constant     1.00731e+03   1.38807e+01   9.03822e-02   2.40411e-06\n",
      "   2  Mean         8.71941e-01   7.83880e-04   6.87703e-06   3.95362e-02\n",
      "   3  Sigma        7.66315e-02   7.12893e-04   1.69307e-05   3.46434e-03\n"
     ]
    }
   ],
   "source": [
    "c2 = ROOT.TCanvas(\"c1\", \"c1\", 1000, 600)\n",
    "c2.Divide(3)\n",
    "ROOT.gStyle.SetOptStat(\"mr\")\n",
    "modelX = (\"\", \"\", 70, 0., 1.4)\n",
    "h_e = [None, None, None]\n",
    "h_pi = [None, None, None]\n",
    "for i,col in enumerate(['Snorm', 'Cnorm', 'reconstructed_energy']):\n",
    "    c2.cd(i+1)\n",
    "    h_e[i] = rdf2_e.Histo1D(modelX, col)\n",
    "    h_pi[i] = rdf2_pi.Histo1D(modelX, col)\n",
    "    h_e[i].SetLineColor(palette['blue'].GetNumber())\n",
    "    h_pi[i].SetLineColor(palette['red'].GetNumber())\n",
    "    # \n",
    "    r = h_pi[i].Fit(\"gaus\", \"S\")\n",
    "#     hX.SetStats(False)\n",
    "\n",
    "    h_e[i].SetLineWidth(linewidth)\n",
    "    h_pi[i].SetLineWidth(linewidth)\n",
    "\n",
    "    h_e[i].Draw()\n",
    "    h_pi[i].Draw(\"sames\")\n",
    "    \n",
    "    if i == 0:\n",
    "        h_e[i].GetYaxis().SetTitle(f\"Events / {h_e[i].GetBinWidth(1)}\")\n",
    "        h_e[i].GetYaxis().CenterTitle()\n",
    "    else:\n",
    "        h_e[i].GetYaxis().SetLabelOffset(999)\n",
    "        h_e[i].GetYaxis().SetLabelSize(0)\n",
    "\n",
    "#     ROOT.gPad.SetLeftMargin(0.05)\n",
    "    ROOT.gPad.SetRightMargin(0.02)\n",
    "        \n",
    "    c2.Update()\n",
    "\n",
    "    # stat box\n",
    "#     stats1 = hX_e.GetListOfFunctions().FindObject(\"stats\")\n",
    "#     hX_e.GetListOfFunctions().Remove(stats1)\n",
    "#     hX_e.SetStats(0)\n",
    "#     stats1.SetTextColor(palette['blue'].GetNumber())\n",
    "\n",
    "#     stats1.SetX1NDC(0.1+2*ticklength)\n",
    "#     stats1.SetY2NDC(1-2*ticklength)\n",
    "#     stats1.SetX2NDC(stats1.GetX1NDC()+0.3)\n",
    "#     stats1.SetY1NDC(stats1.GetY2NDC()-0.1*520/280)\n",
    "#     stats1.SetTextSize(labelsize*520/280)\n",
    "#     stats1.SetBorderSize(0)\n",
    "#     stats1.GetListOfLines().Remove(stats1.GetLineWith(\"Mean y\"))\n",
    "#     stats1.Draw()\n",
    "#     hX_e.SetStats(0)\n",
    "\n",
    "#     stats2 = hX_pi.GetListOfFunctions().FindObject(\"stats\")\n",
    "#     hX_pi.GetListOfFunctions().Remove(stats2)\n",
    "#     hX_pi.SetStats(0)\n",
    "#     stats2.SetTextColor(palette['red'].GetNumber())\n",
    "#     stats2.SetX2NDC(stats1.GetX2NDC())\n",
    "#     stats2.SetY2NDC(stats1.GetY1NDC())\n",
    "#     stats2.SetX1NDC(stats1.GetX1NDC())\n",
    "#     stats2.SetY1NDC(stats1.GetY1NDC()-0.1*520/280)\n",
    "#     stats2.SetTextSize(labelsize*520/280)\n",
    "#     stats2.SetBorderSize(0)\n",
    "#     stats2.Draw()\n",
    "#     hX_pi.SetStats(0)\n",
    "\n",
    "    h_e[i].SetAxisRange(0., 400., \"Y\")\n",
    "\n",
    "c2.Draw()\n",
    "c2.Print(\"hX.png\")"
   ]
  },
  {
   "cell_type": "code",
   "execution_count": null,
   "metadata": {},
   "outputs": [],
   "source": []
  },
  {
   "cell_type": "code",
   "execution_count": 87,
   "metadata": {
    "scrolled": false
   },
   "outputs": [
    {
     "name": "stdout",
     "output_type": "stream",
     "text": [
      " FCN=4.72723 FROM MIGRAD    STATUS=CONVERGED      36 CALLS          37 TOTAL\n",
      "                     EDM=4.37328e-21    STRATEGY= 1      ERROR MATRIX ACCURATE \n",
      "  EXT PARAMETER                                   STEP         FIRST   \n",
      "  NO.   NAME      VALUE            ERROR          SIZE      DERIVATIVE \n",
      "   1  p0           7.04098e+00   2.57829e-01   9.56115e-05  -1.13796e-09\n",
      "   2  p1           3.73693e-01   3.69693e-02   1.37094e-05  -7.28842e-09\n",
      " FCN=6.07462 FROM MIGRAD    STATUS=CONVERGED      35 CALLS          36 TOTAL\n",
      "                     EDM=2.10761e-21    STRATEGY= 1      ERROR MATRIX ACCURATE \n",
      "  EXT PARAMETER                                   STEP         FIRST   \n",
      "  NO.   NAME      VALUE            ERROR          SIZE      DERIVATIVE \n",
      "   1  p0           2.27019e+01   1.39225e+00   6.57246e-04  -3.37841e-11\n",
      "   2  p1           3.31400e+00   2.38211e-01   1.12453e-04   7.89819e-11\n"
     ]
    },
    {
     "data": {
      "image/png": "[encoded data removed]",
      "text/plain": [
       "<IPython.core.display.Image object>"
      ]
     },
     "metadata": {},
     "output_type": "display_data"
    }
   ],
   "source": [
    "c5 = ROOT.TCanvas(\"c5\", \"c5\", 600, 600)\n",
    "ROOT.gStyle.SetOptFit(1)\n",
    "ROOT.gStyle.SetOptStat(\"e\")\n",
    "model = (\"\", \"\", 1000, 5., 105.)\n",
    "f1 = [None, None]\n",
    "f1[0] = ROOT.TF1(\"f1\",\"[0]/sqrt(x)+[1]\")\n",
    "f1[1] = f1[0].Clone()\n",
    "p = [None, None]\n",
    "r = [None, None]\n",
    "\n",
    "marker = [ROOT.kFullCircle, ROOT.kFullTriangleUp]\n",
    "color = [palette['blue'].GetNumber(), palette['red'].GetNumber()]\n",
    "\n",
    "x2ndc = 1-0.12\n",
    "y2ndc = 1-0.12-0.012\n",
    "x1ndc = x2ndc-0.4\n",
    "dy1ndc = 0.2\n",
    "\n",
    "for i,rdf in enumerate([rdf2_e, rdf2_pi]):\n",
    "    p[i] = rdf.Profile1D(model, \"PrimaryEnergy_GeV\", \"rmse\")\n",
    "    if i == 0:\n",
    "        p[i].Draw()\n",
    "    else:\n",
    "        p[i].Draw('sames')\n",
    "        \n",
    "    labelsize = 1.2 * p[i].GetYaxis().GetLabelSize()\n",
    "    linewidth = 3\n",
    "    ticklength = 0.02\n",
    "        \n",
    "    f1[i].SetLineColor(color[i])\n",
    "    r[i] = p[i].Fit(f1[i], \"S\")\n",
    "#     p[i].SetLineWidth(linewidth)\n",
    "    p[i].GetYaxis().SetTitle(\"Energy resolution, #sigma/E\")\n",
    "    p[i].GetXaxis().SetTitle(\"E_{beam} [GeV]\")\n",
    "    p[i].GetYaxis().CenterTitle()\n",
    "    p[i].GetXaxis().CenterTitle()\n",
    "    p[i].SetAxisRange(0., 16., \"Y\")\n",
    "    p[i].SetMarkerStyle(marker[i])\n",
    "    \n",
    "    c5.Update()\n",
    "\n",
    "    # stat box\n",
    "    stats1 = p[i].GetListOfFunctions().FindObject(\"stats\")\n",
    "    p[i].GetListOfFunctions().Remove(stats1)\n",
    "    p[i].SetStats(0)\n",
    "    stats1.GetLineWith(\"Entries\").SetTextColor(ROOT.kBlack)\n",
    "    stats1.SetTextColor(color[i])\n",
    "    stats1.SetX2NDC(x2ndc)\n",
    "    stats1.SetY2NDC(y2ndc)\n",
    "    stats1.SetX1NDC(x1ndc)\n",
    "    stats1.SetY1NDC(stats1.GetY2NDC()-dy1ndc)\n",
    "    y2ndc = stats1.GetY1NDC()\n",
    "    dy1ndc = 0.15\n",
    "    if i == 1:\n",
    "        stats1.GetListOfLines().Remove(stats1.GetLineWith(\"Entries\"))\n",
    "    stats1.SetTextSize(labelsize)\n",
    "    stats1.SetBorderSize(0)\n",
    "    stats1.Draw()\n",
    "    p[i].SetStats(0)\n",
    "\n",
    "# add legend\n",
    "legend = ROOT.TLegend(0.12+0.03, 1-0.12-0.03, 0.32, 1-0.12-0.15)\n",
    "legend.SetFillColor(0)\n",
    "legend.SetBorderSize(0)\n",
    "legend.SetTextSize(labelsize)\n",
    "legend.AddEntry(p[0].GetValue(), \"electron\", \"p\")\n",
    "legend.AddEntry(p[1].GetValue(), \"proton\", \"p\")\n",
    "legend.Draw()\n",
    "    \n",
    "c5.Draw()"
   ]
  },
  {
   "cell_type": "markdown",
   "metadata": {},
   "source": [
    "### Particle identification"
   ]
  },
  {
   "cell_type": "code",
   "execution_count": 7,
   "metadata": {},
   "outputs": [],
   "source": [
    "# create rdataframe\n",
    "path = \"/groups/hep/mojen/repositories/DREAM/Run/final_run/pid\"\n",
    "rdf = {}\n",
    "for x in ['electron', 'proton']:\n",
    "    fileName = os.path.join(path, f\"{x}/{x}.root\")\n",
    "    rdf[x] = ROOT.ROOT.RDataFrame(\"B4\", os.path.join(path, fileName))\n",
    "    rdf[x] = rdf[x].Define(\"VecSignalScnt_corr\", leakageCorrection(\"VecSignalScnt\"))\n",
    "    rdf[x] = rdf[x].Define(\"VecSignalCkov_corr\", leakageCorrection(\"VecSignalCkov\"))\n",
    "    rdf[x] = rdf[x].Define(\"VecSignalScnt_cal\", f\"VecSignalScnt*{cal['Scnt']}\")\n",
    "    rdf[x] = rdf[x].Define(\"VecSignalCkov_cal\", f\"VecSignalCkov*{cal['Ckov']}\")\n",
    "    rdf[x] = rdf[x].Define(\"Ssum\", \"Sum(VecSignalScnt_cal)\")\n",
    "    rdf[x] = rdf[x].Define(\"Csum\", \"Sum(VecSignalCkov_cal)\")\n",
    "    rdf[x] = rdf[x].Define(\"Snorm\", f\"Ssum / PrimaryEnergy\")\n",
    "    rdf[x] = rdf[x].Define(\"Cnorm\", f\"Csum / PrimaryEnergy\")\n",
    "    rdf[x] = rdf[x].Define(\"CoverS\", \"Cnorm/Snorm\")"
   ]
  },
  {
   "cell_type": "code",
   "execution_count": 16,
   "metadata": {},
   "outputs": [
    {
     "data": {
      "image/png": "[encoded data removed]",
      "text/plain": [
       "<IPython.core.display.Image object>"
      ]
     },
     "metadata": {},
     "output_type": "display_data"
    }
   ],
   "source": [
    "c6 = ROOT.TCanvas(\"c6\", \"c6\", 600, 400)\n",
    "ROOT.gPad.SetLeftMargin(0.12)\n",
    "ROOT.gPad.SetBottomMargin(0.12)\n",
    "ROOT.gPad.SetRightMargin(0.12)\n",
    "ROOT.gPad.SetTopMargin(0.12)\n",
    "ROOT.gStyle.SetOptStat(\"emr\")\n",
    "\n",
    "model = (\"\",\"\", 90, 0., 1.8)\n",
    "h6_e = rdf['electron'].Histo1D(model, \"CoverS\")\n",
    "h6_pi = rdf['proton'].Histo1D(model, \"CoverS\")\n",
    "h6_e.SetLineColor(palette['blue'].GetNumber())\n",
    "h6_pi.SetLineColor(palette['red'].GetNumber())\n",
    "h6_e.Draw()\n",
    "h6_pi.Draw(\"sames\")\n",
    "\n",
    "labelsize = 1.2 * h6_e.GetYaxis().GetLabelSize()\n",
    "titlesize = 1.4 * h6_e.GetYaxis().GetTitleSize()\n",
    "xtitleoffset = 1.2 * h6_e.GetXaxis().GetTitleOffset()\n",
    "ytitleoffset = 0.9 * xtitleoffset\n",
    "xlabeloffset = 2 * h6_e.GetXaxis().GetLabelOffset()\n",
    "ylabeloffset = 1.5 * h6_e.GetYaxis().GetLabelOffset()\n",
    "linewidth = 2\n",
    "ticklength = 0.02\n",
    "x2ndc = 1-0.12\n",
    "y2ndc = 1-0.12-0.012\n",
    "\n",
    "h6_e.GetXaxis().SetTitle(\"C / S\")\n",
    "h6_e.GetXaxis().SetTitleSize(titlesize)\n",
    "h6_e.GetXaxis().SetLabelSize(labelsize)\n",
    "h6_e.GetXaxis().SetLabelOffset(xlabeloffset)\n",
    "h6_e.GetXaxis().CenterTitle()\n",
    "h6_e.GetXaxis().SetTitleOffset(xtitleoffset)\n",
    "h6_e.GetXaxis().SetTickLength(ticklength)\n",
    "binwidth = h6_e.GetBinWidth(1)\n",
    "h6_e.SetAxisRange(0., 600., \"Y\")\n",
    "h6_e.GetYaxis().SetTitle(f\"Events / {binwidth}\")\n",
    "h6_e.GetYaxis().SetTitleSize(titlesize)\n",
    "h6_e.GetYaxis().SetLabelSize(labelsize)\n",
    "h6_e.GetYaxis().SetLabelOffset(ylabeloffset)\n",
    "h6_e.GetYaxis().CenterTitle()\n",
    "h6_e.GetYaxis().SetTitleOffset(ytitleoffset)\n",
    "h6_e.GetYaxis().SetTickLength(ticklength)\n",
    "\n",
    "h6_e.SetLineWidth(linewidth)\n",
    "h6_pi.SetLineWidth(linewidth)\n",
    "\n",
    "c6.Update()\n",
    "\n",
    "# stat box\n",
    "stats1 = h6_e.GetListOfFunctions().FindObject(\"stats\")\n",
    "h6_e.GetListOfFunctions().Remove(stats1)\n",
    "h6_e.SetStats(0)\n",
    "stats1.SetTextColor(palette['blue'].GetNumber())\n",
    "\n",
    "stats1.SetX2NDC(x2ndc)\n",
    "stats1.SetY2NDC(y2ndc)\n",
    "stats1.SetX1NDC(stats1.GetX2NDC()-0.25)\n",
    "stats1.SetY1NDC(stats1.GetY2NDC()-0.12*6/4)\n",
    "stats1.SetTextSize(labelsize)\n",
    "stats1.SetBorderSize(0)\n",
    "stats1.GetListOfLines().Remove(stats1.GetLineWith(\"Mean y\"))\n",
    "stats1.Draw()\n",
    "h6_e.SetStats(0)\n",
    "\n",
    "stats2 = h6_pi.GetListOfFunctions().FindObject(\"stats\")\n",
    "h6_pi.GetListOfFunctions().Remove(stats2)\n",
    "h6_pi.SetStats(0)\n",
    "stats2.SetTextColor(palette['red'].GetNumber())\n",
    "stats2.SetX2NDC(stats1.GetX2NDC())\n",
    "stats2.SetY2NDC(stats1.GetY1NDC())\n",
    "stats2.SetX1NDC(stats1.GetX1NDC())\n",
    "stats2.SetY1NDC(stats1.GetY1NDC()-0.12*6/4)\n",
    "stats2.SetTextSize(labelsize)\n",
    "stats2.SetBorderSize(0)\n",
    "stats2.Draw()\n",
    "h6_pi.SetStats(0)\n",
    "\n",
    "# add legend\n",
    "legend = ROOT.TLegend(0.12+0.03, 1-0.12-0.03, 0.32, 1-0.12-0.15)\n",
    "legend.SetFillColor(0)\n",
    "legend.SetBorderSize(0)\n",
    "legend.SetTextSize(labelsize)\n",
    "legend.AddEntry(h6_e.GetValue(), \"electron\", \"l\")\n",
    "legend.AddEntry(h6_pi.GetValue(), \"proton\", \"l\")\n",
    "legend.Draw()\n",
    "\n",
    "c6.Draw()\n",
    "c6.SaveAs('pid.png')"
   ]
  },
  {
   "cell_type": "code",
   "execution_count": 11,
   "metadata": {},
   "outputs": [
    {
     "name": "stdout",
     "output_type": "stream",
     "text": [
      "45 0.88 0.999 332.3333333333333\n",
      "46 0.90 0.9955 499.0\n",
      "47 0.92 0.984 665.6666666666666\n"
     ]
    }
   ],
   "source": [
    "nentries = h6_e.GetNbinsX()\n",
    "for i in range(int(nentries/2), nentries+1):\n",
    "    if h6_e.Integral(i, nentries) != 0 and h6_pi.Integral(i, nentries):\n",
    "        electron_efficiency = h6_e.Integral(i, nentries) / h6_e.Integral(1, nentries)\n",
    "        pion_rejection_factor = h6_pi.Integral(0, i-1) / h6_pi.Integral(i, nentries)\n",
    "        lowerEdge = h6_e.GetXaxis().GetBinLowEdge(i)\n",
    "        print(i, f\"{lowerEdge:.2f}\", electron_efficiency, pion_rejection_factor)"
   ]
  },
  {
   "cell_type": "markdown",
   "metadata": {},
   "source": [
    "## 3. Shower profiles"
   ]
  },
  {
   "cell_type": "code",
   "execution_count": 23,
   "metadata": {},
   "outputs": [],
   "source": [
    "path = \"/groups/hep/mojen/repositories/DREAM/Run/final_run/module\""
   ]
  },
  {
   "cell_type": "code",
   "execution_count": 24,
   "metadata": {},
   "outputs": [
    {
     "data": {
      "text/plain": [
       "True"
      ]
     },
     "execution_count": 24,
     "metadata": {},
     "output_type": "execute_result"
    }
   ],
   "source": [
    "getNij_code = '''\n",
    "using namespace ROOT::VecOps;\n",
    "RVec<int> getNi(RVec<int> v, int voxelsAlongY) {\n",
    "    return v / voxelsAlongY;\n",
    "};\n",
    "RVec<int> getNj(RVec<int> v, int voxelsAlongY) {\n",
    "    return v % voxelsAlongY;\n",
    "};\n",
    "'''\n",
    "ROOT.gInterpreter.Declare(getNij_code)"
   ]
  },
  {
   "cell_type": "code",
   "execution_count": 25,
   "metadata": {},
   "outputs": [
    {
     "data": {
      "text/plain": [
       "True"
      ]
     },
     "execution_count": 25,
     "metadata": {},
     "output_type": "execute_result"
    }
   ],
   "source": [
    "getRadialDistance_code = '''\n",
    "using namespace ROOT::VecOps;\n",
    "RVec<double> getRadialDistance(const RVec<double> &x, const RVec<double> &y)\n",
    "{ \n",
    "  auto mod = [](double x, double y) { return sqrt(x * x + y * y); };\n",
    "  return Map(x, y, mod);\n",
    "}\n",
    "'''\n",
    "ROOT.gInterpreter.Declare(getRadialDistance_code)"
   ]
  },
  {
   "cell_type": "code",
   "execution_count": 26,
   "metadata": {},
   "outputs": [
    {
     "data": {
      "text/plain": [
       "True"
      ]
     },
     "execution_count": 26,
     "metadata": {},
     "output_type": "execute_result"
    }
   ],
   "source": [
    "getArange_code ='''\n",
    "using namespace ROOT::VecOps;\n",
    "RVec<int> getArange(const int& a)\n",
    "{ \n",
    "  RVec<int> v(a);\n",
    "  std::iota(std::begin(v), std::end(v), 0);\n",
    "  return v;\n",
    "}\n",
    "'''\n",
    "ROOT.gInterpreter.Declare(getArange_code)"
   ]
  },
  {
   "cell_type": "code",
   "execution_count": 27,
   "metadata": {},
   "outputs": [
    {
     "data": {
      "text/plain": [
       "True"
      ]
     },
     "execution_count": 27,
     "metadata": {},
     "output_type": "execute_result"
    }
   ],
   "source": [
    "getRadialProfile_code ='''\n",
    "using namespace ROOT::VecOps;\n",
    "RVec<double> getRadialProfile(const RVec<double> &r, const RVec<double> &v1, const RVec<double> &xbins)\n",
    "{\n",
    "  double v2 = 0.;\n",
    "  RVec<double> v(xbins.size());\n",
    "  RVec<bool> c;\n",
    "  RVec<double> if_c_v1_else_v2;\n",
    "  for (size_t i = 0; i<xbins.size()-1; ++i) { \n",
    "    c = (r >= xbins.at(i)) && (r < xbins.at(i+1));\n",
    "    if_c_v1_else_v2 = Where(c, v1, v2);\n",
    "    v.at(i) = Sum(if_c_v1_else_v2);\n",
    "  }\n",
    "  return v;\n",
    "}\n",
    "'''\n",
    "ROOT.gInterpreter.Declare(getRadialProfile_code)"
   ]
  },
  {
   "cell_type": "code",
   "execution_count": 28,
   "metadata": {},
   "outputs": [],
   "source": [
    "# create dataframes\n",
    "treeName = \"B4\"\n",
    "rdf_profile = dict()\n",
    "for s in ['10GeV', '40GeV']:\n",
    "    fileName = os.path.join(path, f\"{s}/{s}.root\")\n",
    "    rdf_profile[s] = ROOT.ROOT.RDataFrame(treeName, os.path.join(path, fileName))\n",
    "    # define new columns\n",
    "    rdf_profile[s] = rdf_profile[s].Define(\"VecSignalScnt_corr\", leakageCorrection(\"VecSignalScnt\"))\n",
    "    rdf_profile[s] = rdf_profile[s].Define(\"VecSignalCkov_corr\", leakageCorrection(\"VecSignalCkov\"))"
   ]
  },
  {
   "cell_type": "code",
   "execution_count": 29,
   "metadata": {},
   "outputs": [],
   "source": [
    "for s, v in zip(['10GeV', '40GeV'], [\"Scnt\", \"Ckov\"]):\n",
    "    rdf_profile[s] = rdf_profile[s].Define(f\"{v}_i\", f\"getNi(VecIndex{v}, VoxelsAlongY)\")\n",
    "    rdf_profile[s] = rdf_profile[s].Define(f\"{v}_j\", f\"getNj(VecIndex{v}, VoxelsAlongY)\")\n",
    "    rdf_profile[s] = rdf_profile[s].Define(f\"{v}_x\", f\"{v}_j-VecShower{v}CoMj.at(0)\")\n",
    "    rdf_profile[s] = rdf_profile[s].Define(f\"{v}_y\", f\"{v}_i-VecShower{v}CoMi.at(0)\")\n",
    "    rdf_profile[s] = rdf_profile[s].Define(f\"{v}_norm\", f\"VecSignal{v}_corr/Sum(VecSignal{v}_corr)\")    \n",
    "#     rdf_profile[s] = rdf_profile[s].Define(f\"{v}_norm\", f\"RVec<double>(VecSignal{v})/Sum(VecSignal{v})\")    \n",
    "    rdf_profile[s] = rdf_profile[s].Define(f\"{v}_r_mm\", f\"1.5*getRadialDistance({v}_x, {v}_y)\")"
   ]
  },
  {
   "cell_type": "code",
   "execution_count": 30,
   "metadata": {},
   "outputs": [
    {
     "name": "stdout",
     "output_type": "stream",
     "text": [
      "29 0.0 17.4\n"
     ]
    }
   ],
   "source": [
    "binwidth = 0.6\n",
    "xlow = 0.\n",
    "xup = 1.5*np.sqrt(2*8**2)\n",
    "nbins = int(np.ceil((xup-xlow)/binwidth))\n",
    "xup = nbins*binwidth\n",
    "print(nbins, xlow, xup)"
   ]
  },
  {
   "cell_type": "markdown",
   "metadata": {},
   "source": [
    "Normalized signal INCLUDING under and overflow\n",
    "\n",
    "The signal is leakage corrected (normalization makes calibration void)\n",
    "\n",
    "The radial distance ($r_i$) between each individual fiber 𝑖 and the\n",
    "shower axis was then determined as Eq. 3 Antonello2018"
   ]
  },
  {
   "cell_type": "code",
   "execution_count": 42,
   "metadata": {},
   "outputs": [
    {
     "data": {
      "image/png": "[encoded data removed]",
      "text/plain": [
       "<IPython.core.display.Image object>"
      ]
     },
     "metadata": {},
     "output_type": "display_data"
    }
   ],
   "source": [
    "c8 = ROOT.TCanvas(\"c8\", \"c8\", 450, 600)\n",
    "ROOT.gStyle.SetOptStat(\"em\")\n",
    "x = [\"Scnt_r_mm\", \"Ckov_r_mm\"]\n",
    "y = [\"Scnt_norm\", \"Ckov_norm\"]\n",
    "p = [None, None]\n",
    "model = (\"\", \"\", nbins, xlow, xup)\n",
    "p[0] = rdf_profile['10GeV'].Profile1D(model, x[0], y[0])\n",
    "p[1] = rdf_profile['40GeV'].Profile1D(model, x[1], y[1])\n",
    "p[0].Draw()\n",
    "p[1].Draw(\"sames\")\n",
    "\n",
    "#\n",
    "p[0].SetLineColor(palette['blue'].GetNumber())\n",
    "p[1].SetLineColor(palette['red'].GetNumber())\n",
    "p[0].GetXaxis().SetTitle(\"Radial distance, #it{r_{i}} [mm]\")\n",
    "p[0].GetXaxis().SetRangeUser(0., 7.8)\n",
    "p[0].GetYaxis().SetTitle(f\"Fractional fibre signal / {binwidth} mm\")\n",
    "p[0].SetAxisRange(0., 0.5, \"Y\")\n",
    "\n",
    "#\n",
    "ROOT.gPad.SetLeftMargin(0.15)\n",
    "ROOT.gPad.SetBottomMargin(0.15)\n",
    "ROOT.gPad.SetRightMargin(0.05)\n",
    "ROOT.gPad.SetTopMargin(0.05)\n",
    "\n",
    "labelsize = 1 * p[0].GetYaxis().GetLabelSize()\n",
    "titlesize = 1.2 * p[0].GetYaxis().GetTitleSize()\n",
    "xtitleoffset = 1.3 * p[0].GetXaxis().GetTitleOffset()\n",
    "ytitleoffset = 1.4 * xtitleoffset\n",
    "xlabeloffset = 2 * p[0].GetXaxis().GetLabelOffset()\n",
    "ylabeloffset = 2 * p[0].GetYaxis().GetLabelOffset()\n",
    "linewidth = 3\n",
    "# x2ndc = 0.89+0.08\n",
    "# y2ndc = 0.88+0.05\n",
    "\n",
    "ticklength = 0.02\n",
    "x2ndc = 1-0.05-0.01\n",
    "y2ndc = 1-0.05-0.012\n",
    "\n",
    "p[0].SetLineWidth(linewidth)\n",
    "p[1].SetLineWidth(linewidth)\n",
    "\n",
    "p[0].GetXaxis().SetTitleSize(titlesize)\n",
    "p[0].GetXaxis().SetLabelSize(labelsize)\n",
    "p[0].GetXaxis().CenterTitle()\n",
    "p[0].GetXaxis().SetTitleOffset(xtitleoffset)\n",
    "p[0].GetXaxis().SetLabelOffset(xlabeloffset)\n",
    "\n",
    "p[0].GetYaxis().SetTitleSize(titlesize)\n",
    "p[0].GetYaxis().SetLabelSize(labelsize)\n",
    "p[0].GetYaxis().CenterTitle()\n",
    "p[0].GetYaxis().SetTitleOffset(ytitleoffset)\n",
    "p[0].GetYaxis().SetLabelOffset(ylabeloffset)\n",
    "\n",
    "c8.Update()\n",
    "\n",
    "# stat box\n",
    "stats1 = p[0].GetListOfFunctions().FindObject(\"stats\")\n",
    "p[0].GetListOfFunctions().Remove(stats1)\n",
    "p[0].SetStats(0)\n",
    "stats1.GetLineWith(\"Mean y\").SetTextColor(0)\n",
    "stats1.SetTextColor(palette['blue'].GetNumber())\n",
    "stats1.SetX2NDC(x2ndc)\n",
    "stats1.SetY2NDC(y2ndc)\n",
    "stats1.SetX1NDC(stats1.GetX2NDC()-0.3)\n",
    "stats1.SetY1NDC(stats1.GetY2NDC()-0.1)\n",
    "stats1.SetTextSize(labelsize)\n",
    "stats1.SetBorderSize(0)\n",
    "stats1.GetListOfLines().Remove(stats1.GetLineWith(\"Mean y\"))\n",
    "stats1.Draw()\n",
    "p[0].SetStats(0)\n",
    "\n",
    "stats2 = p[1].GetListOfFunctions().FindObject(\"stats\")\n",
    "p[1].GetListOfFunctions().Remove(stats2)\n",
    "p[1].SetStats(0)\n",
    "stats2.SetTextColor(palette['red'].GetNumber())\n",
    "stats2.SetX2NDC(stats1.GetX2NDC())\n",
    "stats2.SetY2NDC(stats1.GetY1NDC())\n",
    "stats2.SetX1NDC(stats1.GetX1NDC())\n",
    "stats2.SetY1NDC(stats1.GetY1NDC()-0.1)\n",
    "stats2.SetTextSize(labelsize)\n",
    "stats2.SetBorderSize(0)\n",
    "stats2.GetListOfLines().Remove(stats2.GetLineWith(\"Mean y\"))\n",
    "stats2.Draw()\n",
    "p[1].SetStats(0)\n",
    "\n",
    "# legend\n",
    "legend = ROOT.TLegend(stats1.GetX1NDC()+0.07, 0.2, stats1.GetX2NDC(), 0.3)\n",
    "legend.SetFillColor(0)\n",
    "#legend.SetTextAlign(ROOT.kHAlignLeft+ROOT.kVAlignTop)\n",
    "legend.SetBorderSize(0)\n",
    "legend.SetTextSize(labelsize)\n",
    "legend.AddEntry(p[0].GetValue(), \"Scintillation\", \"l\")\n",
    "legend.AddEntry(p[1].GetValue(), \"#check{C}erenkov\", \"l\")\n",
    "legend.Draw()\n",
    "\n",
    "c8.Modified()\n",
    "\n",
    "c8.Update()\n",
    "c8.Draw()\n",
    "c8.SaveAs(\"LateralProfile.png\")"
   ]
  },
  {
   "cell_type": "code",
   "execution_count": null,
   "metadata": {},
   "outputs": [],
   "source": []
  },
  {
   "cell_type": "code",
   "execution_count": null,
   "metadata": {},
   "outputs": [],
   "source": []
  }
 ],
 "metadata": {
  "kernelspec": {
   "display_name": "Python 3",
   "language": "python",
   "name": "python3"
  },
  "language_info": {
   "codemirror_mode": {
    "name": "ipython",
    "version": 3
   },
   "file_extension": ".py",
   "mimetype": "text/x-python",
   "name": "python",
   "nbconvert_exporter": "python",
   "pygments_lexer": "ipython3",
   "version": "3.6.5"
  }
 },
 "nbformat": 4,
 "nbformat_minor": 2
}
