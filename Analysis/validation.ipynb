{
 "cells": [
  {
   "cell_type": "markdown",
   "metadata": {},
   "source": [
    "# Validation"
   ]
  },
  {
   "cell_type": "code",
   "execution_count": 1,
   "metadata": {},
   "outputs": [
    {
     "name": "stdout",
     "output_type": "stream",
     "text": [
      "Welcome to JupyROOT 6.18/00\n"
     ]
    }
   ],
   "source": [
    "# import libraries\n",
    "import os\n",
    "import ROOT\n",
    "import numpy as np\n",
    "from scipy import stats\n",
    "from tableauColors import palette"
   ]
  },
  {
   "cell_type": "markdown",
   "metadata": {},
   "source": [
    "## 0. Create dataframes"
   ]
  },
  {
   "cell_type": "code",
   "execution_count": 2,
   "metadata": {},
   "outputs": [],
   "source": [
    "# helpers\n",
    "def leakageCorrection(col):\n",
    "    return f\"{col}*PrimaryEnergy/(PrimaryEnergy-LateralLeakage)\"\n",
    "\n",
    "def modifiedZscore(rdf, col, D=3.5):\n",
    "    x = rdf.AsNumpy(columns=[col])[col]\n",
    "    xtilde = np.median(x)\n",
    "    MAD = np.median(np.abs(x-xtilde))\n",
    "    return f\"abs(0.6745*({col}-({xtilde}))/{MAD}) <= {D}\""
   ]
  },
  {
   "cell_type": "code",
   "execution_count": 3,
   "metadata": {},
   "outputs": [],
   "source": [
    "treeName = \"B4\"\n",
    "path = \"/groups/hep/mojen/repositories/DREAM/Run/final_run/range\""
   ]
  },
  {
   "cell_type": "code",
   "execution_count": 4,
   "metadata": {},
   "outputs": [
    {
     "name": "stdout",
     "output_type": "stream",
     "text": [
      "{ \"PrimaryPDG\", \"PrimaryEnergy\", \"PrimaryDecayMode\", \"LateralLeakage\", \"AbsorberMaterial\", \"VoxelsAlongY\", \"VecShowerPDG\", \"VecShowerCharge\", \"VecShowerPosition\", \"VecShowerEnergy\", \"VecShowerMomentum\", \"VecShowerCkovCoMi\", \"VecShowerCkovCoMj\", \"VecShowerScntCoMi\", \"VecShowerScntCoMj\", \"VecIndexCkov\", \"VecSignalCkov\", \"VecIndexScnt\", \"VecSignalScnt\" }\n"
     ]
    }
   ],
   "source": [
    "# create rdataframe\n",
    "fileName = os.path.join(path, \"range.root\")\n",
    "rdf = ROOT.ROOT.RDataFrame(treeName, os.path.join(path, fileName))\n",
    "print(rdf.GetColumnNames())"
   ]
  },
  {
   "cell_type": "markdown",
   "metadata": {},
   "source": [
    "## 1. Performance"
   ]
  },
  {
   "cell_type": "markdown",
   "metadata": {},
   "source": [
    "### Energy resolution"
   ]
  },
  {
   "cell_type": "code",
   "execution_count": 5,
   "metadata": {},
   "outputs": [],
   "source": [
    "cal = np.load(\"calibration.pkl.npy\", allow_pickle=True).item()"
   ]
  },
  {
   "cell_type": "code",
   "execution_count": 6,
   "metadata": {},
   "outputs": [],
   "source": [
    "rdf2 = rdf\n",
    "# rdf2 = rdf2.Filter(\"( > 10000) && (VecShowerEnergy.at(0)) < 25000\")\n",
    "rdf2 = rdf2.Define(\"VecSignalScnt_corr\", leakageCorrection(\"VecSignalScnt\"))\n",
    "rdf2 = rdf2.Define(\"VecSignalCkov_corr\", leakageCorrection(\"VecSignalCkov\"))\n",
    "rdf2 = rdf2.Define(\"VecSignalScnt_cal\", f\"VecSignalScnt*{cal['Scnt']}\")\n",
    "rdf2 = rdf2.Define(\"VecSignalCkov_cal\", f\"VecSignalCkov*{cal['Ckov']}\")\n",
    "rdf2 = rdf2.Define(\"Snorm\", f\"Sum(VecSignalScnt_cal) / PrimaryEnergy\")\n",
    "rdf2 = rdf2.Define(\"Cnorm\", f\"Sum(VecSignalCkov_cal) / PrimaryEnergy\")\n",
    "rdf2 = rdf2.Define(\"CoverS\", \"Cnorm/Snorm\")\n",
    "rdf2_e = rdf2.Filter(\"PrimaryPDG == 11\", \"electron\")\n",
    "rdf2_pi = rdf2.Filter(\"PrimaryPDG == -211\", \"pion\")\n",
    "# print cuts report\n",
    "# cutsReport = rdf_energy_pi.Report()\n",
    "# cutsReport.Print()"
   ]
  },
  {
   "cell_type": "markdown",
   "metadata": {},
   "source": [
    "### C/E vs. S/E"
   ]
  },
  {
   "cell_type": "code",
   "execution_count": 7,
   "metadata": {},
   "outputs": [],
   "source": [
    "rdf3_e = rdf2_e.Filter(\"PrimaryEnergy > 75000 && PrimaryEnergy < 85000\")\n",
    "rdf3_pi = rdf2_pi.Filter(\"PrimaryEnergy > 75000 && PrimaryEnergy < 85000\")\n",
    "# modified Z score\n",
    "rdf3_e = rdf3_e.Filter(modifiedZscore(rdf3_e, \"Snorm\")+\"&&\"+modifiedZscore(rdf3_e, \"Cnorm\"), \"Cut2\")\n",
    "rdf3_pi = rdf3_pi.Filter(modifiedZscore(rdf3_pi, \"Snorm\")+\"&&\"+modifiedZscore(rdf3_pi, \"Cnorm\"), \"Cut2\")"
   ]
  },
  {
   "cell_type": "code",
   "execution_count": 8,
   "metadata": {},
   "outputs": [
    {
     "name": "stdout",
     "output_type": "stream",
     "text": [
      "(-0.09624381064914403, 0.002079273436710897)\n",
      "(0.7192258052735095, 8.213054549849553e-161)\n"
     ]
    }
   ],
   "source": [
    "# correlation coefficients\n",
    "SC_e = rdf3_e.AsNumpy(columns=[\"Snorm\", \"Cnorm\"])\n",
    "SC_pi = rdf3_pi.AsNumpy(columns=[\"Snorm\", \"Cnorm\"])\n",
    "print(stats.pearsonr(x=SC_e['Snorm'], y=SC_e['Cnorm']))\n",
    "print(stats.pearsonr(x=SC_pi['Snorm'], y=SC_pi['Cnorm']))"
   ]
  },
  {
   "cell_type": "code",
   "execution_count": 9,
   "metadata": {},
   "outputs": [
    {
     "name": "stdout",
     "output_type": "stream",
     "text": [
      "\n",
      "****************************************\n",
      "Minimizer is Linear\n",
      "Chi2                      =      5.78111\n",
      "NDf                       =         1003\n",
      "p0                        =    -0.549799   +/-   0.034857    \n",
      "p1                        =      1.29013   +/-   0.0393516   \n"
     ]
    }
   ],
   "source": [
    "# rotation method\n",
    "gr = rdf3_pi.Graph(\"Snorm\", \"Cnorm\")\n",
    "# linear fit\n",
    "r = gr.Fit(\"pol1\", \"S\")"
   ]
  },
  {
   "cell_type": "code",
   "execution_count": 10,
   "metadata": {},
   "outputs": [
    {
     "name": "stdout",
     "output_type": "stream",
     "text": [
      "-0.5497990908170064 1.2901297917478465 1.8950108070764413 37.779829634925235\n"
     ]
    }
   ],
   "source": [
    "p0 = r.Parameter(0)\n",
    "p1 = r.Parameter(1)\n",
    "X = p0/(1-p1)\n",
    "theta = np.pi/2 - np.arctan(p1)\n",
    "print(p0, p1, X, theta*180/np.pi)"
   ]
  },
  {
   "cell_type": "code",
   "execution_count": 11,
   "metadata": {},
   "outputs": [
    {
     "data": {
      "text/plain": [
       "True"
      ]
     },
     "execution_count": 11,
     "metadata": {},
     "output_type": "execute_result"
    }
   ],
   "source": [
    "rotate_xcoord_code = '''\n",
    "double rotate_xcoord(double x, double y, double angle, double cx) {\n",
    "    double s = sin(angle);\n",
    "    double c = cos(angle);\n",
    "    x -= cx;\n",
    "    y -= cx;\n",
    "    double xnew = x * c - y * s;\n",
    "    double ynew = x * s + y * c;\n",
    "    x = xnew + cx;\n",
    "    y = ynew + cx;\n",
    "    return x;\n",
    "};\n",
    "'''\n",
    "ROOT.gInterpreter.Declare(rotate_xcoord_code)\n",
    "rotate_ycoord_code = '''\n",
    "double rotate_ycoord(double x, double y, double angle, double cx) {\n",
    "    double s = sin(angle);\n",
    "    double c = cos(angle);\n",
    "    x -= cx;\n",
    "    y -= cx;\n",
    "    double xnew = x * c - y * s;\n",
    "    double ynew = x * s + y * c;\n",
    "    x = xnew + cx;\n",
    "    y = ynew + cx;\n",
    "    return y;\n",
    "};\n",
    "'''\n",
    "ROOT.gInterpreter.Declare(rotate_ycoord_code)"
   ]
  },
  {
   "cell_type": "code",
   "execution_count": 12,
   "metadata": {},
   "outputs": [],
   "source": [
    "rdf3_pi = rdf3_pi.Define(\"PivotPoint\", str(X))\n",
    "rdf3_pi = rdf3_pi.Define(\"PivotAngle\", str(theta))\n",
    "rdf3_pi = rdf3_pi.Define(\"Snorm_rot\", \"rotate_xcoord(Snorm, Cnorm, PivotAngle, PivotPoint)\")\n",
    "rdf3_pi = rdf3_pi.Define(\"Cnorm_rot\", \"rotate_ycoord(Snorm, Cnorm, PivotAngle, PivotPoint)\")"
   ]
  },
  {
   "cell_type": "code",
   "execution_count": 13,
   "metadata": {},
   "outputs": [
    {
     "data": {
      "image/png": "[encoded data removed]",
      "text/plain": [
       "<IPython.core.display.Image object>"
      ]
     },
     "metadata": {},
     "output_type": "display_data"
    }
   ],
   "source": [
    "c1 = ROOT.TCanvas(\"c1\", \"c1\", 600, 600)\n",
    "gr = rdf3_pi.Graph(\"Snorm_rot\", \"Cnorm_rot\")\n",
    "gr.Draw(\"ap\")\n",
    "c1.Draw()"
   ]
  },
  {
   "cell_type": "code",
   "execution_count": 14,
   "metadata": {},
   "outputs": [
    {
     "name": "stdout",
     "output_type": "stream",
     "text": [
      " FCN=32.0112 FROM MIGRAD    STATUS=CONVERGED      62 CALLS          63 TOTAL\n",
      "                     EDM=9.9932e-08    STRATEGY= 1      ERROR MATRIX ACCURATE \n",
      "  EXT PARAMETER                                   STEP         FIRST   \n",
      "  NO.   NAME      VALUE            ERROR          SIZE      DERIVATIVE \n",
      "   1  Constant     3.73226e+01   1.47959e+00   3.35690e-03   1.01728e-04\n",
      "   2  Mean         1.89614e+00   1.47753e-03   4.14122e-06   2.85208e-01\n",
      "   3  Sigma        4.54457e-02   1.08714e-03   1.78514e-05  -2.50976e-03\n"
     ]
    },
    {
     "data": {
      "image/png": "[encoded data removed]",
      "text/plain": [
       "<IPython.core.display.Image object>"
      ]
     },
     "metadata": {},
     "output_type": "display_data"
    }
   ],
   "source": [
    "c5 = ROOT.TCanvas(\"c5\", \"c5\", 1200, 400)\n",
    "h5c = rdf3_pi.Histo1D(\"Snorm_rot\")\n",
    "h5c.Draw()\n",
    "rc = h5c.Fit(\"gaus\", \"S\")\n",
    "c5.Draw()"
   ]
  },
  {
   "cell_type": "code",
   "execution_count": 15,
   "metadata": {},
   "outputs": [],
   "source": [
    "rdf3_pi = rdf3_pi.Define(\"reconstructed_energy\", f\"(Snorm-{cal['chi']}*Cnorm)/(1-{cal['chi']})\")"
   ]
  },
  {
   "cell_type": "code",
   "execution_count": 16,
   "metadata": {},
   "outputs": [
    {
     "name": "stdout",
     "output_type": "stream",
     "text": [
      " FCN=60.4877 FROM MIGRAD    STATUS=CONVERGED      70 CALLS          71 TOTAL\n",
      "                     EDM=1.72953e-11    STRATEGY= 1      ERROR MATRIX ACCURATE \n",
      "  EXT PARAMETER                                   STEP         FIRST   \n",
      "  NO.   NAME      VALUE            ERROR          SIZE      DERIVATIVE \n",
      "   1  Constant     4.26296e+01   1.81660e+00   5.31086e-03  -7.23630e-07\n",
      "   2  Mean         9.95208e-01   1.86772e-03   7.04561e-06   2.11601e-03\n",
      "   3  Sigma        5.59152e-02   1.56986e-03   2.57895e-05  -6.53245e-04\n"
     ]
    },
    {
     "data": {
      "image/png": "[encoded data removed]",
      "text/plain": [
       "<IPython.core.display.Image object>"
      ]
     },
     "metadata": {},
     "output_type": "display_data"
    }
   ],
   "source": [
    "c5 = ROOT.TCanvas(\"c5\", \"c5\", 1200, 400)\n",
    "h5c = rdf3_pi.Histo1D(\"reconstructed_energy\")\n",
    "h5c.Draw()\n",
    "rc = h5c.Fit(\"gaus\", \"S\")\n",
    "c5.Draw()"
   ]
  },
  {
   "cell_type": "code",
   "execution_count": 17,
   "metadata": {},
   "outputs": [],
   "source": [
    "# C/E vs S/E\n",
    "gr1 = rdf3_e.Graph(\"Snorm\", \"Cnorm\")\n",
    "gr2 = rdf3_pi.Graph(\"Snorm\", \"Cnorm\")\n",
    "gr1.SetMarkerColor(palette['blue'].GetNumber())\n",
    "gr2.SetMarkerColor(palette['red'].GetNumber())\n",
    "gr1.SetMarkerStyle(ROOT.kFullDotSmall)\n",
    "gr2.SetMarkerStyle(ROOT.kFullDotSmall)"
   ]
  },
  {
   "cell_type": "code",
   "execution_count": 268,
   "metadata": {},
   "outputs": [
    {
     "data": {
      "image/png": "[encoded data removed]",
      "text/plain": [
       "<IPython.core.display.Image object>"
      ]
     },
     "metadata": {},
     "output_type": "display_data"
    }
   ],
   "source": [
    "ratio = 7/3\n",
    "nbins = 40\n",
    "c1 = ROOT.TCanvas(\"c1\", \"c1\", 560, 560)\n",
    "# c1.SetRightMargin(0.)\n",
    "# c1.SetTopMargin(0.)\n",
    "mg = ROOT.TMultiGraph()\n",
    "mg.Add(gr1.GetPtr())\n",
    "mg.Add(gr2.GetPtr())\n",
    "mg.Draw(\"ap\")\n",
    "mg.GetXaxis().SetTitle(\"S/E\")\n",
    "mg.GetYaxis().SetTitle(\"C/E\")\n",
    "mg.GetXaxis().CenterTitle()\n",
    "mg.GetYaxis().CenterTitle()\n",
    "mg.SetMinimum(0)\n",
    "mg.SetMaximum(1.2)\n",
    "mg.GetXaxis().SetLimits(0, 1.2)\n",
    "\n",
    "# \n",
    "labelsize = 1.2 * mg.GetYaxis().GetLabelSize()\n",
    "titlesize = 1.4 * mg.GetYaxis().GetTitleSize()\n",
    "xtitleoffset = 1.2 * mg.GetXaxis().GetTitleOffset()\n",
    "ytitleoffset = 0.9 * xtitleoffset\n",
    "xlabeloffset = 2 * mg.GetXaxis().GetLabelOffset()\n",
    "ylabeloffset = 1.5 * mg.GetYaxis().GetLabelOffset()\n",
    "linewidth = 2\n",
    "ticklength = 0.02\n",
    "\n",
    "# add legend\n",
    "legend = ROOT.TLegend(0.12, 0.88, 0.32, 0.98)\n",
    "legend.SetFillColor(0)\n",
    "legend.SetBorderSize(0)\n",
    "legend.SetTextSize(0.03)\n",
    "legend.AddEntry(gr1.GetValue(), \"electron\", \"p\")\n",
    "legend.AddEntry(gr2.GetValue(), \"pion\", \"p\")\n",
    "legend.Draw()\n",
    "c1.Draw()\n",
    "c1.Print(\"hXY.png\")"
   ]
  },
  {
   "cell_type": "code",
   "execution_count": 267,
   "metadata": {},
   "outputs": [
    {
     "data": {
      "image/png": "[encoded data removed]",
      "text/plain": [
       "<IPython.core.display.Image object>"
      ]
     },
     "metadata": {},
     "output_type": "display_data"
    }
   ],
   "source": [
    "c2 = ROOT.TCanvas(\"c1\", \"c1\", 560, 240)\n",
    "ROOT.gStyle.SetOptStat(\"mr\")\n",
    "c2.SetRightMargin(0.)\n",
    "# c2.SetTopMargin(0.)\n",
    "modelX = (\"\", \"\", nbins, mg.GetXaxis().GetXmin(), mg.GetXaxis().GetXmax())\n",
    "hX_e = rdf3_e.Histo1D(modelX, \"Snorm\")\n",
    "hX_pi = rdf3_pi.Histo1D(modelX, \"Snorm\")\n",
    "hX_e.SetFillStyle(0)\n",
    "hX_e.SetLineColor(palette['blue'].GetNumber())\n",
    "hX_pi.SetFillStyle(0)\n",
    "hX_pi.SetLineColor(palette['red'].GetNumber())\n",
    "# hX.GetXaxis().SetLabelOffset(999)\n",
    "# hX.GetXaxis().SetLabelSize(0)\n",
    "# hX.GetYaxis().SetLabelSize(mg.GetYaxis().GetLabelSize()*ratio)\n",
    "#rX = hX_pi.Fit(\"gaus\", \"S\")\n",
    "#hX.SetStats(False)\n",
    "\n",
    "hX_e.SetLineWidth(linewidth)\n",
    "hX_pi.SetLineWidth(linewidth)\n",
    "\n",
    "hX_e.Draw()\n",
    "hX_pi.Draw(\"sames\")\n",
    "\n",
    "c2.Update()\n",
    "\n",
    "# stat box\n",
    "stats1 = hX_e.GetListOfFunctions().FindObject(\"stats\")\n",
    "hX_e.GetListOfFunctions().Remove(stats1)\n",
    "hX_e.SetStats(0)\n",
    "stats1.SetTextColor(palette['blue'].GetNumber())\n",
    "\n",
    "stats1.SetX1NDC(0.1+2*ticklength)\n",
    "stats1.SetY2NDC(1-2*ticklength)\n",
    "stats1.SetX2NDC(stats1.GetX1NDC()+0.3)\n",
    "stats1.SetY1NDC(stats1.GetY2NDC()-0.1*520/280)\n",
    "stats1.SetTextSize(labelsize*520/280)\n",
    "stats1.SetBorderSize(0)\n",
    "stats1.GetListOfLines().Remove(stats1.GetLineWith(\"Mean y\"))\n",
    "stats1.Draw()\n",
    "hX_e.SetStats(0)\n",
    "\n",
    "stats2 = hX_pi.GetListOfFunctions().FindObject(\"stats\")\n",
    "hX_pi.GetListOfFunctions().Remove(stats2)\n",
    "hX_pi.SetStats(0)\n",
    "stats2.SetTextColor(palette['red'].GetNumber())\n",
    "stats2.SetX2NDC(stats1.GetX2NDC())\n",
    "stats2.SetY2NDC(stats1.GetY1NDC())\n",
    "stats2.SetX1NDC(stats1.GetX1NDC())\n",
    "stats2.SetY1NDC(stats1.GetY1NDC()-0.1*520/280)\n",
    "stats2.SetTextSize(labelsize*520/280)\n",
    "stats2.SetBorderSize(0)\n",
    "stats2.Draw()\n",
    "hX_pi.SetStats(0)\n",
    "\n",
    "hX_e.SetAxisRange(0., 600., \"Y\")\n",
    "\n",
    "c2.Draw()\n",
    "c2.Print(\"hX.png\")"
   ]
  },
  {
   "cell_type": "code",
   "execution_count": 265,
   "metadata": {},
   "outputs": [
    {
     "data": {
      "image/png": "[encoded data removed]",
      "text/plain": [
       "<IPython.core.display.Image object>"
      ]
     },
     "metadata": {},
     "output_type": "display_data"
    }
   ],
   "source": [
    "c3 = ROOT.TCanvas(\"c3\", \"c3\", 560, 240)\n",
    "ROOT.gStyle.SetOptStat(0)\n",
    "c3.SetLeftMargin(0.)\n",
    "# c3.SetTopMargin(0.)\n",
    "xmin = mg.GetYaxis().GetXmin()\n",
    "xmax = mg.GetYaxis().GetXmax()\n",
    "modelY = (\"\", \"\", nbins, xmin, xmax)\n",
    "rdf_energy_pi_rev = rdf3_pi\n",
    "rdf_energy_pi_rev = rdf_energy_pi_rev.Define(\"reversedCnorm_cal\", f\"{xmax}-Cnorm+{xmin}\")\n",
    "rdf_energy_e_rev = rdf3_e\n",
    "rdf_energy_e_rev = rdf_energy_e_rev.Define(\"reversedCnorm_cal\", f\"{xmax}-Cnorm+{xmin}\")\n",
    "hY_e = rdf_energy_e_rev.Histo1D(modelY, \"reversedCnorm_cal\")\n",
    "hY_e.SetFillStyle(0)\n",
    "hY_e.SetLineColor(palette['blue'].GetNumber())\n",
    "hY_pi = rdf_energy_pi_rev.Histo1D(modelY, \"reversedCnorm_cal\")\n",
    "hY_pi.SetFillStyle(0)\n",
    "hY_pi.SetLineColor(palette['red'].GetNumber())\n",
    "#hY_pi.GetYaxis().SetLabelSize(mg.GetYaxis().GetLabelSize()*ratio)\n",
    "\n",
    "#rY = hY.Fit(\"gaus\", \"S\")\n",
    "#hY.SetStats(False)\n",
    "hY_e.Draw(\"Y+\")\n",
    "hY_pi.Draw(\"sames\")\n",
    "\n",
    "hY_e.SetLineWidth(linewidth)\n",
    "hY_pi.SetLineWidth(linewidth)\n",
    "\n",
    "labelsize2 = 560/240*labelsize\n",
    "\n",
    "legend1 = ROOT.TLatex()\n",
    "legend1.SetTextAngle(90)\n",
    "legend1.SetTextSize(labelsize2)\n",
    "legend1.SetTextFont(42)\n",
    "legend1.SetTextColor(palette['blue'].GetNumber())\n",
    "legend1.DrawTextNDC(0.70, 0.14, \"Mean\")\n",
    "legend1.DrawTextNDC(0.74, 0.14, \"Std Dev\")\n",
    "\n",
    "legend2 = ROOT.TLatex()\n",
    "legend2.SetTextAngle(90)\n",
    "legend2.SetTextSize(labelsize2)\n",
    "legend2.SetTextFont(42)\n",
    "legend2.SetTextColor(palette['red'].GetNumber())\n",
    "legend2.DrawTextNDC(0.78, 0.14, \"Mean\")\n",
    "legend2.DrawTextNDC(0.82, 0.14, \"Std Dev\")\n",
    "\n",
    "legend3 = ROOT.TLatex()\n",
    "legend3.SetTextAngle(90)\n",
    "legend3.SetTextSize(labelsize2)\n",
    "legend3.SetTextFont(42)\n",
    "legend3.SetTextColor(palette['blue'].GetNumber())\n",
    "legend3.SetTextAlign(31)\n",
    "legend3.DrawTextNDC(0.70, 0.8, f\"{xmax-hY_e.GetMean()+xmin:.4g}\")\n",
    "legend3.DrawTextNDC(0.74, 0.8, f\"{hY_e.GetRMS():.4g}\")\n",
    "\n",
    "legend4 = ROOT.TLatex()\n",
    "legend4.SetTextAngle(90)\n",
    "legend4.SetTextSize(labelsize2)\n",
    "legend4.SetTextFont(42)\n",
    "legend4.SetTextColor(palette['red'].GetNumber())\n",
    "legend4.SetTextAlign(31)\n",
    "legend4.DrawTextNDC(0.78, 0.8, f\"{xmax-hY_pi.GetMean()+xmin:.4g}\")\n",
    "legend4.DrawTextNDC(0.82, 0.8, f\"{hY_pi.GetRMS():.4g}\")\n",
    "\n",
    "# Remove the current axis\n",
    "hY_e.GetXaxis().SetLabelOffset(999)\n",
    "hY_e.GetXaxis().SetTickLength(0)\n",
    "hY_e.SetAxisRange(0., 600., \"Y\")\n",
    "hY_e.GetYaxis().SetLabelSize(labelsize2)\n",
    "\n",
    "# Redraw the new axis\n",
    "ROOT.gPad.Update()\n",
    "newaxis = ROOT.TGaxis(ROOT.gPad.GetUxmax(), ROOT.gPad.GetUymin(),\n",
    "                      ROOT.gPad.GetUxmin(), ROOT.gPad.GetUymin(),\n",
    "                      xmin, xmax, 510, \"-\")\n",
    "newaxis.SetLabelOffset(-0.03)\n",
    "newaxis.Draw()\n",
    "\n",
    "ROOT.gPad.Update()\n",
    "for i in range(8):\n",
    "    hY_e.GetYaxis().ChangeLabel(i, 90., -1, 23)\n",
    "c3.Update()\n",
    "c3.Draw()\n",
    "c3.Print(\"hY.png\")"
   ]
  },
  {
   "cell_type": "code",
   "execution_count": 263,
   "metadata": {},
   "outputs": [
    {
     "data": {
      "image/png": "[encoded data removed]",
      "text/plain": [
       "<IPython.core.display.Image object>"
      ]
     },
     "metadata": {},
     "output_type": "display_data"
    }
   ],
   "source": [
    "c4 = ROOT.TCanvas(\"c4\", \"c4\", 800, 800)\n",
    "pad1 = ROOT.TPad(\"pad1\", \"pad1\", 0., 0., .7, .7); pad1.Draw()\n",
    "pad2 = ROOT.TPad(\"pad2\", \"pad2\", 0., .7, .7, 1.); pad2.Draw()\n",
    "pad3 = ROOT.TPad(\"pad3\", \"pad3\", .7, 0., 1., .7); pad3.Draw()\n",
    "# pad1\n",
    "pad1.cd()\n",
    "h_img = ROOT.TImage.Open(\"hXY.png\")\n",
    "h_img.Draw(\"x\")\n",
    "pad1.Update()\n",
    "# pad2\n",
    "pad2.cd()\n",
    "hX_img = ROOT.TImage.Open(\"hX.png\")\n",
    "hX_img.Draw(\"x\")\n",
    "pad2.Update()\n",
    "# pad3\n",
    "pad3.cd()\n",
    "hY_img = ROOT.TImage.Open(\"hY.png\")\n",
    "hY_img.Flip(270)\n",
    "hY_img.Draw(\"x\")\n",
    "pad3.Update()\n",
    "\n",
    "c4.Update()\n",
    "c4.Draw()\n",
    "c4.Print(\"final.png\")"
   ]
  },
  {
   "cell_type": "markdown",
   "metadata": {},
   "source": [
    "### Particle identification"
   ]
  },
  {
   "cell_type": "code",
   "execution_count": 161,
   "metadata": {},
   "outputs": [
    {
     "data": {
      "image/png": "[encoded data removed]",
      "text/plain": [
       "<IPython.core.display.Image object>"
      ]
     },
     "metadata": {},
     "output_type": "display_data"
    }
   ],
   "source": [
    "c6 = ROOT.TCanvas(\"c6\", \"c6\", 600, 400)\n",
    "ROOT.gPad.SetLeftMargin(0.12)\n",
    "ROOT.gPad.SetBottomMargin(0.12)\n",
    "ROOT.gPad.SetRightMargin(0.12)\n",
    "ROOT.gPad.SetTopMargin(0.12)\n",
    "ROOT.gStyle.SetOptStat(\"emr\")\n",
    "\n",
    "model = (\"\",\"\", 90, 0., 1.8)\n",
    "energyFilter = \"PrimaryEnergy > 75000 && PrimaryEnergy < 85000\"\n",
    "h6_e = rdf2_e.Filter(energyFilter).Histo1D(model, \"CoverS\")\n",
    "h6_pi = rdf2_pi.Filter(energyFilter).Histo1D(model, \"CoverS\")\n",
    "h6_e.SetLineColor(palette['blue'].GetNumber())\n",
    "h6_pi.SetLineColor(palette['red'].GetNumber())\n",
    "h6_e.Draw()\n",
    "h6_pi.Draw(\"sames\")\n",
    "\n",
    "labelsize = 1.2 * h6_e.GetYaxis().GetLabelSize()\n",
    "titlesize = 1.4 * h6_e.GetYaxis().GetTitleSize()\n",
    "xtitleoffset = 1.2 * h6_e.GetXaxis().GetTitleOffset()\n",
    "ytitleoffset = 0.9 * xtitleoffset\n",
    "xlabeloffset = 2 * h6_e.GetXaxis().GetLabelOffset()\n",
    "ylabeloffset = 1.5 * h6_e.GetYaxis().GetLabelOffset()\n",
    "linewidth = 2\n",
    "ticklength = 0.02\n",
    "x2ndc = 1-0.12\n",
    "y2ndc = 1-0.12-0.012\n",
    "\n",
    "h6_e.GetXaxis().SetTitle(\"C/S\")\n",
    "h6_e.GetXaxis().SetTitleSize(titlesize)\n",
    "h6_e.GetXaxis().SetLabelSize(labelsize)\n",
    "h6_e.GetXaxis().SetLabelOffset(xlabeloffset)\n",
    "h6_e.GetXaxis().CenterTitle()\n",
    "h6_e.GetXaxis().SetTitleOffset(xtitleoffset)\n",
    "h6_e.GetXaxis().SetTickLength(ticklength)\n",
    "binwidth = h6_e.GetBinWidth(1)\n",
    "h6_e.SetAxisRange(0., 300., \"Y\")\n",
    "h6_e.GetYaxis().SetTitle(f\"Events / {binwidth}\")\n",
    "h6_e.GetYaxis().SetTitleSize(titlesize)\n",
    "h6_e.GetYaxis().SetLabelSize(labelsize)\n",
    "h6_e.GetYaxis().SetLabelOffset(ylabeloffset)\n",
    "h6_e.GetYaxis().CenterTitle()\n",
    "h6_e.GetYaxis().SetTitleOffset(ytitleoffset)\n",
    "h6_e.GetYaxis().SetTickLength(ticklength)\n",
    "\n",
    "h6_e.SetLineWidth(linewidth)\n",
    "h6_pi.SetLineWidth(linewidth)\n",
    "\n",
    "c6.Update()\n",
    "\n",
    "# stat box\n",
    "stats1 = h6_e.GetListOfFunctions().FindObject(\"stats\")\n",
    "h6_e.GetListOfFunctions().Remove(stats1)\n",
    "h6_e.SetStats(0)\n",
    "stats1.SetTextColor(palette['blue'].GetNumber())\n",
    "\n",
    "stats1.SetX2NDC(x2ndc)\n",
    "stats1.SetY2NDC(y2ndc)\n",
    "stats1.SetX1NDC(stats1.GetX2NDC()-0.25)\n",
    "stats1.SetY1NDC(stats1.GetY2NDC()-0.12*6/4)\n",
    "stats1.SetTextSize(labelsize)\n",
    "stats1.SetBorderSize(0)\n",
    "stats1.GetListOfLines().Remove(stats1.GetLineWith(\"Mean y\"))\n",
    "stats1.Draw()\n",
    "h6_e.SetStats(0)\n",
    "\n",
    "stats2 = h6_pi.GetListOfFunctions().FindObject(\"stats\")\n",
    "h6_pi.GetListOfFunctions().Remove(stats2)\n",
    "h6_pi.SetStats(0)\n",
    "stats2.SetTextColor(palette['red'].GetNumber())\n",
    "stats2.SetX2NDC(stats1.GetX2NDC())\n",
    "stats2.SetY2NDC(stats1.GetY1NDC())\n",
    "stats2.SetX1NDC(stats1.GetX1NDC())\n",
    "stats2.SetY1NDC(stats1.GetY1NDC()-0.12*6/4)\n",
    "stats2.SetTextSize(labelsize)\n",
    "stats2.SetBorderSize(0)\n",
    "stats2.Draw()\n",
    "h6_pi.SetStats(0)\n",
    "\n",
    "# add legend\n",
    "legend = ROOT.TLegend(0.12+0.03, 1-0.12-0.03, 0.32, 1-0.12-0.15)\n",
    "legend.SetFillColor(0)\n",
    "legend.SetBorderSize(0)\n",
    "legend.SetTextSize(labelsize)\n",
    "legend.AddEntry(h6_e.GetValue(), \"electron\", \"l\")\n",
    "legend.AddEntry(h6_pi.GetValue(), \"pion\", \"l\")\n",
    "legend.Draw()\n",
    "\n",
    "c6.Draw()"
   ]
  },
  {
   "cell_type": "code",
   "execution_count": 131,
   "metadata": {},
   "outputs": [
    {
     "name": "stdout",
     "output_type": "stream",
     "text": [
      "35 0.68 1.0 1.3447488584474885\n",
      "36 0.70 1.0 1.7756756756756757\n",
      "37 0.72 1.0 2.3562091503267975\n",
      "38 0.74 1.0 3.243801652892562\n",
      "39 0.76 1.0 5.113095238095238\n",
      "40 0.78 1.0 7.777777777777778\n",
      "41 0.80 1.0 12.513157894736842\n",
      "42 0.82 1.0 18.01851851851852\n",
      "43 0.84 1.0 27.52777777777778\n",
      "44 0.86 0.9990262901655307 38.5\n",
      "45 0.88 0.9990262901655307 53.05263157894737\n",
      "46 0.90 0.997078870496592 92.36363636363636\n",
      "47 0.92 0.9824732229795521 170.16666666666666\n",
      "48 0.94 0.9532619279454723 341.3333333333333\n",
      "49 0.96 0.8831548198636806 512.5\n"
     ]
    }
   ],
   "source": [
    "nentries = h6_e.GetNbinsX()\n",
    "for i in range(int(nentries/2), nentries+1):\n",
    "    if h6_e.Integral(i, nentries) != 0 and h6_pi.Integral(i, nentries):\n",
    "        electron_efficiency = h6_e.Integral(i, nentries) / h6_e.Integral(1, nentries)\n",
    "        pion_rejection_factor = h6_pi.Integral(0, i-1) / h6_pi.Integral(i, nentries)\n",
    "        lowerEdge = h6_e.GetXaxis().GetBinLowEdge(i)\n",
    "        print(i, f\"{lowerEdge:.2f}\", electron_efficiency, pion_rejection_factor)"
   ]
  },
  {
   "cell_type": "markdown",
   "metadata": {},
   "source": [
    "## 3. Shower profiles"
   ]
  },
  {
   "cell_type": "code",
   "execution_count": 4,
   "metadata": {},
   "outputs": [],
   "source": [
    "path = \"/groups/hep/mojen/repositories/DREAM/Run/final_run/module\""
   ]
  },
  {
   "cell_type": "code",
   "execution_count": 5,
   "metadata": {},
   "outputs": [
    {
     "data": {
      "text/plain": [
       "True"
      ]
     },
     "execution_count": 5,
     "metadata": {},
     "output_type": "execute_result"
    }
   ],
   "source": [
    "getNij_code = '''\n",
    "using namespace ROOT::VecOps;\n",
    "RVec<int> getNi(RVec<int> v, int voxelsAlongY) {\n",
    "    return v / voxelsAlongY;\n",
    "};\n",
    "RVec<int> getNj(RVec<int> v, int voxelsAlongY) {\n",
    "    return v % voxelsAlongY;\n",
    "};\n",
    "'''\n",
    "ROOT.gInterpreter.Declare(getNij_code)"
   ]
  },
  {
   "cell_type": "code",
   "execution_count": 6,
   "metadata": {},
   "outputs": [
    {
     "data": {
      "text/plain": [
       "True"
      ]
     },
     "execution_count": 6,
     "metadata": {},
     "output_type": "execute_result"
    }
   ],
   "source": [
    "getRadialDistance_code = '''\n",
    "using namespace ROOT::VecOps;\n",
    "RVec<double> getRadialDistance(const RVec<double> &x, const RVec<double> &y)\n",
    "{ \n",
    "  auto mod = [](double x, double y) { return sqrt(x * x + y * y); };\n",
    "  return Map(x, y, mod);\n",
    "}\n",
    "'''\n",
    "ROOT.gInterpreter.Declare(getRadialDistance_code)"
   ]
  },
  {
   "cell_type": "code",
   "execution_count": 7,
   "metadata": {},
   "outputs": [
    {
     "data": {
      "text/plain": [
       "True"
      ]
     },
     "execution_count": 7,
     "metadata": {},
     "output_type": "execute_result"
    }
   ],
   "source": [
    "getArange_code ='''\n",
    "using namespace ROOT::VecOps;\n",
    "RVec<int> getArange(const int& a)\n",
    "{ \n",
    "  RVec<int> v(a);\n",
    "  std::iota(std::begin(v), std::end(v), 0);\n",
    "  return v;\n",
    "}\n",
    "'''\n",
    "ROOT.gInterpreter.Declare(getArange_code)"
   ]
  },
  {
   "cell_type": "code",
   "execution_count": 8,
   "metadata": {},
   "outputs": [
    {
     "data": {
      "text/plain": [
       "True"
      ]
     },
     "execution_count": 8,
     "metadata": {},
     "output_type": "execute_result"
    }
   ],
   "source": [
    "getRadialProfile_code ='''\n",
    "using namespace ROOT::VecOps;\n",
    "RVec<double> getRadialProfile(const RVec<double> &r, const RVec<double> &v1, const RVec<double> &xbins)\n",
    "{\n",
    "  double v2 = 0.;\n",
    "  RVec<double> v(xbins.size());\n",
    "  RVec<bool> c;\n",
    "  RVec<double> if_c_v1_else_v2;\n",
    "  for (size_t i = 0; i<xbins.size()-1; ++i) { \n",
    "    c = (r >= xbins.at(i)) && (r < xbins.at(i+1));\n",
    "    if_c_v1_else_v2 = Where(c, v1, v2);\n",
    "    v.at(i) = Sum(if_c_v1_else_v2);\n",
    "  }\n",
    "  return v;\n",
    "}\n",
    "'''\n",
    "ROOT.gInterpreter.Declare(getRadialProfile_code)"
   ]
  },
  {
   "cell_type": "code",
   "execution_count": 9,
   "metadata": {},
   "outputs": [],
   "source": [
    "# create dataframes\n",
    "treeName = \"B4\"\n",
    "rdf_profile = dict()\n",
    "for s in ['10GeV', '40GeV']:\n",
    "    fileName = os.path.join(path, f\"{s}/{s}.root\")\n",
    "    rdf_profile[s] = ROOT.ROOT.RDataFrame(treeName, os.path.join(path, fileName))\n",
    "    # define new columns\n",
    "    rdf_profile[s] = rdf_profile[s].Define(\"VecSignalScnt_corr\", leakageCorrection(\"VecSignalScnt\"))\n",
    "    rdf_profile[s] = rdf_profile[s].Define(\"VecSignalCkov_corr\", leakageCorrection(\"VecSignalCkov\"))"
   ]
  },
  {
   "cell_type": "code",
   "execution_count": 10,
   "metadata": {},
   "outputs": [],
   "source": [
    "for s, v in zip(['10GeV', '40GeV'], [\"Scnt\", \"Ckov\"]):\n",
    "    rdf_profile[s] = rdf_profile[s].Define(f\"{v}_i\", f\"getNi(VecIndex{v}, VoxelsAlongY)\")\n",
    "    rdf_profile[s] = rdf_profile[s].Define(f\"{v}_j\", f\"getNj(VecIndex{v}, VoxelsAlongY)\")\n",
    "    rdf_profile[s] = rdf_profile[s].Define(f\"{v}_x\", f\"{v}_j-VecShower{v}CoMj.at(0)\")\n",
    "    rdf_profile[s] = rdf_profile[s].Define(f\"{v}_y\", f\"{v}_i-VecShower{v}CoMi.at(0)\")\n",
    "    rdf_profile[s] = rdf_profile[s].Define(f\"{v}_norm\", f\"VecSignal{v}_corr/Sum(VecSignal{v}_corr)\")    \n",
    "#     rdf_profile[s] = rdf_profile[s].Define(f\"{v}_norm\", f\"RVec<double>(VecSignal{v})/Sum(VecSignal{v})\")    \n",
    "    rdf_profile[s] = rdf_profile[s].Define(f\"{v}_r_mm\", f\"1.5*getRadialDistance({v}_x, {v}_y)\")"
   ]
  },
  {
   "cell_type": "code",
   "execution_count": 11,
   "metadata": {},
   "outputs": [
    {
     "name": "stdout",
     "output_type": "stream",
     "text": [
      "29 0.0 17.4\n"
     ]
    }
   ],
   "source": [
    "binwidth = 0.6\n",
    "xlow = 0.\n",
    "xup = 1.5*np.sqrt(2*8**2)\n",
    "nbins = int(np.ceil((xup-xlow)/binwidth))\n",
    "xup = nbins*binwidth\n",
    "print(nbins, xlow, xup)"
   ]
  },
  {
   "cell_type": "markdown",
   "metadata": {},
   "source": [
    "Normalized signal INCLUDING under and overflow\n",
    "\n",
    "The signal is leakage corrected (normalization makes calibration void)\n",
    "\n",
    "The radial distance ($r_i$) between each individual fiber 𝑖 and the\n",
    "shower axis was then determined as Eq. 3 Antonello2018"
   ]
  },
  {
   "cell_type": "code",
   "execution_count": 38,
   "metadata": {},
   "outputs": [
    {
     "data": {
      "image/png": "[encoded data removed]",
      "text/plain": [
       "<IPython.core.display.Image object>"
      ]
     },
     "metadata": {},
     "output_type": "display_data"
    }
   ],
   "source": [
    "c8 = ROOT.TCanvas(\"c8\", \"c8\", 600, 600)\n",
    "ROOT.gStyle.SetOptStat(\"em\")\n",
    "x = [\"Scnt_r_mm\", \"Ckov_r_mm\"]\n",
    "y = [\"Scnt_norm\", \"Ckov_norm\"]\n",
    "p = [None, None]\n",
    "model = (\"\", \"\", nbins, xlow, xup)\n",
    "p[0] = rdf_profile['10GeV'].Profile1D(model, x[0], y[0])\n",
    "p[1] = rdf_profile['40GeV'].Profile1D(model, x[1], y[1])\n",
    "p[0].Draw()\n",
    "p[1].Draw(\"sames\")\n",
    "\n",
    "#\n",
    "p[0].SetLineColor(palette['blue'].GetNumber())\n",
    "p[1].SetLineColor(palette['red'].GetNumber())\n",
    "p[0].GetXaxis().SetTitle(\"Radial distance, #it{r_{i}} [mm]\")\n",
    "p[0].GetXaxis().SetRangeUser(0., 7.8)\n",
    "p[0].GetYaxis().SetTitle(f\"Fractional fibre signal / {binwidth} mm\")\n",
    "p[0].SetAxisRange(0., 0.5, \"Y\")\n",
    "\n",
    "#\n",
    "ROOT.gPad.SetLeftMargin(0.18)\n",
    "ROOT.gPad.SetBottomMargin(0.15)\n",
    "ROOT.gPad.SetRightMargin(0.02)\n",
    "ROOT.gPad.SetTopMargin(0.05)\n",
    "\n",
    "labelsize = 1 * p[0].GetYaxis().GetLabelSize()\n",
    "titlesize = 1.2 * p[0].GetYaxis().GetTitleSize()\n",
    "xtitleoffset = 1.3 * p[0].GetXaxis().GetTitleOffset()\n",
    "ytitleoffset = 1.4 * xtitleoffset\n",
    "xlabeloffset = 2 * p[0].GetXaxis().GetLabelOffset()\n",
    "ylabeloffset = 2 * p[0].GetYaxis().GetLabelOffset()\n",
    "linewidth = 3\n",
    "x2ndc = 0.89+0.08\n",
    "y2ndc = 0.88+0.05\n",
    "\n",
    "p[0].SetLineWidth(linewidth)\n",
    "p[1].SetLineWidth(linewidth)\n",
    "\n",
    "p[0].GetXaxis().SetTitleSize(titlesize)\n",
    "p[0].GetXaxis().SetLabelSize(labelsize)\n",
    "p[0].GetXaxis().CenterTitle()\n",
    "p[0].GetXaxis().SetTitleOffset(xtitleoffset)\n",
    "p[0].GetXaxis().SetLabelOffset(xlabeloffset)\n",
    "\n",
    "p[0].GetYaxis().SetTitleSize(titlesize)\n",
    "p[0].GetYaxis().SetLabelSize(labelsize)\n",
    "p[0].GetYaxis().CenterTitle()\n",
    "p[0].GetYaxis().SetTitleOffset(ytitleoffset)\n",
    "p[0].GetYaxis().SetLabelOffset(ylabeloffset)\n",
    "\n",
    "c8.Update()\n",
    "\n",
    "# stat box\n",
    "stats1 = p[0].GetListOfFunctions().FindObject(\"stats\")\n",
    "p[0].GetListOfFunctions().Remove(stats1)\n",
    "p[0].SetStats(0)\n",
    "stats1.GetLineWith(\"Mean y\").SetTextColor(0)\n",
    "stats1.SetTextColor(palette['blue'].GetNumber())\n",
    "stats1.SetX2NDC(x2ndc)\n",
    "stats1.SetY2NDC(y2ndc)\n",
    "stats1.SetX1NDC(stats1.GetX2NDC()-0.3)\n",
    "stats1.SetY1NDC(stats1.GetY2NDC()-0.1)\n",
    "stats1.SetTextSize(labelsize)\n",
    "stats1.SetBorderSize(0)\n",
    "stats1.GetListOfLines().Remove(stats1.GetLineWith(\"Mean y\"))\n",
    "stats1.Draw()\n",
    "p[0].SetStats(0)\n",
    "\n",
    "stats2 = p[1].GetListOfFunctions().FindObject(\"stats\")\n",
    "p[1].GetListOfFunctions().Remove(stats2)\n",
    "p[1].SetStats(0)\n",
    "stats2.SetTextColor(palette['red'].GetNumber())\n",
    "stats2.SetX2NDC(stats1.GetX2NDC())\n",
    "stats2.SetY2NDC(stats1.GetY1NDC())\n",
    "stats2.SetX1NDC(stats1.GetX1NDC())\n",
    "stats2.SetY1NDC(stats1.GetY1NDC()-0.1)\n",
    "stats2.SetTextSize(labelsize)\n",
    "stats2.SetBorderSize(0)\n",
    "stats2.GetListOfLines().Remove(stats2.GetLineWith(\"Mean y\"))\n",
    "stats2.Draw()\n",
    "p[1].SetStats(0)\n",
    "\n",
    "# legend\n",
    "legend = ROOT.TLegend(stats1.GetX1NDC()+0.07, 0.2, stats1.GetX2NDC(), 0.3)\n",
    "legend.SetFillColor(0)\n",
    "#legend.SetTextAlign(ROOT.kHAlignLeft+ROOT.kVAlignTop)\n",
    "legend.SetBorderSize(0)\n",
    "legend.SetTextSize(labelsize)\n",
    "legend.AddEntry(p[0].GetValue(), \"Scintillation\", \"l\")\n",
    "legend.AddEntry(p[1].GetValue(), \"#check{C}erenkov\", \"l\")\n",
    "legend.Draw()\n",
    "\n",
    "c8.Modified()\n",
    "\n",
    "c8.Update()\n",
    "c8.Draw()\n",
    "c8.SaveAs(\"LateralProfile.png\")"
   ]
  },
  {
   "cell_type": "code",
   "execution_count": null,
   "metadata": {},
   "outputs": [],
   "source": []
  },
  {
   "cell_type": "code",
   "execution_count": null,
   "metadata": {},
   "outputs": [],
   "source": []
  }
 ],
 "metadata": {
  "kernelspec": {
   "display_name": "Python 3",
   "language": "python",
   "name": "python3"
  },
  "language_info": {
   "codemirror_mode": {
    "name": "ipython",
    "version": 3
   },
   "file_extension": ".py",
   "mimetype": "text/x-python",
   "name": "python",
   "nbconvert_exporter": "python",
   "pygments_lexer": "ipython3",
   "version": "3.6.5"
  }
 },
 "nbformat": 4,
 "nbformat_minor": 2
}
