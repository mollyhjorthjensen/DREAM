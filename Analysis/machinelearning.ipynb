{
 "cells": [
  {
   "cell_type": "markdown",
   "metadata": {},
   "source": [
    "# Particle identification and energy regression"
   ]
  },
  {
   "cell_type": "code",
   "execution_count": 41,
   "metadata": {},
   "outputs": [],
   "source": [
    "import os\n",
    "import numpy as np\n",
    "import pandas as pd\n",
    "from sklearn.model_selection import train_test_split\n",
    "from sklearn.metrics import confusion_matrix\n",
    "from sklearn.metrics import accuracy_score\n",
    "import matplotlib.pyplot as plt\n",
    "import seaborn as sn\n",
    "import lightgbm as lgb"
   ]
  },
  {
   "cell_type": "markdown",
   "metadata": {},
   "source": [
    "## Load dataframe"
   ]
  },
  {
   "cell_type": "code",
   "execution_count": 42,
   "metadata": {},
   "outputs": [
    {
     "name": "stdout",
     "output_type": "stream",
     "text": [
      "df.shape : (40780, 15)\n"
     ]
    },
    {
     "data": {
      "text/html": [
       "<div>\n",
       "<style scoped>\n",
       "    .dataframe tbody tr th:only-of-type {\n",
       "        vertical-align: middle;\n",
       "    }\n",
       "\n",
       "    .dataframe tbody tr th {\n",
       "        vertical-align: top;\n",
       "    }\n",
       "\n",
       "    .dataframe thead th {\n",
       "        text-align: right;\n",
       "    }\n",
       "</style>\n",
       "<table border=\"1\" class=\"dataframe\">\n",
       "  <thead>\n",
       "    <tr style=\"text-align: right;\">\n",
       "      <th></th>\n",
       "      <th>eventId</th>\n",
       "      <th>clusterId</th>\n",
       "      <th>PrimaryDecayMode</th>\n",
       "      <th>VecShowerEnergy</th>\n",
       "      <th>S_sum</th>\n",
       "      <th>C_sum</th>\n",
       "      <th>S_rad_mean</th>\n",
       "      <th>C_rad_mean</th>\n",
       "      <th>S_hot</th>\n",
       "      <th>C_hot</th>\n",
       "      <th>CoverS</th>\n",
       "      <th>rec_energy</th>\n",
       "      <th>label</th>\n",
       "      <th>comi</th>\n",
       "      <th>comj</th>\n",
       "    </tr>\n",
       "  </thead>\n",
       "  <tbody>\n",
       "    <tr>\n",
       "      <th>0</th>\n",
       "      <td>0</td>\n",
       "      <td>0</td>\n",
       "      <td>1</td>\n",
       "      <td>19816.199882</td>\n",
       "      <td>1826.0773</td>\n",
       "      <td>0.0000</td>\n",
       "      <td>5.811311</td>\n",
       "      <td>NaN</td>\n",
       "      <td>0.042815</td>\n",
       "      <td>NaN</td>\n",
       "      <td>0.000000</td>\n",
       "      <td>2303.326564</td>\n",
       "      <td>1</td>\n",
       "      <td>194.160770</td>\n",
       "      <td>112.979380</td>\n",
       "    </tr>\n",
       "    <tr>\n",
       "      <th>1</th>\n",
       "      <td>1</td>\n",
       "      <td>1</td>\n",
       "      <td>4</td>\n",
       "      <td>13397.354239</td>\n",
       "      <td>7151.5063</td>\n",
       "      <td>4673.8125</td>\n",
       "      <td>4.663652</td>\n",
       "      <td>3.531102</td>\n",
       "      <td>0.070806</td>\n",
       "      <td>0.058091</td>\n",
       "      <td>0.653542</td>\n",
       "      <td>7799.056950</td>\n",
       "      <td>3</td>\n",
       "      <td>124.297177</td>\n",
       "      <td>127.529336</td>\n",
       "    </tr>\n",
       "    <tr>\n",
       "      <th>2</th>\n",
       "      <td>1</td>\n",
       "      <td>2</td>\n",
       "      <td>4</td>\n",
       "      <td>10115.048809</td>\n",
       "      <td>11443.4320</td>\n",
       "      <td>8736.7320</td>\n",
       "      <td>2.372905</td>\n",
       "      <td>1.656477</td>\n",
       "      <td>0.260583</td>\n",
       "      <td>0.188679</td>\n",
       "      <td>0.763471</td>\n",
       "      <td>12150.833917</td>\n",
       "      <td>2</td>\n",
       "      <td>135.302284</td>\n",
       "      <td>180.102213</td>\n",
       "    </tr>\n",
       "    <tr>\n",
       "      <th>3</th>\n",
       "      <td>1</td>\n",
       "      <td>3</td>\n",
       "      <td>4</td>\n",
       "      <td>4740.947309</td>\n",
       "      <td>5503.8794</td>\n",
       "      <td>4518.6650</td>\n",
       "      <td>2.474627</td>\n",
       "      <td>2.093691</td>\n",
       "      <td>0.116771</td>\n",
       "      <td>0.190987</td>\n",
       "      <td>0.820996</td>\n",
       "      <td>5761.367321</td>\n",
       "      <td>2</td>\n",
       "      <td>150.901653</td>\n",
       "      <td>175.728180</td>\n",
       "    </tr>\n",
       "    <tr>\n",
       "      <th>4</th>\n",
       "      <td>1</td>\n",
       "      <td>4</td>\n",
       "      <td>4</td>\n",
       "      <td>11594.263998</td>\n",
       "      <td>11814.1950</td>\n",
       "      <td>12111.1870</td>\n",
       "      <td>2.684480</td>\n",
       "      <td>1.768877</td>\n",
       "      <td>0.178017</td>\n",
       "      <td>0.168935</td>\n",
       "      <td>1.025139</td>\n",
       "      <td>11736.575496</td>\n",
       "      <td>2</td>\n",
       "      <td>138.098989</td>\n",
       "      <td>156.801442</td>\n",
       "    </tr>\n",
       "  </tbody>\n",
       "</table>\n",
       "</div>"
      ],
      "text/plain": [
       "   eventId  clusterId  PrimaryDecayMode  VecShowerEnergy       S_sum  \\\n",
       "0        0          0                 1     19816.199882   1826.0773   \n",
       "1        1          1                 4     13397.354239   7151.5063   \n",
       "2        1          2                 4     10115.048809  11443.4320   \n",
       "3        1          3                 4      4740.947309   5503.8794   \n",
       "4        1          4                 4     11594.263998  11814.1950   \n",
       "\n",
       "        C_sum  S_rad_mean  C_rad_mean     S_hot     C_hot    CoverS  \\\n",
       "0      0.0000    5.811311         NaN  0.042815       NaN  0.000000   \n",
       "1   4673.8125    4.663652    3.531102  0.070806  0.058091  0.653542   \n",
       "2   8736.7320    2.372905    1.656477  0.260583  0.188679  0.763471   \n",
       "3   4518.6650    2.474627    2.093691  0.116771  0.190987  0.820996   \n",
       "4  12111.1870    2.684480    1.768877  0.178017  0.168935  1.025139   \n",
       "\n",
       "     rec_energy  label        comi        comj  \n",
       "0   2303.326564      1  194.160770  112.979380  \n",
       "1   7799.056950      3  124.297177  127.529336  \n",
       "2  12150.833917      2  135.302284  180.102213  \n",
       "3   5761.367321      2  150.901653  175.728180  \n",
       "4  11736.575496      2  138.098989  156.801442  "
      ]
     },
     "execution_count": 42,
     "metadata": {},
     "output_type": "execute_result"
    }
   ],
   "source": [
    "# DATA_DIR = '/groups/hep/mojen/repositories/DREAM/Run/final_run/tauolaevts/25000/wothreshold'\n",
    "DATA_DIR = '/home/jupyter/DREAM'\n",
    "df = pd.read_csv(os.path.join(DATA_DIR, 'data.csv'))\n",
    "print(f\"df.shape : {df.shape}\")\n",
    "df.head()"
   ]
  },
  {
   "cell_type": "code",
   "execution_count": 93,
   "metadata": {},
   "outputs": [],
   "source": [
    "df['label_binary'] = df.label.map({0: 0, 1: np.nan, 2: np.nan, 3: 1})"
   ]
  },
  {
   "cell_type": "code",
   "execution_count": 94,
   "metadata": {},
   "outputs": [
    {
     "data": {
      "text/html": [
       "<div>\n",
       "<style scoped>\n",
       "    .dataframe tbody tr th:only-of-type {\n",
       "        vertical-align: middle;\n",
       "    }\n",
       "\n",
       "    .dataframe tbody tr th {\n",
       "        vertical-align: top;\n",
       "    }\n",
       "\n",
       "    .dataframe thead th {\n",
       "        text-align: right;\n",
       "    }\n",
       "</style>\n",
       "<table border=\"1\" class=\"dataframe\">\n",
       "  <thead>\n",
       "    <tr style=\"text-align: right;\">\n",
       "      <th></th>\n",
       "      <th>eventId</th>\n",
       "      <th>clusterId</th>\n",
       "      <th>PrimaryDecayMode</th>\n",
       "      <th>VecShowerEnergy</th>\n",
       "      <th>S_sum</th>\n",
       "      <th>C_sum</th>\n",
       "      <th>S_rad_mean</th>\n",
       "      <th>C_rad_mean</th>\n",
       "      <th>S_hot</th>\n",
       "      <th>C_hot</th>\n",
       "      <th>CoverS</th>\n",
       "      <th>rec_energy</th>\n",
       "      <th>label</th>\n",
       "      <th>comi</th>\n",
       "      <th>comj</th>\n",
       "      <th>label_binary</th>\n",
       "    </tr>\n",
       "  </thead>\n",
       "  <tbody>\n",
       "    <tr>\n",
       "      <th>0</th>\n",
       "      <td>0</td>\n",
       "      <td>0</td>\n",
       "      <td>1</td>\n",
       "      <td>19816.199882</td>\n",
       "      <td>1826.0773</td>\n",
       "      <td>0.0000</td>\n",
       "      <td>5.811311</td>\n",
       "      <td>NaN</td>\n",
       "      <td>0.042815</td>\n",
       "      <td>NaN</td>\n",
       "      <td>0.000000</td>\n",
       "      <td>2303.326564</td>\n",
       "      <td>1</td>\n",
       "      <td>194.160770</td>\n",
       "      <td>112.979380</td>\n",
       "      <td>NaN</td>\n",
       "    </tr>\n",
       "    <tr>\n",
       "      <th>1</th>\n",
       "      <td>1</td>\n",
       "      <td>1</td>\n",
       "      <td>4</td>\n",
       "      <td>13397.354239</td>\n",
       "      <td>7151.5063</td>\n",
       "      <td>4673.8125</td>\n",
       "      <td>4.663652</td>\n",
       "      <td>3.531102</td>\n",
       "      <td>0.070806</td>\n",
       "      <td>0.058091</td>\n",
       "      <td>0.653542</td>\n",
       "      <td>7799.056950</td>\n",
       "      <td>3</td>\n",
       "      <td>124.297177</td>\n",
       "      <td>127.529336</td>\n",
       "      <td>1.0</td>\n",
       "    </tr>\n",
       "    <tr>\n",
       "      <th>2</th>\n",
       "      <td>1</td>\n",
       "      <td>2</td>\n",
       "      <td>4</td>\n",
       "      <td>10115.048809</td>\n",
       "      <td>11443.4320</td>\n",
       "      <td>8736.7320</td>\n",
       "      <td>2.372905</td>\n",
       "      <td>1.656477</td>\n",
       "      <td>0.260583</td>\n",
       "      <td>0.188679</td>\n",
       "      <td>0.763471</td>\n",
       "      <td>12150.833917</td>\n",
       "      <td>2</td>\n",
       "      <td>135.302284</td>\n",
       "      <td>180.102213</td>\n",
       "      <td>NaN</td>\n",
       "    </tr>\n",
       "    <tr>\n",
       "      <th>3</th>\n",
       "      <td>1</td>\n",
       "      <td>3</td>\n",
       "      <td>4</td>\n",
       "      <td>4740.947309</td>\n",
       "      <td>5503.8794</td>\n",
       "      <td>4518.6650</td>\n",
       "      <td>2.474627</td>\n",
       "      <td>2.093691</td>\n",
       "      <td>0.116771</td>\n",
       "      <td>0.190987</td>\n",
       "      <td>0.820996</td>\n",
       "      <td>5761.367321</td>\n",
       "      <td>2</td>\n",
       "      <td>150.901653</td>\n",
       "      <td>175.728180</td>\n",
       "      <td>NaN</td>\n",
       "    </tr>\n",
       "    <tr>\n",
       "      <th>4</th>\n",
       "      <td>1</td>\n",
       "      <td>4</td>\n",
       "      <td>4</td>\n",
       "      <td>11594.263998</td>\n",
       "      <td>11814.1950</td>\n",
       "      <td>12111.1870</td>\n",
       "      <td>2.684480</td>\n",
       "      <td>1.768877</td>\n",
       "      <td>0.178017</td>\n",
       "      <td>0.168935</td>\n",
       "      <td>1.025139</td>\n",
       "      <td>11736.575496</td>\n",
       "      <td>2</td>\n",
       "      <td>138.098989</td>\n",
       "      <td>156.801442</td>\n",
       "      <td>NaN</td>\n",
       "    </tr>\n",
       "  </tbody>\n",
       "</table>\n",
       "</div>"
      ],
      "text/plain": [
       "   eventId  clusterId  PrimaryDecayMode  VecShowerEnergy       S_sum  \\\n",
       "0        0          0                 1     19816.199882   1826.0773   \n",
       "1        1          1                 4     13397.354239   7151.5063   \n",
       "2        1          2                 4     10115.048809  11443.4320   \n",
       "3        1          3                 4      4740.947309   5503.8794   \n",
       "4        1          4                 4     11594.263998  11814.1950   \n",
       "\n",
       "        C_sum  S_rad_mean  C_rad_mean     S_hot     C_hot    CoverS  \\\n",
       "0      0.0000    5.811311         NaN  0.042815       NaN  0.000000   \n",
       "1   4673.8125    4.663652    3.531102  0.070806  0.058091  0.653542   \n",
       "2   8736.7320    2.372905    1.656477  0.260583  0.188679  0.763471   \n",
       "3   4518.6650    2.474627    2.093691  0.116771  0.190987  0.820996   \n",
       "4  12111.1870    2.684480    1.768877  0.178017  0.168935  1.025139   \n",
       "\n",
       "     rec_energy  label        comi        comj  label_binary  \n",
       "0   2303.326564      1  194.160770  112.979380           NaN  \n",
       "1   7799.056950      3  124.297177  127.529336           1.0  \n",
       "2  12150.833917      2  135.302284  180.102213           NaN  \n",
       "3   5761.367321      2  150.901653  175.728180           NaN  \n",
       "4  11736.575496      2  138.098989  156.801442           NaN  "
      ]
     },
     "execution_count": 94,
     "metadata": {},
     "output_type": "execute_result"
    }
   ],
   "source": [
    "df.head()"
   ]
  },
  {
   "cell_type": "markdown",
   "metadata": {},
   "source": [
    "<!-- Add column with reconstructed energy -->"
   ]
  },
  {
   "cell_type": "code",
   "execution_count": 45,
   "metadata": {},
   "outputs": [],
   "source": [
    "# cal = np.load(os.path.join(DATA_DIR, \"calibration.pkl.npy\"), allow_pickle=True).item()"
   ]
  },
  {
   "cell_type": "code",
   "execution_count": 46,
   "metadata": {},
   "outputs": [],
   "source": [
    "# df['rec_energy'] = df.apply(lambda x: (x.S_sum-cal['chi']*x.C_sum)/(1-cal['chi']), axis=1)"
   ]
  },
  {
   "cell_type": "code",
   "execution_count": 47,
   "metadata": {
    "scrolled": true
   },
   "outputs": [],
   "source": [
    "# print(f\"df.shape : {df.shape}\")\n",
    "# df.head()"
   ]
  },
  {
   "cell_type": "code",
   "execution_count": null,
   "metadata": {},
   "outputs": [],
   "source": []
  },
  {
   "cell_type": "markdown",
   "metadata": {},
   "source": [
    "## Train-test split"
   ]
  },
  {
   "cell_type": "markdown",
   "metadata": {},
   "source": [
    "Train-test split by event id such that data leakage is avoided and decay classification is possible"
   ]
  },
  {
   "cell_type": "code",
   "execution_count": 48,
   "metadata": {},
   "outputs": [],
   "source": [
    "unique_eventId = df.eventId.unique()"
   ]
  },
  {
   "cell_type": "code",
   "execution_count": 49,
   "metadata": {},
   "outputs": [],
   "source": [
    "get_mode = lambda x: x.iloc[0].PrimaryDecayMode.astype(int)\n",
    "mode_per_eventId = df.groupby('eventId').apply(get_mode).values"
   ]
  },
  {
   "cell_type": "code",
   "execution_count": 50,
   "metadata": {},
   "outputs": [],
   "source": [
    "id_train, id_test = train_test_split(unique_eventId,\n",
    "                                     test_size=0.3, \n",
    "                                     random_state=42,\n",
    "                                     stratify=mode_per_eventId)"
   ]
  },
  {
   "cell_type": "markdown",
   "metadata": {},
   "source": [
    "Assert that id_train and id_test are mutually exclusive and in total have the same size as unique event id"
   ]
  },
  {
   "cell_type": "code",
   "execution_count": 51,
   "metadata": {},
   "outputs": [],
   "source": [
    "assert len(set(id_train).intersection(set(id_test))) == 0"
   ]
  },
  {
   "cell_type": "code",
   "execution_count": 52,
   "metadata": {},
   "outputs": [],
   "source": [
    "assert id_train.shape[0] + id_test.shape[0] == len(unique_eventId)"
   ]
  },
  {
   "cell_type": "code",
   "execution_count": 53,
   "metadata": {},
   "outputs": [
    {
     "data": {
      "text/plain": [
       "(14794, 6341)"
      ]
     },
     "execution_count": 53,
     "metadata": {},
     "output_type": "execute_result"
    }
   ],
   "source": [
    "id_train.shape[0], id_test.shape[0]"
   ]
  },
  {
   "cell_type": "markdown",
   "metadata": {},
   "source": [
    "Split dataframe into a train and a test dataframe"
   ]
  },
  {
   "cell_type": "code",
   "execution_count": 166,
   "metadata": {},
   "outputs": [],
   "source": [
    "excl_columns_y = ['eventId', 'PrimaryDecayMode', 'clusterId', \n",
    "                'VecShowerEnergy', 'label', 'label_binary', \n",
    "                  'comi', 'comj', 'S_sum', 'C_sum', 'rec_energy']\n",
    "excl_columns_z = ['eventId', 'PrimaryDecayMode', 'clusterId', \n",
    "                'VecShowerEnergy', 'label', 'label_binary', 'comi', 'comj']\n",
    "\n",
    "# train dataset\n",
    "df_train = df[df.eventId.isin(id_train)].copy()\n",
    "df_train.to_csv(os.path.join(DATA_DIR, 'dftrain.csv'), index=False)\n",
    "y_train = df_train.label.values\n",
    "z_train = df_train.VecShowerEnergy.values\n",
    "\n",
    "df_train_y = df_train.drop(excl_columns_y, axis=1)\n",
    "X_train_y = df_train_y.values\n",
    "train_data_y = lgb.Dataset(X_train_y, label=y_train, feature_name=list(df_train_y.columns.values))\n",
    "\n",
    "df_train_bin = df_train.loc[~df_train.label_binary.isna()].copy()\n",
    "y_train_bin = df_train_bin.label_binary.values\n",
    "df_train_bin = df_train_bin.drop(excl_columns_y, axis=1).copy()\n",
    "X_train_bin = df_train_bin.values\n",
    "train_data_bin = lgb.Dataset(X_train_bin, label=y_train_bin, feature_name=list(df_train_bin.columns.values))\n",
    "\n",
    "df_train_z = df_train.drop(excl_columns_z, axis=1)\n",
    "X_train_z = df_train_z.values\n",
    "train_data_z = lgb.Dataset(X_train_z, label=z_train, feature_name=list(df_train_z.columns.values))\n",
    "\n",
    "# test data set\n",
    "df_test = df[df.eventId.isin(id_test)].copy()\n",
    "df_test.to_csv(os.path.join(DATA_DIR, 'dftest.csv'), index=False)\n",
    "y_test = df_test.label.values\n",
    "idx_test = df_test.clusterId.values.reshape((-1,1))\n",
    "z_test = df_test.VecShowerEnergy.values\n",
    "\n",
    "df_test_y = df_test.drop(excl_columns_y, axis=1)\n",
    "X_test_y = df_test_y.values\n",
    "test_data_y = lgb.Dataset(X_test_y, label=y_test, feature_name=list(df_test_y.columns.values))\n",
    "\n",
    "df_test_bin = df_test.loc[~df_test.label_binary.isna()].copy()\n",
    "idx_test_bin = df_test_bin.clusterId.values.reshape((-1,1))\n",
    "y_test_bin = df_test_bin.label_binary.values\n",
    "df_test_bin = df_test_bin.drop(excl_columns_y, axis=1).copy()\n",
    "X_test_bin = df_test_bin.values\n",
    "test_data_bin = lgb.Dataset(X_test_bin, label=y_test_bin, feature_name=list(df_test_bin.columns.values))\n",
    "\n",
    "df_test_z = df_test.drop(excl_columns_z, axis=1)\n",
    "X_test_z = df_test_z.values\n",
    "test_data_z = lgb.Dataset(X_test_z, label=z_test, feature_name=list(df_test_z.columns.values))"
   ]
  },
  {
   "cell_type": "code",
   "execution_count": 136,
   "metadata": {},
   "outputs": [
    {
     "data": {
      "text/plain": [
       "(array([3, 2, 2, ..., 2, 2, 2]),\n",
       " array([1., 1., 0., ..., 1., 1., 1.]),\n",
       " array([[    1],\n",
       "        [   32],\n",
       "        [   44],\n",
       "        ...,\n",
       "        [49215],\n",
       "        [49234],\n",
       "        [49235]]))"
      ]
     },
     "execution_count": 136,
     "metadata": {},
     "output_type": "execute_result"
    }
   ],
   "source": [
    "y_test, y_test_bin, idx_test"
   ]
  },
  {
   "cell_type": "code",
   "execution_count": 56,
   "metadata": {},
   "outputs": [
    {
     "name": "stdout",
     "output_type": "stream",
     "text": [
      "features classification : ['S_rad_mean' 'C_rad_mean' 'S_hot' 'C_hot' 'CoverS']\n",
      "features regression : ['S_sum' 'C_sum' 'S_rad_mean' 'C_rad_mean' 'S_hot' 'C_hot' 'CoverS'\n",
      " 'rec_energy']\n"
     ]
    }
   ],
   "source": [
    "print(f\"features classification : {df_train_y.columns.values}\")\n",
    "print(f\"features regression : {df_train_z.columns.values}\")\n",
    "assert set(df_train.columns.values) == set(df_test.columns.values)"
   ]
  },
  {
   "cell_type": "code",
   "execution_count": 57,
   "metadata": {},
   "outputs": [
    {
     "data": {
      "text/plain": [
       "array(['eventId', 'clusterId', 'PrimaryDecayMode', 'VecShowerEnergy',\n",
       "       'S_sum', 'C_sum', 'S_rad_mean', 'C_rad_mean', 'S_hot', 'C_hot',\n",
       "       'CoverS', 'rec_energy', 'label', 'comi', 'comj', 'label_binary'],\n",
       "      dtype=object)"
      ]
     },
     "execution_count": 57,
     "metadata": {},
     "output_type": "execute_result"
    }
   ],
   "source": [
    "df_train.columns.values"
   ]
  },
  {
   "cell_type": "code",
   "execution_count": 58,
   "metadata": {},
   "outputs": [
    {
     "data": {
      "text/plain": [
       "Index(['eventId', 'clusterId', 'PrimaryDecayMode', 'VecShowerEnergy', 'S_sum',\n",
       "       'C_sum', 'S_rad_mean', 'C_rad_mean', 'S_hot', 'C_hot', 'CoverS',\n",
       "       'rec_energy', 'label', 'comi', 'comj', 'label_binary'],\n",
       "      dtype='object')"
      ]
     },
     "execution_count": 58,
     "metadata": {},
     "output_type": "execute_result"
    }
   ],
   "source": [
    "df_train.columns"
   ]
  },
  {
   "cell_type": "code",
   "execution_count": 59,
   "metadata": {},
   "outputs": [
    {
     "data": {
      "image/png": "[encoded data removed]",
      "text/plain": [
       "<Figure size 864x504 with 2 Axes>"
      ]
     },
     "metadata": {
      "needs_background": "light"
     },
     "output_type": "display_data"
    }
   ],
   "source": [
    "plt.rcParams[\"font.family\"] = \"serif\"\n",
    "plt.rcParams[\"mathtext.fontset\"] = \"dejavuserif\"\n",
    "\n",
    "fig, ax = plt.subplots(figsize=(12,7)) \n",
    "\n",
    "excl_columns = ['eventId', 'clusterId', 'PrimaryDecayMode', \n",
    "               # 'S_sum', 'C_sum', 'rec_energy', \n",
    "               # 'label', \n",
    "                'comi', 'comj', \n",
    "               # 'label_binary'\n",
    "               ] \n",
    "df_vars = df_train.drop(excl_columns, axis=1)\n",
    "corrMatrix = df_vars.corr()\n",
    "sn.heatmap(corrMatrix, annot=True)\n",
    "\n",
    "labels = ['$E_{true}$', '$S_{tot}$', '$C_{tot}$', '$S_{r}$', '$C_{r}$',\n",
    "          '$S_{hot}$', '$C_{hot}$', '$C/S$', '$E_{rec}$', \"PID\", \"PID binary\"]\n",
    "\n",
    "ax.set_xticklabels(labels, fontsize=14)\n",
    "ax.set_yticklabels(labels, fontsize=14)\n",
    "\n",
    "plt.savefig(\"correlation_matrix_pid.png\")\n",
    "plt.show()"
   ]
  },
  {
   "cell_type": "code",
   "execution_count": 60,
   "metadata": {},
   "outputs": [
    {
     "data": {
      "image/png": "[encoded data removed]",
      "text/plain": [
       "<Figure size 720x432 with 2 Axes>"
      ]
     },
     "metadata": {
      "needs_background": "light"
     },
     "output_type": "display_data"
    }
   ],
   "source": [
    "plt.rcParams[\"font.family\"] = \"serif\"\n",
    "plt.rcParams[\"font.size\"] = \"12\"\n",
    "\n",
    "plt.rcParams[\"mathtext.fontset\"] = \"dejavuserif\"\n",
    "\n",
    "fig, ax = plt.subplots(figsize=(10,6)) \n",
    "\n",
    "excl_columns = ['eventId', 'clusterId', 'PrimaryDecayMode', \n",
    "               # 'S_sum', 'C_sum', 'rec_energy', \n",
    "               'label', \n",
    "                'comi', 'comj', \n",
    "               'label_binary'\n",
    "               ] \n",
    "df_vars = df_train.drop(excl_columns, axis=1)\n",
    "corrMatrix = df_vars.corr()\n",
    "sn.heatmap(corrMatrix,\n",
    "           annot=True,\n",
    "           #cmap=\"rainbow\"\n",
    "          )\n",
    "\n",
    "labels = ['$E_{true}$', '$S_{tot}$', '$C_{tot}$', '$S_{r}$', '$C_{r}$',\n",
    "          '$S_{hot}$', '$C_{hot}$', '$C/S$', '$E_{rec}$'\n",
    "          #, \"PID\", \"PID binary\"\n",
    "         ]\n",
    "\n",
    "ax.set_xticklabels(labels, fontsize=14)\n",
    "ax.set_yticklabels(labels, fontsize=14)\n",
    "\n",
    "plt.savefig(\"correlation_matrix.png\")\n",
    "plt.show()"
   ]
  },
  {
   "cell_type": "code",
   "execution_count": 61,
   "metadata": {},
   "outputs": [
    {
     "name": "stdout",
     "output_type": "stream",
     "text": [
      "df_train.shape : (28537, 16)\n",
      "df_test.shape : (12243, 16)\n"
     ]
    }
   ],
   "source": [
    "print(f\"df_train.shape : {df_train.shape}\")\n",
    "print(f\"df_test.shape : {df_test.shape}\")"
   ]
  },
  {
   "cell_type": "markdown",
   "metadata": {},
   "source": [
    "Assert that the length of the two dataframes equal the original"
   ]
  },
  {
   "cell_type": "code",
   "execution_count": 62,
   "metadata": {},
   "outputs": [],
   "source": [
    "assert df_train.shape[0] + df_test.shape[0] == df.shape[0]"
   ]
  },
  {
   "cell_type": "markdown",
   "metadata": {},
   "source": [
    "# Classification"
   ]
  },
  {
   "cell_type": "markdown",
   "metadata": {},
   "source": [
    "(Boosted) decision trees 'unaffected' by feature scaling"
   ]
  },
  {
   "cell_type": "markdown",
   "metadata": {},
   "source": [
    "## Multiclass"
   ]
  },
  {
   "cell_type": "markdown",
   "metadata": {},
   "source": [
    "### Training"
   ]
  },
  {
   "cell_type": "code",
   "execution_count": 64,
   "metadata": {},
   "outputs": [],
   "source": [
    "params = {\n",
    "    'num_class': [4],\n",
    "#     'objective': ['multiclass'],  # 'multiclassova'\n",
    "    'objective': ['multiclassova'],\n",
    "    'boosting': ['gbrt'],  # default = gbdt\n",
    "    'learning_rate': [0.1, 0.05],  # default = 0.1\n",
    "    'num_leaves': [31, 41, 21],  # default = 31\n",
    "    'metric': ['multi_logloss'],\n",
    "    'is_unbalanced': [True]\n",
    "}"
   ]
  },
  {
   "cell_type": "code",
   "execution_count": 65,
   "metadata": {},
   "outputs": [
    {
     "data": {
      "text/plain": [
       "[{'num_class': 4,\n",
       "  'objective': 'multiclassova',\n",
       "  'boosting': 'gbrt',\n",
       "  'learning_rate': 0.1,\n",
       "  'num_leaves': 31,\n",
       "  'metric': 'multi_logloss',\n",
       "  'is_unbalanced': True},\n",
       " {'num_class': 4,\n",
       "  'objective': 'multiclassova',\n",
       "  'boosting': 'gbrt',\n",
       "  'learning_rate': 0.1,\n",
       "  'num_leaves': 41,\n",
       "  'metric': 'multi_logloss',\n",
       "  'is_unbalanced': True},\n",
       " {'num_class': 4,\n",
       "  'objective': 'multiclassova',\n",
       "  'boosting': 'gbrt',\n",
       "  'learning_rate': 0.1,\n",
       "  'num_leaves': 21,\n",
       "  'metric': 'multi_logloss',\n",
       "  'is_unbalanced': True},\n",
       " {'num_class': 4,\n",
       "  'objective': 'multiclassova',\n",
       "  'boosting': 'gbrt',\n",
       "  'learning_rate': 0.05,\n",
       "  'num_leaves': 31,\n",
       "  'metric': 'multi_logloss',\n",
       "  'is_unbalanced': True},\n",
       " {'num_class': 4,\n",
       "  'objective': 'multiclassova',\n",
       "  'boosting': 'gbrt',\n",
       "  'learning_rate': 0.05,\n",
       "  'num_leaves': 41,\n",
       "  'metric': 'multi_logloss',\n",
       "  'is_unbalanced': True},\n",
       " {'num_class': 4,\n",
       "  'objective': 'multiclassova',\n",
       "  'boosting': 'gbrt',\n",
       "  'learning_rate': 0.05,\n",
       "  'num_leaves': 21,\n",
       "  'metric': 'multi_logloss',\n",
       "  'is_unbalanced': True}]"
      ]
     },
     "execution_count": 65,
     "metadata": {},
     "output_type": "execute_result"
    }
   ],
   "source": [
    "import itertools\n",
    "keys, values = zip(*params.items())\n",
    "param = [dict(zip(keys, v)) for v in itertools.product(*values)]\n",
    "param"
   ]
  },
  {
   "cell_type": "code",
   "execution_count": 66,
   "metadata": {},
   "outputs": [],
   "source": [
    "results = []\n",
    "for i in range(len(param)):\n",
    "    cv_results = lgb.cv(param[i], train_data_y, num_boost_round=1000, early_stopping_rounds=20, verbose_eval=False, seed=42)\n",
    "    metric_name = param[i]['metric']+\"-mean\"\n",
    "    results += [(i, len(cv_results[metric_name]), cv_results[metric_name][-1])]"
   ]
  },
  {
   "cell_type": "code",
   "execution_count": 67,
   "metadata": {},
   "outputs": [
    {
     "data": {
      "text/plain": [
       "[(5, 132, 0.48397308941050426),\n",
       " (0, 56, 0.4840509757987176),\n",
       " (3, 116, 0.48421644695479893),\n",
       " (2, 62, 0.4846400756346407),\n",
       " (4, 104, 0.48491371734994926),\n",
       " (1, 55, 0.4858138151858157)]"
      ]
     },
     "execution_count": 67,
     "metadata": {},
     "output_type": "execute_result"
    }
   ],
   "source": [
    "results.sort(key=lambda x: x[2])\n",
    "results"
   ]
  },
  {
   "cell_type": "code",
   "execution_count": 68,
   "metadata": {},
   "outputs": [
    {
     "data": {
      "text/plain": [
       "{'num_class': 4,\n",
       " 'objective': 'multiclassova',\n",
       " 'boosting': 'gbrt',\n",
       " 'learning_rate': 0.05,\n",
       " 'num_leaves': 21,\n",
       " 'metric': 'multi_logloss',\n",
       " 'is_unbalanced': True}"
      ]
     },
     "execution_count": 68,
     "metadata": {},
     "output_type": "execute_result"
    }
   ],
   "source": [
    "param[results[0][0]]"
   ]
  },
  {
   "cell_type": "code",
   "execution_count": 69,
   "metadata": {},
   "outputs": [],
   "source": [
    "bst = lgb.train(param[results[0][0]], train_data_y, num_boost_round=results[0][1])"
   ]
  },
  {
   "cell_type": "code",
   "execution_count": 70,
   "metadata": {},
   "outputs": [],
   "source": [
    "# evals_result = {}\n",
    "# bst = lgb.train(param[results[0][0]], train_data_y, valid_sets=[train_data_y, train_data_y], valid_names=['val', 'train'], num_boost_round=results[0][1], feval=lgb_f1_score, evals_result=evals_result)"
   ]
  },
  {
   "cell_type": "markdown",
   "metadata": {},
   "source": [
    "### Testing"
   ]
  },
  {
   "cell_type": "code",
   "execution_count": 71,
   "metadata": {},
   "outputs": [],
   "source": [
    "y_pred_train = np.argmax(bst.predict(X_train_y), axis=1).reshape([-1,1])"
   ]
  },
  {
   "cell_type": "code",
   "execution_count": 72,
   "metadata": {},
   "outputs": [
    {
     "data": {
      "text/plain": [
       "array([[  869,  2400,     7,    12],\n",
       "       [  481, 14168,    98,   396],\n",
       "       [    1,   306,   971,  1000],\n",
       "       [   35,   359,   159,  7275]])"
      ]
     },
     "execution_count": 72,
     "metadata": {},
     "output_type": "execute_result"
    }
   ],
   "source": [
    "confusion_matrix(y_train, y_pred_train, labels=[0,2,1,3])"
   ]
  },
  {
   "cell_type": "code",
   "execution_count": 73,
   "metadata": {},
   "outputs": [
    {
     "data": {
      "text/plain": [
       "0.8158881452149841"
      ]
     },
     "execution_count": 73,
     "metadata": {},
     "output_type": "execute_result"
    }
   ],
   "source": [
    "accuracy_score(y_train, y_pred_train)"
   ]
  },
  {
   "cell_type": "code",
   "execution_count": 74,
   "metadata": {},
   "outputs": [],
   "source": [
    "y_pred = np.argmax(bst.predict(X_test_y), axis=1).reshape([-1,1])"
   ]
  },
  {
   "cell_type": "code",
   "execution_count": 75,
   "metadata": {},
   "outputs": [
    {
     "data": {
      "text/plain": [
       "array([[ 343, 1056,    4,    6],\n",
       "       [ 243, 6018,   94,  159],\n",
       "       [   1,  162,  363,  451],\n",
       "       [  13,  166,   72, 3092]])"
      ]
     },
     "execution_count": 75,
     "metadata": {},
     "output_type": "execute_result"
    }
   ],
   "source": [
    "confusion_matrix(y_test, y_pred, labels=[0,2,1,3])"
   ]
  },
  {
   "cell_type": "code",
   "execution_count": 76,
   "metadata": {},
   "outputs": [
    {
     "data": {
      "text/plain": [
       "0.8017642734623867"
      ]
     },
     "execution_count": 76,
     "metadata": {},
     "output_type": "execute_result"
    }
   ],
   "source": [
    "accuracy_score(y_test, y_pred)"
   ]
  },
  {
   "cell_type": "markdown",
   "metadata": {},
   "source": [
    "## Binary"
   ]
  },
  {
   "cell_type": "markdown",
   "metadata": {},
   "source": [
    "### Training"
   ]
  },
  {
   "cell_type": "code",
   "execution_count": null,
   "metadata": {},
   "outputs": [],
   "source": []
  },
  {
   "cell_type": "code",
   "execution_count": null,
   "metadata": {},
   "outputs": [],
   "source": []
  },
  {
   "cell_type": "code",
   "execution_count": 111,
   "metadata": {},
   "outputs": [],
   "source": [
    "params = {\n",
    "    'objective': ['binary'],\n",
    "    'boosting': ['gbrt'],  # default = gbdt\n",
    "    'learning_rate': [0.1, 0.05],  # default = 0.1\n",
    "    'num_leaves': [31, 41, 21],  # default = 31\n",
    "    'metric': ['binary_logloss'],\n",
    "    'is_unbalance' : [True]\n",
    "}"
   ]
  },
  {
   "cell_type": "code",
   "execution_count": 112,
   "metadata": {},
   "outputs": [
    {
     "data": {
      "text/plain": [
       "[{'objective': 'binary',\n",
       "  'boosting': 'gbrt',\n",
       "  'learning_rate': 0.1,\n",
       "  'num_leaves': 31,\n",
       "  'metric': 'binary_logloss',\n",
       "  'is_unbalance': True},\n",
       " {'objective': 'binary',\n",
       "  'boosting': 'gbrt',\n",
       "  'learning_rate': 0.1,\n",
       "  'num_leaves': 41,\n",
       "  'metric': 'binary_logloss',\n",
       "  'is_unbalance': True},\n",
       " {'objective': 'binary',\n",
       "  'boosting': 'gbrt',\n",
       "  'learning_rate': 0.1,\n",
       "  'num_leaves': 21,\n",
       "  'metric': 'binary_logloss',\n",
       "  'is_unbalance': True},\n",
       " {'objective': 'binary',\n",
       "  'boosting': 'gbrt',\n",
       "  'learning_rate': 0.05,\n",
       "  'num_leaves': 31,\n",
       "  'metric': 'binary_logloss',\n",
       "  'is_unbalance': True},\n",
       " {'objective': 'binary',\n",
       "  'boosting': 'gbrt',\n",
       "  'learning_rate': 0.05,\n",
       "  'num_leaves': 41,\n",
       "  'metric': 'binary_logloss',\n",
       "  'is_unbalance': True},\n",
       " {'objective': 'binary',\n",
       "  'boosting': 'gbrt',\n",
       "  'learning_rate': 0.05,\n",
       "  'num_leaves': 21,\n",
       "  'metric': 'binary_logloss',\n",
       "  'is_unbalance': True}]"
      ]
     },
     "execution_count": 112,
     "metadata": {},
     "output_type": "execute_result"
    }
   ],
   "source": [
    "import itertools\n",
    "keys, values = zip(*params.items())\n",
    "param = [dict(zip(keys, v)) for v in itertools.product(*values)]\n",
    "param"
   ]
  },
  {
   "cell_type": "code",
   "execution_count": 113,
   "metadata": {},
   "outputs": [],
   "source": [
    "results = []\n",
    "for i in range(len(param)):\n",
    "    cv_results = lgb.cv(param[i], train_data_bin, num_boost_round=1000, early_stopping_rounds=20, verbose_eval=False, seed=42)\n",
    "    metric_name = param[i]['metric']+\"-mean\"\n",
    "    results += [(i, len(cv_results[metric_name]), cv_results[metric_name][-1])]"
   ]
  },
  {
   "cell_type": "code",
   "execution_count": 114,
   "metadata": {},
   "outputs": [
    {
     "data": {
      "text/plain": [
       "[(2, 52, 0.06484379968772072),\n",
       " (5, 102, 0.06489607153696955),\n",
       " (4, 98, 0.06512748346421927),\n",
       " (3, 99, 0.06526910223096748),\n",
       " (0, 51, 0.06578529928011208),\n",
       " (1, 46, 0.0665084865615109)]"
      ]
     },
     "execution_count": 114,
     "metadata": {},
     "output_type": "execute_result"
    }
   ],
   "source": [
    "results.sort(key=lambda x: x[2])\n",
    "results"
   ]
  },
  {
   "cell_type": "code",
   "execution_count": 115,
   "metadata": {},
   "outputs": [
    {
     "data": {
      "text/plain": [
       "{'objective': 'binary',\n",
       " 'boosting': 'gbrt',\n",
       " 'learning_rate': 0.1,\n",
       " 'num_leaves': 21,\n",
       " 'metric': 'binary_logloss',\n",
       " 'is_unbalance': True}"
      ]
     },
     "execution_count": 115,
     "metadata": {},
     "output_type": "execute_result"
    }
   ],
   "source": [
    "param[results[0][0]]"
   ]
  },
  {
   "cell_type": "code",
   "execution_count": 116,
   "metadata": {},
   "outputs": [],
   "source": [
    "bst = lgb.train(param[results[0][0]], train_data_bin, num_boost_round=results[0][1])"
   ]
  },
  {
   "cell_type": "code",
   "execution_count": 117,
   "metadata": {},
   "outputs": [],
   "source": [
    "y_pred_train = np.round(bst.predict(X_train_bin)).reshape([-1,1])"
   ]
  },
  {
   "cell_type": "code",
   "execution_count": 118,
   "metadata": {},
   "outputs": [
    {
     "data": {
      "text/plain": [
       "array([[3283,    5],\n",
       "       [ 140, 7688]])"
      ]
     },
     "execution_count": 118,
     "metadata": {},
     "output_type": "execute_result"
    }
   ],
   "source": [
    "confusion_matrix(y_train_bin, y_pred_train)"
   ]
  },
  {
   "cell_type": "code",
   "execution_count": 119,
   "metadata": {},
   "outputs": [
    {
     "data": {
      "text/plain": [
       "0.9869557394746311"
      ]
     },
     "execution_count": 119,
     "metadata": {},
     "output_type": "execute_result"
    }
   ],
   "source": [
    "accuracy_score(y_train_bin, y_pred_train)"
   ]
  },
  {
   "cell_type": "code",
   "execution_count": 120,
   "metadata": {},
   "outputs": [],
   "source": [
    "y_pred = np.round(bst.predict(X_test_bin)).reshape([-1,1])"
   ]
  },
  {
   "cell_type": "code",
   "execution_count": 121,
   "metadata": {},
   "outputs": [
    {
     "data": {
      "text/plain": [
       "array([[1400,    9],\n",
       "       [  93, 3250]])"
      ]
     },
     "execution_count": 121,
     "metadata": {},
     "output_type": "execute_result"
    }
   ],
   "source": [
    "confusion_matrix(y_test_bin, y_pred)"
   ]
  },
  {
   "cell_type": "code",
   "execution_count": 122,
   "metadata": {},
   "outputs": [
    {
     "data": {
      "text/plain": [
       "0.9785353535353535"
      ]
     },
     "execution_count": 122,
     "metadata": {},
     "output_type": "execute_result"
    }
   ],
   "source": [
    "accuracy_score(y_test_bin, y_pred)"
   ]
  },
  {
   "cell_type": "code",
   "execution_count": 123,
   "metadata": {},
   "outputs": [
    {
     "data": {
      "text/plain": [
       "<matplotlib.axes._subplots.AxesSubplot at 0x7fae8cce3b90>"
      ]
     },
     "execution_count": 123,
     "metadata": {},
     "output_type": "execute_result"
    },
    {
     "data": {
      "image/png": "[encoded data removed]",
      "text/plain": [
       "<Figure size 432x288 with 1 Axes>"
      ]
     },
     "metadata": {
      "needs_background": "light"
     },
     "output_type": "display_data"
    }
   ],
   "source": [
    "lgb.plot_importance(bst, importance_type='split')"
   ]
  },
  {
   "cell_type": "code",
   "execution_count": 124,
   "metadata": {},
   "outputs": [
    {
     "data": {
      "text/plain": [
       "<matplotlib.axes._subplots.AxesSubplot at 0x7fae8ce31950>"
      ]
     },
     "execution_count": 124,
     "metadata": {},
     "output_type": "execute_result"
    },
    {
     "data": {
      "image/png": "[encoded data removed]",
      "text/plain": [
       "<Figure size 432x288 with 1 Axes>"
      ]
     },
     "metadata": {
      "needs_background": "light"
     },
     "output_type": "display_data"
    }
   ],
   "source": [
    "lgb.plot_importance(bst, importance_type='gain')"
   ]
  },
  {
   "cell_type": "code",
   "execution_count": 130,
   "metadata": {},
   "outputs": [
    {
     "name": "stdout",
     "output_type": "stream",
     "text": [
      "S_rad_mean0.175 +/- 0.004\n",
      "C_rad_mean0.175 +/- 0.003\n",
      "CoverS  0.060 +/- 0.003\n",
      "S_hot   0.004 +/- 0.001\n",
      "C_hot   0.001 +/- 0.001\n"
     ]
    }
   ],
   "source": [
    "from sklearn.inspection import permutation_importance\n",
    "model = lgb.LGBMClassifier(**param[results[0][0]], n_estimators=results[0][1])\n",
    "model = model.fit(X_train_bin, y_train_bin)\n",
    "r = permutation_importance(model, X_test_bin, y_test_bin, n_repeats=30, random_state=42)\n",
    "\n",
    "for i in r.importances_mean.argsort()[::-1]:\n",
    "#     if r.importances_mean[i] - 2 * r.importances_std[i] > 0:\n",
    "        print(f\"{train_data_bin.feature_name[i]:<8}\"\n",
    "              f\"{r.importances_mean[i]:.3f}\"\n",
    "              f\" +/- {r.importances_std[i]:.3f}\")"
   ]
  },
  {
   "cell_type": "code",
   "execution_count": null,
   "metadata": {},
   "outputs": [],
   "source": [
    "# Merge dataframe"
   ]
  },
  {
   "cell_type": "code",
   "execution_count": 167,
   "metadata": {
    "scrolled": true
   },
   "outputs": [
    {
     "data": {
      "text/html": [
       "<div>\n",
       "<style scoped>\n",
       "    .dataframe tbody tr th:only-of-type {\n",
       "        vertical-align: middle;\n",
       "    }\n",
       "\n",
       "    .dataframe tbody tr th {\n",
       "        vertical-align: top;\n",
       "    }\n",
       "\n",
       "    .dataframe thead th {\n",
       "        text-align: right;\n",
       "    }\n",
       "</style>\n",
       "<table border=\"1\" class=\"dataframe\">\n",
       "  <thead>\n",
       "    <tr style=\"text-align: right;\">\n",
       "      <th></th>\n",
       "      <th>eventId</th>\n",
       "      <th>clusterId</th>\n",
       "      <th>PrimaryDecayMode</th>\n",
       "      <th>VecShowerEnergy</th>\n",
       "      <th>S_sum</th>\n",
       "      <th>C_sum</th>\n",
       "      <th>S_rad_mean</th>\n",
       "      <th>C_rad_mean</th>\n",
       "      <th>S_hot</th>\n",
       "      <th>C_hot</th>\n",
       "      <th>CoverS</th>\n",
       "      <th>rec_energy</th>\n",
       "      <th>label</th>\n",
       "      <th>comi</th>\n",
       "      <th>comj</th>\n",
       "      <th>label_binary</th>\n",
       "      <th>predictedLabel</th>\n",
       "    </tr>\n",
       "  </thead>\n",
       "  <tbody>\n",
       "    <tr>\n",
       "      <th>0</th>\n",
       "      <td>1</td>\n",
       "      <td>1</td>\n",
       "      <td>4</td>\n",
       "      <td>13397.354239</td>\n",
       "      <td>7151.5063</td>\n",
       "      <td>4673.8125</td>\n",
       "      <td>4.663652</td>\n",
       "      <td>3.531102</td>\n",
       "      <td>0.070806</td>\n",
       "      <td>0.058091</td>\n",
       "      <td>0.653542</td>\n",
       "      <td>7799.056950</td>\n",
       "      <td>3</td>\n",
       "      <td>124.297177</td>\n",
       "      <td>127.529336</td>\n",
       "      <td>1.0</td>\n",
       "      <td>3.0</td>\n",
       "    </tr>\n",
       "    <tr>\n",
       "      <th>1</th>\n",
       "      <td>1</td>\n",
       "      <td>2</td>\n",
       "      <td>4</td>\n",
       "      <td>10115.048809</td>\n",
       "      <td>11443.4320</td>\n",
       "      <td>8736.7320</td>\n",
       "      <td>2.372905</td>\n",
       "      <td>1.656477</td>\n",
       "      <td>0.260583</td>\n",
       "      <td>0.188679</td>\n",
       "      <td>0.763471</td>\n",
       "      <td>12150.833917</td>\n",
       "      <td>2</td>\n",
       "      <td>135.302284</td>\n",
       "      <td>180.102213</td>\n",
       "      <td>NaN</td>\n",
       "      <td>NaN</td>\n",
       "    </tr>\n",
       "    <tr>\n",
       "      <th>2</th>\n",
       "      <td>1</td>\n",
       "      <td>3</td>\n",
       "      <td>4</td>\n",
       "      <td>4740.947309</td>\n",
       "      <td>5503.8794</td>\n",
       "      <td>4518.6650</td>\n",
       "      <td>2.474627</td>\n",
       "      <td>2.093691</td>\n",
       "      <td>0.116771</td>\n",
       "      <td>0.190987</td>\n",
       "      <td>0.820996</td>\n",
       "      <td>5761.367321</td>\n",
       "      <td>2</td>\n",
       "      <td>150.901653</td>\n",
       "      <td>175.728180</td>\n",
       "      <td>NaN</td>\n",
       "      <td>NaN</td>\n",
       "    </tr>\n",
       "    <tr>\n",
       "      <th>3</th>\n",
       "      <td>1</td>\n",
       "      <td>4</td>\n",
       "      <td>4</td>\n",
       "      <td>11594.263998</td>\n",
       "      <td>11814.1950</td>\n",
       "      <td>12111.1870</td>\n",
       "      <td>2.684480</td>\n",
       "      <td>1.768877</td>\n",
       "      <td>0.178017</td>\n",
       "      <td>0.168935</td>\n",
       "      <td>1.025139</td>\n",
       "      <td>11736.575496</td>\n",
       "      <td>2</td>\n",
       "      <td>138.098989</td>\n",
       "      <td>156.801442</td>\n",
       "      <td>NaN</td>\n",
       "      <td>NaN</td>\n",
       "    </tr>\n",
       "    <tr>\n",
       "      <th>4</th>\n",
       "      <td>1</td>\n",
       "      <td>5</td>\n",
       "      <td>4</td>\n",
       "      <td>2466.543425</td>\n",
       "      <td>2015.4009</td>\n",
       "      <td>1958.7346</td>\n",
       "      <td>2.239408</td>\n",
       "      <td>1.640035</td>\n",
       "      <td>0.152792</td>\n",
       "      <td>0.247525</td>\n",
       "      <td>0.971883</td>\n",
       "      <td>2030.210760</td>\n",
       "      <td>2</td>\n",
       "      <td>157.373331</td>\n",
       "      <td>147.430008</td>\n",
       "      <td>NaN</td>\n",
       "      <td>NaN</td>\n",
       "    </tr>\n",
       "    <tr>\n",
       "      <th>...</th>\n",
       "      <td>...</td>\n",
       "      <td>...</td>\n",
       "      <td>...</td>\n",
       "      <td>...</td>\n",
       "      <td>...</td>\n",
       "      <td>...</td>\n",
       "      <td>...</td>\n",
       "      <td>...</td>\n",
       "      <td>...</td>\n",
       "      <td>...</td>\n",
       "      <td>...</td>\n",
       "      <td>...</td>\n",
       "      <td>...</td>\n",
       "      <td>...</td>\n",
       "      <td>...</td>\n",
       "      <td>...</td>\n",
       "      <td>...</td>\n",
       "    </tr>\n",
       "    <tr>\n",
       "      <th>12238</th>\n",
       "      <td>24997</td>\n",
       "      <td>49234</td>\n",
       "      <td>3</td>\n",
       "      <td>8043.507687</td>\n",
       "      <td>2800.7195</td>\n",
       "      <td>0.0000</td>\n",
       "      <td>3.312913</td>\n",
       "      <td>NaN</td>\n",
       "      <td>0.087219</td>\n",
       "      <td>NaN</td>\n",
       "      <td>0.000000</td>\n",
       "      <td>3532.693618</td>\n",
       "      <td>3</td>\n",
       "      <td>105.340330</td>\n",
       "      <td>179.070250</td>\n",
       "      <td>1.0</td>\n",
       "      <td>3.0</td>\n",
       "    </tr>\n",
       "    <tr>\n",
       "      <th>12239</th>\n",
       "      <td>24999</td>\n",
       "      <td>49235</td>\n",
       "      <td>4</td>\n",
       "      <td>8094.950367</td>\n",
       "      <td>2927.3237</td>\n",
       "      <td>2091.6199</td>\n",
       "      <td>5.756746</td>\n",
       "      <td>3.018602</td>\n",
       "      <td>0.042092</td>\n",
       "      <td>0.163090</td>\n",
       "      <td>0.714516</td>\n",
       "      <td>3145.736701</td>\n",
       "      <td>3</td>\n",
       "      <td>161.690508</td>\n",
       "      <td>163.635591</td>\n",
       "      <td>1.0</td>\n",
       "      <td>3.0</td>\n",
       "    </tr>\n",
       "    <tr>\n",
       "      <th>12240</th>\n",
       "      <td>24999</td>\n",
       "      <td>49237</td>\n",
       "      <td>4</td>\n",
       "      <td>2976.508047</td>\n",
       "      <td>2909.0278</td>\n",
       "      <td>3177.8260</td>\n",
       "      <td>2.159932</td>\n",
       "      <td>2.011554</td>\n",
       "      <td>0.192016</td>\n",
       "      <td>0.293785</td>\n",
       "      <td>1.092401</td>\n",
       "      <td>2838.776807</td>\n",
       "      <td>2</td>\n",
       "      <td>116.907816</td>\n",
       "      <td>152.515817</td>\n",
       "      <td>NaN</td>\n",
       "      <td>NaN</td>\n",
       "    </tr>\n",
       "    <tr>\n",
       "      <th>12241</th>\n",
       "      <td>24999</td>\n",
       "      <td>49238</td>\n",
       "      <td>4</td>\n",
       "      <td>12502.783804</td>\n",
       "      <td>11125.8830</td>\n",
       "      <td>13294.8050</td>\n",
       "      <td>2.578569</td>\n",
       "      <td>2.023665</td>\n",
       "      <td>0.213256</td>\n",
       "      <td>0.278866</td>\n",
       "      <td>1.194944</td>\n",
       "      <td>10559.030530</td>\n",
       "      <td>2</td>\n",
       "      <td>111.971863</td>\n",
       "      <td>177.092782</td>\n",
       "      <td>NaN</td>\n",
       "      <td>NaN</td>\n",
       "    </tr>\n",
       "    <tr>\n",
       "      <th>12242</th>\n",
       "      <td>24999</td>\n",
       "      <td>49239</td>\n",
       "      <td>4</td>\n",
       "      <td>2044.413946</td>\n",
       "      <td>1420.7228</td>\n",
       "      <td>2055.7122</td>\n",
       "      <td>1.802659</td>\n",
       "      <td>1.582729</td>\n",
       "      <td>0.157424</td>\n",
       "      <td>0.170306</td>\n",
       "      <td>1.446948</td>\n",
       "      <td>1254.766943</td>\n",
       "      <td>2</td>\n",
       "      <td>90.333763</td>\n",
       "      <td>170.177558</td>\n",
       "      <td>NaN</td>\n",
       "      <td>NaN</td>\n",
       "    </tr>\n",
       "  </tbody>\n",
       "</table>\n",
       "<p>12243 rows × 17 columns</p>\n",
       "</div>"
      ],
      "text/plain": [
       "       eventId  clusterId  PrimaryDecayMode  VecShowerEnergy       S_sum  \\\n",
       "0            1          1                 4     13397.354239   7151.5063   \n",
       "1            1          2                 4     10115.048809  11443.4320   \n",
       "2            1          3                 4      4740.947309   5503.8794   \n",
       "3            1          4                 4     11594.263998  11814.1950   \n",
       "4            1          5                 4      2466.543425   2015.4009   \n",
       "...        ...        ...               ...              ...         ...   \n",
       "12238    24997      49234                 3      8043.507687   2800.7195   \n",
       "12239    24999      49235                 4      8094.950367   2927.3237   \n",
       "12240    24999      49237                 4      2976.508047   2909.0278   \n",
       "12241    24999      49238                 4     12502.783804  11125.8830   \n",
       "12242    24999      49239                 4      2044.413946   1420.7228   \n",
       "\n",
       "            C_sum  S_rad_mean  C_rad_mean     S_hot     C_hot    CoverS  \\\n",
       "0       4673.8125    4.663652    3.531102  0.070806  0.058091  0.653542   \n",
       "1       8736.7320    2.372905    1.656477  0.260583  0.188679  0.763471   \n",
       "2       4518.6650    2.474627    2.093691  0.116771  0.190987  0.820996   \n",
       "3      12111.1870    2.684480    1.768877  0.178017  0.168935  1.025139   \n",
       "4       1958.7346    2.239408    1.640035  0.152792  0.247525  0.971883   \n",
       "...           ...         ...         ...       ...       ...       ...   \n",
       "12238      0.0000    3.312913         NaN  0.087219       NaN  0.000000   \n",
       "12239   2091.6199    5.756746    3.018602  0.042092  0.163090  0.714516   \n",
       "12240   3177.8260    2.159932    2.011554  0.192016  0.293785  1.092401   \n",
       "12241  13294.8050    2.578569    2.023665  0.213256  0.278866  1.194944   \n",
       "12242   2055.7122    1.802659    1.582729  0.157424  0.170306  1.446948   \n",
       "\n",
       "         rec_energy  label        comi        comj  label_binary  \\\n",
       "0       7799.056950      3  124.297177  127.529336           1.0   \n",
       "1      12150.833917      2  135.302284  180.102213           NaN   \n",
       "2       5761.367321      2  150.901653  175.728180           NaN   \n",
       "3      11736.575496      2  138.098989  156.801442           NaN   \n",
       "4       2030.210760      2  157.373331  147.430008           NaN   \n",
       "...             ...    ...         ...         ...           ...   \n",
       "12238   3532.693618      3  105.340330  179.070250           1.0   \n",
       "12239   3145.736701      3  161.690508  163.635591           1.0   \n",
       "12240   2838.776807      2  116.907816  152.515817           NaN   \n",
       "12241  10559.030530      2  111.971863  177.092782           NaN   \n",
       "12242   1254.766943      2   90.333763  170.177558           NaN   \n",
       "\n",
       "       predictedLabel  \n",
       "0                 3.0  \n",
       "1                 NaN  \n",
       "2                 NaN  \n",
       "3                 NaN  \n",
       "4                 NaN  \n",
       "...               ...  \n",
       "12238             3.0  \n",
       "12239             3.0  \n",
       "12240             NaN  \n",
       "12241             NaN  \n",
       "12242             NaN  \n",
       "\n",
       "[12243 rows x 17 columns]"
      ]
     },
     "execution_count": 167,
     "metadata": {},
     "output_type": "execute_result"
    }
   ],
   "source": [
    "df_new = pd.DataFrame(np.hstack((idx_test_bin, y_pred)), columns=['clusterId', 'predictedLabel'])\n",
    "df_new.predictedLabel = df_new.predictedLabel.map({0: 0, 1: 3})\n",
    "df_merged = df_test.merge(df_new, how='left', on='clusterId')\n",
    "df_merged"
   ]
  },
  {
   "cell_type": "code",
   "execution_count": 168,
   "metadata": {},
   "outputs": [],
   "source": [
    "df_merged['predictedLabel'] = df_merged.apply(lambda x: x.label if np.isnan(x.predictedLabel) else x.predictedLabel, axis=1)"
   ]
  },
  {
   "cell_type": "code",
   "execution_count": 169,
   "metadata": {},
   "outputs": [
    {
     "data": {
      "text/html": [
       "<div>\n",
       "<style scoped>\n",
       "    .dataframe tbody tr th:only-of-type {\n",
       "        vertical-align: middle;\n",
       "    }\n",
       "\n",
       "    .dataframe tbody tr th {\n",
       "        vertical-align: top;\n",
       "    }\n",
       "\n",
       "    .dataframe thead th {\n",
       "        text-align: right;\n",
       "    }\n",
       "</style>\n",
       "<table border=\"1\" class=\"dataframe\">\n",
       "  <thead>\n",
       "    <tr style=\"text-align: right;\">\n",
       "      <th></th>\n",
       "      <th>eventId</th>\n",
       "      <th>clusterId</th>\n",
       "      <th>PrimaryDecayMode</th>\n",
       "      <th>VecShowerEnergy</th>\n",
       "      <th>S_sum</th>\n",
       "      <th>C_sum</th>\n",
       "      <th>S_rad_mean</th>\n",
       "      <th>C_rad_mean</th>\n",
       "      <th>S_hot</th>\n",
       "      <th>C_hot</th>\n",
       "      <th>CoverS</th>\n",
       "      <th>rec_energy</th>\n",
       "      <th>label</th>\n",
       "      <th>comi</th>\n",
       "      <th>comj</th>\n",
       "      <th>label_binary</th>\n",
       "      <th>predictedLabel</th>\n",
       "    </tr>\n",
       "  </thead>\n",
       "  <tbody>\n",
       "    <tr>\n",
       "      <th>0</th>\n",
       "      <td>1</td>\n",
       "      <td>1</td>\n",
       "      <td>4</td>\n",
       "      <td>13397.354239</td>\n",
       "      <td>7151.5063</td>\n",
       "      <td>4673.8125</td>\n",
       "      <td>4.663652</td>\n",
       "      <td>3.531102</td>\n",
       "      <td>0.070806</td>\n",
       "      <td>0.058091</td>\n",
       "      <td>0.653542</td>\n",
       "      <td>7799.056950</td>\n",
       "      <td>3</td>\n",
       "      <td>124.297177</td>\n",
       "      <td>127.529336</td>\n",
       "      <td>1.0</td>\n",
       "      <td>3.0</td>\n",
       "    </tr>\n",
       "    <tr>\n",
       "      <th>1</th>\n",
       "      <td>1</td>\n",
       "      <td>2</td>\n",
       "      <td>4</td>\n",
       "      <td>10115.048809</td>\n",
       "      <td>11443.4320</td>\n",
       "      <td>8736.7320</td>\n",
       "      <td>2.372905</td>\n",
       "      <td>1.656477</td>\n",
       "      <td>0.260583</td>\n",
       "      <td>0.188679</td>\n",
       "      <td>0.763471</td>\n",
       "      <td>12150.833917</td>\n",
       "      <td>2</td>\n",
       "      <td>135.302284</td>\n",
       "      <td>180.102213</td>\n",
       "      <td>NaN</td>\n",
       "      <td>2.0</td>\n",
       "    </tr>\n",
       "    <tr>\n",
       "      <th>2</th>\n",
       "      <td>1</td>\n",
       "      <td>3</td>\n",
       "      <td>4</td>\n",
       "      <td>4740.947309</td>\n",
       "      <td>5503.8794</td>\n",
       "      <td>4518.6650</td>\n",
       "      <td>2.474627</td>\n",
       "      <td>2.093691</td>\n",
       "      <td>0.116771</td>\n",
       "      <td>0.190987</td>\n",
       "      <td>0.820996</td>\n",
       "      <td>5761.367321</td>\n",
       "      <td>2</td>\n",
       "      <td>150.901653</td>\n",
       "      <td>175.728180</td>\n",
       "      <td>NaN</td>\n",
       "      <td>2.0</td>\n",
       "    </tr>\n",
       "    <tr>\n",
       "      <th>3</th>\n",
       "      <td>1</td>\n",
       "      <td>4</td>\n",
       "      <td>4</td>\n",
       "      <td>11594.263998</td>\n",
       "      <td>11814.1950</td>\n",
       "      <td>12111.1870</td>\n",
       "      <td>2.684480</td>\n",
       "      <td>1.768877</td>\n",
       "      <td>0.178017</td>\n",
       "      <td>0.168935</td>\n",
       "      <td>1.025139</td>\n",
       "      <td>11736.575496</td>\n",
       "      <td>2</td>\n",
       "      <td>138.098989</td>\n",
       "      <td>156.801442</td>\n",
       "      <td>NaN</td>\n",
       "      <td>2.0</td>\n",
       "    </tr>\n",
       "    <tr>\n",
       "      <th>4</th>\n",
       "      <td>1</td>\n",
       "      <td>5</td>\n",
       "      <td>4</td>\n",
       "      <td>2466.543425</td>\n",
       "      <td>2015.4009</td>\n",
       "      <td>1958.7346</td>\n",
       "      <td>2.239408</td>\n",
       "      <td>1.640035</td>\n",
       "      <td>0.152792</td>\n",
       "      <td>0.247525</td>\n",
       "      <td>0.971883</td>\n",
       "      <td>2030.210760</td>\n",
       "      <td>2</td>\n",
       "      <td>157.373331</td>\n",
       "      <td>147.430008</td>\n",
       "      <td>NaN</td>\n",
       "      <td>2.0</td>\n",
       "    </tr>\n",
       "    <tr>\n",
       "      <th>...</th>\n",
       "      <td>...</td>\n",
       "      <td>...</td>\n",
       "      <td>...</td>\n",
       "      <td>...</td>\n",
       "      <td>...</td>\n",
       "      <td>...</td>\n",
       "      <td>...</td>\n",
       "      <td>...</td>\n",
       "      <td>...</td>\n",
       "      <td>...</td>\n",
       "      <td>...</td>\n",
       "      <td>...</td>\n",
       "      <td>...</td>\n",
       "      <td>...</td>\n",
       "      <td>...</td>\n",
       "      <td>...</td>\n",
       "      <td>...</td>\n",
       "    </tr>\n",
       "    <tr>\n",
       "      <th>12238</th>\n",
       "      <td>24997</td>\n",
       "      <td>49234</td>\n",
       "      <td>3</td>\n",
       "      <td>8043.507687</td>\n",
       "      <td>2800.7195</td>\n",
       "      <td>0.0000</td>\n",
       "      <td>3.312913</td>\n",
       "      <td>NaN</td>\n",
       "      <td>0.087219</td>\n",
       "      <td>NaN</td>\n",
       "      <td>0.000000</td>\n",
       "      <td>3532.693618</td>\n",
       "      <td>3</td>\n",
       "      <td>105.340330</td>\n",
       "      <td>179.070250</td>\n",
       "      <td>1.0</td>\n",
       "      <td>3.0</td>\n",
       "    </tr>\n",
       "    <tr>\n",
       "      <th>12239</th>\n",
       "      <td>24999</td>\n",
       "      <td>49235</td>\n",
       "      <td>4</td>\n",
       "      <td>8094.950367</td>\n",
       "      <td>2927.3237</td>\n",
       "      <td>2091.6199</td>\n",
       "      <td>5.756746</td>\n",
       "      <td>3.018602</td>\n",
       "      <td>0.042092</td>\n",
       "      <td>0.163090</td>\n",
       "      <td>0.714516</td>\n",
       "      <td>3145.736701</td>\n",
       "      <td>3</td>\n",
       "      <td>161.690508</td>\n",
       "      <td>163.635591</td>\n",
       "      <td>1.0</td>\n",
       "      <td>3.0</td>\n",
       "    </tr>\n",
       "    <tr>\n",
       "      <th>12240</th>\n",
       "      <td>24999</td>\n",
       "      <td>49237</td>\n",
       "      <td>4</td>\n",
       "      <td>2976.508047</td>\n",
       "      <td>2909.0278</td>\n",
       "      <td>3177.8260</td>\n",
       "      <td>2.159932</td>\n",
       "      <td>2.011554</td>\n",
       "      <td>0.192016</td>\n",
       "      <td>0.293785</td>\n",
       "      <td>1.092401</td>\n",
       "      <td>2838.776807</td>\n",
       "      <td>2</td>\n",
       "      <td>116.907816</td>\n",
       "      <td>152.515817</td>\n",
       "      <td>NaN</td>\n",
       "      <td>2.0</td>\n",
       "    </tr>\n",
       "    <tr>\n",
       "      <th>12241</th>\n",
       "      <td>24999</td>\n",
       "      <td>49238</td>\n",
       "      <td>4</td>\n",
       "      <td>12502.783804</td>\n",
       "      <td>11125.8830</td>\n",
       "      <td>13294.8050</td>\n",
       "      <td>2.578569</td>\n",
       "      <td>2.023665</td>\n",
       "      <td>0.213256</td>\n",
       "      <td>0.278866</td>\n",
       "      <td>1.194944</td>\n",
       "      <td>10559.030530</td>\n",
       "      <td>2</td>\n",
       "      <td>111.971863</td>\n",
       "      <td>177.092782</td>\n",
       "      <td>NaN</td>\n",
       "      <td>2.0</td>\n",
       "    </tr>\n",
       "    <tr>\n",
       "      <th>12242</th>\n",
       "      <td>24999</td>\n",
       "      <td>49239</td>\n",
       "      <td>4</td>\n",
       "      <td>2044.413946</td>\n",
       "      <td>1420.7228</td>\n",
       "      <td>2055.7122</td>\n",
       "      <td>1.802659</td>\n",
       "      <td>1.582729</td>\n",
       "      <td>0.157424</td>\n",
       "      <td>0.170306</td>\n",
       "      <td>1.446948</td>\n",
       "      <td>1254.766943</td>\n",
       "      <td>2</td>\n",
       "      <td>90.333763</td>\n",
       "      <td>170.177558</td>\n",
       "      <td>NaN</td>\n",
       "      <td>2.0</td>\n",
       "    </tr>\n",
       "  </tbody>\n",
       "</table>\n",
       "<p>12243 rows × 17 columns</p>\n",
       "</div>"
      ],
      "text/plain": [
       "       eventId  clusterId  PrimaryDecayMode  VecShowerEnergy       S_sum  \\\n",
       "0            1          1                 4     13397.354239   7151.5063   \n",
       "1            1          2                 4     10115.048809  11443.4320   \n",
       "2            1          3                 4      4740.947309   5503.8794   \n",
       "3            1          4                 4     11594.263998  11814.1950   \n",
       "4            1          5                 4      2466.543425   2015.4009   \n",
       "...        ...        ...               ...              ...         ...   \n",
       "12238    24997      49234                 3      8043.507687   2800.7195   \n",
       "12239    24999      49235                 4      8094.950367   2927.3237   \n",
       "12240    24999      49237                 4      2976.508047   2909.0278   \n",
       "12241    24999      49238                 4     12502.783804  11125.8830   \n",
       "12242    24999      49239                 4      2044.413946   1420.7228   \n",
       "\n",
       "            C_sum  S_rad_mean  C_rad_mean     S_hot     C_hot    CoverS  \\\n",
       "0       4673.8125    4.663652    3.531102  0.070806  0.058091  0.653542   \n",
       "1       8736.7320    2.372905    1.656477  0.260583  0.188679  0.763471   \n",
       "2       4518.6650    2.474627    2.093691  0.116771  0.190987  0.820996   \n",
       "3      12111.1870    2.684480    1.768877  0.178017  0.168935  1.025139   \n",
       "4       1958.7346    2.239408    1.640035  0.152792  0.247525  0.971883   \n",
       "...           ...         ...         ...       ...       ...       ...   \n",
       "12238      0.0000    3.312913         NaN  0.087219       NaN  0.000000   \n",
       "12239   2091.6199    5.756746    3.018602  0.042092  0.163090  0.714516   \n",
       "12240   3177.8260    2.159932    2.011554  0.192016  0.293785  1.092401   \n",
       "12241  13294.8050    2.578569    2.023665  0.213256  0.278866  1.194944   \n",
       "12242   2055.7122    1.802659    1.582729  0.157424  0.170306  1.446948   \n",
       "\n",
       "         rec_energy  label        comi        comj  label_binary  \\\n",
       "0       7799.056950      3  124.297177  127.529336           1.0   \n",
       "1      12150.833917      2  135.302284  180.102213           NaN   \n",
       "2       5761.367321      2  150.901653  175.728180           NaN   \n",
       "3      11736.575496      2  138.098989  156.801442           NaN   \n",
       "4       2030.210760      2  157.373331  147.430008           NaN   \n",
       "...             ...    ...         ...         ...           ...   \n",
       "12238   3532.693618      3  105.340330  179.070250           1.0   \n",
       "12239   3145.736701      3  161.690508  163.635591           1.0   \n",
       "12240   2838.776807      2  116.907816  152.515817           NaN   \n",
       "12241  10559.030530      2  111.971863  177.092782           NaN   \n",
       "12242   1254.766943      2   90.333763  170.177558           NaN   \n",
       "\n",
       "       predictedLabel  \n",
       "0                 3.0  \n",
       "1                 2.0  \n",
       "2                 2.0  \n",
       "3                 2.0  \n",
       "4                 2.0  \n",
       "...               ...  \n",
       "12238             3.0  \n",
       "12239             3.0  \n",
       "12240             2.0  \n",
       "12241             2.0  \n",
       "12242             2.0  \n",
       "\n",
       "[12243 rows x 17 columns]"
      ]
     },
     "execution_count": 169,
     "metadata": {},
     "output_type": "execute_result"
    }
   ],
   "source": [
    "df_merged"
   ]
  },
  {
   "cell_type": "code",
   "execution_count": 170,
   "metadata": {},
   "outputs": [],
   "source": [
    "# df_merged['predictedLabel2'] = df_merged['predictedLabel']\n",
    "# df_merged.loc[((df_merged.label == 0) & (df_merged.predictedLabel2 == 2)), 'predictedLabel2'] = df_merged.label\n",
    "# df_merged.loc[((df_merged.label == 2) & (df_merged.predictedLabel2 == 0)), 'predictedLabel2'] = df_merged.label\n",
    "# df_merged.loc[((df_merged.label == 1) & (df_merged.predictedLabel2 == 3)), 'predictedLabel2'] = df_merged.label\n",
    "# df_merged.loc[((df_merged.label == 3) & (df_merged.predictedLabel2 == 1)), 'predictedLabel2'] = df_merged.label"
   ]
  },
  {
   "cell_type": "code",
   "execution_count": 172,
   "metadata": {},
   "outputs": [
    {
     "name": "stdout",
     "output_type": "stream",
     "text": [
      "[[1400    0    0    9]\n",
      " [   0 6514    0    0]\n",
      " [   0    0  977    0]\n",
      " [  93    0    0 3250]]\n"
     ]
    }
   ],
   "source": [
    "print(confusion_matrix(df_merged.label, df_merged.predictedLabel, labels=[0,2,1,3]))\n",
    "# print(accuracy_score(df_merged.label, df_merged.predictedLabel))"
   ]
  },
  {
   "cell_type": "markdown",
   "metadata": {},
   "source": [
    "## Regression"
   ]
  },
  {
   "cell_type": "markdown",
   "metadata": {},
   "source": [
    "### Training"
   ]
  },
  {
   "cell_type": "code",
   "execution_count": 173,
   "metadata": {},
   "outputs": [],
   "source": [
    "params = {\n",
    "    'objective': ['regression'],\n",
    "    'boosting': ['gbrt'],  # default = gbdt\n",
    "    'learning_rate': [0.1, 0.05], # 0.01],  # default = 0.1\n",
    "    'num_leaves': [31, 21, 41],  # default = 31\n",
    "    'metric': ['mape'], # 'rmse']\n",
    "}"
   ]
  },
  {
   "cell_type": "code",
   "execution_count": 174,
   "metadata": {},
   "outputs": [],
   "source": [
    "import itertools\n",
    "keys, values = zip(*params.items())\n",
    "param = [dict(zip(keys, v)) for v in itertools.product(*values)]"
   ]
  },
  {
   "cell_type": "code",
   "execution_count": 175,
   "metadata": {},
   "outputs": [
    {
     "data": {
      "text/plain": [
       "[{'objective': 'regression',\n",
       "  'boosting': 'gbrt',\n",
       "  'learning_rate': 0.1,\n",
       "  'num_leaves': 31,\n",
       "  'metric': 'mape'},\n",
       " {'objective': 'regression',\n",
       "  'boosting': 'gbrt',\n",
       "  'learning_rate': 0.1,\n",
       "  'num_leaves': 21,\n",
       "  'metric': 'mape'},\n",
       " {'objective': 'regression',\n",
       "  'boosting': 'gbrt',\n",
       "  'learning_rate': 0.1,\n",
       "  'num_leaves': 41,\n",
       "  'metric': 'mape'},\n",
       " {'objective': 'regression',\n",
       "  'boosting': 'gbrt',\n",
       "  'learning_rate': 0.05,\n",
       "  'num_leaves': 31,\n",
       "  'metric': 'mape'},\n",
       " {'objective': 'regression',\n",
       "  'boosting': 'gbrt',\n",
       "  'learning_rate': 0.05,\n",
       "  'num_leaves': 21,\n",
       "  'metric': 'mape'},\n",
       " {'objective': 'regression',\n",
       "  'boosting': 'gbrt',\n",
       "  'learning_rate': 0.05,\n",
       "  'num_leaves': 41,\n",
       "  'metric': 'mape'}]"
      ]
     },
     "execution_count": 175,
     "metadata": {},
     "output_type": "execute_result"
    }
   ],
   "source": [
    "param"
   ]
  },
  {
   "cell_type": "code",
   "execution_count": 176,
   "metadata": {},
   "outputs": [],
   "source": [
    "results = []\n",
    "for i in range(len(param)):\n",
    "    cv_results = lgb.cv(param[i], train_data_z, num_boost_round=1000, early_stopping_rounds=20, verbose_eval=False, seed=42, stratified=False)\n",
    "    metric_name = param[i]['metric']+\"-mean\"\n",
    "    results += [(i, len(cv_results[metric_name]), cv_results[metric_name][-1])]"
   ]
  },
  {
   "cell_type": "code",
   "execution_count": 177,
   "metadata": {},
   "outputs": [
    {
     "data": {
      "text/plain": [
       "[(5, 256, 0.32905944926946806),\n",
       " (2, 124, 0.33114850004309493),\n",
       " (3, 389, 0.3316240883766618),\n",
       " (0, 142, 0.3355145142712407),\n",
       " (4, 460, 0.33760241810757263),\n",
       " (1, 258, 0.33930035030239974)]"
      ]
     },
     "execution_count": 177,
     "metadata": {},
     "output_type": "execute_result"
    }
   ],
   "source": [
    "results.sort(key=lambda x: x[2])\n",
    "results"
   ]
  },
  {
   "cell_type": "code",
   "execution_count": 178,
   "metadata": {},
   "outputs": [
    {
     "data": {
      "text/plain": [
       "{'objective': 'regression',\n",
       " 'boosting': 'gbrt',\n",
       " 'learning_rate': 0.05,\n",
       " 'num_leaves': 41,\n",
       " 'metric': 'mape'}"
      ]
     },
     "execution_count": 178,
     "metadata": {},
     "output_type": "execute_result"
    }
   ],
   "source": [
    "param[results[0][0]]"
   ]
  },
  {
   "cell_type": "code",
   "execution_count": 179,
   "metadata": {},
   "outputs": [],
   "source": [
    "bst = lgb.train(param[results[0][0]], train_data_z, num_boost_round=results[0][1])"
   ]
  },
  {
   "cell_type": "markdown",
   "metadata": {},
   "source": [
    "### Testing"
   ]
  },
  {
   "cell_type": "code",
   "execution_count": 180,
   "metadata": {},
   "outputs": [],
   "source": [
    "def mape(y_true, y_pred):\n",
    "    y_true = y_true.reshape([-1,1])\n",
    "    y_pred = y_pred.reshape([-1,1])\n",
    "    return np.mean(np.abs((y_true - y_pred) / y_true)) * 100"
   ]
  },
  {
   "cell_type": "code",
   "execution_count": 181,
   "metadata": {},
   "outputs": [
    {
     "name": "stdout",
     "output_type": "stream",
     "text": [
      "27.929957235887983\n"
     ]
    }
   ],
   "source": [
    "z_pred_train = bst.predict(X_train_z).reshape([-1,1])\n",
    "z_pred_train = np.clip(z_pred_train, 0, 1e6)\n",
    "print(mape(z_train, z_pred_train))"
   ]
  },
  {
   "cell_type": "code",
   "execution_count": 182,
   "metadata": {},
   "outputs": [
    {
     "name": "stdout",
     "output_type": "stream",
     "text": [
      "31.99481105803443\n"
     ]
    }
   ],
   "source": [
    "z_pred = bst.predict(X_test_z).reshape([-1,1])\n",
    "z_pred = np.clip(z_pred, 0, 1e6)\n",
    "print(mape(z_test, z_pred))"
   ]
  },
  {
   "cell_type": "code",
   "execution_count": 183,
   "metadata": {},
   "outputs": [
    {
     "name": "stdout",
     "output_type": "stream",
     "text": [
      "36.165500002337794\n"
     ]
    }
   ],
   "source": [
    "print(mape(z_test, X_test_z[:,-1]))"
   ]
  },
  {
   "cell_type": "code",
   "execution_count": 184,
   "metadata": {},
   "outputs": [
    {
     "data": {
      "text/html": [
       "<div>\n",
       "<style scoped>\n",
       "    .dataframe tbody tr th:only-of-type {\n",
       "        vertical-align: middle;\n",
       "    }\n",
       "\n",
       "    .dataframe tbody tr th {\n",
       "        vertical-align: top;\n",
       "    }\n",
       "\n",
       "    .dataframe thead th {\n",
       "        text-align: right;\n",
       "    }\n",
       "</style>\n",
       "<table border=\"1\" class=\"dataframe\">\n",
       "  <thead>\n",
       "    <tr style=\"text-align: right;\">\n",
       "      <th></th>\n",
       "      <th>eventId</th>\n",
       "      <th>clusterId</th>\n",
       "      <th>PrimaryDecayMode</th>\n",
       "      <th>VecShowerEnergy</th>\n",
       "      <th>S_sum</th>\n",
       "      <th>C_sum</th>\n",
       "      <th>S_rad_mean</th>\n",
       "      <th>C_rad_mean</th>\n",
       "      <th>S_hot</th>\n",
       "      <th>C_hot</th>\n",
       "      <th>CoverS</th>\n",
       "      <th>rec_energy</th>\n",
       "      <th>label</th>\n",
       "      <th>comi</th>\n",
       "      <th>comj</th>\n",
       "      <th>label_binary</th>\n",
       "      <th>predictedLabel</th>\n",
       "      <th>predictedEnergy</th>\n",
       "    </tr>\n",
       "  </thead>\n",
       "  <tbody>\n",
       "    <tr>\n",
       "      <th>0</th>\n",
       "      <td>1</td>\n",
       "      <td>1</td>\n",
       "      <td>4</td>\n",
       "      <td>13397.354239</td>\n",
       "      <td>7151.5063</td>\n",
       "      <td>4673.8125</td>\n",
       "      <td>4.663652</td>\n",
       "      <td>3.531102</td>\n",
       "      <td>0.070806</td>\n",
       "      <td>0.058091</td>\n",
       "      <td>0.653542</td>\n",
       "      <td>7799.056950</td>\n",
       "      <td>3</td>\n",
       "      <td>124.297177</td>\n",
       "      <td>127.529336</td>\n",
       "      <td>1.0</td>\n",
       "      <td>3.0</td>\n",
       "      <td>15726.400613</td>\n",
       "    </tr>\n",
       "    <tr>\n",
       "      <th>1</th>\n",
       "      <td>1</td>\n",
       "      <td>2</td>\n",
       "      <td>4</td>\n",
       "      <td>10115.048809</td>\n",
       "      <td>11443.4320</td>\n",
       "      <td>8736.7320</td>\n",
       "      <td>2.372905</td>\n",
       "      <td>1.656477</td>\n",
       "      <td>0.260583</td>\n",
       "      <td>0.188679</td>\n",
       "      <td>0.763471</td>\n",
       "      <td>12150.833917</td>\n",
       "      <td>2</td>\n",
       "      <td>135.302284</td>\n",
       "      <td>180.102213</td>\n",
       "      <td>NaN</td>\n",
       "      <td>2.0</td>\n",
       "      <td>11734.665162</td>\n",
       "    </tr>\n",
       "    <tr>\n",
       "      <th>2</th>\n",
       "      <td>1</td>\n",
       "      <td>3</td>\n",
       "      <td>4</td>\n",
       "      <td>4740.947309</td>\n",
       "      <td>5503.8794</td>\n",
       "      <td>4518.6650</td>\n",
       "      <td>2.474627</td>\n",
       "      <td>2.093691</td>\n",
       "      <td>0.116771</td>\n",
       "      <td>0.190987</td>\n",
       "      <td>0.820996</td>\n",
       "      <td>5761.367321</td>\n",
       "      <td>2</td>\n",
       "      <td>150.901653</td>\n",
       "      <td>175.728180</td>\n",
       "      <td>NaN</td>\n",
       "      <td>2.0</td>\n",
       "      <td>5753.730248</td>\n",
       "    </tr>\n",
       "    <tr>\n",
       "      <th>3</th>\n",
       "      <td>1</td>\n",
       "      <td>4</td>\n",
       "      <td>4</td>\n",
       "      <td>11594.263998</td>\n",
       "      <td>11814.1950</td>\n",
       "      <td>12111.1870</td>\n",
       "      <td>2.684480</td>\n",
       "      <td>1.768877</td>\n",
       "      <td>0.178017</td>\n",
       "      <td>0.168935</td>\n",
       "      <td>1.025139</td>\n",
       "      <td>11736.575496</td>\n",
       "      <td>2</td>\n",
       "      <td>138.098989</td>\n",
       "      <td>156.801442</td>\n",
       "      <td>NaN</td>\n",
       "      <td>2.0</td>\n",
       "      <td>12692.102576</td>\n",
       "    </tr>\n",
       "    <tr>\n",
       "      <th>4</th>\n",
       "      <td>1</td>\n",
       "      <td>5</td>\n",
       "      <td>4</td>\n",
       "      <td>2466.543425</td>\n",
       "      <td>2015.4009</td>\n",
       "      <td>1958.7346</td>\n",
       "      <td>2.239408</td>\n",
       "      <td>1.640035</td>\n",
       "      <td>0.152792</td>\n",
       "      <td>0.247525</td>\n",
       "      <td>0.971883</td>\n",
       "      <td>2030.210760</td>\n",
       "      <td>2</td>\n",
       "      <td>157.373331</td>\n",
       "      <td>147.430008</td>\n",
       "      <td>NaN</td>\n",
       "      <td>2.0</td>\n",
       "      <td>2514.676255</td>\n",
       "    </tr>\n",
       "  </tbody>\n",
       "</table>\n",
       "</div>"
      ],
      "text/plain": [
       "   eventId  clusterId  PrimaryDecayMode  VecShowerEnergy       S_sum  \\\n",
       "0        1          1                 4     13397.354239   7151.5063   \n",
       "1        1          2                 4     10115.048809  11443.4320   \n",
       "2        1          3                 4      4740.947309   5503.8794   \n",
       "3        1          4                 4     11594.263998  11814.1950   \n",
       "4        1          5                 4      2466.543425   2015.4009   \n",
       "\n",
       "        C_sum  S_rad_mean  C_rad_mean     S_hot     C_hot    CoverS  \\\n",
       "0   4673.8125    4.663652    3.531102  0.070806  0.058091  0.653542   \n",
       "1   8736.7320    2.372905    1.656477  0.260583  0.188679  0.763471   \n",
       "2   4518.6650    2.474627    2.093691  0.116771  0.190987  0.820996   \n",
       "3  12111.1870    2.684480    1.768877  0.178017  0.168935  1.025139   \n",
       "4   1958.7346    2.239408    1.640035  0.152792  0.247525  0.971883   \n",
       "\n",
       "     rec_energy  label        comi        comj  label_binary  predictedLabel  \\\n",
       "0   7799.056950      3  124.297177  127.529336           1.0             3.0   \n",
       "1  12150.833917      2  135.302284  180.102213           NaN             2.0   \n",
       "2   5761.367321      2  150.901653  175.728180           NaN             2.0   \n",
       "3  11736.575496      2  138.098989  156.801442           NaN             2.0   \n",
       "4   2030.210760      2  157.373331  147.430008           NaN             2.0   \n",
       "\n",
       "   predictedEnergy  \n",
       "0     15726.400613  \n",
       "1     11734.665162  \n",
       "2      5753.730248  \n",
       "3     12692.102576  \n",
       "4      2514.676255  "
      ]
     },
     "execution_count": 184,
     "metadata": {},
     "output_type": "execute_result"
    }
   ],
   "source": [
    "df_new2 = pd.DataFrame(np.hstack((idx_test, z_pred)), columns=['clusterId', 'predictedEnergy'])\n",
    "df_merged2 = df_merged.merge(df_new2, how='inner', on='clusterId')\n",
    "df_merged2.head()"
   ]
  },
  {
   "cell_type": "code",
   "execution_count": 185,
   "metadata": {},
   "outputs": [],
   "source": [
    "df_merged2.to_csv(os.path.join(DATA_DIR, 'dfmerged2.csv'), index=False)"
   ]
  },
  {
   "cell_type": "code",
   "execution_count": 186,
   "metadata": {},
   "outputs": [
    {
     "data": {
      "text/plain": [
       "<matplotlib.axes._subplots.AxesSubplot at 0x7fae8cfe0950>"
      ]
     },
     "execution_count": 186,
     "metadata": {},
     "output_type": "execute_result"
    },
    {
     "data": {
      "image/png": "[encoded data removed]",
      "text/plain": [
       "<Figure size 432x288 with 1 Axes>"
      ]
     },
     "metadata": {
      "needs_background": "light"
     },
     "output_type": "display_data"
    }
   ],
   "source": [
    "lgb.plot_importance(bst)"
   ]
  },
  {
   "cell_type": "markdown",
   "metadata": {},
   "source": [
    "## Pion reconstruction"
   ]
  },
  {
   "cell_type": "code",
   "execution_count": 49,
   "metadata": {},
   "outputs": [],
   "source": [
    "import itertools\n",
    "from scipy import spatial\n",
    "\n",
    "def pionReconstruction(df, label, energy):\n",
    "    m_true = 134.9770\n",
    "    df_gamma = df[df[label] == 2]\n",
    "    if df_gamma.shape[0] >= 2:  # two or more photons\n",
    "        indices = df_gamma.index.values\n",
    "        pairs = list(map(list, itertools.combinations(indices, 2)))\n",
    "        d = {'[]': m_true}\n",
    "        for p in pairs:\n",
    "            df_gamma_pair = df_gamma.loc[p]\n",
    "            f1 = lambda x: np.sqrt((x.comi_mm-0)**2+(x.comj_mm-0)**2+(2500-0)**2)\n",
    "            df_gamma_pair['vlen'] = df_gamma_pair.apply(f1, axis=1)\n",
    "            num = df_gamma_pair.comi_mm.product() + df_gamma_pair.comj_mm.product() + 2500**2\n",
    "            denom = df_gamma_pair.vlen.product()\n",
    "            cos_theta = np.clip(num / denom, 0, 1)\n",
    "            mass = np.sqrt(2*df_gamma_pair[energy].product()*(1-cos_theta))\n",
    "            d[str(p)] = mass\n",
    "        pair_of_pairs = list(map(list, itertools.combinations(pairs, 2)))\n",
    "\n",
    "        p_lst = [p for p in pair_of_pairs if len(set(p[0]+p[1])) == 4]\n",
    "        \n",
    "        if len(p_lst) == 0:\n",
    "            p_lst = [[pairs[0], []]]\n",
    "        \n",
    "        metric = []\n",
    "        for p in p_lst:\n",
    "            metric += [np.sqrt((d[str(p[0])]-m_true)**2 + (d[str(p[1])]-m_true)**2)]\n",
    "        best_idx = np.argsort(metric)[0]\n",
    "        \n",
    "        for p in p_lst[best_idx]:\n",
    "            if len(p) != 0:\n",
    "                df.at[p[0], 'pair'] = p\n",
    "                df.at[p[1], 'pair'] = p\n",
    "                df.at[p[0], 'predicted_pi0_mass'] = d[str(p)]\n",
    "                df.at[p[1], 'predicted_pi0_mass'] = d[str(p)]\n",
    "        \n",
    "    return df"
   ]
  },
  {
   "cell_type": "code",
   "execution_count": 50,
   "metadata": {},
   "outputs": [],
   "source": [
    "df_merged2['comi_mm'] = df_merged2.apply(lambda x: 3*(x.comi-284+0.5), axis=1)\n",
    "df_merged2['comj_mm'] = df_merged2.apply(lambda x: 3*(x.comj-284+0.5), axis=1)\n",
    "df_merged2['pair'] = None\n",
    "df_merged2['predicted_pi0_mass'] = None\n",
    "df_merged3 = df_merged2.groupby('eventId').apply(lambda x: pionReconstruction(x, 'predictedLabel2', 'predictedEnergy'))"
   ]
  },
  {
   "cell_type": "code",
   "execution_count": 51,
   "metadata": {},
   "outputs": [
    {
     "data": {
      "text/html": [
       "<div>\n",
       "<style scoped>\n",
       "    .dataframe tbody tr th:only-of-type {\n",
       "        vertical-align: middle;\n",
       "    }\n",
       "\n",
       "    .dataframe tbody tr th {\n",
       "        vertical-align: top;\n",
       "    }\n",
       "\n",
       "    .dataframe thead th {\n",
       "        text-align: right;\n",
       "    }\n",
       "</style>\n",
       "<table border=\"1\" class=\"dataframe\">\n",
       "  <thead>\n",
       "    <tr style=\"text-align: right;\">\n",
       "      <th></th>\n",
       "      <th>eventId</th>\n",
       "      <th>clusterId</th>\n",
       "      <th>PrimaryDecayMode</th>\n",
       "      <th>VecShowerEnergy</th>\n",
       "      <th>S_sum</th>\n",
       "      <th>C_sum</th>\n",
       "      <th>S_rad_mean</th>\n",
       "      <th>C_rad_mean</th>\n",
       "      <th>S_hot</th>\n",
       "      <th>C_hot</th>\n",
       "      <th>...</th>\n",
       "      <th>comi</th>\n",
       "      <th>comj</th>\n",
       "      <th>label_binary</th>\n",
       "      <th>predictedLabel</th>\n",
       "      <th>predictedLabel2</th>\n",
       "      <th>predictedEnergy</th>\n",
       "      <th>comi_mm</th>\n",
       "      <th>comj_mm</th>\n",
       "      <th>pair</th>\n",
       "      <th>predicted_pi0_mass</th>\n",
       "    </tr>\n",
       "  </thead>\n",
       "  <tbody>\n",
       "    <tr>\n",
       "      <th>0</th>\n",
       "      <td>1</td>\n",
       "      <td>1</td>\n",
       "      <td>4</td>\n",
       "      <td>13397.354239</td>\n",
       "      <td>6514.8620</td>\n",
       "      <td>4275.6553</td>\n",
       "      <td>4.649778</td>\n",
       "      <td>3.531102</td>\n",
       "      <td>0.071061</td>\n",
       "      <td>0.058091</td>\n",
       "      <td>...</td>\n",
       "      <td>124.308455</td>\n",
       "      <td>127.515362</td>\n",
       "      <td>1</td>\n",
       "      <td>3</td>\n",
       "      <td>3</td>\n",
       "      <td>15232.819549</td>\n",
       "      <td>-477.574634</td>\n",
       "      <td>-467.953913</td>\n",
       "      <td>None</td>\n",
       "      <td>None</td>\n",
       "    </tr>\n",
       "    <tr>\n",
       "      <th>1</th>\n",
       "      <td>1</td>\n",
       "      <td>2</td>\n",
       "      <td>4</td>\n",
       "      <td>10115.048809</td>\n",
       "      <td>10436.0700</td>\n",
       "      <td>7992.4590</td>\n",
       "      <td>2.342874</td>\n",
       "      <td>1.656479</td>\n",
       "      <td>0.261235</td>\n",
       "      <td>0.188679</td>\n",
       "      <td>...</td>\n",
       "      <td>135.292237</td>\n",
       "      <td>180.123139</td>\n",
       "      <td>0</td>\n",
       "      <td>2</td>\n",
       "      <td>2</td>\n",
       "      <td>11212.475262</td>\n",
       "      <td>-444.623289</td>\n",
       "      <td>-310.130582</td>\n",
       "      <td>[1, 2]</td>\n",
       "      <td>148.864</td>\n",
       "    </tr>\n",
       "    <tr>\n",
       "      <th>2</th>\n",
       "      <td>1</td>\n",
       "      <td>3</td>\n",
       "      <td>4</td>\n",
       "      <td>4740.947309</td>\n",
       "      <td>5031.9375</td>\n",
       "      <td>4133.7246</td>\n",
       "      <td>2.474634</td>\n",
       "      <td>2.093701</td>\n",
       "      <td>0.116771</td>\n",
       "      <td>0.190987</td>\n",
       "      <td>...</td>\n",
       "      <td>150.901608</td>\n",
       "      <td>175.728179</td>\n",
       "      <td>0</td>\n",
       "      <td>2</td>\n",
       "      <td>2</td>\n",
       "      <td>5538.377130</td>\n",
       "      <td>-397.795177</td>\n",
       "      <td>-323.315464</td>\n",
       "      <td>[1, 2]</td>\n",
       "      <td>148.864</td>\n",
       "    </tr>\n",
       "    <tr>\n",
       "      <th>3</th>\n",
       "      <td>1</td>\n",
       "      <td>4</td>\n",
       "      <td>4</td>\n",
       "      <td>11594.263998</td>\n",
       "      <td>10662.7920</td>\n",
       "      <td>11079.4470</td>\n",
       "      <td>2.513136</td>\n",
       "      <td>1.768877</td>\n",
       "      <td>0.180327</td>\n",
       "      <td>0.168935</td>\n",
       "      <td>...</td>\n",
       "      <td>138.046102</td>\n",
       "      <td>156.708211</td>\n",
       "      <td>0</td>\n",
       "      <td>2</td>\n",
       "      <td>2</td>\n",
       "      <td>11999.057493</td>\n",
       "      <td>-436.361693</td>\n",
       "      <td>-380.375367</td>\n",
       "      <td>[3, 4]</td>\n",
       "      <td>134.992</td>\n",
       "    </tr>\n",
       "    <tr>\n",
       "      <th>4</th>\n",
       "      <td>1</td>\n",
       "      <td>5</td>\n",
       "      <td>4</td>\n",
       "      <td>2466.543425</td>\n",
       "      <td>1842.5836</td>\n",
       "      <td>1791.8718</td>\n",
       "      <td>2.239413</td>\n",
       "      <td>1.640046</td>\n",
       "      <td>0.152792</td>\n",
       "      <td>0.247525</td>\n",
       "      <td>...</td>\n",
       "      <td>157.373335</td>\n",
       "      <td>147.430044</td>\n",
       "      <td>0</td>\n",
       "      <td>2</td>\n",
       "      <td>2</td>\n",
       "      <td>2427.241780</td>\n",
       "      <td>-378.379995</td>\n",
       "      <td>-408.209869</td>\n",
       "      <td>[3, 4]</td>\n",
       "      <td>134.992</td>\n",
       "    </tr>\n",
       "  </tbody>\n",
       "</table>\n",
       "<p>5 rows × 23 columns</p>\n",
       "</div>"
      ],
      "text/plain": [
       "   eventId  clusterId  PrimaryDecayMode  VecShowerEnergy       S_sum  \\\n",
       "0        1          1                 4     13397.354239   6514.8620   \n",
       "1        1          2                 4     10115.048809  10436.0700   \n",
       "2        1          3                 4      4740.947309   5031.9375   \n",
       "3        1          4                 4     11594.263998  10662.7920   \n",
       "4        1          5                 4      2466.543425   1842.5836   \n",
       "\n",
       "        C_sum  S_rad_mean  C_rad_mean     S_hot     C_hot  ...        comi  \\\n",
       "0   4275.6553    4.649778    3.531102  0.071061  0.058091  ...  124.308455   \n",
       "1   7992.4590    2.342874    1.656479  0.261235  0.188679  ...  135.292237   \n",
       "2   4133.7246    2.474634    2.093701  0.116771  0.190987  ...  150.901608   \n",
       "3  11079.4470    2.513136    1.768877  0.180327  0.168935  ...  138.046102   \n",
       "4   1791.8718    2.239413    1.640046  0.152792  0.247525  ...  157.373335   \n",
       "\n",
       "         comj  label_binary  predictedLabel  predictedLabel2  predictedEnergy  \\\n",
       "0  127.515362             1               3                3     15232.819549   \n",
       "1  180.123139             0               2                2     11212.475262   \n",
       "2  175.728179             0               2                2      5538.377130   \n",
       "3  156.708211             0               2                2     11999.057493   \n",
       "4  147.430044             0               2                2      2427.241780   \n",
       "\n",
       "      comi_mm     comj_mm    pair  predicted_pi0_mass  \n",
       "0 -477.574634 -467.953913    None                None  \n",
       "1 -444.623289 -310.130582  [1, 2]             148.864  \n",
       "2 -397.795177 -323.315464  [1, 2]             148.864  \n",
       "3 -436.361693 -380.375367  [3, 4]             134.992  \n",
       "4 -378.379995 -408.209869  [3, 4]             134.992  \n",
       "\n",
       "[5 rows x 23 columns]"
      ]
     },
     "execution_count": 51,
     "metadata": {},
     "output_type": "execute_result"
    }
   ],
   "source": [
    "df_merged3.head()"
   ]
  },
  {
   "cell_type": "code",
   "execution_count": 52,
   "metadata": {},
   "outputs": [],
   "source": [
    "df_merged3.reset_index(drop=True, inplace=True)"
   ]
  },
  {
   "cell_type": "code",
   "execution_count": 53,
   "metadata": {},
   "outputs": [],
   "source": [
    "df_merged4 = df_merged3.copy()\n",
    "df_merged4 = df_merged4[[\"pair\",\"predicted_pi0_mass\"]].reset_index(drop=True)\n",
    "df_merged4.pair = df_merged4.pair.astype('str')\n",
    "df_merged4 = df_merged4.drop_duplicates()\n",
    "df_merged4.to_csv(os.path.join(DATA_DIR, 'predicted_pi0_mass.csv'), index=False)"
   ]
  },
  {
   "cell_type": "markdown",
   "metadata": {},
   "source": [
    "## Decay classification"
   ]
  },
  {
   "cell_type": "code",
   "execution_count": 54,
   "metadata": {},
   "outputs": [],
   "source": [
    "def decayClassification(x, label):\n",
    "    counts_label = x[label].value_counts()\n",
    "    counts_pair = x.pair.unique() \n",
    "    num_pairs = len([p for p in counts_pair if p != 'None'])\n",
    "    mode = np.nan\n",
    "    if 0 in counts_label.keys():\n",
    "        mode = 0\n",
    "    elif 1 in counts_label.keys():\n",
    "        mode = 1\n",
    "    elif 3 in counts_label.keys() and num_pairs <= 2:\n",
    "        mode = 2\n",
    "        if num_pairs == 1:\n",
    "            mode = 3\n",
    "        elif num_pairs == 2:\n",
    "            mode = 4\n",
    "    elif 2 in counts_label.keys():\n",
    "        mode = 5\n",
    "    x['predictedPrimaryDecayMode'] = mode\n",
    "    return x"
   ]
  },
  {
   "cell_type": "code",
   "execution_count": 55,
   "metadata": {
    "scrolled": true
   },
   "outputs": [],
   "source": [
    "df_merged3.pair = df_merged3.pair.astype(\"str\")\n",
    "df_merged5 = df_merged3.groupby('eventId').apply(lambda x: decayClassification(x, 'predictedLabel2'))"
   ]
  },
  {
   "cell_type": "code",
   "execution_count": 56,
   "metadata": {},
   "outputs": [],
   "source": [
    "mode_per_eventId = df_merged5.groupby('eventId').apply(get_mode)\n",
    "get_predmode = lambda x: x.iloc[0].predictedPrimaryDecayMode.astype(int)\n",
    "predmode_per_eventId = df_merged5.groupby('eventId').apply(get_predmode)"
   ]
  },
  {
   "cell_type": "code",
   "execution_count": 57,
   "metadata": {},
   "outputs": [
    {
     "name": "stdout",
     "output_type": "stream",
     "text": [
      "Predicted     0    1     2    3    4    5\n",
      "Actual                                   \n",
      "0          1403    2     4    0    0    0\n",
      "1             2  809     0    0    0  161\n",
      "2            12    0  1264    0    0   52\n",
      "3             8   26   277  709    0  315\n",
      "4             8   37    35  504  290  322\n"
     ]
    }
   ],
   "source": [
    "matrix = pd.crosstab(mode_per_eventId, predmode_per_eventId,\n",
    "                     rownames=['Actual'], colnames=['Predicted'])\n",
    "print(matrix)"
   ]
  },
  {
   "cell_type": "code",
   "execution_count": 59,
   "metadata": {},
   "outputs": [
    {
     "data": {
      "text/plain": [
       "6240"
      ]
     },
     "execution_count": 59,
     "metadata": {},
     "output_type": "execute_result"
    }
   ],
   "source": [
    "matrix.values.sum()"
   ]
  },
  {
   "cell_type": "code",
   "execution_count": 60,
   "metadata": {},
   "outputs": [
    {
     "data": {
      "text/plain": [
       "0.7171474358974359"
      ]
     },
     "execution_count": 60,
     "metadata": {},
     "output_type": "execute_result"
    }
   ],
   "source": [
    "accuracy_score(mode_per_eventId, predmode_per_eventId)"
   ]
  },
  {
   "cell_type": "code",
   "execution_count": null,
   "metadata": {},
   "outputs": [],
   "source": []
  }
 ],
 "metadata": {
  "environment": {
   "name": "tf2-gpu.2-1.m46",
   "type": "gcloud",
   "uri": "gcr.io/deeplearning-platform-release/tf2-gpu.2-1:m46"
  },
  "kernelspec": {
   "display_name": "Python 3",
   "language": "python",
   "name": "python3"
  },
  "language_info": {
   "codemirror_mode": {
    "name": "ipython",
    "version": 3
   },
   "file_extension": ".py",
   "mimetype": "text/x-python",
   "name": "python",
   "nbconvert_exporter": "python",
   "pygments_lexer": "ipython3",
   "version": "3.7.6"
  }
 },
 "nbformat": 4,
 "nbformat_minor": 4
}
