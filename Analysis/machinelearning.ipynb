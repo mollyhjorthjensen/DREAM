{
 "cells": [
  {
   "cell_type": "code",
   "execution_count": 1,
   "metadata": {},
   "outputs": [],
   "source": [
    "import os\n",
    "import numpy as np\n",
    "import pandas as pd\n",
    "from sklearn.model_selection import train_test_split\n",
    "from sklearn.metrics import confusion_matrix\n",
    "from sklearn.metrics import accuracy_score\n",
    "import matplotlib.pyplot as plt\n",
    "import lightgbm as lgb"
   ]
  },
  {
   "cell_type": "code",
   "execution_count": 2,
   "metadata": {},
   "outputs": [
    {
     "name": "stdout",
     "output_type": "stream",
     "text": [
      "(15874, 13)\n"
     ]
    },
    {
     "data": {
      "text/html": [
       "<div>\n",
       "<style scoped>\n",
       "    .dataframe tbody tr th:only-of-type {\n",
       "        vertical-align: middle;\n",
       "    }\n",
       "\n",
       "    .dataframe tbody tr th {\n",
       "        vertical-align: top;\n",
       "    }\n",
       "\n",
       "    .dataframe thead th {\n",
       "        text-align: right;\n",
       "    }\n",
       "</style>\n",
       "<table border=\"1\" class=\"dataframe\">\n",
       "  <thead>\n",
       "    <tr style=\"text-align: right;\">\n",
       "      <th></th>\n",
       "      <th>eventId</th>\n",
       "      <th>clusterId</th>\n",
       "      <th>PrimaryDecayMode</th>\n",
       "      <th>VecShowerEnergy</th>\n",
       "      <th>S_sum</th>\n",
       "      <th>C_sum</th>\n",
       "      <th>S_rad_mean</th>\n",
       "      <th>C_rad_mean</th>\n",
       "      <th>S_hot</th>\n",
       "      <th>C_hot</th>\n",
       "      <th>CoverS</th>\n",
       "      <th>dist2charge</th>\n",
       "      <th>label</th>\n",
       "    </tr>\n",
       "  </thead>\n",
       "  <tbody>\n",
       "    <tr>\n",
       "      <th>0</th>\n",
       "      <td>0</td>\n",
       "      <td>0</td>\n",
       "      <td>4</td>\n",
       "      <td>21408.335401</td>\n",
       "      <td>11140.1160</td>\n",
       "      <td>4807.88870</td>\n",
       "      <td>10.362349</td>\n",
       "      <td>6.491467</td>\n",
       "      <td>0.025355</td>\n",
       "      <td>0.044280</td>\n",
       "      <td>0.431583</td>\n",
       "      <td>0.000000</td>\n",
       "      <td>3</td>\n",
       "    </tr>\n",
       "    <tr>\n",
       "      <th>1</th>\n",
       "      <td>0</td>\n",
       "      <td>1</td>\n",
       "      <td>4</td>\n",
       "      <td>924.508020</td>\n",
       "      <td>NaN</td>\n",
       "      <td>1073.34800</td>\n",
       "      <td>NaN</td>\n",
       "      <td>1.968934</td>\n",
       "      <td>NaN</td>\n",
       "      <td>0.157025</td>\n",
       "      <td>NaN</td>\n",
       "      <td>16.782349</td>\n",
       "      <td>2</td>\n",
       "    </tr>\n",
       "    <tr>\n",
       "      <th>2</th>\n",
       "      <td>0</td>\n",
       "      <td>2</td>\n",
       "      <td>4</td>\n",
       "      <td>1100.245997</td>\n",
       "      <td>783.3830</td>\n",
       "      <td>904.80566</td>\n",
       "      <td>1.832438</td>\n",
       "      <td>1.448789</td>\n",
       "      <td>0.197458</td>\n",
       "      <td>0.176471</td>\n",
       "      <td>1.154998</td>\n",
       "      <td>128.826170</td>\n",
       "      <td>2</td>\n",
       "    </tr>\n",
       "    <tr>\n",
       "      <th>3</th>\n",
       "      <td>0</td>\n",
       "      <td>3</td>\n",
       "      <td>4</td>\n",
       "      <td>1643.766190</td>\n",
       "      <td>1418.5334</td>\n",
       "      <td>1472.52690</td>\n",
       "      <td>1.834256</td>\n",
       "      <td>1.933337</td>\n",
       "      <td>0.262542</td>\n",
       "      <td>0.180723</td>\n",
       "      <td>1.038063</td>\n",
       "      <td>69.048379</td>\n",
       "      <td>2</td>\n",
       "    </tr>\n",
       "    <tr>\n",
       "      <th>4</th>\n",
       "      <td>0</td>\n",
       "      <td>4</td>\n",
       "      <td>4</td>\n",
       "      <td>10000.615035</td>\n",
       "      <td>8540.6990</td>\n",
       "      <td>9518.20100</td>\n",
       "      <td>2.460657</td>\n",
       "      <td>1.579473</td>\n",
       "      <td>0.173625</td>\n",
       "      <td>0.339236</td>\n",
       "      <td>1.114452</td>\n",
       "      <td>56.487324</td>\n",
       "      <td>2</td>\n",
       "    </tr>\n",
       "  </tbody>\n",
       "</table>\n",
       "</div>"
      ],
      "text/plain": [
       "   eventId  clusterId  PrimaryDecayMode  VecShowerEnergy       S_sum  \\\n",
       "0        0          0                 4     21408.335401  11140.1160   \n",
       "1        0          1                 4       924.508020         NaN   \n",
       "2        0          2                 4      1100.245997    783.3830   \n",
       "3        0          3                 4      1643.766190   1418.5334   \n",
       "4        0          4                 4     10000.615035   8540.6990   \n",
       "\n",
       "        C_sum  S_rad_mean  C_rad_mean     S_hot     C_hot    CoverS  \\\n",
       "0  4807.88870   10.362349    6.491467  0.025355  0.044280  0.431583   \n",
       "1  1073.34800         NaN    1.968934       NaN  0.157025       NaN   \n",
       "2   904.80566    1.832438    1.448789  0.197458  0.176471  1.154998   \n",
       "3  1472.52690    1.834256    1.933337  0.262542  0.180723  1.038063   \n",
       "4  9518.20100    2.460657    1.579473  0.173625  0.339236  1.114452   \n",
       "\n",
       "   dist2charge  label  \n",
       "0     0.000000      3  \n",
       "1    16.782349      2  \n",
       "2   128.826170      2  \n",
       "3    69.048379      2  \n",
       "4    56.487324      2  "
      ]
     },
     "execution_count": 2,
     "metadata": {},
     "output_type": "execute_result"
    }
   ],
   "source": [
    "DATA_DIR = '/groups/hep/mojen/repositories/DREAM/Run/final_run/tauolaevts/10000'\n",
    "# DATA_DIR = '/home/jupyter/DREAM'\n",
    "df = pd.read_csv(os.path.join(DATA_DIR, 'data.csv'))\n",
    "print(df.shape)\n",
    "df.head()"
   ]
  },
  {
   "cell_type": "code",
   "execution_count": 3,
   "metadata": {},
   "outputs": [],
   "source": [
    "cal = np.load(\"calibration.pkl.npy\", allow_pickle=True).item()"
   ]
  },
  {
   "cell_type": "code",
   "execution_count": 4,
   "metadata": {},
   "outputs": [],
   "source": [
    "df['rec_energy'] = df.apply(lambda x: (x.S_sum-cal['chi']*x.C_sum)/(1-cal['chi']), axis=1)"
   ]
  },
  {
   "cell_type": "code",
   "execution_count": 5,
   "metadata": {},
   "outputs": [
    {
     "data": {
      "text/html": [
       "<div>\n",
       "<style scoped>\n",
       "    .dataframe tbody tr th:only-of-type {\n",
       "        vertical-align: middle;\n",
       "    }\n",
       "\n",
       "    .dataframe tbody tr th {\n",
       "        vertical-align: top;\n",
       "    }\n",
       "\n",
       "    .dataframe thead th {\n",
       "        text-align: right;\n",
       "    }\n",
       "</style>\n",
       "<table border=\"1\" class=\"dataframe\">\n",
       "  <thead>\n",
       "    <tr style=\"text-align: right;\">\n",
       "      <th></th>\n",
       "      <th>eventId</th>\n",
       "      <th>clusterId</th>\n",
       "      <th>PrimaryDecayMode</th>\n",
       "      <th>VecShowerEnergy</th>\n",
       "      <th>S_sum</th>\n",
       "      <th>C_sum</th>\n",
       "      <th>S_rad_mean</th>\n",
       "      <th>C_rad_mean</th>\n",
       "      <th>S_hot</th>\n",
       "      <th>C_hot</th>\n",
       "      <th>CoverS</th>\n",
       "      <th>dist2charge</th>\n",
       "      <th>label</th>\n",
       "      <th>rec_energy</th>\n",
       "    </tr>\n",
       "  </thead>\n",
       "  <tbody>\n",
       "    <tr>\n",
       "      <th>0</th>\n",
       "      <td>0</td>\n",
       "      <td>0</td>\n",
       "      <td>4</td>\n",
       "      <td>21408.335401</td>\n",
       "      <td>11140.1160</td>\n",
       "      <td>4807.88870</td>\n",
       "      <td>10.362349</td>\n",
       "      <td>6.491467</td>\n",
       "      <td>0.025355</td>\n",
       "      <td>0.044280</td>\n",
       "      <td>0.431583</td>\n",
       "      <td>0.000000</td>\n",
       "      <td>3</td>\n",
       "      <td>13573.675275</td>\n",
       "    </tr>\n",
       "    <tr>\n",
       "      <th>1</th>\n",
       "      <td>0</td>\n",
       "      <td>1</td>\n",
       "      <td>4</td>\n",
       "      <td>924.508020</td>\n",
       "      <td>NaN</td>\n",
       "      <td>1073.34800</td>\n",
       "      <td>NaN</td>\n",
       "      <td>1.968934</td>\n",
       "      <td>NaN</td>\n",
       "      <td>0.157025</td>\n",
       "      <td>NaN</td>\n",
       "      <td>16.782349</td>\n",
       "      <td>2</td>\n",
       "      <td>NaN</td>\n",
       "    </tr>\n",
       "    <tr>\n",
       "      <th>2</th>\n",
       "      <td>0</td>\n",
       "      <td>2</td>\n",
       "      <td>4</td>\n",
       "      <td>1100.245997</td>\n",
       "      <td>783.3830</td>\n",
       "      <td>904.80566</td>\n",
       "      <td>1.832438</td>\n",
       "      <td>1.448789</td>\n",
       "      <td>0.197458</td>\n",
       "      <td>0.176471</td>\n",
       "      <td>1.154998</td>\n",
       "      <td>128.826170</td>\n",
       "      <td>2</td>\n",
       "      <td>736.718655</td>\n",
       "    </tr>\n",
       "    <tr>\n",
       "      <th>3</th>\n",
       "      <td>0</td>\n",
       "      <td>3</td>\n",
       "      <td>4</td>\n",
       "      <td>1643.766190</td>\n",
       "      <td>1418.5334</td>\n",
       "      <td>1472.52690</td>\n",
       "      <td>1.834256</td>\n",
       "      <td>1.933337</td>\n",
       "      <td>0.262542</td>\n",
       "      <td>0.180723</td>\n",
       "      <td>1.038063</td>\n",
       "      <td>69.048379</td>\n",
       "      <td>2</td>\n",
       "      <td>1397.782979</td>\n",
       "    </tr>\n",
       "    <tr>\n",
       "      <th>4</th>\n",
       "      <td>0</td>\n",
       "      <td>4</td>\n",
       "      <td>4</td>\n",
       "      <td>10000.615035</td>\n",
       "      <td>8540.6990</td>\n",
       "      <td>9518.20100</td>\n",
       "      <td>2.460657</td>\n",
       "      <td>1.579473</td>\n",
       "      <td>0.173625</td>\n",
       "      <td>0.339236</td>\n",
       "      <td>1.114452</td>\n",
       "      <td>56.487324</td>\n",
       "      <td>2</td>\n",
       "      <td>8165.031964</td>\n",
       "    </tr>\n",
       "  </tbody>\n",
       "</table>\n",
       "</div>"
      ],
      "text/plain": [
       "   eventId  clusterId  PrimaryDecayMode  VecShowerEnergy       S_sum  \\\n",
       "0        0          0                 4     21408.335401  11140.1160   \n",
       "1        0          1                 4       924.508020         NaN   \n",
       "2        0          2                 4      1100.245997    783.3830   \n",
       "3        0          3                 4      1643.766190   1418.5334   \n",
       "4        0          4                 4     10000.615035   8540.6990   \n",
       "\n",
       "        C_sum  S_rad_mean  C_rad_mean     S_hot     C_hot    CoverS  \\\n",
       "0  4807.88870   10.362349    6.491467  0.025355  0.044280  0.431583   \n",
       "1  1073.34800         NaN    1.968934       NaN  0.157025       NaN   \n",
       "2   904.80566    1.832438    1.448789  0.197458  0.176471  1.154998   \n",
       "3  1472.52690    1.834256    1.933337  0.262542  0.180723  1.038063   \n",
       "4  9518.20100    2.460657    1.579473  0.173625  0.339236  1.114452   \n",
       "\n",
       "   dist2charge  label    rec_energy  \n",
       "0     0.000000      3  13573.675275  \n",
       "1    16.782349      2           NaN  \n",
       "2   128.826170      2    736.718655  \n",
       "3    69.048379      2   1397.782979  \n",
       "4    56.487324      2   8165.031964  "
      ]
     },
     "execution_count": 5,
     "metadata": {},
     "output_type": "execute_result"
    }
   ],
   "source": [
    "df.head()"
   ]
  },
  {
   "cell_type": "code",
   "execution_count": 97,
   "metadata": {},
   "outputs": [
    {
     "name": "stdout",
     "output_type": "stream",
     "text": [
      "(11111,) (4763,)\n"
     ]
    }
   ],
   "source": [
    "# train test split by eventId!\n",
    "id_train, id_test = train_test_split(df.eventId.values,\n",
    "                                     test_size=0.3, \n",
    "                                     random_state=42,\n",
    "                                     stratify=df.PrimaryDecayMode.values)\n",
    "print(id_train.shape, id_test.shape)"
   ]
  },
  {
   "cell_type": "code",
   "execution_count": 98,
   "metadata": {},
   "outputs": [],
   "source": [
    "excl_columns = ['eventId', 'PrimaryDecayMode', 'clusterId', 'VecShowerEnergy', 'label']\n",
    "\n",
    "# train dataset\n",
    "df_train = df[df.eventId.isin(id_train)].copy()\n",
    "df_train.to_csv(os.path.join(DATA_DIR, 'dftrain.csv'), index=False)\n",
    "# df_train.drop(['eventId'], inplace=True, axis=1)\n",
    "y_train = df_train.label.values\n",
    "z_train = df_train.VecShowerEnergy.values\n",
    "df_train.drop(excl_columns, inplace=True, axis=1)\n",
    "X_train = df_train.values\n",
    "train_data_y = lgb.Dataset(X_train, label=y_train, feature_name=list(df_train.columns.values))\n",
    "train_data_z = lgb.Dataset(X_train, label=z_train, feature_name=list(df_train.columns.values))\n",
    "\n",
    "# test data set\n",
    "df_test = df[df.eventId.isin(id_test)].copy() #.drop(['eventId'], axis=1)\n",
    "y_test = df_test.label.values\n",
    "z_test = df_test.VecShowerEnergy.values\n",
    "# id_test = df_test.clusterId.values.reshape([-1,1])\n",
    "df_test.drop(excl_columns, inplace=True, axis=1)\n",
    "X_test = df_test.values\n",
    "test_data_y = lgb.Dataset(X_test, label=y_test, feature_name=list(df_test.columns.values))\n",
    "test_data_z = lgb.Dataset(X_test, label=z_test, feature_name=list(df_test.columns.values))"
   ]
  },
  {
   "cell_type": "code",
   "execution_count": 99,
   "metadata": {},
   "outputs": [
    {
     "name": "stdout",
     "output_type": "stream",
     "text": [
      "(14206, 9) (9428, 9) (4763,)\n"
     ]
    }
   ],
   "source": [
    "print(df_train.shape, df_test.shape, id_test.shape)"
   ]
  },
  {
   "cell_type": "code",
   "execution_count": 100,
   "metadata": {},
   "outputs": [
    {
     "data": {
      "text/plain": [
       "array([[1.11401160e+04, 4.80788870e+03, 1.03623490e+01, ...,\n",
       "        4.31583361e-01, 0.00000000e+00, 1.35736753e+04],\n",
       "       [           nan, 1.07334800e+03,            nan, ...,\n",
       "                   nan, 1.67823493e+01,            nan],\n",
       "       [7.83383000e+02, 9.04805660e+02, 1.83243810e+00, ...,\n",
       "        1.15499782e+00, 1.28826170e+02, 7.36718655e+02],\n",
       "       ...,\n",
       "       [1.11045250e+03, 8.78193300e+02, 1.80241980e+00, ...,\n",
       "        7.90842742e-01, 9.85351674e+01, 1.19971280e+03],\n",
       "       [7.93858400e+03, 8.02792800e+03, 2.25928330e+00, ...,\n",
       "        1.01125440e+00, 4.99594356e+01, 7.90424791e+03],\n",
       "       [5.85459030e+03, 5.93445800e+03, 2.36258100e+00, ...,\n",
       "        1.01364189e+00, 6.42443818e+01, 5.82389608e+03]])"
      ]
     },
     "execution_count": 100,
     "metadata": {},
     "output_type": "execute_result"
    }
   ],
   "source": [
    "X_train"
   ]
  },
  {
   "cell_type": "markdown",
   "metadata": {},
   "source": [
    "# Classification"
   ]
  },
  {
   "cell_type": "markdown",
   "metadata": {},
   "source": [
    "(Boosted) decision trees 'unaffected' by feature scaling"
   ]
  },
  {
   "cell_type": "markdown",
   "metadata": {},
   "source": [
    "### Training"
   ]
  },
  {
   "cell_type": "code",
   "execution_count": 23,
   "metadata": {},
   "outputs": [],
   "source": [
    "params = {\n",
    "    'num_class': [4],\n",
    "    'objective': ['multiclass'],# 'multiclassova'],\n",
    "    'boosting': ['gbrt'],  # default = gbdt\n",
    "    'learning_rate': [0.1],  # default = 0.1\n",
    "    'num_leaves': [31],  # default = 31\n",
    "    'metric': ['multi_logloss']\n",
    "}"
   ]
  },
  {
   "cell_type": "code",
   "execution_count": 24,
   "metadata": {},
   "outputs": [
    {
     "data": {
      "text/plain": [
       "[{'num_class': 4,\n",
       "  'objective': 'multiclass',\n",
       "  'boosting': 'gbrt',\n",
       "  'learning_rate': 0.1,\n",
       "  'num_leaves': 31,\n",
       "  'metric': 'multi_logloss'}]"
      ]
     },
     "execution_count": 24,
     "metadata": {},
     "output_type": "execute_result"
    }
   ],
   "source": [
    "import itertools\n",
    "keys, values = zip(*params.items())\n",
    "param = [dict(zip(keys, v)) for v in itertools.product(*values)]\n",
    "param"
   ]
  },
  {
   "cell_type": "code",
   "execution_count": 25,
   "metadata": {},
   "outputs": [
    {
     "name": "stdout",
     "output_type": "stream",
     "text": [
      "[1]\tcv_agg's multi_logloss: 0.852804 + 0.00108269\n",
      "[2]\tcv_agg's multi_logloss: 0.744393 + 0.00131236\n",
      "[3]\tcv_agg's multi_logloss: 0.660054 + 0.00177576\n",
      "[4]\tcv_agg's multi_logloss: 0.591236 + 0.00211434\n",
      "[5]\tcv_agg's multi_logloss: 0.533574 + 0.00232795\n",
      "[6]\tcv_agg's multi_logloss: 0.484606 + 0.00256774\n",
      "[7]\tcv_agg's multi_logloss: 0.442265 + 0.00299095\n",
      "[8]\tcv_agg's multi_logloss: 0.405369 + 0.00323708\n",
      "[9]\tcv_agg's multi_logloss: 0.373344 + 0.00344084\n",
      "[10]\tcv_agg's multi_logloss: 0.345043 + 0.00359238\n",
      "[11]\tcv_agg's multi_logloss: 0.320115 + 0.00384491\n",
      "[12]\tcv_agg's multi_logloss: 0.298008 + 0.00394158\n",
      "[13]\tcv_agg's multi_logloss: 0.278378 + 0.00396943\n",
      "[14]\tcv_agg's multi_logloss: 0.260869 + 0.0040961\n",
      "[15]\tcv_agg's multi_logloss: 0.245173 + 0.00408218\n",
      "[16]\tcv_agg's multi_logloss: 0.231108 + 0.00418743\n",
      "[17]\tcv_agg's multi_logloss: 0.218461 + 0.00425554\n",
      "[18]\tcv_agg's multi_logloss: 0.20716 + 0.00444765\n",
      "[19]\tcv_agg's multi_logloss: 0.197074 + 0.00449837\n",
      "[20]\tcv_agg's multi_logloss: 0.187977 + 0.00460353\n",
      "[21]\tcv_agg's multi_logloss: 0.179796 + 0.00465286\n",
      "[22]\tcv_agg's multi_logloss: 0.172382 + 0.00469102\n",
      "[23]\tcv_agg's multi_logloss: 0.165734 + 0.00464336\n",
      "[24]\tcv_agg's multi_logloss: 0.159749 + 0.00462198\n",
      "[25]\tcv_agg's multi_logloss: 0.154397 + 0.00458792\n",
      "[26]\tcv_agg's multi_logloss: 0.149553 + 0.00463741\n",
      "[27]\tcv_agg's multi_logloss: 0.145124 + 0.00464626\n",
      "[28]\tcv_agg's multi_logloss: 0.141157 + 0.00478384\n",
      "[29]\tcv_agg's multi_logloss: 0.137567 + 0.00487768\n",
      "[30]\tcv_agg's multi_logloss: 0.13426 + 0.00487891\n",
      "[31]\tcv_agg's multi_logloss: 0.131246 + 0.00492291\n",
      "[32]\tcv_agg's multi_logloss: 0.128506 + 0.0049509\n",
      "[33]\tcv_agg's multi_logloss: 0.126096 + 0.00501464\n",
      "[34]\tcv_agg's multi_logloss: 0.123955 + 0.00510307\n",
      "[35]\tcv_agg's multi_logloss: 0.121974 + 0.0051844\n",
      "[36]\tcv_agg's multi_logloss: 0.120084 + 0.00517874\n",
      "[37]\tcv_agg's multi_logloss: 0.118521 + 0.00532279\n",
      "[38]\tcv_agg's multi_logloss: 0.117105 + 0.00537106\n",
      "[39]\tcv_agg's multi_logloss: 0.115766 + 0.00532894\n",
      "[40]\tcv_agg's multi_logloss: 0.114556 + 0.00526179\n",
      "[41]\tcv_agg's multi_logloss: 0.113481 + 0.00535931\n",
      "[42]\tcv_agg's multi_logloss: 0.112414 + 0.00538499\n",
      "[43]\tcv_agg's multi_logloss: 0.111584 + 0.00536018\n",
      "[44]\tcv_agg's multi_logloss: 0.110771 + 0.00539072\n",
      "[45]\tcv_agg's multi_logloss: 0.110128 + 0.00539938\n",
      "[46]\tcv_agg's multi_logloss: 0.109509 + 0.00537879\n",
      "[47]\tcv_agg's multi_logloss: 0.10896 + 0.00538272\n",
      "[48]\tcv_agg's multi_logloss: 0.108466 + 0.00548529\n",
      "[49]\tcv_agg's multi_logloss: 0.108035 + 0.00552823\n",
      "[50]\tcv_agg's multi_logloss: 0.107662 + 0.00551474\n",
      "[51]\tcv_agg's multi_logloss: 0.107405 + 0.00557369\n",
      "[52]\tcv_agg's multi_logloss: 0.107082 + 0.00573347\n",
      "[53]\tcv_agg's multi_logloss: 0.106853 + 0.00573535\n",
      "[54]\tcv_agg's multi_logloss: 0.106657 + 0.00568202\n",
      "[55]\tcv_agg's multi_logloss: 0.106474 + 0.00573631\n",
      "[56]\tcv_agg's multi_logloss: 0.106356 + 0.00584068\n",
      "[57]\tcv_agg's multi_logloss: 0.106297 + 0.0059308\n",
      "[58]\tcv_agg's multi_logloss: 0.106141 + 0.00597147\n",
      "[59]\tcv_agg's multi_logloss: 0.105998 + 0.00594423\n",
      "[60]\tcv_agg's multi_logloss: 0.105894 + 0.00598532\n",
      "[61]\tcv_agg's multi_logloss: 0.105838 + 0.00587652\n",
      "[62]\tcv_agg's multi_logloss: 0.105815 + 0.00585121\n",
      "[63]\tcv_agg's multi_logloss: 0.105856 + 0.00594603\n",
      "[64]\tcv_agg's multi_logloss: 0.105707 + 0.00595448\n",
      "[65]\tcv_agg's multi_logloss: 0.105713 + 0.00595789\n",
      "[66]\tcv_agg's multi_logloss: 0.105807 + 0.00596923\n",
      "[67]\tcv_agg's multi_logloss: 0.105789 + 0.00600616\n",
      "[68]\tcv_agg's multi_logloss: 0.105868 + 0.00611662\n",
      "[69]\tcv_agg's multi_logloss: 0.105956 + 0.00612014\n",
      "[70]\tcv_agg's multi_logloss: 0.106083 + 0.0062122\n",
      "[71]\tcv_agg's multi_logloss: 0.106198 + 0.00623454\n",
      "[72]\tcv_agg's multi_logloss: 0.106194 + 0.0062125\n",
      "[73]\tcv_agg's multi_logloss: 0.106179 + 0.00623507\n",
      "[74]\tcv_agg's multi_logloss: 0.106202 + 0.00627077\n",
      "[75]\tcv_agg's multi_logloss: 0.106276 + 0.00632644\n",
      "[76]\tcv_agg's multi_logloss: 0.106339 + 0.00627224\n",
      "[77]\tcv_agg's multi_logloss: 0.106422 + 0.00627915\n",
      "[78]\tcv_agg's multi_logloss: 0.106484 + 0.00635097\n",
      "[79]\tcv_agg's multi_logloss: 0.106586 + 0.00626138\n",
      "[80]\tcv_agg's multi_logloss: 0.106705 + 0.00625628\n",
      "[81]\tcv_agg's multi_logloss: 0.106709 + 0.00625145\n",
      "[82]\tcv_agg's multi_logloss: 0.10679 + 0.00631086\n",
      "[83]\tcv_agg's multi_logloss: 0.106895 + 0.00635632\n",
      "[84]\tcv_agg's multi_logloss: 0.107017 + 0.00638486\n"
     ]
    }
   ],
   "source": [
    "results = []\n",
    "for i in range(len(param)):\n",
    "    cv_results = lgb.cv(param[i], train_data_y, num_boost_round=500, early_stopping_rounds=20, verbose_eval=True, seed=42)\n",
    "    results += [(i, len(cv_results['multi_logloss-mean']), cv_results['multi_logloss-mean'][-1])]"
   ]
  },
  {
   "cell_type": "code",
   "execution_count": 26,
   "metadata": {},
   "outputs": [
    {
     "data": {
      "text/plain": [
       "[(0, 64, 0.10570708897887733)]"
      ]
     },
     "execution_count": 26,
     "metadata": {},
     "output_type": "execute_result"
    }
   ],
   "source": [
    "results.sort(key=lambda x: x[2])\n",
    "results"
   ]
  },
  {
   "cell_type": "code",
   "execution_count": 27,
   "metadata": {},
   "outputs": [],
   "source": [
    "bst = lgb.train(param[results[0][0]], train_data_y, num_boost_round=results[0][1])"
   ]
  },
  {
   "cell_type": "markdown",
   "metadata": {},
   "source": [
    "### Testing"
   ]
  },
  {
   "cell_type": "code",
   "execution_count": 84,
   "metadata": {},
   "outputs": [
    {
     "data": {
      "text/plain": [
       "4714.0"
      ]
     },
     "execution_count": 84,
     "metadata": {},
     "output_type": "execute_result"
    }
   ],
   "source": [
    "X_test.shape[0] / 2"
   ]
  },
  {
   "cell_type": "code",
   "execution_count": 28,
   "metadata": {},
   "outputs": [],
   "source": [
    "y_pred = np.argmax(bst.predict(X_test), axis=1).reshape([-1,1])"
   ]
  },
  {
   "cell_type": "code",
   "execution_count": 29,
   "metadata": {},
   "outputs": [
    {
     "data": {
      "text/plain": [
       "array([[ 542,    5,    0,    8],\n",
       "       [   6,  292,    0,   88],\n",
       "       [   0,    0, 6606,    0],\n",
       "       [  28,  106,    0, 1747]])"
      ]
     },
     "execution_count": 29,
     "metadata": {},
     "output_type": "execute_result"
    }
   ],
   "source": [
    "confusion_matrix(y_test, y_pred)"
   ]
  },
  {
   "cell_type": "code",
   "execution_count": 30,
   "metadata": {},
   "outputs": [
    {
     "data": {
      "text/plain": [
       "0.9744378447178617"
      ]
     },
     "execution_count": 30,
     "metadata": {},
     "output_type": "execute_result"
    }
   ],
   "source": [
    "accuracy_score(y_test, y_pred)"
   ]
  },
  {
   "cell_type": "code",
   "execution_count": 31,
   "metadata": {
    "scrolled": true
   },
   "outputs": [
    {
     "data": {
      "text/html": [
       "<div>\n",
       "<style scoped>\n",
       "    .dataframe tbody tr th:only-of-type {\n",
       "        vertical-align: middle;\n",
       "    }\n",
       "\n",
       "    .dataframe tbody tr th {\n",
       "        vertical-align: top;\n",
       "    }\n",
       "\n",
       "    .dataframe thead th {\n",
       "        text-align: right;\n",
       "    }\n",
       "</style>\n",
       "<table border=\"1\" class=\"dataframe\">\n",
       "  <thead>\n",
       "    <tr style=\"text-align: right;\">\n",
       "      <th></th>\n",
       "      <th>eventId</th>\n",
       "      <th>clusterId</th>\n",
       "      <th>PrimaryDecayMode</th>\n",
       "      <th>VecShowerEnergy</th>\n",
       "      <th>S_sum</th>\n",
       "      <th>C_sum</th>\n",
       "      <th>S_rad_mean</th>\n",
       "      <th>C_rad_mean</th>\n",
       "      <th>S_hot</th>\n",
       "      <th>C_hot</th>\n",
       "      <th>CoverS</th>\n",
       "      <th>dist2charge</th>\n",
       "      <th>label</th>\n",
       "      <th>rec_energy</th>\n",
       "      <th>predictedLabel</th>\n",
       "    </tr>\n",
       "  </thead>\n",
       "  <tbody>\n",
       "    <tr>\n",
       "      <th>0</th>\n",
       "      <td>0</td>\n",
       "      <td>0</td>\n",
       "      <td>4</td>\n",
       "      <td>21408.335401</td>\n",
       "      <td>11140.1160</td>\n",
       "      <td>4807.88870</td>\n",
       "      <td>10.362349</td>\n",
       "      <td>6.491467</td>\n",
       "      <td>0.025355</td>\n",
       "      <td>0.044280</td>\n",
       "      <td>0.431583</td>\n",
       "      <td>0.000000</td>\n",
       "      <td>3</td>\n",
       "      <td>13573.675275</td>\n",
       "      <td>3</td>\n",
       "    </tr>\n",
       "    <tr>\n",
       "      <th>1</th>\n",
       "      <td>0</td>\n",
       "      <td>1</td>\n",
       "      <td>4</td>\n",
       "      <td>924.508020</td>\n",
       "      <td>NaN</td>\n",
       "      <td>1073.34800</td>\n",
       "      <td>NaN</td>\n",
       "      <td>1.968934</td>\n",
       "      <td>NaN</td>\n",
       "      <td>0.157025</td>\n",
       "      <td>NaN</td>\n",
       "      <td>16.782349</td>\n",
       "      <td>2</td>\n",
       "      <td>NaN</td>\n",
       "      <td>2</td>\n",
       "    </tr>\n",
       "    <tr>\n",
       "      <th>2</th>\n",
       "      <td>0</td>\n",
       "      <td>2</td>\n",
       "      <td>4</td>\n",
       "      <td>1100.245997</td>\n",
       "      <td>783.3830</td>\n",
       "      <td>904.80566</td>\n",
       "      <td>1.832438</td>\n",
       "      <td>1.448789</td>\n",
       "      <td>0.197458</td>\n",
       "      <td>0.176471</td>\n",
       "      <td>1.154998</td>\n",
       "      <td>128.826170</td>\n",
       "      <td>2</td>\n",
       "      <td>736.718655</td>\n",
       "      <td>2</td>\n",
       "    </tr>\n",
       "    <tr>\n",
       "      <th>3</th>\n",
       "      <td>0</td>\n",
       "      <td>3</td>\n",
       "      <td>4</td>\n",
       "      <td>1643.766190</td>\n",
       "      <td>1418.5334</td>\n",
       "      <td>1472.52690</td>\n",
       "      <td>1.834256</td>\n",
       "      <td>1.933337</td>\n",
       "      <td>0.262542</td>\n",
       "      <td>0.180723</td>\n",
       "      <td>1.038063</td>\n",
       "      <td>69.048379</td>\n",
       "      <td>2</td>\n",
       "      <td>1397.782979</td>\n",
       "      <td>2</td>\n",
       "    </tr>\n",
       "    <tr>\n",
       "      <th>4</th>\n",
       "      <td>0</td>\n",
       "      <td>4</td>\n",
       "      <td>4</td>\n",
       "      <td>10000.615035</td>\n",
       "      <td>8540.6990</td>\n",
       "      <td>9518.20100</td>\n",
       "      <td>2.460657</td>\n",
       "      <td>1.579473</td>\n",
       "      <td>0.173625</td>\n",
       "      <td>0.339236</td>\n",
       "      <td>1.114452</td>\n",
       "      <td>56.487324</td>\n",
       "      <td>2</td>\n",
       "      <td>8165.031964</td>\n",
       "      <td>2</td>\n",
       "    </tr>\n",
       "  </tbody>\n",
       "</table>\n",
       "</div>"
      ],
      "text/plain": [
       "   eventId  clusterId  PrimaryDecayMode  VecShowerEnergy       S_sum  \\\n",
       "0        0          0                 4     21408.335401  11140.1160   \n",
       "1        0          1                 4       924.508020         NaN   \n",
       "2        0          2                 4      1100.245997    783.3830   \n",
       "3        0          3                 4      1643.766190   1418.5334   \n",
       "4        0          4                 4     10000.615035   8540.6990   \n",
       "\n",
       "        C_sum  S_rad_mean  C_rad_mean     S_hot     C_hot    CoverS  \\\n",
       "0  4807.88870   10.362349    6.491467  0.025355  0.044280  0.431583   \n",
       "1  1073.34800         NaN    1.968934       NaN  0.157025       NaN   \n",
       "2   904.80566    1.832438    1.448789  0.197458  0.176471  1.154998   \n",
       "3  1472.52690    1.834256    1.933337  0.262542  0.180723  1.038063   \n",
       "4  9518.20100    2.460657    1.579473  0.173625  0.339236  1.114452   \n",
       "\n",
       "   dist2charge  label    rec_energy  predictedLabel  \n",
       "0     0.000000      3  13573.675275               3  \n",
       "1    16.782349      2           NaN               2  \n",
       "2   128.826170      2    736.718655               2  \n",
       "3    69.048379      2   1397.782979               2  \n",
       "4    56.487324      2   8165.031964               2  "
      ]
     },
     "execution_count": 31,
     "metadata": {},
     "output_type": "execute_result"
    }
   ],
   "source": [
    "df_new = pd.DataFrame(np.hstack((id_test, y_pred)), columns=['clusterId', 'predictedLabel'])\n",
    "df_merged = df.merge(df_new, how='inner', on='clusterId')\n",
    "df_merged.head()"
   ]
  },
  {
   "cell_type": "code",
   "execution_count": 79,
   "metadata": {},
   "outputs": [
    {
     "data": {
      "text/plain": [
       "(9428, 16)"
      ]
     },
     "execution_count": 79,
     "metadata": {},
     "output_type": "execute_result"
    }
   ],
   "source": [
    "df_merged.shape"
   ]
  },
  {
   "cell_type": "code",
   "execution_count": 111,
   "metadata": {},
   "outputs": [
    {
     "data": {
      "text/plain": [
       "0"
      ]
     },
     "execution_count": 111,
     "metadata": {},
     "output_type": "execute_result"
    }
   ],
   "source": [
    "df_merged.predictedLabel.isna().sum()"
   ]
  },
  {
   "cell_type": "code",
   "execution_count": 32,
   "metadata": {},
   "outputs": [
    {
     "data": {
      "text/plain": [
       "<matplotlib.axes._subplots.AxesSubplot at 0x7f473bf2c898>"
      ]
     },
     "execution_count": 32,
     "metadata": {},
     "output_type": "execute_result"
    },
    {
     "data": {
      "image/png": "[encoded data removed]",
      "text/plain": [
       "<Figure size 432x288 with 1 Axes>"
      ]
     },
     "metadata": {
      "needs_background": "light"
     },
     "output_type": "display_data"
    }
   ],
   "source": [
    "lgb.plot_importance(bst)"
   ]
  },
  {
   "cell_type": "code",
   "execution_count": 33,
   "metadata": {},
   "outputs": [
    {
     "data": {
      "text/plain": [
       "{'num_class': 4,\n",
       " 'objective': 'multiclass',\n",
       " 'boosting': 'gbrt',\n",
       " 'learning_rate': 0.1,\n",
       " 'num_leaves': 31,\n",
       " 'metric': 'multi_logloss'}"
      ]
     },
     "execution_count": 33,
     "metadata": {},
     "output_type": "execute_result"
    }
   ],
   "source": [
    "param[results[0][0]]"
   ]
  },
  {
   "cell_type": "code",
   "execution_count": 34,
   "metadata": {},
   "outputs": [
    {
     "ename": "ImportError",
     "evalue": "cannot import name 'permutation_importance'",
     "output_type": "error",
     "traceback": [
      "\u001b[0;31m---------------------------------------------------------------------------\u001b[0m",
      "\u001b[0;31mImportError\u001b[0m                               Traceback (most recent call last)",
      "\u001b[0;32m<ipython-input-34-3cc93d843b94>\u001b[0m in \u001b[0;36m<module>\u001b[0;34m\u001b[0m\n\u001b[0;32m----> 1\u001b[0;31m \u001b[0;32mfrom\u001b[0m \u001b[0msklearn\u001b[0m\u001b[0;34m.\u001b[0m\u001b[0minspection\u001b[0m \u001b[0;32mimport\u001b[0m \u001b[0mpermutation_importance\u001b[0m\u001b[0;34m\u001b[0m\u001b[0m\n\u001b[0m\u001b[1;32m      2\u001b[0m \u001b[0mmodel\u001b[0m \u001b[0;34m=\u001b[0m \u001b[0mlgb\u001b[0m\u001b[0;34m.\u001b[0m\u001b[0mLGBMClassifier\u001b[0m\u001b[0;34m(\u001b[0m\u001b[0;34m**\u001b[0m\u001b[0mparam\u001b[0m\u001b[0;34m[\u001b[0m\u001b[0mresults\u001b[0m\u001b[0;34m[\u001b[0m\u001b[0;36m0\u001b[0m\u001b[0;34m]\u001b[0m\u001b[0;34m[\u001b[0m\u001b[0;36m0\u001b[0m\u001b[0;34m]\u001b[0m\u001b[0;34m]\u001b[0m\u001b[0;34m,\u001b[0m \u001b[0mn_estimators\u001b[0m\u001b[0;34m=\u001b[0m\u001b[0mresults\u001b[0m\u001b[0;34m[\u001b[0m\u001b[0;36m0\u001b[0m\u001b[0;34m]\u001b[0m\u001b[0;34m[\u001b[0m\u001b[0;36m1\u001b[0m\u001b[0;34m]\u001b[0m\u001b[0;34m)\u001b[0m\u001b[0;34m\u001b[0m\u001b[0m\n\u001b[1;32m      3\u001b[0m \u001b[0mmodel\u001b[0m \u001b[0;34m=\u001b[0m \u001b[0mmodel\u001b[0m\u001b[0;34m.\u001b[0m\u001b[0mfit\u001b[0m\u001b[0;34m(\u001b[0m\u001b[0mX_train\u001b[0m\u001b[0;34m,\u001b[0m \u001b[0my_train\u001b[0m\u001b[0;34m)\u001b[0m\u001b[0;34m\u001b[0m\u001b[0m\n\u001b[1;32m      4\u001b[0m \u001b[0mr\u001b[0m \u001b[0;34m=\u001b[0m \u001b[0mpermutation_importance\u001b[0m\u001b[0;34m(\u001b[0m\u001b[0mmodel\u001b[0m\u001b[0;34m,\u001b[0m \u001b[0mX_test\u001b[0m\u001b[0;34m,\u001b[0m \u001b[0my_test\u001b[0m\u001b[0;34m,\u001b[0m \u001b[0mn_repeats\u001b[0m\u001b[0;34m=\u001b[0m\u001b[0;36m30\u001b[0m\u001b[0;34m,\u001b[0m \u001b[0mrandom_state\u001b[0m\u001b[0;34m=\u001b[0m\u001b[0;36m42\u001b[0m\u001b[0;34m)\u001b[0m\u001b[0;34m\u001b[0m\u001b[0m\n\u001b[1;32m      5\u001b[0m \u001b[0;34m\u001b[0m\u001b[0m\n",
      "\u001b[0;31mImportError\u001b[0m: cannot import name 'permutation_importance'"
     ]
    }
   ],
   "source": [
    "from sklearn.inspection import permutation_importance\n",
    "model = lgb.LGBMClassifier(**param[results[0][0]], n_estimators=results[0][1])\n",
    "model = model.fit(X_train, y_train)\n",
    "r = permutation_importance(model, X_test, y_test, n_repeats=30, random_state=42)\n",
    "\n",
    "for i in r.importances_mean.argsort()[::-1]:\n",
    "    if r.importances_mean[i] - 2 * r.importances_std[i] > 0:\n",
    "        print(f\"{train_data_y.feature_name[i]:<8}\"\n",
    "              f\"{r.importances_mean[i]:.3f}\"\n",
    "              f\" +/- {r.importances_std[i]:.3f}\")"
   ]
  },
  {
   "cell_type": "code",
   "execution_count": 35,
   "metadata": {},
   "outputs": [
    {
     "ename": "ImportError",
     "evalue": "cannot import name 'Digraph'",
     "output_type": "error",
     "traceback": [
      "\u001b[0;31m---------------------------------------------------------------------------\u001b[0m",
      "\u001b[0;31mImportError\u001b[0m                               Traceback (most recent call last)",
      "\u001b[0;32m<ipython-input-35-ee95fd7246c2>\u001b[0m in \u001b[0;36m<module>\u001b[0;34m\u001b[0m\n\u001b[0;32m----> 1\u001b[0;31m \u001b[0mlgb\u001b[0m\u001b[0;34m.\u001b[0m\u001b[0mplot_tree\u001b[0m\u001b[0;34m(\u001b[0m\u001b[0mbst\u001b[0m\u001b[0;34m)\u001b[0m\u001b[0;34m\u001b[0m\u001b[0m\n\u001b[0m",
      "\u001b[0;32m~/.local/lib/python3.6/site-packages/lightgbm/plotting.py\u001b[0m in \u001b[0;36mplot_tree\u001b[0;34m(booster, ax, tree_index, figsize, dpi, old_graph_attr, old_node_attr, old_edge_attr, show_info, precision, **kwargs)\u001b[0m\n\u001b[1;32m    606\u001b[0m \u001b[0;34m\u001b[0m\u001b[0m\n\u001b[1;32m    607\u001b[0m     graph = create_tree_digraph(booster=booster, tree_index=tree_index,\n\u001b[0;32m--> 608\u001b[0;31m                                 show_info=show_info, precision=precision, **kwargs)\n\u001b[0m\u001b[1;32m    609\u001b[0m \u001b[0;34m\u001b[0m\u001b[0m\n\u001b[1;32m    610\u001b[0m     \u001b[0ms\u001b[0m \u001b[0;34m=\u001b[0m \u001b[0mBytesIO\u001b[0m\u001b[0;34m(\u001b[0m\u001b[0;34m)\u001b[0m\u001b[0;34m\u001b[0m\u001b[0m\n",
      "\u001b[0;32m~/.local/lib/python3.6/site-packages/lightgbm/plotting.py\u001b[0m in \u001b[0;36mcreate_tree_digraph\u001b[0;34m(booster, tree_index, show_info, precision, old_name, old_comment, old_filename, old_directory, old_format, old_engine, old_encoding, old_graph_attr, old_node_attr, old_edge_attr, old_body, old_strict, **kwargs)\u001b[0m\n\u001b[1;32m    541\u001b[0m         \u001b[0mshow_info\u001b[0m \u001b[0;34m=\u001b[0m \u001b[0;34m[\u001b[0m\u001b[0;34m]\u001b[0m\u001b[0;34m\u001b[0m\u001b[0m\n\u001b[1;32m    542\u001b[0m \u001b[0;34m\u001b[0m\u001b[0m\n\u001b[0;32m--> 543\u001b[0;31m     \u001b[0mgraph\u001b[0m \u001b[0;34m=\u001b[0m \u001b[0m_to_graphviz\u001b[0m\u001b[0;34m(\u001b[0m\u001b[0mtree_info\u001b[0m\u001b[0;34m,\u001b[0m \u001b[0mshow_info\u001b[0m\u001b[0;34m,\u001b[0m \u001b[0mfeature_names\u001b[0m\u001b[0;34m,\u001b[0m \u001b[0mprecision\u001b[0m\u001b[0;34m,\u001b[0m \u001b[0mmonotone_constraints\u001b[0m\u001b[0;34m,\u001b[0m \u001b[0;34m**\u001b[0m\u001b[0mkwargs\u001b[0m\u001b[0;34m)\u001b[0m\u001b[0;34m\u001b[0m\u001b[0m\n\u001b[0m\u001b[1;32m    544\u001b[0m \u001b[0;34m\u001b[0m\u001b[0m\n\u001b[1;32m    545\u001b[0m     \u001b[0;32mreturn\u001b[0m \u001b[0mgraph\u001b[0m\u001b[0;34m\u001b[0m\u001b[0m\n",
      "\u001b[0;32m~/.local/lib/python3.6/site-packages/lightgbm/plotting.py\u001b[0m in \u001b[0;36m_to_graphviz\u001b[0;34m(tree_info, show_info, feature_names, precision, constraints, **kwargs)\u001b[0m\n\u001b[1;32m    382\u001b[0m     \"\"\"\n\u001b[1;32m    383\u001b[0m     \u001b[0;32mif\u001b[0m \u001b[0mGRAPHVIZ_INSTALLED\u001b[0m\u001b[0;34m:\u001b[0m\u001b[0;34m\u001b[0m\u001b[0m\n\u001b[0;32m--> 384\u001b[0;31m         \u001b[0;32mfrom\u001b[0m \u001b[0mgraphviz\u001b[0m \u001b[0;32mimport\u001b[0m \u001b[0mDigraph\u001b[0m\u001b[0;34m\u001b[0m\u001b[0m\n\u001b[0m\u001b[1;32m    385\u001b[0m     \u001b[0;32melse\u001b[0m\u001b[0;34m:\u001b[0m\u001b[0;34m\u001b[0m\u001b[0m\n\u001b[1;32m    386\u001b[0m         \u001b[0;32mraise\u001b[0m \u001b[0mImportError\u001b[0m\u001b[0;34m(\u001b[0m\u001b[0;34m'You must install graphviz to plot tree.'\u001b[0m\u001b[0;34m)\u001b[0m\u001b[0;34m\u001b[0m\u001b[0m\n",
      "\u001b[0;31mImportError\u001b[0m: cannot import name 'Digraph'"
     ]
    },
    {
     "data": {
      "image/png": "[encoded data removed]",
      "text/plain": [
       "<Figure size 432x288 with 1 Axes>"
      ]
     },
     "metadata": {
      "needs_background": "light"
     },
     "output_type": "display_data"
    }
   ],
   "source": [
    "lgb.plot_tree(bst)"
   ]
  },
  {
   "cell_type": "markdown",
   "metadata": {},
   "source": [
    "## Regression"
   ]
  },
  {
   "cell_type": "markdown",
   "metadata": {},
   "source": [
    "### Training"
   ]
  },
  {
   "cell_type": "code",
   "execution_count": 19,
   "metadata": {},
   "outputs": [],
   "source": [
    "params = {\n",
    "    'objective': ['regression'],\n",
    "    'boosting': ['gbrt'],  # default = gbdt\n",
    "    'learning_rate': [0.1, 0.01],  # default = 0.1\n",
    "    'num_leaves': [31],  # default = 31\n",
    "    'metric': ['mape', 'rmse']\n",
    "}"
   ]
  },
  {
   "cell_type": "code",
   "execution_count": 20,
   "metadata": {},
   "outputs": [],
   "source": [
    "import itertools\n",
    "keys, values = zip(*params.items())\n",
    "param = [dict(zip(keys, v)) for v in itertools.product(*values)]"
   ]
  },
  {
   "cell_type": "code",
   "execution_count": 21,
   "metadata": {},
   "outputs": [
    {
     "data": {
      "text/plain": [
       "[{'objective': 'regression',\n",
       "  'boosting': 'gbrt',\n",
       "  'learning_rate': 0.1,\n",
       "  'num_leaves': 31,\n",
       "  'metric': 'mape'},\n",
       " {'objective': 'regression',\n",
       "  'boosting': 'gbrt',\n",
       "  'learning_rate': 0.1,\n",
       "  'num_leaves': 31,\n",
       "  'metric': 'rmse'},\n",
       " {'objective': 'regression',\n",
       "  'boosting': 'gbrt',\n",
       "  'learning_rate': 0.01,\n",
       "  'num_leaves': 31,\n",
       "  'metric': 'mape'},\n",
       " {'objective': 'regression',\n",
       "  'boosting': 'gbrt',\n",
       "  'learning_rate': 0.01,\n",
       "  'num_leaves': 31,\n",
       "  'metric': 'rmse'}]"
      ]
     },
     "execution_count": 21,
     "metadata": {},
     "output_type": "execute_result"
    }
   ],
   "source": [
    "param"
   ]
  },
  {
   "cell_type": "code",
   "execution_count": 22,
   "metadata": {},
   "outputs": [
    {
     "name": "stdout",
     "output_type": "stream",
     "text": [
      "[1]\tcv_agg's mape: 1.89429 + 0.059043\n",
      "[2]\tcv_agg's mape: 1.72524 + 0.0523248\n"
     ]
    },
    {
     "ename": "KeyboardInterrupt",
     "evalue": "",
     "output_type": "error",
     "traceback": [
      "\u001b[0;31m---------------------------------------------------------------------------\u001b[0m",
      "\u001b[0;31mKeyboardInterrupt\u001b[0m                         Traceback (most recent call last)",
      "\u001b[0;32m<ipython-input-22-0677277963c6>\u001b[0m in \u001b[0;36m<module>\u001b[0;34m\u001b[0m\n\u001b[1;32m      1\u001b[0m \u001b[0mresults\u001b[0m \u001b[0;34m=\u001b[0m \u001b[0;34m[\u001b[0m\u001b[0;34m]\u001b[0m\u001b[0;34m\u001b[0m\u001b[0m\n\u001b[1;32m      2\u001b[0m \u001b[0;32mfor\u001b[0m \u001b[0mi\u001b[0m \u001b[0;32min\u001b[0m \u001b[0mrange\u001b[0m\u001b[0;34m(\u001b[0m\u001b[0mlen\u001b[0m\u001b[0;34m(\u001b[0m\u001b[0mparam\u001b[0m\u001b[0;34m)\u001b[0m\u001b[0;34m)\u001b[0m\u001b[0;34m:\u001b[0m\u001b[0;34m\u001b[0m\u001b[0m\n\u001b[0;32m----> 3\u001b[0;31m     \u001b[0mcv_results\u001b[0m \u001b[0;34m=\u001b[0m \u001b[0mlgb\u001b[0m\u001b[0;34m.\u001b[0m\u001b[0mcv\u001b[0m\u001b[0;34m(\u001b[0m\u001b[0mparam\u001b[0m\u001b[0;34m[\u001b[0m\u001b[0mi\u001b[0m\u001b[0;34m]\u001b[0m\u001b[0;34m,\u001b[0m \u001b[0mtrain_data_z\u001b[0m\u001b[0;34m,\u001b[0m \u001b[0mnum_boost_round\u001b[0m\u001b[0;34m=\u001b[0m\u001b[0;36m500\u001b[0m\u001b[0;34m,\u001b[0m \u001b[0mearly_stopping_rounds\u001b[0m\u001b[0;34m=\u001b[0m\u001b[0;36m20\u001b[0m\u001b[0;34m,\u001b[0m \u001b[0mverbose_eval\u001b[0m\u001b[0;34m=\u001b[0m\u001b[0;32mTrue\u001b[0m\u001b[0;34m,\u001b[0m \u001b[0mseed\u001b[0m\u001b[0;34m=\u001b[0m\u001b[0;36m42\u001b[0m\u001b[0;34m,\u001b[0m \u001b[0mstratified\u001b[0m\u001b[0;34m=\u001b[0m\u001b[0;32mFalse\u001b[0m\u001b[0;34m)\u001b[0m\u001b[0;34m\u001b[0m\u001b[0m\n\u001b[0m\u001b[1;32m      4\u001b[0m     \u001b[0mprint\u001b[0m\u001b[0;34m(\u001b[0m\u001b[0mcv_results\u001b[0m\u001b[0;34m)\u001b[0m\u001b[0;34m\u001b[0m\u001b[0m\n\u001b[1;32m      5\u001b[0m     \u001b[0mmetric_name\u001b[0m \u001b[0;34m=\u001b[0m \u001b[0mparam\u001b[0m\u001b[0;34m[\u001b[0m\u001b[0mi\u001b[0m\u001b[0;34m]\u001b[0m\u001b[0;34m[\u001b[0m\u001b[0;34m'metric'\u001b[0m\u001b[0;34m]\u001b[0m\u001b[0;34m+\u001b[0m\u001b[0;34m\"-mean\"\u001b[0m\u001b[0;34m\u001b[0m\u001b[0m\n",
      "\u001b[0;32m~/.local/lib/python3.6/site-packages/lightgbm/engine.py\u001b[0m in \u001b[0;36mcv\u001b[0;34m(params, train_set, num_boost_round, folds, nfold, stratified, shuffle, metrics, fobj, feval, init_model, feature_name, categorical_feature, early_stopping_rounds, fpreproc, verbose_eval, show_stdv, seed, callbacks, eval_train_metric)\u001b[0m\n\u001b[1;32m    562\u001b[0m                                     \u001b[0mend_iteration\u001b[0m\u001b[0;34m=\u001b[0m\u001b[0mnum_boost_round\u001b[0m\u001b[0;34m,\u001b[0m\u001b[0;34m\u001b[0m\u001b[0m\n\u001b[1;32m    563\u001b[0m                                     evaluation_result_list=None))\n\u001b[0;32m--> 564\u001b[0;31m         \u001b[0mcvfolds\u001b[0m\u001b[0;34m.\u001b[0m\u001b[0mupdate\u001b[0m\u001b[0;34m(\u001b[0m\u001b[0mfobj\u001b[0m\u001b[0;34m=\u001b[0m\u001b[0mfobj\u001b[0m\u001b[0;34m)\u001b[0m\u001b[0;34m\u001b[0m\u001b[0m\n\u001b[0m\u001b[1;32m    565\u001b[0m         \u001b[0mres\u001b[0m \u001b[0;34m=\u001b[0m \u001b[0m_agg_cv_result\u001b[0m\u001b[0;34m(\u001b[0m\u001b[0mcvfolds\u001b[0m\u001b[0;34m.\u001b[0m\u001b[0meval_valid\u001b[0m\u001b[0;34m(\u001b[0m\u001b[0mfeval\u001b[0m\u001b[0;34m)\u001b[0m\u001b[0;34m,\u001b[0m \u001b[0meval_train_metric\u001b[0m\u001b[0;34m)\u001b[0m\u001b[0;34m\u001b[0m\u001b[0m\n\u001b[1;32m    566\u001b[0m         \u001b[0;32mfor\u001b[0m \u001b[0m_\u001b[0m\u001b[0;34m,\u001b[0m \u001b[0mkey\u001b[0m\u001b[0;34m,\u001b[0m \u001b[0mmean\u001b[0m\u001b[0;34m,\u001b[0m \u001b[0m_\u001b[0m\u001b[0;34m,\u001b[0m \u001b[0mstd\u001b[0m \u001b[0;32min\u001b[0m \u001b[0mres\u001b[0m\u001b[0;34m:\u001b[0m\u001b[0;34m\u001b[0m\u001b[0m\n",
      "\u001b[0;32m~/.local/lib/python3.6/site-packages/lightgbm/engine.py\u001b[0m in \u001b[0;36mhandler_function\u001b[0;34m(*args, **kwargs)\u001b[0m\n\u001b[1;32m    292\u001b[0m             \u001b[0mret\u001b[0m \u001b[0;34m=\u001b[0m \u001b[0;34m[\u001b[0m\u001b[0;34m]\u001b[0m\u001b[0;34m\u001b[0m\u001b[0m\n\u001b[1;32m    293\u001b[0m             \u001b[0;32mfor\u001b[0m \u001b[0mbooster\u001b[0m \u001b[0;32min\u001b[0m \u001b[0mself\u001b[0m\u001b[0;34m.\u001b[0m\u001b[0mboosters\u001b[0m\u001b[0;34m:\u001b[0m\u001b[0;34m\u001b[0m\u001b[0m\n\u001b[0;32m--> 294\u001b[0;31m                 \u001b[0mret\u001b[0m\u001b[0;34m.\u001b[0m\u001b[0mappend\u001b[0m\u001b[0;34m(\u001b[0m\u001b[0mgetattr\u001b[0m\u001b[0;34m(\u001b[0m\u001b[0mbooster\u001b[0m\u001b[0;34m,\u001b[0m \u001b[0mname\u001b[0m\u001b[0;34m)\u001b[0m\u001b[0;34m(\u001b[0m\u001b[0;34m*\u001b[0m\u001b[0margs\u001b[0m\u001b[0;34m,\u001b[0m \u001b[0;34m**\u001b[0m\u001b[0mkwargs\u001b[0m\u001b[0;34m)\u001b[0m\u001b[0;34m)\u001b[0m\u001b[0;34m\u001b[0m\u001b[0m\n\u001b[0m\u001b[1;32m    295\u001b[0m             \u001b[0;32mreturn\u001b[0m \u001b[0mret\u001b[0m\u001b[0;34m\u001b[0m\u001b[0m\n\u001b[1;32m    296\u001b[0m         \u001b[0;32mreturn\u001b[0m \u001b[0mhandler_function\u001b[0m\u001b[0;34m\u001b[0m\u001b[0m\n",
      "\u001b[0;32m~/.local/lib/python3.6/site-packages/lightgbm/basic.py\u001b[0m in \u001b[0;36mupdate\u001b[0;34m(self, train_set, fobj)\u001b[0m\n\u001b[1;32m   1974\u001b[0m             _safe_call(_LIB.LGBM_BoosterUpdateOneIter(\n\u001b[1;32m   1975\u001b[0m                 \u001b[0mself\u001b[0m\u001b[0;34m.\u001b[0m\u001b[0mhandle\u001b[0m\u001b[0;34m,\u001b[0m\u001b[0;34m\u001b[0m\u001b[0m\n\u001b[0;32m-> 1976\u001b[0;31m                 ctypes.byref(is_finished)))\n\u001b[0m\u001b[1;32m   1977\u001b[0m             \u001b[0mself\u001b[0m\u001b[0;34m.\u001b[0m\u001b[0m__is_predicted_cur_iter\u001b[0m \u001b[0;34m=\u001b[0m \u001b[0;34m[\u001b[0m\u001b[0;32mFalse\u001b[0m \u001b[0;32mfor\u001b[0m \u001b[0m_\u001b[0m \u001b[0;32min\u001b[0m \u001b[0mrange_\u001b[0m\u001b[0;34m(\u001b[0m\u001b[0mself\u001b[0m\u001b[0;34m.\u001b[0m\u001b[0m__num_dataset\u001b[0m\u001b[0;34m)\u001b[0m\u001b[0;34m]\u001b[0m\u001b[0;34m\u001b[0m\u001b[0m\n\u001b[1;32m   1978\u001b[0m             \u001b[0;32mreturn\u001b[0m \u001b[0mis_finished\u001b[0m\u001b[0;34m.\u001b[0m\u001b[0mvalue\u001b[0m \u001b[0;34m==\u001b[0m \u001b[0;36m1\u001b[0m\u001b[0;34m\u001b[0m\u001b[0m\n",
      "\u001b[0;31mKeyboardInterrupt\u001b[0m: "
     ]
    }
   ],
   "source": [
    "results = []\n",
    "for i in range(len(param)):\n",
    "    cv_results = lgb.cv(param[i], train_data_z, num_boost_round=500, early_stopping_rounds=20, verbose_eval=True, seed=42, stratified=False)\n",
    "    print(cv_results)\n",
    "    metric_name = param[i]['metric']+\"-mean\"\n",
    "    results += [(i, len(cv_results[metric_name]), cv_results[metric_name][-1])]"
   ]
  },
  {
   "cell_type": "code",
   "execution_count": 11,
   "metadata": {},
   "outputs": [
    {
     "data": {
      "text/plain": [
       "[(0, 77, 0.22797080101867281),\n",
       " (2, 500, 0.2340436112965984),\n",
       " (3, 498, 4381.62465775851),\n",
       " (1, 50, 4396.770246919716)]"
      ]
     },
     "execution_count": 11,
     "metadata": {},
     "output_type": "execute_result"
    }
   ],
   "source": [
    "results.sort(key=lambda x: x[2])\n",
    "results"
   ]
  },
  {
   "cell_type": "code",
   "execution_count": 12,
   "metadata": {},
   "outputs": [
    {
     "name": "stdout",
     "output_type": "stream",
     "text": [
      "[LightGBM] [Info] Total Bins 2040\n",
      "[LightGBM] [Info] Number of data: 14206, number of used features: 8\n",
      "[LightGBM] [Info] Start training from score 11155.008079\n"
     ]
    }
   ],
   "source": [
    "bst = lgb.train(param[results[0][0]], train_data_z, num_boost_round=results[0][1])"
   ]
  },
  {
   "cell_type": "markdown",
   "metadata": {},
   "source": [
    "### Testing"
   ]
  },
  {
   "cell_type": "code",
   "execution_count": 13,
   "metadata": {},
   "outputs": [],
   "source": [
    "z_pred = bst.predict(X_test)#.reshape([-1,1])"
   ]
  },
  {
   "cell_type": "code",
   "execution_count": 21,
   "metadata": {},
   "outputs": [],
   "source": [
    "import ROOT\n",
    "from array import array\n",
    "\n",
    "f = ROOT.TFile( 'test_filling.root', 'recreate' )\n",
    "t = ROOT.TTree( 't1', 'tree with histos' )\n",
    " \n",
    "d1 = array('d', [0.])\n",
    "d2 = array('d', [0.])\n",
    "t.Branch('z_test', d1, \"z_test/D\")\n",
    "t.Branch('z_pred', d2, \"z_pred/D\")\n",
    "for i in range(len(z_test)):\n",
    "    d1[0] = z_test[i]\n",
    "    d2[0] = z_pred[i]\n",
    "    t.Fill()\n",
    "f.Write()\n",
    "f.Close()"
   ]
  },
  {
   "cell_type": "code",
   "execution_count": 30,
   "metadata": {},
   "outputs": [],
   "source": [
    "d = ROOT.ROOT.RDataFrame(\"t1\", \"test_filling.root\")"
   ]
  },
  {
   "cell_type": "code",
   "execution_count": 84,
   "metadata": {},
   "outputs": [
    {
     "name": "stdout",
     "output_type": "stream",
     "text": [
      " FCN=126.267 FROM MIGRAD    STATUS=CONVERGED     174 CALLS         175 TOTAL\n",
      "                     EDM=1.07037e-06    STRATEGY= 1      ERROR MATRIX ACCURATE \n",
      "  EXT PARAMETER                                   STEP         FIRST   \n",
      "  NO.   NAME      VALUE            ERROR          SIZE      DERIVATIVE \n",
      "   1  Constant     6.45350e+02   2.54135e+01   9.70878e-02   5.52580e-05\n",
      "   2  Mean         8.72143e+01   7.08781e+00   3.47234e-02  -3.19961e-05\n",
      "   3  Sigma        2.30661e+02   6.53885e+00   1.67680e-05   4.69551e-01\n",
      " FCN=169.608 FROM MIGRAD    STATUS=CONVERGED     211 CALLS         212 TOTAL\n",
      "                     EDM=5.36691e-08    STRATEGY= 1      ERROR MATRIX ACCURATE \n",
      "  EXT PARAMETER                                   STEP         FIRST   \n",
      "  NO.   NAME      VALUE            ERROR          SIZE      DERIVATIVE \n",
      "   1  Constant     6.63501e+02   2.40645e+01   1.11221e-01  -1.92411e-06\n",
      "   2  Mean         7.46872e+01   7.19131e+00   4.54626e-02   3.76746e-05\n",
      "   3  Sigma        2.71202e+02   6.77448e+00   1.43131e-05  -8.10658e-02\n",
      " FCN=182.763 FROM MIGRAD    STATUS=CONVERGED     164 CALLS         165 TOTAL\n",
      "                     EDM=5.88669e-09    STRATEGY= 1      ERROR MATRIX ACCURATE \n",
      "  EXT PARAMETER                                   STEP         FIRST   \n",
      "  NO.   NAME      VALUE            ERROR          SIZE      DERIVATIVE \n",
      "   1  Constant     3.93078e+02   1.69312e+01   8.00210e-02   1.21194e-07\n",
      "   2  Mean         9.56709e+00   1.18847e+01   7.41692e-02   8.85817e-06\n",
      "   3  Sigma        3.64376e+02   1.09818e+01   1.72488e-05   2.69998e-03\n",
      " FCN=175.765 FROM MIGRAD    STATUS=CONVERGED     167 CALLS         168 TOTAL\n",
      "                     EDM=3.05087e-08    STRATEGY= 1      ERROR MATRIX ACCURATE \n",
      "  EXT PARAMETER                                   STEP         FIRST   \n",
      "  NO.   NAME      VALUE            ERROR          SIZE      DERIVATIVE \n",
      "   1  Constant     2.25153e+02   1.17152e+01   5.28346e-02  -2.62599e-05\n",
      "   2  Mean        -1.97875e+01   1.47428e+01   9.48624e-02  -1.70327e-06\n",
      "   3  Sigma        4.04201e+02   1.51174e+01   2.19560e-05  -6.93905e-02\n",
      " FCN=185.399 FROM MIGRAD    STATUS=CONVERGED     182 CALLS         183 TOTAL\n",
      "                     EDM=6.57635e-08    STRATEGY= 1      ERROR MATRIX ACCURATE \n",
      "  EXT PARAMETER                                   STEP         FIRST   \n",
      "  NO.   NAME      VALUE            ERROR          SIZE      DERIVATIVE \n",
      "   1  Constant     1.44783e+02   8.18205e+00   3.98667e-02   9.99830e-06\n",
      "   2  Mean        -2.58540e+01   2.14292e+01   1.38807e-01  -1.51868e-05\n",
      "   3  Sigma        5.04223e+02   1.94406e+01   2.55851e-05   5.62954e-02\n",
      " FCN=185.909 FROM MIGRAD    STATUS=CONVERGED     194 CALLS         195 TOTAL\n",
      "                     EDM=4.86102e-07    STRATEGY= 1      ERROR MATRIX ACCURATE \n",
      "  EXT PARAMETER                                   STEP         FIRST   \n",
      "  NO.   NAME      VALUE            ERROR          SIZE      DERIVATIVE \n",
      "   1  Constant     1.02604e+02   7.85590e+00   3.42995e-02  -5.49718e-05\n",
      "   2  Mean        -2.55952e+01   3.18474e+01   2.08805e-01   2.24071e-05\n",
      "   3  Sigma        6.23776e+02   3.60712e+01   3.71758e-05   1.99542e-02\n",
      " FCN=168.011 FROM MIGRAD    STATUS=CONVERGED     193 CALLS         194 TOTAL\n",
      "                     EDM=3.89706e-07    STRATEGY= 1      ERROR MATRIX ACCURATE \n",
      "  EXT PARAMETER                                   STEP         FIRST   \n",
      "  NO.   NAME      VALUE            ERROR          SIZE      DERIVATIVE \n",
      "   1  Constant     6.38382e+01   5.11271e+00   2.19379e-02   1.07856e-04\n",
      "   2  Mean         5.60103e+01   3.92149e+01   2.31595e-01   5.19879e-06\n",
      "   3  Sigma        6.71267e+02   3.95164e+01   3.76232e-05   1.22395e-01\n",
      " FCN=147.606 FROM MIGRAD    STATUS=CONVERGED     147 CALLS         148 TOTAL\n",
      "                     EDM=1.20866e-07    STRATEGY= 1      ERROR MATRIX ACCURATE \n",
      "  EXT PARAMETER                                   STEP         FIRST   \n",
      "  NO.   NAME      VALUE            ERROR          SIZE      DERIVATIVE \n",
      "   1  Constant     4.73252e+01   4.85234e+00   1.71645e-02   1.48058e-04\n",
      "   2  Mean        -1.26747e+02   5.01097e+01   2.85905e-01   3.43400e-06\n",
      "   3  Sigma        7.88111e+02   6.49267e+01   4.74473e-05   5.20305e-02\n",
      " FCN=105.94 FROM MIGRAD    STATUS=CONVERGED     157 CALLS         158 TOTAL\n",
      "                     EDM=1.20106e-09    STRATEGY= 1      ERROR MATRIX ACCURATE \n",
      "  EXT PARAMETER                                   STEP         FIRST   \n",
      "  NO.   NAME      VALUE            ERROR          SIZE      DERIVATIVE \n",
      "   1  Constant     2.12158e+01   2.72590e+00   7.44394e-03   7.53426e-07\n",
      "   2  Mean        -1.70730e+00   9.39649e+01   4.49426e-01   8.70295e-08\n",
      "   3  Sigma        1.28022e+03   1.38333e+02   5.93702e-05  -2.22996e-03\n",
      " FCN=104.004 FROM MIGRAD    STATUS=CONVERGED     101 CALLS         102 TOTAL\n",
      "                     EDM=3.91787e-08    STRATEGY= 1      ERROR MATRIX ACCURATE \n",
      "  EXT PARAMETER                                   STEP         FIRST   \n",
      "  NO.   NAME      VALUE            ERROR          SIZE      DERIVATIVE \n",
      "   1  Constant     8.50760e+00   1.31325e+00   3.53828e-03  -3.27456e-04\n",
      "   2  Mean         1.94050e+02   2.71471e+02   1.14689e+00   4.12442e-07\n",
      "   3  Sigma        2.67150e+03   3.72934e+02   1.08592e-04  -1.28732e-02\n"
     ]
    },
    {
     "data": {
      "image/png": "[encoded data removed]",
      "text/plain": [
       "<IPython.core.display.Image object>"
      ]
     },
     "metadata": {},
     "output_type": "display_data"
    }
   ],
   "source": [
    "c1 = ROOT.TCanvas(\"c1\", \"c1\", 600, 600)\n",
    "ROOT.gStyle.SetOptFit(1111)\n",
    "\n",
    "binwidth = 2000\n",
    "nbins = 10\n",
    "data = {k: np.zeros(nbins) for k in ['Energy', 'EnergyRes', 'EnergyResErr']}\n",
    "for i in range(nbins):\n",
    "    d2 = d.Filter(f\"z_test > {binwidth*i} && z_test < {binwidth*(i+1)}\")\n",
    "    if d2.Count().GetValue() < 200:\n",
    "        break\n",
    "    \n",
    "    d2 = d2.Define(\"diff\", \"z_pred-z_test\")\n",
    "    h = d2.Histo1D(\"diff\")\n",
    "    h.DrawCopy()\n",
    "    r = h.Fit(\"gaus\", \"S\")\n",
    "    data['Energy'][i] = (i+0.5)*binwidth*1e-3\n",
    "    data['EnergyRes'][i] = r.Parameter(2)/((i+0.5)*binwidth+r.Parameter(1))\n",
    "    data['EnergyResErr'][i] = data['EnergyRes'][i]*(r.ParError(1)/r.Parameter(1)+r.ParError(2)/r.Parameter(2))\n",
    "c1.Draw()"
   ]
  },
  {
   "cell_type": "code",
   "execution_count": 85,
   "metadata": {},
   "outputs": [
    {
     "name": "stdout",
     "output_type": "stream",
     "text": [
      " FCN=1.65303 FROM MIGRAD    STATUS=CONVERGED      34 CALLS          35 TOTAL\n",
      "                     EDM=6.28276e-23    STRATEGY= 1      ERROR MATRIX ACCURATE \n",
      "  EXT PARAMETER                                   STEP         FIRST   \n",
      "  NO.   NAME      VALUE            ERROR          SIZE      DERIVATIVE \n",
      "   1  p0           2.56298e-01   5.22502e-02   1.14348e-05  -7.76730e-10\n",
      "   2  p1          -5.44663e-02   3.40593e-02   7.45380e-06  -1.11710e-09\n"
     ]
    },
    {
     "data": {
      "image/png": "[encoded data removed]",
      "text/plain": [
       "<IPython.core.display.Image object>"
      ]
     },
     "metadata": {},
     "output_type": "display_data"
    }
   ],
   "source": [
    "from tableauColors import palette\n",
    "\n",
    "\n",
    "ROOT.gStyle.SetOptStat(\"emr\")\n",
    "ROOT.gStyle.SetOptFit(1)\n",
    "\n",
    "c2 = ROOT.TCanvas(\"c2\", \"c2\", 600, 600)\n",
    "c2.SetLeftMargin(.12)\n",
    "c2.SetBottomMargin(.12)\n",
    "c2.SetRightMargin(.12)\n",
    "c2.SetTopMargin(.12)\n",
    "\n",
    "mg = ROOT.TMultiGraph()\n",
    "gr = [None, None]\n",
    "f1 = [None, None]\n",
    "f1[0] = ROOT.TF1(\"f1\",\"[0]/sqrt(x)+[1]\")\n",
    "f1[1] = f1[0].Clone()\n",
    "f1[0].SetLineColor(palette['blue'].GetNumber())\n",
    "f1[1].SetLineColor(palette['red'].GetNumber())\n",
    "marker = [ROOT.kFullDotLarge, ROOT.kFullTriangleUp]\n",
    "\n",
    "i = 0\n",
    "# for i,s in enumerate(['e', 'pi']):\n",
    "x = array('f', data['Energy'])\n",
    "n = len(x)\n",
    "y = array('f', data['EnergyRes'])\n",
    "ex = array('f', [0.]*n)\n",
    "ey = array('f', data['EnergyResErr'])\n",
    "gr = ROOT.TGraphErrors(n, x, y, ex, ey)\n",
    "gr.Fit(f1[i], \"S\")\n",
    "gr.SetMarkerStyle(marker[i])\n",
    "\n",
    "mg.Add(gr)\n",
    "mg.Draw('ap')\n",
    "\n",
    "c2.Update()\n",
    "\n",
    "labelsize = 0.03\n",
    "titlesize = 0.04\n",
    "titleoffset = 1.2\n",
    "labeloffset = 0.005\n",
    "linewidth = 3\n",
    "ticklength = 0.02\n",
    "\n",
    "mg.GetXaxis().SetTitle(\"E_{true} [GeV]\")\n",
    "mg.GetYaxis().SetTitle(\"#sigma/E_{reconstructed} [%]\")\n",
    "# mg.SetMinimum(0.)\n",
    "# mg.SetMaximum(16.)\n",
    "mg.GetXaxis().SetTickLength(ticklength)\n",
    "mg.GetYaxis().SetTickLength(ticklength)\n",
    "mg.GetXaxis().SetTitleSize(titlesize)\n",
    "mg.GetYaxis().SetTitleSize(titlesize)\n",
    "mg.GetXaxis().SetLabelSize(labelsize)\n",
    "mg.GetYaxis().SetLabelSize(labelsize)\n",
    "mg.GetXaxis().CenterTitle()\n",
    "mg.GetYaxis().CenterTitle()\n",
    "mg.GetXaxis().SetTitleOffset(titleoffset)\n",
    "mg.GetYaxis().SetTitleOffset(titleoffset)\n",
    "mg.GetXaxis().SetLabelOffset(labeloffset)\n",
    "mg.GetYaxis().SetLabelOffset(labeloffset)\n",
    "\n",
    "stats1 = gr.GetListOfFunctions().FindObject(\"stats\")\n",
    "# stats2 = gr[1].GetListOfFunctions().FindObject(\"stats\")\n",
    "stats1.SetTextColor(palette['blue'].GetNumber())\n",
    "# stats2.SetTextColor(palette['red'].GetNumber())\n",
    "stats1.SetX2NDC(1-c2.GetRightMargin()); stats1.SetX1NDC(stats1.GetX2NDC()-0.4)\n",
    "stats1.SetY2NDC(1-c2.GetTopMargin()-0.016); stats1.SetY1NDC(stats1.GetY2NDC()-0.12)\n",
    "# stats2.SetX2NDC(stats1.GetX2NDC()); stats2.SetX1NDC(stats1.GetX1NDC())\n",
    "# stats2.SetY2NDC(stats1.GetY1NDC()); stats2.SetY1NDC(stats2.GetY2NDC()-0.12)\n",
    "stats1.SetTextSize(labelsize)\n",
    "# stats2.SetTextSize(labelsize)\n",
    "stats1.SetBorderSize(0)\n",
    "# stats2.SetBorderSize(0)\n",
    "\n",
    "# add legend\n",
    "x1 = c2.GetLeftMargin() + 0.03\n",
    "x2 = x1 + 0.25\n",
    "y2 = 1 - c2.GetTopMargin() - 0.03 - 0.01\n",
    "y1 = y2 - 0.08\n",
    "legend = ROOT.TLegend(x1, y1, x2, y2)\n",
    "legend.SetFillColor(0)\n",
    "legend.SetBorderSize(0)\n",
    "legend.SetTextSize(labelsize)\n",
    "legend.AddEntry(gr, \"electron\", \"p\")\n",
    "# legend.AddEntry(gr[1], \"pion\", \"p\")\n",
    "legend.Draw()\n",
    "\n",
    "c2.Modified()\n",
    "c2.Print(\"energyres.png\")\n",
    "c2.Draw()"
   ]
  },
  {
   "cell_type": "code",
   "execution_count": 71,
   "metadata": {},
   "outputs": [
    {
     "data": {
      "text/plain": [
       "(array([24946.6309341 ,  1404.45580374,  1035.06862257, ...,\n",
       "         1371.90180059,  8863.42131498,  6544.48131989]),\n",
       " array([21408.33540089,   924.50801965,  1100.24599705, ...,\n",
       "         1546.25015299,  9001.60140181,  6665.59402163]))"
      ]
     },
     "execution_count": 71,
     "metadata": {},
     "output_type": "execute_result"
    }
   ],
   "source": [
    "z_pred, z_test"
   ]
  },
  {
   "cell_type": "code",
   "execution_count": 112,
   "metadata": {},
   "outputs": [
    {
     "name": "stdout",
     "output_type": "stream",
     "text": [
      "1006\n"
     ]
    },
    {
     "data": {
      "text/plain": [
       "(array([  1.,   0.,   1.,   0.,   0.,   1.,   0.,   0.,   0.,   0.,   0.,\n",
       "          1.,   1.,   1.,   0.,   0.,   0.,   2.,   1.,   0.,   2.,   1.,\n",
       "          0.,   0.,   0.,   0.,   0.,   0.,   2.,   1.,   1.,   3.,   5.,\n",
       "          2.,   4.,   2.,   1.,   7.,  18.,  61., 181., 466., 215.,  19.,\n",
       "          3.,   1.,   0.,   1.,   0.,   1.]),\n",
       " array([-10009.72150301,  -9769.20929351,  -9528.69708401,  -9288.1848745 ,\n",
       "         -9047.672665  ,  -8807.1604555 ,  -8566.648246  ,  -8326.1360365 ,\n",
       "         -8085.62382699,  -7845.11161749,  -7604.59940799,  -7364.08719849,\n",
       "         -7123.57498899,  -6883.06277948,  -6642.55056998,  -6402.03836048,\n",
       "         -6161.52615098,  -5921.01394148,  -5680.50173197,  -5439.98952247,\n",
       "         -5199.47731297,  -4958.96510347,  -4718.45289397,  -4477.94068446,\n",
       "         -4237.42847496,  -3996.91626546,  -3756.40405596,  -3515.89184646,\n",
       "         -3275.37963695,  -3034.86742745,  -2794.35521795,  -2553.84300845,\n",
       "         -2313.33079895,  -2072.81858944,  -1832.30637994,  -1591.79417044,\n",
       "         -1351.28196094,  -1110.76975144,   -870.25754193,   -629.74533243,\n",
       "          -389.23312293,   -148.72091343,     91.79129607,    332.30350558,\n",
       "           572.81571508,    813.32792458,   1053.84013408,   1294.35234358,\n",
       "          1534.86455309,   1775.37676259,   2015.88897209]),\n",
       " <a list of 50 Patch objects>)"
      ]
     },
     "execution_count": 112,
     "metadata": {},
     "output_type": "execute_result"
    },
    {
     "data": {
      "image/png": "[encoded data removed]",
      "text/plain": [
       "<Figure size 432x288 with 1 Axes>"
      ]
     },
     "metadata": {
      "needs_background": "light"
     },
     "output_type": "display_data"
    }
   ],
   "source": [
    "cond = np.bitwise_and(z_test > 1000, z_test < 2000)\n",
    "z_test[cond]\n",
    "print(len(z_test[cond]))\n",
    "plt.hist(z_test[cond] - z_pred[cond], bins=50)"
   ]
  },
  {
   "cell_type": "code",
   "execution_count": 73,
   "metadata": {},
   "outputs": [
    {
     "data": {
      "text/plain": [
       "0.19300961070466618"
      ]
     },
     "execution_count": 73,
     "metadata": {},
     "output_type": "execute_result"
    }
   ],
   "source": [
    "np.mean(np.abs(z_test - z_pred) / z_test)"
   ]
  },
  {
   "cell_type": "code",
   "execution_count": 74,
   "metadata": {},
   "outputs": [
    {
     "data": {
      "text/plain": [
       "<matplotlib.axes._subplots.AxesSubplot at 0x7f87c91d2f60>"
      ]
     },
     "execution_count": 74,
     "metadata": {},
     "output_type": "execute_result"
    },
    {
     "data": {
      "image/png": "[encoded data removed]",
      "text/plain": [
       "<Figure size 432x288 with 1 Axes>"
      ]
     },
     "metadata": {
      "needs_background": "light"
     },
     "output_type": "display_data"
    }
   ],
   "source": [
    "lgb.plot_importance(bst)"
   ]
  },
  {
   "cell_type": "code",
   "execution_count": 29,
   "metadata": {},
   "outputs": [
    {
     "ename": "ImportError",
     "evalue": "cannot import name 'Digraph'",
     "output_type": "error",
     "traceback": [
      "\u001b[0;31m---------------------------------------------------------------------------\u001b[0m",
      "\u001b[0;31mImportError\u001b[0m                               Traceback (most recent call last)",
      "\u001b[0;32m<ipython-input-29-ee95fd7246c2>\u001b[0m in \u001b[0;36m<module>\u001b[0;34m\u001b[0m\n\u001b[0;32m----> 1\u001b[0;31m \u001b[0mlgb\u001b[0m\u001b[0;34m.\u001b[0m\u001b[0mplot_tree\u001b[0m\u001b[0;34m(\u001b[0m\u001b[0mbst\u001b[0m\u001b[0;34m)\u001b[0m\u001b[0;34m\u001b[0m\u001b[0m\n\u001b[0m",
      "\u001b[0;32m~/.local/lib/python3.6/site-packages/lightgbm/plotting.py\u001b[0m in \u001b[0;36mplot_tree\u001b[0;34m(booster, ax, tree_index, figsize, dpi, old_graph_attr, old_node_attr, old_edge_attr, show_info, precision, **kwargs)\u001b[0m\n\u001b[1;32m    606\u001b[0m \u001b[0;34m\u001b[0m\u001b[0m\n\u001b[1;32m    607\u001b[0m     graph = create_tree_digraph(booster=booster, tree_index=tree_index,\n\u001b[0;32m--> 608\u001b[0;31m                                 show_info=show_info, precision=precision, **kwargs)\n\u001b[0m\u001b[1;32m    609\u001b[0m \u001b[0;34m\u001b[0m\u001b[0m\n\u001b[1;32m    610\u001b[0m     \u001b[0ms\u001b[0m \u001b[0;34m=\u001b[0m \u001b[0mBytesIO\u001b[0m\u001b[0;34m(\u001b[0m\u001b[0;34m)\u001b[0m\u001b[0;34m\u001b[0m\u001b[0m\n",
      "\u001b[0;32m~/.local/lib/python3.6/site-packages/lightgbm/plotting.py\u001b[0m in \u001b[0;36mcreate_tree_digraph\u001b[0;34m(booster, tree_index, show_info, precision, old_name, old_comment, old_filename, old_directory, old_format, old_engine, old_encoding, old_graph_attr, old_node_attr, old_edge_attr, old_body, old_strict, **kwargs)\u001b[0m\n\u001b[1;32m    541\u001b[0m         \u001b[0mshow_info\u001b[0m \u001b[0;34m=\u001b[0m \u001b[0;34m[\u001b[0m\u001b[0;34m]\u001b[0m\u001b[0;34m\u001b[0m\u001b[0m\n\u001b[1;32m    542\u001b[0m \u001b[0;34m\u001b[0m\u001b[0m\n\u001b[0;32m--> 543\u001b[0;31m     \u001b[0mgraph\u001b[0m \u001b[0;34m=\u001b[0m \u001b[0m_to_graphviz\u001b[0m\u001b[0;34m(\u001b[0m\u001b[0mtree_info\u001b[0m\u001b[0;34m,\u001b[0m \u001b[0mshow_info\u001b[0m\u001b[0;34m,\u001b[0m \u001b[0mfeature_names\u001b[0m\u001b[0;34m,\u001b[0m \u001b[0mprecision\u001b[0m\u001b[0;34m,\u001b[0m \u001b[0mmonotone_constraints\u001b[0m\u001b[0;34m,\u001b[0m \u001b[0;34m**\u001b[0m\u001b[0mkwargs\u001b[0m\u001b[0;34m)\u001b[0m\u001b[0;34m\u001b[0m\u001b[0m\n\u001b[0m\u001b[1;32m    544\u001b[0m \u001b[0;34m\u001b[0m\u001b[0m\n\u001b[1;32m    545\u001b[0m     \u001b[0;32mreturn\u001b[0m \u001b[0mgraph\u001b[0m\u001b[0;34m\u001b[0m\u001b[0m\n",
      "\u001b[0;32m~/.local/lib/python3.6/site-packages/lightgbm/plotting.py\u001b[0m in \u001b[0;36m_to_graphviz\u001b[0;34m(tree_info, show_info, feature_names, precision, constraints, **kwargs)\u001b[0m\n\u001b[1;32m    382\u001b[0m     \"\"\"\n\u001b[1;32m    383\u001b[0m     \u001b[0;32mif\u001b[0m \u001b[0mGRAPHVIZ_INSTALLED\u001b[0m\u001b[0;34m:\u001b[0m\u001b[0;34m\u001b[0m\u001b[0m\n\u001b[0;32m--> 384\u001b[0;31m         \u001b[0;32mfrom\u001b[0m \u001b[0mgraphviz\u001b[0m \u001b[0;32mimport\u001b[0m \u001b[0mDigraph\u001b[0m\u001b[0;34m\u001b[0m\u001b[0m\n\u001b[0m\u001b[1;32m    385\u001b[0m     \u001b[0;32melse\u001b[0m\u001b[0;34m:\u001b[0m\u001b[0;34m\u001b[0m\u001b[0m\n\u001b[1;32m    386\u001b[0m         \u001b[0;32mraise\u001b[0m \u001b[0mImportError\u001b[0m\u001b[0;34m(\u001b[0m\u001b[0;34m'You must install graphviz to plot tree.'\u001b[0m\u001b[0;34m)\u001b[0m\u001b[0;34m\u001b[0m\u001b[0m\n",
      "\u001b[0;31mImportError\u001b[0m: cannot import name 'Digraph'"
     ]
    },
    {
     "data": {
      "image/png": "[encoded data removed]",
      "text/plain": [
       "<Figure size 432x288 with 1 Axes>"
      ]
     },
     "metadata": {
      "needs_background": "light"
     },
     "output_type": "display_data"
    }
   ],
   "source": [
    "lgb.plot_tree(bst)"
   ]
  },
  {
   "cell_type": "markdown",
   "metadata": {},
   "source": [
    "## Decay classification"
   ]
  },
  {
   "cell_type": "code",
   "execution_count": 47,
   "metadata": {},
   "outputs": [],
   "source": [
    "def decayClassification(x):\n",
    "    counts = x.predictedLabel.value_counts()\n",
    "    mode = np.nan\n",
    "    if 0 in counts.keys():\n",
    "        mode = 0\n",
    "    elif 1 in counts.keys():\n",
    "        mode = 1\n",
    "    elif 3 in counts.keys():\n",
    "        mode = 2\n",
    "        if 2 in counts.keys():\n",
    "            if counts[2] == 2:\n",
    "                mode = 3\n",
    "            elif counts[2] == 4:\n",
    "                mode = 4\n",
    "    x['predictedPrimaryDecayMode'] = mode\n",
    "    return x"
   ]
  },
  {
   "cell_type": "code",
   "execution_count": 130,
   "metadata": {},
   "outputs": [],
   "source": [
    "def decayClassification(x):\n",
    "    global count_nans\n",
    "    counts = x.predictedLabel.value_counts()\n",
    "    mode = np.nan\n",
    "    if 0 in counts.keys(): # and (3 not in counts.index):\n",
    "        mode = 0\n",
    "    elif 1 in counts.keys(): # and (3 not in counts.index):\n",
    "        mode = 1\n",
    "    elif 3 in counts.keys():\n",
    "        mode = 2\n",
    "        if 2 in counts.keys():\n",
    "            if counts[2] in [1, 2]:\n",
    "                mode = 3\n",
    "            elif counts[2] in [3, 4]:\n",
    "                mode = 4\n",
    "    elif 2 in counts.keys():\n",
    "        mode = 5\n",
    "    x['predictedPrimaryDecayMode'] = mode\n",
    "    return x"
   ]
  },
  {
   "cell_type": "code",
   "execution_count": 131,
   "metadata": {
    "scrolled": true
   },
   "outputs": [],
   "source": [
    "df_merged2 = df_merged.groupby('eventId').apply(decayClassification)"
   ]
  },
  {
   "cell_type": "code",
   "execution_count": 132,
   "metadata": {},
   "outputs": [
    {
     "data": {
      "text/plain": [
       "0"
      ]
     },
     "execution_count": 132,
     "metadata": {},
     "output_type": "execute_result"
    }
   ],
   "source": [
    "df_merged2.predictedPrimaryDecayMode.isna().sum()"
   ]
  },
  {
   "cell_type": "code",
   "execution_count": 139,
   "metadata": {},
   "outputs": [
    {
     "name": "stdout",
     "output_type": "stream",
     "text": [
      "Predicted    0    1    2     3     4     5\n",
      "Actual                                    \n",
      "0          542    5    8     0     0     0\n",
      "1            6  292   88     0     0     0\n",
      "2           11   22  421     0     0     0\n",
      "3           15  111    0  1935     0   731\n",
      "4           56  211    0    45  3025  1904\n"
     ]
    }
   ],
   "source": [
    "confusion_matrix = pd.crosstab(df_merged2.PrimaryDecayMode, \n",
    "                               df_merged2.predictedPrimaryDecayMode, \n",
    "                               rownames=['Actual'], colnames=['Predicted'])\n",
    "print(confusion_matrix)"
   ]
  },
  {
   "cell_type": "code",
   "execution_count": 140,
   "metadata": {},
   "outputs": [],
   "source": [
    "assert np.sum(confusion_matrix.values) == df_merged2.shape[0]"
   ]
  },
  {
   "cell_type": "code",
   "execution_count": null,
   "metadata": {},
   "outputs": [],
   "source": []
  }
 ],
 "metadata": {
  "environment": {
   "name": "tf2-gpu.2-1.m46",
   "type": "gcloud",
   "uri": "gcr.io/deeplearning-platform-release/tf2-gpu.2-1:m46"
  },
  "kernelspec": {
   "display_name": "Python 3",
   "language": "python",
   "name": "python3"
  },
  "language_info": {
   "codemirror_mode": {
    "name": "ipython",
    "version": 3
   },
   "file_extension": ".py",
   "mimetype": "text/x-python",
   "name": "python",
   "nbconvert_exporter": "python",
   "pygments_lexer": "ipython3",
   "version": "3.6.5"
  }
 },
 "nbformat": 4,
 "nbformat_minor": 4
}
