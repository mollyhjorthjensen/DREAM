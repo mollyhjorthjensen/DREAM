{
 "cells": [
  {
   "cell_type": "code",
   "execution_count": 3,
   "metadata": {},
   "outputs": [],
   "source": [
    "import os\n",
    "import numpy as np\n",
    "import pandas as pd\n",
    "from sklearn.model_selection import train_test_split\n",
    "from sklearn.metrics import confusion_matrix\n",
    "import matplotlib.pyplot as plt\n",
    "import lightgbm as lgb"
   ]
  },
  {
   "cell_type": "code",
   "execution_count": 5,
   "metadata": {},
   "outputs": [
    {
     "name": "stdout",
     "output_type": "stream",
     "text": [
      "(138, 13)\n"
     ]
    },
    {
     "data": {
      "text/html": [
       "<div>\n",
       "<style scoped>\n",
       "    .dataframe tbody tr th:only-of-type {\n",
       "        vertical-align: middle;\n",
       "    }\n",
       "\n",
       "    .dataframe tbody tr th {\n",
       "        vertical-align: top;\n",
       "    }\n",
       "\n",
       "    .dataframe thead th {\n",
       "        text-align: right;\n",
       "    }\n",
       "</style>\n",
       "<table border=\"1\" class=\"dataframe\">\n",
       "  <thead>\n",
       "    <tr style=\"text-align: right;\">\n",
       "      <th></th>\n",
       "      <th>eventId</th>\n",
       "      <th>clusterId</th>\n",
       "      <th>PrimaryDecayMode</th>\n",
       "      <th>VecShowerEnergy</th>\n",
       "      <th>S_sum</th>\n",
       "      <th>C_sum</th>\n",
       "      <th>S_rad_mean</th>\n",
       "      <th>C_rad_mean</th>\n",
       "      <th>S_hot</th>\n",
       "      <th>C_hot</th>\n",
       "      <th>CoverS</th>\n",
       "      <th>dist2charge</th>\n",
       "      <th>label</th>\n",
       "    </tr>\n",
       "  </thead>\n",
       "  <tbody>\n",
       "    <tr>\n",
       "      <th>0</th>\n",
       "      <td>0</td>\n",
       "      <td>0</td>\n",
       "      <td>0</td>\n",
       "      <td>31313.811557</td>\n",
       "      <td>27515.9650</td>\n",
       "      <td>30114.676</td>\n",
       "      <td>2.837071</td>\n",
       "      <td>2.049820</td>\n",
       "      <td>0.110429</td>\n",
       "      <td>0.228488</td>\n",
       "      <td>1.094444</td>\n",
       "      <td>0.0</td>\n",
       "      <td>0</td>\n",
       "    </tr>\n",
       "    <tr>\n",
       "      <th>1</th>\n",
       "      <td>1</td>\n",
       "      <td>1</td>\n",
       "      <td>1</td>\n",
       "      <td>22119.663201</td>\n",
       "      <td>2722.9253</td>\n",
       "      <td>NaN</td>\n",
       "      <td>3.355176</td>\n",
       "      <td>NaN</td>\n",
       "      <td>0.165529</td>\n",
       "      <td>NaN</td>\n",
       "      <td>NaN</td>\n",
       "      <td>0.0</td>\n",
       "      <td>1</td>\n",
       "    </tr>\n",
       "    <tr>\n",
       "      <th>2</th>\n",
       "      <td>2</td>\n",
       "      <td>2</td>\n",
       "      <td>3</td>\n",
       "      <td>7815.112261</td>\n",
       "      <td>7369.4688</td>\n",
       "      <td>6288.264</td>\n",
       "      <td>2.286271</td>\n",
       "      <td>2.166214</td>\n",
       "      <td>0.086934</td>\n",
       "      <td>0.104079</td>\n",
       "      <td>0.853286</td>\n",
       "      <td>NaN</td>\n",
       "      <td>2</td>\n",
       "    </tr>\n",
       "    <tr>\n",
       "      <th>3</th>\n",
       "      <td>2</td>\n",
       "      <td>3</td>\n",
       "      <td>3</td>\n",
       "      <td>2634.673219</td>\n",
       "      <td>2338.2720</td>\n",
       "      <td>2582.522</td>\n",
       "      <td>1.868708</td>\n",
       "      <td>1.387169</td>\n",
       "      <td>0.185439</td>\n",
       "      <td>0.253425</td>\n",
       "      <td>1.104457</td>\n",
       "      <td>NaN</td>\n",
       "      <td>2</td>\n",
       "    </tr>\n",
       "    <tr>\n",
       "      <th>4</th>\n",
       "      <td>4</td>\n",
       "      <td>6</td>\n",
       "      <td>2</td>\n",
       "      <td>27610.212415</td>\n",
       "      <td>14253.6210</td>\n",
       "      <td>11683.265</td>\n",
       "      <td>8.165252</td>\n",
       "      <td>4.762796</td>\n",
       "      <td>0.049337</td>\n",
       "      <td>0.059803</td>\n",
       "      <td>0.819670</td>\n",
       "      <td>0.0</td>\n",
       "      <td>3</td>\n",
       "    </tr>\n",
       "  </tbody>\n",
       "</table>\n",
       "</div>"
      ],
      "text/plain": [
       "   eventId  clusterId  PrimaryDecayMode  VecShowerEnergy       S_sum  \\\n",
       "0        0          0                 0     31313.811557  27515.9650   \n",
       "1        1          1                 1     22119.663201   2722.9253   \n",
       "2        2          2                 3      7815.112261   7369.4688   \n",
       "3        2          3                 3      2634.673219   2338.2720   \n",
       "4        4          6                 2     27610.212415  14253.6210   \n",
       "\n",
       "       C_sum  S_rad_mean  C_rad_mean     S_hot     C_hot    CoverS  \\\n",
       "0  30114.676    2.837071    2.049820  0.110429  0.228488  1.094444   \n",
       "1        NaN    3.355176         NaN  0.165529       NaN       NaN   \n",
       "2   6288.264    2.286271    2.166214  0.086934  0.104079  0.853286   \n",
       "3   2582.522    1.868708    1.387169  0.185439  0.253425  1.104457   \n",
       "4  11683.265    8.165252    4.762796  0.049337  0.059803  0.819670   \n",
       "\n",
       "   dist2charge  label  \n",
       "0          0.0      0  \n",
       "1          0.0      1  \n",
       "2          NaN      2  \n",
       "3          NaN      2  \n",
       "4          0.0      3  "
      ]
     },
     "execution_count": 5,
     "metadata": {},
     "output_type": "execute_result"
    }
   ],
   "source": [
    "DATA_DIR = '/home/jupyter/DREAM'\n",
    "df = pd.read_csv(os.path.join(DATA_DIR, 'data.csv'))\n",
    "print(df.shape)\n",
    "df.head()"
   ]
  },
  {
   "cell_type": "code",
   "execution_count": 6,
   "metadata": {},
   "outputs": [
    {
     "name": "stdout",
     "output_type": "stream",
     "text": [
      "(96,) (42,)\n"
     ]
    }
   ],
   "source": [
    "# train test split by eventId!\n",
    "id_train, id_test = train_test_split(df.eventId.values,\n",
    "                                     test_size=0.3, \n",
    "                                     random_state=42,\n",
    "                                     stratify=df.PrimaryDecayMode.values)\n",
    "print(id_train.shape, id_test.shape)"
   ]
  },
  {
   "cell_type": "code",
   "execution_count": 7,
   "metadata": {},
   "outputs": [],
   "source": [
    "excl_columns = ['PrimaryDecayMode', 'clusterId', 'VecShowerEnergy', 'label']\n",
    "\n",
    "# train dataset\n",
    "df_train = df[df.eventId.isin(id_train)].drop(['eventId'], axis=1)\n",
    "y_train = df_train.label.values\n",
    "z_train = df_train.VecShowerEnergy.values\n",
    "df_train.drop(excl_columns, inplace=True, axis=1)\n",
    "X_train = df_train.values\n",
    "train_data = lgb.Dataset(X_train, label=y_train)\n",
    "\n",
    "# test data set\n",
    "df_test = df[df.eventId.isin(id_test)].drop(['eventId'], axis=1)\n",
    "y_test = df_test.label.values\n",
    "z_test = df_test.VecShowerEnergy.values\n",
    "id_test = df_test.clusterId.values.reshape([-1,1])\n",
    "df_test.drop(excl_columns, inplace=True, axis=1)\n",
    "X_test = df_test.values\n",
    "test_data = lgb.Dataset(X_test, label=y_test)"
   ]
  },
  {
   "cell_type": "markdown",
   "metadata": {},
   "source": [
    "### Plot features"
   ]
  },
  {
   "cell_type": "code",
   "execution_count": 10,
   "metadata": {},
   "outputs": [],
   "source": [
    "# xtitle = df_train.columns\n",
    "# fig, ax = plt.subplots(4, 2, figsize=(8,12))\n",
    "# for i in range(X_train.shape[1]):\n",
    "#     for j in np.unique(y_train):\n",
    "#         h = ax[i//2][i%2].hist(X_train[:,i][y_train==j], histtype='step')\n",
    "#         ax[i//2][i%2].set_xlabel(xtitle[i])\n",
    "#         ax[i//2][i%2].set_ylabel(f\"Events\") # / {binwidth}\")"
   ]
  },
  {
   "cell_type": "markdown",
   "metadata": {},
   "source": [
    "# Classification"
   ]
  },
  {
   "cell_type": "markdown",
   "metadata": {},
   "source": [
    "(Boosted) decision trees 'unaffected' by feature scaling"
   ]
  },
  {
   "cell_type": "markdown",
   "metadata": {},
   "source": [
    "### Training"
   ]
  },
  {
   "cell_type": "code",
   "execution_count": 17,
   "metadata": {},
   "outputs": [],
   "source": [
    "params = {\n",
    "    'num_class': 4,\n",
    "    'application': 'multiclass',\n",
    "    'objective': 'multiclass',\n",
    "    'metric': 'multi_logloss',\n",
    "    'num_leaves': [15, 31]\n",
    "}"
   ]
  },
  {
   "cell_type": "code",
   "execution_count": 18,
   "metadata": {},
   "outputs": [
    {
     "ename": "LightGBMError",
     "evalue": "Parameter num_leaves should be of type int, got \"15,31\"",
     "output_type": "error",
     "traceback": [
      "\u001b[0;31m---------------------------------------------------------------------------\u001b[0m",
      "\u001b[0;31mLightGBMError\u001b[0m                             Traceback (most recent call last)",
      "\u001b[0;32m<ipython-input-18-2eae31dac558>\u001b[0m in \u001b[0;36m<module>\u001b[0;34m\u001b[0m\n\u001b[1;32m      3\u001b[0m                        \u001b[0mnum_boost_round\u001b[0m\u001b[0;34m=\u001b[0m\u001b[0;36m500\u001b[0m\u001b[0;34m,\u001b[0m\u001b[0;34m\u001b[0m\u001b[0;34m\u001b[0m\u001b[0m\n\u001b[1;32m      4\u001b[0m                        \u001b[0mearly_stopping_rounds\u001b[0m\u001b[0;34m=\u001b[0m\u001b[0;36m20\u001b[0m\u001b[0;34m,\u001b[0m\u001b[0;34m\u001b[0m\u001b[0;34m\u001b[0m\u001b[0m\n\u001b[0;32m----> 5\u001b[0;31m                        verbose_eval=1)\n\u001b[0m",
      "\u001b[0;32m/opt/conda/lib/python3.7/site-packages/lightgbm/engine.py\u001b[0m in \u001b[0;36mcv\u001b[0;34m(params, train_set, num_boost_round, folds, nfold, stratified, shuffle, metrics, fobj, feval, init_model, feature_name, categorical_feature, early_stopping_rounds, fpreproc, verbose_eval, show_stdv, seed, callbacks, eval_train_metric)\u001b[0m\n\u001b[1;32m    519\u001b[0m     \u001b[0;32melse\u001b[0m\u001b[0;34m:\u001b[0m\u001b[0;34m\u001b[0m\u001b[0;34m\u001b[0m\u001b[0m\n\u001b[1;32m    520\u001b[0m         \u001b[0mpredictor\u001b[0m \u001b[0;34m=\u001b[0m \u001b[0;32mNone\u001b[0m\u001b[0;34m\u001b[0m\u001b[0;34m\u001b[0m\u001b[0m\n\u001b[0;32m--> 521\u001b[0;31m     \u001b[0mtrain_set\u001b[0m\u001b[0;34m.\u001b[0m\u001b[0m_update_params\u001b[0m\u001b[0;34m(\u001b[0m\u001b[0mparams\u001b[0m\u001b[0;34m)\u001b[0m\u001b[0;31m \u001b[0m\u001b[0;31m\\\u001b[0m\u001b[0;34m\u001b[0m\u001b[0;34m\u001b[0m\u001b[0m\n\u001b[0m\u001b[1;32m    522\u001b[0m              \u001b[0;34m.\u001b[0m\u001b[0m_set_predictor\u001b[0m\u001b[0;34m(\u001b[0m\u001b[0mpredictor\u001b[0m\u001b[0;34m)\u001b[0m\u001b[0;31m \u001b[0m\u001b[0;31m\\\u001b[0m\u001b[0;34m\u001b[0m\u001b[0;34m\u001b[0m\u001b[0m\n\u001b[1;32m    523\u001b[0m              \u001b[0;34m.\u001b[0m\u001b[0mset_feature_name\u001b[0m\u001b[0;34m(\u001b[0m\u001b[0mfeature_name\u001b[0m\u001b[0;34m)\u001b[0m\u001b[0;31m \u001b[0m\u001b[0;31m\\\u001b[0m\u001b[0;34m\u001b[0m\u001b[0;34m\u001b[0m\u001b[0m\n",
      "\u001b[0;32m/opt/conda/lib/python3.7/site-packages/lightgbm/basic.py\u001b[0m in \u001b[0;36m_update_params\u001b[0;34m(self, params)\u001b[0m\n\u001b[1;32m   1167\u001b[0m     \u001b[0;32mdef\u001b[0m \u001b[0m_update_params\u001b[0m\u001b[0;34m(\u001b[0m\u001b[0mself\u001b[0m\u001b[0;34m,\u001b[0m \u001b[0mparams\u001b[0m\u001b[0;34m)\u001b[0m\u001b[0;34m:\u001b[0m\u001b[0;34m\u001b[0m\u001b[0;34m\u001b[0m\u001b[0m\n\u001b[1;32m   1168\u001b[0m         \u001b[0;32mif\u001b[0m \u001b[0mself\u001b[0m\u001b[0;34m.\u001b[0m\u001b[0mhandle\u001b[0m \u001b[0;32mis\u001b[0m \u001b[0;32mnot\u001b[0m \u001b[0;32mNone\u001b[0m \u001b[0;32mand\u001b[0m \u001b[0mparams\u001b[0m \u001b[0;32mis\u001b[0m \u001b[0;32mnot\u001b[0m \u001b[0;32mNone\u001b[0m\u001b[0;34m:\u001b[0m\u001b[0;34m\u001b[0m\u001b[0;34m\u001b[0m\u001b[0m\n\u001b[0;32m-> 1169\u001b[0;31m             \u001b[0m_safe_call\u001b[0m\u001b[0;34m(\u001b[0m\u001b[0m_LIB\u001b[0m\u001b[0;34m.\u001b[0m\u001b[0mLGBM_DatasetUpdateParam\u001b[0m\u001b[0;34m(\u001b[0m\u001b[0mself\u001b[0m\u001b[0;34m.\u001b[0m\u001b[0mhandle\u001b[0m\u001b[0;34m,\u001b[0m \u001b[0mc_str\u001b[0m\u001b[0;34m(\u001b[0m\u001b[0mparam_dict_to_str\u001b[0m\u001b[0;34m(\u001b[0m\u001b[0mparams\u001b[0m\u001b[0;34m)\u001b[0m\u001b[0;34m)\u001b[0m\u001b[0;34m)\u001b[0m\u001b[0;34m)\u001b[0m\u001b[0;34m\u001b[0m\u001b[0;34m\u001b[0m\u001b[0m\n\u001b[0m\u001b[1;32m   1170\u001b[0m         \u001b[0;32mif\u001b[0m \u001b[0;32mnot\u001b[0m \u001b[0mself\u001b[0m\u001b[0;34m.\u001b[0m\u001b[0mparams\u001b[0m\u001b[0;34m:\u001b[0m\u001b[0;34m\u001b[0m\u001b[0;34m\u001b[0m\u001b[0m\n\u001b[1;32m   1171\u001b[0m             \u001b[0mself\u001b[0m\u001b[0;34m.\u001b[0m\u001b[0mparams\u001b[0m \u001b[0;34m=\u001b[0m \u001b[0mcopy\u001b[0m\u001b[0;34m.\u001b[0m\u001b[0mdeepcopy\u001b[0m\u001b[0;34m(\u001b[0m\u001b[0mparams\u001b[0m\u001b[0;34m)\u001b[0m\u001b[0;34m\u001b[0m\u001b[0;34m\u001b[0m\u001b[0m\n",
      "\u001b[0;32m/opt/conda/lib/python3.7/site-packages/lightgbm/basic.py\u001b[0m in \u001b[0;36m_safe_call\u001b[0;34m(ret)\u001b[0m\n\u001b[1;32m     43\u001b[0m     \"\"\"\n\u001b[1;32m     44\u001b[0m     \u001b[0;32mif\u001b[0m \u001b[0mret\u001b[0m \u001b[0;34m!=\u001b[0m \u001b[0;36m0\u001b[0m\u001b[0;34m:\u001b[0m\u001b[0;34m\u001b[0m\u001b[0;34m\u001b[0m\u001b[0m\n\u001b[0;32m---> 45\u001b[0;31m         \u001b[0;32mraise\u001b[0m \u001b[0mLightGBMError\u001b[0m\u001b[0;34m(\u001b[0m\u001b[0mdecode_string\u001b[0m\u001b[0;34m(\u001b[0m\u001b[0m_LIB\u001b[0m\u001b[0;34m.\u001b[0m\u001b[0mLGBM_GetLastError\u001b[0m\u001b[0;34m(\u001b[0m\u001b[0;34m)\u001b[0m\u001b[0;34m)\u001b[0m\u001b[0;34m)\u001b[0m\u001b[0;34m\u001b[0m\u001b[0;34m\u001b[0m\u001b[0m\n\u001b[0m\u001b[1;32m     46\u001b[0m \u001b[0;34m\u001b[0m\u001b[0m\n\u001b[1;32m     47\u001b[0m \u001b[0;34m\u001b[0m\u001b[0m\n",
      "\u001b[0;31mLightGBMError\u001b[0m: Parameter num_leaves should be of type int, got \"15,31\""
     ]
    }
   ],
   "source": [
    "cv_result_lgb = lgb.cv(params,\n",
    "                       train_data,\n",
    "                       num_boost_round=500,\n",
    "                       early_stopping_rounds=20,\n",
    "                       verbose_eval=1)"
   ]
  },
  {
   "cell_type": "code",
   "execution_count": 16,
   "metadata": {},
   "outputs": [
    {
     "data": {
      "text/plain": [
       "{'multi_logloss-mean': [0.9284776420252975,\n",
       "  0.8564313519727802,\n",
       "  0.7972013590115125,\n",
       "  0.7447093702571576,\n",
       "  0.6991945199692097,\n",
       "  0.6581018780041115,\n",
       "  0.6213252671415194,\n",
       "  0.5892546965529647,\n",
       "  0.5603987633320238,\n",
       "  0.5327267239491723,\n",
       "  0.5073869389818829,\n",
       "  0.4859987141975185,\n",
       "  0.4650393417843321,\n",
       "  0.44597545280754874,\n",
       "  0.42669906836073246,\n",
       "  0.41087067326016397,\n",
       "  0.3952066150267491,\n",
       "  0.38196334030146684,\n",
       "  0.36854722999742584,\n",
       "  0.357794621409008,\n",
       "  0.3478381021171591,\n",
       "  0.3391471548734564,\n",
       "  0.33206122042449093,\n",
       "  0.32350559230023407,\n",
       "  0.3167358570873281,\n",
       "  0.3126235267122798,\n",
       "  0.30686423969353765,\n",
       "  0.30241862264224756,\n",
       "  0.2999917002885145,\n",
       "  0.29639105887992984,\n",
       "  0.294093568439395,\n",
       "  0.29093249804616916,\n",
       "  0.2895357850930946,\n",
       "  0.28813000223586827,\n",
       "  0.28653389093927095,\n",
       "  0.2854013928737992,\n",
       "  0.2820408477909185],\n",
       " 'multi_logloss-stdv': [0.057235396693610864,\n",
       "  0.05649985680525976,\n",
       "  0.060777508344323224,\n",
       "  0.060035042860987986,\n",
       "  0.06425117508708601,\n",
       "  0.06753701651176093,\n",
       "  0.06883287349325765,\n",
       "  0.073859543404136,\n",
       "  0.07552810747570281,\n",
       "  0.07661584279225797,\n",
       "  0.07809300634695744,\n",
       "  0.07951045802609046,\n",
       "  0.08268305239045427,\n",
       "  0.08373732577789532,\n",
       "  0.08564766423781967,\n",
       "  0.08772995019926141,\n",
       "  0.08832286778736002,\n",
       "  0.08839550900718614,\n",
       "  0.08669185934212012,\n",
       "  0.0861793257051043,\n",
       "  0.08786849953778957,\n",
       "  0.08613479062193172,\n",
       "  0.0884796440551187,\n",
       "  0.08863712662885664,\n",
       "  0.08791851606765128,\n",
       "  0.08871424757783256,\n",
       "  0.0898939392466494,\n",
       "  0.08933688091461897,\n",
       "  0.09152801815857001,\n",
       "  0.09212728475665634,\n",
       "  0.09497918342547584,\n",
       "  0.09527757613552533,\n",
       "  0.09615539288275265,\n",
       "  0.0971248540093363,\n",
       "  0.09704723644188856,\n",
       "  0.0980146900229045,\n",
       "  0.09859845958608003]}"
      ]
     },
     "execution_count": 16,
     "metadata": {},
     "output_type": "execute_result"
    }
   ],
   "source": [
    "cv_result_lgb"
   ]
  },
  {
   "cell_type": "markdown",
   "metadata": {},
   "source": [
    "### Testing"
   ]
  },
  {
   "cell_type": "code",
   "execution_count": 15,
   "metadata": {},
   "outputs": [
    {
     "ename": "AttributeError",
     "evalue": "'dict' object has no attribute 'predict'",
     "output_type": "error",
     "traceback": [
      "\u001b[0;31m---------------------------------------------------------------------------\u001b[0m",
      "\u001b[0;31mAttributeError\u001b[0m                            Traceback (most recent call last)",
      "\u001b[0;32m<ipython-input-15-8096d31b55f6>\u001b[0m in \u001b[0;36m<module>\u001b[0;34m\u001b[0m\n\u001b[0;32m----> 1\u001b[0;31m \u001b[0my_pred\u001b[0m \u001b[0;34m=\u001b[0m \u001b[0mnp\u001b[0m\u001b[0;34m.\u001b[0m\u001b[0margmax\u001b[0m\u001b[0;34m(\u001b[0m\u001b[0mcv_result_lgb\u001b[0m\u001b[0;34m.\u001b[0m\u001b[0mpredict\u001b[0m\u001b[0;34m(\u001b[0m\u001b[0mX_test\u001b[0m\u001b[0;34m)\u001b[0m\u001b[0;34m,\u001b[0m \u001b[0maxis\u001b[0m\u001b[0;34m=\u001b[0m\u001b[0;36m1\u001b[0m\u001b[0;34m)\u001b[0m\u001b[0;34m.\u001b[0m\u001b[0mreshape\u001b[0m\u001b[0;34m(\u001b[0m\u001b[0;34m[\u001b[0m\u001b[0;34m-\u001b[0m\u001b[0;36m1\u001b[0m\u001b[0;34m,\u001b[0m\u001b[0;36m1\u001b[0m\u001b[0;34m]\u001b[0m\u001b[0;34m)\u001b[0m\u001b[0;34m\u001b[0m\u001b[0;34m\u001b[0m\u001b[0m\n\u001b[0m",
      "\u001b[0;31mAttributeError\u001b[0m: 'dict' object has no attribute 'predict'"
     ]
    }
   ],
   "source": [
    "y_pred = np.argmax(cv_result_lgb.predict(X_test), axis=1).reshape([-1,1])"
   ]
  },
  {
   "cell_type": "code",
   "execution_count": 91,
   "metadata": {},
   "outputs": [
    {
     "data": {
      "text/plain": [
       "array([[ 33,   0,   0,   2],\n",
       "       [  0,  10,   0,   4],\n",
       "       [  0,   0, 154,   0],\n",
       "       [  0,   0,   0,  18]])"
      ]
     },
     "execution_count": 91,
     "metadata": {},
     "output_type": "execute_result"
    }
   ],
   "source": [
    "confusion_matrix(y_test, y_pred)"
   ]
  },
  {
   "cell_type": "code",
   "execution_count": 99,
   "metadata": {
    "scrolled": true
   },
   "outputs": [
    {
     "data": {
      "text/html": [
       "<div>\n",
       "<style scoped>\n",
       "    .dataframe tbody tr th:only-of-type {\n",
       "        vertical-align: middle;\n",
       "    }\n",
       "\n",
       "    .dataframe tbody tr th {\n",
       "        vertical-align: top;\n",
       "    }\n",
       "\n",
       "    .dataframe thead th {\n",
       "        text-align: right;\n",
       "    }\n",
       "</style>\n",
       "<table border=\"1\" class=\"dataframe\">\n",
       "  <thead>\n",
       "    <tr style=\"text-align: right;\">\n",
       "      <th></th>\n",
       "      <th>eventId</th>\n",
       "      <th>clusterId</th>\n",
       "      <th>PrimaryDecayMode</th>\n",
       "      <th>VecShowerEnergy</th>\n",
       "      <th>S_sum</th>\n",
       "      <th>S_rad_mean</th>\n",
       "      <th>S_hot</th>\n",
       "      <th>C_sum</th>\n",
       "      <th>C_rad_mean</th>\n",
       "      <th>C_hot</th>\n",
       "      <th>dist2charge</th>\n",
       "      <th>label</th>\n",
       "      <th>predictedLabel</th>\n",
       "    </tr>\n",
       "  </thead>\n",
       "  <tbody>\n",
       "    <tr>\n",
       "      <th>0</th>\n",
       "      <td>48</td>\n",
       "      <td>117</td>\n",
       "      <td>4</td>\n",
       "      <td>27145.152914</td>\n",
       "      <td>21314.076172</td>\n",
       "      <td>2.100422</td>\n",
       "      <td>0.109939</td>\n",
       "      <td>23976.773438</td>\n",
       "      <td>1.978385</td>\n",
       "      <td>0.136850</td>\n",
       "      <td>38.708239</td>\n",
       "      <td>3</td>\n",
       "      <td>3</td>\n",
       "    </tr>\n",
       "    <tr>\n",
       "      <th>1</th>\n",
       "      <td>61</td>\n",
       "      <td>158</td>\n",
       "      <td>4</td>\n",
       "      <td>2803.146925</td>\n",
       "      <td>1603.018311</td>\n",
       "      <td>1.664667</td>\n",
       "      <td>0.108840</td>\n",
       "      <td>1857.292969</td>\n",
       "      <td>1.490503</td>\n",
       "      <td>0.152381</td>\n",
       "      <td>66.105149</td>\n",
       "      <td>3</td>\n",
       "      <td>3</td>\n",
       "    </tr>\n",
       "    <tr>\n",
       "      <th>2</th>\n",
       "      <td>61</td>\n",
       "      <td>161</td>\n",
       "      <td>4</td>\n",
       "      <td>10922.210278</td>\n",
       "      <td>8050.244141</td>\n",
       "      <td>1.966331</td>\n",
       "      <td>0.115087</td>\n",
       "      <td>8720.432617</td>\n",
       "      <td>2.006596</td>\n",
       "      <td>0.110548</td>\n",
       "      <td>50.164319</td>\n",
       "      <td>3</td>\n",
       "      <td>3</td>\n",
       "    </tr>\n",
       "    <tr>\n",
       "      <th>3</th>\n",
       "      <td>62</td>\n",
       "      <td>166</td>\n",
       "      <td>4</td>\n",
       "      <td>10361.459420</td>\n",
       "      <td>7399.282227</td>\n",
       "      <td>1.627021</td>\n",
       "      <td>0.202144</td>\n",
       "      <td>8136.710938</td>\n",
       "      <td>1.680261</td>\n",
       "      <td>0.186957</td>\n",
       "      <td>68.603123</td>\n",
       "      <td>3</td>\n",
       "      <td>3</td>\n",
       "    </tr>\n",
       "    <tr>\n",
       "      <th>4</th>\n",
       "      <td>62</td>\n",
       "      <td>165</td>\n",
       "      <td>4</td>\n",
       "      <td>7246.747640</td>\n",
       "      <td>1847.577271</td>\n",
       "      <td>0.756551</td>\n",
       "      <td>0.535721</td>\n",
       "      <td>272.964966</td>\n",
       "      <td>0.877988</td>\n",
       "      <td>0.571399</td>\n",
       "      <td>0.000000</td>\n",
       "      <td>4</td>\n",
       "      <td>4</td>\n",
       "    </tr>\n",
       "  </tbody>\n",
       "</table>\n",
       "</div>"
      ],
      "text/plain": [
       "   eventId  clusterId  PrimaryDecayMode  VecShowerEnergy         S_sum  \\\n",
       "0       48        117                 4     27145.152914  21314.076172   \n",
       "1       61        158                 4      2803.146925   1603.018311   \n",
       "2       61        161                 4     10922.210278   8050.244141   \n",
       "3       62        166                 4     10361.459420   7399.282227   \n",
       "4       62        165                 4      7246.747640   1847.577271   \n",
       "\n",
       "   S_rad_mean     S_hot         C_sum  C_rad_mean     C_hot  dist2charge  \\\n",
       "0    2.100422  0.109939  23976.773438    1.978385  0.136850    38.708239   \n",
       "1    1.664667  0.108840   1857.292969    1.490503  0.152381    66.105149   \n",
       "2    1.966331  0.115087   8720.432617    2.006596  0.110548    50.164319   \n",
       "3    1.627021  0.202144   8136.710938    1.680261  0.186957    68.603123   \n",
       "4    0.756551  0.535721    272.964966    0.877988  0.571399     0.000000   \n",
       "\n",
       "   label  predictedLabel  \n",
       "0      3               3  \n",
       "1      3               3  \n",
       "2      3               3  \n",
       "3      3               3  \n",
       "4      4               4  "
      ]
     },
     "execution_count": 99,
     "metadata": {},
     "output_type": "execute_result"
    }
   ],
   "source": [
    "df_new = pd.DataFrame(np.hstack((id_test, y_pred)), columns=['clusterId', 'predictedLabel'])\n",
    "df_merged = df.merge(df_new, how='inner', on='clusterId')\n",
    "df_merged.head()"
   ]
  },
  {
   "cell_type": "markdown",
   "metadata": {},
   "source": [
    "## Regression"
   ]
  },
  {
   "cell_type": "markdown",
   "metadata": {},
   "source": [
    "### Training"
   ]
  },
  {
   "cell_type": "code",
   "execution_count": null,
   "metadata": {},
   "outputs": [],
   "source": []
  },
  {
   "cell_type": "markdown",
   "metadata": {},
   "source": [
    "### Testing"
   ]
  },
  {
   "cell_type": "code",
   "execution_count": null,
   "metadata": {},
   "outputs": [],
   "source": []
  },
  {
   "cell_type": "markdown",
   "metadata": {},
   "source": [
    "## Decay classification"
   ]
  },
  {
   "cell_type": "code",
   "execution_count": 175,
   "metadata": {},
   "outputs": [],
   "source": [
    "def decayClassification(x):\n",
    "    counts = x.predictedLabel.value_counts()\n",
    "    mode = np.nan\n",
    "    if 1 in counts.keys():\n",
    "        mode = 1\n",
    "    elif 2 in counts.keys():\n",
    "        mode = 2\n",
    "    elif 4 in counts.keys():\n",
    "        mode = 3\n",
    "        if 3 in counts.keys():\n",
    "            if counts[3] == 2:\n",
    "                mode = 4\n",
    "            elif counts[3] == 4:\n",
    "                mode = 5\n",
    "    x['predictedPrimaryDecayMode'] = mode\n",
    "    return x"
   ]
  },
  {
   "cell_type": "code",
   "execution_count": 180,
   "metadata": {
    "scrolled": true
   },
   "outputs": [],
   "source": [
    "df_merged = df_merged.groupby('eventId').apply(decayClassification)"
   ]
  },
  {
   "cell_type": "code",
   "execution_count": 181,
   "metadata": {},
   "outputs": [
    {
     "name": "stdout",
     "output_type": "stream",
     "text": [
      "Predicted  1.0  2.0  3.0  4.0  5.0\n",
      "Actual                            \n",
      "1           33    0    2    0    0\n",
      "2            0   10    4    0    0\n",
      "3            0    0    3    0    0\n",
      "4            0    0    7   18    0\n",
      "5            0    0   16    0    5\n"
     ]
    }
   ],
   "source": [
    "confusion_matrix = pd.crosstab(df_merged.PrimaryDecayMode, df_merged.predictedPrimaryDecayMode, rownames=['Actual'], colnames=['Predicted'])\n",
    "print(confusion_matrix)"
   ]
  }
 ],
 "metadata": {
  "environment": {
   "name": "tf2-gpu.2-1.m46",
   "type": "gcloud",
   "uri": "gcr.io/deeplearning-platform-release/tf2-gpu.2-1:m46"
  },
  "kernelspec": {
   "display_name": "Python 3",
   "language": "python",
   "name": "python3"
  },
  "language_info": {
   "codemirror_mode": {
    "name": "ipython",
    "version": 3
   },
   "file_extension": ".py",
   "mimetype": "text/x-python",
   "name": "python",
   "nbconvert_exporter": "python",
   "pygments_lexer": "ipython3",
   "version": "3.7.6"
  }
 },
 "nbformat": 4,
 "nbformat_minor": 4
}
