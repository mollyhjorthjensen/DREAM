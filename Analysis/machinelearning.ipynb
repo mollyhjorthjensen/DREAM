{
 "cells": [
  {
   "cell_type": "code",
   "execution_count": 92,
   "metadata": {},
   "outputs": [],
   "source": [
    "import os\n",
    "import numpy as np\n",
    "import pandas as pd\n",
    "from sklearn.model_selection import train_test_split\n",
    "from sklearn.metrics import confusion_matrix\n",
    "from sklearn.metrics import accuracy_score\n",
    "import matplotlib.pyplot as plt\n",
    "import lightgbm as lgb"
   ]
  },
  {
   "cell_type": "code",
   "execution_count": 93,
   "metadata": {},
   "outputs": [
    {
     "name": "stdout",
     "output_type": "stream",
     "text": [
      "(138, 13)\n"
     ]
    },
    {
     "data": {
      "text/html": [
       "<div>\n",
       "<style scoped>\n",
       "    .dataframe tbody tr th:only-of-type {\n",
       "        vertical-align: middle;\n",
       "    }\n",
       "\n",
       "    .dataframe tbody tr th {\n",
       "        vertical-align: top;\n",
       "    }\n",
       "\n",
       "    .dataframe thead th {\n",
       "        text-align: right;\n",
       "    }\n",
       "</style>\n",
       "<table border=\"1\" class=\"dataframe\">\n",
       "  <thead>\n",
       "    <tr style=\"text-align: right;\">\n",
       "      <th></th>\n",
       "      <th>eventId</th>\n",
       "      <th>clusterId</th>\n",
       "      <th>PrimaryDecayMode</th>\n",
       "      <th>VecShowerEnergy</th>\n",
       "      <th>S_sum</th>\n",
       "      <th>C_sum</th>\n",
       "      <th>S_rad_mean</th>\n",
       "      <th>C_rad_mean</th>\n",
       "      <th>S_hot</th>\n",
       "      <th>C_hot</th>\n",
       "      <th>CoverS</th>\n",
       "      <th>dist2charge</th>\n",
       "      <th>label</th>\n",
       "    </tr>\n",
       "  </thead>\n",
       "  <tbody>\n",
       "    <tr>\n",
       "      <th>0</th>\n",
       "      <td>0</td>\n",
       "      <td>0</td>\n",
       "      <td>0</td>\n",
       "      <td>31313.811557</td>\n",
       "      <td>27515.9650</td>\n",
       "      <td>30114.676</td>\n",
       "      <td>2.837071</td>\n",
       "      <td>2.049820</td>\n",
       "      <td>0.110429</td>\n",
       "      <td>0.228488</td>\n",
       "      <td>1.094444</td>\n",
       "      <td>0.0</td>\n",
       "      <td>0</td>\n",
       "    </tr>\n",
       "    <tr>\n",
       "      <th>1</th>\n",
       "      <td>1</td>\n",
       "      <td>1</td>\n",
       "      <td>1</td>\n",
       "      <td>22119.663201</td>\n",
       "      <td>2722.9253</td>\n",
       "      <td>NaN</td>\n",
       "      <td>3.355176</td>\n",
       "      <td>NaN</td>\n",
       "      <td>0.165529</td>\n",
       "      <td>NaN</td>\n",
       "      <td>NaN</td>\n",
       "      <td>0.0</td>\n",
       "      <td>1</td>\n",
       "    </tr>\n",
       "    <tr>\n",
       "      <th>2</th>\n",
       "      <td>2</td>\n",
       "      <td>2</td>\n",
       "      <td>3</td>\n",
       "      <td>7815.112261</td>\n",
       "      <td>7369.4688</td>\n",
       "      <td>6288.264</td>\n",
       "      <td>2.286271</td>\n",
       "      <td>2.166214</td>\n",
       "      <td>0.086934</td>\n",
       "      <td>0.104079</td>\n",
       "      <td>0.853286</td>\n",
       "      <td>NaN</td>\n",
       "      <td>2</td>\n",
       "    </tr>\n",
       "    <tr>\n",
       "      <th>3</th>\n",
       "      <td>2</td>\n",
       "      <td>3</td>\n",
       "      <td>3</td>\n",
       "      <td>2634.673219</td>\n",
       "      <td>2338.2720</td>\n",
       "      <td>2582.522</td>\n",
       "      <td>1.868708</td>\n",
       "      <td>1.387169</td>\n",
       "      <td>0.185439</td>\n",
       "      <td>0.253425</td>\n",
       "      <td>1.104457</td>\n",
       "      <td>NaN</td>\n",
       "      <td>2</td>\n",
       "    </tr>\n",
       "    <tr>\n",
       "      <th>4</th>\n",
       "      <td>4</td>\n",
       "      <td>6</td>\n",
       "      <td>2</td>\n",
       "      <td>27610.212415</td>\n",
       "      <td>14253.6210</td>\n",
       "      <td>11683.265</td>\n",
       "      <td>8.165252</td>\n",
       "      <td>4.762796</td>\n",
       "      <td>0.049337</td>\n",
       "      <td>0.059803</td>\n",
       "      <td>0.819670</td>\n",
       "      <td>0.0</td>\n",
       "      <td>3</td>\n",
       "    </tr>\n",
       "  </tbody>\n",
       "</table>\n",
       "</div>"
      ],
      "text/plain": [
       "   eventId  clusterId  PrimaryDecayMode  VecShowerEnergy       S_sum  \\\n",
       "0        0          0                 0     31313.811557  27515.9650   \n",
       "1        1          1                 1     22119.663201   2722.9253   \n",
       "2        2          2                 3      7815.112261   7369.4688   \n",
       "3        2          3                 3      2634.673219   2338.2720   \n",
       "4        4          6                 2     27610.212415  14253.6210   \n",
       "\n",
       "       C_sum  S_rad_mean  C_rad_mean     S_hot     C_hot    CoverS  \\\n",
       "0  30114.676    2.837071    2.049820  0.110429  0.228488  1.094444   \n",
       "1        NaN    3.355176         NaN  0.165529       NaN       NaN   \n",
       "2   6288.264    2.286271    2.166214  0.086934  0.104079  0.853286   \n",
       "3   2582.522    1.868708    1.387169  0.185439  0.253425  1.104457   \n",
       "4  11683.265    8.165252    4.762796  0.049337  0.059803  0.819670   \n",
       "\n",
       "   dist2charge  label  \n",
       "0          0.0      0  \n",
       "1          0.0      1  \n",
       "2          NaN      2  \n",
       "3          NaN      2  \n",
       "4          0.0      3  "
      ]
     },
     "execution_count": 93,
     "metadata": {},
     "output_type": "execute_result"
    }
   ],
   "source": [
    "DATA_DIR = '/home/jupyter/DREAM'\n",
    "df = pd.read_csv(os.path.join(DATA_DIR, 'data.csv'))\n",
    "print(df.shape)\n",
    "df.head()"
   ]
  },
  {
   "cell_type": "code",
   "execution_count": 94,
   "metadata": {},
   "outputs": [
    {
     "name": "stdout",
     "output_type": "stream",
     "text": [
      "(96,) (42,)\n"
     ]
    }
   ],
   "source": [
    "# train test split by eventId!\n",
    "id_train, id_test = train_test_split(df.eventId.values,\n",
    "                                     test_size=0.3, \n",
    "                                     random_state=42,\n",
    "                                     stratify=df.PrimaryDecayMode.values)\n",
    "print(id_train.shape, id_test.shape)"
   ]
  },
  {
   "cell_type": "code",
   "execution_count": 95,
   "metadata": {},
   "outputs": [],
   "source": [
    "excl_columns = ['PrimaryDecayMode', 'clusterId', 'VecShowerEnergy', 'label']\n",
    "\n",
    "# train dataset\n",
    "df_train = df[df.eventId.isin(id_train)].drop(['eventId'], axis=1)\n",
    "y_train = df_train.label.values\n",
    "z_train = df_train.VecShowerEnergy.values\n",
    "df_train.drop(excl_columns, inplace=True, axis=1)\n",
    "X_train = df_train.values\n",
    "train_data_y = lgb.Dataset(X_train, label=y_train, feature_name=list(df_train.columns.values))\n",
    "train_data_z = lgb.Dataset(X_train, label=z_train, feature_name=list(df_train.columns.values))\n",
    "\n",
    "# test data set\n",
    "df_test = df[df.eventId.isin(id_test)].drop(['eventId'], axis=1)\n",
    "y_test = df_test.label.values\n",
    "z_test = df_test.VecShowerEnergy.values\n",
    "id_test = df_test.clusterId.values.reshape([-1,1])\n",
    "df_test.drop(excl_columns, inplace=True, axis=1)\n",
    "X_test = df_test.values\n",
    "test_data_y = lgb.Dataset(X_test, label=y_test, feature_name=list(df_test.columns.values))\n",
    "test_data_z = lgb.Dataset(X_test, label=z_test, feature_name=list(df_test.columns.values))"
   ]
  },
  {
   "cell_type": "markdown",
   "metadata": {},
   "source": [
    "### Plot features"
   ]
  },
  {
   "cell_type": "code",
   "execution_count": 96,
   "metadata": {},
   "outputs": [],
   "source": [
    "# xtitle = df_train.columns\n",
    "# fig, ax = plt.subplots(4, 2, figsize=(8,12))\n",
    "# for i in range(X_train.shape[1]):\n",
    "#     for j in np.unique(y_train):\n",
    "#         h = ax[i//2][i%2].hist(X_train[:,i][y_train==j], histtype='step')\n",
    "#         ax[i//2][i%2].set_xlabel(xtitle[i])\n",
    "#         ax[i//2][i%2].set_ylabel(f\"Events\") # / {binwidth}\")"
   ]
  },
  {
   "cell_type": "markdown",
   "metadata": {},
   "source": [
    "# Classification"
   ]
  },
  {
   "cell_type": "markdown",
   "metadata": {},
   "source": [
    "(Boosted) decision trees 'unaffected' by feature scaling"
   ]
  },
  {
   "cell_type": "markdown",
   "metadata": {},
   "source": [
    "### Training"
   ]
  },
  {
   "cell_type": "code",
   "execution_count": 97,
   "metadata": {},
   "outputs": [],
   "source": [
    "params = {\n",
    "    'num_class': [4],\n",
    "    'objective': ['multiclass', 'multiclassova'],\n",
    "    'boosting': ['gbrt'],  # default = gbdt\n",
    "    'learning_rate': [0.1],  # default = 0.1\n",
    "    'num_leaves': [31],  # default = 31\n",
    "    'metric': ['multi_logloss']\n",
    "}"
   ]
  },
  {
   "cell_type": "code",
   "execution_count": 98,
   "metadata": {},
   "outputs": [],
   "source": [
    "import itertools\n",
    "keys, values = zip(*params.items())\n",
    "param = [dict(zip(keys, v)) for v in itertools.product(*values)]"
   ]
  },
  {
   "cell_type": "code",
   "execution_count": 99,
   "metadata": {},
   "outputs": [],
   "source": [
    "results = []\n",
    "for i in range(len(param)):\n",
    "    cv_results = lgb.cv(param[i], train_data_y, num_boost_round=500, early_stopping_rounds=20, seed=42)\n",
    "    results += [(i, len(cv_results['multi_logloss-mean']), cv_results['multi_logloss-mean'][-1])]"
   ]
  },
  {
   "cell_type": "code",
   "execution_count": 100,
   "metadata": {},
   "outputs": [
    {
     "data": {
      "text/plain": [
       "[(0, 54, 0.278652466021973), (1, 42, 0.3285066774823741)]"
      ]
     },
     "execution_count": 100,
     "metadata": {},
     "output_type": "execute_result"
    }
   ],
   "source": [
    "results.sort(key=lambda x: x[2])\n",
    "results"
   ]
  },
  {
   "cell_type": "code",
   "execution_count": 101,
   "metadata": {},
   "outputs": [],
   "source": [
    "bst = lgb.train(param[results[0][0]], train_data_y, num_boost_round=results[0][1])"
   ]
  },
  {
   "cell_type": "markdown",
   "metadata": {},
   "source": [
    "### Testing"
   ]
  },
  {
   "cell_type": "code",
   "execution_count": 102,
   "metadata": {},
   "outputs": [],
   "source": [
    "y_pred = np.argmax(bst.predict(X_test), axis=1).reshape([-1,1])"
   ]
  },
  {
   "cell_type": "code",
   "execution_count": 103,
   "metadata": {},
   "outputs": [
    {
     "data": {
      "text/plain": [
       "array([[ 7,  0,  0,  0],\n",
       "       [ 2,  1,  0,  0],\n",
       "       [ 0,  0, 57,  0],\n",
       "       [ 0,  0,  0, 15]])"
      ]
     },
     "execution_count": 103,
     "metadata": {},
     "output_type": "execute_result"
    }
   ],
   "source": [
    "confusion_matrix(y_test, y_pred)"
   ]
  },
  {
   "cell_type": "code",
   "execution_count": 104,
   "metadata": {},
   "outputs": [
    {
     "data": {
      "text/plain": [
       "0.975609756097561"
      ]
     },
     "execution_count": 104,
     "metadata": {},
     "output_type": "execute_result"
    }
   ],
   "source": [
    "accuracy_score(y_test, y_pred)"
   ]
  },
  {
   "cell_type": "code",
   "execution_count": 105,
   "metadata": {
    "scrolled": true
   },
   "outputs": [
    {
     "data": {
      "text/html": [
       "<div>\n",
       "<style scoped>\n",
       "    .dataframe tbody tr th:only-of-type {\n",
       "        vertical-align: middle;\n",
       "    }\n",
       "\n",
       "    .dataframe tbody tr th {\n",
       "        vertical-align: top;\n",
       "    }\n",
       "\n",
       "    .dataframe thead th {\n",
       "        text-align: right;\n",
       "    }\n",
       "</style>\n",
       "<table border=\"1\" class=\"dataframe\">\n",
       "  <thead>\n",
       "    <tr style=\"text-align: right;\">\n",
       "      <th></th>\n",
       "      <th>eventId</th>\n",
       "      <th>clusterId</th>\n",
       "      <th>PrimaryDecayMode</th>\n",
       "      <th>VecShowerEnergy</th>\n",
       "      <th>S_sum</th>\n",
       "      <th>C_sum</th>\n",
       "      <th>S_rad_mean</th>\n",
       "      <th>C_rad_mean</th>\n",
       "      <th>S_hot</th>\n",
       "      <th>C_hot</th>\n",
       "      <th>CoverS</th>\n",
       "      <th>dist2charge</th>\n",
       "      <th>label</th>\n",
       "      <th>predictedLabel</th>\n",
       "    </tr>\n",
       "  </thead>\n",
       "  <tbody>\n",
       "    <tr>\n",
       "      <th>0</th>\n",
       "      <td>2</td>\n",
       "      <td>2</td>\n",
       "      <td>3</td>\n",
       "      <td>7815.112261</td>\n",
       "      <td>7369.4688</td>\n",
       "      <td>6288.2640</td>\n",
       "      <td>2.286271</td>\n",
       "      <td>2.166214</td>\n",
       "      <td>0.086934</td>\n",
       "      <td>0.104079</td>\n",
       "      <td>0.853286</td>\n",
       "      <td>NaN</td>\n",
       "      <td>2</td>\n",
       "      <td>2</td>\n",
       "    </tr>\n",
       "    <tr>\n",
       "      <th>1</th>\n",
       "      <td>2</td>\n",
       "      <td>3</td>\n",
       "      <td>3</td>\n",
       "      <td>2634.673219</td>\n",
       "      <td>2338.2720</td>\n",
       "      <td>2582.5220</td>\n",
       "      <td>1.868708</td>\n",
       "      <td>1.387169</td>\n",
       "      <td>0.185439</td>\n",
       "      <td>0.253425</td>\n",
       "      <td>1.104457</td>\n",
       "      <td>NaN</td>\n",
       "      <td>2</td>\n",
       "      <td>2</td>\n",
       "    </tr>\n",
       "    <tr>\n",
       "      <th>2</th>\n",
       "      <td>8</td>\n",
       "      <td>10</td>\n",
       "      <td>3</td>\n",
       "      <td>4539.675005</td>\n",
       "      <td>3622.3496</td>\n",
       "      <td>3705.7480</td>\n",
       "      <td>2.103034</td>\n",
       "      <td>1.730188</td>\n",
       "      <td>0.121583</td>\n",
       "      <td>0.128878</td>\n",
       "      <td>1.023023</td>\n",
       "      <td>32.063404</td>\n",
       "      <td>2</td>\n",
       "      <td>2</td>\n",
       "    </tr>\n",
       "    <tr>\n",
       "      <th>3</th>\n",
       "      <td>8</td>\n",
       "      <td>11</td>\n",
       "      <td>3</td>\n",
       "      <td>6965.990793</td>\n",
       "      <td>6242.2130</td>\n",
       "      <td>6226.3640</td>\n",
       "      <td>2.888289</td>\n",
       "      <td>2.033888</td>\n",
       "      <td>0.117345</td>\n",
       "      <td>0.136364</td>\n",
       "      <td>0.997461</td>\n",
       "      <td>45.605458</td>\n",
       "      <td>2</td>\n",
       "      <td>2</td>\n",
       "    </tr>\n",
       "    <tr>\n",
       "      <th>4</th>\n",
       "      <td>8</td>\n",
       "      <td>12</td>\n",
       "      <td>3</td>\n",
       "      <td>30670.818780</td>\n",
       "      <td>9066.4860</td>\n",
       "      <td>7068.8994</td>\n",
       "      <td>5.988606</td>\n",
       "      <td>5.210439</td>\n",
       "      <td>0.058056</td>\n",
       "      <td>0.075069</td>\n",
       "      <td>0.779674</td>\n",
       "      <td>0.000000</td>\n",
       "      <td>3</td>\n",
       "      <td>3</td>\n",
       "    </tr>\n",
       "  </tbody>\n",
       "</table>\n",
       "</div>"
      ],
      "text/plain": [
       "   eventId  clusterId  PrimaryDecayMode  VecShowerEnergy      S_sum  \\\n",
       "0        2          2                 3      7815.112261  7369.4688   \n",
       "1        2          3                 3      2634.673219  2338.2720   \n",
       "2        8         10                 3      4539.675005  3622.3496   \n",
       "3        8         11                 3      6965.990793  6242.2130   \n",
       "4        8         12                 3     30670.818780  9066.4860   \n",
       "\n",
       "       C_sum  S_rad_mean  C_rad_mean     S_hot     C_hot    CoverS  \\\n",
       "0  6288.2640    2.286271    2.166214  0.086934  0.104079  0.853286   \n",
       "1  2582.5220    1.868708    1.387169  0.185439  0.253425  1.104457   \n",
       "2  3705.7480    2.103034    1.730188  0.121583  0.128878  1.023023   \n",
       "3  6226.3640    2.888289    2.033888  0.117345  0.136364  0.997461   \n",
       "4  7068.8994    5.988606    5.210439  0.058056  0.075069  0.779674   \n",
       "\n",
       "   dist2charge  label  predictedLabel  \n",
       "0          NaN      2               2  \n",
       "1          NaN      2               2  \n",
       "2    32.063404      2               2  \n",
       "3    45.605458      2               2  \n",
       "4     0.000000      3               3  "
      ]
     },
     "execution_count": 105,
     "metadata": {},
     "output_type": "execute_result"
    }
   ],
   "source": [
    "df_new = pd.DataFrame(np.hstack((id_test, y_pred)), columns=['clusterId', 'predictedLabel'])\n",
    "df_merged = df.merge(df_new, how='inner', on='clusterId')\n",
    "df_merged.head()"
   ]
  },
  {
   "cell_type": "code",
   "execution_count": 106,
   "metadata": {},
   "outputs": [
    {
     "data": {
      "text/plain": [
       "<matplotlib.axes._subplots.AxesSubplot at 0x7f1545723dd0>"
      ]
     },
     "execution_count": 106,
     "metadata": {},
     "output_type": "execute_result"
    },
    {
     "data": {
      "image/png": "[encoded data removed]",
      "text/plain": [
       "<Figure size 432x288 with 1 Axes>"
      ]
     },
     "metadata": {
      "needs_background": "light"
     },
     "output_type": "display_data"
    }
   ],
   "source": [
    "lgb.plot_importance(bst)"
   ]
  },
  {
   "cell_type": "code",
   "execution_count": 110,
   "metadata": {},
   "outputs": [
    {
     "data": {
      "text/plain": [
       "{'num_class': 4,\n",
       " 'objective': 'multiclass',\n",
       " 'boosting': 'gbrt',\n",
       " 'learning_rate': 0.1,\n",
       " 'num_leaves': 31,\n",
       " 'metric': 'multi_logloss'}"
      ]
     },
     "execution_count": 110,
     "metadata": {},
     "output_type": "execute_result"
    }
   ],
   "source": [
    "param[results[0][0]]"
   ]
  },
  {
   "cell_type": "code",
   "execution_count": 122,
   "metadata": {},
   "outputs": [
    {
     "name": "stdout",
     "output_type": "stream",
     "text": [
      "dist2charge0.416 +/- 0.045\n",
      "C_hot   0.039 +/- 0.019\n",
      "S_sum   0.028 +/- 0.014\n"
     ]
    }
   ],
   "source": [
    "from sklearn.inspection import permutation_importance\n",
    "model = lgb.LGBMClassifier(**param[results[0][0]], n_estimators=results[0][1])\n",
    "model = model.fit(X_train, y_train)\n",
    "r = permutation_importance(model, X_test, y_test, n_repeats=30, random_state=42)\n",
    "\n",
    "for i in r.importances_mean.argsort()[::-1]:\n",
    "    if r.importances_mean[i] - 2 * r.importances_std[i] > 0:\n",
    "        print(f\"{train_data_y.feature_name[i]:<8}\"\n",
    "              f\"{r.importances_mean[i]:.3f}\"\n",
    "              f\" +/- {r.importances_std[i]:.3f}\")"
   ]
  },
  {
   "cell_type": "code",
   "execution_count": 54,
   "metadata": {},
   "outputs": [
    {
     "data": {
      "text/plain": [
       "<matplotlib.axes._subplots.AxesSubplot at 0x7f1545788c90>"
      ]
     },
     "execution_count": 54,
     "metadata": {},
     "output_type": "execute_result"
    },
    {
     "data": {
      "image/png": "[encoded data removed]",
      "text/plain": [
       "<Figure size 432x288 with 1 Axes>"
      ]
     },
     "metadata": {
      "needs_background": "light"
     },
     "output_type": "display_data"
    }
   ],
   "source": [
    "lgb.plot_tree(bst)"
   ]
  },
  {
   "cell_type": "markdown",
   "metadata": {},
   "source": [
    "## Regression"
   ]
  },
  {
   "cell_type": "markdown",
   "metadata": {},
   "source": [
    "### Training"
   ]
  },
  {
   "cell_type": "code",
   "execution_count": 123,
   "metadata": {},
   "outputs": [],
   "source": [
    "params = {\n",
    "    'objective': ['regression'],\n",
    "    'boosting': ['gbrt'],  # default = gbdt\n",
    "    'learning_rate': [0.1],  # default = 0.1\n",
    "    'num_leaves': [31],  # default = 31\n",
    "    'metric': ['mape']\n",
    "}"
   ]
  },
  {
   "cell_type": "code",
   "execution_count": 124,
   "metadata": {},
   "outputs": [],
   "source": [
    "import itertools\n",
    "keys, values = zip(*params.items())\n",
    "param = [dict(zip(keys, v)) for v in itertools.product(*values)]"
   ]
  },
  {
   "cell_type": "code",
   "execution_count": 125,
   "metadata": {},
   "outputs": [],
   "source": [
    "results = []\n",
    "for i in range(len(param)):\n",
    "    cv_results = lgb.cv(param[i], train_data_z, num_boost_round=500, early_stopping_rounds=20, seed=42, stratified=False)\n",
    "    results += [(i, len(cv_results['mape-mean']), cv_results['mape-mean'][-1])]"
   ]
  },
  {
   "cell_type": "code",
   "execution_count": 126,
   "metadata": {},
   "outputs": [
    {
     "data": {
      "text/plain": [
       "[(0, 39, 0.5309867197371606)]"
      ]
     },
     "execution_count": 126,
     "metadata": {},
     "output_type": "execute_result"
    }
   ],
   "source": [
    "results.sort(key=lambda x: x[2])\n",
    "results"
   ]
  },
  {
   "cell_type": "code",
   "execution_count": 127,
   "metadata": {},
   "outputs": [],
   "source": [
    "bst = lgb.train(param[results[0][0]], train_data_z, num_boost_round=results[0][1])"
   ]
  },
  {
   "cell_type": "markdown",
   "metadata": {},
   "source": [
    "### Testing"
   ]
  },
  {
   "cell_type": "code",
   "execution_count": 128,
   "metadata": {},
   "outputs": [],
   "source": [
    "z_pred = bst.predict(X_test).reshape([-1,1])"
   ]
  },
  {
   "cell_type": "code",
   "execution_count": 129,
   "metadata": {},
   "outputs": [
    {
     "data": {
      "text/plain": [
       "1.8627897669165951"
      ]
     },
     "execution_count": 129,
     "metadata": {},
     "output_type": "execute_result"
    }
   ],
   "source": [
    "np.mean(np.abs((z_test - z_pred) / z_test))"
   ]
  },
  {
   "cell_type": "code",
   "execution_count": 130,
   "metadata": {},
   "outputs": [
    {
     "data": {
      "text/plain": [
       "1257.8126030555213"
      ]
     },
     "execution_count": 130,
     "metadata": {},
     "output_type": "execute_result"
    }
   ],
   "source": [
    "from sklearn.metrics import median_absolute_error\n",
    "median_absolute_error(z_test, z_pred)"
   ]
  },
  {
   "cell_type": "code",
   "execution_count": 131,
   "metadata": {},
   "outputs": [
    {
     "data": {
      "text/plain": [
       "<matplotlib.axes._subplots.AxesSubplot at 0x7f1544caa290>"
      ]
     },
     "execution_count": 131,
     "metadata": {},
     "output_type": "execute_result"
    },
    {
     "data": {
      "image/png": "[encoded data removed]",
      "text/plain": [
       "<Figure size 432x288 with 1 Axes>"
      ]
     },
     "metadata": {
      "needs_background": "light"
     },
     "output_type": "display_data"
    }
   ],
   "source": [
    "lgb.plot_importance(bst)"
   ]
  },
  {
   "cell_type": "code",
   "execution_count": 132,
   "metadata": {},
   "outputs": [
    {
     "data": {
      "text/plain": [
       "<matplotlib.axes._subplots.AxesSubplot at 0x7f1544c80110>"
      ]
     },
     "execution_count": 132,
     "metadata": {},
     "output_type": "execute_result"
    },
    {
     "data": {
      "image/png": "[encoded data removed]",
      "text/plain": [
       "<Figure size 432x288 with 1 Axes>"
      ]
     },
     "metadata": {
      "needs_background": "light"
     },
     "output_type": "display_data"
    }
   ],
   "source": [
    "lgb.plot_tree(bst)"
   ]
  },
  {
   "cell_type": "markdown",
   "metadata": {},
   "source": [
    "## Decay classification"
   ]
  },
  {
   "cell_type": "code",
   "execution_count": 80,
   "metadata": {},
   "outputs": [],
   "source": [
    "def decayClassification(x):\n",
    "    counts = x.predictedLabel.value_counts()\n",
    "    mode = np.nan\n",
    "    if 1 in counts.keys():\n",
    "        mode = 1\n",
    "    elif 2 in counts.keys():\n",
    "        mode = 2\n",
    "    elif 4 in counts.keys():\n",
    "        mode = 3\n",
    "        if 3 in counts.keys():\n",
    "            if counts[3] == 2:\n",
    "                mode = 4\n",
    "            elif counts[3] == 4:\n",
    "                mode = 5\n",
    "    x['predictedPrimaryDecayMode'] = mode\n",
    "    return x"
   ]
  },
  {
   "cell_type": "code",
   "execution_count": 81,
   "metadata": {
    "scrolled": true
   },
   "outputs": [],
   "source": [
    "df_merged = df_merged.groupby('eventId').apply(decayClassification)"
   ]
  },
  {
   "cell_type": "code",
   "execution_count": 82,
   "metadata": {},
   "outputs": [
    {
     "name": "stdout",
     "output_type": "stream",
     "text": [
      "Predicted  1.0  2.0\n",
      "Actual             \n",
      "1            1    0\n",
      "3            0   27\n",
      "4            0   42\n"
     ]
    }
   ],
   "source": [
    "confusion_matrix = pd.crosstab(df_merged.PrimaryDecayMode, df_merged.predictedPrimaryDecayMode, rownames=['Actual'], colnames=['Predicted'])\n",
    "print(confusion_matrix)"
   ]
  },
  {
   "cell_type": "code",
   "execution_count": null,
   "metadata": {},
   "outputs": [],
   "source": []
  }
 ],
 "metadata": {
  "environment": {
   "name": "tf2-gpu.2-1.m46",
   "type": "gcloud",
   "uri": "gcr.io/deeplearning-platform-release/tf2-gpu.2-1:m46"
  },
  "kernelspec": {
   "display_name": "Python 3",
   "language": "python",
   "name": "python3"
  },
  "language_info": {
   "codemirror_mode": {
    "name": "ipython",
    "version": 3
   },
   "file_extension": ".py",
   "mimetype": "text/x-python",
   "name": "python",
   "nbconvert_exporter": "python",
   "pygments_lexer": "ipython3",
   "version": "3.7.6"
  }
 },
 "nbformat": 4,
 "nbformat_minor": 4
}
