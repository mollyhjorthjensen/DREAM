{
 "cells": [
  {
   "cell_type": "code",
   "execution_count": 45,
   "metadata": {},
   "outputs": [],
   "source": [
    "import numpy as np\n",
    "import pandas as pd\n",
    "from sklearn.model_selection import train_test_split\n",
    "from sklearn.metrics import confusion_matrix\n",
    "import matplotlib.pyplot as plt\n",
    "import lightgbm as lgb"
   ]
  },
  {
   "cell_type": "code",
   "execution_count": 46,
   "metadata": {},
   "outputs": [
    {
     "name": "stdout",
     "output_type": "stream",
     "text": [
      "(1332, 12)\n"
     ]
    },
    {
     "data": {
      "text/html": [
       "<div>\n",
       "<style scoped>\n",
       "    .dataframe tbody tr th:only-of-type {\n",
       "        vertical-align: middle;\n",
       "    }\n",
       "\n",
       "    .dataframe tbody tr th {\n",
       "        vertical-align: top;\n",
       "    }\n",
       "\n",
       "    .dataframe thead th {\n",
       "        text-align: right;\n",
       "    }\n",
       "</style>\n",
       "<table border=\"1\" class=\"dataframe\">\n",
       "  <thead>\n",
       "    <tr style=\"text-align: right;\">\n",
       "      <th></th>\n",
       "      <th>eventId</th>\n",
       "      <th>clusterId</th>\n",
       "      <th>PrimaryDecayMode</th>\n",
       "      <th>VecShowerEnergy</th>\n",
       "      <th>S_sum</th>\n",
       "      <th>S_rad_mean</th>\n",
       "      <th>S_hot</th>\n",
       "      <th>C_sum</th>\n",
       "      <th>C_rad_mean</th>\n",
       "      <th>C_hot</th>\n",
       "      <th>dist2charge</th>\n",
       "      <th>label</th>\n",
       "    </tr>\n",
       "  </thead>\n",
       "  <tbody>\n",
       "    <tr>\n",
       "      <th>0</th>\n",
       "      <td>1</td>\n",
       "      <td>4</td>\n",
       "      <td>5</td>\n",
       "      <td>1800.534376</td>\n",
       "      <td>940.830078</td>\n",
       "      <td>1.029599</td>\n",
       "      <td>0.275822</td>\n",
       "      <td>1335.482056</td>\n",
       "      <td>1.045024</td>\n",
       "      <td>0.350993</td>\n",
       "      <td>56.019219</td>\n",
       "      <td>2</td>\n",
       "    </tr>\n",
       "    <tr>\n",
       "      <th>1</th>\n",
       "      <td>1</td>\n",
       "      <td>6</td>\n",
       "      <td>5</td>\n",
       "      <td>8846.113024</td>\n",
       "      <td>1004.029785</td>\n",
       "      <td>1.409577</td>\n",
       "      <td>0.188146</td>\n",
       "      <td>3485.240479</td>\n",
       "      <td>1.588097</td>\n",
       "      <td>0.276602</td>\n",
       "      <td>87.007090</td>\n",
       "      <td>2</td>\n",
       "    </tr>\n",
       "    <tr>\n",
       "      <th>2</th>\n",
       "      <td>1</td>\n",
       "      <td>3</td>\n",
       "      <td>5</td>\n",
       "      <td>1536.473341</td>\n",
       "      <td>1051.808228</td>\n",
       "      <td>1.191492</td>\n",
       "      <td>0.250219</td>\n",
       "      <td>795.982666</td>\n",
       "      <td>1.062965</td>\n",
       "      <td>0.233333</td>\n",
       "      <td>50.515221</td>\n",
       "      <td>2</td>\n",
       "    </tr>\n",
       "    <tr>\n",
       "      <th>3</th>\n",
       "      <td>2</td>\n",
       "      <td>8</td>\n",
       "      <td>5</td>\n",
       "      <td>9909.289630</td>\n",
       "      <td>1245.740112</td>\n",
       "      <td>1.459897</td>\n",
       "      <td>0.245276</td>\n",
       "      <td>4685.632812</td>\n",
       "      <td>1.263931</td>\n",
       "      <td>0.334092</td>\n",
       "      <td>401.636652</td>\n",
       "      <td>2</td>\n",
       "    </tr>\n",
       "    <tr>\n",
       "      <th>4</th>\n",
       "      <td>4</td>\n",
       "      <td>10</td>\n",
       "      <td>4</td>\n",
       "      <td>2431.929683</td>\n",
       "      <td>1607.251709</td>\n",
       "      <td>1.202339</td>\n",
       "      <td>0.190084</td>\n",
       "      <td>2237.596436</td>\n",
       "      <td>1.326049</td>\n",
       "      <td>0.221344</td>\n",
       "      <td>76.160312</td>\n",
       "      <td>2</td>\n",
       "    </tr>\n",
       "  </tbody>\n",
       "</table>\n",
       "</div>"
      ],
      "text/plain": [
       "   eventId  clusterId  PrimaryDecayMode  VecShowerEnergy        S_sum  \\\n",
       "0        1          4                 5      1800.534376   940.830078   \n",
       "1        1          6                 5      8846.113024  1004.029785   \n",
       "2        1          3                 5      1536.473341  1051.808228   \n",
       "3        2          8                 5      9909.289630  1245.740112   \n",
       "4        4         10                 4      2431.929683  1607.251709   \n",
       "\n",
       "   S_rad_mean     S_hot        C_sum  C_rad_mean     C_hot  dist2charge  label  \n",
       "0    1.029599  0.275822  1335.482056    1.045024  0.350993    56.019219      2  \n",
       "1    1.409577  0.188146  3485.240479    1.588097  0.276602    87.007090      2  \n",
       "2    1.191492  0.250219   795.982666    1.062965  0.233333    50.515221      2  \n",
       "3    1.459897  0.245276  4685.632812    1.263931  0.334092   401.636652      2  \n",
       "4    1.202339  0.190084  2237.596436    1.326049  0.221344    76.160312      2  "
      ]
     },
     "execution_count": 46,
     "metadata": {},
     "output_type": "execute_result"
    }
   ],
   "source": [
    "df = pd.read_csv('data.csv')\n",
    "print(df.shape)\n",
    "df.head()"
   ]
  },
  {
   "cell_type": "code",
   "execution_count": 44,
   "metadata": {},
   "outputs": [
    {
     "name": "stdout",
     "output_type": "stream",
     "text": [
      "(932,) (400,)\n"
     ]
    }
   ],
   "source": [
    "# train test split by eventId!\n",
    "id_train, id_test = train_test_split(df.eventId.values,\n",
    "                                     test_size=0.3, \n",
    "                                     random_state=42,\n",
    "                                     stratify=df.PrimaryDecayMode.values)\n",
    "print(id_train.shape, id_test.shape)"
   ]
  },
  {
   "cell_type": "code",
   "execution_count": 29,
   "metadata": {},
   "outputs": [],
   "source": [
    "excl_columns = ['PrimaryDecayMode', 'clusterId', 'VecShowerEnergy', 'label']\n",
    "\n",
    "# train dataset\n",
    "df_train = df[df.eventId.isin(id_train)].drop(['eventId'], axis=1)\n",
    "y_train = df_train.label.values\n",
    "z_train = df_train.VecShowerEnergy.values\n",
    "df_train.drop(excl_columns, inplace=True, axis=1)\n",
    "X_train = df_train.values\n",
    "train_data = lgb.Dataset(X_train, label=y_train)\n",
    "\n",
    "# test data set\n",
    "df_test = df[df.eventId.isin(id_test)].drop(['eventId'], axis=1)\n",
    "y_test = df_test.label.values\n",
    "z_test = df_test.VecShowerEnergy.values\n",
    "id_test = df_test.clusterId.values.reshape([-1,1])\n",
    "df_test.drop(excl_columns, inplace=True, axis=1)\n",
    "X_test = df_test.values\n",
    "test_data = lgb.Dataset(X_test, label=y_test)"
   ]
  },
  {
   "cell_type": "markdown",
   "metadata": {},
   "source": [
    "### Plot features"
   ]
  },
  {
   "cell_type": "code",
   "execution_count": 73,
   "metadata": {},
   "outputs": [
    {
     "data": {
      "image/png": "[encoded data removed]",
      "text/plain": [
       "<Figure size 576x864 with 8 Axes>"
      ]
     },
     "metadata": {
      "needs_background": "light"
     },
     "output_type": "display_data"
    }
   ],
   "source": [
    "xtitle = df_train.columns\n",
    "fig, ax = plt.subplots(4, 2, figsize=(8,12))\n",
    "for i in range(X_train.shape[1]):\n",
    "    for j in np.unique(y_train):\n",
    "        h = ax[i//2][i%2].hist(X_train[:,i][y_train==j], histtype='step')\n",
    "        ax[i//2][i%2].set_xlabel(xtitle[i])\n",
    "        ax[i//2][i%2].set_ylabel(f\"Events\") # / {binwidth}\")"
   ]
  },
  {
   "cell_type": "markdown",
   "metadata": {},
   "source": [
    "# Classification"
   ]
  },
  {
   "cell_type": "markdown",
   "metadata": {},
   "source": [
    "(Boosted) decision trees 'unaffected' by feature scaling"
   ]
  },
  {
   "cell_type": "markdown",
   "metadata": {},
   "source": [
    "### Training"
   ]
  },
  {
   "cell_type": "code",
   "execution_count": 30,
   "metadata": {},
   "outputs": [],
   "source": [
    "params = {\n",
    "    'num_class': 4,\n",
    "    'application': 'multiclass',\n",
    "    'objective': 'multiclass',\n",
    "    'metric': 'multi_logloss',\n",
    "}"
   ]
  },
  {
   "cell_type": "code",
   "execution_count": null,
   "metadata": {},
   "outputs": [],
   "source": [
    "cv_result_lgb = lgb.cv(params,\n",
    "                       train_data,\n",
    "                       num_boost_round=500,\n",
    "                       early_stopping_rounds=20,\n",
    "                       verbose_eval=1)"
   ]
  },
  {
   "cell_type": "markdown",
   "metadata": {},
   "source": [
    "### Testing"
   ]
  },
  {
   "cell_type": "code",
   "execution_count": 164,
   "metadata": {},
   "outputs": [],
   "source": [
    "y_pred = np.argmax(model.predict(X_test), axis=1).reshape([-1,1])"
   ]
  },
  {
   "cell_type": "code",
   "execution_count": 91,
   "metadata": {},
   "outputs": [
    {
     "data": {
      "text/plain": [
       "array([[ 33,   0,   0,   2],\n",
       "       [  0,  10,   0,   4],\n",
       "       [  0,   0, 154,   0],\n",
       "       [  0,   0,   0,  18]])"
      ]
     },
     "execution_count": 91,
     "metadata": {},
     "output_type": "execute_result"
    }
   ],
   "source": [
    "confusion_matrix(y_test, y_pred)"
   ]
  },
  {
   "cell_type": "code",
   "execution_count": 99,
   "metadata": {
    "scrolled": true
   },
   "outputs": [
    {
     "data": {
      "text/html": [
       "<div>\n",
       "<style scoped>\n",
       "    .dataframe tbody tr th:only-of-type {\n",
       "        vertical-align: middle;\n",
       "    }\n",
       "\n",
       "    .dataframe tbody tr th {\n",
       "        vertical-align: top;\n",
       "    }\n",
       "\n",
       "    .dataframe thead th {\n",
       "        text-align: right;\n",
       "    }\n",
       "</style>\n",
       "<table border=\"1\" class=\"dataframe\">\n",
       "  <thead>\n",
       "    <tr style=\"text-align: right;\">\n",
       "      <th></th>\n",
       "      <th>eventId</th>\n",
       "      <th>clusterId</th>\n",
       "      <th>PrimaryDecayMode</th>\n",
       "      <th>VecShowerEnergy</th>\n",
       "      <th>S_sum</th>\n",
       "      <th>S_rad_mean</th>\n",
       "      <th>S_hot</th>\n",
       "      <th>C_sum</th>\n",
       "      <th>C_rad_mean</th>\n",
       "      <th>C_hot</th>\n",
       "      <th>dist2charge</th>\n",
       "      <th>label</th>\n",
       "      <th>predictedLabel</th>\n",
       "    </tr>\n",
       "  </thead>\n",
       "  <tbody>\n",
       "    <tr>\n",
       "      <th>0</th>\n",
       "      <td>48</td>\n",
       "      <td>117</td>\n",
       "      <td>4</td>\n",
       "      <td>27145.152914</td>\n",
       "      <td>21314.076172</td>\n",
       "      <td>2.100422</td>\n",
       "      <td>0.109939</td>\n",
       "      <td>23976.773438</td>\n",
       "      <td>1.978385</td>\n",
       "      <td>0.136850</td>\n",
       "      <td>38.708239</td>\n",
       "      <td>3</td>\n",
       "      <td>3</td>\n",
       "    </tr>\n",
       "    <tr>\n",
       "      <th>1</th>\n",
       "      <td>61</td>\n",
       "      <td>158</td>\n",
       "      <td>4</td>\n",
       "      <td>2803.146925</td>\n",
       "      <td>1603.018311</td>\n",
       "      <td>1.664667</td>\n",
       "      <td>0.108840</td>\n",
       "      <td>1857.292969</td>\n",
       "      <td>1.490503</td>\n",
       "      <td>0.152381</td>\n",
       "      <td>66.105149</td>\n",
       "      <td>3</td>\n",
       "      <td>3</td>\n",
       "    </tr>\n",
       "    <tr>\n",
       "      <th>2</th>\n",
       "      <td>61</td>\n",
       "      <td>161</td>\n",
       "      <td>4</td>\n",
       "      <td>10922.210278</td>\n",
       "      <td>8050.244141</td>\n",
       "      <td>1.966331</td>\n",
       "      <td>0.115087</td>\n",
       "      <td>8720.432617</td>\n",
       "      <td>2.006596</td>\n",
       "      <td>0.110548</td>\n",
       "      <td>50.164319</td>\n",
       "      <td>3</td>\n",
       "      <td>3</td>\n",
       "    </tr>\n",
       "    <tr>\n",
       "      <th>3</th>\n",
       "      <td>62</td>\n",
       "      <td>166</td>\n",
       "      <td>4</td>\n",
       "      <td>10361.459420</td>\n",
       "      <td>7399.282227</td>\n",
       "      <td>1.627021</td>\n",
       "      <td>0.202144</td>\n",
       "      <td>8136.710938</td>\n",
       "      <td>1.680261</td>\n",
       "      <td>0.186957</td>\n",
       "      <td>68.603123</td>\n",
       "      <td>3</td>\n",
       "      <td>3</td>\n",
       "    </tr>\n",
       "    <tr>\n",
       "      <th>4</th>\n",
       "      <td>62</td>\n",
       "      <td>165</td>\n",
       "      <td>4</td>\n",
       "      <td>7246.747640</td>\n",
       "      <td>1847.577271</td>\n",
       "      <td>0.756551</td>\n",
       "      <td>0.535721</td>\n",
       "      <td>272.964966</td>\n",
       "      <td>0.877988</td>\n",
       "      <td>0.571399</td>\n",
       "      <td>0.000000</td>\n",
       "      <td>4</td>\n",
       "      <td>4</td>\n",
       "    </tr>\n",
       "  </tbody>\n",
       "</table>\n",
       "</div>"
      ],
      "text/plain": [
       "   eventId  clusterId  PrimaryDecayMode  VecShowerEnergy         S_sum  \\\n",
       "0       48        117                 4     27145.152914  21314.076172   \n",
       "1       61        158                 4      2803.146925   1603.018311   \n",
       "2       61        161                 4     10922.210278   8050.244141   \n",
       "3       62        166                 4     10361.459420   7399.282227   \n",
       "4       62        165                 4      7246.747640   1847.577271   \n",
       "\n",
       "   S_rad_mean     S_hot         C_sum  C_rad_mean     C_hot  dist2charge  \\\n",
       "0    2.100422  0.109939  23976.773438    1.978385  0.136850    38.708239   \n",
       "1    1.664667  0.108840   1857.292969    1.490503  0.152381    66.105149   \n",
       "2    1.966331  0.115087   8720.432617    2.006596  0.110548    50.164319   \n",
       "3    1.627021  0.202144   8136.710938    1.680261  0.186957    68.603123   \n",
       "4    0.756551  0.535721    272.964966    0.877988  0.571399     0.000000   \n",
       "\n",
       "   label  predictedLabel  \n",
       "0      3               3  \n",
       "1      3               3  \n",
       "2      3               3  \n",
       "3      3               3  \n",
       "4      4               4  "
      ]
     },
     "execution_count": 99,
     "metadata": {},
     "output_type": "execute_result"
    }
   ],
   "source": [
    "df_new = pd.DataFrame(np.hstack((id_test, y_pred)), columns=['clusterId', 'predictedLabel'])\n",
    "df_merged = df.merge(df_new, how='inner', on='clusterId')\n",
    "df_merged.head()"
   ]
  },
  {
   "cell_type": "markdown",
   "metadata": {},
   "source": [
    "## Regression"
   ]
  },
  {
   "cell_type": "markdown",
   "metadata": {},
   "source": [
    "### Training"
   ]
  },
  {
   "cell_type": "code",
   "execution_count": null,
   "metadata": {},
   "outputs": [],
   "source": []
  },
  {
   "cell_type": "markdown",
   "metadata": {},
   "source": [
    "### Testing"
   ]
  },
  {
   "cell_type": "code",
   "execution_count": null,
   "metadata": {},
   "outputs": [],
   "source": []
  },
  {
   "cell_type": "markdown",
   "metadata": {},
   "source": [
    "## Decay classification"
   ]
  },
  {
   "cell_type": "code",
   "execution_count": 175,
   "metadata": {},
   "outputs": [],
   "source": [
    "def decayClassification(x):\n",
    "    counts = x.predictedLabel.value_counts()\n",
    "    mode = np.nan\n",
    "    if 1 in counts.keys():\n",
    "        mode = 1\n",
    "    elif 2 in counts.keys():\n",
    "        mode = 2\n",
    "    elif 4 in counts.keys():\n",
    "        mode = 3\n",
    "        if 3 in counts.keys():\n",
    "            if counts[3] == 2:\n",
    "                mode = 4\n",
    "            elif counts[3] == 4:\n",
    "                mode = 5\n",
    "    x['predictedPrimaryDecayMode'] = mode\n",
    "    return x"
   ]
  },
  {
   "cell_type": "code",
   "execution_count": 180,
   "metadata": {
    "scrolled": true
   },
   "outputs": [],
   "source": [
    "df_merged = df_merged.groupby('eventId').apply(decayClassification)"
   ]
  },
  {
   "cell_type": "code",
   "execution_count": 181,
   "metadata": {},
   "outputs": [
    {
     "name": "stdout",
     "output_type": "stream",
     "text": [
      "Predicted  1.0  2.0  3.0  4.0  5.0\n",
      "Actual                            \n",
      "1           33    0    2    0    0\n",
      "2            0   10    4    0    0\n",
      "3            0    0    3    0    0\n",
      "4            0    0    7   18    0\n",
      "5            0    0   16    0    5\n"
     ]
    }
   ],
   "source": [
    "confusion_matrix = pd.crosstab(df_merged.PrimaryDecayMode, df_merged.predictedPrimaryDecayMode, rownames=['Actual'], colnames=['Predicted'])\n",
    "print(confusion_matrix)"
   ]
  }
 ],
 "metadata": {
  "kernelspec": {
   "display_name": "Python 3",
   "language": "python",
   "name": "python3"
  },
  "language_info": {
   "codemirror_mode": {
    "name": "ipython",
    "version": 3
   },
   "file_extension": ".py",
   "mimetype": "text/x-python",
   "name": "python",
   "nbconvert_exporter": "python",
   "pygments_lexer": "ipython3",
   "version": "3.6.5"
  }
 },
 "nbformat": 4,
 "nbformat_minor": 2
}
