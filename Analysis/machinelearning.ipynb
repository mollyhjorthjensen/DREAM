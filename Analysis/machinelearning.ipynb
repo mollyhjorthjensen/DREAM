{
 "cells": [
  {
   "cell_type": "markdown",
   "metadata": {},
   "source": [
    "# Particle identification and energy regression"
   ]
  },
  {
   "cell_type": "code",
   "execution_count": 95,
   "metadata": {},
   "outputs": [],
   "source": [
    "import os\n",
    "import numpy as np\n",
    "import pandas as pd\n",
    "from sklearn.model_selection import train_test_split\n",
    "from sklearn.metrics import confusion_matrix\n",
    "from sklearn.metrics import accuracy_score\n",
    "import matplotlib.pyplot as plt\n",
    "import lightgbm as lgb"
   ]
  },
  {
   "cell_type": "markdown",
   "metadata": {},
   "source": [
    "## Load dataframe"
   ]
  },
  {
   "cell_type": "code",
   "execution_count": 96,
   "metadata": {},
   "outputs": [
    {
     "name": "stdout",
     "output_type": "stream",
     "text": [
      "df.shape : (39722, 15)\n"
     ]
    },
    {
     "data": {
      "text/html": [
       "<div>\n",
       "<style scoped>\n",
       "    .dataframe tbody tr th:only-of-type {\n",
       "        vertical-align: middle;\n",
       "    }\n",
       "\n",
       "    .dataframe tbody tr th {\n",
       "        vertical-align: top;\n",
       "    }\n",
       "\n",
       "    .dataframe thead th {\n",
       "        text-align: right;\n",
       "    }\n",
       "</style>\n",
       "<table border=\"1\" class=\"dataframe\">\n",
       "  <thead>\n",
       "    <tr style=\"text-align: right;\">\n",
       "      <th></th>\n",
       "      <th>eventId</th>\n",
       "      <th>clusterId</th>\n",
       "      <th>PrimaryDecayMode</th>\n",
       "      <th>VecShowerEnergy</th>\n",
       "      <th>S_sum</th>\n",
       "      <th>C_sum</th>\n",
       "      <th>S_rad_mean</th>\n",
       "      <th>C_rad_mean</th>\n",
       "      <th>S_hot</th>\n",
       "      <th>C_hot</th>\n",
       "      <th>CoverS</th>\n",
       "      <th>rec_energy</th>\n",
       "      <th>label</th>\n",
       "      <th>comi</th>\n",
       "      <th>comj</th>\n",
       "    </tr>\n",
       "  </thead>\n",
       "  <tbody>\n",
       "    <tr>\n",
       "      <th>0</th>\n",
       "      <td>0</td>\n",
       "      <td>0</td>\n",
       "      <td>1</td>\n",
       "      <td>19816.199882</td>\n",
       "      <td>1825.8025</td>\n",
       "      <td>0.0000</td>\n",
       "      <td>5.811312</td>\n",
       "      <td>NaN</td>\n",
       "      <td>0.042815</td>\n",
       "      <td>NaN</td>\n",
       "      <td>0.000000</td>\n",
       "      <td>2527.482714</td>\n",
       "      <td>1</td>\n",
       "      <td>194.160770</td>\n",
       "      <td>112.979410</td>\n",
       "    </tr>\n",
       "    <tr>\n",
       "      <th>1</th>\n",
       "      <td>1</td>\n",
       "      <td>1</td>\n",
       "      <td>4</td>\n",
       "      <td>13397.354239</td>\n",
       "      <td>6514.8620</td>\n",
       "      <td>4275.6553</td>\n",
       "      <td>4.649778</td>\n",
       "      <td>3.531102</td>\n",
       "      <td>0.071061</td>\n",
       "      <td>0.058091</td>\n",
       "      <td>0.656293</td>\n",
       "      <td>7375.418953</td>\n",
       "      <td>3</td>\n",
       "      <td>124.308455</td>\n",
       "      <td>127.515362</td>\n",
       "    </tr>\n",
       "    <tr>\n",
       "      <th>2</th>\n",
       "      <td>1</td>\n",
       "      <td>2</td>\n",
       "      <td>4</td>\n",
       "      <td>10115.048809</td>\n",
       "      <td>10436.0700</td>\n",
       "      <td>7992.4590</td>\n",
       "      <td>2.342874</td>\n",
       "      <td>1.656479</td>\n",
       "      <td>0.261235</td>\n",
       "      <td>0.188679</td>\n",
       "      <td>0.765850</td>\n",
       "      <td>11375.182248</td>\n",
       "      <td>2</td>\n",
       "      <td>135.292237</td>\n",
       "      <td>180.123139</td>\n",
       "    </tr>\n",
       "    <tr>\n",
       "      <th>3</th>\n",
       "      <td>1</td>\n",
       "      <td>3</td>\n",
       "      <td>4</td>\n",
       "      <td>4740.947309</td>\n",
       "      <td>5031.9375</td>\n",
       "      <td>4133.7246</td>\n",
       "      <td>2.474634</td>\n",
       "      <td>2.093701</td>\n",
       "      <td>0.116771</td>\n",
       "      <td>0.190987</td>\n",
       "      <td>0.821498</td>\n",
       "      <td>5377.132679</td>\n",
       "      <td>2</td>\n",
       "      <td>150.901608</td>\n",
       "      <td>175.728179</td>\n",
       "    </tr>\n",
       "    <tr>\n",
       "      <th>4</th>\n",
       "      <td>1</td>\n",
       "      <td>4</td>\n",
       "      <td>4</td>\n",
       "      <td>11594.263998</td>\n",
       "      <td>10662.7920</td>\n",
       "      <td>11079.4470</td>\n",
       "      <td>2.513136</td>\n",
       "      <td>1.768877</td>\n",
       "      <td>0.180327</td>\n",
       "      <td>0.168935</td>\n",
       "      <td>1.039076</td>\n",
       "      <td>10502.665935</td>\n",
       "      <td>2</td>\n",
       "      <td>138.046102</td>\n",
       "      <td>156.708211</td>\n",
       "    </tr>\n",
       "  </tbody>\n",
       "</table>\n",
       "</div>"
      ],
      "text/plain": [
       "   eventId  clusterId  PrimaryDecayMode  VecShowerEnergy       S_sum  \\\n",
       "0        0          0                 1     19816.199882   1825.8025   \n",
       "1        1          1                 4     13397.354239   6514.8620   \n",
       "2        1          2                 4     10115.048809  10436.0700   \n",
       "3        1          3                 4      4740.947309   5031.9375   \n",
       "4        1          4                 4     11594.263998  10662.7920   \n",
       "\n",
       "        C_sum  S_rad_mean  C_rad_mean     S_hot     C_hot    CoverS  \\\n",
       "0      0.0000    5.811312         NaN  0.042815       NaN  0.000000   \n",
       "1   4275.6553    4.649778    3.531102  0.071061  0.058091  0.656293   \n",
       "2   7992.4590    2.342874    1.656479  0.261235  0.188679  0.765850   \n",
       "3   4133.7246    2.474634    2.093701  0.116771  0.190987  0.821498   \n",
       "4  11079.4470    2.513136    1.768877  0.180327  0.168935  1.039076   \n",
       "\n",
       "     rec_energy  label        comi        comj  \n",
       "0   2527.482714      1  194.160770  112.979410  \n",
       "1   7375.418953      3  124.308455  127.515362  \n",
       "2  11375.182248      2  135.292237  180.123139  \n",
       "3   5377.132679      2  150.901608  175.728179  \n",
       "4  10502.665935      2  138.046102  156.708211  "
      ]
     },
     "execution_count": 96,
     "metadata": {},
     "output_type": "execute_result"
    }
   ],
   "source": [
    "# DATA_DIR = '/groups/hep/mojen/repositories/DREAM/Run/final_run/tauolaevts/10000'\n",
    "DATA_DIR = '/home/jupyter/DREAM'\n",
    "df = pd.read_csv(os.path.join(DATA_DIR, 'data.csv'))\n",
    "print(f\"df.shape : {df.shape}\")\n",
    "df.head()"
   ]
  },
  {
   "cell_type": "code",
   "execution_count": 97,
   "metadata": {},
   "outputs": [
    {
     "data": {
      "text/plain": [
       "0"
      ]
     },
     "execution_count": 97,
     "metadata": {},
     "output_type": "execute_result"
    }
   ],
   "source": [
    "df.rec_energy.isna().sum()"
   ]
  },
  {
   "cell_type": "markdown",
   "metadata": {},
   "source": [
    "<!-- Add column with reconstructed energy -->"
   ]
  },
  {
   "cell_type": "code",
   "execution_count": 3,
   "metadata": {},
   "outputs": [],
   "source": [
    "# cal = np.load(os.path.join(DATA_DIR, \"calibration.pkl.npy\"), allow_pickle=True).item()"
   ]
  },
  {
   "cell_type": "code",
   "execution_count": 4,
   "metadata": {},
   "outputs": [],
   "source": [
    "# df['rec_energy'] = df.apply(lambda x: (x.S_sum-cal['chi']*x.C_sum)/(1-cal['chi']), axis=1)"
   ]
  },
  {
   "cell_type": "code",
   "execution_count": 5,
   "metadata": {
    "scrolled": true
   },
   "outputs": [],
   "source": [
    "# print(f\"df.shape : {df.shape}\")\n",
    "# df.head()"
   ]
  },
  {
   "cell_type": "code",
   "execution_count": null,
   "metadata": {},
   "outputs": [],
   "source": []
  },
  {
   "cell_type": "markdown",
   "metadata": {},
   "source": [
    "## Train-test split"
   ]
  },
  {
   "cell_type": "markdown",
   "metadata": {},
   "source": [
    "Train-test split by event id such that data leakage is avoided and decay classification is possible"
   ]
  },
  {
   "cell_type": "code",
   "execution_count": 98,
   "metadata": {},
   "outputs": [],
   "source": [
    "unique_eventId = df.eventId.unique()"
   ]
  },
  {
   "cell_type": "code",
   "execution_count": 99,
   "metadata": {},
   "outputs": [],
   "source": [
    "get_mode = lambda x: x.iloc[0].PrimaryDecayMode.astype(int)\n",
    "mode_per_eventId = df.groupby('eventId').apply(get_mode).values"
   ]
  },
  {
   "cell_type": "code",
   "execution_count": 100,
   "metadata": {},
   "outputs": [],
   "source": [
    "id_train, id_test = train_test_split(unique_eventId,\n",
    "                                     test_size=0.3, \n",
    "                                     random_state=42,\n",
    "                                     stratify=mode_per_eventId)"
   ]
  },
  {
   "cell_type": "markdown",
   "metadata": {},
   "source": [
    "Assert that id_train and id_test are mutually exclusive and in total have the same size as unique event id"
   ]
  },
  {
   "cell_type": "code",
   "execution_count": 101,
   "metadata": {},
   "outputs": [],
   "source": [
    "assert len(set(id_train).intersection(set(id_test))) == 0"
   ]
  },
  {
   "cell_type": "code",
   "execution_count": 102,
   "metadata": {},
   "outputs": [],
   "source": [
    "assert id_train.shape[0] + id_test.shape[0] == len(unique_eventId)"
   ]
  },
  {
   "cell_type": "markdown",
   "metadata": {},
   "source": [
    "Split dataframe into a train and a test dataframe"
   ]
  },
  {
   "cell_type": "code",
   "execution_count": 103,
   "metadata": {},
   "outputs": [],
   "source": [
    "excl_columns = ['eventId', 'PrimaryDecayMode', 'clusterId', \n",
    "                'VecShowerEnergy', 'label', 'comi', 'comj']\n",
    "\n",
    "# train dataset\n",
    "df_train = df[df.eventId.isin(id_train)].copy()\n",
    "df_train.to_csv(os.path.join(DATA_DIR, 'dftrain.csv'), index=False)\n",
    "y_train = df_train.label.values\n",
    "z_train = df_train.VecShowerEnergy.values\n",
    "df_train.drop(excl_columns, inplace=True, axis=1)\n",
    "X_train = df_train.values\n",
    "train_data_y = lgb.Dataset(X_train, label=y_train, feature_name=list(df_train.columns.values))\n",
    "train_data_z = lgb.Dataset(X_train, label=z_train, feature_name=list(df_train.columns.values))\n",
    "\n",
    "# test data set\n",
    "df_test = df[df.eventId.isin(id_test)].copy()\n",
    "df_test.to_csv(os.path.join(DATA_DIR, 'dftest.csv'), index=False)\n",
    "idx_test = df_test.clusterId.values.reshape((-1,1))\n",
    "y_test = df_test.label.values\n",
    "z_test = df_test.VecShowerEnergy.values\n",
    "df_test.drop(excl_columns, inplace=True, axis=1)\n",
    "X_test = df_test.values\n",
    "test_data_y = lgb.Dataset(X_test, label=y_test, feature_name=list(df_test.columns.values))\n",
    "test_data_z = lgb.Dataset(X_test, label=z_test, feature_name=list(df_test.columns.values))"
   ]
  },
  {
   "cell_type": "code",
   "execution_count": 104,
   "metadata": {},
   "outputs": [
    {
     "name": "stdout",
     "output_type": "stream",
     "text": [
      "features : ['S_sum' 'C_sum' 'S_rad_mean' 'C_rad_mean' 'S_hot' 'C_hot' 'CoverS'\n",
      " 'rec_energy']\n"
     ]
    }
   ],
   "source": [
    "print(f\"features : {df_train.columns.values}\")\n",
    "assert set(df_train.columns.values) == set(df_test.columns.values)"
   ]
  },
  {
   "cell_type": "code",
   "execution_count": 105,
   "metadata": {},
   "outputs": [
    {
     "name": "stdout",
     "output_type": "stream",
     "text": [
      "df_train.shape : (27761, 8)\n",
      "df_test.shape : (11961, 8)\n"
     ]
    }
   ],
   "source": [
    "print(f\"df_train.shape : {df_train.shape}\")\n",
    "print(f\"df_test.shape : {df_test.shape}\")"
   ]
  },
  {
   "cell_type": "markdown",
   "metadata": {},
   "source": [
    "Assert that the length of the two dataframes equal the original"
   ]
  },
  {
   "cell_type": "code",
   "execution_count": 106,
   "metadata": {},
   "outputs": [],
   "source": [
    "assert df_train.shape[0] + df_test.shape[0] == df.shape[0]"
   ]
  },
  {
   "cell_type": "markdown",
   "metadata": {},
   "source": [
    "# Classification"
   ]
  },
  {
   "cell_type": "markdown",
   "metadata": {},
   "source": [
    "(Boosted) decision trees 'unaffected' by feature scaling"
   ]
  },
  {
   "cell_type": "markdown",
   "metadata": {},
   "source": [
    "### Training"
   ]
  },
  {
   "cell_type": "code",
   "execution_count": 107,
   "metadata": {},
   "outputs": [],
   "source": [
    "params = {\n",
    "    'num_class': [4],\n",
    "    'objective': ['multiclass'],  # 'multiclassova'\n",
    "    'boosting': ['gbrt'],  # default = gbdt\n",
    "    'learning_rate': [0.1, 0.05],  # default = 0.1\n",
    "    'num_leaves': [31, 41, 21],  # default = 31\n",
    "    'metric': ['multi_logloss']\n",
    "}"
   ]
  },
  {
   "cell_type": "code",
   "execution_count": 108,
   "metadata": {},
   "outputs": [
    {
     "data": {
      "text/plain": [
       "[{'num_class': 4,\n",
       "  'objective': 'multiclass',\n",
       "  'boosting': 'gbrt',\n",
       "  'learning_rate': 0.1,\n",
       "  'num_leaves': 31,\n",
       "  'metric': 'multi_logloss'},\n",
       " {'num_class': 4,\n",
       "  'objective': 'multiclass',\n",
       "  'boosting': 'gbrt',\n",
       "  'learning_rate': 0.1,\n",
       "  'num_leaves': 41,\n",
       "  'metric': 'multi_logloss'},\n",
       " {'num_class': 4,\n",
       "  'objective': 'multiclass',\n",
       "  'boosting': 'gbrt',\n",
       "  'learning_rate': 0.1,\n",
       "  'num_leaves': 21,\n",
       "  'metric': 'multi_logloss'},\n",
       " {'num_class': 4,\n",
       "  'objective': 'multiclass',\n",
       "  'boosting': 'gbrt',\n",
       "  'learning_rate': 0.05,\n",
       "  'num_leaves': 31,\n",
       "  'metric': 'multi_logloss'},\n",
       " {'num_class': 4,\n",
       "  'objective': 'multiclass',\n",
       "  'boosting': 'gbrt',\n",
       "  'learning_rate': 0.05,\n",
       "  'num_leaves': 41,\n",
       "  'metric': 'multi_logloss'},\n",
       " {'num_class': 4,\n",
       "  'objective': 'multiclass',\n",
       "  'boosting': 'gbrt',\n",
       "  'learning_rate': 0.05,\n",
       "  'num_leaves': 21,\n",
       "  'metric': 'multi_logloss'}]"
      ]
     },
     "execution_count": 108,
     "metadata": {},
     "output_type": "execute_result"
    }
   ],
   "source": [
    "import itertools\n",
    "keys, values = zip(*params.items())\n",
    "param = [dict(zip(keys, v)) for v in itertools.product(*values)]\n",
    "param"
   ]
  },
  {
   "cell_type": "code",
   "execution_count": 109,
   "metadata": {},
   "outputs": [],
   "source": [
    "results = []\n",
    "for i in range(len(param)):\n",
    "    cv_results = lgb.cv(param[i], train_data_y, num_boost_round=1000, early_stopping_rounds=20, verbose_eval=False, seed=42)\n",
    "    metric_name = param[i]['metric']+\"-mean\"\n",
    "    results += [(i, len(cv_results[metric_name]), cv_results[metric_name][-1])]"
   ]
  },
  {
   "cell_type": "code",
   "execution_count": 110,
   "metadata": {},
   "outputs": [
    {
     "data": {
      "text/plain": [
       "[(5, 252, 0.40453686079096285),\n",
       " (2, 127, 0.4053930920306309),\n",
       " (3, 195, 0.4058874275698292),\n",
       " (0, 94, 0.40629851789821936),\n",
       " (4, 159, 0.4067931206195169),\n",
       " (1, 88, 0.40872908270534014)]"
      ]
     },
     "execution_count": 110,
     "metadata": {},
     "output_type": "execute_result"
    }
   ],
   "source": [
    "results.sort(key=lambda x: x[2])\n",
    "results"
   ]
  },
  {
   "cell_type": "code",
   "execution_count": 111,
   "metadata": {},
   "outputs": [
    {
     "data": {
      "text/plain": [
       "{'num_class': 4,\n",
       " 'objective': 'multiclass',\n",
       " 'boosting': 'gbrt',\n",
       " 'learning_rate': 0.05,\n",
       " 'num_leaves': 21,\n",
       " 'metric': 'multi_logloss'}"
      ]
     },
     "execution_count": 111,
     "metadata": {},
     "output_type": "execute_result"
    }
   ],
   "source": [
    "param[results[0][0]]"
   ]
  },
  {
   "cell_type": "code",
   "execution_count": 112,
   "metadata": {},
   "outputs": [],
   "source": [
    "bst = lgb.train(param[results[0][0]], train_data_y, num_boost_round=results[0][1])"
   ]
  },
  {
   "cell_type": "markdown",
   "metadata": {},
   "source": [
    "### Testing"
   ]
  },
  {
   "cell_type": "code",
   "execution_count": 113,
   "metadata": {},
   "outputs": [],
   "source": [
    "y_pred = np.argmax(bst.predict(X_test), axis=1).reshape([-1,1])"
   ]
  },
  {
   "cell_type": "code",
   "execution_count": 114,
   "metadata": {},
   "outputs": [
    {
     "data": {
      "text/plain": [
       "array([[ 605,    0,  798,    6],\n",
       "       [   1,  610,  112,  249],\n",
       "       [ 227,   28, 5890,  148],\n",
       "       [  35,  216,  170, 2866]])"
      ]
     },
     "execution_count": 114,
     "metadata": {},
     "output_type": "execute_result"
    }
   ],
   "source": [
    "confusion_matrix(y_test, y_pred)"
   ]
  },
  {
   "cell_type": "code",
   "execution_count": 115,
   "metadata": {},
   "outputs": [
    {
     "data": {
      "text/plain": [
       "0.8336259510074409"
      ]
     },
     "execution_count": 115,
     "metadata": {},
     "output_type": "execute_result"
    }
   ],
   "source": [
    "accuracy_score(y_test, y_pred)"
   ]
  },
  {
   "cell_type": "code",
   "execution_count": 116,
   "metadata": {
    "scrolled": true
   },
   "outputs": [
    {
     "data": {
      "text/html": [
       "<div>\n",
       "<style scoped>\n",
       "    .dataframe tbody tr th:only-of-type {\n",
       "        vertical-align: middle;\n",
       "    }\n",
       "\n",
       "    .dataframe tbody tr th {\n",
       "        vertical-align: top;\n",
       "    }\n",
       "\n",
       "    .dataframe thead th {\n",
       "        text-align: right;\n",
       "    }\n",
       "</style>\n",
       "<table border=\"1\" class=\"dataframe\">\n",
       "  <thead>\n",
       "    <tr style=\"text-align: right;\">\n",
       "      <th></th>\n",
       "      <th>eventId</th>\n",
       "      <th>clusterId</th>\n",
       "      <th>PrimaryDecayMode</th>\n",
       "      <th>VecShowerEnergy</th>\n",
       "      <th>S_sum</th>\n",
       "      <th>C_sum</th>\n",
       "      <th>S_rad_mean</th>\n",
       "      <th>C_rad_mean</th>\n",
       "      <th>S_hot</th>\n",
       "      <th>C_hot</th>\n",
       "      <th>CoverS</th>\n",
       "      <th>rec_energy</th>\n",
       "      <th>label</th>\n",
       "      <th>comi</th>\n",
       "      <th>comj</th>\n",
       "      <th>predictedLabel</th>\n",
       "    </tr>\n",
       "  </thead>\n",
       "  <tbody>\n",
       "    <tr>\n",
       "      <th>0</th>\n",
       "      <td>1</td>\n",
       "      <td>1</td>\n",
       "      <td>4</td>\n",
       "      <td>13397.354239</td>\n",
       "      <td>6514.8620</td>\n",
       "      <td>4275.6553</td>\n",
       "      <td>4.649778</td>\n",
       "      <td>3.531102</td>\n",
       "      <td>0.071061</td>\n",
       "      <td>0.058091</td>\n",
       "      <td>0.656293</td>\n",
       "      <td>7375.418953</td>\n",
       "      <td>3</td>\n",
       "      <td>124.308455</td>\n",
       "      <td>127.515362</td>\n",
       "      <td>3</td>\n",
       "    </tr>\n",
       "    <tr>\n",
       "      <th>1</th>\n",
       "      <td>1</td>\n",
       "      <td>2</td>\n",
       "      <td>4</td>\n",
       "      <td>10115.048809</td>\n",
       "      <td>10436.0700</td>\n",
       "      <td>7992.4590</td>\n",
       "      <td>2.342874</td>\n",
       "      <td>1.656479</td>\n",
       "      <td>0.261235</td>\n",
       "      <td>0.188679</td>\n",
       "      <td>0.765850</td>\n",
       "      <td>11375.182248</td>\n",
       "      <td>2</td>\n",
       "      <td>135.292237</td>\n",
       "      <td>180.123139</td>\n",
       "      <td>2</td>\n",
       "    </tr>\n",
       "    <tr>\n",
       "      <th>2</th>\n",
       "      <td>1</td>\n",
       "      <td>3</td>\n",
       "      <td>4</td>\n",
       "      <td>4740.947309</td>\n",
       "      <td>5031.9375</td>\n",
       "      <td>4133.7246</td>\n",
       "      <td>2.474634</td>\n",
       "      <td>2.093701</td>\n",
       "      <td>0.116771</td>\n",
       "      <td>0.190987</td>\n",
       "      <td>0.821498</td>\n",
       "      <td>5377.132679</td>\n",
       "      <td>2</td>\n",
       "      <td>150.901608</td>\n",
       "      <td>175.728179</td>\n",
       "      <td>2</td>\n",
       "    </tr>\n",
       "    <tr>\n",
       "      <th>3</th>\n",
       "      <td>1</td>\n",
       "      <td>4</td>\n",
       "      <td>4</td>\n",
       "      <td>11594.263998</td>\n",
       "      <td>10662.7920</td>\n",
       "      <td>11079.4470</td>\n",
       "      <td>2.513136</td>\n",
       "      <td>1.768877</td>\n",
       "      <td>0.180327</td>\n",
       "      <td>0.168935</td>\n",
       "      <td>1.039076</td>\n",
       "      <td>10502.665935</td>\n",
       "      <td>2</td>\n",
       "      <td>138.046102</td>\n",
       "      <td>156.708211</td>\n",
       "      <td>2</td>\n",
       "    </tr>\n",
       "    <tr>\n",
       "      <th>4</th>\n",
       "      <td>1</td>\n",
       "      <td>5</td>\n",
       "      <td>4</td>\n",
       "      <td>2466.543425</td>\n",
       "      <td>1842.5836</td>\n",
       "      <td>1791.8718</td>\n",
       "      <td>2.239413</td>\n",
       "      <td>1.640046</td>\n",
       "      <td>0.152792</td>\n",
       "      <td>0.247525</td>\n",
       "      <td>0.972478</td>\n",
       "      <td>1862.072820</td>\n",
       "      <td>2</td>\n",
       "      <td>157.373335</td>\n",
       "      <td>147.430044</td>\n",
       "      <td>2</td>\n",
       "    </tr>\n",
       "    <tr>\n",
       "      <th>...</th>\n",
       "      <td>...</td>\n",
       "      <td>...</td>\n",
       "      <td>...</td>\n",
       "      <td>...</td>\n",
       "      <td>...</td>\n",
       "      <td>...</td>\n",
       "      <td>...</td>\n",
       "      <td>...</td>\n",
       "      <td>...</td>\n",
       "      <td>...</td>\n",
       "      <td>...</td>\n",
       "      <td>...</td>\n",
       "      <td>...</td>\n",
       "      <td>...</td>\n",
       "      <td>...</td>\n",
       "      <td>...</td>\n",
       "    </tr>\n",
       "    <tr>\n",
       "      <th>11956</th>\n",
       "      <td>24994</td>\n",
       "      <td>47843</td>\n",
       "      <td>4</td>\n",
       "      <td>23198.037915</td>\n",
       "      <td>20995.1740</td>\n",
       "      <td>20991.4730</td>\n",
       "      <td>2.688260</td>\n",
       "      <td>2.105588</td>\n",
       "      <td>0.180732</td>\n",
       "      <td>0.158891</td>\n",
       "      <td>0.999824</td>\n",
       "      <td>20996.596344</td>\n",
       "      <td>2</td>\n",
       "      <td>142.857341</td>\n",
       "      <td>152.197950</td>\n",
       "      <td>0</td>\n",
       "    </tr>\n",
       "    <tr>\n",
       "      <th>11957</th>\n",
       "      <td>24994</td>\n",
       "      <td>47844</td>\n",
       "      <td>4</td>\n",
       "      <td>5323.161134</td>\n",
       "      <td>4377.6500</td>\n",
       "      <td>4204.6826</td>\n",
       "      <td>2.252140</td>\n",
       "      <td>1.775723</td>\n",
       "      <td>0.135529</td>\n",
       "      <td>0.141350</td>\n",
       "      <td>0.960489</td>\n",
       "      <td>4444.123675</td>\n",
       "      <td>2</td>\n",
       "      <td>85.402598</td>\n",
       "      <td>125.760214</td>\n",
       "      <td>2</td>\n",
       "    </tr>\n",
       "    <tr>\n",
       "      <th>11958</th>\n",
       "      <td>24997</td>\n",
       "      <td>47850</td>\n",
       "      <td>3</td>\n",
       "      <td>1257.497641</td>\n",
       "      <td>1061.2260</td>\n",
       "      <td>1224.1480</td>\n",
       "      <td>1.792903</td>\n",
       "      <td>1.445399</td>\n",
       "      <td>0.127345</td>\n",
       "      <td>0.224638</td>\n",
       "      <td>1.153522</td>\n",
       "      <td>998.612906</td>\n",
       "      <td>2</td>\n",
       "      <td>111.476039</td>\n",
       "      <td>64.688250</td>\n",
       "      <td>2</td>\n",
       "    </tr>\n",
       "    <tr>\n",
       "      <th>11959</th>\n",
       "      <td>24997</td>\n",
       "      <td>47851</td>\n",
       "      <td>3</td>\n",
       "      <td>2065.989166</td>\n",
       "      <td>1842.0273</td>\n",
       "      <td>2102.3413</td>\n",
       "      <td>2.347781</td>\n",
       "      <td>2.146135</td>\n",
       "      <td>0.162746</td>\n",
       "      <td>0.172996</td>\n",
       "      <td>1.141319</td>\n",
       "      <td>1741.985163</td>\n",
       "      <td>2</td>\n",
       "      <td>183.128526</td>\n",
       "      <td>53.747914</td>\n",
       "      <td>2</td>\n",
       "    </tr>\n",
       "    <tr>\n",
       "      <th>11960</th>\n",
       "      <td>24997</td>\n",
       "      <td>47852</td>\n",
       "      <td>3</td>\n",
       "      <td>8043.507687</td>\n",
       "      <td>2779.7263</td>\n",
       "      <td>0.0000</td>\n",
       "      <td>3.312915</td>\n",
       "      <td>NaN</td>\n",
       "      <td>0.087219</td>\n",
       "      <td>NaN</td>\n",
       "      <td>0.000000</td>\n",
       "      <td>3848.012133</td>\n",
       "      <td>3</td>\n",
       "      <td>105.340324</td>\n",
       "      <td>179.070310</td>\n",
       "      <td>3</td>\n",
       "    </tr>\n",
       "  </tbody>\n",
       "</table>\n",
       "<p>11961 rows × 16 columns</p>\n",
       "</div>"
      ],
      "text/plain": [
       "       eventId  clusterId  PrimaryDecayMode  VecShowerEnergy       S_sum  \\\n",
       "0            1          1                 4     13397.354239   6514.8620   \n",
       "1            1          2                 4     10115.048809  10436.0700   \n",
       "2            1          3                 4      4740.947309   5031.9375   \n",
       "3            1          4                 4     11594.263998  10662.7920   \n",
       "4            1          5                 4      2466.543425   1842.5836   \n",
       "...        ...        ...               ...              ...         ...   \n",
       "11956    24994      47843                 4     23198.037915  20995.1740   \n",
       "11957    24994      47844                 4      5323.161134   4377.6500   \n",
       "11958    24997      47850                 3      1257.497641   1061.2260   \n",
       "11959    24997      47851                 3      2065.989166   1842.0273   \n",
       "11960    24997      47852                 3      8043.507687   2779.7263   \n",
       "\n",
       "            C_sum  S_rad_mean  C_rad_mean     S_hot     C_hot    CoverS  \\\n",
       "0       4275.6553    4.649778    3.531102  0.071061  0.058091  0.656293   \n",
       "1       7992.4590    2.342874    1.656479  0.261235  0.188679  0.765850   \n",
       "2       4133.7246    2.474634    2.093701  0.116771  0.190987  0.821498   \n",
       "3      11079.4470    2.513136    1.768877  0.180327  0.168935  1.039076   \n",
       "4       1791.8718    2.239413    1.640046  0.152792  0.247525  0.972478   \n",
       "...           ...         ...         ...       ...       ...       ...   \n",
       "11956  20991.4730    2.688260    2.105588  0.180732  0.158891  0.999824   \n",
       "11957   4204.6826    2.252140    1.775723  0.135529  0.141350  0.960489   \n",
       "11958   1224.1480    1.792903    1.445399  0.127345  0.224638  1.153522   \n",
       "11959   2102.3413    2.347781    2.146135  0.162746  0.172996  1.141319   \n",
       "11960      0.0000    3.312915         NaN  0.087219       NaN  0.000000   \n",
       "\n",
       "         rec_energy  label        comi        comj  predictedLabel  \n",
       "0       7375.418953      3  124.308455  127.515362               3  \n",
       "1      11375.182248      2  135.292237  180.123139               2  \n",
       "2       5377.132679      2  150.901608  175.728179               2  \n",
       "3      10502.665935      2  138.046102  156.708211               2  \n",
       "4       1862.072820      2  157.373335  147.430044               2  \n",
       "...             ...    ...         ...         ...             ...  \n",
       "11956  20996.596344      2  142.857341  152.197950               0  \n",
       "11957   4444.123675      2   85.402598  125.760214               2  \n",
       "11958    998.612906      2  111.476039   64.688250               2  \n",
       "11959   1741.985163      2  183.128526   53.747914               2  \n",
       "11960   3848.012133      3  105.340324  179.070310               3  \n",
       "\n",
       "[11961 rows x 16 columns]"
      ]
     },
     "execution_count": 116,
     "metadata": {},
     "output_type": "execute_result"
    }
   ],
   "source": [
    "df_new = pd.DataFrame(np.hstack((idx_test, y_pred)), columns=['clusterId', 'predictedLabel'])\n",
    "df_merged = df.merge(df_new, how='inner', on='clusterId')\n",
    "df_merged"
   ]
  },
  {
   "cell_type": "code",
   "execution_count": 117,
   "metadata": {},
   "outputs": [
    {
     "data": {
      "text/plain": [
       "(11961, 16)"
      ]
     },
     "execution_count": 117,
     "metadata": {},
     "output_type": "execute_result"
    }
   ],
   "source": [
    "df_merged.shape"
   ]
  },
  {
   "cell_type": "code",
   "execution_count": 118,
   "metadata": {},
   "outputs": [
    {
     "data": {
      "text/plain": [
       "0"
      ]
     },
     "execution_count": 118,
     "metadata": {},
     "output_type": "execute_result"
    }
   ],
   "source": [
    "df_merged.predictedLabel.isna().sum()"
   ]
  },
  {
   "cell_type": "code",
   "execution_count": 119,
   "metadata": {},
   "outputs": [
    {
     "data": {
      "text/plain": [
       "<matplotlib.axes._subplots.AxesSubplot at 0x7f1a5d15fa10>"
      ]
     },
     "execution_count": 119,
     "metadata": {},
     "output_type": "execute_result"
    },
    {
     "data": {
      "image/png": "[encoded data removed]",
      "text/plain": [
       "<Figure size 432x288 with 1 Axes>"
      ]
     },
     "metadata": {
      "needs_background": "light"
     },
     "output_type": "display_data"
    }
   ],
   "source": [
    "lgb.plot_importance(bst)"
   ]
  },
  {
   "cell_type": "code",
   "execution_count": 120,
   "metadata": {},
   "outputs": [
    {
     "name": "stdout",
     "output_type": "stream",
     "text": [
      "C_rad_mean0.172 +/- 0.003\n",
      "C_hot   0.065 +/- 0.002\n",
      "S_rad_mean0.062 +/- 0.002\n",
      "CoverS  0.057 +/- 0.002\n",
      "C_sum   0.050 +/- 0.002\n",
      "S_hot   0.027 +/- 0.001\n",
      "rec_energy0.021 +/- 0.002\n",
      "S_sum   0.015 +/- 0.001\n"
     ]
    }
   ],
   "source": [
    "from sklearn.inspection import permutation_importance\n",
    "model = lgb.LGBMClassifier(**param[results[0][0]], n_estimators=results[0][1])\n",
    "model = model.fit(X_train, y_train)\n",
    "r = permutation_importance(model, X_test, y_test, n_repeats=30, random_state=42)\n",
    "\n",
    "for i in r.importances_mean.argsort()[::-1]:\n",
    "    if r.importances_mean[i] - 2 * r.importances_std[i] > 0:\n",
    "        print(f\"{train_data_y.feature_name[i]:<8}\"\n",
    "              f\"{r.importances_mean[i]:.3f}\"\n",
    "              f\" +/- {r.importances_std[i]:.3f}\")"
   ]
  },
  {
   "cell_type": "code",
   "execution_count": 121,
   "metadata": {},
   "outputs": [
    {
     "data": {
      "text/plain": [
       "<matplotlib.axes._subplots.AxesSubplot at 0x7f1a5cfd5450>"
      ]
     },
     "execution_count": 121,
     "metadata": {},
     "output_type": "execute_result"
    },
    {
     "data": {
      "image/png": "[encoded data removed]",
      "text/plain": [
       "<Figure size 432x288 with 1 Axes>"
      ]
     },
     "metadata": {
      "needs_background": "light"
     },
     "output_type": "display_data"
    }
   ],
   "source": [
    "lgb.plot_tree(bst)"
   ]
  },
  {
   "cell_type": "markdown",
   "metadata": {},
   "source": [
    "## Regression"
   ]
  },
  {
   "cell_type": "markdown",
   "metadata": {},
   "source": [
    "### Training"
   ]
  },
  {
   "cell_type": "code",
   "execution_count": 122,
   "metadata": {},
   "outputs": [],
   "source": [
    "params = {\n",
    "    'objective': ['regression'],\n",
    "    'boosting': ['gbrt'],  # default = gbdt\n",
    "    'learning_rate': [0.1, 0.05], # 0.01],  # default = 0.1\n",
    "    'num_leaves': [31, 21, 41],  # default = 31\n",
    "    'metric': ['mape'], # 'rmse']\n",
    "}"
   ]
  },
  {
   "cell_type": "code",
   "execution_count": 123,
   "metadata": {},
   "outputs": [],
   "source": [
    "import itertools\n",
    "keys, values = zip(*params.items())\n",
    "param = [dict(zip(keys, v)) for v in itertools.product(*values)]"
   ]
  },
  {
   "cell_type": "code",
   "execution_count": 124,
   "metadata": {},
   "outputs": [
    {
     "data": {
      "text/plain": [
       "[{'objective': 'regression',\n",
       "  'boosting': 'gbrt',\n",
       "  'learning_rate': 0.1,\n",
       "  'num_leaves': 31,\n",
       "  'metric': 'mape'},\n",
       " {'objective': 'regression',\n",
       "  'boosting': 'gbrt',\n",
       "  'learning_rate': 0.1,\n",
       "  'num_leaves': 21,\n",
       "  'metric': 'mape'},\n",
       " {'objective': 'regression',\n",
       "  'boosting': 'gbrt',\n",
       "  'learning_rate': 0.1,\n",
       "  'num_leaves': 41,\n",
       "  'metric': 'mape'},\n",
       " {'objective': 'regression',\n",
       "  'boosting': 'gbrt',\n",
       "  'learning_rate': 0.05,\n",
       "  'num_leaves': 31,\n",
       "  'metric': 'mape'},\n",
       " {'objective': 'regression',\n",
       "  'boosting': 'gbrt',\n",
       "  'learning_rate': 0.05,\n",
       "  'num_leaves': 21,\n",
       "  'metric': 'mape'},\n",
       " {'objective': 'regression',\n",
       "  'boosting': 'gbrt',\n",
       "  'learning_rate': 0.05,\n",
       "  'num_leaves': 41,\n",
       "  'metric': 'mape'}]"
      ]
     },
     "execution_count": 124,
     "metadata": {},
     "output_type": "execute_result"
    }
   ],
   "source": [
    "param"
   ]
  },
  {
   "cell_type": "code",
   "execution_count": 125,
   "metadata": {},
   "outputs": [],
   "source": [
    "results = []\n",
    "for i in range(len(param)):\n",
    "    cv_results = lgb.cv(param[i], train_data_z, num_boost_round=1000, early_stopping_rounds=20, verbose_eval=False, seed=42, stratified=False)\n",
    "    metric_name = param[i]['metric']+\"-mean\"\n",
    "    results += [(i, len(cv_results[metric_name]), cv_results[metric_name][-1])]"
   ]
  },
  {
   "cell_type": "code",
   "execution_count": 126,
   "metadata": {},
   "outputs": [
    {
     "data": {
      "text/plain": [
       "[(5, 280, 0.3251374166027817),\n",
       " (2, 134, 0.32767821370037686),\n",
       " (3, 370, 0.3300638374867154),\n",
       " (0, 199, 0.3313337137294589),\n",
       " (4, 551, 0.3332111111793291),\n",
       " (1, 222, 0.336151969045427)]"
      ]
     },
     "execution_count": 126,
     "metadata": {},
     "output_type": "execute_result"
    }
   ],
   "source": [
    "results.sort(key=lambda x: x[2])\n",
    "results"
   ]
  },
  {
   "cell_type": "code",
   "execution_count": 127,
   "metadata": {},
   "outputs": [],
   "source": [
    "bst = lgb.train(param[results[0][0]], train_data_z, num_boost_round=results[0][1])"
   ]
  },
  {
   "cell_type": "markdown",
   "metadata": {},
   "source": [
    "### Testing"
   ]
  },
  {
   "cell_type": "code",
   "execution_count": 128,
   "metadata": {},
   "outputs": [],
   "source": [
    "z_pred = bst.predict(X_test).reshape([-1,1])"
   ]
  },
  {
   "cell_type": "code",
   "execution_count": 129,
   "metadata": {},
   "outputs": [
    {
     "data": {
      "text/plain": [
       "array([[15232.81954913],\n",
       "       [11212.47526154],\n",
       "       [ 5538.37713035],\n",
       "       ...,\n",
       "       [ 1279.50434511],\n",
       "       [ 2617.05370896],\n",
       "       [13283.00653612]])"
      ]
     },
     "execution_count": 129,
     "metadata": {},
     "output_type": "execute_result"
    }
   ],
   "source": [
    "z_pred"
   ]
  },
  {
   "cell_type": "code",
   "execution_count": 130,
   "metadata": {},
   "outputs": [
    {
     "data": {
      "text/html": [
       "<div>\n",
       "<style scoped>\n",
       "    .dataframe tbody tr th:only-of-type {\n",
       "        vertical-align: middle;\n",
       "    }\n",
       "\n",
       "    .dataframe tbody tr th {\n",
       "        vertical-align: top;\n",
       "    }\n",
       "\n",
       "    .dataframe thead th {\n",
       "        text-align: right;\n",
       "    }\n",
       "</style>\n",
       "<table border=\"1\" class=\"dataframe\">\n",
       "  <thead>\n",
       "    <tr style=\"text-align: right;\">\n",
       "      <th></th>\n",
       "      <th>eventId</th>\n",
       "      <th>clusterId</th>\n",
       "      <th>PrimaryDecayMode</th>\n",
       "      <th>VecShowerEnergy</th>\n",
       "      <th>S_sum</th>\n",
       "      <th>C_sum</th>\n",
       "      <th>S_rad_mean</th>\n",
       "      <th>C_rad_mean</th>\n",
       "      <th>S_hot</th>\n",
       "      <th>C_hot</th>\n",
       "      <th>CoverS</th>\n",
       "      <th>rec_energy</th>\n",
       "      <th>label</th>\n",
       "      <th>comi</th>\n",
       "      <th>comj</th>\n",
       "      <th>predictedLabel</th>\n",
       "      <th>predictedEnergy</th>\n",
       "    </tr>\n",
       "  </thead>\n",
       "  <tbody>\n",
       "    <tr>\n",
       "      <th>0</th>\n",
       "      <td>1</td>\n",
       "      <td>1</td>\n",
       "      <td>4</td>\n",
       "      <td>13397.354239</td>\n",
       "      <td>6514.8620</td>\n",
       "      <td>4275.6553</td>\n",
       "      <td>4.649778</td>\n",
       "      <td>3.531102</td>\n",
       "      <td>0.071061</td>\n",
       "      <td>0.058091</td>\n",
       "      <td>0.656293</td>\n",
       "      <td>7375.418953</td>\n",
       "      <td>3</td>\n",
       "      <td>124.308455</td>\n",
       "      <td>127.515362</td>\n",
       "      <td>3</td>\n",
       "      <td>15232.819549</td>\n",
       "    </tr>\n",
       "    <tr>\n",
       "      <th>1</th>\n",
       "      <td>1</td>\n",
       "      <td>2</td>\n",
       "      <td>4</td>\n",
       "      <td>10115.048809</td>\n",
       "      <td>10436.0700</td>\n",
       "      <td>7992.4590</td>\n",
       "      <td>2.342874</td>\n",
       "      <td>1.656479</td>\n",
       "      <td>0.261235</td>\n",
       "      <td>0.188679</td>\n",
       "      <td>0.765850</td>\n",
       "      <td>11375.182248</td>\n",
       "      <td>2</td>\n",
       "      <td>135.292237</td>\n",
       "      <td>180.123139</td>\n",
       "      <td>2</td>\n",
       "      <td>11212.475262</td>\n",
       "    </tr>\n",
       "    <tr>\n",
       "      <th>2</th>\n",
       "      <td>1</td>\n",
       "      <td>3</td>\n",
       "      <td>4</td>\n",
       "      <td>4740.947309</td>\n",
       "      <td>5031.9375</td>\n",
       "      <td>4133.7246</td>\n",
       "      <td>2.474634</td>\n",
       "      <td>2.093701</td>\n",
       "      <td>0.116771</td>\n",
       "      <td>0.190987</td>\n",
       "      <td>0.821498</td>\n",
       "      <td>5377.132679</td>\n",
       "      <td>2</td>\n",
       "      <td>150.901608</td>\n",
       "      <td>175.728179</td>\n",
       "      <td>2</td>\n",
       "      <td>5538.377130</td>\n",
       "    </tr>\n",
       "    <tr>\n",
       "      <th>3</th>\n",
       "      <td>1</td>\n",
       "      <td>4</td>\n",
       "      <td>4</td>\n",
       "      <td>11594.263998</td>\n",
       "      <td>10662.7920</td>\n",
       "      <td>11079.4470</td>\n",
       "      <td>2.513136</td>\n",
       "      <td>1.768877</td>\n",
       "      <td>0.180327</td>\n",
       "      <td>0.168935</td>\n",
       "      <td>1.039076</td>\n",
       "      <td>10502.665935</td>\n",
       "      <td>2</td>\n",
       "      <td>138.046102</td>\n",
       "      <td>156.708211</td>\n",
       "      <td>2</td>\n",
       "      <td>11999.057493</td>\n",
       "    </tr>\n",
       "    <tr>\n",
       "      <th>4</th>\n",
       "      <td>1</td>\n",
       "      <td>5</td>\n",
       "      <td>4</td>\n",
       "      <td>2466.543425</td>\n",
       "      <td>1842.5836</td>\n",
       "      <td>1791.8718</td>\n",
       "      <td>2.239413</td>\n",
       "      <td>1.640046</td>\n",
       "      <td>0.152792</td>\n",
       "      <td>0.247525</td>\n",
       "      <td>0.972478</td>\n",
       "      <td>1862.072820</td>\n",
       "      <td>2</td>\n",
       "      <td>157.373335</td>\n",
       "      <td>147.430044</td>\n",
       "      <td>2</td>\n",
       "      <td>2427.241780</td>\n",
       "    </tr>\n",
       "  </tbody>\n",
       "</table>\n",
       "</div>"
      ],
      "text/plain": [
       "   eventId  clusterId  PrimaryDecayMode  VecShowerEnergy       S_sum  \\\n",
       "0        1          1                 4     13397.354239   6514.8620   \n",
       "1        1          2                 4     10115.048809  10436.0700   \n",
       "2        1          3                 4      4740.947309   5031.9375   \n",
       "3        1          4                 4     11594.263998  10662.7920   \n",
       "4        1          5                 4      2466.543425   1842.5836   \n",
       "\n",
       "        C_sum  S_rad_mean  C_rad_mean     S_hot     C_hot    CoverS  \\\n",
       "0   4275.6553    4.649778    3.531102  0.071061  0.058091  0.656293   \n",
       "1   7992.4590    2.342874    1.656479  0.261235  0.188679  0.765850   \n",
       "2   4133.7246    2.474634    2.093701  0.116771  0.190987  0.821498   \n",
       "3  11079.4470    2.513136    1.768877  0.180327  0.168935  1.039076   \n",
       "4   1791.8718    2.239413    1.640046  0.152792  0.247525  0.972478   \n",
       "\n",
       "     rec_energy  label        comi        comj  predictedLabel  \\\n",
       "0   7375.418953      3  124.308455  127.515362               3   \n",
       "1  11375.182248      2  135.292237  180.123139               2   \n",
       "2   5377.132679      2  150.901608  175.728179               2   \n",
       "3  10502.665935      2  138.046102  156.708211               2   \n",
       "4   1862.072820      2  157.373335  147.430044               2   \n",
       "\n",
       "   predictedEnergy  \n",
       "0     15232.819549  \n",
       "1     11212.475262  \n",
       "2      5538.377130  \n",
       "3     11999.057493  \n",
       "4      2427.241780  "
      ]
     },
     "execution_count": 130,
     "metadata": {},
     "output_type": "execute_result"
    }
   ],
   "source": [
    "df_new2 = pd.DataFrame(np.hstack((idx_test, z_pred)), columns=['clusterId', 'predictedEnergy'])\n",
    "df_merged2 = df_merged.merge(df_new2, how='inner', on='clusterId')\n",
    "df_merged2.head()"
   ]
  },
  {
   "cell_type": "code",
   "execution_count": 131,
   "metadata": {},
   "outputs": [],
   "source": [
    "df_merged2.to_csv(os.path.join(DATA_DIR, 'dfmerged2.csv'), index=False)"
   ]
  },
  {
   "cell_type": "code",
   "execution_count": 21,
   "metadata": {},
   "outputs": [],
   "source": [
    "import ROOT\n",
    "from array import array\n",
    "\n",
    "f = ROOT.TFile( 'test_filling.root', 'recreate' )\n",
    "t = ROOT.TTree( 't1', 'tree with histos' )\n",
    " \n",
    "d1 = array('d', [0.])\n",
    "d2 = array('d', [0.])\n",
    "t.Branch('z_test', d1, \"z_test/D\")\n",
    "t.Branch('z_pred', d2, \"z_pred/D\")\n",
    "for i in range(len(z_test)):\n",
    "    d1[0] = z_test[i]\n",
    "    d2[0] = z_pred[i]\n",
    "    t.Fill()\n",
    "f.Write()\n",
    "f.Close()"
   ]
  },
  {
   "cell_type": "code",
   "execution_count": 30,
   "metadata": {},
   "outputs": [],
   "source": [
    "d = ROOT.ROOT.RDataFrame(\"t1\", \"test_filling.root\")"
   ]
  },
  {
   "cell_type": "code",
   "execution_count": 84,
   "metadata": {},
   "outputs": [
    {
     "name": "stdout",
     "output_type": "stream",
     "text": [
      " FCN=126.267 FROM MIGRAD    STATUS=CONVERGED     174 CALLS         175 TOTAL\n",
      "                     EDM=1.07037e-06    STRATEGY= 1      ERROR MATRIX ACCURATE \n",
      "  EXT PARAMETER                                   STEP         FIRST   \n",
      "  NO.   NAME      VALUE            ERROR          SIZE      DERIVATIVE \n",
      "   1  Constant     6.45350e+02   2.54135e+01   9.70878e-02   5.52580e-05\n",
      "   2  Mean         8.72143e+01   7.08781e+00   3.47234e-02  -3.19961e-05\n",
      "   3  Sigma        2.30661e+02   6.53885e+00   1.67680e-05   4.69551e-01\n",
      " FCN=169.608 FROM MIGRAD    STATUS=CONVERGED     211 CALLS         212 TOTAL\n",
      "                     EDM=5.36691e-08    STRATEGY= 1      ERROR MATRIX ACCURATE \n",
      "  EXT PARAMETER                                   STEP         FIRST   \n",
      "  NO.   NAME      VALUE            ERROR          SIZE      DERIVATIVE \n",
      "   1  Constant     6.63501e+02   2.40645e+01   1.11221e-01  -1.92411e-06\n",
      "   2  Mean         7.46872e+01   7.19131e+00   4.54626e-02   3.76746e-05\n",
      "   3  Sigma        2.71202e+02   6.77448e+00   1.43131e-05  -8.10658e-02\n",
      " FCN=182.763 FROM MIGRAD    STATUS=CONVERGED     164 CALLS         165 TOTAL\n",
      "                     EDM=5.88669e-09    STRATEGY= 1      ERROR MATRIX ACCURATE \n",
      "  EXT PARAMETER                                   STEP         FIRST   \n",
      "  NO.   NAME      VALUE            ERROR          SIZE      DERIVATIVE \n",
      "   1  Constant     3.93078e+02   1.69312e+01   8.00210e-02   1.21194e-07\n",
      "   2  Mean         9.56709e+00   1.18847e+01   7.41692e-02   8.85817e-06\n",
      "   3  Sigma        3.64376e+02   1.09818e+01   1.72488e-05   2.69998e-03\n",
      " FCN=175.765 FROM MIGRAD    STATUS=CONVERGED     167 CALLS         168 TOTAL\n",
      "                     EDM=3.05087e-08    STRATEGY= 1      ERROR MATRIX ACCURATE \n",
      "  EXT PARAMETER                                   STEP         FIRST   \n",
      "  NO.   NAME      VALUE            ERROR          SIZE      DERIVATIVE \n",
      "   1  Constant     2.25153e+02   1.17152e+01   5.28346e-02  -2.62599e-05\n",
      "   2  Mean        -1.97875e+01   1.47428e+01   9.48624e-02  -1.70327e-06\n",
      "   3  Sigma        4.04201e+02   1.51174e+01   2.19560e-05  -6.93905e-02\n",
      " FCN=185.399 FROM MIGRAD    STATUS=CONVERGED     182 CALLS         183 TOTAL\n",
      "                     EDM=6.57635e-08    STRATEGY= 1      ERROR MATRIX ACCURATE \n",
      "  EXT PARAMETER                                   STEP         FIRST   \n",
      "  NO.   NAME      VALUE            ERROR          SIZE      DERIVATIVE \n",
      "   1  Constant     1.44783e+02   8.18205e+00   3.98667e-02   9.99830e-06\n",
      "   2  Mean        -2.58540e+01   2.14292e+01   1.38807e-01  -1.51868e-05\n",
      "   3  Sigma        5.04223e+02   1.94406e+01   2.55851e-05   5.62954e-02\n",
      " FCN=185.909 FROM MIGRAD    STATUS=CONVERGED     194 CALLS         195 TOTAL\n",
      "                     EDM=4.86102e-07    STRATEGY= 1      ERROR MATRIX ACCURATE \n",
      "  EXT PARAMETER                                   STEP         FIRST   \n",
      "  NO.   NAME      VALUE            ERROR          SIZE      DERIVATIVE \n",
      "   1  Constant     1.02604e+02   7.85590e+00   3.42995e-02  -5.49718e-05\n",
      "   2  Mean        -2.55952e+01   3.18474e+01   2.08805e-01   2.24071e-05\n",
      "   3  Sigma        6.23776e+02   3.60712e+01   3.71758e-05   1.99542e-02\n",
      " FCN=168.011 FROM MIGRAD    STATUS=CONVERGED     193 CALLS         194 TOTAL\n",
      "                     EDM=3.89706e-07    STRATEGY= 1      ERROR MATRIX ACCURATE \n",
      "  EXT PARAMETER                                   STEP         FIRST   \n",
      "  NO.   NAME      VALUE            ERROR          SIZE      DERIVATIVE \n",
      "   1  Constant     6.38382e+01   5.11271e+00   2.19379e-02   1.07856e-04\n",
      "   2  Mean         5.60103e+01   3.92149e+01   2.31595e-01   5.19879e-06\n",
      "   3  Sigma        6.71267e+02   3.95164e+01   3.76232e-05   1.22395e-01\n",
      " FCN=147.606 FROM MIGRAD    STATUS=CONVERGED     147 CALLS         148 TOTAL\n",
      "                     EDM=1.20866e-07    STRATEGY= 1      ERROR MATRIX ACCURATE \n",
      "  EXT PARAMETER                                   STEP         FIRST   \n",
      "  NO.   NAME      VALUE            ERROR          SIZE      DERIVATIVE \n",
      "   1  Constant     4.73252e+01   4.85234e+00   1.71645e-02   1.48058e-04\n",
      "   2  Mean        -1.26747e+02   5.01097e+01   2.85905e-01   3.43400e-06\n",
      "   3  Sigma        7.88111e+02   6.49267e+01   4.74473e-05   5.20305e-02\n",
      " FCN=105.94 FROM MIGRAD    STATUS=CONVERGED     157 CALLS         158 TOTAL\n",
      "                     EDM=1.20106e-09    STRATEGY= 1      ERROR MATRIX ACCURATE \n",
      "  EXT PARAMETER                                   STEP         FIRST   \n",
      "  NO.   NAME      VALUE            ERROR          SIZE      DERIVATIVE \n",
      "   1  Constant     2.12158e+01   2.72590e+00   7.44394e-03   7.53426e-07\n",
      "   2  Mean        -1.70730e+00   9.39649e+01   4.49426e-01   8.70295e-08\n",
      "   3  Sigma        1.28022e+03   1.38333e+02   5.93702e-05  -2.22996e-03\n",
      " FCN=104.004 FROM MIGRAD    STATUS=CONVERGED     101 CALLS         102 TOTAL\n",
      "                     EDM=3.91787e-08    STRATEGY= 1      ERROR MATRIX ACCURATE \n",
      "  EXT PARAMETER                                   STEP         FIRST   \n",
      "  NO.   NAME      VALUE            ERROR          SIZE      DERIVATIVE \n",
      "   1  Constant     8.50760e+00   1.31325e+00   3.53828e-03  -3.27456e-04\n",
      "   2  Mean         1.94050e+02   2.71471e+02   1.14689e+00   4.12442e-07\n",
      "   3  Sigma        2.67150e+03   3.72934e+02   1.08592e-04  -1.28732e-02\n"
     ]
    },
    {
     "data": {
      "image/png": "[encoded data removed]",
      "text/plain": [
       "<IPython.core.display.Image object>"
      ]
     },
     "metadata": {},
     "output_type": "display_data"
    }
   ],
   "source": [
    "c1 = ROOT.TCanvas(\"c1\", \"c1\", 600, 600)\n",
    "ROOT.gStyle.SetOptFit(1111)\n",
    "\n",
    "binwidth = 2000\n",
    "nbins = 10\n",
    "data = {k: np.zeros(nbins) for k in ['Energy', 'EnergyRes', 'EnergyResErr']}\n",
    "for i in range(nbins):\n",
    "    d2 = d.Filter(f\"z_test > {binwidth*i} && z_test < {binwidth*(i+1)}\")\n",
    "    if d2.Count().GetValue() < 200:\n",
    "        break\n",
    "    \n",
    "    d2 = d2.Define(\"diff\", \"z_pred-z_test\")\n",
    "    h = d2.Histo1D(\"diff\")\n",
    "    h.DrawCopy()\n",
    "    r = h.Fit(\"gaus\", \"S\")\n",
    "    data['Energy'][i] = (i+0.5)*binwidth*1e-3\n",
    "    data['EnergyRes'][i] = r.Parameter(2)/((i+0.5)*binwidth+r.Parameter(1))\n",
    "    data['EnergyResErr'][i] = data['EnergyRes'][i]*(r.ParError(1)/r.Parameter(1)+r.ParError(2)/r.Parameter(2))\n",
    "c1.Draw()"
   ]
  },
  {
   "cell_type": "code",
   "execution_count": 85,
   "metadata": {},
   "outputs": [
    {
     "name": "stdout",
     "output_type": "stream",
     "text": [
      " FCN=1.65303 FROM MIGRAD    STATUS=CONVERGED      34 CALLS          35 TOTAL\n",
      "                     EDM=6.28276e-23    STRATEGY= 1      ERROR MATRIX ACCURATE \n",
      "  EXT PARAMETER                                   STEP         FIRST   \n",
      "  NO.   NAME      VALUE            ERROR          SIZE      DERIVATIVE \n",
      "   1  p0           2.56298e-01   5.22502e-02   1.14348e-05  -7.76730e-10\n",
      "   2  p1          -5.44663e-02   3.40593e-02   7.45380e-06  -1.11710e-09\n"
     ]
    },
    {
     "data": {
      "image/png": "[encoded data removed]",
      "text/plain": [
       "<IPython.core.display.Image object>"
      ]
     },
     "metadata": {},
     "output_type": "display_data"
    }
   ],
   "source": [
    "from tableauColors import palette\n",
    "\n",
    "\n",
    "ROOT.gStyle.SetOptStat(\"emr\")\n",
    "ROOT.gStyle.SetOptFit(1)\n",
    "\n",
    "c2 = ROOT.TCanvas(\"c2\", \"c2\", 600, 600)\n",
    "c2.SetLeftMargin(.12)\n",
    "c2.SetBottomMargin(.12)\n",
    "c2.SetRightMargin(.12)\n",
    "c2.SetTopMargin(.12)\n",
    "\n",
    "mg = ROOT.TMultiGraph()\n",
    "gr = [None, None]\n",
    "f1 = [None, None]\n",
    "f1[0] = ROOT.TF1(\"f1\",\"[0]/sqrt(x)+[1]\")\n",
    "f1[1] = f1[0].Clone()\n",
    "f1[0].SetLineColor(palette['blue'].GetNumber())\n",
    "f1[1].SetLineColor(palette['red'].GetNumber())\n",
    "marker = [ROOT.kFullDotLarge, ROOT.kFullTriangleUp]\n",
    "\n",
    "i = 0\n",
    "# for i,s in enumerate(['e', 'pi']):\n",
    "x = array('f', data['Energy'])\n",
    "n = len(x)\n",
    "y = array('f', data['EnergyRes'])\n",
    "ex = array('f', [0.]*n)\n",
    "ey = array('f', data['EnergyResErr'])\n",
    "gr = ROOT.TGraphErrors(n, x, y, ex, ey)\n",
    "gr.Fit(f1[i], \"S\")\n",
    "gr.SetMarkerStyle(marker[i])\n",
    "\n",
    "mg.Add(gr)\n",
    "mg.Draw('ap')\n",
    "\n",
    "c2.Update()\n",
    "\n",
    "labelsize = 0.03\n",
    "titlesize = 0.04\n",
    "titleoffset = 1.2\n",
    "labeloffset = 0.005\n",
    "linewidth = 3\n",
    "ticklength = 0.02\n",
    "\n",
    "mg.GetXaxis().SetTitle(\"E_{true} [GeV]\")\n",
    "mg.GetYaxis().SetTitle(\"#sigma/E_{reconstructed} [%]\")\n",
    "# mg.SetMinimum(0.)\n",
    "# mg.SetMaximum(16.)\n",
    "mg.GetXaxis().SetTickLength(ticklength)\n",
    "mg.GetYaxis().SetTickLength(ticklength)\n",
    "mg.GetXaxis().SetTitleSize(titlesize)\n",
    "mg.GetYaxis().SetTitleSize(titlesize)\n",
    "mg.GetXaxis().SetLabelSize(labelsize)\n",
    "mg.GetYaxis().SetLabelSize(labelsize)\n",
    "mg.GetXaxis().CenterTitle()\n",
    "mg.GetYaxis().CenterTitle()\n",
    "mg.GetXaxis().SetTitleOffset(titleoffset)\n",
    "mg.GetYaxis().SetTitleOffset(titleoffset)\n",
    "mg.GetXaxis().SetLabelOffset(labeloffset)\n",
    "mg.GetYaxis().SetLabelOffset(labeloffset)\n",
    "\n",
    "stats1 = gr.GetListOfFunctions().FindObject(\"stats\")\n",
    "# stats2 = gr[1].GetListOfFunctions().FindObject(\"stats\")\n",
    "stats1.SetTextColor(palette['blue'].GetNumber())\n",
    "# stats2.SetTextColor(palette['red'].GetNumber())\n",
    "stats1.SetX2NDC(1-c2.GetRightMargin()); stats1.SetX1NDC(stats1.GetX2NDC()-0.4)\n",
    "stats1.SetY2NDC(1-c2.GetTopMargin()-0.016); stats1.SetY1NDC(stats1.GetY2NDC()-0.12)\n",
    "# stats2.SetX2NDC(stats1.GetX2NDC()); stats2.SetX1NDC(stats1.GetX1NDC())\n",
    "# stats2.SetY2NDC(stats1.GetY1NDC()); stats2.SetY1NDC(stats2.GetY2NDC()-0.12)\n",
    "stats1.SetTextSize(labelsize)\n",
    "# stats2.SetTextSize(labelsize)\n",
    "stats1.SetBorderSize(0)\n",
    "# stats2.SetBorderSize(0)\n",
    "\n",
    "# add legend\n",
    "x1 = c2.GetLeftMargin() + 0.03\n",
    "x2 = x1 + 0.25\n",
    "y2 = 1 - c2.GetTopMargin() - 0.03 - 0.01\n",
    "y1 = y2 - 0.08\n",
    "legend = ROOT.TLegend(x1, y1, x2, y2)\n",
    "legend.SetFillColor(0)\n",
    "legend.SetBorderSize(0)\n",
    "legend.SetTextSize(labelsize)\n",
    "legend.AddEntry(gr, \"electron\", \"p\")\n",
    "# legend.AddEntry(gr[1], \"pion\", \"p\")\n",
    "legend.Draw()\n",
    "\n",
    "c2.Modified()\n",
    "c2.Print(\"energyres.png\")\n",
    "c2.Draw()"
   ]
  },
  {
   "cell_type": "code",
   "execution_count": 71,
   "metadata": {},
   "outputs": [
    {
     "data": {
      "text/plain": [
       "(array([24946.6309341 ,  1404.45580374,  1035.06862257, ...,\n",
       "         1371.90180059,  8863.42131498,  6544.48131989]),\n",
       " array([21408.33540089,   924.50801965,  1100.24599705, ...,\n",
       "         1546.25015299,  9001.60140181,  6665.59402163]))"
      ]
     },
     "execution_count": 71,
     "metadata": {},
     "output_type": "execute_result"
    }
   ],
   "source": [
    "z_pred, z_test"
   ]
  },
  {
   "cell_type": "code",
   "execution_count": 112,
   "metadata": {},
   "outputs": [
    {
     "name": "stdout",
     "output_type": "stream",
     "text": [
      "1006\n"
     ]
    },
    {
     "data": {
      "text/plain": [
       "(array([  1.,   0.,   1.,   0.,   0.,   1.,   0.,   0.,   0.,   0.,   0.,\n",
       "          1.,   1.,   1.,   0.,   0.,   0.,   2.,   1.,   0.,   2.,   1.,\n",
       "          0.,   0.,   0.,   0.,   0.,   0.,   2.,   1.,   1.,   3.,   5.,\n",
       "          2.,   4.,   2.,   1.,   7.,  18.,  61., 181., 466., 215.,  19.,\n",
       "          3.,   1.,   0.,   1.,   0.,   1.]),\n",
       " array([-10009.72150301,  -9769.20929351,  -9528.69708401,  -9288.1848745 ,\n",
       "         -9047.672665  ,  -8807.1604555 ,  -8566.648246  ,  -8326.1360365 ,\n",
       "         -8085.62382699,  -7845.11161749,  -7604.59940799,  -7364.08719849,\n",
       "         -7123.57498899,  -6883.06277948,  -6642.55056998,  -6402.03836048,\n",
       "         -6161.52615098,  -5921.01394148,  -5680.50173197,  -5439.98952247,\n",
       "         -5199.47731297,  -4958.96510347,  -4718.45289397,  -4477.94068446,\n",
       "         -4237.42847496,  -3996.91626546,  -3756.40405596,  -3515.89184646,\n",
       "         -3275.37963695,  -3034.86742745,  -2794.35521795,  -2553.84300845,\n",
       "         -2313.33079895,  -2072.81858944,  -1832.30637994,  -1591.79417044,\n",
       "         -1351.28196094,  -1110.76975144,   -870.25754193,   -629.74533243,\n",
       "          -389.23312293,   -148.72091343,     91.79129607,    332.30350558,\n",
       "           572.81571508,    813.32792458,   1053.84013408,   1294.35234358,\n",
       "          1534.86455309,   1775.37676259,   2015.88897209]),\n",
       " <a list of 50 Patch objects>)"
      ]
     },
     "execution_count": 112,
     "metadata": {},
     "output_type": "execute_result"
    },
    {
     "data": {
      "image/png": "[encoded data removed]",
      "text/plain": [
       "<Figure size 432x288 with 1 Axes>"
      ]
     },
     "metadata": {
      "needs_background": "light"
     },
     "output_type": "display_data"
    }
   ],
   "source": [
    "cond = np.bitwise_and(z_test > 1000, z_test < 2000)\n",
    "z_test[cond]\n",
    "print(len(z_test[cond]))\n",
    "plt.hist(z_test[cond] - z_pred[cond], bins=50)"
   ]
  },
  {
   "cell_type": "code",
   "execution_count": 73,
   "metadata": {},
   "outputs": [
    {
     "data": {
      "text/plain": [
       "0.19300961070466618"
      ]
     },
     "execution_count": 73,
     "metadata": {},
     "output_type": "execute_result"
    }
   ],
   "source": [
    "np.mean(np.abs(z_test - z_pred) / z_test)"
   ]
  },
  {
   "cell_type": "code",
   "execution_count": 74,
   "metadata": {},
   "outputs": [
    {
     "data": {
      "text/plain": [
       "<matplotlib.axes._subplots.AxesSubplot at 0x7f87c91d2f60>"
      ]
     },
     "execution_count": 74,
     "metadata": {},
     "output_type": "execute_result"
    },
    {
     "data": {
      "image/png": "[encoded data removed]",
      "text/plain": [
       "<Figure size 432x288 with 1 Axes>"
      ]
     },
     "metadata": {
      "needs_background": "light"
     },
     "output_type": "display_data"
    }
   ],
   "source": [
    "lgb.plot_importance(bst)"
   ]
  },
  {
   "cell_type": "code",
   "execution_count": 29,
   "metadata": {},
   "outputs": [
    {
     "ename": "ImportError",
     "evalue": "cannot import name 'Digraph'",
     "output_type": "error",
     "traceback": [
      "\u001b[0;31m---------------------------------------------------------------------------\u001b[0m",
      "\u001b[0;31mImportError\u001b[0m                               Traceback (most recent call last)",
      "\u001b[0;32m<ipython-input-29-ee95fd7246c2>\u001b[0m in \u001b[0;36m<module>\u001b[0;34m\u001b[0m\n\u001b[0;32m----> 1\u001b[0;31m \u001b[0mlgb\u001b[0m\u001b[0;34m.\u001b[0m\u001b[0mplot_tree\u001b[0m\u001b[0;34m(\u001b[0m\u001b[0mbst\u001b[0m\u001b[0;34m)\u001b[0m\u001b[0;34m\u001b[0m\u001b[0m\n\u001b[0m",
      "\u001b[0;32m~/.local/lib/python3.6/site-packages/lightgbm/plotting.py\u001b[0m in \u001b[0;36mplot_tree\u001b[0;34m(booster, ax, tree_index, figsize, dpi, old_graph_attr, old_node_attr, old_edge_attr, show_info, precision, **kwargs)\u001b[0m\n\u001b[1;32m    606\u001b[0m \u001b[0;34m\u001b[0m\u001b[0m\n\u001b[1;32m    607\u001b[0m     graph = create_tree_digraph(booster=booster, tree_index=tree_index,\n\u001b[0;32m--> 608\u001b[0;31m                                 show_info=show_info, precision=precision, **kwargs)\n\u001b[0m\u001b[1;32m    609\u001b[0m \u001b[0;34m\u001b[0m\u001b[0m\n\u001b[1;32m    610\u001b[0m     \u001b[0ms\u001b[0m \u001b[0;34m=\u001b[0m \u001b[0mBytesIO\u001b[0m\u001b[0;34m(\u001b[0m\u001b[0;34m)\u001b[0m\u001b[0;34m\u001b[0m\u001b[0m\n",
      "\u001b[0;32m~/.local/lib/python3.6/site-packages/lightgbm/plotting.py\u001b[0m in \u001b[0;36mcreate_tree_digraph\u001b[0;34m(booster, tree_index, show_info, precision, old_name, old_comment, old_filename, old_directory, old_format, old_engine, old_encoding, old_graph_attr, old_node_attr, old_edge_attr, old_body, old_strict, **kwargs)\u001b[0m\n\u001b[1;32m    541\u001b[0m         \u001b[0mshow_info\u001b[0m \u001b[0;34m=\u001b[0m \u001b[0;34m[\u001b[0m\u001b[0;34m]\u001b[0m\u001b[0;34m\u001b[0m\u001b[0m\n\u001b[1;32m    542\u001b[0m \u001b[0;34m\u001b[0m\u001b[0m\n\u001b[0;32m--> 543\u001b[0;31m     \u001b[0mgraph\u001b[0m \u001b[0;34m=\u001b[0m \u001b[0m_to_graphviz\u001b[0m\u001b[0;34m(\u001b[0m\u001b[0mtree_info\u001b[0m\u001b[0;34m,\u001b[0m \u001b[0mshow_info\u001b[0m\u001b[0;34m,\u001b[0m \u001b[0mfeature_names\u001b[0m\u001b[0;34m,\u001b[0m \u001b[0mprecision\u001b[0m\u001b[0;34m,\u001b[0m \u001b[0mmonotone_constraints\u001b[0m\u001b[0;34m,\u001b[0m \u001b[0;34m**\u001b[0m\u001b[0mkwargs\u001b[0m\u001b[0;34m)\u001b[0m\u001b[0;34m\u001b[0m\u001b[0m\n\u001b[0m\u001b[1;32m    544\u001b[0m \u001b[0;34m\u001b[0m\u001b[0m\n\u001b[1;32m    545\u001b[0m     \u001b[0;32mreturn\u001b[0m \u001b[0mgraph\u001b[0m\u001b[0;34m\u001b[0m\u001b[0m\n",
      "\u001b[0;32m~/.local/lib/python3.6/site-packages/lightgbm/plotting.py\u001b[0m in \u001b[0;36m_to_graphviz\u001b[0;34m(tree_info, show_info, feature_names, precision, constraints, **kwargs)\u001b[0m\n\u001b[1;32m    382\u001b[0m     \"\"\"\n\u001b[1;32m    383\u001b[0m     \u001b[0;32mif\u001b[0m \u001b[0mGRAPHVIZ_INSTALLED\u001b[0m\u001b[0;34m:\u001b[0m\u001b[0;34m\u001b[0m\u001b[0m\n\u001b[0;32m--> 384\u001b[0;31m         \u001b[0;32mfrom\u001b[0m \u001b[0mgraphviz\u001b[0m \u001b[0;32mimport\u001b[0m \u001b[0mDigraph\u001b[0m\u001b[0;34m\u001b[0m\u001b[0m\n\u001b[0m\u001b[1;32m    385\u001b[0m     \u001b[0;32melse\u001b[0m\u001b[0;34m:\u001b[0m\u001b[0;34m\u001b[0m\u001b[0m\n\u001b[1;32m    386\u001b[0m         \u001b[0;32mraise\u001b[0m \u001b[0mImportError\u001b[0m\u001b[0;34m(\u001b[0m\u001b[0;34m'You must install graphviz to plot tree.'\u001b[0m\u001b[0;34m)\u001b[0m\u001b[0;34m\u001b[0m\u001b[0m\n",
      "\u001b[0;31mImportError\u001b[0m: cannot import name 'Digraph'"
     ]
    },
    {
     "data": {
      "image/png": "[encoded data removed]",
      "text/plain": [
       "<Figure size 432x288 with 1 Axes>"
      ]
     },
     "metadata": {
      "needs_background": "light"
     },
     "output_type": "display_data"
    }
   ],
   "source": [
    "lgb.plot_tree(bst)"
   ]
  },
  {
   "cell_type": "markdown",
   "metadata": {},
   "source": [
    "## Pion reconstruction"
   ]
  },
  {
   "cell_type": "code",
   "execution_count": 38,
   "metadata": {},
   "outputs": [
    {
     "data": {
      "text/plain": [
       "{'[1, 2]': 'hello'}"
      ]
     },
     "execution_count": 38,
     "metadata": {},
     "output_type": "execute_result"
    }
   ],
   "source": [
    "dummy = {str([1,2]): 'hello'}\n",
    "dummy"
   ]
  },
  {
   "cell_type": "code",
   "execution_count": 42,
   "metadata": {},
   "outputs": [
    {
     "data": {
      "text/plain": [
       "[1, 2]"
      ]
     },
     "execution_count": 42,
     "metadata": {},
     "output_type": "execute_result"
    }
   ],
   "source": [
    "a = eval('[1,2]')\n",
    "a"
   ]
  },
  {
   "cell_type": "code",
   "execution_count": 197,
   "metadata": {},
   "outputs": [],
   "source": [
    "import itertools\n",
    "from scipy import spatial\n",
    "\n",
    "def pionReconstruction(df):\n",
    "    m_true = 134.9770\n",
    "    df_gamma = df[df.predictedLabel == 2]\n",
    "    if df_gamma.shape[0] >= 2:  # two or more photons\n",
    "        indices = df_gamma.index.values\n",
    "        pairs = list(map(list, itertools.combinations(indices, 2)))\n",
    "        d = {'[]': m_true}\n",
    "        for p in pairs:\n",
    "            df_gamma_pair = df_gamma.loc[p]\n",
    "            f1 = lambda x: np.sqrt((x.comi_mm-0)**2+(x.comj_mm-0)**2+(2500-0)**2)\n",
    "            df_gamma_pair['vlen'] = df_gamma_pair.apply(f1, axis=1)\n",
    "            num = df_gamma_pair.comi_mm.product() + df_gamma_pair.comj_mm.product() + 2500**2\n",
    "            denom = df_gamma_pair.vlen.product()\n",
    "            cos_theta = num / denom\n",
    "            mass = np.sqrt(2*df_gamma_pair.VecShowerEnergy.product()*(1-cos_theta))\n",
    "            d[str(p)] = mass\n",
    "        pair_of_pairs = list(map(list, itertools.combinations(pairs, 2)))\n",
    "\n",
    "        p_lst = [p for p in pair_of_pairs if len(set(p[0]+p[1])) == 4]\n",
    "        \n",
    "        if len(p_lst) == 0:\n",
    "            p_lst = [[pairs[0], []]]\n",
    "        \n",
    "        metric = []\n",
    "        for p in p_lst:\n",
    "            metric += [np.sqrt((d[str(p[0])]-m_true)**2 + (d[str(p[1])]-m_true)**2)]\n",
    "        best_idx = np.argsort(metric)[0]\n",
    "        \n",
    "        for p in p_lst[best_idx]:\n",
    "            if len(p) != 0:\n",
    "                df.at[p[0], 'pair'] = p\n",
    "                df.at[p[1], 'pair'] = p\n",
    "                df.at[p[0], 'predicted_pi0_mass'] = d[str(p)]\n",
    "                df.at[p[1], 'predicted_pi0_mass'] = d[str(p)]\n",
    "        \n",
    "        return df"
   ]
  },
  {
   "cell_type": "code",
   "execution_count": 198,
   "metadata": {},
   "outputs": [
    {
     "name": "stdout",
     "output_type": "stream",
     "text": [
      "indices [0, 1]\n",
      "pairs [[0, 1]]\n",
      "pair_of_pairs []\n",
      "p []\n"
     ]
    }
   ],
   "source": [
    "indices = list(range(2))\n",
    "print(\"indices\", indices)\n",
    "pairs = list(map(list, itertools.combinations(indices, 2)))\n",
    "print(\"pairs\", pairs)\n",
    "pair_of_pairs = list(map(list, itertools.combinations(pairs, 2)))\n",
    "print(\"pair_of_pairs\", pair_of_pairs)\n",
    "print(\"p\", [p for p in pair_of_pairs if len(set(p[0]+p[1])) == 4])"
   ]
  },
  {
   "cell_type": "code",
   "execution_count": 199,
   "metadata": {},
   "outputs": [],
   "source": [
    "p_lst = [[pairs[0], []]]"
   ]
  },
  {
   "cell_type": "code",
   "execution_count": 200,
   "metadata": {},
   "outputs": [
    {
     "name": "stdout",
     "output_type": "stream",
     "text": [
      "[0, 1] []\n"
     ]
    }
   ],
   "source": [
    "for p in p_lst:\n",
    "    print(p[0], p[1])"
   ]
  },
  {
   "cell_type": "code",
   "execution_count": null,
   "metadata": {},
   "outputs": [],
   "source": []
  },
  {
   "cell_type": "code",
   "execution_count": 201,
   "metadata": {},
   "outputs": [
    {
     "data": {
      "text/html": [
       "<div>\n",
       "<style scoped>\n",
       "    .dataframe tbody tr th:only-of-type {\n",
       "        vertical-align: middle;\n",
       "    }\n",
       "\n",
       "    .dataframe tbody tr th {\n",
       "        vertical-align: top;\n",
       "    }\n",
       "\n",
       "    .dataframe thead th {\n",
       "        text-align: right;\n",
       "    }\n",
       "</style>\n",
       "<table border=\"1\" class=\"dataframe\">\n",
       "  <thead>\n",
       "    <tr style=\"text-align: right;\">\n",
       "      <th></th>\n",
       "      <th></th>\n",
       "      <th>eventId</th>\n",
       "      <th>clusterId</th>\n",
       "      <th>PrimaryDecayMode</th>\n",
       "      <th>VecShowerEnergy</th>\n",
       "      <th>S_sum</th>\n",
       "      <th>C_sum</th>\n",
       "      <th>S_rad_mean</th>\n",
       "      <th>C_rad_mean</th>\n",
       "      <th>S_hot</th>\n",
       "      <th>C_hot</th>\n",
       "      <th>CoverS</th>\n",
       "      <th>rec_energy</th>\n",
       "      <th>label</th>\n",
       "      <th>comi</th>\n",
       "      <th>comj</th>\n",
       "      <th>predictedLabel</th>\n",
       "      <th>comi_mm</th>\n",
       "      <th>comj_mm</th>\n",
       "      <th>pair</th>\n",
       "      <th>predicted_pi0_mass</th>\n",
       "    </tr>\n",
       "    <tr>\n",
       "      <th>eventId</th>\n",
       "      <th></th>\n",
       "      <th></th>\n",
       "      <th></th>\n",
       "      <th></th>\n",
       "      <th></th>\n",
       "      <th></th>\n",
       "      <th></th>\n",
       "      <th></th>\n",
       "      <th></th>\n",
       "      <th></th>\n",
       "      <th></th>\n",
       "      <th></th>\n",
       "      <th></th>\n",
       "      <th></th>\n",
       "      <th></th>\n",
       "      <th></th>\n",
       "      <th></th>\n",
       "      <th></th>\n",
       "      <th></th>\n",
       "      <th></th>\n",
       "      <th></th>\n",
       "    </tr>\n",
       "  </thead>\n",
       "  <tbody>\n",
       "    <tr>\n",
       "      <th rowspan=\"5\" valign=\"top\">4</th>\n",
       "      <th>1</th>\n",
       "      <td>4</td>\n",
       "      <td>7</td>\n",
       "      <td>4</td>\n",
       "      <td>6158.922797</td>\n",
       "      <td>1632.9534</td>\n",
       "      <td>1117.7004</td>\n",
       "      <td>4.053835</td>\n",
       "      <td>3.379642</td>\n",
       "      <td>0.155019</td>\n",
       "      <td>0.111111</td>\n",
       "      <td>0.684466</td>\n",
       "      <td>1830.971989</td>\n",
       "      <td>3</td>\n",
       "      <td>64.367581</td>\n",
       "      <td>141.326164</td>\n",
       "      <td>1</td>\n",
       "      <td>-657.397257</td>\n",
       "      <td>-426.521509</td>\n",
       "      <td>None</td>\n",
       "      <td>None</td>\n",
       "    </tr>\n",
       "    <tr>\n",
       "      <th>2</th>\n",
       "      <td>4</td>\n",
       "      <td>8</td>\n",
       "      <td>4</td>\n",
       "      <td>952.328476</td>\n",
       "      <td>669.6271</td>\n",
       "      <td>904.8052</td>\n",
       "      <td>1.809241</td>\n",
       "      <td>1.412096</td>\n",
       "      <td>0.137390</td>\n",
       "      <td>0.294118</td>\n",
       "      <td>1.351208</td>\n",
       "      <td>579.245024</td>\n",
       "      <td>2</td>\n",
       "      <td>133.179632</td>\n",
       "      <td>106.514628</td>\n",
       "      <td>2</td>\n",
       "      <td>-450.961103</td>\n",
       "      <td>-530.956116</td>\n",
       "      <td>[2, 3]</td>\n",
       "      <td>127.118</td>\n",
       "    </tr>\n",
       "    <tr>\n",
       "      <th>3</th>\n",
       "      <td>4</td>\n",
       "      <td>9</td>\n",
       "      <td>4</td>\n",
       "      <td>5571.902271</td>\n",
       "      <td>5284.2760</td>\n",
       "      <td>4657.0854</td>\n",
       "      <td>2.436947</td>\n",
       "      <td>1.954409</td>\n",
       "      <td>0.115486</td>\n",
       "      <td>0.154286</td>\n",
       "      <td>0.881310</td>\n",
       "      <td>5525.313700</td>\n",
       "      <td>2</td>\n",
       "      <td>159.914955</td>\n",
       "      <td>147.385474</td>\n",
       "      <td>2</td>\n",
       "      <td>-370.755135</td>\n",
       "      <td>-408.343578</td>\n",
       "      <td>[2, 3]</td>\n",
       "      <td>127.118</td>\n",
       "    </tr>\n",
       "    <tr>\n",
       "      <th>4</th>\n",
       "      <td>4</td>\n",
       "      <td>10</td>\n",
       "      <td>4</td>\n",
       "      <td>7912.217502</td>\n",
       "      <td>6711.5728</td>\n",
       "      <td>7460.2070</td>\n",
       "      <td>2.626593</td>\n",
       "      <td>2.286294</td>\n",
       "      <td>0.150647</td>\n",
       "      <td>0.127229</td>\n",
       "      <td>1.111544</td>\n",
       "      <td>6423.862708</td>\n",
       "      <td>2</td>\n",
       "      <td>132.344522</td>\n",
       "      <td>129.052076</td>\n",
       "      <td>2</td>\n",
       "      <td>-453.466433</td>\n",
       "      <td>-463.343772</td>\n",
       "      <td>[4, 5]</td>\n",
       "      <td>132.816</td>\n",
       "    </tr>\n",
       "    <tr>\n",
       "      <th>5</th>\n",
       "      <td>4</td>\n",
       "      <td>11</td>\n",
       "      <td>4</td>\n",
       "      <td>5263.686564</td>\n",
       "      <td>4087.5522</td>\n",
       "      <td>5109.4880</td>\n",
       "      <td>2.418474</td>\n",
       "      <td>1.936546</td>\n",
       "      <td>0.120114</td>\n",
       "      <td>0.215278</td>\n",
       "      <td>1.250012</td>\n",
       "      <td>3694.808663</td>\n",
       "      <td>2</td>\n",
       "      <td>144.655023</td>\n",
       "      <td>142.469083</td>\n",
       "      <td>2</td>\n",
       "      <td>-416.534931</td>\n",
       "      <td>-423.092750</td>\n",
       "      <td>[4, 5]</td>\n",
       "      <td>132.816</td>\n",
       "    </tr>\n",
       "    <tr>\n",
       "      <th>...</th>\n",
       "      <th>...</th>\n",
       "      <td>...</td>\n",
       "      <td>...</td>\n",
       "      <td>...</td>\n",
       "      <td>...</td>\n",
       "      <td>...</td>\n",
       "      <td>...</td>\n",
       "      <td>...</td>\n",
       "      <td>...</td>\n",
       "      <td>...</td>\n",
       "      <td>...</td>\n",
       "      <td>...</td>\n",
       "      <td>...</td>\n",
       "      <td>...</td>\n",
       "      <td>...</td>\n",
       "      <td>...</td>\n",
       "      <td>...</td>\n",
       "      <td>...</td>\n",
       "      <td>...</td>\n",
       "      <td>...</td>\n",
       "      <td>...</td>\n",
       "    </tr>\n",
       "    <tr>\n",
       "      <th rowspan=\"5\" valign=\"top\">9999</th>\n",
       "      <th>4771</th>\n",
       "      <td>9999</td>\n",
       "      <td>19054</td>\n",
       "      <td>4</td>\n",
       "      <td>11619.544762</td>\n",
       "      <td>NaN</td>\n",
       "      <td>2128.9534</td>\n",
       "      <td>NaN</td>\n",
       "      <td>6.491337</td>\n",
       "      <td>NaN</td>\n",
       "      <td>0.083333</td>\n",
       "      <td>NaN</td>\n",
       "      <td>NaN</td>\n",
       "      <td>3</td>\n",
       "      <td>128.070879</td>\n",
       "      <td>193.934450</td>\n",
       "      <td>1</td>\n",
       "      <td>-466.287362</td>\n",
       "      <td>-268.696651</td>\n",
       "      <td>None</td>\n",
       "      <td>None</td>\n",
       "    </tr>\n",
       "    <tr>\n",
       "      <th>4772</th>\n",
       "      <td>9999</td>\n",
       "      <td>19055</td>\n",
       "      <td>4</td>\n",
       "      <td>1552.838527</td>\n",
       "      <td>1245.9636</td>\n",
       "      <td>1374.9491</td>\n",
       "      <td>2.272366</td>\n",
       "      <td>1.837243</td>\n",
       "      <td>0.103433</td>\n",
       "      <td>0.232258</td>\n",
       "      <td>1.103523</td>\n",
       "      <td>1196.392755</td>\n",
       "      <td>2</td>\n",
       "      <td>76.515689</td>\n",
       "      <td>99.070972</td>\n",
       "      <td>2</td>\n",
       "      <td>-620.952933</td>\n",
       "      <td>-553.287083</td>\n",
       "      <td>[4772, 4773]</td>\n",
       "      <td>130.149</td>\n",
       "    </tr>\n",
       "    <tr>\n",
       "      <th>4773</th>\n",
       "      <td>9999</td>\n",
       "      <td>19056</td>\n",
       "      <td>4</td>\n",
       "      <td>1546.250153</td>\n",
       "      <td>1110.4525</td>\n",
       "      <td>878.1933</td>\n",
       "      <td>1.802420</td>\n",
       "      <td>1.408833</td>\n",
       "      <td>0.220820</td>\n",
       "      <td>0.161616</td>\n",
       "      <td>0.790843</td>\n",
       "      <td>1199.712803</td>\n",
       "      <td>2</td>\n",
       "      <td>151.059278</td>\n",
       "      <td>98.118414</td>\n",
       "      <td>2</td>\n",
       "      <td>-397.322167</td>\n",
       "      <td>-556.144759</td>\n",
       "      <td>[4772, 4773]</td>\n",
       "      <td>130.149</td>\n",
       "    </tr>\n",
       "    <tr>\n",
       "      <th>4774</th>\n",
       "      <td>9999</td>\n",
       "      <td>19057</td>\n",
       "      <td>4</td>\n",
       "      <td>9001.601402</td>\n",
       "      <td>7938.5840</td>\n",
       "      <td>8027.9280</td>\n",
       "      <td>2.259283</td>\n",
       "      <td>2.144232</td>\n",
       "      <td>0.155789</td>\n",
       "      <td>0.201105</td>\n",
       "      <td>1.011254</td>\n",
       "      <td>7904.247911</td>\n",
       "      <td>2</td>\n",
       "      <td>125.814499</td>\n",
       "      <td>144.025994</td>\n",
       "      <td>2</td>\n",
       "      <td>-473.056503</td>\n",
       "      <td>-418.422018</td>\n",
       "      <td>[4774, 4775]</td>\n",
       "      <td>134.182</td>\n",
       "    </tr>\n",
       "    <tr>\n",
       "      <th>4775</th>\n",
       "      <td>9999</td>\n",
       "      <td>19058</td>\n",
       "      <td>4</td>\n",
       "      <td>6665.594022</td>\n",
       "      <td>5854.5903</td>\n",
       "      <td>5934.4580</td>\n",
       "      <td>2.362581</td>\n",
       "      <td>1.973851</td>\n",
       "      <td>0.116896</td>\n",
       "      <td>0.192825</td>\n",
       "      <td>1.013642</td>\n",
       "      <td>5823.896079</td>\n",
       "      <td>2</td>\n",
       "      <td>130.325129</td>\n",
       "      <td>129.729630</td>\n",
       "      <td>2</td>\n",
       "      <td>-459.524612</td>\n",
       "      <td>-461.311111</td>\n",
       "      <td>[4774, 4775]</td>\n",
       "      <td>134.182</td>\n",
       "    </tr>\n",
       "  </tbody>\n",
       "</table>\n",
       "<p>3046 rows × 20 columns</p>\n",
       "</div>"
      ],
      "text/plain": [
       "              eventId  clusterId  PrimaryDecayMode  VecShowerEnergy  \\\n",
       "eventId                                                               \n",
       "4       1           4          7                 4      6158.922797   \n",
       "        2           4          8                 4       952.328476   \n",
       "        3           4          9                 4      5571.902271   \n",
       "        4           4         10                 4      7912.217502   \n",
       "        5           4         11                 4      5263.686564   \n",
       "...               ...        ...               ...              ...   \n",
       "9999    4771     9999      19054                 4     11619.544762   \n",
       "        4772     9999      19055                 4      1552.838527   \n",
       "        4773     9999      19056                 4      1546.250153   \n",
       "        4774     9999      19057                 4      9001.601402   \n",
       "        4775     9999      19058                 4      6665.594022   \n",
       "\n",
       "                  S_sum      C_sum  S_rad_mean  C_rad_mean     S_hot  \\\n",
       "eventId                                                                \n",
       "4       1     1632.9534  1117.7004    4.053835    3.379642  0.155019   \n",
       "        2      669.6271   904.8052    1.809241    1.412096  0.137390   \n",
       "        3     5284.2760  4657.0854    2.436947    1.954409  0.115486   \n",
       "        4     6711.5728  7460.2070    2.626593    2.286294  0.150647   \n",
       "        5     4087.5522  5109.4880    2.418474    1.936546  0.120114   \n",
       "...                 ...        ...         ...         ...       ...   \n",
       "9999    4771        NaN  2128.9534         NaN    6.491337       NaN   \n",
       "        4772  1245.9636  1374.9491    2.272366    1.837243  0.103433   \n",
       "        4773  1110.4525   878.1933    1.802420    1.408833  0.220820   \n",
       "        4774  7938.5840  8027.9280    2.259283    2.144232  0.155789   \n",
       "        4775  5854.5903  5934.4580    2.362581    1.973851  0.116896   \n",
       "\n",
       "                 C_hot    CoverS   rec_energy  label        comi        comj  \\\n",
       "eventId                                                                        \n",
       "4       1     0.111111  0.684466  1830.971989      3   64.367581  141.326164   \n",
       "        2     0.294118  1.351208   579.245024      2  133.179632  106.514628   \n",
       "        3     0.154286  0.881310  5525.313700      2  159.914955  147.385474   \n",
       "        4     0.127229  1.111544  6423.862708      2  132.344522  129.052076   \n",
       "        5     0.215278  1.250012  3694.808663      2  144.655023  142.469083   \n",
       "...                ...       ...          ...    ...         ...         ...   \n",
       "9999    4771  0.083333       NaN          NaN      3  128.070879  193.934450   \n",
       "        4772  0.232258  1.103523  1196.392755      2   76.515689   99.070972   \n",
       "        4773  0.161616  0.790843  1199.712803      2  151.059278   98.118414   \n",
       "        4774  0.201105  1.011254  7904.247911      2  125.814499  144.025994   \n",
       "        4775  0.192825  1.013642  5823.896079      2  130.325129  129.729630   \n",
       "\n",
       "              predictedLabel     comi_mm     comj_mm          pair  \\\n",
       "eventId                                                              \n",
       "4       1                  1 -657.397257 -426.521509          None   \n",
       "        2                  2 -450.961103 -530.956116        [2, 3]   \n",
       "        3                  2 -370.755135 -408.343578        [2, 3]   \n",
       "        4                  2 -453.466433 -463.343772        [4, 5]   \n",
       "        5                  2 -416.534931 -423.092750        [4, 5]   \n",
       "...                      ...         ...         ...           ...   \n",
       "9999    4771               1 -466.287362 -268.696651          None   \n",
       "        4772               2 -620.952933 -553.287083  [4772, 4773]   \n",
       "        4773               2 -397.322167 -556.144759  [4772, 4773]   \n",
       "        4774               2 -473.056503 -418.422018  [4774, 4775]   \n",
       "        4775               2 -459.524612 -461.311111  [4774, 4775]   \n",
       "\n",
       "             predicted_pi0_mass  \n",
       "eventId                          \n",
       "4       1                  None  \n",
       "        2               127.118  \n",
       "        3               127.118  \n",
       "        4               132.816  \n",
       "        5               132.816  \n",
       "...                         ...  \n",
       "9999    4771               None  \n",
       "        4772            130.149  \n",
       "        4773            130.149  \n",
       "        4774            134.182  \n",
       "        4775            134.182  \n",
       "\n",
       "[3046 rows x 20 columns]"
      ]
     },
     "execution_count": 201,
     "metadata": {},
     "output_type": "execute_result"
    }
   ],
   "source": [
    "df_merged2 = df_merged.copy()\n",
    "df_merged2['comi_mm'] = df_merged2.apply(lambda x: 3*(x.comi-284+0.5), axis=1)\n",
    "df_merged2['comj_mm'] = df_merged2.apply(lambda x: 3*(x.comj-284+0.5), axis=1)\n",
    "df_merged2['pair'] = None\n",
    "df_merged2['predicted_pi0_mass'] = None\n",
    "df_merged2.groupby('eventId').apply(pionReconstruction)"
   ]
  },
  {
   "cell_type": "markdown",
   "metadata": {},
   "source": [
    "## Decay classification"
   ]
  },
  {
   "cell_type": "code",
   "execution_count": 48,
   "metadata": {},
   "outputs": [],
   "source": [
    "def decayClassification(x):\n",
    "    counts = x.predictedLabel.value_counts()\n",
    "    mode = np.nan\n",
    "    if 0 in counts.keys():\n",
    "        mode = 0\n",
    "    elif 1 in counts.keys():\n",
    "        mode = 1\n",
    "    elif 3 in counts.keys():\n",
    "        mode = 2\n",
    "        if 2 in counts.keys():\n",
    "            if counts[2] == 2:\n",
    "                mode = 3\n",
    "            elif counts[2] == 4:\n",
    "                mode = 4\n",
    "    elif 2 in counts.keys():\n",
    "        mode = 5\n",
    "    x['predictedPrimaryDecayMode'] = mode\n",
    "    return x"
   ]
  },
  {
   "cell_type": "code",
   "execution_count": 27,
   "metadata": {},
   "outputs": [],
   "source": [
    "def decayClassification(x):\n",
    "    counts = x.predictedLabel.value_counts()\n",
    "    mode = np.nan\n",
    "    if 0 in counts.keys(): # and (3 not in counts.index):\n",
    "        mode = 0\n",
    "    elif 1 in counts.keys(): # and (3 not in counts.index):\n",
    "        mode = 1\n",
    "    elif 3 in counts.keys():\n",
    "        mode = 2\n",
    "        if 2 in counts.keys():\n",
    "            if counts[2] in [1, 2]:\n",
    "                mode = 3\n",
    "            elif counts[2] in [3, 4]:\n",
    "                mode = 4\n",
    "    elif 2 in counts.keys():\n",
    "        mode = 5\n",
    "    x['predictedPrimaryDecayMode'] = mode\n",
    "    return x"
   ]
  },
  {
   "cell_type": "code",
   "execution_count": 28,
   "metadata": {
    "scrolled": true
   },
   "outputs": [],
   "source": [
    "df_merged2 = df_merged.groupby('eventId').apply(decayClassification)"
   ]
  },
  {
   "cell_type": "code",
   "execution_count": 29,
   "metadata": {},
   "outputs": [
    {
     "data": {
      "text/plain": [
       "0"
      ]
     },
     "execution_count": 29,
     "metadata": {},
     "output_type": "execute_result"
    }
   ],
   "source": [
    "df_merged2.predictedPrimaryDecayMode.isna().sum()"
   ]
  },
  {
   "cell_type": "code",
   "execution_count": 30,
   "metadata": {},
   "outputs": [],
   "source": [
    "mode_per_eventId = df_merged2.groupby('eventId').apply(get_mode)\n",
    "get_predmode = lambda x: x.iloc[0].predictedPrimaryDecayMode.astype(int)\n",
    "predmode_per_eventId = df_merged2.groupby('eventId').apply(get_predmode)"
   ]
  },
  {
   "cell_type": "code",
   "execution_count": 31,
   "metadata": {},
   "outputs": [
    {
     "name": "stdout",
     "output_type": "stream",
     "text": [
      "Predicted    0    1    2    3    4    5\n",
      "Actual                                 \n",
      "0          182    0    2    0    0  371\n",
      "1            0  274   59    0    0   53\n",
      "2            3   24  404    0    0   23\n",
      "3           68   49    2  256    0  184\n",
      "4           31   55    0   18  184  175\n"
     ]
    }
   ],
   "source": [
    "confusion_matrix = pd.crosstab(mode_per_eventId, #df_merged2.PrimaryDecayMode, \n",
    "                               predmode_per_eventId, #df_merged2.predictedPrimaryDecayMode, \n",
    "                               rownames=['Actual'], colnames=['Predicted'])\n",
    "print(confusion_matrix)"
   ]
  },
  {
   "cell_type": "code",
   "execution_count": 32,
   "metadata": {},
   "outputs": [
    {
     "ename": "AssertionError",
     "evalue": "",
     "output_type": "error",
     "traceback": [
      "\u001b[0;31m---------------------------------------------------------------------------\u001b[0m",
      "\u001b[0;31mAssertionError\u001b[0m                            Traceback (most recent call last)",
      "\u001b[0;32m<ipython-input-32-cae2ccd2715d>\u001b[0m in \u001b[0;36m<module>\u001b[0;34m\u001b[0m\n\u001b[0;32m----> 1\u001b[0;31m \u001b[0;32massert\u001b[0m \u001b[0mnp\u001b[0m\u001b[0;34m.\u001b[0m\u001b[0msum\u001b[0m\u001b[0;34m(\u001b[0m\u001b[0mconfusion_matrix\u001b[0m\u001b[0;34m.\u001b[0m\u001b[0mvalues\u001b[0m\u001b[0;34m)\u001b[0m \u001b[0;34m==\u001b[0m \u001b[0mdf_merged2\u001b[0m\u001b[0;34m.\u001b[0m\u001b[0mshape\u001b[0m\u001b[0;34m[\u001b[0m\u001b[0;36m0\u001b[0m\u001b[0;34m]\u001b[0m\u001b[0;34m\u001b[0m\u001b[0;34m\u001b[0m\u001b[0m\n\u001b[0m",
      "\u001b[0;31mAssertionError\u001b[0m: "
     ]
    }
   ],
   "source": [
    "assert np.sum(confusion_matrix.values) == df_merged2.shape[0]"
   ]
  },
  {
   "cell_type": "code",
   "execution_count": 33,
   "metadata": {},
   "outputs": [
    {
     "data": {
      "text/plain": [
       "0.5140284757118928"
      ]
     },
     "execution_count": 33,
     "metadata": {},
     "output_type": "execute_result"
    }
   ],
   "source": [
    "accuracy_score(df_merged2.PrimaryDecayMode.values, df_merged2.predictedPrimaryDecayMode.values)"
   ]
  },
  {
   "cell_type": "code",
   "execution_count": 34,
   "metadata": {},
   "outputs": [],
   "source": [
    "df_merged3 = df_merged2[df_merged2.PrimaryDecayMode.isin([2,3,4]) & df_merged2.predictedPrimaryDecayMode.isin([2,3,4,5])]"
   ]
  },
  {
   "cell_type": "code",
   "execution_count": 35,
   "metadata": {},
   "outputs": [
    {
     "data": {
      "text/plain": [
       "0.6404998397949375"
      ]
     },
     "execution_count": 35,
     "metadata": {},
     "output_type": "execute_result"
    }
   ],
   "source": [
    "accuracy_score(df_merged3.PrimaryDecayMode.values, df_merged3.predictedPrimaryDecayMode.values)"
   ]
  },
  {
   "cell_type": "code",
   "execution_count": null,
   "metadata": {},
   "outputs": [],
   "source": []
  }
 ],
 "metadata": {
  "environment": {
   "name": "tf2-gpu.2-1.m46",
   "type": "gcloud",
   "uri": "gcr.io/deeplearning-platform-release/tf2-gpu.2-1:m46"
  },
  "kernelspec": {
   "display_name": "Python 3",
   "language": "python",
   "name": "python3"
  },
  "language_info": {
   "codemirror_mode": {
    "name": "ipython",
    "version": 3
   },
   "file_extension": ".py",
   "mimetype": "text/x-python",
   "name": "python",
   "nbconvert_exporter": "python",
   "pygments_lexer": "ipython3",
   "version": "3.7.6"
  }
 },
 "nbformat": 4,
 "nbformat_minor": 4
}
