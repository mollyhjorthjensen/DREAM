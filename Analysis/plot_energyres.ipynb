{
 "cells": [
  {
   "cell_type": "code",
   "execution_count": 1,
   "metadata": {},
   "outputs": [
    {
     "name": "stdout",
     "output_type": "stream",
     "text": [
      "Welcome to JupyROOT 6.18/00\n"
     ]
    }
   ],
   "source": [
    "import os\n",
    "import pandas as pd\n",
    "import ROOT\n",
    "from array import array\n",
    "import seaborn as sn\n",
    "import matplotlib.pyplot as plt\n",
    "import numpy as np\n",
    "from tableauColors import palette\n",
    "from sklearn.metrics import mean_absolute_error"
   ]
  },
  {
   "cell_type": "code",
   "execution_count": 2,
   "metadata": {},
   "outputs": [
    {
     "name": "stdout",
     "output_type": "stream",
     "text": [
      "(4776, 14)\n"
     ]
    },
    {
     "data": {
      "text/html": [
       "<div>\n",
       "<style scoped>\n",
       "    .dataframe tbody tr th:only-of-type {\n",
       "        vertical-align: middle;\n",
       "    }\n",
       "\n",
       "    .dataframe tbody tr th {\n",
       "        vertical-align: top;\n",
       "    }\n",
       "\n",
       "    .dataframe thead th {\n",
       "        text-align: right;\n",
       "    }\n",
       "</style>\n",
       "<table border=\"1\" class=\"dataframe\">\n",
       "  <thead>\n",
       "    <tr style=\"text-align: right;\">\n",
       "      <th></th>\n",
       "      <th>eventId</th>\n",
       "      <th>clusterId</th>\n",
       "      <th>PrimaryDecayMode</th>\n",
       "      <th>VecShowerEnergy</th>\n",
       "      <th>S_sum</th>\n",
       "      <th>C_sum</th>\n",
       "      <th>S_rad_mean</th>\n",
       "      <th>C_rad_mean</th>\n",
       "      <th>S_hot</th>\n",
       "      <th>C_hot</th>\n",
       "      <th>CoverS</th>\n",
       "      <th>dist2charge</th>\n",
       "      <th>label</th>\n",
       "      <th>rec_energy</th>\n",
       "    </tr>\n",
       "  </thead>\n",
       "  <tbody>\n",
       "    <tr>\n",
       "      <th>0</th>\n",
       "      <td>1</td>\n",
       "      <td>5</td>\n",
       "      <td>2</td>\n",
       "      <td>7879.859769</td>\n",
       "      <td>3277.3381</td>\n",
       "      <td>1703.1630</td>\n",
       "      <td>4.790289</td>\n",
       "      <td>4.450992</td>\n",
       "      <td>0.071445</td>\n",
       "      <td>0.078125</td>\n",
       "      <td>0.519679</td>\n",
       "      <td>0.000000</td>\n",
       "      <td>3</td>\n",
       "      <td>3882.314553</td>\n",
       "    </tr>\n",
       "    <tr>\n",
       "      <th>1</th>\n",
       "      <td>4</td>\n",
       "      <td>7</td>\n",
       "      <td>4</td>\n",
       "      <td>6158.922797</td>\n",
       "      <td>1632.9534</td>\n",
       "      <td>1117.7004</td>\n",
       "      <td>4.053835</td>\n",
       "      <td>3.379642</td>\n",
       "      <td>0.155019</td>\n",
       "      <td>0.111111</td>\n",
       "      <td>0.684466</td>\n",
       "      <td>0.000000</td>\n",
       "      <td>3</td>\n",
       "      <td>1830.971989</td>\n",
       "    </tr>\n",
       "    <tr>\n",
       "      <th>2</th>\n",
       "      <td>4</td>\n",
       "      <td>8</td>\n",
       "      <td>4</td>\n",
       "      <td>952.328476</td>\n",
       "      <td>669.6271</td>\n",
       "      <td>904.8052</td>\n",
       "      <td>1.809241</td>\n",
       "      <td>1.412096</td>\n",
       "      <td>0.137390</td>\n",
       "      <td>0.294118</td>\n",
       "      <td>1.351208</td>\n",
       "      <td>77.116415</td>\n",
       "      <td>2</td>\n",
       "      <td>579.245024</td>\n",
       "    </tr>\n",
       "    <tr>\n",
       "      <th>3</th>\n",
       "      <td>4</td>\n",
       "      <td>9</td>\n",
       "      <td>4</td>\n",
       "      <td>5571.902271</td>\n",
       "      <td>5284.2760</td>\n",
       "      <td>4657.0854</td>\n",
       "      <td>2.436947</td>\n",
       "      <td>1.954409</td>\n",
       "      <td>0.115486</td>\n",
       "      <td>0.154286</td>\n",
       "      <td>0.881310</td>\n",
       "      <td>95.739312</td>\n",
       "      <td>2</td>\n",
       "      <td>5525.313700</td>\n",
       "    </tr>\n",
       "    <tr>\n",
       "      <th>4</th>\n",
       "      <td>4</td>\n",
       "      <td>10</td>\n",
       "      <td>4</td>\n",
       "      <td>7912.217502</td>\n",
       "      <td>6711.5728</td>\n",
       "      <td>7460.2070</td>\n",
       "      <td>2.626593</td>\n",
       "      <td>2.286294</td>\n",
       "      <td>0.150647</td>\n",
       "      <td>0.127229</td>\n",
       "      <td>1.111544</td>\n",
       "      <td>69.076174</td>\n",
       "      <td>2</td>\n",
       "      <td>6423.862708</td>\n",
       "    </tr>\n",
       "  </tbody>\n",
       "</table>\n",
       "</div>"
      ],
      "text/plain": [
       "   eventId  clusterId  PrimaryDecayMode  VecShowerEnergy      S_sum  \\\n",
       "0        1          5                 2      7879.859769  3277.3381   \n",
       "1        4          7                 4      6158.922797  1632.9534   \n",
       "2        4          8                 4       952.328476   669.6271   \n",
       "3        4          9                 4      5571.902271  5284.2760   \n",
       "4        4         10                 4      7912.217502  6711.5728   \n",
       "\n",
       "       C_sum  S_rad_mean  C_rad_mean     S_hot     C_hot    CoverS  \\\n",
       "0  1703.1630    4.790289    4.450992  0.071445  0.078125  0.519679   \n",
       "1  1117.7004    4.053835    3.379642  0.155019  0.111111  0.684466   \n",
       "2   904.8052    1.809241    1.412096  0.137390  0.294118  1.351208   \n",
       "3  4657.0854    2.436947    1.954409  0.115486  0.154286  0.881310   \n",
       "4  7460.2070    2.626593    2.286294  0.150647  0.127229  1.111544   \n",
       "\n",
       "   dist2charge  label   rec_energy  \n",
       "0     0.000000      3  3882.314553  \n",
       "1     0.000000      3  1830.971989  \n",
       "2    77.116415      2   579.245024  \n",
       "3    95.739312      2  5525.313700  \n",
       "4    69.076174      2  6423.862708  "
      ]
     },
     "execution_count": 2,
     "metadata": {},
     "output_type": "execute_result"
    }
   ],
   "source": [
    "DATA_DIR = '/groups/hep/mojen/repositories/DREAM/Run/final_run/tauolaevts/10000'\n",
    "fileName = os.path.join(DATA_DIR, 'dftest.csv')\n",
    "df = pd.read_csv(fileName)\n",
    "print(df.shape)\n",
    "df.head()"
   ]
  },
  {
   "cell_type": "code",
   "execution_count": 3,
   "metadata": {},
   "outputs": [
    {
     "data": {
      "text/plain": [
       "781"
      ]
     },
     "execution_count": 3,
     "metadata": {},
     "output_type": "execute_result"
    }
   ],
   "source": [
    "df.rec_energy.isna().sum()"
   ]
  },
  {
   "cell_type": "code",
   "execution_count": 4,
   "metadata": {},
   "outputs": [],
   "source": [
    "df2 = df[~df.rec_energy.isna()]"
   ]
  },
  {
   "cell_type": "code",
   "execution_count": 5,
   "metadata": {},
   "outputs": [
    {
     "data": {
      "text/plain": [
       "26.084170061696447"
      ]
     },
     "execution_count": 5,
     "metadata": {},
     "output_type": "execute_result"
    }
   ],
   "source": [
    "np.mean(np.abs((df2.VecShowerEnergy.values - df2.rec_energy.values) / df2.VecShowerEnergy.values)) * 100"
   ]
  },
  {
   "cell_type": "code",
   "execution_count": 6,
   "metadata": {},
   "outputs": [],
   "source": [
    "f = ROOT.TFile('dftest.root', 'recreate' )\n",
    "t = ROOT.TTree('test', 'tree with test set' )\n",
    "\n",
    "PrimaryDecayMode = array('i', [0])\n",
    "VecShowerEnergy = array('d', [0.])\n",
    "S_sum = array('d', [0.])\n",
    "C_sum = array('d', [0.])\n",
    "S_rad_mean = array('d', [0.])\n",
    "C_rad_mean = array('d', [0.])\n",
    "S_hot = array('d', [0.])\n",
    "C_hot = array('d', [0.])\n",
    "CoverS = array('d', [0.])\n",
    "# dist2charge = array('d', [0.])\n",
    "rec_energy = array('d', [0.])\n",
    "label = array('i', [0])\n",
    "\n",
    "t.Branch('PrimaryDecayMode', PrimaryDecayMode, \"PrimaryDecayMode/I\")\n",
    "t.Branch('VecShowerEnergy', VecShowerEnergy, \"VecShowerEnergy/D\")\n",
    "t.Branch('S_sum', S_sum, \"S_sum/D\")\n",
    "t.Branch('C_sum', C_sum, \"C_sum/D\")\n",
    "t.Branch('S_rad_mean', S_rad_mean, \"S_rad_mean/D\")\n",
    "t.Branch('C_rad_mean', C_rad_mean, \"C_rad_mean/D\")\n",
    "t.Branch('S_hot', S_hot, \"S_hot/D\")\n",
    "t.Branch('C_hot', C_hot, \"C_hot/D\")\n",
    "t.Branch('CoverS', CoverS, \"CoverS/D\")\n",
    "# t.Branch('dist2charge', dist2charge, \"dist2charge/D\")\n",
    "t.Branch('rec_energy', rec_energy, \"rec_energy/D\")\n",
    "t.Branch('label', label, \"label/I\")\n",
    "\n",
    "for i in range(df.shape[0]):\n",
    "    PrimaryDecayMode[0] = df.PrimaryDecayMode.values[i] \n",
    "    VecShowerEnergy[0] = df.VecShowerEnergy.values[i]\n",
    "    S_sum[0] = df.S_sum.values[i]\n",
    "    C_sum[0] = df.C_sum.values[i]\n",
    "    S_rad_mean[0] = df.S_rad_mean.values[i]\n",
    "    C_rad_mean[0] = df.C_rad_mean.values[i]\n",
    "    S_hot[0] = df.S_hot.values[i]\n",
    "    C_hot[0] = df.C_hot.values[i]\n",
    "    CoverS[0] = df.CoverS.values[i]\n",
    "    rec_energy[0] = df.rec_energy.values[i]\n",
    "#     dist2charge[0] = df.dist2charge.values[i]\n",
    "    label[0] = df.label.values[i]\n",
    "    t.Fill()\n",
    "f.Write()\n",
    "f.Close()"
   ]
  },
  {
   "cell_type": "code",
   "execution_count": 7,
   "metadata": {},
   "outputs": [],
   "source": [
    "tdf = ROOT.ROOT.RDataFrame(\"test\", \"dftest.root\")"
   ]
  },
  {
   "cell_type": "code",
   "execution_count": 8,
   "metadata": {},
   "outputs": [
    {
     "data": {
      "text/plain": [
       "{'PrimaryDecayMode': numpy.array([2, 4, 4, ..., 4, 4, 4], dtype=int32),\n",
       " 'VecShowerEnergy': numpy.array([7879.85976894, 6158.92279682,  952.32847575, ...,\n",
       "              1546.25015299, 9001.60140181, 6665.59402163]),\n",
       " 'S_sum': numpy.array([3277.3381, 1632.9534,  669.6271, ..., 1110.4525, 7938.584 ,\n",
       "              5854.5903]),\n",
       " 'C_sum': numpy.array([1703.163 , 1117.7004,  904.8052, ...,  878.1933, 8027.928 ,\n",
       "              5934.458 ]),\n",
       " 'S_rad_mean': numpy.array([4.790289 , 4.053835 , 1.8092409, ..., 1.8024198, 2.2592833,\n",
       "              2.362581 ]),\n",
       " 'C_rad_mean': numpy.array([4.450992 , 3.379642 , 1.4120963, ..., 1.4088335, 2.1442318,\n",
       "              1.9738507]),\n",
       " 'S_hot': numpy.array([0.07144464, 0.15501863, 0.13738985, ..., 0.2208202 ,\n",
       "              0.15578914, 0.11689573]),\n",
       " 'C_hot': numpy.array([0.078125  , 0.11111111, 0.29411766, ..., 0.16161615,\n",
       "              0.20110498, 0.19282511]),\n",
       " 'CoverS': numpy.array([0.51967876, 0.68446558, 1.35120756, ..., 0.79084274,\n",
       "              1.0112544 , 1.01364189]),\n",
       " 'rec_energy': numpy.array([3882.3145535 , 1830.97198929,  579.24502441, ...,\n",
       "              1199.71280345, 7904.24791105, 5823.89607933]),\n",
       " 'label': numpy.array([3, 3, 2, ..., 2, 2, 2], dtype=int32)}"
      ]
     },
     "execution_count": 8,
     "metadata": {},
     "output_type": "execute_result"
    }
   ],
   "source": [
    "tdf.AsNumpy()"
   ]
  },
  {
   "cell_type": "code",
   "execution_count": 36,
   "metadata": {},
   "outputs": [],
   "source": [
    "tdf2 = tdf\n",
    "tdf2 = tdf2.Define(\"percentage_error\", \"(VecShowerEnergy-rec_energy)/VecShowerEnergy\")\n",
    "tdf2 = tdf2.Filter(\"label == 3\")"
   ]
  },
  {
   "cell_type": "code",
   "execution_count": 37,
   "metadata": {},
   "outputs": [
    {
     "name": "stdout",
     "output_type": "stream",
     "text": [
      " FCN=17.791 FROM MINOS     STATUS=SUCCESSFUL    125 CALLS         461 TOTAL\n",
      "                     EDM=2.77196e-07    STRATEGY= 1      ERROR MATRIX ACCURATE \n",
      "  EXT PARAMETER                                   STEP         FIRST   \n",
      "  NO.   NAME      VALUE            ERROR          SIZE      DERIVATIVE \n",
      "   1  Constant     1.82271e+00   2.86418e-01   1.19781e-02  -5.76338e-03\n",
      "   2  Mean         4.81051e-01   8.64298e-02   5.59580e-04   2.03647e-03\n",
      "   3  Sigma        3.52786e-01   1.33066e-01   1.33066e-01   2.61312e-04\n",
      " FCN=45.7099 FROM MINOS     STATUS=SUCCESSFUL     84 CALLS         318 TOTAL\n",
      "                     EDM=1.24532e-09    STRATEGY= 1      ERROR MATRIX ACCURATE \n",
      "  EXT PARAMETER                                   STEP         FIRST   \n",
      "  NO.   NAME      VALUE            ERROR          SIZE      DERIVATIVE \n",
      "   1  Constant     2.42569e+00   2.60640e-01   3.85792e-03  -6.66857e-04\n",
      "   2  Mean         4.97629e-01   3.42689e-02   4.67291e-05  -7.41434e-03\n",
      "   3  Sigma        3.02032e-01   4.70033e-02   4.70033e-02  -6.32631e-03\n",
      " FCN=36.5952 FROM MINOS     STATUS=SUCCESSFUL     84 CALLS         323 TOTAL\n",
      "                     EDM=5.31519e-08    STRATEGY= 1      ERROR MATRIX ACCURATE \n",
      "  EXT PARAMETER                                   STEP         FIRST   \n",
      "  NO.   NAME      VALUE            ERROR          SIZE      DERIVATIVE \n",
      "   1  Constant     3.16132e+00   4.36123e-01   6.75663e-03  -5.71415e-04\n",
      "   2  Mean         5.74775e-01   3.26392e-02  -6.46636e-05   7.75679e-03\n",
      "   3  Sigma        2.77943e-01   4.64084e-02   4.64084e-02  -8.61761e-04\n",
      " FCN=34.8894 FROM MINOS     STATUS=SUCCESSFUL    105 CALLS         384 TOTAL\n",
      "                     EDM=2.74373e-08    STRATEGY= 1      ERROR MATRIX ACCURATE \n",
      "  EXT PARAMETER                                   STEP         FIRST   \n",
      "  NO.   NAME      VALUE            ERROR          SIZE      DERIVATIVE \n",
      "   1  Constant     2.46277e+00   3.65239e-01   5.67818e-03  -5.11530e-04\n",
      "   2  Mean         6.82402e-01   6.79524e-02  -2.53693e-04  -2.41075e-03\n",
      "   3  Sigma        3.80970e-01   1.01603e-01   1.01603e-01  -8.86675e-03\n",
      " FCN=8.98331 FROM MINOS     STATUS=FAILURE       141 CALLS        1266 TOTAL\n",
      "                     EDM=1.01245e-07    STRATEGY= 1      ERROR MATRIX ACCURATE \n",
      "  EXT PARAMETER                                   STEP         FIRST   \n",
      "  NO.   NAME      VALUE            ERROR          SIZE      DERIVATIVE \n",
      "   1  Constant     1.35496e+00   2.71105e-01   0.00000e+00  -2.64431e-01\n",
      "   2  Mean         6.50804e-01   3.09328e-01  -0.00000e+00   1.20342e+02\n",
      "   3  Sigma        6.54373e-01   6.48343e-01   6.48343e-01   1.76926e-04\n"
     ]
    },
    {
     "data": {
      "image/png": "[encoded data removed]",
      "text/plain": [
       "<IPython.core.display.Image object>"
      ]
     },
     "metadata": {},
     "output_type": "display_data"
    }
   ],
   "source": [
    "c1 = ROOT.TCanvas(\"c1\", \"c1\", 600, 1200)\n",
    "nbins = 5\n",
    "c1.Divide(1,nbins)\n",
    "binwidth = 10000\n",
    "stdarr = []\n",
    "for i in range(nbins):\n",
    "    c1.cd(i+1)\n",
    "    tdf3 = tdf2.Filter(f\"VecShowerEnergy > {i*binwidth} and VecShowerEnergy < {(i+1)*binwidth}\")\n",
    "#     model = (\"\", \"\", 50, -2., 2.)\n",
    "    h = tdf3.Histo1D(\"percentage_error\")\n",
    "    r = h.Fit(\"gaus\", \"SEM+\")\n",
    "#     r.Print()\n",
    "    h.DrawCopy()\n",
    "    stdarr += [r.Parameter(2) / r.Parameter(1)] #[h.GetRMS()]\n",
    "c1.Draw()"
   ]
  },
  {
   "cell_type": "code",
   "execution_count": 35,
   "metadata": {},
   "outputs": [
    {
     "data": {
      "text/plain": [
       "[<matplotlib.lines.Line2D at 0x7f8e293671d0>]"
      ]
     },
     "execution_count": 35,
     "metadata": {},
     "output_type": "execute_result"
    },
    {
     "data": {
      "image/png": "[encoded data removed]",
      "text/plain": [
       "<Figure size 432x288 with 1 Axes>"
      ]
     },
     "metadata": {
      "needs_background": "light"
     },
     "output_type": "display_data"
    }
   ],
   "source": [
    "plt.plot(stdarr, '.')"
   ]
  },
  {
   "cell_type": "code",
   "execution_count": 175,
   "metadata": {},
   "outputs": [
    {
     "data": {
      "image/png": "[encoded data removed]",
      "text/plain": [
       "<IPython.core.display.Image object>"
      ]
     },
     "metadata": {},
     "output_type": "display_data"
    }
   ],
   "source": [
    "c2 = ROOT.TCanvas(\"c2\", \"c2\", 600, 600)\n",
    "# model = (\"\", \"\", 50, -2., 2.)\n",
    "h2 = tdf2.Histo1D(\"VecShowerEnergy\")\n",
    "h2.Draw()\n",
    "# h2.Fit(\"gaus\")\n",
    "c2.Draw()"
   ]
  },
  {
   "cell_type": "code",
   "execution_count": null,
   "metadata": {},
   "outputs": [],
   "source": []
  }
 ],
 "metadata": {
  "kernelspec": {
   "display_name": "Python 3",
   "language": "python",
   "name": "python3"
  },
  "language_info": {
   "codemirror_mode": {
    "name": "ipython",
    "version": 3
   },
   "file_extension": ".py",
   "mimetype": "text/x-python",
   "name": "python",
   "nbconvert_exporter": "python",
   "pygments_lexer": "ipython3",
   "version": "3.6.5"
  }
 },
 "nbformat": 4,
 "nbformat_minor": 2
}
