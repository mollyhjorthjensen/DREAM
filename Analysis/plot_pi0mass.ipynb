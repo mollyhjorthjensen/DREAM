{
 "cells": [
  {
   "cell_type": "code",
   "execution_count": 1,
   "metadata": {},
   "outputs": [
    {
     "name": "stdout",
     "output_type": "stream",
     "text": [
      "Welcome to JupyROOT 6.18/00\n"
     ]
    }
   ],
   "source": [
    "import os\n",
    "import pandas as pd\n",
    "import ROOT\n",
    "from array import array\n",
    "import seaborn as sn\n",
    "import matplotlib.pyplot as plt\n",
    "import numpy as np\n",
    "from tableauColors import palette"
   ]
  },
  {
   "cell_type": "code",
   "execution_count": 2,
   "metadata": {},
   "outputs": [],
   "source": [
    "def modifiedZscore(rdf, col, D=3.5):\n",
    "    x = rdf.AsNumpy(columns=[col])[col]\n",
    "    xtilde = np.median(x)\n",
    "    MAD = np.median(np.abs(x-xtilde))\n",
    "    return f\"abs(0.6745*({col}-({xtilde}))/{MAD}) <= {D}\""
   ]
  },
  {
   "cell_type": "code",
   "execution_count": 3,
   "metadata": {},
   "outputs": [],
   "source": [
    "# DATA_DIR = '/groups/hep/mojen/repositories/DREAM/Run/final_run/tauolaevts/25000'\n",
    "DATA_DIR = '/groups/hep/mojen/repositories/DREAM/Analysis'\n",
    "df = pd.read_csv(os.path.join(DATA_DIR, 'predicted_pi0_mass.csv'))"
   ]
  },
  {
   "cell_type": "code",
   "execution_count": 4,
   "metadata": {},
   "outputs": [],
   "source": [
    "f = ROOT.TFile('predicted_pi0_mass.root', 'recreate' )\n",
    "t = ROOT.TTree('predicted_pi0_mass', 'predicted_pi0_mass' )\n",
    "\n",
    "predicted_pi0_mass = array('d', [0])\n",
    "\n",
    "t.Branch('predicted_pi0_mass', predicted_pi0_mass, \"predicted_pi0_mass/D\")\n",
    "\n",
    "for i in range(df.shape[0]):\n",
    "    predicted_pi0_mass[0] = df.predicted_pi0_mass.values[i] \n",
    "    t.Fill()\n",
    "\n",
    "f.Write()\n",
    "f.Close()"
   ]
  },
  {
   "cell_type": "code",
   "execution_count": 5,
   "metadata": {},
   "outputs": [],
   "source": [
    "d = ROOT.ROOT.RDataFrame(\"predicted_pi0_mass\", \"predicted_pi0_mass.root\")\n",
    "d = d.Filter(\"!std::isnan(predicted_pi0_mass)\")\n",
    "d = d.Filter(modifiedZscore(d, \"predicted_pi0_mass\"), \"modified Z-score\")"
   ]
  },
  {
   "cell_type": "code",
   "execution_count": 6,
   "metadata": {},
   "outputs": [
    {
     "data": {
      "text/plain": [
       "{'predicted_pi0_mass': numpy.array([148.83621695, 140.15100357, 141.21349854, ..., 128.96658222,\n",
       "              142.19572087, 146.95929754])}"
      ]
     },
     "execution_count": 6,
     "metadata": {},
     "output_type": "execute_result"
    }
   ],
   "source": [
    "d.AsNumpy()"
   ]
  },
  {
   "cell_type": "code",
   "execution_count": null,
   "metadata": {},
   "outputs": [],
   "source": []
  },
  {
   "cell_type": "code",
   "execution_count": 30,
   "metadata": {},
   "outputs": [
    {
     "name": "stdout",
     "output_type": "stream",
     "text": [
      " FCN=129.012 FROM MINOS     STATUS=SUCCESSFUL     20 CALLS         160 TOTAL\n",
      "                     EDM=6.87044e-10    STRATEGY= 1      ERROR MATRIX ACCURATE \n",
      "  EXT PARAMETER                                   STEP         FIRST   \n",
      "  NO.   NAME      VALUE            ERROR          SIZE      DERIVATIVE \n",
      "   1  Constant     1.06199e+02   2.96226e+00  -7.92018e-03   2.45560e-04\n",
      "   2  Mean         1.34393e+02   2.05659e-01  -9.63987e-04   7.46067e-04\n",
      "   3  Sigma        9.88931e+00   1.85272e-01   1.85272e-01   2.79957e-02\n"
     ]
    },
    {
     "data": {
      "image/png": "[encoded data removed]",
      "text/plain": [
       "<IPython.core.display.Image object>"
      ]
     },
     "metadata": {},
     "output_type": "display_data"
    }
   ],
   "source": [
    "ROOT.gStyle.SetOptStat(\"emr\")\n",
    "ROOT.gStyle.SetOptFit(1)\n",
    "c1 = ROOT.TCanvas(\"c1\", \"c1\", 600, 600)\n",
    "\n",
    "xlow = 80.\n",
    "xup = 260.\n",
    "nbins = 160\n",
    "binwidth = (xup - xlow)/nbins\n",
    "model = (\"\", \"\", nbins, xlow, xup)\n",
    "h = d.Histo1D(model, \"predicted_pi0_mass\")\n",
    "\n",
    "# h.Fit(\"gaus\", \"SEM+R\", \"\", h.GetMean()-1.5*h.GetRMS(), h.GetMean()+1.5*h.GetRMS())\n",
    "r = h.Fit(\"gaus\", \"SEM+\")\n",
    "Res = r.Parameter(2) / r.Parameter(1)\n",
    "ResErr = Res * (r.ParError(1) / r.Parameter(1) + r.ParError(2) / r.Parameter(2))\n",
    "\n",
    "h.Draw()\n",
    "\n",
    "ratio = 1.2\n",
    "ratio2 = 1.2*ratio\n",
    "linewidth = 2\n",
    "linespacing = 0.05\n",
    "\n",
    "x2ndc = 0.89+0.05\n",
    "x1ndc = x2ndc-0.4\n",
    "y2ndc = 0.88+0.05\n",
    "\n",
    "ROOT.gStyle.SetOptStat(\"e\")\n",
    "\n",
    "ROOT.gPad.SetLeftMargin(0.15)\n",
    "ROOT.gPad.SetRightMargin(0.05)\n",
    "ROOT.gPad.SetBottomMargin(0.15)\n",
    "ROOT.gPad.SetTopMargin(0.05)\n",
    "\n",
    "f = h.GetListOfFunctions().FindObject(\"gaus\")\n",
    "f.SetLineColor(palette['pink'].GetNumber())\n",
    "f.SetLineWidth(linewidth)\n",
    "\n",
    "h.SetMaximum(150.)\n",
    "\n",
    "h.SetLineColor(ROOT.kBlack)\n",
    "h.SetLineWidth(linewidth)\n",
    "\n",
    "h.GetXaxis().SetTitle(\"m_{#gamma#gamma} [MeV]\")\n",
    "h.GetYaxis().SetTitle(f\"Events / {binwidth:.1g} MeV\")\n",
    "\n",
    "h.GetXaxis().CenterTitle()\n",
    "h.GetYaxis().CenterTitle()\n",
    "\n",
    "h.GetXaxis().SetTitleOffset(ratio2 * h.GetXaxis().GetTitleOffset())\n",
    "h.GetYaxis().SetTitleOffset(h.GetXaxis().GetTitleOffset()+0.15)\n",
    "\n",
    "h.GetXaxis().SetTitleSize(ratio2 * h.GetXaxis().GetTitleSize())\n",
    "h.GetYaxis().SetTitleSize(ratio2 * h.GetYaxis().GetTitleSize())\n",
    "\n",
    "labelsize = ratio * h.GetXaxis().GetLabelSize()\n",
    "h.GetXaxis().SetLabelSize(labelsize)\n",
    "h.GetYaxis().SetLabelSize(labelsize)\n",
    "\n",
    "h.GetXaxis().SetTickSize(0.7 * ratio * h.GetXaxis().GetTickLength())\n",
    "h.GetYaxis().SetTickSize(0.7 * ratio * h.GetYaxis().GetTickLength())\n",
    "\n",
    "labeloffset = (ratio + 1) * h.GetXaxis().GetLabelOffset()\n",
    "h.GetXaxis().SetLabelOffset(labeloffset)\n",
    "h.GetYaxis().SetLabelOffset(labeloffset)\n",
    "\n",
    "c1.Update()\n",
    "\n",
    "stats1 = h.GetListOfFunctions().FindObject(\"stats\")\n",
    "h.GetListOfFunctions().Remove(stats1)\n",
    "h.SetStats(0)\n",
    "stats1.SetTextColor(palette['pink'].GetNumber())\n",
    "stats1.GetLineWith('Entries').SetTextColor(ROOT.kBlack)\n",
    "stats1.AddText(f\"#sigma/#mu = {Res:.4f} #pm {ResErr:.4f}\")\n",
    "\n",
    "stats1.SetX2NDC(x2ndc)\n",
    "stats1.SetX1NDC(x1ndc)\n",
    "stats1.SetY2NDC(y2ndc)\n",
    "stats1.SetY1NDC(stats1.GetY2NDC()-6 * ratio * linespacing)\n",
    "stats1.SetTextSize(h.GetXaxis().GetLabelSize())\n",
    "stats1.SetBorderSize(0)\n",
    "\n",
    "stats1.Draw()\n",
    "\n",
    "# add legend\n",
    "legend = ROOT.TLegend(stats1.GetX2NDC()-0.4, 0.2, stats1.GetX2NDC(), 0.2+2 * ratio * linespacing)\n",
    "legend.SetFillColor(0)\n",
    "legend.SetBorderSize(0)\n",
    "legend.SetTextSize(labelsize)\n",
    "legend.AddEntry(h.GetValue(), \"Simulated data\", \"l\")\n",
    "legend.AddEntry(f, \"Gaussian fit\", \"l\")\n",
    "legend.Draw()\n",
    "\n",
    "c1.Draw()\n",
    "c1.Print(os.path.join(DATA_DIR, \"predicted_pi0_mass.png\"))"
   ]
  },
  {
   "cell_type": "code",
   "execution_count": null,
   "metadata": {},
   "outputs": [],
   "source": []
  },
  {
   "cell_type": "code",
   "execution_count": null,
   "metadata": {},
   "outputs": [],
   "source": []
  }
 ],
 "metadata": {
  "kernelspec": {
   "display_name": "Python 3",
   "language": "python",
   "name": "python3"
  },
  "language_info": {
   "codemirror_mode": {
    "name": "ipython",
    "version": 3
   },
   "file_extension": ".py",
   "mimetype": "text/x-python",
   "name": "python",
   "nbconvert_exporter": "python",
   "pygments_lexer": "ipython3",
   "version": "3.6.5"
  }
 },
 "nbformat": 4,
 "nbformat_minor": 2
}
