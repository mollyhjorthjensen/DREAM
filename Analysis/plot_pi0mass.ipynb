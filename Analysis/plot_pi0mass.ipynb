{
 "cells": [
  {
   "cell_type": "code",
   "execution_count": 2,
   "metadata": {},
   "outputs": [
    {
     "name": "stdout",
     "output_type": "stream",
     "text": [
      "Welcome to JupyROOT 6.18/00\n"
     ]
    }
   ],
   "source": [
    "import os\n",
    "import pandas as pd\n",
    "import ROOT\n",
    "from array import array\n",
    "import seaborn as sn\n",
    "import matplotlib.pyplot as plt\n",
    "import numpy as np\n",
    "from tableauColors import palette"
   ]
  },
  {
   "cell_type": "code",
   "execution_count": 12,
   "metadata": {},
   "outputs": [],
   "source": [
    "def modifiedZscore(rdf, col, D=3.5):\n",
    "    x = rdf.AsNumpy(columns=[col])[col]\n",
    "    xtilde = np.median(x)\n",
    "    MAD = np.median(np.abs(x-xtilde))\n",
    "    return f\"abs(0.6745*({col}-({xtilde}))/{MAD}) <= {D}\""
   ]
  },
  {
   "cell_type": "code",
   "execution_count": 3,
   "metadata": {},
   "outputs": [],
   "source": [
    "DATA_DIR = '/groups/hep/mojen/repositories/DREAM/Run/final_run/tauolaevts/25000'\n",
    "df = pd.read_csv(os.path.join(DATA_DIR, 'predicted_pi0_mass.csv'))"
   ]
  },
  {
   "cell_type": "code",
   "execution_count": 6,
   "metadata": {},
   "outputs": [],
   "source": [
    "f = ROOT.TFile('predicted_pi0_mass.root', 'recreate' )\n",
    "t = ROOT.TTree('predicted_pi0_mass', 'predicted_pi0_mass' )\n",
    "\n",
    "predicted_pi0_mass = array('d', [0])\n",
    "\n",
    "t.Branch('predicted_pi0_mass', predicted_pi0_mass, \"predicted_pi0_mass/D\")\n",
    "\n",
    "for i in range(df.shape[0]):\n",
    "    predicted_pi0_mass[0] = df.predicted_pi0_mass.values[i] \n",
    "    t.Fill()\n",
    "\n",
    "f.Write()\n",
    "f.Close()"
   ]
  },
  {
   "cell_type": "code",
   "execution_count": 16,
   "metadata": {},
   "outputs": [],
   "source": [
    "d = ROOT.ROOT.RDataFrame(\"predicted_pi0_mass\", \"predicted_pi0_mass.root\")\n",
    "d = d.Filter(\"!std::isnan(predicted_pi0_mass)\")\n",
    "d = d.Filter(modifiedZscore(d, \"predicted_pi0_mass\"), \"modified Z-score\")"
   ]
  },
  {
   "cell_type": "code",
   "execution_count": 17,
   "metadata": {},
   "outputs": [
    {
     "data": {
      "text/plain": [
       "{'predicted_pi0_mass': numpy.array([148.86414162, 134.99249065, 143.91879166, ..., 176.91827449,\n",
       "              147.1127468 , 150.67752817])}"
      ]
     },
     "execution_count": 17,
     "metadata": {},
     "output_type": "execute_result"
    }
   ],
   "source": [
    "d.AsNumpy()"
   ]
  },
  {
   "cell_type": "code",
   "execution_count": null,
   "metadata": {},
   "outputs": [],
   "source": []
  },
  {
   "cell_type": "code",
   "execution_count": 100,
   "metadata": {},
   "outputs": [
    {
     "name": "stdout",
     "output_type": "stream",
     "text": [
      " FCN=77.0497 FROM MINOS     STATUS=SUCCESSFUL     41 CALLS         222 TOTAL\n",
      "                     EDM=2.23963e-07    STRATEGY= 1      ERROR MATRIX ACCURATE \n",
      "  EXT PARAMETER                                   STEP         FIRST   \n",
      "  NO.   NAME      VALUE            ERROR          SIZE      DERIVATIVE \n",
      "   1  Constant     1.48683e+02   4.94577e+00  -5.65750e-02  -7.35325e-06\n",
      "   2  Mean         1.37958e+02   3.34010e-01   1.70301e-03  -2.64212e-04\n",
      "   3  Sigma        1.18620e+01   3.23455e-01   3.23455e-01   3.03140e-02\n"
     ]
    },
    {
     "data": {
      "image/png": "[encoded data removed]",
      "text/plain": [
       "<IPython.core.display.Image object>"
      ]
     },
     "metadata": {},
     "output_type": "display_data"
    }
   ],
   "source": [
    "ROOT.gStyle.SetOptStat(\"emr\")\n",
    "ROOT.gStyle.SetOptFit(1)\n",
    "c1 = ROOT.TCanvas(\"c1\", \"c1\", 600, 600)\n",
    "\n",
    "xlow = 70.\n",
    "xup = 270.\n",
    "nbins = 80\n",
    "binwidth = (xup - xlow)/nbins\n",
    "model = (\"\", \"\", nbins, xlow, xup)\n",
    "h = d.Histo1D(model, \"predicted_pi0_mass\")\n",
    "h.Fit(\"gaus\", \"SEM+R\", \"\", 0, 160.)\n",
    "# h.Fit(\"gaus\", \"SEM+\")\n",
    "h.Draw()\n",
    "\n",
    "ratio = 1.1\n",
    "linewidth = 2\n",
    "\n",
    "ROOT.gPad.SetLeftMargin(0.15)\n",
    "ROOT.gPad.SetRightMargin(0.05)\n",
    "ROOT.gPad.SetBottomMargin(0.15)\n",
    "ROOT.gPad.SetTopMargin(0.05)\n",
    "\n",
    "f = h.GetListOfFunctions().FindObject(\"gaus\")\n",
    "f.SetLineColor(palette['red'].GetNumber())\n",
    "f.SetLineWidth(linewidth)\n",
    "\n",
    "h.SetMaximum(200.)\n",
    "\n",
    "h.SetLineColor(ROOT.kBlack)\n",
    "h.SetLineWidth(linewidth)\n",
    "\n",
    "h.GetXaxis().SetTitle(\"m_{#gamma#gamma} [MeV]\")\n",
    "h.GetYaxis().SetTitle(f\"Events / {binwidth:.1g}\")\n",
    "\n",
    "h.GetXaxis().CenterTitle()\n",
    "h.GetYaxis().CenterTitle()\n",
    "\n",
    "h.GetXaxis().SetTitleOffset(h.GetXaxis().GetTitleOffset() * ratio)\n",
    "h.GetYaxis().SetTitleOffset(h.GetYaxis().GetTitleOffset() * ratio)\n",
    "\n",
    "h.GetXaxis().SetTitleSize(h.GetXaxis().GetTitleSize() * (ratio + 0.2))\n",
    "h.GetYaxis().SetTitleSize(h.GetYaxis().GetTitleSize() * (ratio + 0.2))\n",
    "\n",
    "h.GetXaxis().SetLabelSize(h.GetXaxis().GetLabelSize() * ratio)\n",
    "h.GetYaxis().SetLabelSize(h.GetYaxis().GetLabelSize() * ratio)\n",
    "\n",
    "h.GetXaxis().SetTickSize(h.GetXaxis().GetTickLength() * ratio)\n",
    "h.GetYaxis().SetTickSize(h.GetYaxis().GetTickLength() * ratio)\n",
    "\n",
    "h.GetXaxis().SetLabelOffset(h.GetXaxis().GetLabelOffset() * ratio)\n",
    "h.GetYaxis().SetLabelOffset(h.GetYaxis().GetLabelOffset() * ratio)\n",
    "\n",
    "c1.Update()\n",
    "\n",
    "stats1 = h.GetListOfFunctions().FindObject(\"stats\")\n",
    "h.GetListOfFunctions().Remove(stats1)\n",
    "h.SetStats(0)\n",
    "stats1.SetTextColor(palette['red'].GetNumber())\n",
    "stats1.GetLineWith('Entries').SetTextColor(ROOT.kBlack)\n",
    "stats1.SetX2NDC(1-c1.GetRightMargin()); stats1.SetX1NDC(stats1.GetX2NDC()-0.4)\n",
    "stats1.SetY2NDC(1-c1.GetTopMargin()-0.016); stats1.SetY1NDC(stats1.GetY2NDC()-0.35)\n",
    "stats1.SetTextSize(h.GetXaxis().GetLabelSize())\n",
    "stats1.SetBorderSize(0)\n",
    "stats1.Draw()\n",
    "\n",
    "c1.Draw()\n",
    "c1.Print(os.path.join(DATA_DIR, \"predicted_pi0_mass.png\"))"
   ]
  },
  {
   "cell_type": "code",
   "execution_count": null,
   "metadata": {},
   "outputs": [],
   "source": []
  }
 ],
 "metadata": {
  "kernelspec": {
   "display_name": "Python 3",
   "language": "python",
   "name": "python3"
  },
  "language_info": {
   "codemirror_mode": {
    "name": "ipython",
    "version": 3
   },
   "file_extension": ".py",
   "mimetype": "text/x-python",
   "name": "python",
   "nbconvert_exporter": "python",
   "pygments_lexer": "ipython3",
   "version": "3.6.5"
  }
 },
 "nbformat": 4,
 "nbformat_minor": 2
}
