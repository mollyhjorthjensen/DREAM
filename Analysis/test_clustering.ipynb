{
 "cells": [
  {
   "cell_type": "markdown",
   "metadata": {},
   "source": [
    "## Toy example"
   ]
  },
  {
   "cell_type": "code",
   "execution_count": 13,
   "metadata": {},
   "outputs": [],
   "source": [
    "import tensorflow as tf\n",
    "assert tf.__version__=='2.2.0-rc1'"
   ]
  },
  {
   "cell_type": "code",
   "execution_count": 20,
   "metadata": {},
   "outputs": [
    {
     "data": {
      "text/plain": [
       "'2.2.0-rc1'"
      ]
     },
     "execution_count": 20,
     "metadata": {},
     "output_type": "execute_result"
    }
   ],
   "source": [
    "tf.__version__"
   ]
  },
  {
   "cell_type": "code",
   "execution_count": 14,
   "metadata": {},
   "outputs": [],
   "source": [
    "HEIGHT = 20\n",
    "WIDTH = 20\n",
    "TENERGY = 10e3\n",
    "TLOCMAX = 100\n",
    "TNUMBER = 3\n",
    "# good values to test if recursive function works\n",
    "TSEED = tf.constant(1000, tf.float32)  # tf.constant([300.], tf.float32)\n",
    "TNEIGHBOR = tf.constant(100., tf.float32)\n",
    "TCELL = tf.constant(50., tf.float32)"
   ]
  },
  {
   "cell_type": "code",
   "execution_count": 15,
   "metadata": {},
   "outputs": [
    {
     "data": {
      "text/plain": [
       "(20, 20, 2)"
      ]
     },
     "execution_count": 15,
     "metadata": {},
     "output_type": "execute_result"
    },
    {
     "data": {
      "image/png": "[encoded data removed]",
      "text/plain": [
       "<Figure size 432x288 with 1 Axes>"
      ]
     },
     "metadata": {
      "needs_background": "light"
     },
     "output_type": "display_data"
    }
   ],
   "source": [
    "import numpy as np\n",
    "import matplotlib.pyplot as plt \n",
    "X = np.vstack((np.random.multivariate_normal(mean=[2+2,3+2], cov=[[1,0],[0,1]], size=10000),\n",
    "               np.random.multivariate_normal(mean=[2+2,7+2], cov=[[0.7,0],[0,1]], size=10000),\n",
    "               np.random.multivariate_normal(mean=[8+2,4+2], cov=[[1,0],[0,1]], size=10000),\n",
    "               np.random.multivariate_normal(mean=[15,15], cov=[[1,0],[0,1]], size=15000)))\n",
    "A = plt.hist2d(X[:,0], X[:,1], bins=HEIGHT, range=[[0, HEIGHT], [0, WIDTH]])[0]\n",
    "# plt.imshow(A)\n",
    "# B = A[..., np.newaxis]\n",
    "A[:2,6] = 1.5*TNEIGHBOR\n",
    "A[0,7:9] = 1.5*TCELL\n",
    "A[1,5] = 0\n",
    "A[3,16] = 20*TSEED\n",
    "\n",
    "B = np.stack((A,0.5*A), axis=-1).astype(np.float32)\n",
    "np.shape(B)"
   ]
  },
  {
   "cell_type": "code",
   "execution_count": 16,
   "metadata": {},
   "outputs": [
    {
     "data": {
      "image/png": "[encoded data removed]",
      "text/plain": [
       "<Figure size 432x288 with 1 Axes>"
      ]
     },
     "metadata": {
      "needs_background": "light"
     },
     "output_type": "display_data"
    },
    {
     "data": {
      "image/png": "[encoded data removed]",
      "text/plain": [
       "<Figure size 432x288 with 1 Axes>"
      ]
     },
     "metadata": {
      "needs_background": "light"
     },
     "output_type": "display_data"
    },
    {
     "data": {
      "image/png": "[encoded data removed]",
      "text/plain": [
       "<Figure size 432x288 with 1 Axes>"
      ]
     },
     "metadata": {
      "needs_background": "light"
     },
     "output_type": "display_data"
    },
    {
     "data": {
      "image/png": "[encoded data removed]",
      "text/plain": [
       "<Figure size 432x288 with 1 Axes>"
      ]
     },
     "metadata": {
      "needs_background": "light"
     },
     "output_type": "display_data"
    }
   ],
   "source": [
    "plt.imshow(A > TSEED)\n",
    "plt.show()\n",
    "plt.imshow(A > TNEIGHBOR)\n",
    "plt.show()\n",
    "plt.imshow(A > TCELL)\n",
    "plt.show()\n",
    "plt.imshow((A > TCELL) & (A <= TNEIGHBOR))\n",
    "plt.show()"
   ]
  },
  {
   "cell_type": "code",
   "execution_count": 23,
   "metadata": {},
   "outputs": [],
   "source": [
    "from skimage.measure import label\n",
    "\n",
    "f = lambda x: skimage.measure.label(x, connectivity=2)\n",
    "\n",
    "@tf.function\n",
    "def finding_seeds(image):\n",
    "    \"\"\"Finding seeds and create seed list\"\"\"\n",
    "    seed_mask = tf.math.greater(image, TSEED)\n",
    "    labels = tf.numpy_function(f, [seed_mask], Tout=tf.int64)\n",
    "    seed_idx = tf.where(tf.not_equal(labels, 0))\n",
    "    seed_id = tf.expand_dims(tf.gather_nd(labels, seed_idx), axis=1)\n",
    "    seed_list = tf.concat([seed_id, seed_idx], axis=-1)\n",
    "    return seed_list"
   ]
  },
  {
   "cell_type": "code",
   "execution_count": 276,
   "metadata": {},
   "outputs": [],
   "source": [
    "@tf.function\n",
    "def sorting_seedlist(s, m):\n",
    "    \"\"\"Sorts current seed list in descending order\"\"\"\n",
    "    sid, sidx = tf.split(s, num_or_size_splits=[1,3], axis=1)\n",
    "    seeds = tf.gather_nd(m, sidx)\n",
    "    indices = tf.math.top_k(seeds, k=tf.shape(s)[0])[1]\n",
    "    return tf.gather(s, indices)"
   ]
  },
  {
   "cell_type": "code",
   "execution_count": 277,
   "metadata": {},
   "outputs": [],
   "source": [
    "@tf.function\n",
    "def neighbors(index, excl=tf.zeros([0, 3], tf.int64), incl=tf.zeros([0, 3], tf.int64)):\n",
    "    \"\"\"8-1 connectivity\"\"\"\n",
    "    \n",
    "    # indices of 3x3x1 centred at (i,j,k)\n",
    "    i, j, k = tf.unstack(index)\n",
    "    ii, jj = tf.meshgrid(tf.range(i-1, i+2), tf.range(j-1, j+2), indexing='ij')\n",
    "    ii = tf.reshape(ii, [-1, 1])\n",
    "    jj = tf.reshape(jj, [-1, 1])\n",
    "    kk = tf.repeat(tf.reshape(k, (1, 1)), repeats=[9], axis=0)\n",
    "    a = tf.concat([ii, jj, kk], axis=-1)\n",
    "    \n",
    "    # append index (i,j) in other k channel\n",
    "    a = tf.concat([a, [[i, j, tf.math.abs(k-1)]]], axis=0)\n",
    "    \n",
    "    # remove centre point (i,j,k)\n",
    "    mask_centre = tf.reduce_any(tf.not_equal(a, index), axis=-1)\n",
    "    \n",
    "    # remove points outside image\n",
    "    b = tf.expand_dims(a, axis=-1)\n",
    "    c = tf.transpose(tf.constant([[HEIGHT,-1, -1], [-1,WIDTH,-1]], dtype=b.dtype))\n",
    "    mask_boundary = tf.reduce_all(tf.not_equal(b, c), axis=[-2,-1])\n",
    "    mask = tf.logical_and(mask_centre, mask_boundary)\n",
    "    a = tf.boolean_mask(a, mask)\n",
    "    \n",
    "    # remove points in excl and only consider points in incl\n",
    "    a_sp = tf.SparseTensor(a, tf.ones(tf.shape(a)[0], dtype=tf.bool), dense_shape=[HEIGHT, WIDTH, 2])\n",
    "    a_d = tf.sparse.to_dense(tf.sparse.reorder(a_sp))\n",
    "    excl_sp = tf.SparseTensor(excl, tf.ones(tf.shape(excl)[0], dtype=tf.bool), dense_shape=[HEIGHT, WIDTH, 2])\n",
    "    excl_d = tf.sparse.to_dense(tf.sparse.reorder(excl_sp))\n",
    "    incl_sp = tf.SparseTensor(incl, tf.ones(tf.shape(incl)[0], dtype=tf.bool), dense_shape=[HEIGHT, WIDTH, 2])\n",
    "    incl_d = tf.sparse.to_dense(tf.sparse.reorder(incl_sp))\n",
    "    mask_final = tf.logical_and(a_d, tf.logical_not(excl_d))\n",
    "    \n",
    "    true_fn = lambda: tf.logical_and(mask_final, incl_d)\n",
    "    mask_final = tf.cond(tf.greater(tf.shape(incl)[0], 0), true_fn, lambda: mask_final)\n",
    "    \n",
    "    neighbors = tf.where(mask_final)\n",
    "    return neighbors"
   ]
  },
  {
   "cell_type": "code",
   "execution_count": 278,
   "metadata": {},
   "outputs": [],
   "source": [
    "def merge_adjacent_proto(nj, siid, m, p, s, l):\n",
    "    \"\"\"Merge adjacent proto-clusters\"\"\"\n",
    "    sid, sidx = tf.split(s, num_or_size_splits=[1,3], axis=1)\n",
    "    lid, lidx = tf.split(l, num_or_size_splits=[1,3], axis=1)\n",
    "    proto_id, proto_idx = tf.split(p, num_or_size_splits=[1,3], axis=1)\n",
    "    nnj = neighbors(nj, excl=sidx)\n",
    "    nnj_sp = tf.SparseTensor(nnj, tf.ones(tf.shape(nnj)[0], tf.bool), dense_shape=[HEIGHT, WIDTH, 2])\n",
    "    nnj_d = tf.sparse.to_dense(tf.sparse.reorder(nnj_sp))\n",
    "    proto_sp = tf.SparseTensor(proto_idx, tf.reshape(proto_id, [-1,]), dense_shape=[HEIGHT, WIDTH, 2])\n",
    "    proto_d = tf.sparse.to_dense(tf.sparse.reorder(proto_sp))\n",
    "    indices = tf.where(tf.logical_and(tf.logical_and(nnj_d, tf.not_equal(proto_d, 0)), tf.greater(m, TNEIGHBOR)))\n",
    "#     indices = tf.where(tf.logical_and(nnj_d, tf.not_equal(proto_d, 0)))\n",
    "    values = tf.gather_nd(proto_d, indices)\n",
    "    values = tf.boolean_mask(values, tf.not_equal(values, siid))\n",
    "    \n",
    "    # loop over values\n",
    "    k0 = tf.constant(0)\n",
    "    ck = lambda k, p, s, l: tf.less(k, tf.shape(values)[0])\n",
    "    def bk(k, p, s, l):\n",
    "        neigh_id = tf.gather(values, k)\n",
    "        pnew = tf.where(tf.equal(proto_d, neigh_id), tf.reshape(siid, [-1,])*tf.ones_like(p), p)\n",
    "        snew = tf.where(tf.equal(sid, neigh_id), tf.reshape(siid, [-1,])*tf.ones_like(s), s)\n",
    "        lnew = tf.where(tf.equal(lid, neigh_id), tf.reshape(siid, [-1,])*tf.ones_like(l), l)\n",
    "        return [tf.add(k, 1), pnew, snew, lnew]\n",
    "    k, p, sid, lid = tf.while_loop(ck, bk, loop_vars=[k0, proto_d, sid, lid],\n",
    "                                   shape_invariants=[k0.get_shape(), proto_d.get_shape(),\n",
    "                                                     sid.get_shape(), lid.get_shape()])                \n",
    "    indices = tf.where(tf.not_equal(p, 0))\n",
    "    values = tf.expand_dims(tf.gather_nd(p, indices), axis=1)\n",
    "    pnew = tf.concat([values, indices], axis=1)\n",
    "    snew = tf.concat([sid, sidx], axis=1)\n",
    "    lnew = tf.concat([lid, lidx], axis=1)\n",
    "    return [pnew, snew, lnew]\n",
    "\n",
    "\n",
    "def bj_maker(j, m, p, s, l, n, siid):\n",
    "    \"\"\"Body of while loop over neighbors\"\"\"\n",
    "    nj = tf.gather(n, j)\n",
    "    nval = tf.gather_nd(m, nj)\n",
    "    nnew = tf.expand_dims(tf.concat([siid, nj], axis=0), axis=0)\n",
    "\n",
    "    def tneighbor(siid=siid):\n",
    "        \"\"\"Append cells to both proto-clusters and neighbor seed list if value above TNEIGHBOR\"\"\"\n",
    "        [pnew, snew, lnew] = merge_adjacent_proto(nj, siid, m, p, s, l)\n",
    "        pnew = tf.concat([pnew, nnew], axis=0)\n",
    "        lnew = tf.concat([lnew, nnew], axis=0)\n",
    "        return [pnew, snew, lnew]\n",
    "\n",
    "    def tcell():\n",
    "        \"\"\"Append cells to proto-clusters if value above TCELL\"\"\"\n",
    "        def true_fn():\n",
    "            return tf.concat([p, nnew], axis=0)\n",
    "        def false_fn(): return p\n",
    "        pnew = tf.cond(tf.greater(nval, TCELL), true_fn, false_fn)\n",
    "        return [pnew, s, l]\n",
    "    \n",
    "    [pnew, snew, lnew] = tf.cond(tf.greater(nval, TNEIGHBOR), true_fn=tneighbor, false_fn=tcell)\n",
    "    \n",
    "    return [tf.add(j, 1), m, pnew, snew, lnew, n, siid]\n",
    "    \n",
    "\n",
    "def bi_maker(i, m, p, s, l):\n",
    "    \"\"\"Body of while loop over current seed list\"\"\"\n",
    "    si = tf.gather(s, i)\n",
    "    \n",
    "    # find neighbours not in protolist\n",
    "    siid, siidx = tf.split(si, num_or_size_splits=[1,3], axis=0)\n",
    "    _, pidx = tf.split(p, num_or_size_splits=[1,3], axis=1)\n",
    "    n = neighbors(siidx, excl=pidx)\n",
    "        \n",
    "    # loop over neighbors\n",
    "    j0 = tf.constant(0)\n",
    "    cj = lambda j, m, p, s, l, n, siid: tf.less(j, tf.shape(n)[0])\n",
    "    _, m, p, s, l, _, _ = tf.while_loop(\n",
    "        cj, bj_maker, loop_vars=[j0, m, p, s, l, n, siid],\n",
    "        shape_invariants=[j0.get_shape(), m.get_shape(), tf.TensorShape([None, 4]),\n",
    "                          s.get_shape(), tf.TensorShape([None, 4]),\n",
    "                          n.get_shape(), siid.get_shape()])\n",
    "    \n",
    "    return [tf.add(i, 1), m, p, s, l]\n",
    "  \n",
    "def finding_neighbors_maker(m, p, s):\n",
    "    # sort current seed list in descending order\n",
    "    ssort = sorting_seedlist(s, m)\n",
    "    \n",
    "    # loop over current seed list\n",
    "    i0 = tf.constant(0)\n",
    "    l0 = tf.zeros([0,4], tf.int64)\n",
    "    ci = lambda i, m, p, s, l: tf.less(i, tf.shape(ssort)[0])\n",
    "    _, m, pnew, s, lnew = tf.while_loop(\n",
    "        ci, bi_maker, loop_vars=[i0, m, p, s, l0],\n",
    "        shape_invariants=[i0.get_shape(), m.get_shape(), tf.TensorShape([None, 4]),\n",
    "                          s.get_shape(), tf.TensorShape([None, 4])])\n",
    "    \n",
    "    # neighbor seed list becomes the new seed list\n",
    "    return pnew, lnew"
   ]
  },
  {
   "cell_type": "code",
   "execution_count": 344,
   "metadata": {},
   "outputs": [],
   "source": [
    "@tf.function\n",
    "def finalize_maker(m, p, hwc):\n",
    "    \"\"\"Filter clusters by energy threshold\"\"\"\n",
    "    pid, pidx = tf.split(p, num_or_size_splits=[1,3], axis=1)\n",
    "    psp = tf.SparseTensor(pidx, tf.reshape(pid, [-1,]), dense_shape=hwc)\n",
    "    pd = tf.sparse.to_dense(tf.sparse.reorder(psp))\n",
    "    tf.print(hwc, pid)\n",
    "    u, uid = tf.unique(tf.reshape(sid, [-1]), out_idx=sid.dtype)\n",
    "#     i0 = tf.constant(1, s_dense.dtype)\n",
    "#     c = lambda i: tf.less(i, tf.cast(ulen+1, s_dense.dtype))\n",
    "#     def b(i):\n",
    "#         indices = tf.where(tf.equal(s_dense, i))\n",
    "#         values = tf.gather_nd(m, indices)\n",
    "#         Ei = tf.expand_dims(tf.reduce_sum(values), axis=0)\n",
    "#         return [tf.add(i, 1), tf.concat([E, Ei], axis=0)]\n",
    "#     _, E = tf.while_loop(c, b, loop_vars=[i0, E0], shape_invariants=[i0.get_shape(), tf.TensorShape([None, 1])])\n",
    "#     print(\"total cluster energy\", E)\n",
    "    return p"
   ]
  },
  {
   "cell_type": "code",
   "execution_count": 345,
   "metadata": {},
   "outputs": [],
   "source": [
    "@tf.function\n",
    "def cluster_maker(parsed):\n",
    "    \"\"\"m: image, p: protolist, s: seedlist, l: neighlist, n: neighbor\"\"\"\n",
    "    s = finding_seeds(parsed['image'])\n",
    "    \n",
    "    # finding neighbours recursively until current seed list is empty\n",
    "    c = lambda pi, si: tf.not_equal(tf.size(si), 0)\n",
    "    b = lambda pi, si: finding_neighbors_maker(parsed['image'], pi, si)\n",
    "    pnew = tf.while_loop(c, b, loop_vars=[s, s],\n",
    "                         shape_invariants=[tf.TensorShape([None, 4]), tf.TensorShape([None, 4])])[0]\n",
    "    \n",
    "    parsed = parsed.copy()\n",
    "    parsed['proto'] = finalize_maker(parsed['image'], pnew, parsed['hwc'])\n",
    "#     parsed['proto'] = pnew\n",
    "    return parsed"
   ]
  },
  {
   "cell_type": "code",
   "execution_count": 346,
   "metadata": {},
   "outputs": [],
   "source": [
    "# tf.constant(B)"
   ]
  },
  {
   "cell_type": "code",
   "execution_count": 347,
   "metadata": {},
   "outputs": [],
   "source": [
    "dataset = tf.data.Dataset.from_tensor_slices({'image': tf.expand_dims(tf.constant(B), axis=0), \n",
    "                                             'hwc': tf.constant([[HEIGHT, WIDTH, 2]], tf.int64)})\n",
    "mapped = dataset.map(cluster_maker)\n",
    "# for i in dataset:\n",
    "#     print(i['image'].shape)"
   ]
  },
  {
   "cell_type": "code",
   "execution_count": 348,
   "metadata": {},
   "outputs": [
    {
     "name": "stdout",
     "output_type": "stream",
     "text": [
      "[20 20 2] [[2]\n",
      " [2]\n",
      " [2]\n",
      " ...\n",
      " [5]\n",
      " [5]\n",
      " [2]]\n",
      "tf.Tensor([166   4], shape=(2,), dtype=int32)\n"
     ]
    }
   ],
   "source": [
    "for output in mapped.take(1):\n",
    "    print(tf.shape(output['proto']))"
   ]
  },
  {
   "cell_type": "code",
   "execution_count": 324,
   "metadata": {},
   "outputs": [],
   "source": [
    "# output = cluster_maker({'image': tf.constant(B)})"
   ]
  },
  {
   "cell_type": "code",
   "execution_count": 284,
   "metadata": {},
   "outputs": [
    {
     "data": {
      "text/plain": [
       "<matplotlib.image.AxesImage at 0x7fb084112f98>"
      ]
     },
     "execution_count": 284,
     "metadata": {},
     "output_type": "execute_result"
    },
    {
     "data": {
      "image/png": "[encoded data removed]",
      "text/plain": [
       "<Figure size 432x288 with 1 Axes>"
      ]
     },
     "metadata": {
      "needs_background": "light"
     },
     "output_type": "display_data"
    }
   ],
   "source": [
    "A = output['proto'].numpy()\n",
    "# print(A)\n",
    "# A = A[...,1:]\n",
    "A1 = A[A[...,3] == 0][...,:3]\n",
    "A2 = A[A[...,3] == 1][...,:3]\n",
    "# A1 = np.unique(A1, axis=0)\n",
    "# A2 = np.unique(A2, axis=0)\n",
    "# print(A1)\n",
    "\n",
    "sp = tf.SparseTensor(A1[...,1:3], A1[...,0], dense_shape=[HEIGHT,WIDTH])\n",
    "A1_dense = tf.sparse.to_dense(tf.sparse.reorder(sp))\n",
    "plt.imshow(A1_dense)"
   ]
  },
  {
   "cell_type": "code",
   "execution_count": 285,
   "metadata": {},
   "outputs": [
    {
     "data": {
      "text/plain": [
       "<matplotlib.image.AxesImage at 0x7fb0c40bf198>"
      ]
     },
     "execution_count": 285,
     "metadata": {},
     "output_type": "execute_result"
    },
    {
     "data": {
      "image/png": "[encoded data removed]",
      "text/plain": [
       "<Figure size 432x288 with 1 Axes>"
      ]
     },
     "metadata": {
      "needs_background": "light"
     },
     "output_type": "display_data"
    }
   ],
   "source": [
    "sp = tf.SparseTensor(A2[...,1:3], A2[...,0], dense_shape=[HEIGHT,WIDTH])\n",
    "A2_dense = tf.sparse.to_dense(tf.sparse.reorder(sp))\n",
    "plt.imshow(A2_dense)"
   ]
  },
  {
   "cell_type": "code",
   "execution_count": null,
   "metadata": {},
   "outputs": [],
   "source": [
    "# output2['cluster']"
   ]
  },
  {
   "cell_type": "code",
   "execution_count": null,
   "metadata": {},
   "outputs": [],
   "source": [
    "# output = cluster_maker({'image': B})\n",
    "output2 = cluster_splitter(output)\n",
    "# output2"
   ]
  },
  {
   "cell_type": "code",
   "execution_count": null,
   "metadata": {},
   "outputs": [],
   "source": [
    "scalar_features(output2)"
   ]
  },
  {
   "cell_type": "code",
   "execution_count": null,
   "metadata": {},
   "outputs": [],
   "source": [
    "C = output2['cluster'].numpy()\n",
    "# plt.\n",
    "# print(A)\n",
    "# A = A[...,1:]\n",
    "C1 = C[C[...,3] == 0][...,:3]\n",
    "C2 = C[C[...,3] == 1][...,:3]\n",
    "C1 = C1[C1[...,0] == 1]\n",
    "# C1 = np.unique(C1, axis=0)\n",
    "# C2 = np.unique(C2, axis=0)\n",
    "# print(A1)\n",
    "\n",
    "sp = tf.SparseTensor(C1[...,1:3], C1[...,0], dense_shape=[HEIGHT,WIDTH])\n",
    "C1_dense = tf.sparse.to_dense(tf.sparse.reorder(sp))\n",
    "plt.imshow(C1_dense)"
   ]
  },
  {
   "cell_type": "code",
   "execution_count": null,
   "metadata": {},
   "outputs": [],
   "source": []
  },
  {
   "cell_type": "code",
   "execution_count": null,
   "metadata": {},
   "outputs": [],
   "source": [
    "C = output2['cluster'].numpy()\n",
    "# print(A)\n",
    "# A = A[...,1:]\n",
    "C1 = C[C[...,3] == 0][...,:3]\n",
    "C2 = C[C[...,3] == 1][...,:3]\n",
    "# A1 = np.unique(A1, axis=0)\n",
    "# A2 = np.unique(A2, axis=0)\n",
    "# print(A1)\n",
    "\n",
    "sp = tf.SparseTensor(C1[...,1:3], C1[...,0], dense_shape=[HEIGHT,WIDTH])\n",
    "C1_dense = tf.sparse.to_dense(tf.sparse.reorder(sp))\n",
    "plt.imshow(C1_dense)"
   ]
  },
  {
   "cell_type": "code",
   "execution_count": null,
   "metadata": {},
   "outputs": [],
   "source": [
    "sp = tf.SparseTensor(C2[...,1:3], C2[...,0], dense_shape=[HEIGHT,WIDTH])\n",
    "C2_dense = tf.sparse.to_dense(tf.sparse.reorder(sp))\n",
    "plt.imshow(C2_dense)"
   ]
  },
  {
   "cell_type": "markdown",
   "metadata": {},
   "source": [
    "## Unit testing"
   ]
  },
  {
   "cell_type": "code",
   "execution_count": null,
   "metadata": {},
   "outputs": [],
   "source": [
    "def test_sorting():\n",
    "    # arrange\n",
    "    image = tf.constant([[[3., 2.], [6., 1.]], [[5., 8.], [7., 4.]]])\n",
    "    TSEED = 4.\n",
    "    seed_list = tf.where(tf.math.greater(image, TSEED))\n",
    "    seed_len = 4\n",
    "    \n",
    "    # act\n",
    "    sorted_seedlist = sorting(seed_list, seed_len, image)\n",
    "    \n",
    "    # assert\n",
    "    assert tf.equal(sorted_seedlist, tf.constant([[1,0,1], [1,1,0], [0,1,0], [1,0,0]], tf.int64)).numpy().all()"
   ]
  },
  {
   "cell_type": "code",
   "execution_count": null,
   "metadata": {},
   "outputs": [],
   "source": [
    "def test_neighbors():\n",
    "    # arrange\n",
    "    index = tf.constant([0,0,0], tf.int64)\n",
    "    seed_list = tf.constant([[1,0,0], [1,1,0], [1,2,0]], tf.int64)\n",
    "    \n",
    "    # act\n",
    "    neigh = neighbors(index, seed_list)\n",
    "    \n",
    "    # assert\n",
    "    assert tf.equal(neigh, tf.constant([[0,0,1], [0,1,0]], tf.int64)).numpy().all()"
   ]
  },
  {
   "cell_type": "code",
   "execution_count": null,
   "metadata": {},
   "outputs": [],
   "source": [
    "test_neighbors()\n",
    "# test_sorting()"
   ]
  },
  {
   "cell_type": "code",
   "execution_count": null,
   "metadata": {},
   "outputs": [],
   "source": []
  },
  {
   "cell_type": "code",
   "execution_count": null,
   "metadata": {},
   "outputs": [],
   "source": []
  },
  {
   "cell_type": "code",
   "execution_count": null,
   "metadata": {},
   "outputs": [],
   "source": []
  },
  {
   "cell_type": "code",
   "execution_count": 119,
   "metadata": {},
   "outputs": [
    {
     "name": "stdout",
     "output_type": "stream",
     "text": [
      "[6 5 4 3 2 1]\n",
      "[6 5 4 3 2]\n",
      "[6 5 4 3]\n",
      "[6 5 4]\n",
      "[6 5]\n",
      "[6]\n"
     ]
    }
   ],
   "source": [
    "a = tf.constant([6, 5, 4, 3, 2, 1])\n",
    "c = lambda a: tf.not_equal(tf.size(a), 0)\n",
    "def b(a): tf.print(a); return [tf.strided_slice(a, [0], [-1], [1])]\n",
    "r = tf.while_loop(c, b, [a])"
   ]
  },
  {
   "cell_type": "code",
   "execution_count": 120,
   "metadata": {},
   "outputs": [
    {
     "data": {
      "text/plain": [
       "[<tf.Tensor: shape=(0,), dtype=int32, numpy=array([], dtype=int32)>]"
      ]
     },
     "execution_count": 120,
     "metadata": {},
     "output_type": "execute_result"
    }
   ],
   "source": [
    "r"
   ]
  },
  {
   "cell_type": "code",
   "execution_count": 140,
   "metadata": {},
   "outputs": [
    {
     "data": {
      "text/plain": [
       "<tf.Tensor: shape=(2, 3), dtype=int32, numpy=\n",
       "array([[1, 2, 3],\n",
       "       [4, 5, 6]], dtype=int32)>"
      ]
     },
     "execution_count": 140,
     "metadata": {},
     "output_type": "execute_result"
    }
   ],
   "source": [
    "b = tf.constant([[1,2,3], [4,5,6]])\n",
    "b"
   ]
  },
  {
   "cell_type": "code",
   "execution_count": 142,
   "metadata": {},
   "outputs": [
    {
     "data": {
      "text/plain": [
       "<tf.Tensor: shape=(2, 3), dtype=int32, numpy=\n",
       "array([[1, 3, 4],\n",
       "       [4, 6, 7]], dtype=int32)>"
      ]
     },
     "execution_count": 142,
     "metadata": {},
     "output_type": "execute_result"
    }
   ],
   "source": [
    "tf.map_fn(lambda x: x+tf.constant([0, 1, 1]), b)"
   ]
  },
  {
   "cell_type": "code",
   "execution_count": 143,
   "metadata": {},
   "outputs": [
    {
     "data": {
      "text/plain": [
       "<tf.Tensor: shape=(1, 0), dtype=float32, numpy=array([], shape=(1, 0), dtype=float32)>"
      ]
     },
     "execution_count": 143,
     "metadata": {},
     "output_type": "execute_result"
    }
   ],
   "source": [
    "tf.constant([[]])"
   ]
  },
  {
   "cell_type": "code",
   "execution_count": null,
   "metadata": {},
   "outputs": [],
   "source": []
  },
  {
   "cell_type": "code",
   "execution_count": null,
   "metadata": {},
   "outputs": [],
   "source": []
  }
 ],
 "metadata": {
  "kernelspec": {
   "display_name": "Python 3",
   "language": "python",
   "name": "python3"
  },
  "language_info": {
   "codemirror_mode": {
    "name": "ipython",
    "version": 3
   },
   "file_extension": ".py",
   "mimetype": "text/x-python",
   "name": "python",
   "nbconvert_exporter": "python",
   "pygments_lexer": "ipython3",
   "version": "3.6.5"
  }
 },
 "nbformat": 4,
 "nbformat_minor": 2
}
