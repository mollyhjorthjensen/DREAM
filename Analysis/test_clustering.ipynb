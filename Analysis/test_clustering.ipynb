{
 "cells": [
  {
   "cell_type": "markdown",
   "metadata": {},
   "source": [
    "# Test of topological clustering algorithm"
   ]
  },
  {
   "cell_type": "code",
   "execution_count": 1,
   "metadata": {},
   "outputs": [
    {
     "name": "stdout",
     "output_type": "stream",
     "text": [
      "Tensorflow version : 2.2.0-rc1\n"
     ]
    }
   ],
   "source": [
    "import tensorflow as tf\n",
    "print(f\"Tensorflow version : {tf.__version__}\")"
   ]
  },
  {
   "cell_type": "code",
   "execution_count": 2,
   "metadata": {},
   "outputs": [
    {
     "name": "stdout",
     "output_type": "stream",
     "text": [
      "Tensorflow version : 2.2.0-rc1\n"
     ]
    }
   ],
   "source": [
    "from ipynb.fs.full.clustering import cluster_maker, cluster_splitter, scalar_features, tf_serialize_example"
   ]
  },
  {
   "cell_type": "markdown",
   "metadata": {},
   "source": [
    "## Create mock data"
   ]
  },
  {
   "cell_type": "code",
   "execution_count": 3,
   "metadata": {},
   "outputs": [],
   "source": [
    "TSEED = tf.constant(1000., tf.float32)\n",
    "TNEIGHBOR = tf.constant(100., tf.float32)\n",
    "TCELL = tf.constant(50., tf.float32)"
   ]
  },
  {
   "cell_type": "code",
   "execution_count": 4,
   "metadata": {},
   "outputs": [
    {
     "data": {
      "text/plain": [
       "(20, 20, 2)"
      ]
     },
     "execution_count": 4,
     "metadata": {},
     "output_type": "execute_result"
    }
   ],
   "source": [
    "import numpy as np\n",
    "import matplotlib.pyplot as plt \n",
    "np.random.seed(42)\n",
    "\n",
    "X = np.vstack((np.random.multivariate_normal(mean=[2+3,3+2], cov=[[1,0],[0,1]], size=10000),\n",
    "               np.random.multivariate_normal(mean=[2+3,7+2], cov=[[0.7,0],[0,1]], size=10000),\n",
    "               np.random.multivariate_normal(mean=[8+3,4+2], cov=[[1,0],[0,1]], size=10000),\n",
    "               np.random.multivariate_normal(mean=[15,15], cov=[[1,0],[0,1]], size=15000)))\n",
    "A = plt.hist2d(X[:,0], X[:,1], bins=20, range=[[0, 20], [0, 20]])[0]\n",
    "# plt.imshow(A)\n",
    "# B = A[..., np.newaxis]\n",
    "A[1:3,6] = 1.5*TNEIGHBOR\n",
    "A[1,7:9] = 1.5*TCELL\n",
    "A[2,5] = 0\n",
    "# A[3,16] = 10*TSEED\n",
    "\n",
    "B = np.stack((A,0.5*A), axis=-1).astype(np.float32)\n",
    "np.shape(B)"
   ]
  },
  {
   "cell_type": "code",
   "execution_count": 5,
   "metadata": {},
   "outputs": [
    {
     "data": {
      "image/png": "[encoded data removed]",
      "text/plain": [
       "<Figure size 432x288 with 1 Axes>"
      ]
     },
     "metadata": {
      "needs_background": "light"
     },
     "output_type": "display_data"
    },
    {
     "data": {
      "image/png": "[encoded data removed]",
      "text/plain": [
       "<Figure size 432x288 with 1 Axes>"
      ]
     },
     "metadata": {
      "needs_background": "light"
     },
     "output_type": "display_data"
    },
    {
     "data": {
      "image/png": "[encoded data removed]",
      "text/plain": [
       "<Figure size 432x288 with 1 Axes>"
      ]
     },
     "metadata": {
      "needs_background": "light"
     },
     "output_type": "display_data"
    },
    {
     "data": {
      "image/png": "[encoded data removed]",
      "text/plain": [
       "<Figure size 432x288 with 1 Axes>"
      ]
     },
     "metadata": {
      "needs_background": "light"
     },
     "output_type": "display_data"
    }
   ],
   "source": [
    "plt.imshow(A > TSEED)\n",
    "plt.show()\n",
    "plt.imshow(A > TNEIGHBOR)\n",
    "plt.show()\n",
    "plt.imshow(A > TCELL)\n",
    "plt.show()\n",
    "plt.imshow((A > TCELL) & (A <= TNEIGHBOR))\n",
    "plt.show()"
   ]
  },
  {
   "cell_type": "code",
   "execution_count": 6,
   "metadata": {},
   "outputs": [],
   "source": [
    "# good values to test if recursive function works\n",
    "# d = {'image': tf.expand_dims(tf.constant(B), axis=0)}\n",
    "d = {'image': tf.expand_dims(tf.constant(B), axis=0),\n",
    "     'tseed': tf.constant([[1000.]], tf.float32),\n",
    "     'tneighbour': tf.constant([[100.]], tf.float32),\n",
    "     'tcell': tf.constant([[50.]], tf.float32),\n",
    "     'tenergy': tf.constant([[15e3]], tf.float32),\n",
    "     'tlocmax': tf.constant([[100]], tf.float32),\n",
    "     'tnum': tf.constant([[3]], tf.int32)}\n",
    "\n",
    "dataset = tf.data.Dataset.from_tensor_slices(d)"
   ]
  },
  {
   "cell_type": "code",
   "execution_count": 7,
   "metadata": {},
   "outputs": [
    {
     "name": "stderr",
     "output_type": "stream",
     "text": [
      "WARNING: Logging before flag parsing goes to stderr.\n",
      "W0518 08:32:27.144395 139987112486720 ag_logging.py:146] AutoGraph could not transform <function cluster_maker at 0x7f4fb41377b8> and will run it as-is.\n",
      "Please report this to the TensorFlow team. When filing the bug, set the verbosity to 10 (on Linux, `export AUTOGRAPH_VERBOSITY=10`) and attach the full output.\n",
      "Cause: 'NoneType' object has no attribute 'add_ordinary_node'\n",
      "To silence this warning, decorate the function with @tf.autograph.experimental.do_not_convert\n"
     ]
    },
    {
     "name": "stdout",
     "output_type": "stream",
     "text": [
      "WARNING: AutoGraph could not transform <function cluster_maker at 0x7f4fb41377b8> and will run it as-is.\n",
      "Please report this to the TensorFlow team. When filing the bug, set the verbosity to 10 (on Linux, `export AUTOGRAPH_VERBOSITY=10`) and attach the full output.\n",
      "Cause: 'NoneType' object has no attribute 'add_ordinary_node'\n",
      "To silence this warning, decorate the function with @tf.autograph.experimental.do_not_convert\n"
     ]
    },
    {
     "name": "stderr",
     "output_type": "stream",
     "text": [
      "W0518 08:32:27.498375 139987112486720 ag_logging.py:146] AutoGraph could not transform <function cluster_splitter at 0x7f4fb4137d08> and will run it as-is.\n",
      "Please report this to the TensorFlow team. When filing the bug, set the verbosity to 10 (on Linux, `export AUTOGRAPH_VERBOSITY=10`) and attach the full output.\n",
      "Cause: 'NoneType' object has no attribute 'add_ordinary_node'\n",
      "To silence this warning, decorate the function with @tf.autograph.experimental.do_not_convert\n"
     ]
    },
    {
     "name": "stdout",
     "output_type": "stream",
     "text": [
      "WARNING: AutoGraph could not transform <function cluster_splitter at 0x7f4fb4137d08> and will run it as-is.\n",
      "Please report this to the TensorFlow team. When filing the bug, set the verbosity to 10 (on Linux, `export AUTOGRAPH_VERBOSITY=10`) and attach the full output.\n",
      "Cause: 'NoneType' object has no attribute 'add_ordinary_node'\n",
      "To silence this warning, decorate the function with @tf.autograph.experimental.do_not_convert\n"
     ]
    },
    {
     "name": "stderr",
     "output_type": "stream",
     "text": [
      "W0518 08:32:28.198015 139987112486720 ag_logging.py:146] AutoGraph could not transform <function scalar_features at 0x7f4fb4137d90> and will run it as-is.\n",
      "Please report this to the TensorFlow team. When filing the bug, set the verbosity to 10 (on Linux, `export AUTOGRAPH_VERBOSITY=10`) and attach the full output.\n",
      "Cause: 'NoneType' object has no attribute 'add_ordinary_node'\n",
      "To silence this warning, decorate the function with @tf.autograph.experimental.do_not_convert\n"
     ]
    },
    {
     "name": "stdout",
     "output_type": "stream",
     "text": [
      "WARNING: AutoGraph could not transform <function scalar_features at 0x7f4fb4137d90> and will run it as-is.\n",
      "Please report this to the TensorFlow team. When filing the bug, set the verbosity to 10 (on Linux, `export AUTOGRAPH_VERBOSITY=10`) and attach the full output.\n",
      "Cause: 'NoneType' object has no attribute 'add_ordinary_node'\n",
      "To silence this warning, decorate the function with @tf.autograph.experimental.do_not_convert\n"
     ]
    }
   ],
   "source": [
    "features_dataset = dataset.map(cluster_maker).map(cluster_splitter).map(scalar_features)"
   ]
  },
  {
   "cell_type": "code",
   "execution_count": null,
   "metadata": {},
   "outputs": [],
   "source": []
  },
  {
   "cell_type": "code",
   "execution_count": 8,
   "metadata": {},
   "outputs": [
    {
     "name": "stderr",
     "output_type": "stream",
     "text": [
      "W0518 08:32:31.692877 139987112486720 ag_logging.py:146] AutoGraph could not transform <function tf_serialize_example at 0x7f4fb4137f28> and will run it as-is.\n",
      "Please report this to the TensorFlow team. When filing the bug, set the verbosity to 10 (on Linux, `export AUTOGRAPH_VERBOSITY=10`) and attach the full output.\n",
      "Cause: 'NoneType' object has no attribute 'add_ordinary_node'\n",
      "To silence this warning, decorate the function with @tf.autograph.experimental.do_not_convert\n"
     ]
    },
    {
     "name": "stdout",
     "output_type": "stream",
     "text": [
      "WARNING: AutoGraph could not transform <function tf_serialize_example at 0x7f4fb4137f28> and will run it as-is.\n",
      "Please report this to the TensorFlow team. When filing the bug, set the verbosity to 10 (on Linux, `export AUTOGRAPH_VERBOSITY=10`) and attach the full output.\n",
      "Cause: 'NoneType' object has no attribute 'add_ordinary_node'\n",
      "To silence this warning, decorate the function with @tf.autograph.experimental.do_not_convert\n"
     ]
    }
   ],
   "source": [
    "serialized_features_dataset = features_dataset.map(tf_serialize_example)"
   ]
  },
  {
   "cell_type": "code",
   "execution_count": 10,
   "metadata": {},
   "outputs": [
    {
     "name": "stdout",
     "output_type": "stream",
     "text": [
      "tf.Tensor(b'\\n\\xf0\\x01\\n \\n\\x0ccluster_comi\\x12\\x10\\x12\\x0e\\n\\x0cy\\x90\\x8d@1\\x84\\x8f@\\x8b\\x13hA\\n \\n\\x0ccluster_comj\\x12\\x10\\x12\\x0e\\n\\x0cK9\\x98@\\xc7\\x10\\nA\\x1d(hA\\n\\x19\\n\\x05S_sum\\x12\\x10\\x12\\x0e\\n\\x0c\\xf76*F\\t\\xed\\x0bF\\x00\\xb4dF\\n\\x19\\n\\x05C_sum\\x12\\x10\\x12\\x0e\\n\\x0c\\x1c(\\xa3E\\xe43\\x89E\\x00\\x08\\xe3E\\n\\x19\\n\\x05C_hot\\x12\\x10\\x12\\x0e\\n\\x0c\\x08.\\xea=,\\xd0 >|\\xbc\\xfb=\\n\\x1e\\n\\nC_rad_mean\\x12\\x10\\x12\\x0e\\n\\x0c\\x0b?\\xac?X\\x08\\x8b?\\x13\\xe4\\xa1?\\n\\x1e\\n\\nS_rad_mean\\x12\\x10\\x12\\x0e\\n\\x0cR|\\xb4?YZ\\x8e?\\xa8o\\xa3?\\n\\x19\\n\\x05S_hot\\x12\\x10\\x12\\x0e\\n\\x0c-x\\xe0=\\xf6\\xae\\x1d>a\\xe5\\xf9=', shape=(), dtype=string)\n"
     ]
    }
   ],
   "source": [
    "for i in serialized_features_dataset:\n",
    "    print(i)"
   ]
  },
  {
   "cell_type": "code",
   "execution_count": 11,
   "metadata": {},
   "outputs": [],
   "source": [
    "filename = 'test123.tfrecord'\n",
    "writer = tf.data.experimental.TFRecordWriter(filename)\n",
    "writer.write(serialized_features_dataset)"
   ]
  },
  {
   "cell_type": "code",
   "execution_count": null,
   "metadata": {},
   "outputs": [],
   "source": []
  },
  {
   "cell_type": "code",
   "execution_count": 12,
   "metadata": {},
   "outputs": [
    {
     "name": "stdout",
     "output_type": "stream",
     "text": [
      "features {\n",
      "  feature {\n",
      "    key: \"C_hot\"\n",
      "    value {\n",
      "      float_list {\n",
      "        value: 0.11434561014175415\n",
      "        value: 0.15704411268234253\n",
      "        value: 0.12291809916496277\n",
      "      }\n",
      "    }\n",
      "  }\n",
      "  feature {\n",
      "    key: \"C_rad_mean\"\n",
      "    value {\n",
      "      float_list {\n",
      "        value: 1.34567391872406\n",
      "        value: 1.0861921310424805\n",
      "        value: 1.2647727727890015\n",
      "      }\n",
      "    }\n",
      "  }\n",
      "  feature {\n",
      "    key: \"C_sum\"\n",
      "    value {\n",
      "      float_list {\n",
      "        value: 5221.013671875\n",
      "        value: 4390.486328125\n",
      "        value: 7265.0\n",
      "      }\n",
      "    }\n",
      "  }\n",
      "  feature {\n",
      "    key: \"S_hot\"\n",
      "    value {\n",
      "      float_list {\n",
      "        value: 0.10960421711206436\n",
      "        value: 0.15398773550987244\n",
      "        value: 0.12201953679323196\n",
      "      }\n",
      "    }\n",
      "  }\n",
      "  feature {\n",
      "    key: \"S_rad_mean\"\n",
      "    value {\n",
      "      float_list {\n",
      "        value: 1.4100439548492432\n",
      "        value: 1.11213219165802\n",
      "        value: 1.2768449783325195\n",
      "      }\n",
      "    }\n",
      "  }\n",
      "  feature {\n",
      "    key: \"S_sum\"\n",
      "    value {\n",
      "      float_list {\n",
      "        value: 10893.7412109375\n",
      "        value: 8955.2587890625\n",
      "        value: 14637.0\n",
      "      }\n",
      "    }\n",
      "  }\n",
      "  feature {\n",
      "    key: \"cluster_comi\"\n",
      "    value {\n",
      "      float_list {\n",
      "        value: 4.423885822296143\n",
      "        value: 4.484886646270752\n",
      "        value: 14.50477123260498\n",
      "      }\n",
      "    }\n",
      "  }\n",
      "  feature {\n",
      "    key: \"cluster_comj\"\n",
      "    value {\n",
      "      float_list {\n",
      "        value: 4.756993770599365\n",
      "        value: 8.629096031188965\n",
      "        value: 14.509793281555176\n",
      "      }\n",
      "    }\n",
      "  }\n",
      "}\n",
      "\n"
     ]
    }
   ],
   "source": [
    "filenames = [filename]\n",
    "raw_dataset = tf.data.TFRecordDataset(filenames)\n",
    "for raw_record in raw_dataset.take(1):\n",
    "    example = tf.train.Example()\n",
    "    example.ParseFromString(raw_record.numpy())\n",
    "    print(example)"
   ]
  },
  {
   "cell_type": "code",
   "execution_count": 10,
   "metadata": {},
   "outputs": [],
   "source": [
    "# %timeit dataset.map(cluster_maker).map(cluster_splitter).map(scalar_features)"
   ]
  },
  {
   "cell_type": "code",
   "execution_count": 11,
   "metadata": {},
   "outputs": [],
   "source": [
    "# def func():\n",
    "#     for parsed in dataset.take(1):\n",
    "#         output = cluster_maker(parsed)\n",
    "#         output2 = cluster_splitter(output)\n",
    "#         output3 = scalar_features(output2)"
   ]
  },
  {
   "cell_type": "code",
   "execution_count": 12,
   "metadata": {},
   "outputs": [],
   "source": [
    "# %timeit func()"
   ]
  },
  {
   "cell_type": "code",
   "execution_count": 13,
   "metadata": {},
   "outputs": [
    {
     "name": "stdout",
     "output_type": "stream",
     "text": [
      "tf.Tensor([126   4], shape=(2,), dtype=int32)\n"
     ]
    }
   ],
   "source": [
    "for output in mapped.take(1):\n",
    "    output\n",
    "    print(tf.shape(output['proto']))\n",
    "    cluster_splitter(output)"
   ]
  },
  {
   "cell_type": "code",
   "execution_count": 14,
   "metadata": {},
   "outputs": [],
   "source": [
    "# output = cluster_maker({'image': tf.constant(B)})"
   ]
  },
  {
   "cell_type": "code",
   "execution_count": 15,
   "metadata": {},
   "outputs": [
    {
     "data": {
      "text/plain": [
       "<matplotlib.image.AxesImage at 0x7f5e640a2dd8>"
      ]
     },
     "execution_count": 15,
     "metadata": {},
     "output_type": "execute_result"
    },
    {
     "data": {
      "image/png": "[encoded data removed]",
      "text/plain": [
       "<Figure size 432x288 with 1 Axes>"
      ]
     },
     "metadata": {
      "needs_background": "light"
     },
     "output_type": "display_data"
    }
   ],
   "source": [
    "A = output['proto'].numpy()\n",
    "A1 = A[A[...,3] == 0][...,:3]\n",
    "A2 = A[A[...,3] == 1][...,:3]\n",
    "sp = tf.SparseTensor(A1[...,1:3], A1[...,0], dense_shape=[20,20])\n",
    "A1_dense = tf.sparse.to_dense(tf.sparse.reorder(sp))\n",
    "plt.imshow(A1_dense)"
   ]
  },
  {
   "cell_type": "code",
   "execution_count": 227,
   "metadata": {},
   "outputs": [],
   "source": [
    "# sp = tf.SparseTensor(A2[...,1:3], A2[...,0], dense_shape=[HEIGHT,WIDTH])\n",
    "# A2_dense = tf.sparse.to_dense(tf.sparse.reorder(sp))\n",
    "# plt.imshow(A2_dense)"
   ]
  },
  {
   "cell_type": "code",
   "execution_count": 228,
   "metadata": {},
   "outputs": [],
   "source": [
    "# output2['cluster']"
   ]
  },
  {
   "cell_type": "code",
   "execution_count": 229,
   "metadata": {},
   "outputs": [],
   "source": [
    "# output = cluster_maker({'image': B})\n",
    "# output2 = cluster_splitter(output)\n",
    "# output2"
   ]
  },
  {
   "cell_type": "code",
   "execution_count": 230,
   "metadata": {},
   "outputs": [],
   "source": [
    "# scalar_features(output2)"
   ]
  },
  {
   "cell_type": "code",
   "execution_count": 231,
   "metadata": {},
   "outputs": [
    {
     "data": {
      "image/png": "[encoded data removed]",
      "text/plain": [
       "<Figure size 432x288 with 1 Axes>"
      ]
     },
     "metadata": {
      "needs_background": "light"
     },
     "output_type": "display_data"
    }
   ],
   "source": [
    "C = output['cluster'].numpy()\n",
    "# plt.\n",
    "# print(A)\n",
    "# A = A[...,1:]\n",
    "C1 = C[C[...,3] == 0][...,:3]\n",
    "C2 = C[C[...,3] == 1][...,:3]\n",
    "plt.imshow(output['image'].numpy()[:,:,0])\n",
    "for i in np.unique(C1[:,0], axis=0):\n",
    "    x = C1[C1[...,0] == i]\n",
    "# C1 = np.unique(C1, axis=0)\n",
    "# C2 = np.unique(C2, axis=0)\n",
    "# print(A1)\n",
    "    sp = tf.SparseTensor(x[...,1:3], x[...,0], dense_shape=[20,20])\n",
    "    C1_dense = tf.sparse.to_dense(tf.sparse.reorder(sp))\n",
    "    plt.contour(C1_dense, levels=1)\n"
   ]
  },
  {
   "cell_type": "code",
   "execution_count": 232,
   "metadata": {},
   "outputs": [
    {
     "name": "stderr",
     "output_type": "stream",
     "text": [
      "Warning in <TCanvas::Constructor>: Deleting canvas with same name: c1\n"
     ]
    },
    {
     "data": {
      "image/png": "[encoded data removed]",
      "text/plain": [
       "<IPython.core.display.Image object>"
      ]
     },
     "metadata": {},
     "output_type": "display_data"
    }
   ],
   "source": [
    "from array import array\n",
    "C = output['cluster'].numpy()\n",
    "\n",
    "h = ROOT.TH2F(\"\",\"\", 20, 0., 19., 20, 0., 19.)\n",
    "c = ROOT.TCanvas(\"c1\",\"c1\", 800, 400)\n",
    "c.Divide(2)\n",
    "ROOT.gStyle.SetOptStat(0)\n",
    "for l in range(2):\n",
    "    c.cd(l+1)\n",
    "    ROOT.gPad.SetLeftMargin(0.05)\n",
    "    ROOT.gPad.SetBottomMargin(0.05)\n",
    "    ROOT.gPad.SetRightMargin(0.15)\n",
    "    ROOT.gPad.SetTopMargin(0.15)\n",
    "    Cl = C[C[...,3]==l]\n",
    "    idx = np.array([1,2,4])\n",
    "    hk = []\n",
    "    u = np.unique(C1[:,0], axis=0).astype(int)\n",
    "    htot = h.Clone()\n",
    "    arr = array('d',[50])\n",
    "    for k in range(len(u)):\n",
    "        for i,j,x in Cl[Cl[...,0]==u[k]][:,idx]:\n",
    "            hk.append(h.Clone())\n",
    "            hk[k].Fill(j,i,x)\n",
    "            htot.Add(hk[k])\n",
    "    htot.DrawCopy(\"COLZ\")\n",
    "\n",
    "    for k in range(len(u)):\n",
    "        hk[k].SetLineColor(ROOT.kRed)\n",
    "        hk[k].SetLineWidth(2)\n",
    "        hk[k].SetContour(1, arr)\n",
    "        hk[k].DrawCopy(\"cont3 list same\")\n",
    "\n",
    "c.Draw()"
   ]
  },
  {
   "cell_type": "code",
   "execution_count": 157,
   "metadata": {},
   "outputs": [
    {
     "ename": "InvalidArgumentError",
     "evalue": "indices[9] = [3,7] is repeated [Op:SparseToDense]",
     "output_type": "error",
     "traceback": [
      "\u001b[0;31m---------------------------------------------------------------------------\u001b[0m",
      "\u001b[0;31mInvalidArgumentError\u001b[0m                      Traceback (most recent call last)",
      "\u001b[0;32m<ipython-input-157-cbe64f06b3f3>\u001b[0m in \u001b[0;36m<module>\u001b[0;34m\u001b[0m\n\u001b[1;32m      9\u001b[0m \u001b[0;34m\u001b[0m\u001b[0m\n\u001b[1;32m     10\u001b[0m \u001b[0msp\u001b[0m \u001b[0;34m=\u001b[0m \u001b[0mtf\u001b[0m\u001b[0;34m.\u001b[0m\u001b[0mSparseTensor\u001b[0m\u001b[0;34m(\u001b[0m\u001b[0mC1\u001b[0m\u001b[0;34m[\u001b[0m\u001b[0;34m...\u001b[0m\u001b[0;34m,\u001b[0m\u001b[0;36m1\u001b[0m\u001b[0;34m:\u001b[0m\u001b[0;36m3\u001b[0m\u001b[0;34m]\u001b[0m\u001b[0;34m,\u001b[0m \u001b[0mC1\u001b[0m\u001b[0;34m[\u001b[0m\u001b[0;34m...\u001b[0m\u001b[0;34m,\u001b[0m\u001b[0;36m0\u001b[0m\u001b[0;34m]\u001b[0m\u001b[0;34m,\u001b[0m \u001b[0mdense_shape\u001b[0m\u001b[0;34m=\u001b[0m\u001b[0;34m[\u001b[0m\u001b[0;36m20\u001b[0m\u001b[0;34m,\u001b[0m\u001b[0;36m20\u001b[0m\u001b[0;34m]\u001b[0m\u001b[0;34m)\u001b[0m\u001b[0;34m\u001b[0m\u001b[0m\n\u001b[0;32m---> 11\u001b[0;31m \u001b[0mC1_dense\u001b[0m \u001b[0;34m=\u001b[0m \u001b[0mtf\u001b[0m\u001b[0;34m.\u001b[0m\u001b[0msparse\u001b[0m\u001b[0;34m.\u001b[0m\u001b[0mto_dense\u001b[0m\u001b[0;34m(\u001b[0m\u001b[0mtf\u001b[0m\u001b[0;34m.\u001b[0m\u001b[0msparse\u001b[0m\u001b[0;34m.\u001b[0m\u001b[0mreorder\u001b[0m\u001b[0;34m(\u001b[0m\u001b[0msp\u001b[0m\u001b[0;34m)\u001b[0m\u001b[0;34m)\u001b[0m\u001b[0;34m\u001b[0m\u001b[0m\n\u001b[0m\u001b[1;32m     12\u001b[0m \u001b[0mplt\u001b[0m\u001b[0;34m.\u001b[0m\u001b[0mimshow\u001b[0m\u001b[0;34m(\u001b[0m\u001b[0mC1_dense\u001b[0m\u001b[0;34m)\u001b[0m\u001b[0;34m\u001b[0m\u001b[0m\n",
      "\u001b[0;32m~/.local/lib/python3.6/site-packages/tensorflow/python/ops/sparse_ops.py\u001b[0m in \u001b[0;36msparse_tensor_to_dense\u001b[0;34m(sp_input, default_value, validate_indices, name)\u001b[0m\n\u001b[1;32m   1498\u001b[0m       \u001b[0mdefault_value\u001b[0m\u001b[0;34m=\u001b[0m\u001b[0mdefault_value\u001b[0m\u001b[0;34m,\u001b[0m\u001b[0;34m\u001b[0m\u001b[0m\n\u001b[1;32m   1499\u001b[0m       \u001b[0mvalidate_indices\u001b[0m\u001b[0;34m=\u001b[0m\u001b[0mvalidate_indices\u001b[0m\u001b[0;34m,\u001b[0m\u001b[0;34m\u001b[0m\u001b[0m\n\u001b[0;32m-> 1500\u001b[0;31m       name=name)\n\u001b[0m\u001b[1;32m   1501\u001b[0m \u001b[0;34m\u001b[0m\u001b[0m\n\u001b[1;32m   1502\u001b[0m \u001b[0;34m\u001b[0m\u001b[0m\n",
      "\u001b[0;32m~/.local/lib/python3.6/site-packages/tensorflow/python/ops/gen_sparse_ops.py\u001b[0m in \u001b[0;36msparse_to_dense\u001b[0;34m(sparse_indices, output_shape, sparse_values, default_value, validate_indices, name)\u001b[0m\n\u001b[1;32m   2860\u001b[0m         \u001b[0;32mpass\u001b[0m  \u001b[0;31m# Add nodes to the TensorFlow graph.\u001b[0m\u001b[0;34m\u001b[0m\u001b[0m\n\u001b[1;32m   2861\u001b[0m     \u001b[0;32mexcept\u001b[0m \u001b[0m_core\u001b[0m\u001b[0;34m.\u001b[0m\u001b[0m_NotOkStatusException\u001b[0m \u001b[0;32mas\u001b[0m \u001b[0me\u001b[0m\u001b[0;34m:\u001b[0m\u001b[0;34m\u001b[0m\u001b[0m\n\u001b[0;32m-> 2862\u001b[0;31m       \u001b[0m_ops\u001b[0m\u001b[0;34m.\u001b[0m\u001b[0mraise_from_not_ok_status\u001b[0m\u001b[0;34m(\u001b[0m\u001b[0me\u001b[0m\u001b[0;34m,\u001b[0m \u001b[0mname\u001b[0m\u001b[0;34m)\u001b[0m\u001b[0;34m\u001b[0m\u001b[0m\n\u001b[0m\u001b[1;32m   2863\u001b[0m   \u001b[0;31m# Add nodes to the TensorFlow graph.\u001b[0m\u001b[0;34m\u001b[0m\u001b[0;34m\u001b[0m\u001b[0m\n\u001b[1;32m   2864\u001b[0m   \u001b[0;32mif\u001b[0m \u001b[0mvalidate_indices\u001b[0m \u001b[0;32mis\u001b[0m \u001b[0;32mNone\u001b[0m\u001b[0;34m:\u001b[0m\u001b[0;34m\u001b[0m\u001b[0m\n",
      "\u001b[0;32m~/.local/lib/python3.6/site-packages/tensorflow/python/framework/ops.py\u001b[0m in \u001b[0;36mraise_from_not_ok_status\u001b[0;34m(e, name)\u001b[0m\n\u001b[1;32m   6651\u001b[0m   \u001b[0mmessage\u001b[0m \u001b[0;34m=\u001b[0m \u001b[0me\u001b[0m\u001b[0;34m.\u001b[0m\u001b[0mmessage\u001b[0m \u001b[0;34m+\u001b[0m \u001b[0;34m(\u001b[0m\u001b[0;34m\" name: \"\u001b[0m \u001b[0;34m+\u001b[0m \u001b[0mname\u001b[0m \u001b[0;32mif\u001b[0m \u001b[0mname\u001b[0m \u001b[0;32mis\u001b[0m \u001b[0;32mnot\u001b[0m \u001b[0;32mNone\u001b[0m \u001b[0;32melse\u001b[0m \u001b[0;34m\"\"\u001b[0m\u001b[0;34m)\u001b[0m\u001b[0;34m\u001b[0m\u001b[0m\n\u001b[1;32m   6652\u001b[0m   \u001b[0;31m# pylint: disable=protected-access\u001b[0m\u001b[0;34m\u001b[0m\u001b[0;34m\u001b[0m\u001b[0m\n\u001b[0;32m-> 6653\u001b[0;31m   \u001b[0msix\u001b[0m\u001b[0;34m.\u001b[0m\u001b[0mraise_from\u001b[0m\u001b[0;34m(\u001b[0m\u001b[0mcore\u001b[0m\u001b[0;34m.\u001b[0m\u001b[0m_status_to_exception\u001b[0m\u001b[0;34m(\u001b[0m\u001b[0me\u001b[0m\u001b[0;34m.\u001b[0m\u001b[0mcode\u001b[0m\u001b[0;34m,\u001b[0m \u001b[0mmessage\u001b[0m\u001b[0;34m)\u001b[0m\u001b[0;34m,\u001b[0m \u001b[0;32mNone\u001b[0m\u001b[0;34m)\u001b[0m\u001b[0;34m\u001b[0m\u001b[0m\n\u001b[0m\u001b[1;32m   6654\u001b[0m   \u001b[0;31m# pylint: enable=protected-access\u001b[0m\u001b[0;34m\u001b[0m\u001b[0;34m\u001b[0m\u001b[0m\n\u001b[1;32m   6655\u001b[0m \u001b[0;34m\u001b[0m\u001b[0m\n",
      "\u001b[0;32m/cvmfs/sft.cern.ch/lcg/views/LCG_96python3/x86_64-centos7-gcc8-opt/lib/python3.6/site-packages/six.py\u001b[0m in \u001b[0;36mraise_from\u001b[0;34m(value, from_value)\u001b[0m\n",
      "\u001b[0;31mInvalidArgumentError\u001b[0m: indices[9] = [3,7] is repeated [Op:SparseToDense]"
     ]
    },
    {
     "name": "stderr",
     "output_type": "stream",
     "text": [
      "2020-05-17 14:04:36.653701: W tensorflow/core/framework/op_kernel.cc:1752] OP_REQUIRES failed at sparse_to_dense_op.cc:136 : Invalid argument: indices[9] = [3,7] is repeated\n"
     ]
    }
   ],
   "source": [
    "C = output['cluster'].numpy()\n",
    "# print(A)\n",
    "# A = A[...,1:]\n",
    "C1 = C[C[...,3] == 0][...,:3]\n",
    "C2 = C[C[...,3] == 1][...,:3]\n",
    "# A1 = np.unique(A1, axis=0)\n",
    "# A2 = np.unique(A2, axis=0)\n",
    "# print(A1)\n",
    "\n",
    "sp = tf.SparseTensor(C1[...,1:3], C1[...,0], dense_shape=[20,20])\n",
    "C1_dense = tf.sparse.to_dense(tf.sparse.reorder(sp))\n",
    "plt.imshow(C1_dense)"
   ]
  },
  {
   "cell_type": "code",
   "execution_count": null,
   "metadata": {},
   "outputs": [],
   "source": [
    "sp = tf.SparseTensor(C2[...,1:3], C2[...,0], dense_shape=[HEIGHT,WIDTH])\n",
    "C2_dense = tf.sparse.to_dense(tf.sparse.reorder(sp))\n",
    "plt.imshow(C2_dense)"
   ]
  },
  {
   "cell_type": "markdown",
   "metadata": {},
   "source": [
    "## Unit testing"
   ]
  },
  {
   "cell_type": "code",
   "execution_count": null,
   "metadata": {},
   "outputs": [],
   "source": [
    "def test_sorting():\n",
    "    # arrange\n",
    "    image = tf.constant([[[3., 2.], [6., 1.]], [[5., 8.], [7., 4.]]])\n",
    "    TSEED = 4.\n",
    "    seed_list = tf.where(tf.math.greater(image, TSEED))\n",
    "    seed_len = 4\n",
    "    \n",
    "    # act\n",
    "    sorted_seedlist = sorting(seed_list, seed_len, image)\n",
    "    \n",
    "    # assert\n",
    "    assert tf.equal(sorted_seedlist, tf.constant([[1,0,1], [1,1,0], [0,1,0], [1,0,0]], tf.int64)).numpy().all()"
   ]
  },
  {
   "cell_type": "code",
   "execution_count": null,
   "metadata": {},
   "outputs": [],
   "source": [
    "def test_neighbors():\n",
    "    # arrange\n",
    "    index = tf.constant([0,0,0], tf.int64)\n",
    "    seed_list = tf.constant([[1,0,0], [1,1,0], [1,2,0]], tf.int64)\n",
    "    \n",
    "    # act\n",
    "    neigh = neighbors(index, seed_list)\n",
    "    \n",
    "    # assert\n",
    "    assert tf.equal(neigh, tf.constant([[0,0,1], [0,1,0]], tf.int64)).numpy().all()"
   ]
  },
  {
   "cell_type": "code",
   "execution_count": null,
   "metadata": {},
   "outputs": [],
   "source": [
    "test_neighbors()\n",
    "# test_sorting()"
   ]
  },
  {
   "cell_type": "code",
   "execution_count": null,
   "metadata": {},
   "outputs": [],
   "source": []
  },
  {
   "cell_type": "code",
   "execution_count": null,
   "metadata": {},
   "outputs": [],
   "source": [
    "tf.shape([[1,2], [4,5]])[0].numpy()"
   ]
  },
  {
   "cell_type": "code",
   "execution_count": null,
   "metadata": {},
   "outputs": [],
   "source": []
  },
  {
   "cell_type": "code",
   "execution_count": 4,
   "metadata": {},
   "outputs": [
    {
     "name": "stdout",
     "output_type": "stream",
     "text": [
      "[6 5 4 3 2 1]\n",
      "[6 5 4 3 2]\n",
      "[6 5 4 3]\n",
      "[6 5 4]\n",
      "[6 5]\n",
      "[6]\n"
     ]
    }
   ],
   "source": [
    "a = tf.constant([6, 5, 4, 3, 2, 1])\n",
    "c = lambda a: tf.not_equal(tf.size(a), 0)\n",
    "def b(a): tf.print(a); return [tf.strided_slice(a, [0], [-1], [1])]\n",
    "r = tf.while_loop(c, b, [a])"
   ]
  },
  {
   "cell_type": "code",
   "execution_count": null,
   "metadata": {},
   "outputs": [],
   "source": []
  },
  {
   "cell_type": "code",
   "execution_count": 5,
   "metadata": {},
   "outputs": [
    {
     "data": {
      "text/plain": [
       "<tf.Tensor: shape=(1, 1), dtype=float32, numpy=array([[1000.]], dtype=float32)>"
      ]
     },
     "execution_count": 5,
     "metadata": {},
     "output_type": "execute_result"
    }
   ],
   "source": [
    "tf.constant([[1000.]], tf.float32)"
   ]
  },
  {
   "cell_type": "code",
   "execution_count": 6,
   "metadata": {},
   "outputs": [
    {
     "data": {
      "text/plain": [
       "<tf.Tensor: shape=(3, 1), dtype=int64, numpy=\n",
       "array([[0],\n",
       "       [1],\n",
       "       [2]])>"
      ]
     },
     "execution_count": 6,
     "metadata": {},
     "output_type": "execute_result"
    }
   ],
   "source": [
    "tf.where(tf.greater(a, 3))"
   ]
  },
  {
   "cell_type": "code",
   "execution_count": 7,
   "metadata": {},
   "outputs": [
    {
     "data": {
      "text/plain": [
       "tf.int32"
      ]
     },
     "execution_count": 7,
     "metadata": {},
     "output_type": "execute_result"
    }
   ],
   "source": [
    "a.dtype"
   ]
  },
  {
   "cell_type": "code",
   "execution_count": 18,
   "metadata": {},
   "outputs": [
    {
     "data": {
      "text/plain": [
       "array([[[0., 0.],\n",
       "        [0., 0.],\n",
       "        [0., 0.],\n",
       "        [0., 0.],\n",
       "        [0., 0.]],\n",
       "\n",
       "       [[0., 0.],\n",
       "        [1., 0.],\n",
       "        [1., 0.],\n",
       "        [1., 0.],\n",
       "        [0., 0.]],\n",
       "\n",
       "       [[0., 0.],\n",
       "        [1., 0.],\n",
       "        [1., 0.],\n",
       "        [1., 0.],\n",
       "        [0., 0.]],\n",
       "\n",
       "       [[0., 0.],\n",
       "        [1., 0.],\n",
       "        [1., 0.],\n",
       "        [1., 0.],\n",
       "        [0., 0.]],\n",
       "\n",
       "       [[0., 0.],\n",
       "        [0., 0.],\n",
       "        [0., 0.],\n",
       "        [0., 0.],\n",
       "        [0., 1.]]])"
      ]
     },
     "execution_count": 18,
     "metadata": {},
     "output_type": "execute_result"
    }
   ],
   "source": [
    "from skimage.measure import label\n",
    "\n",
    "import numpy as np\n",
    "mask = np.zeros([5,5,2])\n",
    "mask[1:4,1:4,0] = 1 \n",
    "mask[4,4,1] = 1\n",
    "mask"
   ]
  },
  {
   "cell_type": "code",
   "execution_count": 19,
   "metadata": {},
   "outputs": [],
   "source": [
    "f = lambda x: label(x, connectivity=2)\n",
    "labels = tf.numpy_function(f, [mask], Tout=tf.int64)"
   ]
  },
  {
   "cell_type": "code",
   "execution_count": 20,
   "metadata": {},
   "outputs": [
    {
     "data": {
      "text/plain": [
       "<tf.Tensor: shape=(5, 5, 2), dtype=int64, numpy=\n",
       "array([[[0, 0],\n",
       "        [0, 0],\n",
       "        [0, 0],\n",
       "        [0, 0],\n",
       "        [0, 0]],\n",
       "\n",
       "       [[0, 0],\n",
       "        [1, 0],\n",
       "        [1, 0],\n",
       "        [1, 0],\n",
       "        [0, 0]],\n",
       "\n",
       "       [[0, 0],\n",
       "        [1, 0],\n",
       "        [1, 0],\n",
       "        [1, 0],\n",
       "        [0, 0]],\n",
       "\n",
       "       [[0, 0],\n",
       "        [1, 0],\n",
       "        [1, 0],\n",
       "        [1, 0],\n",
       "        [0, 0]],\n",
       "\n",
       "       [[0, 0],\n",
       "        [0, 0],\n",
       "        [0, 0],\n",
       "        [0, 0],\n",
       "        [0, 2]]])>"
      ]
     },
     "execution_count": 20,
     "metadata": {},
     "output_type": "execute_result"
    }
   ],
   "source": [
    "labels"
   ]
  },
  {
   "cell_type": "code",
   "execution_count": 21,
   "metadata": {},
   "outputs": [],
   "source": [
    "import matplotlib.pyplot as plt"
   ]
  },
  {
   "cell_type": "code",
   "execution_count": 22,
   "metadata": {},
   "outputs": [
    {
     "data": {
      "text/plain": [
       "<matplotlib.image.AxesImage at 0x7fdf28058198>"
      ]
     },
     "execution_count": 22,
     "metadata": {},
     "output_type": "execute_result"
    },
    {
     "data": {
      "image/png": "[encoded data removed]",
      "text/plain": [
       "<Figure size 432x288 with 1 Axes>"
      ]
     },
     "metadata": {
      "needs_background": "light"
     },
     "output_type": "display_data"
    }
   ],
   "source": [
    "plt.contour(labels[:,:,0], levels=1, linewidths=2)\n",
    "plt.imshow(labels[:,:,0])"
   ]
  },
  {
   "cell_type": "code",
   "execution_count": null,
   "metadata": {},
   "outputs": [],
   "source": []
  },
  {
   "cell_type": "code",
   "execution_count": 23,
   "metadata": {},
   "outputs": [
    {
     "name": "stdout",
     "output_type": "stream",
     "text": [
      "Welcome to JupyROOT 6.18/00\n"
     ]
    }
   ],
   "source": [
    "import ROOT"
   ]
  },
  {
   "cell_type": "code",
   "execution_count": 65,
   "metadata": {},
   "outputs": [],
   "source": [
    "h = ROOT.TH2F(\"\",\"\", 5, 0., 4., 5, 0., 4.)"
   ]
  },
  {
   "cell_type": "code",
   "execution_count": 66,
   "metadata": {},
   "outputs": [
    {
     "name": "stdout",
     "output_type": "stream",
     "text": [
      "1 1\n",
      "1 2\n",
      "1 3\n",
      "2 1\n",
      "2 2\n",
      "2 3\n",
      "3 1\n",
      "3 2\n",
      "3 3\n"
     ]
    }
   ],
   "source": [
    "for i in range(1,4):\n",
    "    for j in range(1,4):\n",
    "        print(i,j)\n",
    "        h.Fill(i,j)"
   ]
  },
  {
   "cell_type": "code",
   "execution_count": 86,
   "metadata": {},
   "outputs": [
    {
     "name": "stderr",
     "output_type": "stream",
     "text": [
      "Warning in <TCanvas::Constructor>: Deleting canvas with same name: c1\n"
     ]
    },
    {
     "data": {
      "image/png": "[encoded data removed]",
      "text/plain": [
       "<IPython.core.display.Image object>"
      ]
     },
     "metadata": {},
     "output_type": "display_data"
    }
   ],
   "source": [
    "from array import array\n",
    "c = ROOT.TCanvas(\"c1\",\"c1\", 200, 200)\n",
    "# h.SetContourLevel(0, 2.);\n",
    "arr = array('d',[0.5])\n",
    "h.SetContour(1, arr)\n",
    "h.DrawCopy(\"colz\");\n",
    "h.Draw(\"cont3 list same\")\n",
    "c.Draw()"
   ]
  },
  {
   "cell_type": "code",
   "execution_count": null,
   "metadata": {},
   "outputs": [],
   "source": []
  },
  {
   "cell_type": "code",
   "execution_count": null,
   "metadata": {},
   "outputs": [],
   "source": []
  }
 ],
 "metadata": {
  "kernelspec": {
   "display_name": "Python 3",
   "language": "python",
   "name": "python3"
  },
  "language_info": {
   "codemirror_mode": {
    "name": "ipython",
    "version": 3
   },
   "file_extension": ".py",
   "mimetype": "text/x-python",
   "name": "python",
   "nbconvert_exporter": "python",
   "pygments_lexer": "ipython3",
   "version": "3.6.5"
  }
 },
 "nbformat": 4,
 "nbformat_minor": 2
}
