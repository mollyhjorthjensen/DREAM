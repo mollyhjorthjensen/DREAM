{
 "cells": [
  {
   "cell_type": "markdown",
   "metadata": {},
   "source": [
    "# Plot discriminating variables"
   ]
  },
  {
   "cell_type": "code",
   "execution_count": 1,
   "metadata": {},
   "outputs": [
    {
     "name": "stdout",
     "output_type": "stream",
     "text": [
      "Welcome to JupyROOT 6.18/00\n"
     ]
    }
   ],
   "source": [
    "import os\n",
    "import pandas as pd\n",
    "import ROOT\n",
    "from array import array\n",
    "import seaborn as sn\n",
    "import matplotlib.pyplot as plt\n",
    "import numpy as np\n",
    "from tableauColors import palette"
   ]
  },
  {
   "cell_type": "markdown",
   "metadata": {},
   "source": [
    "## Load data"
   ]
  },
  {
   "cell_type": "code",
   "execution_count": 2,
   "metadata": {},
   "outputs": [
    {
     "ename": "FileNotFoundError",
     "evalue": "[Errno 2] File b'/groups/hep/mojen/repositories/DREAM/Run/final_run/tauolaevts/25000/dftrain.csv' does not exist: b'/groups/hep/mojen/repositories/DREAM/Run/final_run/tauolaevts/25000/dftrain.csv'",
     "output_type": "error",
     "traceback": [
      "\u001b[0;31m---------------------------------------------------------------------------\u001b[0m",
      "\u001b[0;31mFileNotFoundError\u001b[0m                         Traceback (most recent call last)",
      "\u001b[0;32m<ipython-input-2-9eff19df733c>\u001b[0m in \u001b[0;36m<module>\u001b[0;34m\u001b[0m\n\u001b[1;32m      1\u001b[0m \u001b[0mDATA_DIR\u001b[0m \u001b[0;34m=\u001b[0m \u001b[0;34m'/groups/hep/mojen/repositories/DREAM/Run/final_run/tauolaevts/25000'\u001b[0m\u001b[0;34m\u001b[0m\u001b[0m\n\u001b[0;32m----> 2\u001b[0;31m \u001b[0mdf\u001b[0m \u001b[0;34m=\u001b[0m \u001b[0mpd\u001b[0m\u001b[0;34m.\u001b[0m\u001b[0mread_csv\u001b[0m\u001b[0;34m(\u001b[0m\u001b[0mos\u001b[0m\u001b[0;34m.\u001b[0m\u001b[0mpath\u001b[0m\u001b[0;34m.\u001b[0m\u001b[0mjoin\u001b[0m\u001b[0;34m(\u001b[0m\u001b[0mDATA_DIR\u001b[0m\u001b[0;34m,\u001b[0m \u001b[0;34m'dftrain.csv'\u001b[0m\u001b[0;34m)\u001b[0m\u001b[0;34m)\u001b[0m\u001b[0;34m\u001b[0m\u001b[0m\n\u001b[0m\u001b[1;32m      3\u001b[0m \u001b[0mprint\u001b[0m\u001b[0;34m(\u001b[0m\u001b[0mdf\u001b[0m\u001b[0;34m.\u001b[0m\u001b[0mshape\u001b[0m\u001b[0;34m)\u001b[0m\u001b[0;34m\u001b[0m\u001b[0m\n\u001b[1;32m      4\u001b[0m \u001b[0mdf\u001b[0m\u001b[0;34m.\u001b[0m\u001b[0mhead\u001b[0m\u001b[0;34m(\u001b[0m\u001b[0;34m)\u001b[0m\u001b[0;34m\u001b[0m\u001b[0m\n",
      "\u001b[0;32m/cvmfs/sft.cern.ch/lcg/views/LCG_96python3/x86_64-centos7-gcc8-opt/lib/python3.6/site-packages/pandas/io/parsers.py\u001b[0m in \u001b[0;36mparser_f\u001b[0;34m(filepath_or_buffer, sep, delimiter, header, names, index_col, usecols, squeeze, prefix, mangle_dupe_cols, dtype, engine, converters, true_values, false_values, skipinitialspace, skiprows, skipfooter, nrows, na_values, keep_default_na, na_filter, verbose, skip_blank_lines, parse_dates, infer_datetime_format, keep_date_col, date_parser, dayfirst, iterator, chunksize, compression, thousands, decimal, lineterminator, quotechar, quoting, doublequote, escapechar, comment, encoding, dialect, tupleize_cols, error_bad_lines, warn_bad_lines, delim_whitespace, low_memory, memory_map, float_precision)\u001b[0m\n\u001b[1;32m    700\u001b[0m                     skip_blank_lines=skip_blank_lines)\n\u001b[1;32m    701\u001b[0m \u001b[0;34m\u001b[0m\u001b[0m\n\u001b[0;32m--> 702\u001b[0;31m         \u001b[0;32mreturn\u001b[0m \u001b[0m_read\u001b[0m\u001b[0;34m(\u001b[0m\u001b[0mfilepath_or_buffer\u001b[0m\u001b[0;34m,\u001b[0m \u001b[0mkwds\u001b[0m\u001b[0;34m)\u001b[0m\u001b[0;34m\u001b[0m\u001b[0m\n\u001b[0m\u001b[1;32m    703\u001b[0m \u001b[0;34m\u001b[0m\u001b[0m\n\u001b[1;32m    704\u001b[0m     \u001b[0mparser_f\u001b[0m\u001b[0;34m.\u001b[0m\u001b[0m__name__\u001b[0m \u001b[0;34m=\u001b[0m \u001b[0mname\u001b[0m\u001b[0;34m\u001b[0m\u001b[0m\n",
      "\u001b[0;32m/cvmfs/sft.cern.ch/lcg/views/LCG_96python3/x86_64-centos7-gcc8-opt/lib/python3.6/site-packages/pandas/io/parsers.py\u001b[0m in \u001b[0;36m_read\u001b[0;34m(filepath_or_buffer, kwds)\u001b[0m\n\u001b[1;32m    427\u001b[0m \u001b[0;34m\u001b[0m\u001b[0m\n\u001b[1;32m    428\u001b[0m     \u001b[0;31m# Create the parser.\u001b[0m\u001b[0;34m\u001b[0m\u001b[0;34m\u001b[0m\u001b[0m\n\u001b[0;32m--> 429\u001b[0;31m     \u001b[0mparser\u001b[0m \u001b[0;34m=\u001b[0m \u001b[0mTextFileReader\u001b[0m\u001b[0;34m(\u001b[0m\u001b[0mfilepath_or_buffer\u001b[0m\u001b[0;34m,\u001b[0m \u001b[0;34m**\u001b[0m\u001b[0mkwds\u001b[0m\u001b[0;34m)\u001b[0m\u001b[0;34m\u001b[0m\u001b[0m\n\u001b[0m\u001b[1;32m    430\u001b[0m \u001b[0;34m\u001b[0m\u001b[0m\n\u001b[1;32m    431\u001b[0m     \u001b[0;32mif\u001b[0m \u001b[0mchunksize\u001b[0m \u001b[0;32mor\u001b[0m \u001b[0miterator\u001b[0m\u001b[0;34m:\u001b[0m\u001b[0;34m\u001b[0m\u001b[0m\n",
      "\u001b[0;32m/cvmfs/sft.cern.ch/lcg/views/LCG_96python3/x86_64-centos7-gcc8-opt/lib/python3.6/site-packages/pandas/io/parsers.py\u001b[0m in \u001b[0;36m__init__\u001b[0;34m(self, f, engine, **kwds)\u001b[0m\n\u001b[1;32m    893\u001b[0m             \u001b[0mself\u001b[0m\u001b[0;34m.\u001b[0m\u001b[0moptions\u001b[0m\u001b[0;34m[\u001b[0m\u001b[0;34m'has_index_names'\u001b[0m\u001b[0;34m]\u001b[0m \u001b[0;34m=\u001b[0m \u001b[0mkwds\u001b[0m\u001b[0;34m[\u001b[0m\u001b[0;34m'has_index_names'\u001b[0m\u001b[0;34m]\u001b[0m\u001b[0;34m\u001b[0m\u001b[0m\n\u001b[1;32m    894\u001b[0m \u001b[0;34m\u001b[0m\u001b[0m\n\u001b[0;32m--> 895\u001b[0;31m         \u001b[0mself\u001b[0m\u001b[0;34m.\u001b[0m\u001b[0m_make_engine\u001b[0m\u001b[0;34m(\u001b[0m\u001b[0mself\u001b[0m\u001b[0;34m.\u001b[0m\u001b[0mengine\u001b[0m\u001b[0;34m)\u001b[0m\u001b[0;34m\u001b[0m\u001b[0m\n\u001b[0m\u001b[1;32m    896\u001b[0m \u001b[0;34m\u001b[0m\u001b[0m\n\u001b[1;32m    897\u001b[0m     \u001b[0;32mdef\u001b[0m \u001b[0mclose\u001b[0m\u001b[0;34m(\u001b[0m\u001b[0mself\u001b[0m\u001b[0;34m)\u001b[0m\u001b[0;34m:\u001b[0m\u001b[0;34m\u001b[0m\u001b[0m\n",
      "\u001b[0;32m/cvmfs/sft.cern.ch/lcg/views/LCG_96python3/x86_64-centos7-gcc8-opt/lib/python3.6/site-packages/pandas/io/parsers.py\u001b[0m in \u001b[0;36m_make_engine\u001b[0;34m(self, engine)\u001b[0m\n\u001b[1;32m   1120\u001b[0m     \u001b[0;32mdef\u001b[0m \u001b[0m_make_engine\u001b[0m\u001b[0;34m(\u001b[0m\u001b[0mself\u001b[0m\u001b[0;34m,\u001b[0m \u001b[0mengine\u001b[0m\u001b[0;34m=\u001b[0m\u001b[0;34m'c'\u001b[0m\u001b[0;34m)\u001b[0m\u001b[0;34m:\u001b[0m\u001b[0;34m\u001b[0m\u001b[0m\n\u001b[1;32m   1121\u001b[0m         \u001b[0;32mif\u001b[0m \u001b[0mengine\u001b[0m \u001b[0;34m==\u001b[0m \u001b[0;34m'c'\u001b[0m\u001b[0;34m:\u001b[0m\u001b[0;34m\u001b[0m\u001b[0m\n\u001b[0;32m-> 1122\u001b[0;31m             \u001b[0mself\u001b[0m\u001b[0;34m.\u001b[0m\u001b[0m_engine\u001b[0m \u001b[0;34m=\u001b[0m \u001b[0mCParserWrapper\u001b[0m\u001b[0;34m(\u001b[0m\u001b[0mself\u001b[0m\u001b[0;34m.\u001b[0m\u001b[0mf\u001b[0m\u001b[0;34m,\u001b[0m \u001b[0;34m**\u001b[0m\u001b[0mself\u001b[0m\u001b[0;34m.\u001b[0m\u001b[0moptions\u001b[0m\u001b[0;34m)\u001b[0m\u001b[0;34m\u001b[0m\u001b[0m\n\u001b[0m\u001b[1;32m   1123\u001b[0m         \u001b[0;32melse\u001b[0m\u001b[0;34m:\u001b[0m\u001b[0;34m\u001b[0m\u001b[0m\n\u001b[1;32m   1124\u001b[0m             \u001b[0;32mif\u001b[0m \u001b[0mengine\u001b[0m \u001b[0;34m==\u001b[0m \u001b[0;34m'python'\u001b[0m\u001b[0;34m:\u001b[0m\u001b[0;34m\u001b[0m\u001b[0m\n",
      "\u001b[0;32m/cvmfs/sft.cern.ch/lcg/views/LCG_96python3/x86_64-centos7-gcc8-opt/lib/python3.6/site-packages/pandas/io/parsers.py\u001b[0m in \u001b[0;36m__init__\u001b[0;34m(self, src, **kwds)\u001b[0m\n\u001b[1;32m   1851\u001b[0m         \u001b[0mkwds\u001b[0m\u001b[0;34m[\u001b[0m\u001b[0;34m'usecols'\u001b[0m\u001b[0;34m]\u001b[0m \u001b[0;34m=\u001b[0m \u001b[0mself\u001b[0m\u001b[0;34m.\u001b[0m\u001b[0musecols\u001b[0m\u001b[0;34m\u001b[0m\u001b[0m\n\u001b[1;32m   1852\u001b[0m \u001b[0;34m\u001b[0m\u001b[0m\n\u001b[0;32m-> 1853\u001b[0;31m         \u001b[0mself\u001b[0m\u001b[0;34m.\u001b[0m\u001b[0m_reader\u001b[0m \u001b[0;34m=\u001b[0m \u001b[0mparsers\u001b[0m\u001b[0;34m.\u001b[0m\u001b[0mTextReader\u001b[0m\u001b[0;34m(\u001b[0m\u001b[0msrc\u001b[0m\u001b[0;34m,\u001b[0m \u001b[0;34m**\u001b[0m\u001b[0mkwds\u001b[0m\u001b[0;34m)\u001b[0m\u001b[0;34m\u001b[0m\u001b[0m\n\u001b[0m\u001b[1;32m   1854\u001b[0m         \u001b[0mself\u001b[0m\u001b[0;34m.\u001b[0m\u001b[0munnamed_cols\u001b[0m \u001b[0;34m=\u001b[0m \u001b[0mself\u001b[0m\u001b[0;34m.\u001b[0m\u001b[0m_reader\u001b[0m\u001b[0;34m.\u001b[0m\u001b[0munnamed_cols\u001b[0m\u001b[0;34m\u001b[0m\u001b[0m\n\u001b[1;32m   1855\u001b[0m \u001b[0;34m\u001b[0m\u001b[0m\n",
      "\u001b[0;32mpandas/_libs/parsers.pyx\u001b[0m in \u001b[0;36mpandas._libs.parsers.TextReader.__cinit__\u001b[0;34m()\u001b[0m\n",
      "\u001b[0;32mpandas/_libs/parsers.pyx\u001b[0m in \u001b[0;36mpandas._libs.parsers.TextReader._setup_parser_source\u001b[0;34m()\u001b[0m\n",
      "\u001b[0;31mFileNotFoundError\u001b[0m: [Errno 2] File b'/groups/hep/mojen/repositories/DREAM/Run/final_run/tauolaevts/25000/dftrain.csv' does not exist: b'/groups/hep/mojen/repositories/DREAM/Run/final_run/tauolaevts/25000/dftrain.csv'"
     ]
    }
   ],
   "source": [
    "DATA_DIR = '/groups/hep/mojen/repositories/DREAM/Run/final_run/tauolaevts/25000'\n",
    "df = pd.read_csv(os.path.join(DATA_DIR, 'dftrain.csv'))\n",
    "print(df.shape)\n",
    "df.head()"
   ]
  },
  {
   "cell_type": "code",
   "execution_count": 3,
   "metadata": {},
   "outputs": [
    {
     "ename": "NameError",
     "evalue": "name 'df' is not defined",
     "output_type": "error",
     "traceback": [
      "\u001b[0;31m---------------------------------------------------------------------------\u001b[0m",
      "\u001b[0;31mNameError\u001b[0m                                 Traceback (most recent call last)",
      "\u001b[0;32m<ipython-input-3-07ed455dee8c>\u001b[0m in \u001b[0;36m<module>\u001b[0;34m\u001b[0m\n\u001b[1;32m      1\u001b[0m \u001b[0mexcl_columns\u001b[0m \u001b[0;34m=\u001b[0m \u001b[0;34m[\u001b[0m\u001b[0;34m'eventId'\u001b[0m\u001b[0;34m,\u001b[0m \u001b[0;34m'clusterId'\u001b[0m\u001b[0;34m,\u001b[0m \u001b[0;34m'PrimaryDecayMode'\u001b[0m\u001b[0;34m,\u001b[0m \u001b[0;34m'label'\u001b[0m\u001b[0;34m]\u001b[0m \u001b[0;31m# 'VecShowerEnergy',\u001b[0m\u001b[0;34m\u001b[0m\u001b[0m\n\u001b[0;32m----> 2\u001b[0;31m \u001b[0mdf_vars\u001b[0m \u001b[0;34m=\u001b[0m \u001b[0mdf\u001b[0m\u001b[0;34m.\u001b[0m\u001b[0mdrop\u001b[0m\u001b[0;34m(\u001b[0m\u001b[0mexcl_columns\u001b[0m\u001b[0;34m,\u001b[0m \u001b[0maxis\u001b[0m\u001b[0;34m=\u001b[0m\u001b[0;36m1\u001b[0m\u001b[0;34m)\u001b[0m\u001b[0;34m\u001b[0m\u001b[0m\n\u001b[0m\u001b[1;32m      3\u001b[0m \u001b[0mcorrMatrix\u001b[0m \u001b[0;34m=\u001b[0m \u001b[0mdf_vars\u001b[0m\u001b[0;34m.\u001b[0m\u001b[0mcorr\u001b[0m\u001b[0;34m(\u001b[0m\u001b[0;34m)\u001b[0m\u001b[0;34m\u001b[0m\u001b[0m\n\u001b[1;32m      4\u001b[0m \u001b[0msn\u001b[0m\u001b[0;34m.\u001b[0m\u001b[0mheatmap\u001b[0m\u001b[0;34m(\u001b[0m\u001b[0mcorrMatrix\u001b[0m\u001b[0;34m,\u001b[0m \u001b[0mannot\u001b[0m\u001b[0;34m=\u001b[0m\u001b[0;32mTrue\u001b[0m\u001b[0;34m)\u001b[0m\u001b[0;34m\u001b[0m\u001b[0m\n\u001b[1;32m      5\u001b[0m \u001b[0mplt\u001b[0m\u001b[0;34m.\u001b[0m\u001b[0mshow\u001b[0m\u001b[0;34m(\u001b[0m\u001b[0;34m)\u001b[0m\u001b[0;34m\u001b[0m\u001b[0m\n",
      "\u001b[0;31mNameError\u001b[0m: name 'df' is not defined"
     ]
    }
   ],
   "source": [
    "excl_columns = ['eventId', 'clusterId', 'PrimaryDecayMode', 'label'] # 'VecShowerEnergy', \n",
    "df_vars = df.drop(excl_columns, axis=1)\n",
    "corrMatrix = df_vars.corr()\n",
    "sn.heatmap(corrMatrix, annot=True)\n",
    "plt.show()"
   ]
  },
  {
   "cell_type": "markdown",
   "metadata": {},
   "source": [
    "## Convert to RDataFrame"
   ]
  },
  {
   "cell_type": "code",
   "execution_count": 5,
   "metadata": {},
   "outputs": [],
   "source": [
    "f = ROOT.TFile('dftrain.root', 'recreate' )\n",
    "t = ROOT.TTree('train', 'tree with train set' )\n",
    "\n",
    "PrimaryDecayMode = array('i', [0])\n",
    "VecShowerEnergy = array('d', [0.])\n",
    "S_sum = array('d', [0.])\n",
    "C_sum = array('d', [0.])\n",
    "S_rad_mean = array('d', [0.])\n",
    "C_rad_mean = array('d', [0.])\n",
    "S_hot = array('d', [0.])\n",
    "C_hot = array('d', [0.])\n",
    "CoverS = array('d', [0.])\n",
    "# dist2charge = array('d', [0.])\n",
    "rec_energy = array('d', [0.])\n",
    "label = array('i', [0])\n",
    "\n",
    "t.Branch('PrimaryDecayMode', PrimaryDecayMode, \"PrimaryDecayMode/I\")\n",
    "t.Branch('VecShowerEnergy', VecShowerEnergy, \"VecShowerEnergy/D\")\n",
    "t.Branch('S_sum', S_sum, \"S_sum/D\")\n",
    "t.Branch('C_sum', C_sum, \"C_sum/D\")\n",
    "t.Branch('S_rad_mean', S_rad_mean, \"S_rad_mean/D\")\n",
    "t.Branch('C_rad_mean', C_rad_mean, \"C_rad_mean/D\")\n",
    "t.Branch('S_hot', S_hot, \"S_hot/D\")\n",
    "t.Branch('C_hot', C_hot, \"C_hot/D\")\n",
    "t.Branch('CoverS', CoverS, \"CoverS/D\")\n",
    "# t.Branch('dist2charge', dist2charge, \"dist2charge/D\")\n",
    "t.Branch('rec_energy', rec_energy, \"rec_energy/D\")\n",
    "t.Branch('label', label, \"label/I\")\n",
    "\n",
    "for i in range(df.shape[0]):\n",
    "    PrimaryDecayMode[0] = df.PrimaryDecayMode.values[i] \n",
    "    VecShowerEnergy[0] = df.VecShowerEnergy.values[i]\n",
    "    S_sum[0] = df.S_sum.values[i]\n",
    "    C_sum[0] = df.C_sum.values[i]\n",
    "    S_rad_mean[0] = df.S_rad_mean.values[i]\n",
    "    C_rad_mean[0] = df.C_rad_mean.values[i]\n",
    "    S_hot[0] = df.S_hot.values[i]\n",
    "    C_hot[0] = df.C_hot.values[i]\n",
    "    CoverS[0] = df.CoverS.values[i]\n",
    "    rec_energy[0] = df.rec_energy.values[i]\n",
    "#     dist2charge[0] = df.dist2charge.values[i]\n",
    "    label[0] = df.label.values[i]\n",
    "    t.Fill()\n",
    "f.Write()\n",
    "f.Close()"
   ]
  },
  {
   "cell_type": "markdown",
   "metadata": {},
   "source": [
    "## Load RDataFrame"
   ]
  },
  {
   "cell_type": "code",
   "execution_count": 6,
   "metadata": {},
   "outputs": [],
   "source": [
    "d = ROOT.ROOT.RDataFrame(\"train\", \"dftrain.root\")"
   ]
  },
  {
   "cell_type": "code",
   "execution_count": 7,
   "metadata": {},
   "outputs": [
    {
     "data": {
      "text/plain": [
       "{'PrimaryDecayMode': numpy.array([4, 4, 4, ..., 4, 4, 2], dtype=int32),\n",
       " 'VecShowerEnergy': numpy.array([21408.33540089,   924.50801965,  1100.24599705, ...,\n",
       "               8658.39264467, 12326.90357129, 23290.71941994]),\n",
       " 'S_sum': numpy.array([11140.116 ,        nan,   783.383 , ...,  8266.372 ,\n",
       "              10731.531 ,  8307.1045]),\n",
       " 'C_sum': numpy.array([ 4807.8887 ,  1073.348  ,   904.80566, ...,  7906.305  ,\n",
       "              11502.653  ,         nan]),\n",
       " 'S_rad_mean': numpy.array([10.362349 ,        nan,  1.8324381, ...,  2.594959 ,\n",
       "               2.5638223,  7.575569 ]),\n",
       " 'C_rad_mean': numpy.array([6.4914665, 1.9689337, 1.4487892, ..., 2.1694856, 1.9622419,\n",
       "                    nan]),\n",
       " 'S_hot': numpy.array([0.02535458,        nan, 0.19745822, ..., 0.14622149,\n",
       "              0.11172213, 0.03200391]),\n",
       " 'C_hot': numpy.array([0.04428044, 0.15702479, 0.17647061, ..., 0.20195465,\n",
       "              0.21361741,        nan]),\n",
       " 'CoverS': numpy.array([0.43158336,        nan, 1.15499782, ..., 0.95644196,\n",
       "              1.07185573,        nan]),\n",
       " 'rec_energy': numpy.array([13573.67527476,            nan,   736.71865483, ...,\n",
       "               8404.75054295, 10435.17854672,            nan]),\n",
       " 'label': numpy.array([3, 2, 2, ..., 2, 2, 3], dtype=int32)}"
      ]
     },
     "execution_count": 7,
     "metadata": {},
     "output_type": "execute_result"
    }
   ],
   "source": [
    "d.AsNumpy()"
   ]
  },
  {
   "cell_type": "code",
   "execution_count": 8,
   "metadata": {},
   "outputs": [],
   "source": [
    "for col in [\"VecShowerEnergy\", \"S_sum\", \"C_sum\", \"rec_energy\"]:\n",
    "    d = d.Define(f\"{col}_GeV\", f\"{col}*1e-3\")"
   ]
  },
  {
   "cell_type": "markdown",
   "metadata": {},
   "source": [
    "## Plot variables for each label"
   ]
  },
  {
   "cell_type": "code",
   "execution_count": 9,
   "metadata": {},
   "outputs": [],
   "source": [
    "ROOT.gStyle.SetOptStat(0)\n",
    "c1 = ROOT.TCanvas(\"c1\", \"c1\", 800, 1000)\n",
    "c1.Divide(2,4)"
   ]
  },
  {
   "cell_type": "code",
   "execution_count": 10,
   "metadata": {},
   "outputs": [
    {
     "name": "stdout",
     "output_type": "stream",
     "text": [
      "11098\n"
     ]
    }
   ],
   "source": [
    "print(d.Count().GetValue())\n",
    "palette_lst = [palette['e-'], palette['mu-'], palette['gamma'], palette['pi-']]"
   ]
  },
  {
   "cell_type": "code",
   "execution_count": 11,
   "metadata": {},
   "outputs": [],
   "source": [
    "ratio = 2.\n",
    "labelsize = 0.03 * ratio\n",
    "titlesize = 0.04 * ratio\n",
    "xtitleoffset = 1\n",
    "ytitleoffset = 0.8\n",
    "labeloffset = 0.005 * ratio\n",
    "linewidth = 2\n",
    "ticklength = 0."
   ]
  },
  {
   "cell_type": "code",
   "execution_count": 13,
   "metadata": {},
   "outputs": [
    {
     "name": "stdout",
     "output_type": "stream",
     "text": [
      "0 1293\n",
      "1 738\n",
      "2 6277\n",
      "3 2202\n"
     ]
    },
    {
     "data": {
      "image/png": "[encoded data removed]",
      "text/plain": [
       "<IPython.core.display.Image object>"
      ]
     },
     "metadata": {},
     "output_type": "display_data"
    }
   ],
   "source": [
    "ROOT.gStyle.SetOptStat(\"ou\")\n",
    "xmax = [45, 45, 10., 10., 1., 1., 2., 45] #200.]\n",
    "ymax = [0.4, 0.6, 0.3, 0.4, 0.3, 0.3, 0.3, 0.4] #1.1]\n",
    "xtitle = ['S [GeV]', 'C [GeV]', 'S_{r} [3 mm]', 'C_{r} [3 mm]', \n",
    "          'S_{hot}', 'C_{hot}', 'C / S', 'E_{reconstructed} [GeV]'] #'d_{c} [3 mm]']\n",
    "varsname = [\"S_sum_GeV\", \"C_sum_GeV\", \"S_rad_mean\", \"C_rad_mean\", \n",
    "            \"S_hot\", \"C_hot\", \"CoverS\", 'rec_energy_GeV'] #\"dist2charge\"]\n",
    "hs = [None, None, None, None, None, None, None, None]\n",
    "label_dict = {0: 'electron', 1: 'muon', 2: 'photon', 3: 'pion'}\n",
    "for i,col in enumerate(varsname):\n",
    "    c1.cd(i+1)\n",
    "    ROOT.gPad.SetLeftMargin(0.18)\n",
    "    ROOT.gPad.SetRightMargin(0.02)\n",
    "    ROOT.gPad.SetBottomMargin(0.18)\n",
    "    ROOT.gPad.SetTopMargin(0.02)\n",
    "    \n",
    "    hs[i] = ROOT.THStack(\"hs\",\"\");\n",
    "    for j in np.unique(df.label.values):\n",
    "        model = (\"\", label_dict[j], 50, 0., xmax[i]) #d.Filter(f\"!std::isnan({col})\").Max(col).GetValue())\n",
    "        d2 = d.Filter(f'label == {j} && !std::isnan({col})')\n",
    "        if i == 0:\n",
    "            print(j, d2.Count().GetValue())\n",
    "        h = d2.Histo1D(model, col)\n",
    "        h.SetLineColor(palette_lst[j].GetNumber())\n",
    "        h.SetLineWidth(linewidth)\n",
    "#         h.GetXaxis().SetRange(1, h.GetNbinsX() + 1)\n",
    "#         if j == 0:\n",
    "#             h.DrawNormalized(\"hist\")\n",
    "#         else:\n",
    "#             h.DrawNormalized(\"same\")\n",
    "        h.Scale(1./h.Integral())\n",
    "        hs[i].Add(h.GetPtr().Clone())\n",
    "#     hs[i].GetXaxis().SetRange(1, h.GetNbinsX() + 1)\n",
    "\n",
    "    hs[i].Draw(\"hist nostack\")\n",
    "    ROOT.gPad.Modified()\n",
    "    ROOT.gPad.Update()\n",
    "    hs[i].GetXaxis().SetTitle(xtitle[i])\n",
    "    hs[i].GetYaxis().SetTitle(\"Frequency\")    \n",
    "    \n",
    "    hs[i].GetXaxis().SetTickLength(ticklength)\n",
    "    hs[i].GetYaxis().SetTickLength(ticklength)\n",
    "    hs[i].GetXaxis().SetTitleSize(titlesize)\n",
    "    hs[i].GetYaxis().SetTitleSize(titlesize)\n",
    "    hs[i].GetXaxis().SetLabelSize(labelsize)\n",
    "    hs[i].GetYaxis().SetLabelSize(labelsize)\n",
    "    hs[i].GetXaxis().CenterTitle()\n",
    "    hs[i].GetYaxis().CenterTitle()\n",
    "    hs[i].GetXaxis().SetTitleOffset(xtitleoffset)\n",
    "    hs[i].GetYaxis().SetTitleOffset(ytitleoffset)\n",
    "    hs[i].GetXaxis().SetLabelOffset(labeloffset)\n",
    "    hs[i].GetYaxis().SetLabelOffset(labeloffset)\n",
    "    hs[i].SetMaximum(ymax[i])\n",
    "#     if i != 7:\n",
    "    hs[i].GetYaxis().SetNdivisions(505)\n",
    "    \n",
    "    if i == 0:\n",
    "        legend = ROOT.gPad.BuildLegend(0.7, 0.5, 0.98, 0.9, \"\", \"l\")\n",
    "        legend.SetBorderSize(0)\n",
    "        legend.SetTextSize(titlesize)\n",
    "    ROOT.gPad.Modified()\n",
    "    ROOT.gPad.Update()\n",
    "\n",
    "c1.Modified()\n",
    "c1.Update()\n",
    "c1.Print(\"discriminating_variables.png\")\n",
    "c1.Draw()"
   ]
  },
  {
   "cell_type": "code",
   "execution_count": null,
   "metadata": {},
   "outputs": [],
   "source": []
  }
 ],
 "metadata": {
  "kernelspec": {
   "display_name": "Python 3",
   "language": "python",
   "name": "python3"
  },
  "language_info": {
   "codemirror_mode": {
    "name": "ipython",
    "version": 3
   },
   "file_extension": ".py",
   "mimetype": "text/x-python",
   "name": "python",
   "nbconvert_exporter": "python",
   "pygments_lexer": "ipython3",
   "version": "3.6.5"
  }
 },
 "nbformat": 4,
 "nbformat_minor": 2
}
