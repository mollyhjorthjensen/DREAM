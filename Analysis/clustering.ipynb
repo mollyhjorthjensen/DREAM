{
 "cells": [
  {
   "cell_type": "markdown",
   "metadata": {},
   "source": [
    "# Clustering algorithm"
   ]
  },
  {
   "cell_type": "code",
   "execution_count": 7,
   "metadata": {},
   "outputs": [
    {
     "name": "stdout",
     "output_type": "stream",
     "text": [
      "The tensorboard extension is already loaded. To reload it, use:\n",
      "  %reload_ext tensorboard\n"
     ]
    }
   ],
   "source": [
    "import tensorflow as tf\n",
    "import tensorflow.keras.backend as K\n",
    "from tensorflow.python.ops import sparse_ops\n",
    "# import matplotlib.pyplot as plt\n",
    "import pandas as pd\n",
    "import os\n",
    "assert tf.__version__=='2.1.0'\n",
    "# assert tf.test.is_gpu_available()\n",
    "K.clear_session()\n",
    "%load_ext tensorboard"
   ]
  },
  {
   "cell_type": "code",
   "execution_count": 8,
   "metadata": {},
   "outputs": [],
   "source": [
    "DATA_DIR = ''\n",
    "BATCH_SIZE = 16\n",
    "BUFFER_SIZE = 10"
   ]
  },
  {
   "cell_type": "code",
   "execution_count": 9,
   "metadata": {},
   "outputs": [],
   "source": [
    "TSEED = tf.constant([0.01], tf.float32)  # tf.constant([300.], tf.float32)\n",
    "TNEIGHBOR = tf.constant([200.], tf.float32)\n",
    "TCELL = tf.constant([100.], tf.float32)"
   ]
  },
  {
   "cell_type": "markdown",
   "metadata": {},
   "source": [
    "## Parser"
   ]
  },
  {
   "cell_type": "code",
   "execution_count": 10,
   "metadata": {},
   "outputs": [],
   "source": [
    "feature_description = {\n",
    "    'eventId': tf.io.FixedLenFeature([1], tf.int64, default_value=0),\n",
    "#     'showerId': tf.io.FixedLenFeature([3], tf.string, default_value=[\"\",]*3),\n",
    "    'image': tf.io.FixedLenFeature([3], tf.string, default_value=[\"\",]*3)\n",
    "}"
   ]
  },
  {
   "cell_type": "code",
   "execution_count": 11,
   "metadata": {},
   "outputs": [],
   "source": [
    "feature_shape = {\n",
    "    'eventId': tf.TensorShape([1,]),\n",
    "#     'showerId': tf.TensorShape([568, 568, 1]),\n",
    "    'image': tf.TensorShape([568, 568, 2])\n",
    "}"
   ]
  },
  {
   "cell_type": "code",
   "execution_count": 12,
   "metadata": {},
   "outputs": [],
   "source": [
    "def parser_fn(proto):\n",
    "    serialized = tf.io.parse_single_example(proto, feature_description)\n",
    "    deserialized = {k: (tf.sparse.to_dense(sparse_ops.deserialize_sparse(v, K.floatx()))\n",
    "                        if k != 'eventId' else v) for k,v in serialized.items()}\n",
    "    [deserialized[k].set_shape(feature_shape[k]) for k in deserialized.keys()]\n",
    "    return deserialized"
   ]
  },
  {
   "cell_type": "markdown",
   "metadata": {},
   "source": [
    "## Run"
   ]
  },
  {
   "cell_type": "code",
   "execution_count": 14,
   "metadata": {},
   "outputs": [
    {
     "name": "stdout",
     "output_type": "stream",
     "text": [
      "<MapDataset shapes: {eventId: (1,), image: (568, 568, 2)}, types: {eventId: tf.int64, image: tf.float32}>\n"
     ]
    }
   ],
   "source": [
    "filename = [os.path.join(DATA_DIR, 'B4.tfrecord')]\n",
    "dataset = tf.data.TFRecordDataset(filename, compression_type='GZIP', buffer_size=BUFFER_SIZE)\n",
    "dataset = dataset.map(parser_fn) #.map(cluster_maker)\n",
    "print(dataset)"
   ]
  },
  {
   "cell_type": "code",
   "execution_count": 29,
   "metadata": {},
   "outputs": [
    {
     "name": "stdout",
     "output_type": "stream",
     "text": [
      "ciao\n"
     ]
    },
    {
     "data": {
      "image/png": "[encoded data removed]",
      "text/plain": [
       "<Figure size 432x288 with 1 Axes>"
      ]
     },
     "metadata": {
      "needs_background": "light"
     },
     "output_type": "display_data"
    }
   ],
   "source": [
    "import matplotlib.pyplot as plt\n",
    "for parsed_record in dataset.take(1):\n",
    "    plt.imshow(parsed_record['image'][:,:,0])\n",
    "    print('ciao')"
   ]
  },
  {
   "cell_type": "markdown",
   "metadata": {},
   "source": [
    "## Toy example"
   ]
  },
  {
   "cell_type": "code",
   "execution_count": 2,
   "metadata": {},
   "outputs": [],
   "source": [
    "HEIGHT = 20\n",
    "WIDTH = 20\n",
    "TENERGY = 10e3\n",
    "TLOCMAX = 100\n",
    "TNUMBER = 3\n",
    "# good values to test if recursive function works\n",
    "TSEED = tf.constant(1000, tf.float64)  # tf.constant([300.], tf.float32)\n",
    "TNEIGHBOR = tf.constant(100., tf.float64)\n",
    "TCELL = tf.constant(50., tf.float64)"
   ]
  },
  {
   "cell_type": "code",
   "execution_count": 3,
   "metadata": {},
   "outputs": [
    {
     "data": {
      "text/plain": [
       "(20, 20, 2)"
      ]
     },
     "execution_count": 3,
     "metadata": {},
     "output_type": "execute_result"
    }
   ],
   "source": [
    "import numpy as np\n",
    "import matplotlib.pyplot as plt \n",
    "X = np.vstack((np.random.multivariate_normal(mean=[2+2,3+2], cov=[[1,0],[0,1]], size=10000),\n",
    "               np.random.multivariate_normal(mean=[2+2,7+2], cov=[[0.7,0],[0,1]], size=10000),\n",
    "               np.random.multivariate_normal(mean=[8+2,4+2], cov=[[1,0],[0,1]], size=10000),\n",
    "               np.random.multivariate_normal(mean=[15,15], cov=[[1,0],[0,1]], size=15000)))\n",
    "A = plt.hist2d(X[:,0], X[:,1], bins=HEIGHT, range=[[0, HEIGHT], [0, WIDTH]])[0]\n",
    "# plt.imshow(A)\n",
    "# B = A[..., np.newaxis]\n",
    "A[:2,6] = 1.5*TNEIGHBOR\n",
    "A[0,7:9] = 1.5*TCELL\n",
    "A[1,5] = 0\n",
    "A[3,16] = 20*TSEED\n",
    "\n",
    "B = np.stack((A,0.5*A), axis=-1)\n",
    "np.shape(B)"
   ]
  },
  {
   "cell_type": "code",
   "execution_count": 4,
   "metadata": {},
   "outputs": [
    {
     "data": {
      "image/png": "[encoded data removed]",
      "text/plain": [
       "<Figure size 432x288 with 1 Axes>"
      ]
     },
     "metadata": {
      "needs_background": "light"
     },
     "output_type": "display_data"
    },
    {
     "data": {
      "image/png": "[encoded data removed]",
      "text/plain": [
       "<Figure size 432x288 with 1 Axes>"
      ]
     },
     "metadata": {
      "needs_background": "light"
     },
     "output_type": "display_data"
    },
    {
     "data": {
      "image/png": "[encoded data removed]",
      "text/plain": [
       "<Figure size 432x288 with 1 Axes>"
      ]
     },
     "metadata": {
      "needs_background": "light"
     },
     "output_type": "display_data"
    },
    {
     "data": {
      "image/png": "[encoded data removed]",
      "text/plain": [
       "<Figure size 432x288 with 1 Axes>"
      ]
     },
     "metadata": {
      "needs_background": "light"
     },
     "output_type": "display_data"
    }
   ],
   "source": [
    "plt.imshow(A > TSEED)\n",
    "plt.show()\n",
    "plt.imshow(A > TNEIGHBOR)\n",
    "plt.show()\n",
    "plt.imshow(A > TCELL)\n",
    "plt.show()\n",
    "plt.imshow((A > TCELL) & (A <= TNEIGHBOR))\n",
    "plt.show()"
   ]
  },
  {
   "cell_type": "markdown",
   "metadata": {},
   "source": [
    "# Topological Clustering"
   ]
  },
  {
   "cell_type": "markdown",
   "metadata": {},
   "source": [
    "Groups neighboring cells of significant energy into clusters with a variable number of cells (vs sliding-window algorithm). Cluster growth starts at seed cells, i.e. cells with significance above $t_\\text{seed}$ (high). Neighboring cells become new seeds if their significance are above $t_\\text{neighbor}$ (medium). If a neighboring cell has significance only above $t_\\text{cell}$ (low) it is simply added to the cluster without functioning as a seed. The low threshold means shower tails are not discarded, the other thresholds supress noise. This algorithm consists of two steps: the cluster maker and the cluster splitter."
   ]
  },
  {
   "cell_type": "markdown",
   "metadata": {},
   "source": [
    "## Cluster maker"
   ]
  },
  {
   "cell_type": "markdown",
   "metadata": {},
   "source": [
    "Forms topological clusters from cells and consists of the following steps:\n",
    "\n",
    "* **Finding seeds**: seed list consists of cells with significance above $t_\\text{seed}$. Neighboring seed cells form initial proto-clusters (vs paper where each seed cell forms a proto-cluster) - possibly look at later. NB missing noise!\n",
    "* **Finding neighbors**: current seed list ordered in descending order in significance. Consider neighboring cells of each seed cell in turn: a) if significance above $t_\\text{neighbor}$ it is added to the neighbor seed list and adjacent proto-cluster; if adjacent to multiple proto-clusters, these are merged. b) if significance only above $t_\\text{cell}$ cell included only in first adjacent proto-cluster (which has the more significant neighbor due to the sorting), not in the neighbor seed list (it is unclear from the paper if the latter is true). When all seed cells have been processed, the neighbor seed list becomes the new seed list. This procedure of neighbor finding is repeated until the seed list is empty.\n",
    "* **Finalize**: resulting proto-clusters are sorted in descending order in $E_T$ and filtered $E_T>t_\\text{energy}$ - does $E_T$ refer to transverse energy or total energy or total energy above threshold?  \n",
    "\n",
    "\"Neighboring\" is here defined as the eight surronding cells within the same channel and overlapping cells in adjacent channels. The scintillating and Cerenkov signals are treated as two different channels, consequently, each cell has nine neighbors. "
   ]
  },
  {
   "cell_type": "markdown",
   "metadata": {},
   "source": [
    "### Finding seeds"
   ]
  },
  {
   "cell_type": "code",
   "execution_count": 5,
   "metadata": {},
   "outputs": [],
   "source": [
    "from skimage.measure import label\n",
    "\n",
    "def finding_seeds(image):\n",
    "    \"\"\"Finding seeds and create seed list\"\"\"\n",
    "    seed_mask = tf.math.greater(image, TSEED)\n",
    "    labels = label(seed_mask, connectivity=2)\n",
    "    seed_idx = tf.where(tf.not_equal(labels,0))\n",
    "    seed_id = tf.expand_dims(tf.gather_nd(labels, seed_idx), axis=1)\n",
    "    seed_list = tf.concat([seed_id, seed_idx], axis=-1)\n",
    "    \n",
    "#     seed_idx = tf.where(seed_mask)\n",
    "#     seed_len = tf.gather(tf.shape(seed_idx, out_type=seed_idx.dtype), 0)\n",
    "#     seed_id = tf.reshape(tf.range(seed_len), [-1,1])\n",
    "#     seed_list = tf.concat([seed_id, seed_idx], axis=-1)\n",
    "\n",
    "    return seed_list"
   ]
  },
  {
   "cell_type": "markdown",
   "metadata": {},
   "source": [
    "### Finding neighbors"
   ]
  },
  {
   "cell_type": "code",
   "execution_count": 6,
   "metadata": {},
   "outputs": [],
   "source": [
    "def sorting_seedlist(seed_list, seed_len, image):\n",
    "    \"\"\"Sorts current seed list in descending order\"\"\"\n",
    "    seed_id, seed_idx = tf.split(seed_list, num_or_size_splits=[1,3], axis=1)\n",
    "    seeds = tf.gather_nd(image, seed_idx)\n",
    "    values, indices = tf.math.top_k(seeds, k=seed_len)\n",
    "    return tf.gather(seed_list, indices)"
   ]
  },
  {
   "cell_type": "code",
   "execution_count": 7,
   "metadata": {},
   "outputs": [],
   "source": [
    "# def neighbors(index, seed_list=tf.zeros([0, 3], tf.int64)):\n",
    "#     \"\"\"8-1 connectivity\"\"\"\n",
    "    \n",
    "#     # indices of 3x3x1 centred at (i,j,k)\n",
    "#     i, j, k = tf.unstack(index)\n",
    "#     ii, jj = tf.meshgrid(tf.range(i-1, i+2), tf.range(j-1, j+2), indexing='ij')\n",
    "#     ii = tf.reshape(ii, [-1, 1])\n",
    "#     jj = tf.reshape(jj, [-1, 1])\n",
    "#     kk = tf.repeat(tf.reshape(k, (1, 1)), repeats=[9], axis=0)\n",
    "#     a = tf.concat([ii, jj, kk], axis=-1)\n",
    "    \n",
    "#     # append index (i,j) in other k channel\n",
    "#     a = tf.concat([a, [[i, j, tf.math.abs(k-1)]]], axis=0)\n",
    "    \n",
    "#     # remove centre point (i,j,k)\n",
    "#     mask_centre = tf.reduce_any(tf.not_equal(a, index), axis=-1)\n",
    "    \n",
    "#     # remove points outside image\n",
    "#     b = tf.expand_dims(a, axis=-1)\n",
    "#     c = tf.transpose(tf.constant([[HEIGHT,-1, -1], [-1,WIDTH,-1]], dtype=b.dtype))\n",
    "#     mask_boundary = tf.reduce_all(tf.not_equal(b, c), axis=[-2,-1])\n",
    "#     mask = tf.logical_and(mask_centre, mask_boundary)\n",
    "#     a = tf.boolean_mask(a, mask)\n",
    "    \n",
    "#     # remove points already in seed list\n",
    "#     sp_a = tf.SparseTensor(a, tf.ones(len(a), dtype=tf.bool), dense_shape=[HEIGHT, WIDTH, 2])\n",
    "#     dense_a = tf.sparse.to_dense(tf.sparse.reorder(sp_a))\n",
    "#     sp_seedlist = tf.SparseTensor(seed_list, tf.ones(len(seed_list), dtype=tf.bool), dense_shape=[HEIGHT, WIDTH, 2])\n",
    "#     dense_seedlist = tf.sparse.to_dense(tf.sparse.reorder(sp_seedlist))\n",
    "#     mask_seedlist = tf.logical_and(dense_a, tf.math.logical_not(dense_seedlist))\n",
    "#     neighbors = tf.where(mask_seedlist)\n",
    "#     return neighbors"
   ]
  },
  {
   "cell_type": "code",
   "execution_count": 8,
   "metadata": {},
   "outputs": [],
   "source": [
    "def neighbors(index, excl=tf.zeros([0, 3], tf.int64), incl=tf.zeros([0, 3], tf.int64)):\n",
    "    \"\"\"8-1 connectivity\"\"\"\n",
    "    \n",
    "    # indices of 3x3x1 centred at (i,j,k)\n",
    "    i, j, k = tf.unstack(index)\n",
    "    ii, jj = tf.meshgrid(tf.range(i-1, i+2), tf.range(j-1, j+2), indexing='ij')\n",
    "    ii = tf.reshape(ii, [-1, 1])\n",
    "    jj = tf.reshape(jj, [-1, 1])\n",
    "    kk = tf.repeat(tf.reshape(k, (1, 1)), repeats=[9], axis=0)\n",
    "    a = tf.concat([ii, jj, kk], axis=-1)\n",
    "    \n",
    "    # append index (i,j) in other k channel\n",
    "    a = tf.concat([a, [[i, j, tf.math.abs(k-1)]]], axis=0)\n",
    "    \n",
    "    # remove centre point (i,j,k)\n",
    "    mask_centre = tf.reduce_any(tf.not_equal(a, index), axis=-1)\n",
    "    \n",
    "    # remove points outside image\n",
    "    b = tf.expand_dims(a, axis=-1)\n",
    "    c = tf.transpose(tf.constant([[HEIGHT,-1, -1], [-1,WIDTH,-1]], dtype=b.dtype))\n",
    "    mask_boundary = tf.reduce_all(tf.not_equal(b, c), axis=[-2,-1])\n",
    "    mask = tf.logical_and(mask_centre, mask_boundary)\n",
    "    a = tf.boolean_mask(a, mask)\n",
    "    \n",
    "    # remove points in excl and only consider points in incl\n",
    "    a_sp = tf.SparseTensor(a, tf.ones(len(a), dtype=tf.bool), dense_shape=[HEIGHT, WIDTH, 2])\n",
    "    a_d = tf.sparse.to_dense(tf.sparse.reorder(a_sp))\n",
    "    excl_sp = tf.SparseTensor(excl, tf.ones(excl.get_shape()[0], dtype=tf.bool), dense_shape=[HEIGHT, WIDTH, 2])\n",
    "    excl_d = tf.sparse.to_dense(tf.sparse.reorder(excl_sp))\n",
    "    incl_sp = tf.SparseTensor(incl, tf.ones(incl.get_shape()[0], dtype=tf.bool), dense_shape=[HEIGHT, WIDTH, 2])\n",
    "    incl_d = tf.sparse.to_dense(tf.sparse.reorder(incl_sp))\n",
    "    mask_final = tf.logical_and(a_d, tf.logical_not(excl_d))\n",
    "    \n",
    "    true_fn = lambda: tf.logical_and(mask_final, incl_d)\n",
    "    mask_final = tf.cond(tf.greater(incl.get_shape()[0], 0), true_fn, lambda: mask_final)\n",
    "    \n",
    "    neighbors = tf.where(mask_final)\n",
    "    return neighbors"
   ]
  },
  {
   "cell_type": "code",
   "execution_count": 9,
   "metadata": {},
   "outputs": [],
   "source": [
    "def merge_adjacent_proto(nj, siid, m, p, s, l):\n",
    "    \"\"\"Merge adjacent proto-clusters\"\"\"\n",
    "    sid, sidx = tf.split(s, num_or_size_splits=[1,3], axis=1)\n",
    "    lid, lidx = tf.split(l, num_or_size_splits=[1,3], axis=1)\n",
    "    proto_id, proto_idx = tf.split(p, num_or_size_splits=[1,3], axis=1)\n",
    "    nnj = neighbors(nj, excl=sidx)\n",
    "    nnj_sp = tf.SparseTensor(nnj, tf.ones(nnj.get_shape()[0], tf.bool), dense_shape=[HEIGHT, WIDTH, 2])\n",
    "    nnj_d = tf.sparse.to_dense(tf.sparse.reorder(nnj_sp))\n",
    "    proto_sp = tf.SparseTensor(proto_idx, tf.reshape(proto_id, [-1,]), dense_shape=[HEIGHT, WIDTH, 2])\n",
    "    proto_d = tf.sparse.to_dense(tf.sparse.reorder(proto_sp))\n",
    "    indices = tf.where(tf.logical_and(tf.logical_and(nnj_d, tf.not_equal(proto_d, 0)), tf.greater(m, TNEIGHBOR)))\n",
    "#     indices = tf.where(tf.logical_and(nnj_d, tf.not_equal(proto_d, 0)))\n",
    "    values = tf.gather_nd(proto_d, indices)\n",
    "    values = tf.boolean_mask(values, tf.not_equal(values, siid))\n",
    "\n",
    "    # loop over values\n",
    "    k0 = tf.constant(0)\n",
    "    ck = lambda k, p, s, l: tf.less(k, values.get_shape()[0])\n",
    "    def bk(k, p, s, l):\n",
    "        neigh_id = tf.gather(values, k)\n",
    "        pnew = tf.where(tf.equal(proto_d, neigh_id), tf.reshape(siid, [-1,])*tf.ones_like(p), p)\n",
    "        snew = tf.where(tf.equal(sid, neigh_id), tf.reshape(siid, [-1,])*tf.ones_like(s), s)\n",
    "        lnew = tf.where(tf.equal(lid, neigh_id), tf.reshape(siid, [-1,])*tf.ones_like(l), l)\n",
    "        return [tf.add(k, 1), pnew, snew, lnew]\n",
    "    k, p, sid, lid = tf.while_loop(ck, bk, loop_vars=[k0, proto_d, sid, lid],\n",
    "                                   shape_invariants=[k0.get_shape(), proto_d.get_shape(),\n",
    "                                                     sid.get_shape(), lid.get_shape()])                \n",
    "    indices = tf.where(tf.not_equal(p, 0))\n",
    "    values = tf.expand_dims(tf.gather_nd(p, indices), axis=1)\n",
    "    pnew = tf.concat([values, indices], axis=1)\n",
    "    snew = tf.concat([sid, sidx], axis=1)\n",
    "    lnew = tf.concat([lid, lidx], axis=1)\n",
    "    return [pnew, snew, lnew]\n",
    "\n",
    "\n",
    "def bj_maker(j, m, p, s, l, n, siid):\n",
    "    \"\"\"Body of while loop over neighbors\"\"\"\n",
    "    nj = tf.gather(n, j)\n",
    "    nval = tf.gather_nd(m, nj)\n",
    "    nnew = tf.expand_dims(tf.concat([siid, nj], axis=0), axis=0)\n",
    "\n",
    "    def tneighbor(siid=siid):\n",
    "        \"\"\"Append cells to both proto-clusters and neighbor seed list if value above TNEIGHBOR\"\"\"\n",
    "        [pnew, snew, lnew] = merge_adjacent_proto(nj, siid, m, p, s, l)\n",
    "        pnew = tf.concat([pnew, nnew], axis=0)\n",
    "        lnew = tf.concat([lnew, nnew], axis=0)\n",
    "        return [pnew, snew, lnew]\n",
    "\n",
    "    def tcell():\n",
    "        \"\"\"Append cells to proto-clusters if value above TCELL\"\"\"\n",
    "        def true_fn():\n",
    "            return tf.concat([p, nnew], axis=0)\n",
    "        def false_fn(): return p\n",
    "        pnew = tf.cond(tf.greater(nval, TCELL), true_fn, false_fn)\n",
    "        return [pnew, s, l]\n",
    "    \n",
    "    [pnew, snew, lnew] = tf.cond(tf.greater(nval, TNEIGHBOR), true_fn=tneighbor, false_fn=tcell)\n",
    "    \n",
    "    return [tf.add(j, 1), m, pnew, snew, lnew, n, siid]\n",
    "    \n",
    "\n",
    "def bi_maker(i, m, p, s, l):\n",
    "    \"\"\"Body of while loop over current seed list\"\"\"\n",
    "    si = tf.gather(s, i)\n",
    "    \n",
    "    # find neighbours not in protolist\n",
    "    siid, siidx = tf.split(si, num_or_size_splits=[1,3], axis=0)\n",
    "    _, pidx = tf.split(p, num_or_size_splits=[1,3], axis=1)\n",
    "    n = neighbors(siidx, excl=pidx)\n",
    "    \n",
    "    # loop over neighbors\n",
    "    j0 = tf.constant(0)\n",
    "    cj = lambda j, m, p, s, l, n, siid: tf.less(j, n.get_shape()[0])\n",
    "    _, m, p, s, l, _, _ = tf.while_loop(\n",
    "        cj, bj_maker, loop_vars=[j0, m, p, s, l, n, siid],\n",
    "        shape_invariants=[j0.get_shape(), m.get_shape(), tf.TensorShape([None, 4]),\n",
    "                          s.get_shape(), tf.TensorShape([None, 4]),\n",
    "                          n.get_shape(), siid.get_shape()])\n",
    "    \n",
    "    return [tf.add(i, 1), m, p, s, l]\n",
    "    \n",
    "def finding_neighbors_maker(m, p, s):\n",
    "    \"\"\"Finding neighbors recursively until current seed list is empty.\n",
    "    m: image, p: protolist, s: seedlist, l: neighlist, n: neighbor\"\"\"\n",
    "    slen = s.get_shape()[0]\n",
    "    \n",
    "    # sort current seed list in descending order\n",
    "    s = sorting_seedlist(s, slen, m)\n",
    "    \n",
    "    # loop over current seed list\n",
    "    i0, l0 = tf.constant(0), tf.zeros([0,4], tf.int64)\n",
    "    ci = lambda i, m, p, s, l: tf.less(i, slen)\n",
    "    _, m, pnew, s, lnew = tf.while_loop(\n",
    "        ci, bi_maker, loop_vars=[i0, m, p, s, l0],\n",
    "        shape_invariants=[i0.get_shape(), m.get_shape(), tf.TensorShape([None, 4]),\n",
    "                          s.get_shape(), tf.TensorShape([None, 4])])\n",
    "    # neighbor seed list becomes the new seed list\n",
    "    snew = lnew\n",
    "    \n",
    "    # repeated until current seed list is empty\n",
    "    def true_fn(): return finding_neighbors_maker(m, pnew, snew)\n",
    "    def false_fn(): return pnew\n",
    "    slen = snew.get_shape()[0]\n",
    "    print(slen)\n",
    "    pnew = tf.cond(tf.greater(slen, 0), true_fn, false_fn)\n",
    "    return pnew"
   ]
  },
  {
   "cell_type": "markdown",
   "metadata": {},
   "source": [
    "### Finalize cluster maker"
   ]
  },
  {
   "cell_type": "code",
   "execution_count": 10,
   "metadata": {},
   "outputs": [],
   "source": [
    "def renumber_proto(s):\n",
    "    sid, sidx = tf.split(s, num_or_size_splits=[1,3], axis=1)\n",
    "    u, uid = tf.unique(tf.reshape(sid, [-1]), out_idx=sid.dtype)\n",
    "    ulen = u.get_shape()[0]\n",
    "    uid = tf.reshape(tf.add(uid, 1), [-1,1])\n",
    "    s = tf.concat([uid, sidx], axis=1)\n",
    "    return s"
   ]
  },
  {
   "cell_type": "code",
   "execution_count": 11,
   "metadata": {},
   "outputs": [],
   "source": [
    "def finalize_maker(m, s):\n",
    "    \"\"\"Finalize cluster maker by removing clusters with energy \n",
    "    less than TENERGY and sort in descending order in energy\"\"\"\n",
    "    \n",
    "    # compute total cluster energy\n",
    "    sid, sidx = tf.split(s, num_or_size_splits=[1,3], axis=1)\n",
    "    u, uid = tf.unique(tf.reshape(sid, [-1]), out_idx=sid.dtype)\n",
    "    ulen = u.get_shape()[0]\n",
    "    uid = tf.reshape(tf.add(uid, 1), [-1,1])\n",
    "    s = tf.concat([uid, sidx], axis=1)\n",
    "    \n",
    "    s_sp = tf.SparseTensor(sidx, tf.reshape(uid, [-1,]), dense_shape=[HEIGHT, WIDTH, 2])\n",
    "    s_dense = tf.sparse.to_dense(tf.sparse.reorder(s_sp))\n",
    "    i0 = tf.constant(1, s_dense.dtype)\n",
    "    E0 = tf.constant([], m.dtype)\n",
    "    c = lambda i, E: tf.less(i, ulen+1)\n",
    "    def b(i, E):\n",
    "        indices = tf.where(tf.equal(s_dense, i))\n",
    "        values = tf.gather_nd(m, indices)\n",
    "        Ei = tf.expand_dims(tf.reduce_sum(values), axis=0)\n",
    "        return [tf.add(i, 1), tf.concat([E, Ei], axis=0)]\n",
    "    _, E = tf.while_loop(c, b, loop_vars=[i0, E0], shape_invariants=[i0.get_shape(), tf.TensorShape([None, 1])])\n",
    "    print(E)\n",
    "    \n",
    "    # sort in descending order in energy and remove clusters with energy less than TENERGY\n",
    "    values, indices = tf.math.top_k(E, k=ulen)\n",
    "    indices = tf.cast(tf.add(indices, 1), s_dense.dtype)\n",
    "    indices = tf.boolean_mask(indices, tf.greater(values, TENERGY))\n",
    "    i0 = tf.constant(0)\n",
    "    p0 = tf.zeros_like(s_dense)\n",
    "    c = lambda i, p: tf.less(i, indices.get_shape()[0])\n",
    "    def b(i, p):\n",
    "        ii = tf.gather(indices, i)\n",
    "        pnew = tf.add(p, tf.where(tf.equal(s_dense, ii), s_dense, tf.zeros_like(s_dense)))\n",
    "        return [tf.add(i, 1), pnew]\n",
    "    _, p = tf.while_loop(c, b, loop_vars=[i0, p0], shape_invariants=[i0.get_shape(), p0.get_shape()])\n",
    "    sidx = tf.where(tf.not_equal(p, 0))\n",
    "    sid = tf.expand_dims(tf.gather_nd(p, sidx), axis=1)\n",
    "    s = tf.concat([sid, sidx], axis=1)\n",
    "    \n",
    "    s = renumber_proto(s)\n",
    "    \n",
    "    return s"
   ]
  },
  {
   "cell_type": "markdown",
   "metadata": {},
   "source": [
    "### Cluster maker"
   ]
  },
  {
   "cell_type": "code",
   "execution_count": 12,
   "metadata": {},
   "outputs": [],
   "source": [
    "def cluster_maker(parsed):    \n",
    "    image = parsed['image']\n",
    "    image = tf.constant(image)\n",
    "    \n",
    "    seedlist = finding_seeds(image)\n",
    "    seedlist = finding_neighbors_maker(image, seedlist, seedlist)\n",
    "    seedlist = finalize_maker(image, seedlist)\n",
    "    \n",
    "    parsed['proto'] = seedlist \n",
    "    return parsed"
   ]
  },
  {
   "cell_type": "code",
   "execution_count": null,
   "metadata": {
    "scrolled": false
   },
   "outputs": [],
   "source": []
  },
  {
   "cell_type": "code",
   "execution_count": null,
   "metadata": {},
   "outputs": [],
   "source": []
  },
  {
   "cell_type": "code",
   "execution_count": 13,
   "metadata": {},
   "outputs": [
    {
     "name": "stdout",
     "output_type": "stream",
     "text": [
      "[[[0. 1.]\n",
      "  [0. 0.]\n",
      "  [0. 0.]]\n",
      "\n",
      " [[0. 0.]\n",
      "  [1. 0.]\n",
      "  [0. 0.]]\n",
      "\n",
      " [[0. 0.]\n",
      "  [0. 0.]\n",
      "  [1. 2.]]]\n",
      "(array([[[0, 1],\n",
      "        [0, 0],\n",
      "        [0, 0]],\n",
      "\n",
      "       [[0, 0],\n",
      "        [2, 0],\n",
      "        [0, 0]],\n",
      "\n",
      "       [[0, 0],\n",
      "        [0, 0],\n",
      "        [2, 3]]]), 3)\n"
     ]
    }
   ],
   "source": [
    "# test skimage.measure.label\n",
    "seed_mask = np.zeros([3,3,2])\n",
    "seed_mask[1,1,0] = 1\n",
    "seed_mask[2,2,0] = 1\n",
    "seed_mask[2,2,1] = 2\n",
    "seed_mask[0,0,1] = 1\n",
    "print(seed_mask)\n",
    "print(label(seed_mask, return_num=True, connectivity=2))"
   ]
  },
  {
   "cell_type": "markdown",
   "metadata": {},
   "source": [
    "## Cluster splitter"
   ]
  },
  {
   "cell_type": "markdown",
   "metadata": {},
   "source": [
    "The cluster maker is sufficient for isolated signals, but not for overlapping showers. If individual particles form local maxima they may still be separable. Acting on the clusters resulting from the cluster maker, this is what the cluster splitter does in the followning steps:\n",
    "\n",
    "* **Finding local maxima**: a local maxima is defined as a cell with: a) $E>t_\\text{locmax}$, b) energy greater than that of any neighboring cell, and c) number of neighboring cells withing the parent cluster $N>t_\\text{number}$ (default is $\\geq4$). Each local maximum forms a cluster and parent clusters without any local maximum cell will not be split.\n",
    "* **Finding neighbors**: the local maxima now becomes the initial seed list much like in cluster maker, except that only cells originally clustered are used, without thresholding and merging. Instead of merging, shared cells are added to a shared cell list to be handled separately.\n",
    "* **Shared cells**: the shared cell list is expanded iteratively adding neighbors from the originally clustered cells not yet assigned to any proto-cluster. Each of these are then added to the two adjoining proto-clusters with the weights $w_1=\\frac{E_{1}}{E_{1}+rE_{2}}, w_{2}=1-w_{1}, r=\\exp(d_{1}-d_{2})$, where $E_{1,2}$ are the energies of the two proto-clusters and $d_{1,2}$ are the distances of the shared cell to the proto-cluster centroids in units of a typical em shower scale.\n",
    "* **Finalize**:"
   ]
  },
  {
   "cell_type": "markdown",
   "metadata": {},
   "source": [
    "### Finding local maxima"
   ]
  },
  {
   "cell_type": "code",
   "execution_count": 14,
   "metadata": {},
   "outputs": [],
   "source": [
    "def finding_local_maxima(m, p):\n",
    "    \"\"\"Find local maxima cells by looping over protolist.\n",
    "    m: filtered image, x: local maxima\"\"\"\n",
    "    \n",
    "    # loop over protolist\n",
    "    i0 = tf.constant(0)\n",
    "    x = tf.zeros([0, 4], p.dtype)\n",
    "    c = lambda i, p, x: tf.less(i, p.get_shape()[0])\n",
    "    def b(i, p, x):\n",
    "        pi = tf.gather(p, i)\n",
    "        piid, piidx = tf.split(pi, num_or_size_splits=[1,3], axis=0)\n",
    "        pval = tf.gather_nd(m, piidx)\n",
    "        midx = tf.where(tf.greater(m, 0))\n",
    "        nidx = neighbors(piidx, incl=midx)\n",
    "        m_val = tf.gather_nd(m, nidx)\n",
    "#         m_val = tf.boolean_mask(m_val, tf.greater(m_val, 0))\n",
    "\n",
    "        pred = tf.logical_and(tf.logical_and(tf.greater(pval, TLOCMAX), \n",
    "                                      tf.greater(pval, tf.math.reduce_max(m_val))),\n",
    "                                      tf.greater(m_val.get_shape()[0], TNUMBER))\n",
    "        r = tf.cond(pred, lambda: tf.expand_dims(pi, axis=0), lambda: tf.zeros([0, 4], pi.dtype))\n",
    "        \n",
    "        return [tf.add(i, 1), p, tf.concat([x, r], axis=0)]\n",
    "    \n",
    "    _, p, x = tf.while_loop(\n",
    "        c, b, loop_vars=[i0, p, x], \n",
    "        shape_invariants=[i0.get_shape(), p.get_shape(), tf.TensorShape([None, 4])])\n",
    "    \n",
    "    return x"
   ]
  },
  {
   "cell_type": "markdown",
   "metadata": {},
   "source": [
    "### Finding neighbors"
   ]
  },
  {
   "cell_type": "code",
   "execution_count": 15,
   "metadata": {},
   "outputs": [],
   "source": [
    "def is_shared(nj, p, siid):\n",
    "    nnj = neighbors(nj)\n",
    "    proto_id, proto_idx = tf.split(p, num_or_size_splits=[1,3], axis=1)\n",
    "    nnj_sp = tf.SparseTensor(nnj, tf.ones(nnj.get_shape()[0], tf.bool), dense_shape=[HEIGHT, WIDTH, 2])\n",
    "    nnj_d = tf.sparse.to_dense(tf.sparse.reorder(nnj_sp))\n",
    "    proto_sp = tf.SparseTensor(proto_idx, tf.reshape(proto_id, [-1,]), dense_shape=[HEIGHT, WIDTH, 2])\n",
    "    proto_d = tf.sparse.to_dense(tf.sparse.reorder(proto_sp))\n",
    "    indices = tf.where(tf.logical_and(nnj_d, tf.not_equal(proto_d, 0)))\n",
    "    values = tf.gather_nd(proto_d, indices)\n",
    "    y, idx = tf.unique(values)\n",
    "    return [y, tf.equal(y.get_shape()[0], 2)]\n",
    "\n",
    "def bj_splitter(j, m, p, s, l, o, n, siid):\n",
    "    \"\"\"Body of while loop over neighbors\"\"\"\n",
    "    nj = tf.gather(n, j)\n",
    "    \n",
    "    ids, pred = is_shared(nj, p, siid)\n",
    "    \n",
    "    def true_fn():\n",
    "        nnew = tf.expand_dims(tf.concat([ids, nj], axis=0), axis=0)\n",
    "        onew = tf.concat([o, nnew], axis=0)\n",
    "        return [p, s, l, onew]\n",
    "    def false_fn():\n",
    "        nnew = tf.expand_dims(tf.concat([siid, nj], axis=0), axis=0)\n",
    "        pnew = tf.concat([p, nnew], axis=0)\n",
    "        lnew = tf.concat([l, nnew], axis=0)\n",
    "        return [pnew, s, lnew, o]\n",
    "\n",
    "    [pnew, snew, lnew, onew] = tf.cond(pred, true_fn, false_fn)\n",
    "        \n",
    "    return [tf.add(j, 1), m, pnew, snew, lnew, onew, n, siid]\n",
    "\n",
    "def bi_splitter(i, m, p, s, l, o):\n",
    "    \"\"\"Body of while loop over current seed list\"\"\"\n",
    "    si = tf.gather(s, i)\n",
    "    \n",
    "    # find neighbours not in protolist and only include cells originally clustered\n",
    "    siid, siidx = tf.split(si, num_or_size_splits=[1,3], axis=0)\n",
    "    _, pidx = tf.split(p, num_or_size_splits=[1,3], axis=1)\n",
    "    _, oidx = tf.split(o, num_or_size_splits=[2,3], axis=1)\n",
    "    midx = tf.where(tf.greater(m, 0))\n",
    "    \n",
    "    n = neighbors(siidx, excl=tf.concat([pidx, oidx], axis=0), incl=midx)\n",
    "    \n",
    "    # loop over neighbors\n",
    "    j0 = tf.constant(0)\n",
    "    cj = lambda j, m, p, s, l, o, n, siid: tf.less(j, n.get_shape()[0])\n",
    "    _, m, p, s, l, o, _, _ = tf.while_loop(\n",
    "        cj, bj_splitter, loop_vars=[j0, m, p, s, l, o, n, siid],\n",
    "        shape_invariants=[j0.get_shape(), m.get_shape(), tf.TensorShape([None, 4]),\n",
    "                          s.get_shape(), tf.TensorShape([None, 5]), tf.TensorShape([None, 4]),\n",
    "                          n.get_shape(), siid.get_shape()])\n",
    "    \n",
    "    return [tf.add(i, 1), m, p, s, l, o]\n",
    "\n",
    "def finding_neighbors_splitter(m, p, s, o):\n",
    "    \"\"\"Finding neighbors recursively until current seed list is empty.\n",
    "    m: image, p: protolist, s: seedlist, l: neighlist, n: neighbor, o: sharedlist\"\"\"\n",
    "    slen = s.get_shape()[0]\n",
    "    \n",
    "    # sort current seed list in descending order\n",
    "    s = sorting_seedlist(s, slen, m)\n",
    "    \n",
    "    # loop over current seed list\n",
    "    i0, l0 = tf.constant(0), tf.zeros([0,4], tf.int64)\n",
    "    ci = lambda i, m, p, s, l, o: tf.less(i, slen)\n",
    "    _, m, pnew, s, lnew, onew = tf.while_loop(\n",
    "        ci, bi_splitter, loop_vars=[i0, m, p, s, l0, o],\n",
    "        shape_invariants=[i0.get_shape(), m.get_shape(), \n",
    "                          tf.TensorShape([None, 4]), s.get_shape(),\n",
    "                          tf.TensorShape([None, 4]), tf.TensorShape([None, 5])])\n",
    "    \n",
    "    # neighbor seed list becomes the new seed list\n",
    "    snew = lnew\n",
    "    \n",
    "    # repeated until current seed list is empty\n",
    "    def true_fn(): return finding_neighbors_splitter(m, pnew, snew, onew)\n",
    "    def false_fn(): return [pnew, onew]\n",
    "    slen = snew.get_shape()[0]\n",
    "    print(slen)\n",
    "    [pnew, onew] = tf.cond(tf.greater(slen, 0), true_fn, false_fn)\n",
    "    return [pnew, onew]"
   ]
  },
  {
   "cell_type": "markdown",
   "metadata": {},
   "source": [
    "### Shared cells"
   ]
  },
  {
   "cell_type": "code",
   "execution_count": 89,
   "metadata": {},
   "outputs": [],
   "source": [
    "def bj_shared(j, p, l, n, siid):\n",
    "    \"\"\"Body of while loop over neighbors\"\"\"\n",
    "    nj = tf.gather(n, j)\n",
    "    nnew = tf.expand_dims(tf.concat([siid, nj], axis=0), axis=0)\n",
    "    pnew = tf.concat([p, nnew], axis=0)\n",
    "    lnew = tf.concat([l, nnew], axis=0)\n",
    "    return [tf.add(j, 1), pnew, lnew, n, siid]\n",
    "\n",
    "def bi_shared(i, m, p, s, l):\n",
    "    \"\"\"Body of while loop over current seed list\"\"\"\n",
    "    si = tf.gather(s, i)\n",
    "    \n",
    "    # find neighbours not in protolist and only include cells originally clustered\n",
    "    siid, siidx = tf.split(si, num_or_size_splits=[2,3], axis=0)\n",
    "    _, pidx = tf.split(p, num_or_size_splits=[2,3], axis=1)\n",
    "    midx = tf.where(m)\n",
    "    \n",
    "    n = neighbors(siidx, excl=pidx, incl=midx)\n",
    "    \n",
    "    # loop over neighbors\n",
    "    j0 = tf.constant(0)\n",
    "    cj = lambda j, p, l, n, siid: tf.less(j, n.get_shape()[0])\n",
    "    _, p, l, _, _ = tf.while_loop(\n",
    "        cj, bj_shared, loop_vars=[j0, p, l, n, siid],\n",
    "        shape_invariants=[j0.get_shape(), tf.TensorShape([None, 5]), tf.TensorShape([None, 5]),\n",
    "                          n.get_shape(), siid.get_shape()])\n",
    "    \n",
    "    return [tf.add(i, 1), m, p, s, l]\n",
    "\n",
    "def expand_sharedlist(m, p, s):\n",
    "    # loop over current seed list\n",
    "    i0, l0 = tf.constant(0), tf.zeros([0,5], s.dtype)\n",
    "    ci = lambda i, m, p, s, l: tf.less(i, s.get_shape()[0])\n",
    "    _, _, pnew, s, lnew = tf.while_loop(\n",
    "        ci, bi_shared, loop_vars=[i0, m, p, s, l0],\n",
    "        shape_invariants=[i0.get_shape(), m.get_shape(), tf.TensorShape([None, 5]), \n",
    "                          s.get_shape(), tf.TensorShape([None, 5])])\n",
    "    \n",
    "    # neighbor seed list becomes the new seed list\n",
    "    snew = lnew\n",
    "    \n",
    "    # repeated until current seed list is empty\n",
    "    def true_fn(): return expand_sharedlist(m, pnew, snew)\n",
    "    def false_fn(): return pnew\n",
    "    slen = snew.get_shape()[0]\n",
    "    pnew = tf.cond(tf.greater(slen, 0), true_fn, false_fn)\n",
    "    return pnew"
   ]
  },
  {
   "cell_type": "markdown",
   "metadata": {},
   "source": [
    "### Finalize cluster splitter"
   ]
  },
  {
   "cell_type": "code",
   "execution_count": 342,
   "metadata": {},
   "outputs": [],
   "source": [
    "def finalize_splitter(m, p, o):\n",
    "    pid, pidx = tf.split(p, num_or_size_splits=[1,3], axis=1)\n",
    "    pval = tf.gather_nd(m, pidx)\n",
    "    psp = tf.SparseTensor(pidx, tf.reshape(pid, [-1,]), dense_shape=[HEIGHT, WIDTH, 2])\n",
    "    pd = tf.sparse.to_dense(tf.sparse.reorder(psp))\n",
    "    pnew = tf.concat([tf.cast(pid, pval.dtype), tf.cast(pidx, pval.dtype), tf.expand_dims(pval, axis=1)], axis=1)\n",
    "    \n",
    "    y = tf.unique(tf.reshape(pid, [-1,]))[0]\n",
    "    print(y)\n",
    "    \n",
    "    i0, com0, E0 = tf.constant(0), tf.zeros([0, 3], m.dtype), tf.zeros([0, 1], m.dtype)\n",
    "    ci = lambda i, com, E: tf.less(i, y.get_shape()[0])\n",
    "    def bi(i, com, E):\n",
    "        yi = tf.gather(y, i)\n",
    "        indices = tf.where(tf.equal(pd, yi))\n",
    "        values = tf.expand_dims(tf.gather_nd(m, indices), axis=1)\n",
    "        indices = tf.cast(indices, values.dtype)\n",
    "        comi = tf.reduce_sum(tf.multiply(indices, values), axis=0)\n",
    "        Ei = tf.reduce_sum(values)\n",
    "        comi = tf.divide(comi, Ei)\n",
    "        comi = tf.expand_dims(comi, axis=0)\n",
    "        Ei = tf.reshape(Ei, [-1,1])\n",
    "        return [tf.add(i, 1), tf.concat([com, comi], axis=0), tf.concat([E, Ei], axis=0)]\n",
    "    _, com, E = tf.while_loop(\n",
    "        ci, bi, loop_vars=[i0, com0, E0],\n",
    "        shape_invariants=[i0.get_shape(), tf.TensorShape([None, 3]), tf.TensorShape([None, 1])])\n",
    "    print(com, E)\n",
    "    \n",
    "    j0, l0 = tf.constant(0), tf.zeros([0, 5], m.dtype)\n",
    "    cj = lambda j, l: tf.less(j, o.get_shape()[0])\n",
    "    def bj(j, l):\n",
    "        oj = tf.gather(o, j)\n",
    "        a, b, ojidx = tf.split(oj, num_or_size_splits=[1,1,3], axis=0)\n",
    "        oval = tf.expand_dims(tf.gather_nd(m, ojidx), axis=0)\n",
    "        ojidx = tf.cast(ojidx, com.dtype)\n",
    "        amask = tf.equal(y, a)\n",
    "        bmask = tf.equal(y, b)\n",
    "        acom = tf.reshape(tf.boolean_mask(com, amask), [-1,])\n",
    "        bcom = tf.reshape(tf.boolean_mask(com, bmask), [-1,])\n",
    "        d1 = tf.sqrt(tf.reduce_sum(tf.math.squared_difference(ojidx, acom)))\n",
    "        d2 = tf.sqrt(tf.reduce_sum(tf.math.squared_difference(ojidx, bcom)))\n",
    "        r = tf.exp(tf.subtract(d1, d2))\n",
    "        E1 = tf.boolean_mask(E, amask)\n",
    "        E2 = tf.boolean_mask(E, bmask)\n",
    "        w1 = tf.reshape(tf.divide(E1, tf.add(E1, tf.multiply(r, E2))), [-1,])\n",
    "        w2 = tf.subtract(1, w1)\n",
    "        la = tf.expand_dims(tf.concat([tf.cast(a, com.dtype), ojidx, tf.multiply(w1, oval)], axis=0), axis=0)\n",
    "        lb = tf.expand_dims(tf.concat([tf.cast(b, com.dtype), ojidx, tf.multiply(w2, oval)], axis=0), axis=0)\n",
    "        return [tf.add(j, 1), tf.concat([l, la, lb], axis=0)]\n",
    "    _, lnew = tf.while_loop(\n",
    "        cj, bj, loop_vars=[j0, l0],\n",
    "        shape_invariants=[j0.get_shape(), tf.TensorShape([None, 5])])\n",
    "\n",
    "    pnew = tf.concat([pnew, lnew], axis=0)\n",
    "\n",
    "    # sort in descending order in energy \n",
    "    indices = tf.reshape(tf.cast(tf.math.top_k(tf.reshape(E, [1, -1]), k=E.get_shape()[0])[1], o.dtype), [-1,])\n",
    "    print(y, indices)\n",
    "    \n",
    "    k0, p0 = tf.constant(0), tf.zeros([0, 5], pnew.dtype)\n",
    "    ck = lambda k, p: tf.less(k, pnew.get_shape()[0])\n",
    "    def bk(k, p):\n",
    "        pk = tf.gather(pnew, k)\n",
    "        pkid, pkidx = tf.split(pk, num_or_size_splits=[1,4], axis=0)\n",
    "        yidx = tf.reshape(tf.where(tf.equal(y, tf.cast(pkid, y.dtype))), [-1,])\n",
    "        pkid = tf.cast(tf.add(tf.where(tf.equal(indices, yidx)), 1), pkidx.dtype)\n",
    "        pknew = tf.concat([pkid, tf.expand_dims(pkidx, axis=0)], axis=1)\n",
    "        return [tf.add(k, 1), tf.concat([p, pknew], axis=0)]\n",
    "    pnew = tf.while_loop(ck, bk, [k0, p0])[1]\n",
    "    \n",
    "    return pnew"
   ]
  },
  {
   "cell_type": "markdown",
   "metadata": {},
   "source": [
    "### Cluster splitter"
   ]
  },
  {
   "cell_type": "code",
   "execution_count": 343,
   "metadata": {},
   "outputs": [],
   "source": [
    "def cluster_splitter(parsed):    \n",
    "    proto = parsed['proto']\n",
    "    image = parsed['image']\n",
    "    image = tf.constant(image)\n",
    "    \n",
    "    # filter image with protolist\n",
    "    proto_id, proto_idx = tf.split(proto, num_or_size_splits=[1,3], axis=1)\n",
    "    proto_val = tf.gather_nd(image, proto_idx)\n",
    "    image_sp = tf.SparseTensor(proto_idx, proto_val, dense_shape=[HEIGHT, WIDTH, 2])\n",
    "    image_d = tf.sparse.to_dense(tf.sparse.reorder(image_sp))\n",
    "    \n",
    "    locmax = finding_local_maxima(image_d, proto)\n",
    "    \n",
    "    # create seed list from local maxima\n",
    "    _, locmax_idx = tf.split(locmax, num_or_size_splits=[1,3], axis=1)\n",
    "    proto_sp = tf.SparseTensor(proto_idx, tf.reshape(proto_id, [-1,]), dense_shape=[HEIGHT, WIDTH, 2])\n",
    "    proto_d = tf.sparse.to_dense(tf.sparse.reorder(proto_sp))\n",
    "    start = tf.add(tf.reduce_max(proto_id), 1)\n",
    "    limit = start + locmax.get_shape()[0]\n",
    "    locmax_id = tf.expand_dims(tf.range(start, limit, dtype=locmax.dtype), axis=1)\n",
    "    seedlist = tf.concat([locmax_id, locmax_idx], axis=1)\n",
    "    sharedlist = tf.zeros([0,5], tf.int64)\n",
    "    \n",
    "    [protolist, sharedlist] = finding_neighbors_splitter(image_d, seedlist, seedlist, sharedlist)\n",
    "    \n",
    "    # originally clustered cells not in protolist\n",
    "    protolist_id, protolist_idx = tf.split(protolist, num_or_size_splits=[1,3], axis=1)\n",
    "    protolist_sp = tf.SparseTensor(protolist_idx, tf.reshape(protolist_id, [-1,]), dense_shape=[HEIGHT, WIDTH, 2])\n",
    "    protolist_d = tf.sparse.to_dense(tf.sparse.reorder(protolist_sp))\n",
    "    mask = tf.logical_and(tf.cast(proto_d, tf.bool), tf.logical_not(tf.cast(protolist_d, tf.bool)))\n",
    "    \n",
    "    sharedlist = expand_sharedlist(mask, sharedlist, sharedlist)\n",
    "    \n",
    "    # add parent clusters without a local maximum\n",
    "    mask = tf.logical_and(tf.cast(proto_d, tf.bool), tf.cast(protolist_d, tf.bool))\n",
    "    proto_y = tf.expand_dims(tf.unique(tf.reshape(proto_id, [-1,]))[0], axis=0)\n",
    "    proto_masked_y = tf.expand_dims(tf.unique(tf.boolean_mask(proto_d, mask))[0], axis=0)\n",
    "    other = tf.sparse.to_dense(tf.sets.difference(proto_y, proto_masked_y))\n",
    "\n",
    "    i = tf.constant(0)\n",
    "    c = lambda i, p: tf.less(i, other.get_shape()[0])\n",
    "    def b(i, p): \n",
    "        otheri = tf.gather(other, i)\n",
    "        p = tf.where(tf.equal(proto_d, otheri), proto_d, p) \n",
    "        return [tf.add(i, 1), p]\n",
    "    protolist_d = tf.while_loop(c, b, [i, protolist_d])[1]\n",
    "    pidx = tf.where(protolist_d)\n",
    "    pid = tf.expand_dims(tf.gather_nd(protolist_d, pidx), axis=1)\n",
    "    protolist = tf.concat([pid, pidx], axis=1)\n",
    "    \n",
    "    cluster = finalize_splitter(image_d, protolist, sharedlist)\n",
    "        \n",
    "    parsed['cluster'] = cluster\n",
    "    \n",
    "    return parsed"
   ]
  },
  {
   "cell_type": "code",
   "execution_count": null,
   "metadata": {},
   "outputs": [],
   "source": []
  },
  {
   "cell_type": "markdown",
   "metadata": {},
   "source": [
    "## Run"
   ]
  },
  {
   "cell_type": "code",
   "execution_count": 320,
   "metadata": {},
   "outputs": [
    {
     "name": "stdout",
     "output_type": "stream",
     "text": [
      "64\n",
      "47\n",
      "1\n",
      "0\n",
      "tf.Tensor([29500. 30000. 14242. 21882.], shape=(4,), dtype=float64)\n"
     ]
    }
   ],
   "source": [
    "output = cluster_maker({'image': B})"
   ]
  },
  {
   "cell_type": "code",
   "execution_count": 321,
   "metadata": {},
   "outputs": [
    {
     "data": {
      "text/plain": [
       "<matplotlib.image.AxesImage at 0x7f0f540e1470>"
      ]
     },
     "execution_count": 321,
     "metadata": {},
     "output_type": "execute_result"
    },
    {
     "data": {
      "image/png": "[encoded data removed]",
      "text/plain": [
       "<Figure size 432x288 with 1 Axes>"
      ]
     },
     "metadata": {
      "needs_background": "light"
     },
     "output_type": "display_data"
    }
   ],
   "source": [
    "A = output['proto'].numpy()\n",
    "# print(A)\n",
    "# A = A[...,1:]\n",
    "A1 = A[A[...,3] == 0][...,:3]\n",
    "A2 = A[A[...,3] == 1][...,:3]\n",
    "# A1 = np.unique(A1, axis=0)\n",
    "# A2 = np.unique(A2, axis=0)\n",
    "# print(A1)\n",
    "\n",
    "sp = tf.SparseTensor(A1[...,1:3], A1[...,0], dense_shape=[HEIGHT,WIDTH])\n",
    "A1_dense = tf.sparse.to_dense(tf.sparse.reorder(sp))\n",
    "plt.imshow(A1_dense)"
   ]
  },
  {
   "cell_type": "code",
   "execution_count": 322,
   "metadata": {},
   "outputs": [
    {
     "data": {
      "text/plain": [
       "<matplotlib.image.AxesImage at 0x7f0f540caeb8>"
      ]
     },
     "execution_count": 322,
     "metadata": {},
     "output_type": "execute_result"
    },
    {
     "data": {
      "image/png": "[encoded data removed]",
      "text/plain": [
       "<Figure size 432x288 with 1 Axes>"
      ]
     },
     "metadata": {
      "needs_background": "light"
     },
     "output_type": "display_data"
    }
   ],
   "source": [
    "sp = tf.SparseTensor(A2[...,1:3], A2[...,0], dense_shape=[HEIGHT,WIDTH])\n",
    "A2_dense = tf.sparse.to_dense(tf.sparse.reorder(sp))\n",
    "plt.imshow(A2_dense)"
   ]
  },
  {
   "cell_type": "code",
   "execution_count": 323,
   "metadata": {},
   "outputs": [],
   "source": [
    "# output2['cluster']"
   ]
  },
  {
   "cell_type": "code",
   "execution_count": 344,
   "metadata": {},
   "outputs": [
    {
     "name": "stdout",
     "output_type": "stream",
     "text": [
      "36\n",
      "69\n",
      "37\n",
      "4\n",
      "0\n",
      "tf.Tensor([6 5 2 7 8], shape=(5,), dtype=int64)\n",
      "tf.Tensor(\n",
      "[[ 3.48544137  4.19686623  0.32623905]\n",
      " [ 3.50585448  8.49445455  0.32967071]\n",
      " [ 3.         16.          0.33333333]\n",
      " [ 9.49354023  5.49638393  0.31828395]\n",
      " [14.50459282 14.50856869  0.33255644]], shape=(5, 3), dtype=float64) tf.Tensor(\n",
      "[[11934.5]\n",
      " [14561.5]\n",
      " [30000. ]\n",
      " [14242. ]\n",
      " [21882. ]], shape=(5, 1), dtype=float64)\n",
      "tf.Tensor([6 5 2 7 8], shape=(5,), dtype=int64) tf.Tensor([2 4 1 3 0], shape=(5,), dtype=int64)\n"
     ]
    }
   ],
   "source": [
    "# output = cluster_maker({'image': B})\n",
    "output2 = cluster_splitter(output)\n",
    "# output2"
   ]
  },
  {
   "cell_type": "code",
   "execution_count": 346,
   "metadata": {},
   "outputs": [
    {
     "data": {
      "text/plain": [
       "<matplotlib.image.AxesImage at 0x7f0f0319c4a8>"
      ]
     },
     "execution_count": 346,
     "metadata": {},
     "output_type": "execute_result"
    },
    {
     "data": {
      "image/png": "[encoded data removed]",
      "text/plain": [
       "<Figure size 432x288 with 1 Axes>"
      ]
     },
     "metadata": {
      "needs_background": "light"
     },
     "output_type": "display_data"
    }
   ],
   "source": [
    "C = output2['cluster'].numpy()\n",
    "# print(A)\n",
    "# A = A[...,1:]\n",
    "C1 = C[C[...,3] == 0][...,:3]\n",
    "C2 = C[C[...,3] == 1][...,:3]\n",
    "C1 = C1[C1[...,0] == 1]\n",
    "# A1 = np.unique(A1, axis=0)\n",
    "# A2 = np.unique(A2, axis=0)\n",
    "# print(A1)\n",
    "\n",
    "sp = tf.SparseTensor(C1[...,1:3], C1[...,0], dense_shape=[HEIGHT,WIDTH])\n",
    "C1_dense = tf.sparse.to_dense(tf.sparse.reorder(sp))\n",
    "plt.imshow(C1_dense)"
   ]
  },
  {
   "cell_type": "code",
   "execution_count": 24,
   "metadata": {},
   "outputs": [
    {
     "data": {
      "text/plain": [
       "<matplotlib.image.AxesImage at 0x7f109c0db0b8>"
      ]
     },
     "execution_count": 24,
     "metadata": {},
     "output_type": "execute_result"
    },
    {
     "data": {
      "image/png": "[encoded data removed]",
      "text/plain": [
       "<Figure size 432x288 with 1 Axes>"
      ]
     },
     "metadata": {
      "needs_background": "light"
     },
     "output_type": "display_data"
    }
   ],
   "source": [
    "C = output2['cluster'].numpy()\n",
    "# print(A)\n",
    "# A = A[...,1:]\n",
    "C1 = C[C[...,3] == 0][...,:3]\n",
    "C2 = C[C[...,3] == 1][...,:3]\n",
    "# A1 = np.unique(A1, axis=0)\n",
    "# A2 = np.unique(A2, axis=0)\n",
    "# print(A1)\n",
    "\n",
    "sp = tf.SparseTensor(C1[...,1:3], C1[...,0], dense_shape=[HEIGHT,WIDTH])\n",
    "C1_dense = tf.sparse.to_dense(tf.sparse.reorder(sp))\n",
    "plt.imshow(C1_dense)"
   ]
  },
  {
   "cell_type": "code",
   "execution_count": 25,
   "metadata": {},
   "outputs": [
    {
     "data": {
      "text/plain": [
       "<matplotlib.image.AxesImage at 0x7f109c0ad9b0>"
      ]
     },
     "execution_count": 25,
     "metadata": {},
     "output_type": "execute_result"
    },
    {
     "data": {
      "image/png": "[encoded data removed]",
      "text/plain": [
       "<Figure size 432x288 with 1 Axes>"
      ]
     },
     "metadata": {
      "needs_background": "light"
     },
     "output_type": "display_data"
    }
   ],
   "source": [
    "sp = tf.SparseTensor(C2[...,1:3], C2[...,0], dense_shape=[HEIGHT,WIDTH])\n",
    "C2_dense = tf.sparse.to_dense(tf.sparse.reorder(sp))\n",
    "plt.imshow(C2_dense)"
   ]
  },
  {
   "cell_type": "markdown",
   "metadata": {},
   "source": [
    "## Unit testing"
   ]
  },
  {
   "cell_type": "code",
   "execution_count": null,
   "metadata": {},
   "outputs": [],
   "source": [
    "def test_sorting():\n",
    "    # arrange\n",
    "    image = tf.constant([[[3., 2.], [6., 1.]], [[5., 8.], [7., 4.]]])\n",
    "    TSEED = 4.\n",
    "    seed_list = tf.where(tf.math.greater(image, TSEED))\n",
    "    seed_len = 4\n",
    "    \n",
    "    # act\n",
    "    sorted_seedlist = sorting(seed_list, seed_len, image)\n",
    "    \n",
    "    # assert\n",
    "    assert tf.equal(sorted_seedlist, tf.constant([[1,0,1], [1,1,0], [0,1,0], [1,0,0]], tf.int64)).numpy().all()"
   ]
  },
  {
   "cell_type": "code",
   "execution_count": 216,
   "metadata": {},
   "outputs": [],
   "source": [
    "def test_neighbors():\n",
    "    # arrange\n",
    "    index = tf.constant([0,0,0], tf.int64)\n",
    "    seed_list = tf.constant([[1,0,0], [1,1,0], [1,2,0]], tf.int64)\n",
    "    \n",
    "    # act\n",
    "    neigh = neighbors(index, seed_list)\n",
    "    \n",
    "    # assert\n",
    "    assert tf.equal(neigh, tf.constant([[0,0,1], [0,1,0]], tf.int64)).numpy().all()"
   ]
  },
  {
   "cell_type": "code",
   "execution_count": null,
   "metadata": {},
   "outputs": [],
   "source": [
    "test_neighbors()\n",
    "# test_sorting()"
   ]
  },
  {
   "cell_type": "code",
   "execution_count": 178,
   "metadata": {},
   "outputs": [
    {
     "data": {
      "text/plain": [
       "<tf.Tensor: shape=(1, 1), dtype=int32, numpy=array([[2]], dtype=int32)>"
      ]
     },
     "execution_count": 178,
     "metadata": {},
     "output_type": "execute_result"
    }
   ],
   "source": [
    "tf.sparse.to_dense(tf.sets.difference([[1, 2]], [[3, 1]]))"
   ]
  },
  {
   "cell_type": "code",
   "execution_count": 98,
   "metadata": {},
   "outputs": [
    {
     "name": "stdout",
     "output_type": "stream",
     "text": [
      "tf.Tensor([ 3 -1], shape=(2,), dtype=int32)\n"
     ]
    }
   ],
   "source": [
    "keys_tensor = tf.constant([1, 2])\n",
    "vals_tensor = tf.constant([3, 4])\n",
    "input_tensor = tf.constant([1, 5])\n",
    "table = tf.lookup.StaticHashTable(\n",
    "    tf.lookup.KeyValueTensorInitializer(keys_tensor, vals_tensor), -1)\n",
    "print(table.lookup(input_tensor))"
   ]
  },
  {
   "cell_type": "code",
   "execution_count": null,
   "metadata": {},
   "outputs": [],
   "source": []
  }
 ],
 "metadata": {
  "kernelspec": {
   "display_name": "Python 3",
   "language": "python",
   "name": "python3"
  },
  "language_info": {
   "codemirror_mode": {
    "name": "ipython",
    "version": 3
   },
   "file_extension": ".py",
   "mimetype": "text/x-python",
   "name": "python",
   "nbconvert_exporter": "python",
   "pygments_lexer": "ipython3",
   "version": "3.6.5"
  }
 },
 "nbformat": 4,
 "nbformat_minor": 2
}
