{
 "cells": [
  {
   "cell_type": "markdown",
   "metadata": {},
   "source": [
    "# Clustering algorithm"
   ]
  },
  {
   "cell_type": "code",
   "execution_count": 2,
   "metadata": {},
   "outputs": [],
   "source": [
    "import numpy as np\n",
    "import tensorflow as tf\n",
    "import tensorflow.keras.backend as K\n",
    "from tensorflow.python.ops import sparse_ops\n",
    "import pandas as pd\n",
    "# import matplotlib.pyplot as plt\n",
    "import pandas as pd\n",
    "import os\n",
    "assert tf.__version__=='2.2.0-rc1'\n",
    "# assert tf.test.is_gpu_available()\n",
    "K.clear_session()\n",
    "%load_ext tensorboard\n",
    "import matplotlib.pyplot as plt"
   ]
  },
  {
   "cell_type": "code",
   "execution_count": 3,
   "metadata": {},
   "outputs": [],
   "source": [
    "# Moliere radius for lead (Wigmans2017, Appendix B)\n",
    "moliereRadius = 16.0 / 3 # moliere radius in units of smallest irreducible unit"
   ]
  },
  {
   "cell_type": "code",
   "execution_count": 4,
   "metadata": {},
   "outputs": [],
   "source": [
    "DATA_DIR = ''\n",
    "BATCH_SIZE = 16\n",
    "BUFFER_SIZE = 10"
   ]
  },
  {
   "cell_type": "code",
   "execution_count": 33,
   "metadata": {},
   "outputs": [],
   "source": [
    "HEIGHT = 284\n",
    "WIDTH = 284\n",
    "TENERGY = 500\n",
    "TLOCMAX = 350\n",
    "TNUMBER = 3\n",
    "# good values to test if recursive function works\n",
    "TSEED = tf.constant(100, tf.float32)  # tf.constant([300.], tf.float32)\n",
    "TNEIGHBOR = tf.constant(50., tf.float32)\n",
    "TCELL = tf.constant(10., tf.float32)"
   ]
  },
  {
   "cell_type": "markdown",
   "metadata": {},
   "source": [
    "## Parser"
   ]
  },
  {
   "cell_type": "code",
   "execution_count": 28,
   "metadata": {},
   "outputs": [],
   "source": [
    "feature_description = {\n",
    "    'eventId': tf.io.FixedLenFeature([1], tf.int64, default_value=0),\n",
    "    'image': tf.io.FixedLenFeature([3], tf.string, default_value=[\"\",]*3)\n",
    "}\n",
    "\n",
    "feature_shape = {\n",
    "    'eventId': tf.TensorShape([1,]),\n",
    "    'image': tf.TensorShape([568, 568, 2])\n",
    "}\n",
    "\n",
    "def parser_fn(proto):\n",
    "    serialized = tf.io.parse_single_example(proto, feature_description)\n",
    "    deserialized = {k: (tf.sparse.to_dense(sparse_ops.deserialize_sparse(v, K.floatx()))\n",
    "                        if k != 'eventId' else v) for k,v in serialized.items()}\n",
    "    [deserialized[k].set_shape(feature_shape[k]) for k in deserialized.keys()]\n",
    "    x = deserialized['image']\n",
    "    x = tf.expand_dims(x, axis=0)\n",
    "    x = K.pool2d(x, pool_size=(2, 2), strides=(2, 2), pool_mode='avg')\n",
    "    # sum instead of avg\n",
    "    x = 4.*x\n",
    "    deserialized['image'] = tf.squeeze(x)\n",
    "    \n",
    "    return deserialized"
   ]
  },
  {
   "cell_type": "markdown",
   "metadata": {},
   "source": [
    "## Run"
   ]
  },
  {
   "cell_type": "code",
   "execution_count": 29,
   "metadata": {},
   "outputs": [],
   "source": [
    "# tf.debugging.enable_check_numerics()\n",
    "# tf.config.experimental_run_functions_eagerly(True)"
   ]
  },
  {
   "cell_type": "code",
   "execution_count": 30,
   "metadata": {
    "scrolled": true
   },
   "outputs": [
    {
     "name": "stdout",
     "output_type": "stream",
     "text": [
      "<MapDataset shapes: {eventId: (1,), image: (284, 284, 2)}, types: {eventId: tf.int64, image: tf.float32}>\n"
     ]
    }
   ],
   "source": [
    "filename = [os.path.join(DATA_DIR, 'B4.tfrecord')]\n",
    "dataset = tf.data.TFRecordDataset(filename, compression_type='GZIP', buffer_size=BUFFER_SIZE)\n",
    "dataset = dataset.map(parser_fn)\n",
    "# dataset = dataset.take(1).map(cluster_maker)\n",
    "print(dataset)"
   ]
  },
  {
   "cell_type": "code",
   "execution_count": 34,
   "metadata": {
    "scrolled": true
   },
   "outputs": [
    {
     "name": "stdout",
     "output_type": "stream",
     "text": [
      "hello\n",
      "total cluster energy tf.Tensor(\n",
      "[  684.0973    114.84323 13968.279     169.50418 12717.742    1091.1927\n",
      "   192.6937    497.0276   4729.557  ], shape=(9,), dtype=float32)\n",
      "unique pid tf.Tensor([1 6 7 8 9], shape=(5,), dtype=int64)\n",
      "tf.Tensor(\n",
      "[[4.1342339e+01 1.8691862e+02 7.1106023e-01]\n",
      " [1.3348628e+02 1.5940411e+02 5.5655414e-01]\n",
      " [1.4623305e+02 1.1467781e+02 4.8419812e-01]\n",
      " [1.5576233e+02 1.6318571e+02 1.7237851e-01]\n",
      " [1.5634903e+02 1.6501765e+02 8.2290834e-01]], shape=(5, 3), dtype=float32) tf.Tensor(\n",
      "[[  684.0973]\n",
      " [13968.279 ]\n",
      " [13808.935 ]\n",
      " [  923.5299]\n",
      " [ 2171.008 ]], shape=(5, 1), dtype=float32)\n",
      "unique pid tf.Tensor([5. 1. 2. 4. 3.], shape=(5,), dtype=float32)\n",
      "hello\n",
      "total cluster energy tf.Tensor([  150.35228 52270.14      246.48395], shape=(3,), dtype=float32)\n",
      "unique pid tf.Tensor([2], shape=(1,), dtype=int64)\n",
      "tf.Tensor([[126.532036   150.55         0.54770947]], shape=(1, 3), dtype=float32) tf.Tensor([[52270.14]], shape=(1, 1), dtype=float32)\n",
      "unique pid tf.Tensor([1.], shape=(1,), dtype=float32)\n",
      "hello\n",
      "total cluster energy tf.Tensor([12780.203    3864.7156    530.4102    114.291     553.0903    529.79706], shape=(6,), dtype=float32)\n",
      "unique pid tf.Tensor([6 7 8 4 5], shape=(5,), dtype=int64)\n",
      "tf.Tensor(\n",
      "[[139.14728    133.45906      0.4913396 ]\n",
      " [145.23605    155.57407      0.9523405 ]\n",
      " [147.54675    156.0348       0.3423017 ]\n",
      " [162.6482     183.0692       0.35179356]\n",
      " [215.38983     90.93323      0.8012959 ]], shape=(5, 3), dtype=float32) tf.Tensor(\n",
      "[[12780.203  ]\n",
      " [ 1513.7584 ]\n",
      " [ 1395.2305 ]\n",
      " [  553.0903 ]\n",
      " [  529.79706]], shape=(5, 1), dtype=float32)\n",
      "unique pid tf.Tensor([1. 2. 3. 4. 5.], shape=(5,), dtype=float32)\n",
      "hello\n",
      "total cluster energy tf.Tensor(\n",
      "[  130.11871   319.6621    256.48334   187.92868 13287.208    2466.357\n",
      "  1633.656  ], shape=(7,), dtype=float32)\n",
      "unique pid tf.Tensor([4 5 2 3], shape=(4,), dtype=int64)\n",
      "tf.Tensor(\n",
      "[[1.5870078e+02 1.6446927e+02 7.5525051e-01]\n",
      " [1.6089291e+02 1.6494278e+02 4.6170361e-02]\n",
      " [1.7611638e+02 1.8033792e+02 5.8092517e-01]\n",
      " [1.8116045e+02 1.8995726e+02 5.3596407e-01]], shape=(4, 3), dtype=float32) tf.Tensor(\n",
      "[[6499.247]\n",
      " [2490.24 ]\n",
      " [2466.357]\n",
      " [1633.656]], shape=(4, 1), dtype=float32)\n",
      "unique pid tf.Tensor([1. 2. 3. 4.], shape=(4,), dtype=float32)\n",
      "hello\n",
      "total cluster energy tf.Tensor([38802.617], shape=(1,), dtype=float32)\n",
      "unique pid tf.Tensor([2], shape=(1,), dtype=int64)\n",
      "tf.Tensor([[116.14417    156.05598      0.49118787]], shape=(1, 3), dtype=float32) tf.Tensor([[38802.617]], shape=(1, 1), dtype=float32)\n",
      "unique pid tf.Tensor([1.], shape=(1,), dtype=float32)\n",
      "hello\n",
      "total cluster energy tf.Tensor(\n",
      "[ 154.96469  8496.0625    102.880356  249.96167   241.09708   156.27335\n",
      "  150.3524    374.35272   297.23035 ], shape=(9,), dtype=float32)\n",
      "unique pid tf.Tensor([2], shape=(1,), dtype=int64)\n",
      "tf.Tensor([[105.84949    155.67932      0.40181953]], shape=(1, 3), dtype=float32) tf.Tensor([[8496.0625]], shape=(1, 1), dtype=float32)\n",
      "unique pid tf.Tensor([1.], shape=(1,), dtype=float32)\n",
      "hello\n",
      "total cluster energy tf.Tensor([325.34604 265.32755 389.14706 627.9419 ], shape=(4,), dtype=float32)\n",
      "unique pid tf.Tensor([1], shape=(1,), dtype=int64)\n",
      "tf.Tensor([[200.99998 107.        1.     ]], shape=(1, 3), dtype=float32) tf.Tensor([[627.9419]], shape=(1, 1), dtype=float32)\n",
      "unique pid tf.Tensor([1.], shape=(1,), dtype=float32)\n",
      "hello\n",
      "total cluster energy tf.Tensor([4452.091    170.97643 1878.4681   420.46725 1863.834  ], shape=(5,), dtype=float32)\n",
      "unique pid tf.Tensor([5 4 2 3], shape=(4,), dtype=int64)\n",
      "tf.Tensor(\n",
      "[[ 78.60929    214.25429      0.76244736]\n",
      " [ 78.891205   212.78517      0.        ]\n",
      " [110.13544    124.45353      0.22599494]\n",
      " [128.10446    211.18042      0.4413032 ]], shape=(4, 3), dtype=float32) tf.Tensor(\n",
      "[[2099.5684]\n",
      " [ 600.534 ]\n",
      " [1878.4681]\n",
      " [1863.834 ]], shape=(4, 1), dtype=float32)\n",
      "unique pid tf.Tensor([1. 4. 2. 3.], shape=(4,), dtype=float32)\n",
      "hello\n",
      "total cluster energy tf.Tensor(\n",
      "[ 1528.0067    702.47284   235.3917    114.97534   730.19116  1730.2816\n",
      "  5442.875   34548.875     118.34   ], shape=(9,), dtype=float32)\n",
      "unique pid tf.Tensor([1 2 7 9 8], shape=(5,), dtype=int64)\n",
      "tf.Tensor(\n",
      "[[111.819954   158.58653      0.46304813]\n",
      " [114.88677    182.99641      0.20144284]\n",
      " [124.90701    177.11577      0.32350823]\n",
      " [146.19357    151.93884      0.524529  ]\n",
      " [143.35738    138.39394      0.52485037]], shape=(5, 3), dtype=float32) tf.Tensor(\n",
      "[[ 1528.0067 ]\n",
      " [  702.47284]\n",
      " [ 2460.473  ]\n",
      " [34548.875  ]\n",
      " [ 5442.875  ]], shape=(5, 1), dtype=float32)\n",
      "unique pid tf.Tensor([4. 5. 3. 1. 2.], shape=(5,), dtype=float32)\n",
      "hello\n",
      "total cluster energy tf.Tensor([3353.167], shape=(1,), dtype=float32)\n",
      "unique pid tf.Tensor([1], shape=(1,), dtype=int64)\n",
      "tf.Tensor([[ 27.034575  177.17595     0.5459793]], shape=(1, 3), dtype=float32) tf.Tensor([[3353.167]], shape=(1, 1), dtype=float32)\n",
      "unique pid tf.Tensor([1.], shape=(1,), dtype=float32)\n",
      "hello\n",
      "total cluster energy tf.Tensor(\n",
      "[  233.36758  9118.383     155.333     188.66422  5244.3633    293.95865\n",
      "  8873.92      106.13125 16701.084     247.60909 13699.387     245.51447], shape=(12,), dtype=float32)\n",
      "unique pid tf.Tensor([1 6 7 8 9], shape=(5,), dtype=int64)\n",
      "tf.Tensor(\n",
      "[[123.35711    126.534485     0.46751037]\n",
      " [127.36674    155.6666       0.4637693 ]\n",
      " [131.05858    177.41142      0.51128596]\n",
      " [146.05586    154.47502      0.50943935]\n",
      " [147.45084    180.45163      0.5313255 ]], shape=(5, 3), dtype=float32) tf.Tensor(\n",
      "[[ 9118.383 ]\n",
      " [ 5244.3633]\n",
      " [ 8873.92  ]\n",
      " [16701.084 ]\n",
      " [13699.387 ]], shape=(5, 1), dtype=float32)\n",
      "unique pid tf.Tensor([3. 5. 4. 1. 2.], shape=(5,), dtype=float32)\n",
      "hello\n",
      "total cluster energy tf.Tensor([38560.348     212.03732], shape=(2,), dtype=float32)\n",
      "unique pid tf.Tensor([2], shape=(1,), dtype=int64)\n",
      "tf.Tensor([[158.36833    167.7891       0.50092506]], shape=(1, 3), dtype=float32) tf.Tensor([[38560.348]], shape=(1, 1), dtype=float32)\n",
      "unique pid tf.Tensor([1.], shape=(1,), dtype=float32)\n",
      "hello\n",
      "total cluster energy tf.Tensor([536.5049  796.6395  159.19653], shape=(3,), dtype=float32)\n",
      "unique pid tf.Tensor([1 2], shape=(2,), dtype=int64)\n",
      "tf.Tensor(\n",
      "[[140.53969    118.36689      0.62642777]\n",
      " [144.48064    108.224174     0.5106897 ]], shape=(2, 3), dtype=float32) tf.Tensor(\n",
      "[[536.5049]\n",
      " [796.6395]], shape=(2, 1), dtype=float32)\n",
      "unique pid tf.Tensor([2. 1.], shape=(2,), dtype=float32)\n",
      "hello\n",
      "total cluster energy tf.Tensor([], shape=(0,), dtype=float32)\n",
      "unique pid tf.Tensor([], shape=(0,), dtype=int64)\n",
      "tf.Tensor([], shape=(0, 3), dtype=float32) tf.Tensor([], shape=(0, 1), dtype=float32)\n",
      "unique pid tf.Tensor([], shape=(0,), dtype=float32)\n",
      "hello\n",
      "total cluster energy tf.Tensor(\n",
      "[ 3015.5825    745.00793  8145.085     250.48315 13886.677     147.97095\n",
      "   290.0525 ], shape=(7,), dtype=float32)\n",
      "unique pid tf.Tensor([1 5 6 7], shape=(4,), dtype=int64)\n",
      "tf.Tensor(\n",
      "[[ 98.68881    159.21535      0.5396445 ]\n",
      " [121.29151    147.31374      0.        ]\n",
      " [130.43271    100.923355     0.45822415]\n",
      " [146.1998     108.53187      0.52161086]], shape=(4, 3), dtype=float32) tf.Tensor(\n",
      "[[ 3015.5825 ]\n",
      " [  745.00793]\n",
      " [ 8145.085  ]\n",
      " [13886.677  ]], shape=(4, 1), dtype=float32)\n",
      "unique pid tf.Tensor([3. 4. 2. 1.], shape=(4,), dtype=float32)\n",
      "hello\n",
      "total cluster energy tf.Tensor([114.97527], shape=(1,), dtype=float32)\n",
      "unique pid tf.Tensor([], shape=(0,), dtype=int64)\n",
      "tf.Tensor([], shape=(0, 3), dtype=float32) tf.Tensor([], shape=(0, 1), dtype=float32)\n",
      "unique pid tf.Tensor([], shape=(0,), dtype=float32)\n",
      "hello\n",
      "total cluster energy tf.Tensor([ 344.39627 1063.1676   299.99094  178.15413  306.6368   320.78784], shape=(6,), dtype=float32)\n",
      "unique pid tf.Tensor([2], shape=(1,), dtype=int64)\n",
      "tf.Tensor([[1.9676375e+02 1.8914848e+02 1.0814412e-01]], shape=(1, 3), dtype=float32) tf.Tensor([[1063.1676]], shape=(1, 1), dtype=float32)\n",
      "unique pid tf.Tensor([1.], shape=(1,), dtype=float32)\n",
      "hello\n",
      "total cluster energy tf.Tensor([ 144.6582  7867.791   1170.6163   405.83527], shape=(4,), dtype=float32)\n",
      "unique pid tf.Tensor([3 2], shape=(2,), dtype=int64)\n",
      "tf.Tensor(\n",
      "[[ 98.06167     67.88371      0.5418206 ]\n",
      " [132.68944    161.9913       0.34753978]], shape=(2, 3), dtype=float32) tf.Tensor(\n",
      "[[7867.791 ]\n",
      " [1170.6163]], shape=(2, 1), dtype=float32)\n",
      "unique pid tf.Tensor([1. 2.], shape=(2,), dtype=float32)\n",
      "hello\n",
      "total cluster energy tf.Tensor([1264.5471], shape=(1,), dtype=float32)\n"
     ]
    },
    {
     "name": "stdout",
     "output_type": "stream",
     "text": [
      "unique pid tf.Tensor([1], shape=(1,), dtype=int64)\n",
      "tf.Tensor([[52.19174   16.020092   0.6224666]], shape=(1, 3), dtype=float32) tf.Tensor([[1264.5471]], shape=(1, 1), dtype=float32)\n",
      "unique pid tf.Tensor([1.], shape=(1,), dtype=float32)\n",
      "hello\n",
      "total cluster energy tf.Tensor(\n",
      "[  117.60384   304.03998  1212.1892    129.56668   621.53546 10811.726\n",
      "  2219.5889    225.47267 11244.665     145.39442   167.47966], shape=(11,), dtype=float32)\n",
      "unique pid tf.Tensor([1 2 6 4 7 8], shape=(6,), dtype=int64)\n",
      "tf.Tensor(\n",
      "[[1.34067810e+02 1.67452637e+02 4.52358484e-01]\n",
      " [1.35688187e+02 1.64230957e+02 2.84593850e-02]\n",
      " [1.38766449e+02 1.19099266e+02 3.15234102e-02]\n",
      " [1.39521942e+02 9.24075470e+01 5.14018357e-01]\n",
      " [1.40024048e+02 1.20898239e+02 7.84743845e-01]\n",
      " [1.48295670e+02 1.06218628e+02 5.38772404e-01]], shape=(6, 3), dtype=float32) tf.Tensor(\n",
      "[[ 1212.1892 ]\n",
      " [  621.53546]\n",
      " [ 2244.4927 ]\n",
      " [ 2219.5889 ]\n",
      " [ 4902.558  ]\n",
      " [11244.665  ]], shape=(6, 1), dtype=float32)\n",
      "unique pid tf.Tensor([5. 6. 3. 4. 2. 1.], shape=(6,), dtype=float32)\n"
     ]
    }
   ],
   "source": [
    "cols = ['eventId', 'cluster_comi', 'cluster_comj', 'S_sum', 'S_rad_mean', 'S_hot', 'C_sum', 'C_rad_mean', 'C_hot']\n",
    "pdf = pd.DataFrame(columns=cols)\n",
    "for parsed in dataset:\n",
    "    output = cluster_maker(parsed)\n",
    "    output2 = cluster_splitter(output)\n",
    "    output3 = scalar_features(output2)\n",
    "    s = parsed['scalar'].numpy()\n",
    "    eventId = parsed['eventId'].numpy()\n",
    "    eventId_rep = np.tile(eventId, [s.shape[0], 1])\n",
    "    arr = np.hstack((eventId_rep, s))\n",
    "    pdfi = pd.DataFrame(arr, columns=cols)\n",
    "    pdf = pdf.append(pdfi)\n",
    "pdf.reset_index(drop=True, inplace=True)\n",
    "pdf.eventId = pdf.eventId.astype(int)\n",
    "pdf.to_csv('clustering.csv', index=False)"
   ]
  },
  {
   "cell_type": "code",
   "execution_count": null,
   "metadata": {},
   "outputs": [],
   "source": [
    "pdf.head()"
   ]
  },
  {
   "cell_type": "code",
   "execution_count": 31,
   "metadata": {
    "scrolled": true
   },
   "outputs": [
    {
     "data": {
      "image/png": "[encoded data removed]",
      "text/plain": [
       "<Figure size 720x2160 with 11 Axes>"
      ]
     },
     "metadata": {
      "needs_background": "light"
     },
     "output_type": "display_data"
    }
   ],
   "source": [
    "pdf = pd.DataFrame(columns=['comi', 'comj', 'S_sum', 'S_rad_mean', 'S_hot', 'C_sum', 'S_rad_mean', 'C_hot'])\n",
    "fig, ax = plt.subplots(ncols=2, nrows=5, figsize=(10, 30))\n",
    "i = 0\n",
    "for parsed_record in dataset.take(1):\n",
    "    plt.imshow(parsed_record['image'][:,:,0])\n",
    "    plt.colorbar()\n",
    "#     print(parsed_record['labels'])\n",
    "#     output = cluster_maker(parsed_record)\n",
    "#     A = output['proto'].numpy()\n",
    "#     A1 = A[A[...,3] == 0][...,:3]\n",
    "#     A2 = A[A[...,3] == 1][...,:3]\n",
    "#     # A1 = np.unique(A1, axis=0)\n",
    "#     # A2 = np.unique(A2, axis=0)\n",
    "#     # print(A1)\n",
    "#     sp = tf.SparseTensor(A1[...,1:3], A1[...,0], dense_shape=[HEIGHT,WIDTH])\n",
    "#     A1_dense = tf.sparse.to_dense(tf.sparse.reorder(sp))\n",
    "#     sp = tf.SparseTensor(A2[...,1:3], A2[...,0], dense_shape=[HEIGHT,WIDTH])\n",
    "#     A2_dense = tf.sparse.to_dense(tf.sparse.reorder(sp))\n",
    "#     ax[i][0].imshow(A1_dense)\n",
    "#     ax[i][1].imshow(A2_dense)\n",
    "    \n",
    "#     output2 = cluster_splitter(output)\n",
    "# #     A = output['cluster'].numpy()\n",
    "# #     A1 = A[A[...,3] == 0][...,:3]\n",
    "# #     A2 = A[A[...,3] == 1][...,:3]\n",
    "# # #     # A1 = np.unique(A1, axis=0)\n",
    "# # #     # A2 = np.unique(A2, axis=0)\n",
    "\n",
    "#     output3 = scalar_features(output2)\n",
    "#     print(parsed_record['scalar'])\n",
    "# #     u = np.unique(A1[:,0])\n",
    "# #     print(u)\n",
    "    \n",
    "# #     sp = tf.SparseTensor(A1[...,1:3], A1[...,0], dense_shape=[HEIGHT,WIDTH])\n",
    "# #     A1_dense = tf.sparse.to_dense(tf.sparse.reorder(sp))\n",
    "# #     ax[i][1].imshow(A1_dense)\n",
    "    \n",
    "#     i += 1\n",
    "#     print(\"eventId\", parsed_record['eventId'])"
   ]
  },
  {
   "cell_type": "code",
   "execution_count": null,
   "metadata": {},
   "outputs": [],
   "source": []
  },
  {
   "cell_type": "markdown",
   "metadata": {},
   "source": [
    "# Topological Clustering"
   ]
  },
  {
   "cell_type": "markdown",
   "metadata": {},
   "source": [
    "Groups neighboring cells of significant energy into clusters with a variable number of cells (vs sliding-window algorithm). Cluster growth starts at seed cells, i.e. cells with significance above $t_\\text{seed}$ (high). Neighboring cells become new seeds if their significance are above $t_\\text{neighbor}$ (medium). If a neighboring cell has significance only above $t_\\text{cell}$ (low) it is simply added to the cluster without functioning as a seed. The low threshold means shower tails are not discarded, the other thresholds supress noise. This algorithm consists of two steps: the cluster maker and the cluster splitter."
   ]
  },
  {
   "cell_type": "markdown",
   "metadata": {},
   "source": [
    "## Cluster maker"
   ]
  },
  {
   "cell_type": "markdown",
   "metadata": {},
   "source": [
    "Forms topological clusters from cells and consists of the following steps:\n",
    "\n",
    "* **Finding seeds**: seed list consists of cells with significance above $t_\\text{seed}$. Neighboring seed cells form initial proto-clusters (vs paper where each seed cell forms a proto-cluster) - possibly look at later. NB missing noise!\n",
    "* **Finding neighbors**: current seed list ordered in descending order in significance. Consider neighboring cells of each seed cell in turn: a) if significance above $t_\\text{neighbor}$ it is added to the neighbor seed list and adjacent proto-cluster; if adjacent to multiple proto-clusters, these are merged. b) if significance only above $t_\\text{cell}$ cell included only in first adjacent proto-cluster (which has the more significant neighbor due to the sorting), not in the neighbor seed list (it is unclear from the paper if the latter is true). When all seed cells have been processed, the neighbor seed list becomes the new seed list. This procedure of neighbor finding is repeated until the seed list is empty.\n",
    "* **Finalize**: resulting proto-clusters are sorted in descending order in $E_T$ and filtered $E_T>t_\\text{energy}$ - does $E_T$ refer to transverse energy or total energy or total energy above threshold?  \n",
    "\n",
    "\"Neighboring\" is here defined as the eight surronding cells within the same channel and overlapping cells in adjacent channels. The scintillating and Cerenkov signals are treated as two different channels, consequently, each cell has nine neighbors. "
   ]
  },
  {
   "cell_type": "markdown",
   "metadata": {},
   "source": [
    "### Finding seeds"
   ]
  },
  {
   "cell_type": "code",
   "execution_count": 10,
   "metadata": {},
   "outputs": [],
   "source": [
    "# from skimage.measure import label\n",
    "import skimage\n",
    "from skimage import measure\n",
    "\n",
    "f = lambda x: skimage.measure.label(x, connectivity=2)\n",
    "\n",
    "def finding_seeds(image):\n",
    "    \"\"\"Finding seeds and create seed list\"\"\"\n",
    "    seed_mask = tf.math.greater(image, TSEED)\n",
    "    labels = tf.numpy_function(f, [seed_mask], Tout=tf.int64)\n",
    "    seed_idx = tf.where(tf.not_equal(labels, 0))\n",
    "    seed_id = tf.expand_dims(tf.gather_nd(labels, seed_idx), axis=1)\n",
    "    seed_list = tf.concat([seed_id, seed_idx], axis=-1)\n",
    "    return seed_list"
   ]
  },
  {
   "cell_type": "markdown",
   "metadata": {},
   "source": [
    "### Finding neighbors"
   ]
  },
  {
   "cell_type": "code",
   "execution_count": 11,
   "metadata": {},
   "outputs": [],
   "source": [
    "def sorting_seedlist(seed_list, seed_len, image):\n",
    "    \"\"\"Sorts current seed list in descending order\"\"\"\n",
    "    seed_id, seed_idx = tf.split(seed_list, num_or_size_splits=[1,3], axis=1)\n",
    "    seeds = tf.gather_nd(image, seed_idx)\n",
    "    values, indices = tf.math.top_k(seeds, k=seed_len)\n",
    "    return tf.gather(seed_list, indices)"
   ]
  },
  {
   "cell_type": "code",
   "execution_count": 12,
   "metadata": {},
   "outputs": [],
   "source": [
    "def neighbors(index, excl=tf.zeros([0, 3], tf.int64), incl=tf.zeros([0, 3], tf.int64)):\n",
    "    \"\"\"8-1 connectivity\"\"\"\n",
    "    \n",
    "    # indices of 3x3x1 centred at (i,j,k)\n",
    "    i, j, k = tf.unstack(index)\n",
    "    ii, jj = tf.meshgrid(tf.range(i-1, i+2), tf.range(j-1, j+2), indexing='ij')\n",
    "    ii = tf.reshape(ii, [-1, 1])\n",
    "    jj = tf.reshape(jj, [-1, 1])\n",
    "    kk = tf.repeat(tf.reshape(k, (1, 1)), repeats=[9], axis=0)\n",
    "    a = tf.concat([ii, jj, kk], axis=-1)\n",
    "    \n",
    "    # append index (i,j) in other k channel\n",
    "    a = tf.concat([a, [[i, j, tf.math.abs(k-1)]]], axis=0)\n",
    "    \n",
    "    # remove centre point (i,j,k)\n",
    "    mask_centre = tf.reduce_any(tf.not_equal(a, index), axis=-1)\n",
    "    \n",
    "    # remove points outside image\n",
    "    b = tf.expand_dims(a, axis=-1)\n",
    "    c = tf.transpose(tf.constant([[HEIGHT,-1, -1], [-1,WIDTH,-1]], dtype=b.dtype))\n",
    "    mask_boundary = tf.reduce_all(tf.not_equal(b, c), axis=[-2,-1])\n",
    "    mask = tf.logical_and(mask_centre, mask_boundary)\n",
    "    a = tf.boolean_mask(a, mask)\n",
    "    \n",
    "    # remove points in excl and only consider points in incl\n",
    "    a_sp = tf.SparseTensor(a, tf.ones(tf.shape(a)[0], dtype=tf.bool), dense_shape=[HEIGHT, WIDTH, 2])\n",
    "    a_d = tf.sparse.to_dense(tf.sparse.reorder(a_sp))\n",
    "    excl_sp = tf.SparseTensor(excl, tf.ones(tf.shape(excl)[0], dtype=tf.bool), dense_shape=[HEIGHT, WIDTH, 2])\n",
    "    excl_d = tf.sparse.to_dense(tf.sparse.reorder(excl_sp))\n",
    "    incl_sp = tf.SparseTensor(incl, tf.ones(tf.shape(incl)[0], dtype=tf.bool), dense_shape=[HEIGHT, WIDTH, 2])\n",
    "    incl_d = tf.sparse.to_dense(tf.sparse.reorder(incl_sp))\n",
    "    mask_final = tf.logical_and(a_d, tf.logical_not(excl_d))\n",
    "    \n",
    "    true_fn = lambda: tf.logical_and(mask_final, incl_d)\n",
    "    mask_final = tf.cond(tf.greater(tf.shape(incl)[0], 0), true_fn, lambda: mask_final)\n",
    "    \n",
    "    neighbors = tf.where(mask_final)\n",
    "    return neighbors"
   ]
  },
  {
   "cell_type": "code",
   "execution_count": 13,
   "metadata": {},
   "outputs": [],
   "source": [
    "def merge_adjacent_proto(nj, siid, m, p, s, l):\n",
    "    \"\"\"Merge adjacent proto-clusters\"\"\"\n",
    "    sid, sidx = tf.split(s, num_or_size_splits=[1,3], axis=1)\n",
    "    lid, lidx = tf.split(l, num_or_size_splits=[1,3], axis=1)\n",
    "    proto_id, proto_idx = tf.split(p, num_or_size_splits=[1,3], axis=1)\n",
    "    nnj = neighbors(nj, excl=sidx)\n",
    "    nnj_sp = tf.SparseTensor(nnj, tf.ones(tf.shape(nnj)[0], tf.bool), dense_shape=[HEIGHT, WIDTH, 2])\n",
    "    nnj_d = tf.sparse.to_dense(tf.sparse.reorder(nnj_sp))\n",
    "    proto_sp = tf.SparseTensor(proto_idx, tf.reshape(proto_id, [-1,]), dense_shape=[HEIGHT, WIDTH, 2])\n",
    "    proto_d = tf.sparse.to_dense(tf.sparse.reorder(proto_sp))\n",
    "    indices = tf.where(tf.logical_and(tf.logical_and(nnj_d, tf.not_equal(proto_d, 0)), tf.greater(m, TNEIGHBOR)))\n",
    "#     indices = tf.where(tf.logical_and(nnj_d, tf.not_equal(proto_d, 0)))\n",
    "    values = tf.gather_nd(proto_d, indices)\n",
    "    values = tf.boolean_mask(values, tf.not_equal(values, siid))\n",
    "    \n",
    "    # loop over values\n",
    "    k0 = tf.constant(0)\n",
    "    ck = lambda k, p, s, l: tf.less(k, tf.shape(values)[0])\n",
    "    def bk(k, p, s, l):\n",
    "        neigh_id = tf.gather(values, k)\n",
    "        pnew = tf.where(tf.equal(proto_d, neigh_id), tf.reshape(siid, [-1,])*tf.ones_like(p), p)\n",
    "        snew = tf.where(tf.equal(sid, neigh_id), tf.reshape(siid, [-1,])*tf.ones_like(s), s)\n",
    "        lnew = tf.where(tf.equal(lid, neigh_id), tf.reshape(siid, [-1,])*tf.ones_like(l), l)\n",
    "        return [tf.add(k, 1), pnew, snew, lnew]\n",
    "    k, p, sid, lid = tf.while_loop(ck, bk, loop_vars=[k0, proto_d, sid, lid],\n",
    "                                   shape_invariants=[k0.get_shape(), proto_d.get_shape(),\n",
    "                                                     sid.get_shape(), lid.get_shape()])                \n",
    "    indices = tf.where(tf.not_equal(p, 0))\n",
    "    values = tf.expand_dims(tf.gather_nd(p, indices), axis=1)\n",
    "    pnew = tf.concat([values, indices], axis=1)\n",
    "    snew = tf.concat([sid, sidx], axis=1)\n",
    "    lnew = tf.concat([lid, lidx], axis=1)\n",
    "    return [pnew, snew, lnew]\n",
    "\n",
    "\n",
    "def bj_maker(j, m, p, s, l, n, siid):\n",
    "    \"\"\"Body of while loop over neighbors\"\"\"\n",
    "    nj = tf.gather(n, j)\n",
    "    nval = tf.gather_nd(m, nj)\n",
    "    nnew = tf.expand_dims(tf.concat([siid, nj], axis=0), axis=0)\n",
    "\n",
    "    def tneighbor(siid=siid):\n",
    "        \"\"\"Append cells to both proto-clusters and neighbor seed list if value above TNEIGHBOR\"\"\"\n",
    "        [pnew, snew, lnew] = merge_adjacent_proto(nj, siid, m, p, s, l)\n",
    "        pnew = tf.concat([pnew, nnew], axis=0)\n",
    "        lnew = tf.concat([lnew, nnew], axis=0)\n",
    "        return [pnew, snew, lnew]\n",
    "\n",
    "    def tcell():\n",
    "        \"\"\"Append cells to proto-clusters if value above TCELL\"\"\"\n",
    "        def true_fn():\n",
    "            return tf.concat([p, nnew], axis=0)\n",
    "        def false_fn(): return p\n",
    "        pnew = tf.cond(tf.greater(nval, TCELL), true_fn, false_fn)\n",
    "        return [pnew, s, l]\n",
    "    \n",
    "    [pnew, snew, lnew] = tf.cond(tf.greater(nval, TNEIGHBOR), true_fn=tneighbor, false_fn=tcell)\n",
    "    \n",
    "    return [tf.add(j, 1), m, pnew, snew, lnew, n, siid]\n",
    "    \n",
    "\n",
    "def bi_maker(i, m, p, s, l):\n",
    "    \"\"\"Body of while loop over current seed list\"\"\"\n",
    "    si = tf.gather(s, i)\n",
    "    \n",
    "    # find neighbours not in protolist\n",
    "    siid, siidx = tf.split(si, num_or_size_splits=[1,3], axis=0)\n",
    "    _, pidx = tf.split(p, num_or_size_splits=[1,3], axis=1)\n",
    "    n = neighbors(siidx, excl=pidx)\n",
    "        \n",
    "    # loop over neighbors\n",
    "    j0 = tf.constant(0)\n",
    "    cj = lambda j, m, p, s, l, n, siid: tf.less(j, tf.shape(n)[0])\n",
    "    _, m, p, s, l, _, _ = tf.while_loop(\n",
    "        cj, bj_maker, loop_vars=[j0, m, p, s, l, n, siid],\n",
    "        shape_invariants=[j0.get_shape(), m.get_shape(), tf.TensorShape([None, 4]),\n",
    "                          s.get_shape(), tf.TensorShape([None, 4]),\n",
    "                          n.get_shape(), siid.get_shape()])\n",
    "    \n",
    "    return [tf.add(i, 1), m, p, s, l]\n",
    "  \n",
    "def finding_neighbors_maker(m, p, s):\n",
    "    \"\"\"Finding neighbors recursively until current seed list is empty.\n",
    "    m: image, p: protolist, s: seedlist, l: neighlist, n: neighbor\"\"\"\n",
    "    slen = tf.shape(s)[0]\n",
    "    \n",
    "    # sort current seed list in descending order\n",
    "    s = sorting_seedlist(s, slen, m)\n",
    "    \n",
    "    # loop over current seed list\n",
    "    i0, l0 = tf.constant(0), tf.zeros([0,4], tf.int64)\n",
    "    ci = lambda i, m, p, s, l: tf.less(i, slen)\n",
    "    _, m, pnew, s, lnew = tf.while_loop(\n",
    "        ci, bi_maker, loop_vars=[i0, m, p, s, l0],\n",
    "        shape_invariants=[i0.get_shape(), m.get_shape(), tf.TensorShape([None, 4]),\n",
    "                          s.get_shape(), tf.TensorShape([None, 4])])\n",
    "    # neighbor seed list becomes the new seed list\n",
    "    snew = lnew\n",
    "        \n",
    "    # repeated until current seed list is empty\n",
    "    def true_fn(): return finding_neighbors_maker(m, pnew, snew)\n",
    "    def false_fn(): return pnew\n",
    "#     print(\"ciao\", tf.size(snew))\n",
    "    pnew = tf.cond(tf.not_equal(tf.size(snew), tf.constant(0)), true_fn, false_fn)\n",
    "    return pnew"
   ]
  },
  {
   "cell_type": "markdown",
   "metadata": {},
   "source": [
    "### Finalize cluster maker"
   ]
  },
  {
   "cell_type": "code",
   "execution_count": 14,
   "metadata": {},
   "outputs": [],
   "source": [
    "def renumber_proto(s):\n",
    "    sid, sidx = tf.split(s, num_or_size_splits=[1,3], axis=1)\n",
    "    u, uid = tf.unique(tf.reshape(sid, [-1]), out_idx=sid.dtype)\n",
    "    ulen = tf.shape(u)[0]\n",
    "    uid = tf.reshape(tf.add(uid, 1), [-1,1])\n",
    "    s = tf.concat([uid, sidx], axis=1)\n",
    "    return s"
   ]
  },
  {
   "cell_type": "code",
   "execution_count": 15,
   "metadata": {},
   "outputs": [],
   "source": [
    "def finalize_maker(m, s):\n",
    "    \"\"\"Finalize cluster maker by removing clusters with energy \n",
    "    less than TENERGY and sort in descending order in energy\"\"\"\n",
    "    \n",
    "    # compute total cluster energy\n",
    "    sid, sidx = tf.split(s, num_or_size_splits=[1,3], axis=1)\n",
    "    u, uid = tf.unique(tf.reshape(sid, [-1]), out_idx=sid.dtype)\n",
    "    ulen = tf.shape(u)[0]\n",
    "    uid = tf.reshape(tf.add(uid, 1), [-1,1])\n",
    "    s = tf.concat([uid, sidx], axis=1)\n",
    "    \n",
    "    s_sp = tf.SparseTensor(sidx, tf.reshape(uid, [-1,]), dense_shape=[HEIGHT, WIDTH, 2])\n",
    "    s_dense = tf.sparse.to_dense(tf.sparse.reorder(s_sp))\n",
    "    i0 = tf.constant(1, s_dense.dtype)\n",
    "    E0 = tf.constant([], m.dtype)\n",
    "    c = lambda i, E: tf.less(i, tf.cast(ulen+1, s_dense.dtype))\n",
    "    def b(i, E):\n",
    "        indices = tf.where(tf.equal(s_dense, i))\n",
    "        values = tf.gather_nd(m, indices)\n",
    "        Ei = tf.expand_dims(tf.reduce_sum(values), axis=0)\n",
    "        return [tf.add(i, 1), tf.concat([E, Ei], axis=0)]\n",
    "    _, E = tf.while_loop(c, b, loop_vars=[i0, E0], shape_invariants=[i0.get_shape(), tf.TensorShape([None, 1])])\n",
    "    print(\"total cluster energy\", E)\n",
    "    \n",
    "    # sort in descending order in energy and remove clusters with energy less than TENERGY\n",
    "    values, indices = tf.math.top_k(E, k=ulen)\n",
    "    indices = tf.cast(tf.add(indices, 1), s_dense.dtype)\n",
    "    indices = tf.boolean_mask(indices, tf.greater(values, TENERGY))\n",
    "    i0 = tf.constant(0)\n",
    "    p0 = tf.zeros_like(s_dense)\n",
    "    c = lambda i, p: tf.less(i, tf.shape(indices)[0])\n",
    "    def b(i, p):\n",
    "        ii = tf.gather(indices, i)\n",
    "        pnew = tf.add(p, tf.where(tf.equal(s_dense, ii), s_dense, tf.zeros_like(s_dense)))\n",
    "        return [tf.add(i, 1), pnew]\n",
    "    _, p = tf.while_loop(c, b, loop_vars=[i0, p0], shape_invariants=[i0.get_shape(), p0.get_shape()])\n",
    "    sidx = tf.where(tf.not_equal(p, 0))\n",
    "    sid = tf.expand_dims(tf.gather_nd(p, sidx), axis=1)\n",
    "    s = tf.concat([sid, sidx], axis=1)\n",
    "    \n",
    "    s = renumber_proto(s)\n",
    "    \n",
    "    return s"
   ]
  },
  {
   "cell_type": "markdown",
   "metadata": {},
   "source": [
    "### Cluster maker"
   ]
  },
  {
   "cell_type": "code",
   "execution_count": 16,
   "metadata": {},
   "outputs": [],
   "source": [
    "def cluster_maker(parsed):\n",
    "    print('hello')\n",
    "    image = parsed['image']\n",
    "    \n",
    "    seedlist = finding_seeds(image)\n",
    "    seedlist = finding_neighbors_maker(image, seedlist, seedlist)\n",
    "    seedlist = finalize_maker(image, seedlist)\n",
    "    \n",
    "    parsed['proto'] = seedlist \n",
    "    return parsed"
   ]
  },
  {
   "cell_type": "code",
   "execution_count": null,
   "metadata": {
    "scrolled": false
   },
   "outputs": [],
   "source": []
  },
  {
   "cell_type": "code",
   "execution_count": null,
   "metadata": {},
   "outputs": [],
   "source": []
  },
  {
   "cell_type": "code",
   "execution_count": 17,
   "metadata": {},
   "outputs": [
    {
     "name": "stdout",
     "output_type": "stream",
     "text": [
      "[[[0. 1.]\n",
      "  [0. 0.]\n",
      "  [0. 0.]]\n",
      "\n",
      " [[0. 0.]\n",
      "  [1. 0.]\n",
      "  [0. 0.]]\n",
      "\n",
      " [[0. 0.]\n",
      "  [0. 0.]\n",
      "  [1. 2.]]]\n"
     ]
    },
    {
     "ename": "NameError",
     "evalue": "name 'label' is not defined",
     "output_type": "error",
     "traceback": [
      "\u001b[0;31m---------------------------------------------------------------------------\u001b[0m",
      "\u001b[0;31mNameError\u001b[0m                                 Traceback (most recent call last)",
      "\u001b[0;32m<ipython-input-17-1c915d5e496d>\u001b[0m in \u001b[0;36m<module>\u001b[0;34m\u001b[0m\n\u001b[1;32m      6\u001b[0m \u001b[0mseed_mask\u001b[0m\u001b[0;34m[\u001b[0m\u001b[0;36m0\u001b[0m\u001b[0;34m,\u001b[0m\u001b[0;36m0\u001b[0m\u001b[0;34m,\u001b[0m\u001b[0;36m1\u001b[0m\u001b[0;34m]\u001b[0m \u001b[0;34m=\u001b[0m \u001b[0;36m1\u001b[0m\u001b[0;34m\u001b[0m\u001b[0m\n\u001b[1;32m      7\u001b[0m \u001b[0mprint\u001b[0m\u001b[0;34m(\u001b[0m\u001b[0mseed_mask\u001b[0m\u001b[0;34m)\u001b[0m\u001b[0;34m\u001b[0m\u001b[0m\n\u001b[0;32m----> 8\u001b[0;31m \u001b[0mprint\u001b[0m\u001b[0;34m(\u001b[0m\u001b[0mlabel\u001b[0m\u001b[0;34m(\u001b[0m\u001b[0mseed_mask\u001b[0m\u001b[0;34m,\u001b[0m \u001b[0mreturn_num\u001b[0m\u001b[0;34m=\u001b[0m\u001b[0;32mTrue\u001b[0m\u001b[0;34m,\u001b[0m \u001b[0mconnectivity\u001b[0m\u001b[0;34m=\u001b[0m\u001b[0;36m2\u001b[0m\u001b[0;34m)\u001b[0m\u001b[0;34m)\u001b[0m\u001b[0;34m\u001b[0m\u001b[0m\n\u001b[0m",
      "\u001b[0;31mNameError\u001b[0m: name 'label' is not defined"
     ]
    }
   ],
   "source": [
    "# test skimage.measure.label\n",
    "seed_mask = np.zeros([3,3,2])\n",
    "seed_mask[1,1,0] = 1\n",
    "seed_mask[2,2,0] = 1\n",
    "seed_mask[2,2,1] = 2\n",
    "seed_mask[0,0,1] = 1\n",
    "print(seed_mask)\n",
    "print(label(seed_mask, return_num=True, connectivity=2))"
   ]
  },
  {
   "cell_type": "markdown",
   "metadata": {},
   "source": [
    "## Cluster splitter"
   ]
  },
  {
   "cell_type": "markdown",
   "metadata": {},
   "source": [
    "The cluster maker is sufficient for isolated signals, but not for overlapping showers. If individual particles form local maxima they may still be separable. Acting on the clusters resulting from the cluster maker, this is what the cluster splitter does in the followning steps:\n",
    "\n",
    "* **Finding local maxima**: a local maxima is defined as a cell with: a) $E>t_\\text{locmax}$, b) energy greater than that of any neighboring cell, and c) number of neighboring cells withing the parent cluster $N>t_\\text{number}$ (default is $\\geq4$). Each local maximum forms a cluster and parent clusters without any local maximum cell will not be split.\n",
    "* **Finding neighbors**: the local maxima now becomes the initial seed list much like in cluster maker, except that only cells originally clustered are used, without thresholding and merging. Instead of merging, shared cells are added to a shared cell list to be handled separately.\n",
    "* **Shared cells**: the shared cell list is expanded iteratively adding neighbors from the originally clustered cells not yet assigned to any proto-cluster. Each of these are then added to the two adjoining proto-clusters with the weights $w_1=\\frac{E_{1}}{E_{1}+rE_{2}}, w_{2}=1-w_{1}, r=\\exp(d_{1}-d_{2})$, where $E_{1,2}$ are the energies of the two proto-clusters and $d_{1,2}$ are the distances of the shared cell to the proto-cluster centroids in units of a typical em shower scale.\n",
    "* **Finalize**:"
   ]
  },
  {
   "cell_type": "markdown",
   "metadata": {},
   "source": [
    "### Finding local maxima"
   ]
  },
  {
   "cell_type": "code",
   "execution_count": 19,
   "metadata": {},
   "outputs": [],
   "source": [
    "def finding_local_maxima(m, p):\n",
    "    \"\"\"Find local maxima cells by looping over protolist.\n",
    "    m: filtered image, x: local maxima\"\"\"\n",
    "    \n",
    "    # loop over protolist\n",
    "    i0 = tf.constant(0)\n",
    "    x = tf.zeros([0, 4], p.dtype)\n",
    "    c = lambda i, p, x: tf.less(i, tf.shape(p)[0])\n",
    "    def b(i, p, x):\n",
    "        pi = tf.gather(p, i)\n",
    "        piid, piidx = tf.split(pi, num_or_size_splits=[1,3], axis=0)\n",
    "        pval = tf.gather_nd(m, piidx)\n",
    "        midx = tf.where(tf.greater(m, 0))\n",
    "        nidx = neighbors(piidx, incl=midx)\n",
    "        m_val = tf.gather_nd(m, nidx)\n",
    "#         m_val = tf.boolean_mask(m_val, tf.greater(m_val, 0))\n",
    "\n",
    "        pred = tf.logical_and(tf.logical_and(tf.greater(pval, TLOCMAX), \n",
    "                                      tf.greater(pval, tf.math.reduce_max(m_val))),\n",
    "                                      tf.greater(m_val.get_shape()[0], TNUMBER))\n",
    "        r = tf.cond(pred, lambda: tf.expand_dims(pi, axis=0), lambda: tf.zeros([0, 4], pi.dtype))\n",
    "        \n",
    "        return [tf.add(i, 1), p, tf.concat([x, r], axis=0)]\n",
    "    \n",
    "    _, p, x = tf.while_loop(\n",
    "        c, b, loop_vars=[i0, p, x], \n",
    "        shape_invariants=[i0.get_shape(), p.get_shape(), tf.TensorShape([None, 4])])\n",
    "    \n",
    "    return x"
   ]
  },
  {
   "cell_type": "markdown",
   "metadata": {},
   "source": [
    "### Finding neighbors"
   ]
  },
  {
   "cell_type": "code",
   "execution_count": 20,
   "metadata": {},
   "outputs": [],
   "source": [
    "def is_shared(nj, p, siid):\n",
    "    nnj = neighbors(nj)\n",
    "    proto_id, proto_idx = tf.split(p, num_or_size_splits=[1,3], axis=1)\n",
    "    nnj_sp = tf.SparseTensor(nnj, tf.ones(tf.shape(nnj)[0], tf.bool), dense_shape=[HEIGHT, WIDTH, 2])\n",
    "    nnj_d = tf.sparse.to_dense(tf.sparse.reorder(nnj_sp))\n",
    "    proto_sp = tf.SparseTensor(proto_idx, tf.reshape(proto_id, [-1,]), dense_shape=[HEIGHT, WIDTH, 2])\n",
    "    proto_d = tf.sparse.to_dense(tf.sparse.reorder(proto_sp))\n",
    "    indices = tf.where(tf.logical_and(nnj_d, tf.not_equal(proto_d, 0)))\n",
    "    values = tf.gather_nd(proto_d, indices)\n",
    "    y, idx = tf.unique(values)\n",
    "    return [y, tf.equal(y.get_shape()[0], 2)]\n",
    "\n",
    "def bj_splitter(j, m, p, s, l, o, n, siid):\n",
    "    \"\"\"Body of while loop over neighbors\"\"\"\n",
    "    nj = tf.gather(n, j)\n",
    "    \n",
    "    ids, pred = is_shared(nj, p, siid)\n",
    "    \n",
    "    def true_fn():\n",
    "        nnew = tf.expand_dims(tf.concat([ids, nj], axis=0), axis=0)\n",
    "        onew = tf.concat([o, nnew], axis=0)\n",
    "        return [p, s, l, onew]\n",
    "    def false_fn():\n",
    "        nnew = tf.expand_dims(tf.concat([siid, nj], axis=0), axis=0)\n",
    "        pnew = tf.concat([p, nnew], axis=0)\n",
    "        lnew = tf.concat([l, nnew], axis=0)\n",
    "        return [pnew, s, lnew, o]\n",
    "\n",
    "    [pnew, snew, lnew, onew] = tf.cond(pred, true_fn, false_fn)\n",
    "        \n",
    "    return [tf.add(j, 1), m, pnew, snew, lnew, onew, n, siid]\n",
    "\n",
    "def bi_splitter(i, m, p, s, l, o):\n",
    "    \"\"\"Body of while loop over current seed list\"\"\"\n",
    "    si = tf.gather(s, i)\n",
    "    \n",
    "    # find neighbours not in protolist and only include cells originally clustered\n",
    "    siid, siidx = tf.split(si, num_or_size_splits=[1,3], axis=0)\n",
    "    _, pidx = tf.split(p, num_or_size_splits=[1,3], axis=1)\n",
    "    _, oidx = tf.split(o, num_or_size_splits=[2,3], axis=1)\n",
    "    midx = tf.where(tf.greater(m, 0))\n",
    "    \n",
    "    n = neighbors(siidx, excl=tf.concat([pidx, oidx], axis=0), incl=midx)\n",
    "    \n",
    "    # loop over neighbors\n",
    "    j0 = tf.constant(0)\n",
    "    cj = lambda j, m, p, s, l, o, n, siid: tf.less(j, n.get_shape()[0])\n",
    "    _, m, p, s, l, o, _, _ = tf.while_loop(\n",
    "        cj, bj_splitter, loop_vars=[j0, m, p, s, l, o, n, siid],\n",
    "        shape_invariants=[j0.get_shape(), m.get_shape(), tf.TensorShape([None, 4]),\n",
    "                          s.get_shape(), tf.TensorShape([None, 5]), tf.TensorShape([None, 4]),\n",
    "                          n.get_shape(), siid.get_shape()])\n",
    "    \n",
    "    return [tf.add(i, 1), m, p, s, l, o]\n",
    "\n",
    "def finding_neighbors_splitter(m, p, s, o):\n",
    "    \"\"\"Finding neighbors recursively until current seed list is empty.\n",
    "    m: image, p: protolist, s: seedlist, l: neighlist, n: neighbor, o: sharedlist\"\"\"\n",
    "    slen = tf.shape(s)[0]\n",
    "    \n",
    "    # sort current seed list in descending order\n",
    "    s = sorting_seedlist(s, slen, m)\n",
    "    \n",
    "    # loop over current seed list\n",
    "    i0, l0 = tf.constant(0), tf.zeros([0,4], tf.int64)\n",
    "    ci = lambda i, m, p, s, l, o: tf.less(i, slen)\n",
    "    _, m, pnew, s, lnew, onew = tf.while_loop(\n",
    "        ci, bi_splitter, loop_vars=[i0, m, p, s, l0, o],\n",
    "        shape_invariants=[i0.get_shape(), m.get_shape(), \n",
    "                          tf.TensorShape([None, 4]), s.get_shape(),\n",
    "                          tf.TensorShape([None, 4]), tf.TensorShape([None, 5])])\n",
    "    \n",
    "    # neighbor seed list becomes the new seed list\n",
    "    snew = lnew\n",
    "    \n",
    "    # repeated until current seed list is empty\n",
    "    def true_fn(): return finding_neighbors_splitter(m, pnew, snew, onew)\n",
    "    def false_fn(): return [pnew, onew]\n",
    "    [pnew, onew] = tf.cond(tf.not_equal(tf.size(snew), 0), true_fn, false_fn)\n",
    "    return [pnew, onew]"
   ]
  },
  {
   "cell_type": "markdown",
   "metadata": {},
   "source": [
    "### Shared cells"
   ]
  },
  {
   "cell_type": "code",
   "execution_count": 21,
   "metadata": {},
   "outputs": [],
   "source": [
    "def bj_shared(j, p, l, n, siid):\n",
    "    \"\"\"Body of while loop over neighbors\"\"\"\n",
    "    nj = tf.gather(n, j)\n",
    "    nnew = tf.expand_dims(tf.concat([siid, nj], axis=0), axis=0)\n",
    "    pnew = tf.concat([p, nnew], axis=0)\n",
    "    lnew = tf.concat([l, nnew], axis=0)\n",
    "    return [tf.add(j, 1), pnew, lnew, n, siid]\n",
    "\n",
    "def bi_shared(i, m, p, s, l):\n",
    "    \"\"\"Body of while loop over current seed list\"\"\"\n",
    "    si = tf.gather(s, i)\n",
    "    \n",
    "    # find neighbours not in protolist and only include cells originally clustered\n",
    "    siid, siidx = tf.split(si, num_or_size_splits=[2,3], axis=0)\n",
    "    _, pidx = tf.split(p, num_or_size_splits=[2,3], axis=1)\n",
    "    midx = tf.where(m)\n",
    "    \n",
    "    n = neighbors(siidx, excl=pidx, incl=midx)\n",
    "    \n",
    "    # loop over neighbors\n",
    "    j0 = tf.constant(0)\n",
    "    cj = lambda j, p, l, n, siid: tf.less(j, n.get_shape()[0])\n",
    "    _, p, l, _, _ = tf.while_loop(\n",
    "        cj, bj_shared, loop_vars=[j0, p, l, n, siid],\n",
    "        shape_invariants=[j0.get_shape(), tf.TensorShape([None, 5]), tf.TensorShape([None, 5]),\n",
    "                          n.get_shape(), siid.get_shape()])\n",
    "    \n",
    "    return [tf.add(i, 1), m, p, s, l]\n",
    "\n",
    "def expand_sharedlist(m, p, s):\n",
    "    # loop over current seed list\n",
    "    i0, l0 = tf.constant(0), tf.zeros([0,5], s.dtype)\n",
    "    ci = lambda i, m, p, s, l: tf.less(i, s.get_shape()[0])\n",
    "    _, _, pnew, s, lnew = tf.while_loop(\n",
    "        ci, bi_shared, loop_vars=[i0, m, p, s, l0],\n",
    "        shape_invariants=[i0.get_shape(), m.get_shape(), tf.TensorShape([None, 5]), \n",
    "                          s.get_shape(), tf.TensorShape([None, 5])])\n",
    "    \n",
    "    # neighbor seed list becomes the new seed list\n",
    "    snew = lnew\n",
    "    \n",
    "    # repeated until current seed list is empty\n",
    "    def true_fn(): return expand_sharedlist(m, pnew, snew)\n",
    "    def false_fn(): return pnew\n",
    "    slen = snew.get_shape()[0]\n",
    "    pnew = tf.cond(tf.greater(slen, 0), true_fn, false_fn)\n",
    "    return pnew"
   ]
  },
  {
   "cell_type": "markdown",
   "metadata": {},
   "source": [
    "### Finalize cluster splitter"
   ]
  },
  {
   "cell_type": "code",
   "execution_count": 22,
   "metadata": {},
   "outputs": [],
   "source": [
    "def finalize_splitter(m, p, o):\n",
    "    pid, pidx = tf.split(p, num_or_size_splits=[1,3], axis=1)\n",
    "    pval = tf.gather_nd(m, pidx)\n",
    "    psp = tf.SparseTensor(pidx, tf.reshape(pid, [-1,]), dense_shape=[HEIGHT, WIDTH, 2])\n",
    "    pd = tf.sparse.to_dense(tf.sparse.reorder(psp))\n",
    "    pnew = tf.concat([tf.cast(pid, pval.dtype), tf.cast(pidx, pval.dtype), tf.expand_dims(pval, axis=1)], axis=1)\n",
    "    \n",
    "    y = tf.unique(tf.reshape(pid, [-1,]))[0]\n",
    "    print(\"unique pid\", y)\n",
    "    \n",
    "    i0, com0, E0 = tf.constant(0), tf.zeros([0, 3], m.dtype), tf.zeros([0, 1], m.dtype)\n",
    "    ci = lambda i, com, E: tf.less(i, y.get_shape()[0])\n",
    "    def bi(i, com, E):\n",
    "        yi = tf.gather(y, i)\n",
    "        indices = tf.where(tf.equal(pd, yi))\n",
    "        values = tf.expand_dims(tf.gather_nd(m, indices), axis=1)\n",
    "        indices = tf.cast(indices, values.dtype)\n",
    "        comi = tf.reduce_sum(tf.multiply(indices, values), axis=0)\n",
    "        Ei = tf.reduce_sum(values)\n",
    "        comi = tf.divide(comi, Ei)\n",
    "        comi = tf.expand_dims(comi, axis=0)\n",
    "        Ei = tf.reshape(Ei, [-1,1])\n",
    "        return [tf.add(i, 1), tf.concat([com, comi], axis=0), tf.concat([E, Ei], axis=0)]\n",
    "    _, com, E = tf.while_loop(\n",
    "        ci, bi, loop_vars=[i0, com0, E0],\n",
    "        shape_invariants=[i0.get_shape(), tf.TensorShape([None, 3]), tf.TensorShape([None, 1])])\n",
    "    print(com, E)\n",
    "    \n",
    "    j0, l0 = tf.constant(0), tf.zeros([0, 5], m.dtype)\n",
    "    cj = lambda j, l: tf.less(j, o.get_shape()[0])\n",
    "    def bj(j, l):\n",
    "        oj = tf.gather(o, j)\n",
    "        a, b, ojidx = tf.split(oj, num_or_size_splits=[1,1,3], axis=0)\n",
    "        oval = tf.expand_dims(tf.gather_nd(m, ojidx), axis=0)\n",
    "        ojidx = tf.cast(ojidx, com.dtype)\n",
    "        amask = tf.equal(y, a)\n",
    "        bmask = tf.equal(y, b)\n",
    "        acom = tf.reshape(tf.boolean_mask(com, amask), [-1,])\n",
    "        bcom = tf.reshape(tf.boolean_mask(com, bmask), [-1,])\n",
    "        d1 = tf.sqrt(tf.reduce_sum(tf.math.squared_difference(ojidx, acom))) / moliereRadius\n",
    "        d2 = tf.sqrt(tf.reduce_sum(tf.math.squared_difference(ojidx, bcom))) / moliereRadius\n",
    "        # missing in units of !\n",
    "        r = tf.exp(tf.subtract(d1, d2))\n",
    "        E1 = tf.boolean_mask(E, amask)\n",
    "        E2 = tf.boolean_mask(E, bmask)\n",
    "        w1 = tf.reshape(tf.divide(E1, tf.add(E1, tf.multiply(r, E2))), [-1,])\n",
    "        w2 = tf.subtract(1, w1)\n",
    "        la = tf.expand_dims(tf.concat([tf.cast(a, com.dtype), ojidx, tf.multiply(w1, oval)], axis=0), axis=0)\n",
    "        lb = tf.expand_dims(tf.concat([tf.cast(b, com.dtype), ojidx, tf.multiply(w2, oval)], axis=0), axis=0)\n",
    "        return [tf.add(j, 1), tf.concat([l, la, lb], axis=0)]\n",
    "    _, lnew = tf.while_loop(\n",
    "        cj, bj, loop_vars=[j0, l0],\n",
    "        shape_invariants=[j0.get_shape(), tf.TensorShape([None, 5])])\n",
    "\n",
    "    pnew = tf.concat([pnew, lnew], axis=0)\n",
    "\n",
    "    # sort in descending order in energy \n",
    "    indices = tf.reshape(tf.cast(tf.math.top_k(tf.reshape(E, [1, -1]), k=E.get_shape()[0])[1], o.dtype), [-1,])\n",
    "#     print(y, indices)\n",
    "    \n",
    "    k0, p0 = tf.constant(0), tf.zeros([0, 5], pnew.dtype)\n",
    "    ck = lambda k, p: tf.less(k, pnew.get_shape()[0])\n",
    "    def bk(k, p):\n",
    "        pk = tf.gather(pnew, k)\n",
    "        pkid, pkidx = tf.split(pk, num_or_size_splits=[1,4], axis=0)\n",
    "        yidx = tf.reshape(tf.where(tf.equal(y, tf.cast(pkid, y.dtype))), [-1,])\n",
    "        pkid = tf.cast(tf.add(tf.where(tf.equal(indices, yidx)), 1), pkidx.dtype)\n",
    "        pknew = tf.concat([pkid, tf.expand_dims(pkidx, axis=0)], axis=1)\n",
    "        return [tf.add(k, 1), tf.concat([p, pknew], axis=0)]\n",
    "    pnew = tf.while_loop(ck, bk, [k0, p0])[1]\n",
    "    \n",
    "    return pnew"
   ]
  },
  {
   "cell_type": "markdown",
   "metadata": {},
   "source": [
    "### Cluster splitter"
   ]
  },
  {
   "cell_type": "code",
   "execution_count": 23,
   "metadata": {},
   "outputs": [],
   "source": [
    "def cluster_splitter(parsed):    \n",
    "    proto = parsed['proto']\n",
    "    image = parsed['image']\n",
    "#     image = tf.constant(image)\n",
    "    \n",
    "    # filter image with protolist\n",
    "    proto_id, proto_idx = tf.split(proto, num_or_size_splits=[1,3], axis=1)\n",
    "    proto_val = tf.gather_nd(image, proto_idx)\n",
    "    image_sp = tf.SparseTensor(proto_idx, proto_val, dense_shape=[HEIGHT, WIDTH, 2])\n",
    "    image_d = tf.sparse.to_dense(tf.sparse.reorder(image_sp))\n",
    "    \n",
    "    locmax = finding_local_maxima(image_d, proto)\n",
    "    \n",
    "    # create seed list from local maxima\n",
    "    _, locmax_idx = tf.split(locmax, num_or_size_splits=[1,3], axis=1)\n",
    "    proto_sp = tf.SparseTensor(proto_idx, tf.reshape(proto_id, [-1,]), dense_shape=[HEIGHT, WIDTH, 2])\n",
    "    proto_d = tf.sparse.to_dense(tf.sparse.reorder(proto_sp))\n",
    "    start = tf.add(tf.reduce_max(proto_id), 1)\n",
    "    limit = start + locmax.get_shape()[0]\n",
    "    locmax_id = tf.expand_dims(tf.range(start, limit, dtype=locmax.dtype), axis=1)\n",
    "    seedlist = tf.concat([locmax_id, locmax_idx], axis=1)\n",
    "    sharedlist = tf.zeros([0,5], tf.int64)\n",
    "    \n",
    "    [protolist, sharedlist] = finding_neighbors_splitter(image_d, seedlist, seedlist, sharedlist)\n",
    "    \n",
    "    # originally clustered cells not in protolist\n",
    "    protolist_id, protolist_idx = tf.split(protolist, num_or_size_splits=[1,3], axis=1)\n",
    "    protolist_sp = tf.SparseTensor(protolist_idx, tf.reshape(protolist_id, [-1,]), dense_shape=[HEIGHT, WIDTH, 2])\n",
    "    protolist_d = tf.sparse.to_dense(tf.sparse.reorder(protolist_sp))\n",
    "    mask = tf.logical_and(tf.cast(proto_d, tf.bool), tf.logical_not(tf.cast(protolist_d, tf.bool)))\n",
    "    \n",
    "    sharedlist = expand_sharedlist(mask, sharedlist, sharedlist)\n",
    "    \n",
    "    # add parent clusters without a local maximum\n",
    "    mask = tf.logical_and(tf.cast(proto_d, tf.bool), tf.cast(protolist_d, tf.bool))\n",
    "    proto_y = tf.expand_dims(tf.unique(tf.reshape(proto_id, [-1,]))[0], axis=0)\n",
    "    proto_masked_y = tf.expand_dims(tf.unique(tf.boolean_mask(proto_d, mask))[0], axis=0)\n",
    "    other = tf.sparse.to_dense(tf.sets.difference(proto_y, proto_masked_y))\n",
    "\n",
    "    other = tf.reshape(other, [-1,1])\n",
    "    \n",
    "    if tf.not_equal(tf.size(other), 0):\n",
    "        i = tf.constant(0)\n",
    "        c = lambda i, p: tf.less(i, tf.shape(other)[0])\n",
    "        def b(i, p): \n",
    "            otheri = tf.gather(other, i)\n",
    "            p = tf.where(tf.equal(proto_d, otheri), proto_d, p) \n",
    "            return [tf.add(i, 1), p]\n",
    "        protolist_d = tf.while_loop(c, b, [i, protolist_d])[1]\n",
    "        pidx = tf.where(protolist_d)\n",
    "        pid = tf.expand_dims(tf.gather_nd(protolist_d, pidx), axis=1)\n",
    "        protolist = tf.concat([pid, pidx], axis=1)\n",
    "    \n",
    "    cluster = finalize_splitter(image_d, protolist, sharedlist)\n",
    "        \n",
    "    parsed['cluster'] = cluster\n",
    "    \n",
    "    return parsed"
   ]
  },
  {
   "cell_type": "code",
   "execution_count": null,
   "metadata": {},
   "outputs": [],
   "source": []
  },
  {
   "cell_type": "code",
   "execution_count": null,
   "metadata": {},
   "outputs": [],
   "source": []
  },
  {
   "cell_type": "code",
   "execution_count": 24,
   "metadata": {},
   "outputs": [],
   "source": [
    "def scalar_features(parsed):\n",
    "    cluster = parsed['cluster']\n",
    "    \n",
    "    cid, cidx, cval = tf.split(cluster, num_or_size_splits=[1,3,1], axis=1)    \n",
    "    y = tf.unique(tf.reshape(cid, [-1,]))[0]\n",
    "    print(\"unique pid\", y)\n",
    "    \n",
    "    i0 = tf.constant(0)\n",
    "    z0 = tf.zeros([0, 8], cluster.dtype)\n",
    "    c = lambda i, z: tf.less(i, tf.size(y))\n",
    "    def bi(i, z):\n",
    "        yi = tf.gather(y, i)\n",
    "        cid_indices = tf.where(tf.equal(tf.reshape(cid, [-1,]), yi))\n",
    "        values = tf.gather_nd(cval, cid_indices)\n",
    "        indices = tf.reshape(tf.gather(cidx, cid_indices), [-1,3])\n",
    "        cij, ck = tf.split(indices, num_or_size_splits=[2,1], axis=1)\n",
    "        com = tf.reduce_sum(tf.multiply(cij, values), axis=0, keepdims=True)/tf.reduce_sum(values)\n",
    "        \n",
    "        S_indices = tf.where(tf.equal(tf.reshape(ck, [-1,]), 0))\n",
    "        S_values = tf.gather_nd(values, S_indices)\n",
    "        S_cij = tf.reshape(tf.gather(cij, S_indices), [-1,2])\n",
    "        S_sum = tf.reduce_sum(S_values, keepdims=True)\n",
    "        S_max = tf.reduce_max(S_values)\n",
    "        S_hot = S_max/S_sum\n",
    "        S_com = tf.reduce_sum(tf.multiply(S_cij, S_values), axis=0)/tf.reduce_sum(S_values)\n",
    "        S_rad = tf.sqrt(tf.reduce_sum(tf.pow(S_cij-S_com, 2), axis=1, keepdims=True))\n",
    "        S_rad_mean = tf.reduce_sum(tf.multiply(S_rad, S_values), axis=0, keepdims=True)/tf.reduce_sum(S_values)\n",
    "        \n",
    "        C_indices = tf.where(tf.equal(tf.reshape(ck, [-1,]), 1))\n",
    "        C_values = tf.gather_nd(values, C_indices)\n",
    "        C_cij = tf.reshape(tf.gather(cij, C_indices), [-1,2])\n",
    "        C_sum = tf.reduce_sum(C_values, keepdims=True)\n",
    "        C_max = tf.reduce_max(C_values)\n",
    "        C_hot = C_max/C_sum\n",
    "        C_com = tf.reduce_sum(tf.multiply(C_cij, C_values), axis=0)/tf.reduce_sum(C_values)\n",
    "        C_rad = tf.sqrt(tf.reduce_sum(tf.pow(C_cij-C_com, 2), axis=1, keepdims=True))\n",
    "        C_rad_mean = tf.reduce_sum(tf.multiply(C_rad, C_values), axis=0, keepdims=True)/tf.reduce_sum(C_values)\n",
    "     \n",
    "        zi = tf.concat([com, S_sum, S_rad_mean, S_hot, C_sum, C_rad_mean, C_hot], axis=1)\n",
    "        \n",
    "        return [tf.add(i, 1), tf.concat([z, zi], axis=0)]\n",
    "    _, z = tf.while_loop(c, bi,\n",
    "                         loop_vars=[i0, z0],\n",
    "                         shape_invariants=[i0.get_shape(), tf.TensorShape([None, 8])])\n",
    "    parsed['scalar'] = z\n",
    "    return parsed"
   ]
  },
  {
   "cell_type": "markdown",
   "metadata": {},
   "source": [
    "## Run"
   ]
  },
  {
   "cell_type": "markdown",
   "metadata": {},
   "source": [
    "## Toy example"
   ]
  },
  {
   "cell_type": "code",
   "execution_count": 20,
   "metadata": {},
   "outputs": [],
   "source": [
    "HEIGHT = 20\n",
    "WIDTH = 20\n",
    "TENERGY = 10e3\n",
    "TLOCMAX = 100\n",
    "TNUMBER = 3\n",
    "# good values to test if recursive function works\n",
    "TSEED = tf.constant(1000, tf.float32)  # tf.constant([300.], tf.float32)\n",
    "TNEIGHBOR = tf.constant(100., tf.float32)\n",
    "TCELL = tf.constant(50., tf.float32)"
   ]
  },
  {
   "cell_type": "code",
   "execution_count": 21,
   "metadata": {},
   "outputs": [
    {
     "data": {
      "text/plain": [
       "(20, 20, 2)"
      ]
     },
     "execution_count": 21,
     "metadata": {},
     "output_type": "execute_result"
    },
    {
     "data": {
      "image/png": "[encoded data removed]",
      "text/plain": [
       "<Figure size 432x288 with 1 Axes>"
      ]
     },
     "metadata": {
      "needs_background": "light"
     },
     "output_type": "display_data"
    }
   ],
   "source": [
    "import numpy as np\n",
    "import matplotlib.pyplot as plt \n",
    "X = np.vstack((np.random.multivariate_normal(mean=[2+2,3+2], cov=[[1,0],[0,1]], size=10000),\n",
    "               np.random.multivariate_normal(mean=[2+2,7+2], cov=[[0.7,0],[0,1]], size=10000),\n",
    "               np.random.multivariate_normal(mean=[8+2,4+2], cov=[[1,0],[0,1]], size=10000),\n",
    "               np.random.multivariate_normal(mean=[15,15], cov=[[1,0],[0,1]], size=15000)))\n",
    "A = plt.hist2d(X[:,0], X[:,1], bins=HEIGHT, range=[[0, HEIGHT], [0, WIDTH]])[0]\n",
    "# plt.imshow(A)\n",
    "# B = A[..., np.newaxis]\n",
    "A[:2,6] = 1.5*TNEIGHBOR\n",
    "A[0,7:9] = 1.5*TCELL\n",
    "A[1,5] = 0\n",
    "A[3,16] = 20*TSEED\n",
    "\n",
    "B = np.stack((A,0.5*A), axis=-1).astype(np.float32)\n",
    "np.shape(B)"
   ]
  },
  {
   "cell_type": "code",
   "execution_count": 22,
   "metadata": {},
   "outputs": [
    {
     "data": {
      "image/png": "[encoded data removed]",
      "text/plain": [
       "<Figure size 432x288 with 1 Axes>"
      ]
     },
     "metadata": {
      "needs_background": "light"
     },
     "output_type": "display_data"
    },
    {
     "data": {
      "image/png": "[encoded data removed]",
      "text/plain": [
       "<Figure size 432x288 with 1 Axes>"
      ]
     },
     "metadata": {
      "needs_background": "light"
     },
     "output_type": "display_data"
    },
    {
     "data": {
      "image/png": "[encoded data removed]",
      "text/plain": [
       "<Figure size 432x288 with 1 Axes>"
      ]
     },
     "metadata": {
      "needs_background": "light"
     },
     "output_type": "display_data"
    },
    {
     "data": {
      "image/png": "[encoded data removed]",
      "text/plain": [
       "<Figure size 432x288 with 1 Axes>"
      ]
     },
     "metadata": {
      "needs_background": "light"
     },
     "output_type": "display_data"
    }
   ],
   "source": [
    "plt.imshow(A > TSEED)\n",
    "plt.show()\n",
    "plt.imshow(A > TNEIGHBOR)\n",
    "plt.show()\n",
    "plt.imshow(A > TCELL)\n",
    "plt.show()\n",
    "plt.imshow((A > TCELL) & (A <= TNEIGHBOR))\n",
    "plt.show()"
   ]
  },
  {
   "cell_type": "code",
   "execution_count": 23,
   "metadata": {},
   "outputs": [
    {
     "name": "stdout",
     "output_type": "stream",
     "text": [
      "hello\n",
      "total cluster energy tf.Tensor([29483.5 30000.  14282.5 21837.5], shape=(4,), dtype=float32)\n"
     ]
    }
   ],
   "source": [
    "output = cluster_maker({'image': tf.constant(B)})"
   ]
  },
  {
   "cell_type": "code",
   "execution_count": 24,
   "metadata": {},
   "outputs": [
    {
     "data": {
      "text/plain": [
       "<matplotlib.image.AxesImage at 0x7f30f803a860>"
      ]
     },
     "execution_count": 24,
     "metadata": {},
     "output_type": "execute_result"
    },
    {
     "data": {
      "image/png": "[encoded data removed]",
      "text/plain": [
       "<Figure size 432x288 with 1 Axes>"
      ]
     },
     "metadata": {
      "needs_background": "light"
     },
     "output_type": "display_data"
    }
   ],
   "source": [
    "A = output['proto'].numpy()\n",
    "# print(A)\n",
    "# A = A[...,1:]\n",
    "A1 = A[A[...,3] == 0][...,:3]\n",
    "A2 = A[A[...,3] == 1][...,:3]\n",
    "# A1 = np.unique(A1, axis=0)\n",
    "# A2 = np.unique(A2, axis=0)\n",
    "# print(A1)\n",
    "\n",
    "sp = tf.SparseTensor(A1[...,1:3], A1[...,0], dense_shape=[HEIGHT,WIDTH])\n",
    "A1_dense = tf.sparse.to_dense(tf.sparse.reorder(sp))\n",
    "plt.imshow(A1_dense)"
   ]
  },
  {
   "cell_type": "code",
   "execution_count": 25,
   "metadata": {},
   "outputs": [
    {
     "data": {
      "text/plain": [
       "<matplotlib.image.AxesImage at 0x7f30dc0d8208>"
      ]
     },
     "execution_count": 25,
     "metadata": {},
     "output_type": "execute_result"
    },
    {
     "data": {
      "image/png": "[encoded data removed]",
      "text/plain": [
       "<Figure size 432x288 with 1 Axes>"
      ]
     },
     "metadata": {
      "needs_background": "light"
     },
     "output_type": "display_data"
    }
   ],
   "source": [
    "sp = tf.SparseTensor(A2[...,1:3], A2[...,0], dense_shape=[HEIGHT,WIDTH])\n",
    "A2_dense = tf.sparse.to_dense(tf.sparse.reorder(sp))\n",
    "plt.imshow(A2_dense)"
   ]
  },
  {
   "cell_type": "code",
   "execution_count": 26,
   "metadata": {},
   "outputs": [],
   "source": [
    "# output2['cluster']"
   ]
  },
  {
   "cell_type": "code",
   "execution_count": 65,
   "metadata": {},
   "outputs": [
    {
     "name": "stdout",
     "output_type": "stream",
     "text": [
      "unique pid tf.Tensor([5 6 2 7 8], shape=(5,), dtype=int64)\n",
      "tf.Tensor(\n",
      "[[ 3.4898314   4.2097316   0.32667914]\n",
      " [ 3.5071795   8.490564    0.32950428]\n",
      " [ 3.         16.          0.33333334]\n",
      " [ 9.485279    5.5087347   0.31930685]\n",
      " [14.502759   14.492524    0.33105895]], shape=(5, 3), dtype=float32) tf.Tensor(\n",
      "[[12022.5]\n",
      " [14625. ]\n",
      " [30000. ]\n",
      " [14282.5]\n",
      " [21837.5]], shape=(5, 1), dtype=float32)\n"
     ]
    }
   ],
   "source": [
    "# output = cluster_maker({'image': B})\n",
    "output2 = cluster_splitter(output)\n",
    "# output2"
   ]
  },
  {
   "cell_type": "code",
   "execution_count": 129,
   "metadata": {},
   "outputs": [
    {
     "name": "stdout",
     "output_type": "stream",
     "text": [
      "unique pid tf.Tensor([5. 3. 1. 4. 2.], shape=(5,), dtype=float32)\n",
      "tf.Tensor(\n",
      "[[3.4496627e+00 4.4215016e+00 9.2662236e+03 1.2473638e+00 1.3036594e-01\n",
      "  4.4487427e+03 1.2473638e+00 1.3576870e-01]\n",
      " [3.4574542e+00 8.3192425e+00 1.0556261e+04 1.2817619e+00 1.3186488e-01\n",
      "  5.1717573e+03 1.2817619e+00 1.3457708e-01]\n",
      " [3.0000000e+00 1.6000000e+01 2.0000000e+04 0.0000000e+00 1.0000000e+00\n",
      "  1.0000000e+04 0.0000000e+00 1.0000000e+00]\n",
      " [9.4754200e+00 5.5061436e+00 9.7625146e+03 1.2646787e+00 1.2906511e-01\n",
      "  4.5605000e+03 1.2646787e+00 1.3814275e-01]\n",
      " [1.4502759e+01 1.4492524e+01 1.4608000e+04 1.2610956e+00 1.2219332e-01\n",
      "  7.2295000e+03 1.2610956e+00 1.2345252e-01]], shape=(5, 8), dtype=float32)\n"
     ]
    }
   ],
   "source": [
    "scalar_features(output2)"
   ]
  },
  {
   "cell_type": "code",
   "execution_count": 123,
   "metadata": {},
   "outputs": [
    {
     "data": {
      "text/plain": [
       "<matplotlib.image.AxesImage at 0x7f30540d9ef0>"
      ]
     },
     "execution_count": 123,
     "metadata": {},
     "output_type": "execute_result"
    },
    {
     "data": {
      "image/png": "[encoded data removed]",
      "text/plain": [
       "<Figure size 432x288 with 1 Axes>"
      ]
     },
     "metadata": {
      "needs_background": "light"
     },
     "output_type": "display_data"
    }
   ],
   "source": [
    "C = output2['cluster'].numpy()\n",
    "# plt.\n",
    "# print(A)\n",
    "# A = A[...,1:]\n",
    "C1 = C[C[...,3] == 0][...,:3]\n",
    "C2 = C[C[...,3] == 1][...,:3]\n",
    "C1 = C1[C1[...,0] == 1]\n",
    "# C1 = np.unique(C1, axis=0)\n",
    "# C2 = np.unique(C2, axis=0)\n",
    "# print(A1)\n",
    "\n",
    "sp = tf.SparseTensor(C1[...,1:3], C1[...,0], dense_shape=[HEIGHT,WIDTH])\n",
    "C1_dense = tf.sparse.to_dense(tf.sparse.reorder(sp))\n",
    "plt.imshow(C1_dense)"
   ]
  },
  {
   "cell_type": "code",
   "execution_count": 136,
   "metadata": {},
   "outputs": [
    {
     "ename": "InvalidArgumentError",
     "evalue": "indices[9] = [2,7] is repeated [Op:SparseToDense]",
     "output_type": "error",
     "traceback": [
      "\u001b[0;31m---------------------------------------------------------------------------\u001b[0m",
      "\u001b[0;31mInvalidArgumentError\u001b[0m                      Traceback (most recent call last)",
      "\u001b[0;32m<ipython-input-136-79345d7226d8>\u001b[0m in \u001b[0;36m<module>\u001b[0;34m\u001b[0m\n\u001b[1;32m      9\u001b[0m \u001b[0;34m\u001b[0m\u001b[0m\n\u001b[1;32m     10\u001b[0m \u001b[0msp\u001b[0m \u001b[0;34m=\u001b[0m \u001b[0mtf\u001b[0m\u001b[0;34m.\u001b[0m\u001b[0mSparseTensor\u001b[0m\u001b[0;34m(\u001b[0m\u001b[0mC1\u001b[0m\u001b[0;34m[\u001b[0m\u001b[0;34m...\u001b[0m\u001b[0;34m,\u001b[0m\u001b[0;36m1\u001b[0m\u001b[0;34m:\u001b[0m\u001b[0;36m3\u001b[0m\u001b[0;34m]\u001b[0m\u001b[0;34m,\u001b[0m \u001b[0mC1\u001b[0m\u001b[0;34m[\u001b[0m\u001b[0;34m...\u001b[0m\u001b[0;34m,\u001b[0m\u001b[0;36m0\u001b[0m\u001b[0;34m]\u001b[0m\u001b[0;34m,\u001b[0m \u001b[0mdense_shape\u001b[0m\u001b[0;34m=\u001b[0m\u001b[0;34m[\u001b[0m\u001b[0mHEIGHT\u001b[0m\u001b[0;34m,\u001b[0m\u001b[0mWIDTH\u001b[0m\u001b[0;34m]\u001b[0m\u001b[0;34m)\u001b[0m\u001b[0;34m\u001b[0m\u001b[0m\n\u001b[0;32m---> 11\u001b[0;31m \u001b[0mC1_dense\u001b[0m \u001b[0;34m=\u001b[0m \u001b[0mtf\u001b[0m\u001b[0;34m.\u001b[0m\u001b[0msparse\u001b[0m\u001b[0;34m.\u001b[0m\u001b[0mto_dense\u001b[0m\u001b[0;34m(\u001b[0m\u001b[0mtf\u001b[0m\u001b[0;34m.\u001b[0m\u001b[0msparse\u001b[0m\u001b[0;34m.\u001b[0m\u001b[0mreorder\u001b[0m\u001b[0;34m(\u001b[0m\u001b[0msp\u001b[0m\u001b[0;34m)\u001b[0m\u001b[0;34m)\u001b[0m\u001b[0;34m\u001b[0m\u001b[0m\n\u001b[0m\u001b[1;32m     12\u001b[0m \u001b[0mplt\u001b[0m\u001b[0;34m.\u001b[0m\u001b[0mimshow\u001b[0m\u001b[0;34m(\u001b[0m\u001b[0mC1_dense\u001b[0m\u001b[0;34m)\u001b[0m\u001b[0;34m\u001b[0m\u001b[0m\n",
      "\u001b[0;32m~/.local/lib/python3.6/site-packages/tensorflow/python/ops/sparse_ops.py\u001b[0m in \u001b[0;36msparse_tensor_to_dense\u001b[0;34m(sp_input, default_value, validate_indices, name)\u001b[0m\n\u001b[1;32m   1498\u001b[0m       \u001b[0mdefault_value\u001b[0m\u001b[0;34m=\u001b[0m\u001b[0mdefault_value\u001b[0m\u001b[0;34m,\u001b[0m\u001b[0;34m\u001b[0m\u001b[0m\n\u001b[1;32m   1499\u001b[0m       \u001b[0mvalidate_indices\u001b[0m\u001b[0;34m=\u001b[0m\u001b[0mvalidate_indices\u001b[0m\u001b[0;34m,\u001b[0m\u001b[0;34m\u001b[0m\u001b[0m\n\u001b[0;32m-> 1500\u001b[0;31m       name=name)\n\u001b[0m\u001b[1;32m   1501\u001b[0m \u001b[0;34m\u001b[0m\u001b[0m\n\u001b[1;32m   1502\u001b[0m \u001b[0;34m\u001b[0m\u001b[0m\n",
      "\u001b[0;32m~/.local/lib/python3.6/site-packages/tensorflow/python/ops/gen_sparse_ops.py\u001b[0m in \u001b[0;36msparse_to_dense\u001b[0;34m(sparse_indices, output_shape, sparse_values, default_value, validate_indices, name)\u001b[0m\n\u001b[1;32m   2860\u001b[0m         \u001b[0;32mpass\u001b[0m  \u001b[0;31m# Add nodes to the TensorFlow graph.\u001b[0m\u001b[0;34m\u001b[0m\u001b[0m\n\u001b[1;32m   2861\u001b[0m     \u001b[0;32mexcept\u001b[0m \u001b[0m_core\u001b[0m\u001b[0;34m.\u001b[0m\u001b[0m_NotOkStatusException\u001b[0m \u001b[0;32mas\u001b[0m \u001b[0me\u001b[0m\u001b[0;34m:\u001b[0m\u001b[0;34m\u001b[0m\u001b[0m\n\u001b[0;32m-> 2862\u001b[0;31m       \u001b[0m_ops\u001b[0m\u001b[0;34m.\u001b[0m\u001b[0mraise_from_not_ok_status\u001b[0m\u001b[0;34m(\u001b[0m\u001b[0me\u001b[0m\u001b[0;34m,\u001b[0m \u001b[0mname\u001b[0m\u001b[0;34m)\u001b[0m\u001b[0;34m\u001b[0m\u001b[0m\n\u001b[0m\u001b[1;32m   2863\u001b[0m   \u001b[0;31m# Add nodes to the TensorFlow graph.\u001b[0m\u001b[0;34m\u001b[0m\u001b[0;34m\u001b[0m\u001b[0m\n\u001b[1;32m   2864\u001b[0m   \u001b[0;32mif\u001b[0m \u001b[0mvalidate_indices\u001b[0m \u001b[0;32mis\u001b[0m \u001b[0;32mNone\u001b[0m\u001b[0;34m:\u001b[0m\u001b[0;34m\u001b[0m\u001b[0m\n",
      "\u001b[0;32m~/.local/lib/python3.6/site-packages/tensorflow/python/framework/ops.py\u001b[0m in \u001b[0;36mraise_from_not_ok_status\u001b[0;34m(e, name)\u001b[0m\n\u001b[1;32m   6651\u001b[0m   \u001b[0mmessage\u001b[0m \u001b[0;34m=\u001b[0m \u001b[0me\u001b[0m\u001b[0;34m.\u001b[0m\u001b[0mmessage\u001b[0m \u001b[0;34m+\u001b[0m \u001b[0;34m(\u001b[0m\u001b[0;34m\" name: \"\u001b[0m \u001b[0;34m+\u001b[0m \u001b[0mname\u001b[0m \u001b[0;32mif\u001b[0m \u001b[0mname\u001b[0m \u001b[0;32mis\u001b[0m \u001b[0;32mnot\u001b[0m \u001b[0;32mNone\u001b[0m \u001b[0;32melse\u001b[0m \u001b[0;34m\"\"\u001b[0m\u001b[0;34m)\u001b[0m\u001b[0;34m\u001b[0m\u001b[0m\n\u001b[1;32m   6652\u001b[0m   \u001b[0;31m# pylint: disable=protected-access\u001b[0m\u001b[0;34m\u001b[0m\u001b[0;34m\u001b[0m\u001b[0m\n\u001b[0;32m-> 6653\u001b[0;31m   \u001b[0msix\u001b[0m\u001b[0;34m.\u001b[0m\u001b[0mraise_from\u001b[0m\u001b[0;34m(\u001b[0m\u001b[0mcore\u001b[0m\u001b[0;34m.\u001b[0m\u001b[0m_status_to_exception\u001b[0m\u001b[0;34m(\u001b[0m\u001b[0me\u001b[0m\u001b[0;34m.\u001b[0m\u001b[0mcode\u001b[0m\u001b[0;34m,\u001b[0m \u001b[0mmessage\u001b[0m\u001b[0;34m)\u001b[0m\u001b[0;34m,\u001b[0m \u001b[0;32mNone\u001b[0m\u001b[0;34m)\u001b[0m\u001b[0;34m\u001b[0m\u001b[0m\n\u001b[0m\u001b[1;32m   6654\u001b[0m   \u001b[0;31m# pylint: enable=protected-access\u001b[0m\u001b[0;34m\u001b[0m\u001b[0;34m\u001b[0m\u001b[0m\n\u001b[1;32m   6655\u001b[0m \u001b[0;34m\u001b[0m\u001b[0m\n",
      "\u001b[0;32m/cvmfs/sft.cern.ch/lcg/views/LCG_96python3/x86_64-centos7-gcc8-opt/lib/python3.6/site-packages/six.py\u001b[0m in \u001b[0;36mraise_from\u001b[0;34m(value, from_value)\u001b[0m\n",
      "\u001b[0;31mInvalidArgumentError\u001b[0m: indices[9] = [2,7] is repeated [Op:SparseToDense]"
     ]
    }
   ],
   "source": [
    "C = output2['cluster'].numpy()\n",
    "# print(A)\n",
    "# A = A[...,1:]\n",
    "C1 = C[C[...,3] == 0][...,:3]\n",
    "C2 = C[C[...,3] == 1][...,:3]\n",
    "# A1 = np.unique(A1, axis=0)\n",
    "# A2 = np.unique(A2, axis=0)\n",
    "# print(A1)\n",
    "\n",
    "sp = tf.SparseTensor(C1[...,1:3], C1[...,0], dense_shape=[HEIGHT,WIDTH])\n",
    "C1_dense = tf.sparse.to_dense(tf.sparse.reorder(sp))\n",
    "plt.imshow(C1_dense)"
   ]
  },
  {
   "cell_type": "code",
   "execution_count": 137,
   "metadata": {},
   "outputs": [
    {
     "ename": "InvalidArgumentError",
     "evalue": "indices[7] = [2,7] is repeated [Op:SparseToDense]",
     "output_type": "error",
     "traceback": [
      "\u001b[0;31m---------------------------------------------------------------------------\u001b[0m",
      "\u001b[0;31mInvalidArgumentError\u001b[0m                      Traceback (most recent call last)",
      "\u001b[0;32m<ipython-input-137-d93ce4ccf134>\u001b[0m in \u001b[0;36m<module>\u001b[0;34m\u001b[0m\n\u001b[1;32m      1\u001b[0m \u001b[0msp\u001b[0m \u001b[0;34m=\u001b[0m \u001b[0mtf\u001b[0m\u001b[0;34m.\u001b[0m\u001b[0mSparseTensor\u001b[0m\u001b[0;34m(\u001b[0m\u001b[0mC2\u001b[0m\u001b[0;34m[\u001b[0m\u001b[0;34m...\u001b[0m\u001b[0;34m,\u001b[0m\u001b[0;36m1\u001b[0m\u001b[0;34m:\u001b[0m\u001b[0;36m3\u001b[0m\u001b[0;34m]\u001b[0m\u001b[0;34m,\u001b[0m \u001b[0mC2\u001b[0m\u001b[0;34m[\u001b[0m\u001b[0;34m...\u001b[0m\u001b[0;34m,\u001b[0m\u001b[0;36m0\u001b[0m\u001b[0;34m]\u001b[0m\u001b[0;34m,\u001b[0m \u001b[0mdense_shape\u001b[0m\u001b[0;34m=\u001b[0m\u001b[0;34m[\u001b[0m\u001b[0mHEIGHT\u001b[0m\u001b[0;34m,\u001b[0m\u001b[0mWIDTH\u001b[0m\u001b[0;34m]\u001b[0m\u001b[0;34m)\u001b[0m\u001b[0;34m\u001b[0m\u001b[0m\n\u001b[0;32m----> 2\u001b[0;31m \u001b[0mC2_dense\u001b[0m \u001b[0;34m=\u001b[0m \u001b[0mtf\u001b[0m\u001b[0;34m.\u001b[0m\u001b[0msparse\u001b[0m\u001b[0;34m.\u001b[0m\u001b[0mto_dense\u001b[0m\u001b[0;34m(\u001b[0m\u001b[0mtf\u001b[0m\u001b[0;34m.\u001b[0m\u001b[0msparse\u001b[0m\u001b[0;34m.\u001b[0m\u001b[0mreorder\u001b[0m\u001b[0;34m(\u001b[0m\u001b[0msp\u001b[0m\u001b[0;34m)\u001b[0m\u001b[0;34m)\u001b[0m\u001b[0;34m\u001b[0m\u001b[0m\n\u001b[0m\u001b[1;32m      3\u001b[0m \u001b[0mplt\u001b[0m\u001b[0;34m.\u001b[0m\u001b[0mimshow\u001b[0m\u001b[0;34m(\u001b[0m\u001b[0mC2_dense\u001b[0m\u001b[0;34m)\u001b[0m\u001b[0;34m\u001b[0m\u001b[0m\n",
      "\u001b[0;32m~/.local/lib/python3.6/site-packages/tensorflow/python/ops/sparse_ops.py\u001b[0m in \u001b[0;36msparse_tensor_to_dense\u001b[0;34m(sp_input, default_value, validate_indices, name)\u001b[0m\n\u001b[1;32m   1498\u001b[0m       \u001b[0mdefault_value\u001b[0m\u001b[0;34m=\u001b[0m\u001b[0mdefault_value\u001b[0m\u001b[0;34m,\u001b[0m\u001b[0;34m\u001b[0m\u001b[0m\n\u001b[1;32m   1499\u001b[0m       \u001b[0mvalidate_indices\u001b[0m\u001b[0;34m=\u001b[0m\u001b[0mvalidate_indices\u001b[0m\u001b[0;34m,\u001b[0m\u001b[0;34m\u001b[0m\u001b[0m\n\u001b[0;32m-> 1500\u001b[0;31m       name=name)\n\u001b[0m\u001b[1;32m   1501\u001b[0m \u001b[0;34m\u001b[0m\u001b[0m\n\u001b[1;32m   1502\u001b[0m \u001b[0;34m\u001b[0m\u001b[0m\n",
      "\u001b[0;32m~/.local/lib/python3.6/site-packages/tensorflow/python/ops/gen_sparse_ops.py\u001b[0m in \u001b[0;36msparse_to_dense\u001b[0;34m(sparse_indices, output_shape, sparse_values, default_value, validate_indices, name)\u001b[0m\n\u001b[1;32m   2860\u001b[0m         \u001b[0;32mpass\u001b[0m  \u001b[0;31m# Add nodes to the TensorFlow graph.\u001b[0m\u001b[0;34m\u001b[0m\u001b[0m\n\u001b[1;32m   2861\u001b[0m     \u001b[0;32mexcept\u001b[0m \u001b[0m_core\u001b[0m\u001b[0;34m.\u001b[0m\u001b[0m_NotOkStatusException\u001b[0m \u001b[0;32mas\u001b[0m \u001b[0me\u001b[0m\u001b[0;34m:\u001b[0m\u001b[0;34m\u001b[0m\u001b[0m\n\u001b[0;32m-> 2862\u001b[0;31m       \u001b[0m_ops\u001b[0m\u001b[0;34m.\u001b[0m\u001b[0mraise_from_not_ok_status\u001b[0m\u001b[0;34m(\u001b[0m\u001b[0me\u001b[0m\u001b[0;34m,\u001b[0m \u001b[0mname\u001b[0m\u001b[0;34m)\u001b[0m\u001b[0;34m\u001b[0m\u001b[0m\n\u001b[0m\u001b[1;32m   2863\u001b[0m   \u001b[0;31m# Add nodes to the TensorFlow graph.\u001b[0m\u001b[0;34m\u001b[0m\u001b[0;34m\u001b[0m\u001b[0m\n\u001b[1;32m   2864\u001b[0m   \u001b[0;32mif\u001b[0m \u001b[0mvalidate_indices\u001b[0m \u001b[0;32mis\u001b[0m \u001b[0;32mNone\u001b[0m\u001b[0;34m:\u001b[0m\u001b[0;34m\u001b[0m\u001b[0m\n",
      "\u001b[0;32m~/.local/lib/python3.6/site-packages/tensorflow/python/framework/ops.py\u001b[0m in \u001b[0;36mraise_from_not_ok_status\u001b[0;34m(e, name)\u001b[0m\n\u001b[1;32m   6651\u001b[0m   \u001b[0mmessage\u001b[0m \u001b[0;34m=\u001b[0m \u001b[0me\u001b[0m\u001b[0;34m.\u001b[0m\u001b[0mmessage\u001b[0m \u001b[0;34m+\u001b[0m \u001b[0;34m(\u001b[0m\u001b[0;34m\" name: \"\u001b[0m \u001b[0;34m+\u001b[0m \u001b[0mname\u001b[0m \u001b[0;32mif\u001b[0m \u001b[0mname\u001b[0m \u001b[0;32mis\u001b[0m \u001b[0;32mnot\u001b[0m \u001b[0;32mNone\u001b[0m \u001b[0;32melse\u001b[0m \u001b[0;34m\"\"\u001b[0m\u001b[0;34m)\u001b[0m\u001b[0;34m\u001b[0m\u001b[0m\n\u001b[1;32m   6652\u001b[0m   \u001b[0;31m# pylint: disable=protected-access\u001b[0m\u001b[0;34m\u001b[0m\u001b[0;34m\u001b[0m\u001b[0m\n\u001b[0;32m-> 6653\u001b[0;31m   \u001b[0msix\u001b[0m\u001b[0;34m.\u001b[0m\u001b[0mraise_from\u001b[0m\u001b[0;34m(\u001b[0m\u001b[0mcore\u001b[0m\u001b[0;34m.\u001b[0m\u001b[0m_status_to_exception\u001b[0m\u001b[0;34m(\u001b[0m\u001b[0me\u001b[0m\u001b[0;34m.\u001b[0m\u001b[0mcode\u001b[0m\u001b[0;34m,\u001b[0m \u001b[0mmessage\u001b[0m\u001b[0;34m)\u001b[0m\u001b[0;34m,\u001b[0m \u001b[0;32mNone\u001b[0m\u001b[0;34m)\u001b[0m\u001b[0;34m\u001b[0m\u001b[0m\n\u001b[0m\u001b[1;32m   6654\u001b[0m   \u001b[0;31m# pylint: enable=protected-access\u001b[0m\u001b[0;34m\u001b[0m\u001b[0;34m\u001b[0m\u001b[0m\n\u001b[1;32m   6655\u001b[0m \u001b[0;34m\u001b[0m\u001b[0m\n",
      "\u001b[0;32m/cvmfs/sft.cern.ch/lcg/views/LCG_96python3/x86_64-centos7-gcc8-opt/lib/python3.6/site-packages/six.py\u001b[0m in \u001b[0;36mraise_from\u001b[0;34m(value, from_value)\u001b[0m\n",
      "\u001b[0;31mInvalidArgumentError\u001b[0m: indices[7] = [2,7] is repeated [Op:SparseToDense]"
     ]
    }
   ],
   "source": [
    "sp = tf.SparseTensor(C2[...,1:3], C2[...,0], dense_shape=[HEIGHT,WIDTH])\n",
    "C2_dense = tf.sparse.to_dense(tf.sparse.reorder(sp))\n",
    "plt.imshow(C2_dense)"
   ]
  },
  {
   "cell_type": "markdown",
   "metadata": {},
   "source": [
    "## Unit testing"
   ]
  },
  {
   "cell_type": "code",
   "execution_count": null,
   "metadata": {},
   "outputs": [],
   "source": [
    "def test_sorting():\n",
    "    # arrange\n",
    "    image = tf.constant([[[3., 2.], [6., 1.]], [[5., 8.], [7., 4.]]])\n",
    "    TSEED = 4.\n",
    "    seed_list = tf.where(tf.math.greater(image, TSEED))\n",
    "    seed_len = 4\n",
    "    \n",
    "    # act\n",
    "    sorted_seedlist = sorting(seed_list, seed_len, image)\n",
    "    \n",
    "    # assert\n",
    "    assert tf.equal(sorted_seedlist, tf.constant([[1,0,1], [1,1,0], [0,1,0], [1,0,0]], tf.int64)).numpy().all()"
   ]
  },
  {
   "cell_type": "code",
   "execution_count": 216,
   "metadata": {},
   "outputs": [],
   "source": [
    "def test_neighbors():\n",
    "    # arrange\n",
    "    index = tf.constant([0,0,0], tf.int64)\n",
    "    seed_list = tf.constant([[1,0,0], [1,1,0], [1,2,0]], tf.int64)\n",
    "    \n",
    "    # act\n",
    "    neigh = neighbors(index, seed_list)\n",
    "    \n",
    "    # assert\n",
    "    assert tf.equal(neigh, tf.constant([[0,0,1], [0,1,0]], tf.int64)).numpy().all()"
   ]
  },
  {
   "cell_type": "code",
   "execution_count": null,
   "metadata": {},
   "outputs": [],
   "source": [
    "test_neighbors()\n",
    "# test_sorting()"
   ]
  },
  {
   "cell_type": "code",
   "execution_count": 178,
   "metadata": {},
   "outputs": [
    {
     "data": {
      "text/plain": [
       "<tf.Tensor: shape=(1, 1), dtype=int32, numpy=array([[2]], dtype=int32)>"
      ]
     },
     "execution_count": 178,
     "metadata": {},
     "output_type": "execute_result"
    }
   ],
   "source": [
    "tf.sparse.to_dense(tf.sets.difference([[1, 2]], [[3, 1]]))"
   ]
  },
  {
   "cell_type": "code",
   "execution_count": 98,
   "metadata": {},
   "outputs": [
    {
     "name": "stdout",
     "output_type": "stream",
     "text": [
      "tf.Tensor([ 3 -1], shape=(2,), dtype=int32)\n"
     ]
    }
   ],
   "source": [
    "keys_tensor = tf.constant([1, 2])\n",
    "vals_tensor = tf.constant([3, 4])\n",
    "input_tensor = tf.constant([1, 5])\n",
    "table = tf.lookup.StaticHashTable(\n",
    "    tf.lookup.KeyValueTensorInitializer(keys_tensor, vals_tensor), -1)\n",
    "print(table.lookup(input_tensor))"
   ]
  },
  {
   "cell_type": "code",
   "execution_count": 126,
   "metadata": {},
   "outputs": [],
   "source": [
    "a = tf.constant([[],[]])"
   ]
  },
  {
   "cell_type": "code",
   "execution_count": 129,
   "metadata": {},
   "outputs": [],
   "source": [
    "is_empty = tf.not_equal(tf.size(a), tf.constant(0))"
   ]
  },
  {
   "cell_type": "code",
   "execution_count": 130,
   "metadata": {},
   "outputs": [
    {
     "data": {
      "text/plain": [
       "<tf.Tensor: shape=(), dtype=bool, numpy=False>"
      ]
     },
     "execution_count": 130,
     "metadata": {},
     "output_type": "execute_result"
    }
   ],
   "source": [
    "is_empty"
   ]
  },
  {
   "cell_type": "code",
   "execution_count": 131,
   "metadata": {},
   "outputs": [
    {
     "data": {
      "text/plain": [
       "<tf.Tensor: shape=(), dtype=int32, numpy=0>"
      ]
     },
     "execution_count": 131,
     "metadata": {},
     "output_type": "execute_result"
    }
   ],
   "source": [
    "tf.size(a)"
   ]
  },
  {
   "cell_type": "code",
   "execution_count": 114,
   "metadata": {},
   "outputs": [
    {
     "data": {
      "text/plain": [
       "<tf.Tensor: shape=(2, 0), dtype=float32, numpy=array([], shape=(2, 0), dtype=float32)>"
      ]
     },
     "execution_count": 114,
     "metadata": {},
     "output_type": "execute_result"
    }
   ],
   "source": [
    "tf.squeeze(a)"
   ]
  },
  {
   "cell_type": "code",
   "execution_count": 45,
   "metadata": {},
   "outputs": [],
   "source": [
    "cij = tf.constant([[1., 2.], [3., 4.]])\n",
    "com = tf.constant([[0.5, 1.]])\n",
    "# tf.multiply(indices, values)"
   ]
  },
  {
   "cell_type": "code",
   "execution_count": 53,
   "metadata": {},
   "outputs": [
    {
     "data": {
      "text/plain": [
       "<tf.Tensor: shape=(2, 1), dtype=float32, numpy=\n",
       "array([[1.118034],\n",
       "       [3.905125]], dtype=float32)>"
      ]
     },
     "execution_count": 53,
     "metadata": {},
     "output_type": "execute_result"
    }
   ],
   "source": [
    "tf.sqrt(tf.reduce_sum(tf.pow(cij-com, 2), axis=1, keepdims=True))"
   ]
  },
  {
   "cell_type": "code",
   "execution_count": null,
   "metadata": {},
   "outputs": [],
   "source": []
  }
 ],
 "metadata": {
  "kernelspec": {
   "display_name": "Python 3",
   "language": "python",
   "name": "python3"
  },
  "language_info": {
   "codemirror_mode": {
    "name": "ipython",
    "version": 3
   },
   "file_extension": ".py",
   "mimetype": "text/x-python",
   "name": "python",
   "nbconvert_exporter": "python",
   "pygments_lexer": "ipython3",
   "version": "3.6.5"
  }
 },
 "nbformat": 4,
 "nbformat_minor": 2
}
