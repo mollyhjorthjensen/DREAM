{
 "cells": [
  {
   "cell_type": "markdown",
   "metadata": {},
   "source": [
    "# Clustering algorithm"
   ]
  },
  {
   "cell_type": "code",
   "execution_count": 1,
   "metadata": {},
   "outputs": [
    {
     "ename": "AssertionError",
     "evalue": "",
     "output_type": "error",
     "traceback": [
      "\u001b[0;31m---------------------------------------------------------------------------\u001b[0m",
      "\u001b[0;31mAssertionError\u001b[0m                            Traceback (most recent call last)",
      "\u001b[0;32m<ipython-input-1-52d6a59ef520>\u001b[0m in \u001b[0;36m<module>\u001b[0;34m\u001b[0m\n\u001b[1;32m      5\u001b[0m \u001b[0;32mimport\u001b[0m \u001b[0mpandas\u001b[0m \u001b[0;32mas\u001b[0m \u001b[0mpd\u001b[0m\u001b[0;34m\u001b[0m\u001b[0m\n\u001b[1;32m      6\u001b[0m \u001b[0;32mimport\u001b[0m \u001b[0mos\u001b[0m\u001b[0;34m\u001b[0m\u001b[0m\n\u001b[0;32m----> 7\u001b[0;31m \u001b[0;32massert\u001b[0m \u001b[0mtf\u001b[0m\u001b[0;34m.\u001b[0m\u001b[0m__version__\u001b[0m\u001b[0;34m==\u001b[0m\u001b[0;34m'2.1.0'\u001b[0m\u001b[0;34m\u001b[0m\u001b[0m\n\u001b[0m\u001b[1;32m      8\u001b[0m \u001b[0;31m# assert tf.test.is_gpu_available()\u001b[0m\u001b[0;34m\u001b[0m\u001b[0;34m\u001b[0m\u001b[0m\n\u001b[1;32m      9\u001b[0m \u001b[0mK\u001b[0m\u001b[0;34m.\u001b[0m\u001b[0mclear_session\u001b[0m\u001b[0;34m(\u001b[0m\u001b[0;34m)\u001b[0m\u001b[0;34m\u001b[0m\u001b[0m\n",
      "\u001b[0;31mAssertionError\u001b[0m: "
     ]
    }
   ],
   "source": [
    "import tensorflow as tf\n",
    "import tensorflow.keras.backend as K\n",
    "from tensorflow.python.ops import sparse_ops\n",
    "# import matplotlib.pyplot as plt\n",
    "import pandas as pd\n",
    "import os\n",
    "assert tf.__version__=='2.1.0'\n",
    "# assert tf.test.is_gpu_available()\n",
    "K.clear_session()\n",
    "%load_ext tensorboard"
   ]
  },
  {
   "cell_type": "code",
   "execution_count": 119,
   "metadata": {},
   "outputs": [],
   "source": [
    "DATA_DIR = ''\n",
    "BATCH_SIZE = 16\n",
    "BUFFER_SIZE = 10"
   ]
  },
  {
   "cell_type": "code",
   "execution_count": 207,
   "metadata": {},
   "outputs": [],
   "source": [
    "HEIGHT = 284\n",
    "WIDTH = 284\n",
    "TENERGY = 350\n",
    "TLOCMAX = 100\n",
    "TNUMBER = 3\n",
    "# good values to test if recursive function works\n",
    "TSEED = tf.constant(50, tf.float32)  # tf.constant([300.], tf.float32)\n",
    "TNEIGHBOR = tf.constant(10., tf.float32)\n",
    "TCELL = tf.constant(5., tf.float32)"
   ]
  },
  {
   "cell_type": "markdown",
   "metadata": {},
   "source": [
    "## Parser"
   ]
  },
  {
   "cell_type": "code",
   "execution_count": 208,
   "metadata": {},
   "outputs": [],
   "source": [
    "feature_description = {\n",
    "    'eventId': tf.io.FixedLenFeature([1], tf.int64, default_value=0),\n",
    "#     'showerId': tf.io.FixedLenFeature([3], tf.string, default_value=[\"\",]*3),\n",
    "    'image': tf.io.FixedLenFeature([3], tf.string, default_value=[\"\",]*3)\n",
    "}"
   ]
  },
  {
   "cell_type": "code",
   "execution_count": 209,
   "metadata": {},
   "outputs": [],
   "source": [
    "feature_shape = {\n",
    "    'eventId': tf.TensorShape([1,]),\n",
    "#     'showerId': tf.TensorShape([568, 568, 1]),\n",
    "    'image': tf.TensorShape([568, 568, 2])\n",
    "}"
   ]
  },
  {
   "cell_type": "code",
   "execution_count": 210,
   "metadata": {},
   "outputs": [],
   "source": [
    "def parser_fn(proto):\n",
    "    serialized = tf.io.parse_single_example(proto, feature_description)\n",
    "    deserialized = {k: (tf.sparse.to_dense(sparse_ops.deserialize_sparse(v, K.floatx()))\n",
    "                        if k != 'eventId' else v) for k,v in serialized.items()}\n",
    "    [deserialized[k].set_shape(feature_shape[k]) for k in deserialized.keys()]\n",
    "    x = deserialized['image']\n",
    "    x = tf.expand_dims(x, axis=0)\n",
    "    x = K.pool2d(x, pool_size=(2, 2), strides=(2, 2), padding='same', pool_mode='avg')\n",
    "    deserialized['image'] = x[0]\n",
    "    \n",
    "    return deserialized"
   ]
  },
  {
   "cell_type": "markdown",
   "metadata": {},
   "source": [
    "## Run"
   ]
  },
  {
   "cell_type": "code",
   "execution_count": 211,
   "metadata": {},
   "outputs": [],
   "source": [
    "from skimage import measure\n",
    "\n",
    "f = lambda x: skimage.measure.label(x, connectivity=2)\n",
    "\n",
    "def test_fn(parsed):\n",
    "    image = parsed['image']\n",
    "    seed_mask = tf.math.greater(image, TSEED)\n",
    "#     labels2 = label(seed_mask, connectivity=2)\n",
    "#     tf.print(tf.constant(labels2))\n",
    "    tf.print(tf.where(seed_mask))\n",
    "    labels = tf.numpy_function(f, [seed_mask], Tout=tf.int64)\n",
    "    tf.print(tf.where(labels))\n",
    "    tf.print(tf.shape(labels)[0])\n",
    "#     tf.print(labels.get_shape()[0])\n",
    "    tf.print(tf.greater(tf.shape(labels)[0], 0))\n",
    "    parsed['labels'] = labels\n",
    "    return parsed\n",
    "\n"
   ]
  },
  {
   "cell_type": "code",
   "execution_count": 212,
   "metadata": {
    "scrolled": true
   },
   "outputs": [
    {
     "name": "stdout",
     "output_type": "stream",
     "text": [
      "<MapDataset shapes: {eventId: (1,), image: (284, 284, 2)}, types: {eventId: tf.int64, image: tf.float32}>\n"
     ]
    }
   ],
   "source": [
    "filename = [os.path.join(DATA_DIR, 'B4.tfrecord')]\n",
    "dataset = tf.data.TFRecordDataset(filename, compression_type='GZIP', buffer_size=BUFFER_SIZE)\n",
    "dataset = dataset.map(parser_fn)\n",
    "# dataset = dataset.map(cluster_maker)\n",
    "print(dataset)"
   ]
  },
  {
   "cell_type": "code",
   "execution_count": null,
   "metadata": {},
   "outputs": [],
   "source": []
  },
  {
   "cell_type": "code",
   "execution_count": 241,
   "metadata": {
    "scrolled": true
   },
   "outputs": [
    {
     "name": "stdout",
     "output_type": "stream",
     "text": [
      "tf.Tensor(73, shape=(), dtype=int32)\n",
      "tf.Tensor(31, shape=(), dtype=int32)\n",
      "tf.Tensor(15, shape=(), dtype=int32)\n",
      "tf.Tensor(12, shape=(), dtype=int32)\n",
      "tf.Tensor(4, shape=(), dtype=int32)\n",
      "tf.Tensor(1, shape=(), dtype=int32)\n",
      "tf.Tensor(1, shape=(), dtype=int32)\n",
      "tf.Tensor(0, shape=(), dtype=int32)\n",
      "tf.Tensor([   53.25 28260.      82.75   100.25], shape=(4,), dtype=float32)\n",
      "tf.Tensor(9, shape=(), dtype=int32)\n",
      "tf.Tensor(24, shape=(), dtype=int32)\n",
      "tf.Tensor(33, shape=(), dtype=int32)\n",
      "tf.Tensor(33, shape=(), dtype=int32)\n",
      "tf.Tensor(38, shape=(), dtype=int32)\n",
      "tf.Tensor(39, shape=(), dtype=int32)\n",
      "tf.Tensor(39, shape=(), dtype=int32)\n",
      "tf.Tensor(31, shape=(), dtype=int32)\n",
      "tf.Tensor(20, shape=(), dtype=int32)\n",
      "tf.Tensor(10, shape=(), dtype=int32)\n",
      "tf.Tensor(5, shape=(), dtype=int32)\n",
      "tf.Tensor(1, shape=(), dtype=int32)\n",
      "tf.Tensor(1, shape=(), dtype=int32)\n",
      "tf.Tensor(0, shape=(), dtype=int32)\n",
      "tf.Tensor([2], shape=(1,), dtype=int64)\n",
      "tf.Tensor([[1.5907837e+02 1.6768076e+02 1.6003184e-02]], shape=(1, 3), dtype=float32) tf.Tensor([[28260.]], shape=(1, 1), dtype=float32)\n",
      "tf.Tensor([2], shape=(1,), dtype=int64) tf.Tensor([0], shape=(1,), dtype=int64)\n",
      "tf.Tensor(96, shape=(), dtype=int32)\n",
      "tf.Tensor(37, shape=(), dtype=int32)\n",
      "tf.Tensor(22, shape=(), dtype=int32)\n",
      "tf.Tensor(11, shape=(), dtype=int32)\n",
      "tf.Tensor(5, shape=(), dtype=int32)\n",
      "tf.Tensor(2, shape=(), dtype=int32)\n",
      "tf.Tensor(1, shape=(), dtype=int32)\n",
      "tf.Tensor(0, shape=(), dtype=int32)\n",
      "tf.Tensor(\n",
      "[   78.5    127.75 10099.5   3505.5     66.25   175.75   191.5    155.25\n",
      "    96.25    85.5    170.     745.     134.     482.75   425.75   248.75\n",
      "    76.5     55.25    87.75    72.5     61.25   120.5     94.5     97.75\n",
      "   579.25], shape=(25,), dtype=float32)\n",
      "tf.Tensor(38, shape=(), dtype=int32)\n",
      "tf.Tensor(57, shape=(), dtype=int32)\n",
      "tf.Tensor(45, shape=(), dtype=int32)\n",
      "tf.Tensor(29, shape=(), dtype=int32)\n",
      "tf.Tensor(30, shape=(), dtype=int32)\n",
      "tf.Tensor(21, shape=(), dtype=int32)\n",
      "tf.Tensor(8, shape=(), dtype=int32)\n",
      "tf.Tensor(7, shape=(), dtype=int32)\n",
      "tf.Tensor(6, shape=(), dtype=int32)\n",
      "tf.Tensor(5, shape=(), dtype=int32)\n",
      "tf.Tensor(2, shape=(), dtype=int32)\n",
      "tf.Tensor(0, shape=(), dtype=int32)\n",
      "tf.Tensor([[6]], shape=(1, 1), dtype=int64)\n",
      "tf.Tensor([6], shape=(1,), dtype=int64)\n",
      "tf.Tensor([284 284   2], shape=(3,), dtype=int32) tf.Tensor([284 284   2], shape=(3,), dtype=int32)\n",
      "tf.Tensor([ 8  7  9 10 11  6], shape=(6,), dtype=int64)\n",
      "tf.Tensor(\n",
      "[[1.3943001e+02 1.3410403e+02 1.4113858e-02]\n",
      " [1.3935481e+02 1.3009818e+02 0.0000000e+00]\n",
      " [1.4667851e+02 1.5523306e+02 1.2836970e-02]\n",
      " [1.6364865e+02 1.8235771e+02 0.0000000e+00]\n",
      " [1.6822180e+02 1.9125647e+02 0.0000000e+00]\n",
      " [2.1602806e+02 9.1055244e+01 0.0000000e+00]], shape=(6, 3), dtype=float32) tf.Tensor(\n",
      "[[7917.75]\n",
      " [1140.75]\n",
      " [3505.5 ]\n",
      " [ 745.  ]\n",
      " [ 908.5 ]\n",
      " [ 579.25]], shape=(6, 1), dtype=float32)\n",
      "tf.Tensor([ 8  7  9 10 11  6], shape=(6,), dtype=int64) tf.Tensor([0 2 1 4 3 5], shape=(6,), dtype=int64)\n",
      "tf.Tensor(124, shape=(), dtype=int32)\n",
      "tf.Tensor(46, shape=(), dtype=int32)\n",
      "tf.Tensor(25, shape=(), dtype=int32)\n",
      "tf.Tensor(12, shape=(), dtype=int32)\n",
      "tf.Tensor(4, shape=(), dtype=int32)\n",
      "tf.Tensor(2, shape=(), dtype=int32)\n",
      "tf.Tensor(0, shape=(), dtype=int32)\n",
      "tf.Tensor(\n",
      "[  97.    335.    792.5  2125.    147.5   153.25  175.     94.75  387.\n",
      "  231.5   192.25  283.5   264.5    77.    100.75  102.5   666.75  101.25\n",
      "  774.25 7374.     77.5   148.75   72.5   133.    164.    233.     98.75\n",
      "  235.    337.    170.     94.5    84.     95.    102.25  129.5   103.\n",
      "   54.5   180.25   54.5 ], shape=(39,), dtype=float32)\n",
      "tf.Tensor(33, shape=(), dtype=int32)\n",
      "tf.Tensor(42, shape=(), dtype=int32)\n",
      "tf.Tensor(33, shape=(), dtype=int32)\n",
      "tf.Tensor(20, shape=(), dtype=int32)\n",
      "tf.Tensor(24, shape=(), dtype=int32)\n",
      "tf.Tensor(21, shape=(), dtype=int32)\n",
      "tf.Tensor(9, shape=(), dtype=int32)\n",
      "tf.Tensor(9, shape=(), dtype=int32)\n",
      "tf.Tensor(4, shape=(), dtype=int32)\n",
      "tf.Tensor(3, shape=(), dtype=int32)\n",
      "tf.Tensor(3, shape=(), dtype=int32)\n",
      "tf.Tensor(3, shape=(), dtype=int32)\n",
      "tf.Tensor(2, shape=(), dtype=int32)\n",
      "tf.Tensor(2, shape=(), dtype=int32)\n",
      "tf.Tensor(1, shape=(), dtype=int32)\n",
      "tf.Tensor(0, shape=(), dtype=int32)\n",
      "tf.Tensor([[1 3 5]], shape=(1, 3), dtype=int64)\n",
      "tf.Tensor([1 3 5], shape=(3,), dtype=int64)\n",
      "tf.Tensor([284 284   2], shape=(3,), dtype=int32) tf.Tensor([284 284   2], shape=(3,), dtype=int32)\n"
     ]
    },
    {
     "ename": "InvalidArgumentError",
     "evalue": "Incompatible shapes: [284,284,2] vs. [3] [Op:Equal]",
     "output_type": "error",
     "traceback": [
      "\u001b[0;31m---------------------------------------------------------------------------\u001b[0m",
      "\u001b[0;31mInvalidArgumentError\u001b[0m                      Traceback (most recent call last)",
      "\u001b[0;32m<ipython-input-241-5775773b8c9a>\u001b[0m in \u001b[0;36m<module>\u001b[0;34m\u001b[0m\n\u001b[1;32m     17\u001b[0m     \u001b[0max\u001b[0m\u001b[0;34m[\u001b[0m\u001b[0mi\u001b[0m\u001b[0;34m]\u001b[0m\u001b[0;34m[\u001b[0m\u001b[0;36m0\u001b[0m\u001b[0;34m]\u001b[0m\u001b[0;34m.\u001b[0m\u001b[0mimshow\u001b[0m\u001b[0;34m(\u001b[0m\u001b[0mA1_dense\u001b[0m\u001b[0;34m)\u001b[0m\u001b[0;34m\u001b[0m\u001b[0m\n\u001b[1;32m     18\u001b[0m \u001b[0;34m\u001b[0m\u001b[0m\n\u001b[0;32m---> 19\u001b[0;31m     \u001b[0moutput2\u001b[0m \u001b[0;34m=\u001b[0m \u001b[0mcluster_splitter\u001b[0m\u001b[0;34m(\u001b[0m\u001b[0moutput\u001b[0m\u001b[0;34m)\u001b[0m\u001b[0;34m\u001b[0m\u001b[0m\n\u001b[0m\u001b[1;32m     20\u001b[0m \u001b[0;31m#     A = output['cluster'].numpy()\u001b[0m\u001b[0;34m\u001b[0m\u001b[0;34m\u001b[0m\u001b[0m\n\u001b[1;32m     21\u001b[0m \u001b[0;31m#     A1 = A[A[...,3] == 0][...,:3]\u001b[0m\u001b[0;34m\u001b[0m\u001b[0;34m\u001b[0m\u001b[0m\n",
      "\u001b[0;32m<ipython-input-237-b938cc80fd34>\u001b[0m in \u001b[0;36mcluster_splitter\u001b[0;34m(parsed)\u001b[0m\n\u001b[1;32m     48\u001b[0m             \u001b[0mp\u001b[0m \u001b[0;34m=\u001b[0m \u001b[0mtf\u001b[0m\u001b[0;34m.\u001b[0m\u001b[0mwhere\u001b[0m\u001b[0;34m(\u001b[0m\u001b[0mtf\u001b[0m\u001b[0;34m.\u001b[0m\u001b[0mequal\u001b[0m\u001b[0;34m(\u001b[0m\u001b[0mproto_d\u001b[0m\u001b[0;34m,\u001b[0m \u001b[0motheri\u001b[0m\u001b[0;34m)\u001b[0m\u001b[0;34m,\u001b[0m \u001b[0mproto_d\u001b[0m\u001b[0;34m,\u001b[0m \u001b[0mp\u001b[0m\u001b[0;34m)\u001b[0m\u001b[0;34m\u001b[0m\u001b[0m\n\u001b[1;32m     49\u001b[0m             \u001b[0;32mreturn\u001b[0m \u001b[0;34m[\u001b[0m\u001b[0mtf\u001b[0m\u001b[0;34m.\u001b[0m\u001b[0madd\u001b[0m\u001b[0;34m(\u001b[0m\u001b[0mi\u001b[0m\u001b[0;34m,\u001b[0m \u001b[0;36m1\u001b[0m\u001b[0;34m)\u001b[0m\u001b[0;34m,\u001b[0m \u001b[0mp\u001b[0m\u001b[0;34m]\u001b[0m\u001b[0;34m\u001b[0m\u001b[0m\n\u001b[0;32m---> 50\u001b[0;31m         \u001b[0mprotolist_d\u001b[0m \u001b[0;34m=\u001b[0m \u001b[0mtf\u001b[0m\u001b[0;34m.\u001b[0m\u001b[0mwhile_loop\u001b[0m\u001b[0;34m(\u001b[0m\u001b[0mc\u001b[0m\u001b[0;34m,\u001b[0m \u001b[0mb\u001b[0m\u001b[0;34m,\u001b[0m \u001b[0;34m[\u001b[0m\u001b[0mi\u001b[0m\u001b[0;34m,\u001b[0m \u001b[0mprotolist_d\u001b[0m\u001b[0;34m]\u001b[0m\u001b[0;34m)\u001b[0m\u001b[0;34m[\u001b[0m\u001b[0;36m1\u001b[0m\u001b[0;34m]\u001b[0m\u001b[0;34m\u001b[0m\u001b[0m\n\u001b[0m\u001b[1;32m     51\u001b[0m         \u001b[0mpidx\u001b[0m \u001b[0;34m=\u001b[0m \u001b[0mtf\u001b[0m\u001b[0;34m.\u001b[0m\u001b[0mwhere\u001b[0m\u001b[0;34m(\u001b[0m\u001b[0mprotolist_d\u001b[0m\u001b[0;34m)\u001b[0m\u001b[0;34m\u001b[0m\u001b[0m\n\u001b[1;32m     52\u001b[0m         \u001b[0mpid\u001b[0m \u001b[0;34m=\u001b[0m \u001b[0mtf\u001b[0m\u001b[0;34m.\u001b[0m\u001b[0mexpand_dims\u001b[0m\u001b[0;34m(\u001b[0m\u001b[0mtf\u001b[0m\u001b[0;34m.\u001b[0m\u001b[0mgather_nd\u001b[0m\u001b[0;34m(\u001b[0m\u001b[0mprotolist_d\u001b[0m\u001b[0;34m,\u001b[0m \u001b[0mpidx\u001b[0m\u001b[0;34m)\u001b[0m\u001b[0;34m,\u001b[0m \u001b[0maxis\u001b[0m\u001b[0;34m=\u001b[0m\u001b[0;36m1\u001b[0m\u001b[0;34m)\u001b[0m\u001b[0;34m\u001b[0m\u001b[0m\n",
      "\u001b[0;32m~/.local/lib/python3.6/site-packages/tensorflow/python/util/deprecation.py\u001b[0m in \u001b[0;36mnew_func\u001b[0;34m(*args, **kwargs)\u001b[0m\n\u001b[1;32m    572\u001b[0m                   \u001b[0mfunc\u001b[0m\u001b[0;34m.\u001b[0m\u001b[0m__module__\u001b[0m\u001b[0;34m,\u001b[0m \u001b[0marg_name\u001b[0m\u001b[0;34m,\u001b[0m \u001b[0marg_value\u001b[0m\u001b[0;34m,\u001b[0m \u001b[0;34m'in a future version'\u001b[0m\u001b[0;34m\u001b[0m\u001b[0m\n\u001b[1;32m    573\u001b[0m                   if date is None else ('after %s' % date), instructions)\n\u001b[0;32m--> 574\u001b[0;31m       \u001b[0;32mreturn\u001b[0m \u001b[0mfunc\u001b[0m\u001b[0;34m(\u001b[0m\u001b[0;34m*\u001b[0m\u001b[0margs\u001b[0m\u001b[0;34m,\u001b[0m \u001b[0;34m**\u001b[0m\u001b[0mkwargs\u001b[0m\u001b[0;34m)\u001b[0m\u001b[0;34m\u001b[0m\u001b[0m\n\u001b[0m\u001b[1;32m    575\u001b[0m \u001b[0;34m\u001b[0m\u001b[0m\n\u001b[1;32m    576\u001b[0m     doc = _add_deprecated_arg_value_notice_to_docstring(\n",
      "\u001b[0;32m~/.local/lib/python3.6/site-packages/tensorflow/python/ops/control_flow_ops.py\u001b[0m in \u001b[0;36mwhile_loop_v2\u001b[0;34m(cond, body, loop_vars, shape_invariants, parallel_iterations, back_prop, swap_memory, maximum_iterations, name)\u001b[0m\n\u001b[1;32m   2489\u001b[0m       \u001b[0mname\u001b[0m\u001b[0;34m=\u001b[0m\u001b[0mname\u001b[0m\u001b[0;34m,\u001b[0m\u001b[0;34m\u001b[0m\u001b[0m\n\u001b[1;32m   2490\u001b[0m       \u001b[0mmaximum_iterations\u001b[0m\u001b[0;34m=\u001b[0m\u001b[0mmaximum_iterations\u001b[0m\u001b[0;34m,\u001b[0m\u001b[0;34m\u001b[0m\u001b[0m\n\u001b[0;32m-> 2491\u001b[0;31m       return_same_structure=True)\n\u001b[0m\u001b[1;32m   2492\u001b[0m \u001b[0;34m\u001b[0m\u001b[0m\n\u001b[1;32m   2493\u001b[0m \u001b[0;34m\u001b[0m\u001b[0m\n",
      "\u001b[0;32m~/.local/lib/python3.6/site-packages/tensorflow/python/ops/control_flow_ops.py\u001b[0m in \u001b[0;36mwhile_loop\u001b[0;34m(cond, body, loop_vars, shape_invariants, parallel_iterations, back_prop, swap_memory, name, maximum_iterations, return_same_structure)\u001b[0m\n\u001b[1;32m   2725\u001b[0m                                               list(loop_vars))\n\u001b[1;32m   2726\u001b[0m       \u001b[0;32mwhile\u001b[0m \u001b[0mcond\u001b[0m\u001b[0;34m(\u001b[0m\u001b[0;34m*\u001b[0m\u001b[0mloop_vars\u001b[0m\u001b[0;34m)\u001b[0m\u001b[0;34m:\u001b[0m\u001b[0;34m\u001b[0m\u001b[0m\n\u001b[0;32m-> 2727\u001b[0;31m         \u001b[0mloop_vars\u001b[0m \u001b[0;34m=\u001b[0m \u001b[0mbody\u001b[0m\u001b[0;34m(\u001b[0m\u001b[0;34m*\u001b[0m\u001b[0mloop_vars\u001b[0m\u001b[0;34m)\u001b[0m\u001b[0;34m\u001b[0m\u001b[0m\n\u001b[0m\u001b[1;32m   2728\u001b[0m         \u001b[0;32mif\u001b[0m \u001b[0mtry_to_pack\u001b[0m \u001b[0;32mand\u001b[0m \u001b[0;32mnot\u001b[0m \u001b[0misinstance\u001b[0m\u001b[0;34m(\u001b[0m\u001b[0mloop_vars\u001b[0m\u001b[0;34m,\u001b[0m \u001b[0;34m(\u001b[0m\u001b[0mlist\u001b[0m\u001b[0;34m,\u001b[0m \u001b[0m_basetuple\u001b[0m\u001b[0;34m)\u001b[0m\u001b[0;34m)\u001b[0m\u001b[0;34m:\u001b[0m\u001b[0;34m\u001b[0m\u001b[0m\n\u001b[1;32m   2729\u001b[0m           \u001b[0mpacked\u001b[0m \u001b[0;34m=\u001b[0m \u001b[0;32mTrue\u001b[0m\u001b[0;34m\u001b[0m\u001b[0m\n",
      "\u001b[0;32m<ipython-input-237-b938cc80fd34>\u001b[0m in \u001b[0;36mb\u001b[0;34m(i, p)\u001b[0m\n\u001b[1;32m     46\u001b[0m             \u001b[0mprint\u001b[0m\u001b[0;34m(\u001b[0m\u001b[0motheri\u001b[0m\u001b[0;34m)\u001b[0m\u001b[0;34m\u001b[0m\u001b[0m\n\u001b[1;32m     47\u001b[0m             \u001b[0mprint\u001b[0m\u001b[0;34m(\u001b[0m\u001b[0mtf\u001b[0m\u001b[0;34m.\u001b[0m\u001b[0mshape\u001b[0m\u001b[0;34m(\u001b[0m\u001b[0mproto_d\u001b[0m\u001b[0;34m)\u001b[0m\u001b[0;34m,\u001b[0m \u001b[0mtf\u001b[0m\u001b[0;34m.\u001b[0m\u001b[0mshape\u001b[0m\u001b[0;34m(\u001b[0m\u001b[0mp\u001b[0m\u001b[0;34m)\u001b[0m\u001b[0;34m)\u001b[0m\u001b[0;34m\u001b[0m\u001b[0m\n\u001b[0;32m---> 48\u001b[0;31m             \u001b[0mp\u001b[0m \u001b[0;34m=\u001b[0m \u001b[0mtf\u001b[0m\u001b[0;34m.\u001b[0m\u001b[0mwhere\u001b[0m\u001b[0;34m(\u001b[0m\u001b[0mtf\u001b[0m\u001b[0;34m.\u001b[0m\u001b[0mequal\u001b[0m\u001b[0;34m(\u001b[0m\u001b[0mproto_d\u001b[0m\u001b[0;34m,\u001b[0m \u001b[0motheri\u001b[0m\u001b[0;34m)\u001b[0m\u001b[0;34m,\u001b[0m \u001b[0mproto_d\u001b[0m\u001b[0;34m,\u001b[0m \u001b[0mp\u001b[0m\u001b[0;34m)\u001b[0m\u001b[0;34m\u001b[0m\u001b[0m\n\u001b[0m\u001b[1;32m     49\u001b[0m             \u001b[0;32mreturn\u001b[0m \u001b[0;34m[\u001b[0m\u001b[0mtf\u001b[0m\u001b[0;34m.\u001b[0m\u001b[0madd\u001b[0m\u001b[0;34m(\u001b[0m\u001b[0mi\u001b[0m\u001b[0;34m,\u001b[0m \u001b[0;36m1\u001b[0m\u001b[0;34m)\u001b[0m\u001b[0;34m,\u001b[0m \u001b[0mp\u001b[0m\u001b[0;34m]\u001b[0m\u001b[0;34m\u001b[0m\u001b[0m\n\u001b[1;32m     50\u001b[0m         \u001b[0mprotolist_d\u001b[0m \u001b[0;34m=\u001b[0m \u001b[0mtf\u001b[0m\u001b[0;34m.\u001b[0m\u001b[0mwhile_loop\u001b[0m\u001b[0;34m(\u001b[0m\u001b[0mc\u001b[0m\u001b[0;34m,\u001b[0m \u001b[0mb\u001b[0m\u001b[0;34m,\u001b[0m \u001b[0;34m[\u001b[0m\u001b[0mi\u001b[0m\u001b[0;34m,\u001b[0m \u001b[0mprotolist_d\u001b[0m\u001b[0;34m]\u001b[0m\u001b[0;34m)\u001b[0m\u001b[0;34m[\u001b[0m\u001b[0;36m1\u001b[0m\u001b[0;34m]\u001b[0m\u001b[0;34m\u001b[0m\u001b[0m\n",
      "\u001b[0;32m~/.local/lib/python3.6/site-packages/tensorflow/python/util/dispatch.py\u001b[0m in \u001b[0;36mwrapper\u001b[0;34m(*args, **kwargs)\u001b[0m\n\u001b[1;32m    178\u001b[0m     \u001b[0;34m\"\"\"Call target, and fall back on dispatchers if there is a TypeError.\"\"\"\u001b[0m\u001b[0;34m\u001b[0m\u001b[0m\n\u001b[1;32m    179\u001b[0m     \u001b[0;32mtry\u001b[0m\u001b[0;34m:\u001b[0m\u001b[0;34m\u001b[0m\u001b[0m\n\u001b[0;32m--> 180\u001b[0;31m       \u001b[0;32mreturn\u001b[0m \u001b[0mtarget\u001b[0m\u001b[0;34m(\u001b[0m\u001b[0;34m*\u001b[0m\u001b[0margs\u001b[0m\u001b[0;34m,\u001b[0m \u001b[0;34m**\u001b[0m\u001b[0mkwargs\u001b[0m\u001b[0;34m)\u001b[0m\u001b[0;34m\u001b[0m\u001b[0m\n\u001b[0m\u001b[1;32m    181\u001b[0m     \u001b[0;32mexcept\u001b[0m \u001b[0;34m(\u001b[0m\u001b[0mTypeError\u001b[0m\u001b[0;34m,\u001b[0m \u001b[0mValueError\u001b[0m\u001b[0;34m)\u001b[0m\u001b[0;34m:\u001b[0m\u001b[0;34m\u001b[0m\u001b[0m\n\u001b[1;32m    182\u001b[0m       \u001b[0;31m# Note: convert_to_eager_tensor currently raises a ValueError, not a\u001b[0m\u001b[0;34m\u001b[0m\u001b[0;34m\u001b[0m\u001b[0m\n",
      "\u001b[0;32m~/.local/lib/python3.6/site-packages/tensorflow/python/ops/math_ops.py\u001b[0m in \u001b[0;36mequal\u001b[0;34m(x, y, name)\u001b[0m\n\u001b[1;32m   1443\u001b[0m     \u001b[0;31m`\u001b[0m\u001b[0mtf\u001b[0m\u001b[0;34m.\u001b[0m\u001b[0merrors\u001b[0m\u001b[0;34m.\u001b[0m\u001b[0mInvalidArgumentError\u001b[0m\u001b[0;31m`\u001b[0m\u001b[0;34m:\u001b[0m \u001b[0mIf\u001b[0m \u001b[0mshapes\u001b[0m \u001b[0mof\u001b[0m \u001b[0marguments\u001b[0m \u001b[0mare\u001b[0m \u001b[0mincompatible\u001b[0m\u001b[0;34m\u001b[0m\u001b[0m\n\u001b[1;32m   1444\u001b[0m   \"\"\"\n\u001b[0;32m-> 1445\u001b[0;31m   \u001b[0;32mreturn\u001b[0m \u001b[0mgen_math_ops\u001b[0m\u001b[0;34m.\u001b[0m\u001b[0mequal\u001b[0m\u001b[0;34m(\u001b[0m\u001b[0mx\u001b[0m\u001b[0;34m,\u001b[0m \u001b[0my\u001b[0m\u001b[0;34m,\u001b[0m \u001b[0mname\u001b[0m\u001b[0;34m=\u001b[0m\u001b[0mname\u001b[0m\u001b[0;34m)\u001b[0m\u001b[0;34m\u001b[0m\u001b[0m\n\u001b[0m\u001b[1;32m   1446\u001b[0m \u001b[0;34m\u001b[0m\u001b[0m\n\u001b[1;32m   1447\u001b[0m \u001b[0;34m\u001b[0m\u001b[0m\n",
      "\u001b[0;32m~/.local/lib/python3.6/site-packages/tensorflow/python/ops/gen_math_ops.py\u001b[0m in \u001b[0;36mequal\u001b[0;34m(x, y, incompatible_shape_error, name)\u001b[0m\n\u001b[1;32m   3215\u001b[0m         \u001b[0;32mpass\u001b[0m  \u001b[0;31m# Add nodes to the TensorFlow graph.\u001b[0m\u001b[0;34m\u001b[0m\u001b[0m\n\u001b[1;32m   3216\u001b[0m     \u001b[0;32mexcept\u001b[0m \u001b[0m_core\u001b[0m\u001b[0;34m.\u001b[0m\u001b[0m_NotOkStatusException\u001b[0m \u001b[0;32mas\u001b[0m \u001b[0me\u001b[0m\u001b[0;34m:\u001b[0m\u001b[0;34m\u001b[0m\u001b[0m\n\u001b[0;32m-> 3217\u001b[0;31m       \u001b[0m_ops\u001b[0m\u001b[0;34m.\u001b[0m\u001b[0mraise_from_not_ok_status\u001b[0m\u001b[0;34m(\u001b[0m\u001b[0me\u001b[0m\u001b[0;34m,\u001b[0m \u001b[0mname\u001b[0m\u001b[0;34m)\u001b[0m\u001b[0;34m\u001b[0m\u001b[0m\n\u001b[0m\u001b[1;32m   3218\u001b[0m   \u001b[0;31m# Add nodes to the TensorFlow graph.\u001b[0m\u001b[0;34m\u001b[0m\u001b[0;34m\u001b[0m\u001b[0m\n\u001b[1;32m   3219\u001b[0m   \u001b[0;32mif\u001b[0m \u001b[0mincompatible_shape_error\u001b[0m \u001b[0;32mis\u001b[0m \u001b[0;32mNone\u001b[0m\u001b[0;34m:\u001b[0m\u001b[0;34m\u001b[0m\u001b[0m\n",
      "\u001b[0;32m~/.local/lib/python3.6/site-packages/tensorflow/python/framework/ops.py\u001b[0m in \u001b[0;36mraise_from_not_ok_status\u001b[0;34m(e, name)\u001b[0m\n\u001b[1;32m   6651\u001b[0m   \u001b[0mmessage\u001b[0m \u001b[0;34m=\u001b[0m \u001b[0me\u001b[0m\u001b[0;34m.\u001b[0m\u001b[0mmessage\u001b[0m \u001b[0;34m+\u001b[0m \u001b[0;34m(\u001b[0m\u001b[0;34m\" name: \"\u001b[0m \u001b[0;34m+\u001b[0m \u001b[0mname\u001b[0m \u001b[0;32mif\u001b[0m \u001b[0mname\u001b[0m \u001b[0;32mis\u001b[0m \u001b[0;32mnot\u001b[0m \u001b[0;32mNone\u001b[0m \u001b[0;32melse\u001b[0m \u001b[0;34m\"\"\u001b[0m\u001b[0;34m)\u001b[0m\u001b[0;34m\u001b[0m\u001b[0m\n\u001b[1;32m   6652\u001b[0m   \u001b[0;31m# pylint: disable=protected-access\u001b[0m\u001b[0;34m\u001b[0m\u001b[0;34m\u001b[0m\u001b[0m\n\u001b[0;32m-> 6653\u001b[0;31m   \u001b[0msix\u001b[0m\u001b[0;34m.\u001b[0m\u001b[0mraise_from\u001b[0m\u001b[0;34m(\u001b[0m\u001b[0mcore\u001b[0m\u001b[0;34m.\u001b[0m\u001b[0m_status_to_exception\u001b[0m\u001b[0;34m(\u001b[0m\u001b[0me\u001b[0m\u001b[0;34m.\u001b[0m\u001b[0mcode\u001b[0m\u001b[0;34m,\u001b[0m \u001b[0mmessage\u001b[0m\u001b[0;34m)\u001b[0m\u001b[0;34m,\u001b[0m \u001b[0;32mNone\u001b[0m\u001b[0;34m)\u001b[0m\u001b[0;34m\u001b[0m\u001b[0m\n\u001b[0m\u001b[1;32m   6654\u001b[0m   \u001b[0;31m# pylint: enable=protected-access\u001b[0m\u001b[0;34m\u001b[0m\u001b[0;34m\u001b[0m\u001b[0m\n\u001b[1;32m   6655\u001b[0m \u001b[0;34m\u001b[0m\u001b[0m\n",
      "\u001b[0;32m/cvmfs/sft.cern.ch/lcg/views/LCG_96python3/x86_64-centos7-gcc8-opt/lib/python3.6/site-packages/six.py\u001b[0m in \u001b[0;36mraise_from\u001b[0;34m(value, from_value)\u001b[0m\n",
      "\u001b[0;31mInvalidArgumentError\u001b[0m: Incompatible shapes: [284,284,2] vs. [3] [Op:Equal]"
     ]
    },
    {
     "data": {
      "image/png": "[encoded data removed]",
      "text/plain": [
       "<Figure size 720x2160 with 10 Axes>"
      ]
     },
     "metadata": {
      "needs_background": "light"
     },
     "output_type": "display_data"
    }
   ],
   "source": [
    "import matplotlib.pyplot as plt\n",
    "fig, ax = plt.subplots(ncols=2, nrows=5, figsize=(10, 30))\n",
    "i = 0\n",
    "for parsed_record in dataset.take(5):\n",
    "#     plt.imshow(parsed_record['image'][:,:,0])\n",
    "#     plt.colorbar()\n",
    "#     print(parsed_record['labels'])\n",
    "    output = cluster_maker(parsed_record)\n",
    "    A = output['proto'].numpy()\n",
    "    A1 = A[A[...,3] == 0][...,:3]\n",
    "    A2 = A[A[...,3] == 1][...,:3]\n",
    "    # A1 = np.unique(A1, axis=0)\n",
    "    # A2 = np.unique(A2, axis=0)\n",
    "    # print(A1)\n",
    "    sp = tf.SparseTensor(A1[...,1:3], A1[...,0], dense_shape=[HEIGHT,WIDTH])\n",
    "    A1_dense = tf.sparse.to_dense(tf.sparse.reorder(sp))\n",
    "    ax[i][0].imshow(A1_dense)\n",
    "    \n",
    "    output2 = cluster_splitter(output)\n",
    "#     A = output['cluster'].numpy()\n",
    "#     A1 = A[A[...,3] == 0][...,:3]\n",
    "#     A2 = A[A[...,3] == 1][...,:3]\n",
    "#     # A1 = np.unique(A1, axis=0)\n",
    "#     # A2 = np.unique(A2, axis=0)\n",
    "#     # print(A1)\n",
    "#     sp = tf.SparseTensor(A1[...,1:3], A1[...,0], dense_shape=[HEIGHT,WIDTH])\n",
    "#     A1_dense = tf.sparse.to_dense(tf.sparse.reorder(sp))\n",
    "#     ax[i][1].imshow(A1_dense)\n",
    "    \n",
    "    \n",
    "    i += 1"
   ]
  },
  {
   "cell_type": "markdown",
   "metadata": {},
   "source": [
    "# Topological Clustering"
   ]
  },
  {
   "cell_type": "markdown",
   "metadata": {},
   "source": [
    "Groups neighboring cells of significant energy into clusters with a variable number of cells (vs sliding-window algorithm). Cluster growth starts at seed cells, i.e. cells with significance above $t_\\text{seed}$ (high). Neighboring cells become new seeds if their significance are above $t_\\text{neighbor}$ (medium). If a neighboring cell has significance only above $t_\\text{cell}$ (low) it is simply added to the cluster without functioning as a seed. The low threshold means shower tails are not discarded, the other thresholds supress noise. This algorithm consists of two steps: the cluster maker and the cluster splitter."
   ]
  },
  {
   "cell_type": "markdown",
   "metadata": {},
   "source": [
    "## Cluster maker"
   ]
  },
  {
   "cell_type": "markdown",
   "metadata": {},
   "source": [
    "Forms topological clusters from cells and consists of the following steps:\n",
    "\n",
    "* **Finding seeds**: seed list consists of cells with significance above $t_\\text{seed}$. Neighboring seed cells form initial proto-clusters (vs paper where each seed cell forms a proto-cluster) - possibly look at later. NB missing noise!\n",
    "* **Finding neighbors**: current seed list ordered in descending order in significance. Consider neighboring cells of each seed cell in turn: a) if significance above $t_\\text{neighbor}$ it is added to the neighbor seed list and adjacent proto-cluster; if adjacent to multiple proto-clusters, these are merged. b) if significance only above $t_\\text{cell}$ cell included only in first adjacent proto-cluster (which has the more significant neighbor due to the sorting), not in the neighbor seed list (it is unclear from the paper if the latter is true). When all seed cells have been processed, the neighbor seed list becomes the new seed list. This procedure of neighbor finding is repeated until the seed list is empty.\n",
    "* **Finalize**: resulting proto-clusters are sorted in descending order in $E_T$ and filtered $E_T>t_\\text{energy}$ - does $E_T$ refer to transverse energy or total energy or total energy above threshold?  \n",
    "\n",
    "\"Neighboring\" is here defined as the eight surronding cells within the same channel and overlapping cells in adjacent channels. The scintillating and Cerenkov signals are treated as two different channels, consequently, each cell has nine neighbors. "
   ]
  },
  {
   "cell_type": "markdown",
   "metadata": {},
   "source": [
    "### Finding seeds"
   ]
  },
  {
   "cell_type": "code",
   "execution_count": 42,
   "metadata": {},
   "outputs": [],
   "source": [
    "# from skimage.measure import label\n",
    "import skimage\n",
    "\n",
    "f = lambda x: skimage.measure.label(x, connectivity=2)\n",
    "\n",
    "def finding_seeds(image):\n",
    "    \"\"\"Finding seeds and create seed list\"\"\"\n",
    "    seed_mask = tf.math.greater(image, TSEED)\n",
    "    labels = tf.numpy_function(f, [seed_mask], Tout=tf.int64)\n",
    "    seed_idx = tf.where(tf.not_equal(labels, 0))\n",
    "    seed_id = tf.expand_dims(tf.gather_nd(labels, seed_idx), axis=1)\n",
    "    seed_list = tf.concat([seed_id, seed_idx], axis=-1)\n",
    "    return seed_list"
   ]
  },
  {
   "cell_type": "markdown",
   "metadata": {},
   "source": [
    "### Finding neighbors"
   ]
  },
  {
   "cell_type": "code",
   "execution_count": 43,
   "metadata": {},
   "outputs": [],
   "source": [
    "def sorting_seedlist(seed_list, seed_len, image):\n",
    "    \"\"\"Sorts current seed list in descending order\"\"\"\n",
    "    seed_id, seed_idx = tf.split(seed_list, num_or_size_splits=[1,3], axis=1)\n",
    "    seeds = tf.gather_nd(image, seed_idx)\n",
    "    values, indices = tf.math.top_k(seeds, k=seed_len)\n",
    "    return tf.gather(seed_list, indices)"
   ]
  },
  {
   "cell_type": "code",
   "execution_count": 44,
   "metadata": {},
   "outputs": [],
   "source": [
    "# def neighbors(index, seed_list=tf.zeros([0, 3], tf.int64)):\n",
    "#     \"\"\"8-1 connectivity\"\"\"\n",
    "    \n",
    "#     # indices of 3x3x1 centred at (i,j,k)\n",
    "#     i, j, k = tf.unstack(index)\n",
    "#     ii, jj = tf.meshgrid(tf.range(i-1, i+2), tf.range(j-1, j+2), indexing='ij')\n",
    "#     ii = tf.reshape(ii, [-1, 1])\n",
    "#     jj = tf.reshape(jj, [-1, 1])\n",
    "#     kk = tf.repeat(tf.reshape(k, (1, 1)), repeats=[9], axis=0)\n",
    "#     a = tf.concat([ii, jj, kk], axis=-1)\n",
    "    \n",
    "#     # append index (i,j) in other k channel\n",
    "#     a = tf.concat([a, [[i, j, tf.math.abs(k-1)]]], axis=0)\n",
    "    \n",
    "#     # remove centre point (i,j,k)\n",
    "#     mask_centre = tf.reduce_any(tf.not_equal(a, index), axis=-1)\n",
    "    \n",
    "#     # remove points outside image\n",
    "#     b = tf.expand_dims(a, axis=-1)\n",
    "#     c = tf.transpose(tf.constant([[HEIGHT,-1, -1], [-1,WIDTH,-1]], dtype=b.dtype))\n",
    "#     mask_boundary = tf.reduce_all(tf.not_equal(b, c), axis=[-2,-1])\n",
    "#     mask = tf.logical_and(mask_centre, mask_boundary)\n",
    "#     a = tf.boolean_mask(a, mask)\n",
    "    \n",
    "#     # remove points already in seed list\n",
    "#     sp_a = tf.SparseTensor(a, tf.ones(len(a), dtype=tf.bool), dense_shape=[HEIGHT, WIDTH, 2])\n",
    "#     dense_a = tf.sparse.to_dense(tf.sparse.reorder(sp_a))\n",
    "#     sp_seedlist = tf.SparseTensor(seed_list, tf.ones(len(seed_list), dtype=tf.bool), dense_shape=[HEIGHT, WIDTH, 2])\n",
    "#     dense_seedlist = tf.sparse.to_dense(tf.sparse.reorder(sp_seedlist))\n",
    "#     mask_seedlist = tf.logical_and(dense_a, tf.math.logical_not(dense_seedlist))\n",
    "#     neighbors = tf.where(mask_seedlist)\n",
    "#     return neighbors"
   ]
  },
  {
   "cell_type": "code",
   "execution_count": 45,
   "metadata": {},
   "outputs": [],
   "source": [
    "def neighbors(index, excl=tf.zeros([0, 3], tf.int64), incl=tf.zeros([0, 3], tf.int64)):\n",
    "    \"\"\"8-1 connectivity\"\"\"\n",
    "    \n",
    "    # indices of 3x3x1 centred at (i,j,k)\n",
    "    i, j, k = tf.unstack(index)\n",
    "#     i = i[0]\n",
    "#     j = j[0]\n",
    "#     k = k[0]\n",
    "    ii, jj = tf.meshgrid(tf.range(i-1, i+2), tf.range(j-1, j+2), indexing='ij')\n",
    "    ii = tf.reshape(ii, [-1, 1])\n",
    "    jj = tf.reshape(jj, [-1, 1])\n",
    "    kk = tf.repeat(tf.reshape(k, (1, 1)), repeats=[9], axis=0)\n",
    "    a = tf.concat([ii, jj, kk], axis=-1)\n",
    "    \n",
    "    # append index (i,j) in other k channel\n",
    "    a = tf.concat([a, [[i, j, tf.math.abs(k-1)]]], axis=0)\n",
    "    \n",
    "    # remove centre point (i,j,k)\n",
    "    mask_centre = tf.reduce_any(tf.not_equal(a, index), axis=-1)\n",
    "    \n",
    "    # remove points outside image\n",
    "    b = tf.expand_dims(a, axis=-1)\n",
    "    c = tf.transpose(tf.constant([[HEIGHT,-1, -1], [-1,WIDTH,-1]], dtype=b.dtype))\n",
    "    mask_boundary = tf.reduce_all(tf.not_equal(b, c), axis=[-2,-1])\n",
    "    mask = tf.logical_and(mask_centre, mask_boundary)\n",
    "    a = tf.boolean_mask(a, mask)\n",
    "    \n",
    "    # remove points in excl and only consider points in incl\n",
    "    a_sp = tf.SparseTensor(a, tf.ones(tf.shape(a)[0], dtype=tf.bool), dense_shape=[HEIGHT, WIDTH, 2])\n",
    "    a_d = tf.sparse.to_dense(tf.sparse.reorder(a_sp))\n",
    "    excl_sp = tf.SparseTensor(excl, tf.ones(tf.shape(excl)[0], dtype=tf.bool), dense_shape=[HEIGHT, WIDTH, 2])\n",
    "    excl_d = tf.sparse.to_dense(tf.sparse.reorder(excl_sp))\n",
    "    incl_sp = tf.SparseTensor(incl, tf.ones(tf.shape(incl)[0], dtype=tf.bool), dense_shape=[HEIGHT, WIDTH, 2])\n",
    "    incl_d = tf.sparse.to_dense(tf.sparse.reorder(incl_sp))\n",
    "    mask_final = tf.logical_and(a_d, tf.logical_not(excl_d))\n",
    "    \n",
    "    true_fn = lambda: tf.logical_and(mask_final, incl_d)\n",
    "    mask_final = tf.cond(tf.greater(tf.shape(incl)[0], 0), true_fn, lambda: mask_final)\n",
    "    \n",
    "    neighbors = tf.where(mask_final)\n",
    "    return neighbors"
   ]
  },
  {
   "cell_type": "code",
   "execution_count": 46,
   "metadata": {},
   "outputs": [],
   "source": [
    "def merge_adjacent_proto(nj, siid, m, p, s, l):\n",
    "    \"\"\"Merge adjacent proto-clusters\"\"\"\n",
    "    sid, sidx = tf.split(s, num_or_size_splits=[1,3], axis=1)\n",
    "    lid, lidx = tf.split(l, num_or_size_splits=[1,3], axis=1)\n",
    "    proto_id, proto_idx = tf.split(p, num_or_size_splits=[1,3], axis=1)\n",
    "    nnj = neighbors(nj, excl=sidx)\n",
    "    nnj_sp = tf.SparseTensor(nnj, tf.ones(tf.shape(nnj)[0], tf.bool), dense_shape=[HEIGHT, WIDTH, 2])\n",
    "    nnj_d = tf.sparse.to_dense(tf.sparse.reorder(nnj_sp))\n",
    "    proto_sp = tf.SparseTensor(proto_idx, tf.reshape(proto_id, [-1,]), dense_shape=[HEIGHT, WIDTH, 2])\n",
    "    proto_d = tf.sparse.to_dense(tf.sparse.reorder(proto_sp))\n",
    "    indices = tf.where(tf.logical_and(tf.logical_and(nnj_d, tf.not_equal(proto_d, 0)), tf.greater(m, TNEIGHBOR)))\n",
    "#     indices = tf.where(tf.logical_and(nnj_d, tf.not_equal(proto_d, 0)))\n",
    "    values = tf.gather_nd(proto_d, indices)\n",
    "    values = tf.boolean_mask(values, tf.not_equal(values, siid))\n",
    "\n",
    "    # loop over values\n",
    "    k0 = tf.constant(0)\n",
    "    ck = lambda k, p, s, l: tf.less(k, tf.shape(values)[0])\n",
    "    def bk(k, p, s, l):\n",
    "        neigh_id = tf.gather(values, k)\n",
    "        pnew = tf.where(tf.equal(proto_d, neigh_id), tf.reshape(siid, [-1,])*tf.ones_like(p), p)\n",
    "        snew = tf.where(tf.equal(sid, neigh_id), tf.reshape(siid, [-1,])*tf.ones_like(s), s)\n",
    "        lnew = tf.where(tf.equal(lid, neigh_id), tf.reshape(siid, [-1,])*tf.ones_like(l), l)\n",
    "        return [tf.add(k, 1), pnew, snew, lnew]\n",
    "    k, p, sid, lid = tf.while_loop(ck, bk, loop_vars=[k0, proto_d, sid, lid],\n",
    "                                   shape_invariants=[k0.get_shape(), proto_d.get_shape(),\n",
    "                                                     sid.get_shape(), lid.get_shape()])                \n",
    "    indices = tf.where(tf.not_equal(p, 0))\n",
    "    values = tf.expand_dims(tf.gather_nd(p, indices), axis=1)\n",
    "    pnew = tf.concat([values, indices], axis=1)\n",
    "    snew = tf.concat([sid, sidx], axis=1)\n",
    "    lnew = tf.concat([lid, lidx], axis=1)\n",
    "    return [pnew, snew, lnew]\n",
    "\n",
    "\n",
    "def bj_maker(j, m, p, s, l, n, siid):\n",
    "    \"\"\"Body of while loop over neighbors\"\"\"\n",
    "    nj = tf.gather(n, j)\n",
    "    nval = tf.gather_nd(m, nj)\n",
    "    nnew = tf.expand_dims(tf.concat([siid, nj], axis=0), axis=0)\n",
    "\n",
    "    def tneighbor(siid=siid):\n",
    "        \"\"\"Append cells to both proto-clusters and neighbor seed list if value above TNEIGHBOR\"\"\"\n",
    "        [pnew, snew, lnew] = merge_adjacent_proto(nj, siid, m, p, s, l)\n",
    "        pnew = tf.concat([pnew, nnew], axis=0)\n",
    "        lnew = tf.concat([lnew, nnew], axis=0)\n",
    "        return [pnew, snew, lnew]\n",
    "\n",
    "    def tcell():\n",
    "        \"\"\"Append cells to proto-clusters if value above TCELL\"\"\"\n",
    "        def true_fn():\n",
    "            return tf.concat([p, nnew], axis=0)\n",
    "        def false_fn(): return p\n",
    "        pnew = tf.cond(tf.greater(nval, TCELL), true_fn, false_fn)\n",
    "        return [pnew, s, l]\n",
    "    \n",
    "    [pnew, snew, lnew] = tf.cond(tf.greater(nval, TNEIGHBOR), true_fn=tneighbor, false_fn=tcell)\n",
    "    \n",
    "    return [tf.add(j, 1), m, pnew, snew, lnew, n, siid]\n",
    "    \n",
    "\n",
    "def bi_maker(i, m, p, s, l):\n",
    "    \"\"\"Body of while loop over current seed list\"\"\"\n",
    "    si = tf.gather(s, i)\n",
    "    \n",
    "    # find neighbours not in protolist\n",
    "    siid, siidx = tf.split(si, num_or_size_splits=[1,3], axis=0)\n",
    "    _, pidx = tf.split(p, num_or_size_splits=[1,3], axis=1)\n",
    "    n = neighbors(siidx, excl=pidx)\n",
    "    \n",
    "    # loop over neighbors\n",
    "    j0 = tf.constant(0)\n",
    "    cj = lambda j, m, p, s, l, n, siid: tf.less(j, tf.shape(n)[0])\n",
    "    _, m, p, s, l, _, _ = tf.while_loop(\n",
    "        cj, bj_maker, loop_vars=[j0, m, p, s, l, n, siid],\n",
    "        shape_invariants=[j0.get_shape(), m.get_shape(), tf.TensorShape([None, 4]),\n",
    "                          s.get_shape(), tf.TensorShape([None, 4]),\n",
    "                          n.get_shape(), siid.get_shape()])\n",
    "    \n",
    "    return [tf.add(i, 1), m, p, s, l]\n",
    "    \n",
    "def finding_neighbors_maker(m, p, s):\n",
    "    \"\"\"Finding neighbors recursively until current seed list is empty.\n",
    "    m: image, p: protolist, s: seedlist, l: neighlist, n: neighbor\"\"\"\n",
    "#     slen = s.get_shape()[0]\n",
    "    slen = tf.shape(s)[0]\n",
    "    \n",
    "    # sort current seed list in descending order\n",
    "    s = sorting_seedlist(s, slen, m)\n",
    "    \n",
    "    # loop over current seed list\n",
    "    i0, l0 = tf.constant(0), tf.zeros([0,4], tf.int64)\n",
    "    ci = lambda i, m, p, s, l: tf.less(i, slen)\n",
    "    _, m, pnew, s, lnew = tf.while_loop(\n",
    "        ci, bi_maker, loop_vars=[i0, m, p, s, l0],\n",
    "        shape_invariants=[i0.get_shape(), m.get_shape(), tf.TensorShape([None, 4]),\n",
    "                          s.get_shape(), tf.TensorShape([None, 4])])\n",
    "    # neighbor seed list becomes the new seed list\n",
    "    snew = lnew\n",
    "    \n",
    "    # repeated until current seed list is empty\n",
    "    def true_fn(): return finding_neighbors_maker(m, pnew, snew)\n",
    "    def false_fn(): return pnew\n",
    "    slen = tf.shape(snew)[0]\n",
    "    print(slen)\n",
    "    pnew = tf.cond(tf.greater(slen, 0), true_fn, false_fn)\n",
    "    return pnew"
   ]
  },
  {
   "cell_type": "markdown",
   "metadata": {},
   "source": [
    "### Finalize cluster maker"
   ]
  },
  {
   "cell_type": "code",
   "execution_count": 47,
   "metadata": {},
   "outputs": [],
   "source": [
    "def renumber_proto(s):\n",
    "    sid, sidx = tf.split(s, num_or_size_splits=[1,3], axis=1)\n",
    "    u, uid = tf.unique(tf.reshape(sid, [-1]), out_idx=sid.dtype)\n",
    "    ulen = tf.shape(u)[0]\n",
    "    uid = tf.reshape(tf.add(uid, 1), [-1,1])\n",
    "    s = tf.concat([uid, sidx], axis=1)\n",
    "    return s"
   ]
  },
  {
   "cell_type": "code",
   "execution_count": 62,
   "metadata": {},
   "outputs": [],
   "source": [
    "def finalize_maker(m, s):\n",
    "    \"\"\"Finalize cluster maker by removing clusters with energy \n",
    "    less than TENERGY and sort in descending order in energy\"\"\"\n",
    "    \n",
    "    # compute total cluster energy\n",
    "    sid, sidx = tf.split(s, num_or_size_splits=[1,3], axis=1)\n",
    "    u, uid = tf.unique(tf.reshape(sid, [-1]), out_idx=sid.dtype)\n",
    "    ulen = tf.shape(u)[0]\n",
    "    uid = tf.reshape(tf.add(uid, 1), [-1,1])\n",
    "    s = tf.concat([uid, sidx], axis=1)\n",
    "    \n",
    "    s_sp = tf.SparseTensor(sidx, tf.reshape(uid, [-1,]), dense_shape=[HEIGHT, WIDTH, 2])\n",
    "    s_dense = tf.sparse.to_dense(tf.sparse.reorder(s_sp))\n",
    "    i0 = tf.constant(1, s_dense.dtype)\n",
    "    E0 = tf.constant([], m.dtype)\n",
    "    c = lambda i, E: tf.less(i, tf.cast(ulen+1, s_dense.dtype))\n",
    "    def b(i, E):\n",
    "        indices = tf.where(tf.equal(s_dense, i))\n",
    "        values = tf.gather_nd(m, indices)\n",
    "        Ei = tf.expand_dims(tf.reduce_sum(values), axis=0)\n",
    "        return [tf.add(i, 1), tf.concat([E, Ei], axis=0)]\n",
    "    _, E = tf.while_loop(c, b, loop_vars=[i0, E0], shape_invariants=[i0.get_shape(), tf.TensorShape([None, 1])])\n",
    "    print(E)\n",
    "    \n",
    "    # sort in descending order in energy and remove clusters with energy less than TENERGY\n",
    "    values, indices = tf.math.top_k(E, k=ulen)\n",
    "    indices = tf.cast(tf.add(indices, 1), s_dense.dtype)\n",
    "    indices = tf.boolean_mask(indices, tf.greater(values, TENERGY))\n",
    "    i0 = tf.constant(0)\n",
    "    p0 = tf.zeros_like(s_dense)\n",
    "    c = lambda i, p: tf.less(i, tf.shape(indices)[0])\n",
    "    def b(i, p):\n",
    "        ii = tf.gather(indices, i)\n",
    "        pnew = tf.add(p, tf.where(tf.equal(s_dense, ii), s_dense, tf.zeros_like(s_dense)))\n",
    "        return [tf.add(i, 1), pnew]\n",
    "    _, p = tf.while_loop(c, b, loop_vars=[i0, p0], shape_invariants=[i0.get_shape(), p0.get_shape()])\n",
    "    sidx = tf.where(tf.not_equal(p, 0))\n",
    "    sid = tf.expand_dims(tf.gather_nd(p, sidx), axis=1)\n",
    "    s = tf.concat([sid, sidx], axis=1)\n",
    "    \n",
    "    s = renumber_proto(s)\n",
    "    \n",
    "    return s"
   ]
  },
  {
   "cell_type": "markdown",
   "metadata": {},
   "source": [
    "### Cluster maker"
   ]
  },
  {
   "cell_type": "code",
   "execution_count": 102,
   "metadata": {},
   "outputs": [],
   "source": [
    "def cluster_maker(parsed):    \n",
    "    image = parsed['image']\n",
    "    \n",
    "    seedlist = finding_seeds(image)\n",
    "    seedlist = finding_neighbors_maker(image, seedlist, seedlist)\n",
    "    seedlist = finalize_maker(image, seedlist)\n",
    "    \n",
    "    parsed['proto'] = seedlist \n",
    "    return parsed"
   ]
  },
  {
   "cell_type": "code",
   "execution_count": null,
   "metadata": {
    "scrolled": false
   },
   "outputs": [],
   "source": []
  },
  {
   "cell_type": "code",
   "execution_count": null,
   "metadata": {},
   "outputs": [],
   "source": []
  },
  {
   "cell_type": "code",
   "execution_count": 310,
   "metadata": {},
   "outputs": [
    {
     "name": "stdout",
     "output_type": "stream",
     "text": [
      "[[[0. 1.]\n",
      "  [0. 0.]\n",
      "  [0. 0.]]\n",
      "\n",
      " [[0. 0.]\n",
      "  [1. 0.]\n",
      "  [0. 0.]]\n",
      "\n",
      " [[0. 0.]\n",
      "  [0. 0.]\n",
      "  [1. 2.]]]\n",
      "(array([[[0, 1],\n",
      "        [0, 0],\n",
      "        [0, 0]],\n",
      "\n",
      "       [[0, 0],\n",
      "        [2, 0],\n",
      "        [0, 0]],\n",
      "\n",
      "       [[0, 0],\n",
      "        [0, 0],\n",
      "        [2, 3]]]), 3)\n"
     ]
    }
   ],
   "source": [
    "# test skimage.measure.label\n",
    "seed_mask = np.zeros([3,3,2])\n",
    "seed_mask[1,1,0] = 1\n",
    "seed_mask[2,2,0] = 1\n",
    "seed_mask[2,2,1] = 2\n",
    "seed_mask[0,0,1] = 1\n",
    "print(seed_mask)\n",
    "print(label(seed_mask, return_num=True, connectivity=2))"
   ]
  },
  {
   "cell_type": "markdown",
   "metadata": {},
   "source": [
    "## Cluster splitter"
   ]
  },
  {
   "cell_type": "markdown",
   "metadata": {},
   "source": [
    "The cluster maker is sufficient for isolated signals, but not for overlapping showers. If individual particles form local maxima they may still be separable. Acting on the clusters resulting from the cluster maker, this is what the cluster splitter does in the followning steps:\n",
    "\n",
    "* **Finding local maxima**: a local maxima is defined as a cell with: a) $E>t_\\text{locmax}$, b) energy greater than that of any neighboring cell, and c) number of neighboring cells withing the parent cluster $N>t_\\text{number}$ (default is $\\geq4$). Each local maximum forms a cluster and parent clusters without any local maximum cell will not be split.\n",
    "* **Finding neighbors**: the local maxima now becomes the initial seed list much like in cluster maker, except that only cells originally clustered are used, without thresholding and merging. Instead of merging, shared cells are added to a shared cell list to be handled separately.\n",
    "* **Shared cells**: the shared cell list is expanded iteratively adding neighbors from the originally clustered cells not yet assigned to any proto-cluster. Each of these are then added to the two adjoining proto-clusters with the weights $w_1=\\frac{E_{1}}{E_{1}+rE_{2}}, w_{2}=1-w_{1}, r=\\exp(d_{1}-d_{2})$, where $E_{1,2}$ are the energies of the two proto-clusters and $d_{1,2}$ are the distances of the shared cell to the proto-cluster centroids in units of a typical em shower scale.\n",
    "* **Finalize**:"
   ]
  },
  {
   "cell_type": "markdown",
   "metadata": {},
   "source": [
    "### Finding local maxima"
   ]
  },
  {
   "cell_type": "code",
   "execution_count": 214,
   "metadata": {},
   "outputs": [],
   "source": [
    "def finding_local_maxima(m, p):\n",
    "    \"\"\"Find local maxima cells by looping over protolist.\n",
    "    m: filtered image, x: local maxima\"\"\"\n",
    "    \n",
    "    # loop over protolist\n",
    "    i0 = tf.constant(0)\n",
    "    x = tf.zeros([0, 4], p.dtype)\n",
    "    c = lambda i, p, x: tf.less(i, tf.shape(p)[0])\n",
    "    def b(i, p, x):\n",
    "        pi = tf.gather(p, i)\n",
    "        piid, piidx = tf.split(pi, num_or_size_splits=[1,3], axis=0)\n",
    "        pval = tf.gather_nd(m, piidx)\n",
    "        midx = tf.where(tf.greater(m, 0))\n",
    "        nidx = neighbors(piidx, incl=midx)\n",
    "        m_val = tf.gather_nd(m, nidx)\n",
    "#         m_val = tf.boolean_mask(m_val, tf.greater(m_val, 0))\n",
    "\n",
    "        pred = tf.logical_and(tf.logical_and(tf.greater(pval, TLOCMAX), \n",
    "                                      tf.greater(pval, tf.math.reduce_max(m_val))),\n",
    "                                      tf.greater(m_val.get_shape()[0], TNUMBER))\n",
    "        r = tf.cond(pred, lambda: tf.expand_dims(pi, axis=0), lambda: tf.zeros([0, 4], pi.dtype))\n",
    "        \n",
    "        return [tf.add(i, 1), p, tf.concat([x, r], axis=0)]\n",
    "    \n",
    "    _, p, x = tf.while_loop(\n",
    "        c, b, loop_vars=[i0, p, x], \n",
    "        shape_invariants=[i0.get_shape(), p.get_shape(), tf.TensorShape([None, 4])])\n",
    "    \n",
    "    return x"
   ]
  },
  {
   "cell_type": "markdown",
   "metadata": {},
   "source": [
    "### Finding neighbors"
   ]
  },
  {
   "cell_type": "code",
   "execution_count": 215,
   "metadata": {},
   "outputs": [],
   "source": [
    "def is_shared(nj, p, siid):\n",
    "    nnj = neighbors(nj)\n",
    "    proto_id, proto_idx = tf.split(p, num_or_size_splits=[1,3], axis=1)\n",
    "    nnj_sp = tf.SparseTensor(nnj, tf.ones(tf.shape(nnj)[0], tf.bool), dense_shape=[HEIGHT, WIDTH, 2])\n",
    "    nnj_d = tf.sparse.to_dense(tf.sparse.reorder(nnj_sp))\n",
    "    proto_sp = tf.SparseTensor(proto_idx, tf.reshape(proto_id, [-1,]), dense_shape=[HEIGHT, WIDTH, 2])\n",
    "    proto_d = tf.sparse.to_dense(tf.sparse.reorder(proto_sp))\n",
    "    indices = tf.where(tf.logical_and(nnj_d, tf.not_equal(proto_d, 0)))\n",
    "    values = tf.gather_nd(proto_d, indices)\n",
    "    y, idx = tf.unique(values)\n",
    "    return [y, tf.equal(y.get_shape()[0], 2)]\n",
    "\n",
    "def bj_splitter(j, m, p, s, l, o, n, siid):\n",
    "    \"\"\"Body of while loop over neighbors\"\"\"\n",
    "    nj = tf.gather(n, j)\n",
    "    \n",
    "    ids, pred = is_shared(nj, p, siid)\n",
    "    \n",
    "    def true_fn():\n",
    "        nnew = tf.expand_dims(tf.concat([ids, nj], axis=0), axis=0)\n",
    "        onew = tf.concat([o, nnew], axis=0)\n",
    "        return [p, s, l, onew]\n",
    "    def false_fn():\n",
    "        nnew = tf.expand_dims(tf.concat([siid, nj], axis=0), axis=0)\n",
    "        pnew = tf.concat([p, nnew], axis=0)\n",
    "        lnew = tf.concat([l, nnew], axis=0)\n",
    "        return [pnew, s, lnew, o]\n",
    "\n",
    "    [pnew, snew, lnew, onew] = tf.cond(pred, true_fn, false_fn)\n",
    "        \n",
    "    return [tf.add(j, 1), m, pnew, snew, lnew, onew, n, siid]\n",
    "\n",
    "def bi_splitter(i, m, p, s, l, o):\n",
    "    \"\"\"Body of while loop over current seed list\"\"\"\n",
    "    si = tf.gather(s, i)\n",
    "    \n",
    "    # find neighbours not in protolist and only include cells originally clustered\n",
    "    siid, siidx = tf.split(si, num_or_size_splits=[1,3], axis=0)\n",
    "    _, pidx = tf.split(p, num_or_size_splits=[1,3], axis=1)\n",
    "    _, oidx = tf.split(o, num_or_size_splits=[2,3], axis=1)\n",
    "    midx = tf.where(tf.greater(m, 0))\n",
    "    \n",
    "    n = neighbors(siidx, excl=tf.concat([pidx, oidx], axis=0), incl=midx)\n",
    "    \n",
    "    # loop over neighbors\n",
    "    j0 = tf.constant(0)\n",
    "    cj = lambda j, m, p, s, l, o, n, siid: tf.less(j, n.get_shape()[0])\n",
    "    _, m, p, s, l, o, _, _ = tf.while_loop(\n",
    "        cj, bj_splitter, loop_vars=[j0, m, p, s, l, o, n, siid],\n",
    "        shape_invariants=[j0.get_shape(), m.get_shape(), tf.TensorShape([None, 4]),\n",
    "                          s.get_shape(), tf.TensorShape([None, 5]), tf.TensorShape([None, 4]),\n",
    "                          n.get_shape(), siid.get_shape()])\n",
    "    \n",
    "    return [tf.add(i, 1), m, p, s, l, o]\n",
    "\n",
    "def finding_neighbors_splitter(m, p, s, o):\n",
    "    \"\"\"Finding neighbors recursively until current seed list is empty.\n",
    "    m: image, p: protolist, s: seedlist, l: neighlist, n: neighbor, o: sharedlist\"\"\"\n",
    "    slen = tf.shape(s)[0]\n",
    "    \n",
    "    # sort current seed list in descending order\n",
    "    s = sorting_seedlist(s, slen, m)\n",
    "    \n",
    "    # loop over current seed list\n",
    "    i0, l0 = tf.constant(0), tf.zeros([0,4], tf.int64)\n",
    "    ci = lambda i, m, p, s, l, o: tf.less(i, slen)\n",
    "    _, m, pnew, s, lnew, onew = tf.while_loop(\n",
    "        ci, bi_splitter, loop_vars=[i0, m, p, s, l0, o],\n",
    "        shape_invariants=[i0.get_shape(), m.get_shape(), \n",
    "                          tf.TensorShape([None, 4]), s.get_shape(),\n",
    "                          tf.TensorShape([None, 4]), tf.TensorShape([None, 5])])\n",
    "    \n",
    "    # neighbor seed list becomes the new seed list\n",
    "    snew = lnew\n",
    "    \n",
    "    # repeated until current seed list is empty\n",
    "    def true_fn(): return finding_neighbors_splitter(m, pnew, snew, onew)\n",
    "    def false_fn(): return [pnew, onew]\n",
    "    slen = tf.shape(snew)[0]\n",
    "    print(slen)\n",
    "    [pnew, onew] = tf.cond(tf.greater(slen, 0), true_fn, false_fn)\n",
    "    return [pnew, onew]"
   ]
  },
  {
   "cell_type": "markdown",
   "metadata": {},
   "source": [
    "### Shared cells"
   ]
  },
  {
   "cell_type": "code",
   "execution_count": 216,
   "metadata": {},
   "outputs": [],
   "source": [
    "def bj_shared(j, p, l, n, siid):\n",
    "    \"\"\"Body of while loop over neighbors\"\"\"\n",
    "    nj = tf.gather(n, j)\n",
    "    nnew = tf.expand_dims(tf.concat([siid, nj], axis=0), axis=0)\n",
    "    pnew = tf.concat([p, nnew], axis=0)\n",
    "    lnew = tf.concat([l, nnew], axis=0)\n",
    "    return [tf.add(j, 1), pnew, lnew, n, siid]\n",
    "\n",
    "def bi_shared(i, m, p, s, l):\n",
    "    \"\"\"Body of while loop over current seed list\"\"\"\n",
    "    si = tf.gather(s, i)\n",
    "    \n",
    "    # find neighbours not in protolist and only include cells originally clustered\n",
    "    siid, siidx = tf.split(si, num_or_size_splits=[2,3], axis=0)\n",
    "    _, pidx = tf.split(p, num_or_size_splits=[2,3], axis=1)\n",
    "    midx = tf.where(m)\n",
    "    \n",
    "    n = neighbors(siidx, excl=pidx, incl=midx)\n",
    "    \n",
    "    # loop over neighbors\n",
    "    j0 = tf.constant(0)\n",
    "    cj = lambda j, p, l, n, siid: tf.less(j, n.get_shape()[0])\n",
    "    _, p, l, _, _ = tf.while_loop(\n",
    "        cj, bj_shared, loop_vars=[j0, p, l, n, siid],\n",
    "        shape_invariants=[j0.get_shape(), tf.TensorShape([None, 5]), tf.TensorShape([None, 5]),\n",
    "                          n.get_shape(), siid.get_shape()])\n",
    "    \n",
    "    return [tf.add(i, 1), m, p, s, l]\n",
    "\n",
    "def expand_sharedlist(m, p, s):\n",
    "    # loop over current seed list\n",
    "    i0, l0 = tf.constant(0), tf.zeros([0,5], s.dtype)\n",
    "    ci = lambda i, m, p, s, l: tf.less(i, s.get_shape()[0])\n",
    "    _, _, pnew, s, lnew = tf.while_loop(\n",
    "        ci, bi_shared, loop_vars=[i0, m, p, s, l0],\n",
    "        shape_invariants=[i0.get_shape(), m.get_shape(), tf.TensorShape([None, 5]), \n",
    "                          s.get_shape(), tf.TensorShape([None, 5])])\n",
    "    \n",
    "    # neighbor seed list becomes the new seed list\n",
    "    snew = lnew\n",
    "    \n",
    "    # repeated until current seed list is empty\n",
    "    def true_fn(): return expand_sharedlist(m, pnew, snew)\n",
    "    def false_fn(): return pnew\n",
    "    slen = snew.get_shape()[0]\n",
    "    pnew = tf.cond(tf.greater(slen, 0), true_fn, false_fn)\n",
    "    return pnew"
   ]
  },
  {
   "cell_type": "markdown",
   "metadata": {},
   "source": [
    "### Finalize cluster splitter"
   ]
  },
  {
   "cell_type": "code",
   "execution_count": 217,
   "metadata": {},
   "outputs": [],
   "source": [
    "def finalize_splitter(m, p, o):\n",
    "    pid, pidx = tf.split(p, num_or_size_splits=[1,3], axis=1)\n",
    "    pval = tf.gather_nd(m, pidx)\n",
    "    psp = tf.SparseTensor(pidx, tf.reshape(pid, [-1,]), dense_shape=[HEIGHT, WIDTH, 2])\n",
    "    pd = tf.sparse.to_dense(tf.sparse.reorder(psp))\n",
    "    pnew = tf.concat([tf.cast(pid, pval.dtype), tf.cast(pidx, pval.dtype), tf.expand_dims(pval, axis=1)], axis=1)\n",
    "    \n",
    "    y = tf.unique(tf.reshape(pid, [-1,]))[0]\n",
    "    print(y)\n",
    "    \n",
    "    i0, com0, E0 = tf.constant(0), tf.zeros([0, 3], m.dtype), tf.zeros([0, 1], m.dtype)\n",
    "    ci = lambda i, com, E: tf.less(i, y.get_shape()[0])\n",
    "    def bi(i, com, E):\n",
    "        yi = tf.gather(y, i)\n",
    "        indices = tf.where(tf.equal(pd, yi))\n",
    "        values = tf.expand_dims(tf.gather_nd(m, indices), axis=1)\n",
    "        indices = tf.cast(indices, values.dtype)\n",
    "        comi = tf.reduce_sum(tf.multiply(indices, values), axis=0)\n",
    "        Ei = tf.reduce_sum(values)\n",
    "        comi = tf.divide(comi, Ei)\n",
    "        comi = tf.expand_dims(comi, axis=0)\n",
    "        Ei = tf.reshape(Ei, [-1,1])\n",
    "        return [tf.add(i, 1), tf.concat([com, comi], axis=0), tf.concat([E, Ei], axis=0)]\n",
    "    _, com, E = tf.while_loop(\n",
    "        ci, bi, loop_vars=[i0, com0, E0],\n",
    "        shape_invariants=[i0.get_shape(), tf.TensorShape([None, 3]), tf.TensorShape([None, 1])])\n",
    "    print(com, E)\n",
    "    \n",
    "    j0, l0 = tf.constant(0), tf.zeros([0, 5], m.dtype)\n",
    "    cj = lambda j, l: tf.less(j, o.get_shape()[0])\n",
    "    def bj(j, l):\n",
    "        oj = tf.gather(o, j)\n",
    "        a, b, ojidx = tf.split(oj, num_or_size_splits=[1,1,3], axis=0)\n",
    "        oval = tf.expand_dims(tf.gather_nd(m, ojidx), axis=0)\n",
    "        ojidx = tf.cast(ojidx, com.dtype)\n",
    "        amask = tf.equal(y, a)\n",
    "        bmask = tf.equal(y, b)\n",
    "        acom = tf.reshape(tf.boolean_mask(com, amask), [-1,])\n",
    "        bcom = tf.reshape(tf.boolean_mask(com, bmask), [-1,])\n",
    "        d1 = tf.sqrt(tf.reduce_sum(tf.math.squared_difference(ojidx, acom)))\n",
    "        d2 = tf.sqrt(tf.reduce_sum(tf.math.squared_difference(ojidx, bcom)))\n",
    "        r = tf.exp(tf.subtract(d1, d2))\n",
    "        E1 = tf.boolean_mask(E, amask)\n",
    "        E2 = tf.boolean_mask(E, bmask)\n",
    "        w1 = tf.reshape(tf.divide(E1, tf.add(E1, tf.multiply(r, E2))), [-1,])\n",
    "        w2 = tf.subtract(1, w1)\n",
    "        la = tf.expand_dims(tf.concat([tf.cast(a, com.dtype), ojidx, tf.multiply(w1, oval)], axis=0), axis=0)\n",
    "        lb = tf.expand_dims(tf.concat([tf.cast(b, com.dtype), ojidx, tf.multiply(w2, oval)], axis=0), axis=0)\n",
    "        return [tf.add(j, 1), tf.concat([l, la, lb], axis=0)]\n",
    "    _, lnew = tf.while_loop(\n",
    "        cj, bj, loop_vars=[j0, l0],\n",
    "        shape_invariants=[j0.get_shape(), tf.TensorShape([None, 5])])\n",
    "\n",
    "    pnew = tf.concat([pnew, lnew], axis=0)\n",
    "\n",
    "    # sort in descending order in energy \n",
    "    indices = tf.reshape(tf.cast(tf.math.top_k(tf.reshape(E, [1, -1]), k=E.get_shape()[0])[1], o.dtype), [-1,])\n",
    "    print(y, indices)\n",
    "    \n",
    "    k0, p0 = tf.constant(0), tf.zeros([0, 5], pnew.dtype)\n",
    "    ck = lambda k, p: tf.less(k, pnew.get_shape()[0])\n",
    "    def bk(k, p):\n",
    "        pk = tf.gather(pnew, k)\n",
    "        pkid, pkidx = tf.split(pk, num_or_size_splits=[1,4], axis=0)\n",
    "        yidx = tf.reshape(tf.where(tf.equal(y, tf.cast(pkid, y.dtype))), [-1,])\n",
    "        pkid = tf.cast(tf.add(tf.where(tf.equal(indices, yidx)), 1), pkidx.dtype)\n",
    "        pknew = tf.concat([pkid, tf.expand_dims(pkidx, axis=0)], axis=1)\n",
    "        return [tf.add(k, 1), tf.concat([p, pknew], axis=0)]\n",
    "    pnew = tf.while_loop(ck, bk, [k0, p0])[1]\n",
    "    \n",
    "    return pnew"
   ]
  },
  {
   "cell_type": "markdown",
   "metadata": {},
   "source": [
    "### Cluster splitter"
   ]
  },
  {
   "cell_type": "code",
   "execution_count": 237,
   "metadata": {},
   "outputs": [],
   "source": [
    "def cluster_splitter(parsed):    \n",
    "    proto = parsed['proto']\n",
    "    image = parsed['image']\n",
    "#     image = tf.constant(image)\n",
    "    \n",
    "    # filter image with protolist\n",
    "    proto_id, proto_idx = tf.split(proto, num_or_size_splits=[1,3], axis=1)\n",
    "    proto_val = tf.gather_nd(image, proto_idx)\n",
    "    image_sp = tf.SparseTensor(proto_idx, proto_val, dense_shape=[HEIGHT, WIDTH, 2])\n",
    "    image_d = tf.sparse.to_dense(tf.sparse.reorder(image_sp))\n",
    "    \n",
    "    locmax = finding_local_maxima(image_d, proto)\n",
    "    \n",
    "    # create seed list from local maxima\n",
    "    _, locmax_idx = tf.split(locmax, num_or_size_splits=[1,3], axis=1)\n",
    "    proto_sp = tf.SparseTensor(proto_idx, tf.reshape(proto_id, [-1,]), dense_shape=[HEIGHT, WIDTH, 2])\n",
    "    proto_d = tf.sparse.to_dense(tf.sparse.reorder(proto_sp))\n",
    "    start = tf.add(tf.reduce_max(proto_id), 1)\n",
    "    limit = start + locmax.get_shape()[0]\n",
    "    locmax_id = tf.expand_dims(tf.range(start, limit, dtype=locmax.dtype), axis=1)\n",
    "    seedlist = tf.concat([locmax_id, locmax_idx], axis=1)\n",
    "    sharedlist = tf.zeros([0,5], tf.int64)\n",
    "    \n",
    "    [protolist, sharedlist] = finding_neighbors_splitter(image_d, seedlist, seedlist, sharedlist)\n",
    "    \n",
    "    # originally clustered cells not in protolist\n",
    "    protolist_id, protolist_idx = tf.split(protolist, num_or_size_splits=[1,3], axis=1)\n",
    "    protolist_sp = tf.SparseTensor(protolist_idx, tf.reshape(protolist_id, [-1,]), dense_shape=[HEIGHT, WIDTH, 2])\n",
    "    protolist_d = tf.sparse.to_dense(tf.sparse.reorder(protolist_sp))\n",
    "    mask = tf.logical_and(tf.cast(proto_d, tf.bool), tf.logical_not(tf.cast(protolist_d, tf.bool)))\n",
    "    \n",
    "    sharedlist = expand_sharedlist(mask, sharedlist, sharedlist)\n",
    "    \n",
    "    # add parent clusters without a local maximum\n",
    "    mask = tf.logical_and(tf.cast(proto_d, tf.bool), tf.cast(protolist_d, tf.bool))\n",
    "    proto_y = tf.expand_dims(tf.unique(tf.reshape(proto_id, [-1,]))[0], axis=0)\n",
    "    proto_masked_y = tf.expand_dims(tf.unique(tf.boolean_mask(proto_d, mask))[0], axis=0)\n",
    "    other = tf.sparse.to_dense(tf.sets.difference(proto_y, proto_masked_y))\n",
    "\n",
    "    if tf.not_equal(tf.size(other), 0):\n",
    "        i = tf.constant(0)\n",
    "        c = lambda i, p: tf.less(i, tf.shape(other)[0])\n",
    "        print(other)\n",
    "        def b(i, p): \n",
    "            otheri = tf.gather(other, i)\n",
    "            print(otheri)\n",
    "            print(tf.shape(proto_d), tf.shape(p))\n",
    "            p = tf.where(tf.equal(proto_d, otheri), proto_d, p) \n",
    "            return [tf.add(i, 1), p]\n",
    "        protolist_d = tf.while_loop(c, b, [i, protolist_d])[1]\n",
    "        pidx = tf.where(protolist_d)\n",
    "        pid = tf.expand_dims(tf.gather_nd(protolist_d, pidx), axis=1)\n",
    "        protolist = tf.concat([pid, pidx], axis=1)\n",
    "    \n",
    "    cluster = finalize_splitter(image_d, protolist, sharedlist)\n",
    "        \n",
    "    parsed['cluster'] = cluster\n",
    "    \n",
    "    return parsed"
   ]
  },
  {
   "cell_type": "code",
   "execution_count": null,
   "metadata": {},
   "outputs": [],
   "source": []
  },
  {
   "cell_type": "markdown",
   "metadata": {},
   "source": [
    "## Run"
   ]
  },
  {
   "cell_type": "markdown",
   "metadata": {},
   "source": [
    "## Toy example"
   ]
  },
  {
   "cell_type": "code",
   "execution_count": 196,
   "metadata": {},
   "outputs": [],
   "source": [
    "HEIGHT = 20\n",
    "WIDTH = 20\n",
    "TENERGY = 10e3\n",
    "TLOCMAX = 100\n",
    "TNUMBER = 3\n",
    "# good values to test if recursive function works\n",
    "TSEED = tf.constant(1000, tf.float32)  # tf.constant([300.], tf.float32)\n",
    "TNEIGHBOR = tf.constant(100., tf.float32)\n",
    "TCELL = tf.constant(50., tf.float32)"
   ]
  },
  {
   "cell_type": "code",
   "execution_count": 197,
   "metadata": {},
   "outputs": [
    {
     "data": {
      "text/plain": [
       "(20, 20, 2)"
      ]
     },
     "execution_count": 197,
     "metadata": {},
     "output_type": "execute_result"
    },
    {
     "data": {
      "image/png": "[encoded data removed]",
      "text/plain": [
       "<Figure size 432x288 with 1 Axes>"
      ]
     },
     "metadata": {
      "needs_background": "light"
     },
     "output_type": "display_data"
    }
   ],
   "source": [
    "import numpy as np\n",
    "import matplotlib.pyplot as plt \n",
    "X = np.vstack((np.random.multivariate_normal(mean=[2+2,3+2], cov=[[1,0],[0,1]], size=10000),\n",
    "               np.random.multivariate_normal(mean=[2+2,7+2], cov=[[0.7,0],[0,1]], size=10000),\n",
    "               np.random.multivariate_normal(mean=[8+2,4+2], cov=[[1,0],[0,1]], size=10000),\n",
    "               np.random.multivariate_normal(mean=[15,15], cov=[[1,0],[0,1]], size=15000)))\n",
    "A = plt.hist2d(X[:,0], X[:,1], bins=HEIGHT, range=[[0, HEIGHT], [0, WIDTH]])[0]\n",
    "# plt.imshow(A)\n",
    "# B = A[..., np.newaxis]\n",
    "A[:2,6] = 1.5*TNEIGHBOR\n",
    "A[0,7:9] = 1.5*TCELL\n",
    "A[1,5] = 0\n",
    "A[3,16] = 20*TSEED\n",
    "\n",
    "B = np.stack((A,0.5*A), axis=-1).astype(np.float32)\n",
    "np.shape(B)"
   ]
  },
  {
   "cell_type": "code",
   "execution_count": 198,
   "metadata": {},
   "outputs": [
    {
     "data": {
      "image/png": "[encoded data removed]",
      "text/plain": [
       "<Figure size 432x288 with 1 Axes>"
      ]
     },
     "metadata": {
      "needs_background": "light"
     },
     "output_type": "display_data"
    },
    {
     "data": {
      "image/png": "[encoded data removed]",
      "text/plain": [
       "<Figure size 432x288 with 1 Axes>"
      ]
     },
     "metadata": {
      "needs_background": "light"
     },
     "output_type": "display_data"
    },
    {
     "data": {
      "image/png": "[encoded data removed]",
      "text/plain": [
       "<Figure size 432x288 with 1 Axes>"
      ]
     },
     "metadata": {
      "needs_background": "light"
     },
     "output_type": "display_data"
    },
    {
     "data": {
      "image/png": "[encoded data removed]",
      "text/plain": [
       "<Figure size 432x288 with 1 Axes>"
      ]
     },
     "metadata": {
      "needs_background": "light"
     },
     "output_type": "display_data"
    }
   ],
   "source": [
    "plt.imshow(A > TSEED)\n",
    "plt.show()\n",
    "plt.imshow(A > TNEIGHBOR)\n",
    "plt.show()\n",
    "plt.imshow(A > TCELL)\n",
    "plt.show()\n",
    "plt.imshow((A > TCELL) & (A <= TNEIGHBOR))\n",
    "plt.show()"
   ]
  },
  {
   "cell_type": "code",
   "execution_count": 199,
   "metadata": {},
   "outputs": [
    {
     "name": "stdout",
     "output_type": "stream",
     "text": [
      "tf.Tensor(64, shape=(), dtype=int32)\n",
      "tf.Tensor(47, shape=(), dtype=int32)\n",
      "tf.Tensor(1, shape=(), dtype=int32)\n",
      "tf.Tensor(0, shape=(), dtype=int32)\n",
      "tf.Tensor([29459.  30000.  14243.5 21928.5], shape=(4,), dtype=float32)\n"
     ]
    }
   ],
   "source": [
    "output = cluster_maker({'image': tf.constant(B)})"
   ]
  },
  {
   "cell_type": "code",
   "execution_count": 200,
   "metadata": {},
   "outputs": [
    {
     "data": {
      "text/plain": [
       "<matplotlib.image.AxesImage at 0x7f545f21b9b0>"
      ]
     },
     "execution_count": 200,
     "metadata": {},
     "output_type": "execute_result"
    },
    {
     "data": {
      "image/png": "[encoded data removed]",
      "text/plain": [
       "<Figure size 432x288 with 1 Axes>"
      ]
     },
     "metadata": {
      "needs_background": "light"
     },
     "output_type": "display_data"
    }
   ],
   "source": [
    "A = output['proto'].numpy()\n",
    "# print(A)\n",
    "# A = A[...,1:]\n",
    "A1 = A[A[...,3] == 0][...,:3]\n",
    "A2 = A[A[...,3] == 1][...,:3]\n",
    "# A1 = np.unique(A1, axis=0)\n",
    "# A2 = np.unique(A2, axis=0)\n",
    "# print(A1)\n",
    "\n",
    "sp = tf.SparseTensor(A1[...,1:3], A1[...,0], dense_shape=[HEIGHT,WIDTH])\n",
    "A1_dense = tf.sparse.to_dense(tf.sparse.reorder(sp))\n",
    "plt.imshow(A1_dense)"
   ]
  },
  {
   "cell_type": "code",
   "execution_count": 201,
   "metadata": {},
   "outputs": [
    {
     "data": {
      "text/plain": [
       "<matplotlib.image.AxesImage at 0x7f54686cd860>"
      ]
     },
     "execution_count": 201,
     "metadata": {},
     "output_type": "execute_result"
    },
    {
     "data": {
      "image/png": "[encoded data removed]",
      "text/plain": [
       "<Figure size 432x288 with 1 Axes>"
      ]
     },
     "metadata": {
      "needs_background": "light"
     },
     "output_type": "display_data"
    }
   ],
   "source": [
    "sp = tf.SparseTensor(A2[...,1:3], A2[...,0], dense_shape=[HEIGHT,WIDTH])\n",
    "A2_dense = tf.sparse.to_dense(tf.sparse.reorder(sp))\n",
    "plt.imshow(A2_dense)"
   ]
  },
  {
   "cell_type": "code",
   "execution_count": 202,
   "metadata": {},
   "outputs": [],
   "source": [
    "# output2['cluster']"
   ]
  },
  {
   "cell_type": "code",
   "execution_count": 203,
   "metadata": {},
   "outputs": [
    {
     "name": "stdout",
     "output_type": "stream",
     "text": [
      "33\n",
      "67\n",
      "43\n",
      "4\n",
      "0\n",
      "tf.Tensor([[2]], shape=(1, 1), dtype=int64)\n",
      "tf.Tensor([2], shape=(1,), dtype=int64)\n",
      "tf.Tensor([20 20  2], shape=(3,), dtype=int32) tf.Tensor([20 20  2], shape=(3,), dtype=int32)\n",
      "tf.Tensor([6 5 2 7 8], shape=(5,), dtype=int64)\n",
      "tf.Tensor(\n",
      "[[ 3.4982688   4.230301    0.32265466]\n",
      " [ 3.4924197   8.491667    0.32945484]\n",
      " [ 3.         16.          0.33333334]\n",
      " [ 9.517474    5.5006566   0.32290226]\n",
      " [14.500148   14.500376    0.33173725]], shape=(5, 3), dtype=float32) tf.Tensor(\n",
      "[[11986.5]\n",
      " [14610.5]\n",
      " [30000. ]\n",
      " [14092.5]\n",
      " [21928.5]], shape=(5, 1), dtype=float32)\n",
      "tf.Tensor([6 5 2 7 8], shape=(5,), dtype=int64) tf.Tensor([2 4 1 3 0], shape=(5,), dtype=int64)\n"
     ]
    }
   ],
   "source": [
    "# output = cluster_maker({'image': B})\n",
    "output2 = cluster_splitter(output)\n",
    "# output2"
   ]
  },
  {
   "cell_type": "code",
   "execution_count": 205,
   "metadata": {},
   "outputs": [
    {
     "data": {
      "text/plain": [
       "<matplotlib.image.AxesImage at 0x7f546205c9e8>"
      ]
     },
     "execution_count": 205,
     "metadata": {},
     "output_type": "execute_result"
    },
    {
     "data": {
      "image/png": "[encoded data removed]",
      "text/plain": [
       "<Figure size 432x288 with 1 Axes>"
      ]
     },
     "metadata": {
      "needs_background": "light"
     },
     "output_type": "display_data"
    }
   ],
   "source": [
    "C = output2['cluster'].numpy()\n",
    "# plt.\n",
    "# print(A)\n",
    "# A = A[...,1:]\n",
    "C1 = C[C[...,3] == 0][...,:3]\n",
    "C2 = C[C[...,3] == 1][...,:3]\n",
    "C1 = C1[C1[...,0] == 5]\n",
    "# C1 = np.unique(C1, axis=0)\n",
    "# C2 = np.unique(C2, axis=0)\n",
    "# print(A1)\n",
    "\n",
    "sp = tf.SparseTensor(C1[...,1:3], C1[...,0], dense_shape=[HEIGHT,WIDTH])\n",
    "C1_dense = tf.sparse.to_dense(tf.sparse.reorder(sp))\n",
    "plt.imshow(C1_dense)"
   ]
  },
  {
   "cell_type": "code",
   "execution_count": 136,
   "metadata": {},
   "outputs": [
    {
     "ename": "InvalidArgumentError",
     "evalue": "indices[9] = [2,7] is repeated [Op:SparseToDense]",
     "output_type": "error",
     "traceback": [
      "\u001b[0;31m---------------------------------------------------------------------------\u001b[0m",
      "\u001b[0;31mInvalidArgumentError\u001b[0m                      Traceback (most recent call last)",
      "\u001b[0;32m<ipython-input-136-79345d7226d8>\u001b[0m in \u001b[0;36m<module>\u001b[0;34m\u001b[0m\n\u001b[1;32m      9\u001b[0m \u001b[0;34m\u001b[0m\u001b[0m\n\u001b[1;32m     10\u001b[0m \u001b[0msp\u001b[0m \u001b[0;34m=\u001b[0m \u001b[0mtf\u001b[0m\u001b[0;34m.\u001b[0m\u001b[0mSparseTensor\u001b[0m\u001b[0;34m(\u001b[0m\u001b[0mC1\u001b[0m\u001b[0;34m[\u001b[0m\u001b[0;34m...\u001b[0m\u001b[0;34m,\u001b[0m\u001b[0;36m1\u001b[0m\u001b[0;34m:\u001b[0m\u001b[0;36m3\u001b[0m\u001b[0;34m]\u001b[0m\u001b[0;34m,\u001b[0m \u001b[0mC1\u001b[0m\u001b[0;34m[\u001b[0m\u001b[0;34m...\u001b[0m\u001b[0;34m,\u001b[0m\u001b[0;36m0\u001b[0m\u001b[0;34m]\u001b[0m\u001b[0;34m,\u001b[0m \u001b[0mdense_shape\u001b[0m\u001b[0;34m=\u001b[0m\u001b[0;34m[\u001b[0m\u001b[0mHEIGHT\u001b[0m\u001b[0;34m,\u001b[0m\u001b[0mWIDTH\u001b[0m\u001b[0;34m]\u001b[0m\u001b[0;34m)\u001b[0m\u001b[0;34m\u001b[0m\u001b[0m\n\u001b[0;32m---> 11\u001b[0;31m \u001b[0mC1_dense\u001b[0m \u001b[0;34m=\u001b[0m \u001b[0mtf\u001b[0m\u001b[0;34m.\u001b[0m\u001b[0msparse\u001b[0m\u001b[0;34m.\u001b[0m\u001b[0mto_dense\u001b[0m\u001b[0;34m(\u001b[0m\u001b[0mtf\u001b[0m\u001b[0;34m.\u001b[0m\u001b[0msparse\u001b[0m\u001b[0;34m.\u001b[0m\u001b[0mreorder\u001b[0m\u001b[0;34m(\u001b[0m\u001b[0msp\u001b[0m\u001b[0;34m)\u001b[0m\u001b[0;34m)\u001b[0m\u001b[0;34m\u001b[0m\u001b[0m\n\u001b[0m\u001b[1;32m     12\u001b[0m \u001b[0mplt\u001b[0m\u001b[0;34m.\u001b[0m\u001b[0mimshow\u001b[0m\u001b[0;34m(\u001b[0m\u001b[0mC1_dense\u001b[0m\u001b[0;34m)\u001b[0m\u001b[0;34m\u001b[0m\u001b[0m\n",
      "\u001b[0;32m~/.local/lib/python3.6/site-packages/tensorflow/python/ops/sparse_ops.py\u001b[0m in \u001b[0;36msparse_tensor_to_dense\u001b[0;34m(sp_input, default_value, validate_indices, name)\u001b[0m\n\u001b[1;32m   1498\u001b[0m       \u001b[0mdefault_value\u001b[0m\u001b[0;34m=\u001b[0m\u001b[0mdefault_value\u001b[0m\u001b[0;34m,\u001b[0m\u001b[0;34m\u001b[0m\u001b[0m\n\u001b[1;32m   1499\u001b[0m       \u001b[0mvalidate_indices\u001b[0m\u001b[0;34m=\u001b[0m\u001b[0mvalidate_indices\u001b[0m\u001b[0;34m,\u001b[0m\u001b[0;34m\u001b[0m\u001b[0m\n\u001b[0;32m-> 1500\u001b[0;31m       name=name)\n\u001b[0m\u001b[1;32m   1501\u001b[0m \u001b[0;34m\u001b[0m\u001b[0m\n\u001b[1;32m   1502\u001b[0m \u001b[0;34m\u001b[0m\u001b[0m\n",
      "\u001b[0;32m~/.local/lib/python3.6/site-packages/tensorflow/python/ops/gen_sparse_ops.py\u001b[0m in \u001b[0;36msparse_to_dense\u001b[0;34m(sparse_indices, output_shape, sparse_values, default_value, validate_indices, name)\u001b[0m\n\u001b[1;32m   2860\u001b[0m         \u001b[0;32mpass\u001b[0m  \u001b[0;31m# Add nodes to the TensorFlow graph.\u001b[0m\u001b[0;34m\u001b[0m\u001b[0m\n\u001b[1;32m   2861\u001b[0m     \u001b[0;32mexcept\u001b[0m \u001b[0m_core\u001b[0m\u001b[0;34m.\u001b[0m\u001b[0m_NotOkStatusException\u001b[0m \u001b[0;32mas\u001b[0m \u001b[0me\u001b[0m\u001b[0;34m:\u001b[0m\u001b[0;34m\u001b[0m\u001b[0m\n\u001b[0;32m-> 2862\u001b[0;31m       \u001b[0m_ops\u001b[0m\u001b[0;34m.\u001b[0m\u001b[0mraise_from_not_ok_status\u001b[0m\u001b[0;34m(\u001b[0m\u001b[0me\u001b[0m\u001b[0;34m,\u001b[0m \u001b[0mname\u001b[0m\u001b[0;34m)\u001b[0m\u001b[0;34m\u001b[0m\u001b[0m\n\u001b[0m\u001b[1;32m   2863\u001b[0m   \u001b[0;31m# Add nodes to the TensorFlow graph.\u001b[0m\u001b[0;34m\u001b[0m\u001b[0;34m\u001b[0m\u001b[0m\n\u001b[1;32m   2864\u001b[0m   \u001b[0;32mif\u001b[0m \u001b[0mvalidate_indices\u001b[0m \u001b[0;32mis\u001b[0m \u001b[0;32mNone\u001b[0m\u001b[0;34m:\u001b[0m\u001b[0;34m\u001b[0m\u001b[0m\n",
      "\u001b[0;32m~/.local/lib/python3.6/site-packages/tensorflow/python/framework/ops.py\u001b[0m in \u001b[0;36mraise_from_not_ok_status\u001b[0;34m(e, name)\u001b[0m\n\u001b[1;32m   6651\u001b[0m   \u001b[0mmessage\u001b[0m \u001b[0;34m=\u001b[0m \u001b[0me\u001b[0m\u001b[0;34m.\u001b[0m\u001b[0mmessage\u001b[0m \u001b[0;34m+\u001b[0m \u001b[0;34m(\u001b[0m\u001b[0;34m\" name: \"\u001b[0m \u001b[0;34m+\u001b[0m \u001b[0mname\u001b[0m \u001b[0;32mif\u001b[0m \u001b[0mname\u001b[0m \u001b[0;32mis\u001b[0m \u001b[0;32mnot\u001b[0m \u001b[0;32mNone\u001b[0m \u001b[0;32melse\u001b[0m \u001b[0;34m\"\"\u001b[0m\u001b[0;34m)\u001b[0m\u001b[0;34m\u001b[0m\u001b[0m\n\u001b[1;32m   6652\u001b[0m   \u001b[0;31m# pylint: disable=protected-access\u001b[0m\u001b[0;34m\u001b[0m\u001b[0;34m\u001b[0m\u001b[0m\n\u001b[0;32m-> 6653\u001b[0;31m   \u001b[0msix\u001b[0m\u001b[0;34m.\u001b[0m\u001b[0mraise_from\u001b[0m\u001b[0;34m(\u001b[0m\u001b[0mcore\u001b[0m\u001b[0;34m.\u001b[0m\u001b[0m_status_to_exception\u001b[0m\u001b[0;34m(\u001b[0m\u001b[0me\u001b[0m\u001b[0;34m.\u001b[0m\u001b[0mcode\u001b[0m\u001b[0;34m,\u001b[0m \u001b[0mmessage\u001b[0m\u001b[0;34m)\u001b[0m\u001b[0;34m,\u001b[0m \u001b[0;32mNone\u001b[0m\u001b[0;34m)\u001b[0m\u001b[0;34m\u001b[0m\u001b[0m\n\u001b[0m\u001b[1;32m   6654\u001b[0m   \u001b[0;31m# pylint: enable=protected-access\u001b[0m\u001b[0;34m\u001b[0m\u001b[0;34m\u001b[0m\u001b[0m\n\u001b[1;32m   6655\u001b[0m \u001b[0;34m\u001b[0m\u001b[0m\n",
      "\u001b[0;32m/cvmfs/sft.cern.ch/lcg/views/LCG_96python3/x86_64-centos7-gcc8-opt/lib/python3.6/site-packages/six.py\u001b[0m in \u001b[0;36mraise_from\u001b[0;34m(value, from_value)\u001b[0m\n",
      "\u001b[0;31mInvalidArgumentError\u001b[0m: indices[9] = [2,7] is repeated [Op:SparseToDense]"
     ]
    }
   ],
   "source": [
    "C = output2['cluster'].numpy()\n",
    "# print(A)\n",
    "# A = A[...,1:]\n",
    "C1 = C[C[...,3] == 0][...,:3]\n",
    "C2 = C[C[...,3] == 1][...,:3]\n",
    "# A1 = np.unique(A1, axis=0)\n",
    "# A2 = np.unique(A2, axis=0)\n",
    "# print(A1)\n",
    "\n",
    "sp = tf.SparseTensor(C1[...,1:3], C1[...,0], dense_shape=[HEIGHT,WIDTH])\n",
    "C1_dense = tf.sparse.to_dense(tf.sparse.reorder(sp))\n",
    "plt.imshow(C1_dense)"
   ]
  },
  {
   "cell_type": "code",
   "execution_count": 137,
   "metadata": {},
   "outputs": [
    {
     "ename": "InvalidArgumentError",
     "evalue": "indices[7] = [2,7] is repeated [Op:SparseToDense]",
     "output_type": "error",
     "traceback": [
      "\u001b[0;31m---------------------------------------------------------------------------\u001b[0m",
      "\u001b[0;31mInvalidArgumentError\u001b[0m                      Traceback (most recent call last)",
      "\u001b[0;32m<ipython-input-137-d93ce4ccf134>\u001b[0m in \u001b[0;36m<module>\u001b[0;34m\u001b[0m\n\u001b[1;32m      1\u001b[0m \u001b[0msp\u001b[0m \u001b[0;34m=\u001b[0m \u001b[0mtf\u001b[0m\u001b[0;34m.\u001b[0m\u001b[0mSparseTensor\u001b[0m\u001b[0;34m(\u001b[0m\u001b[0mC2\u001b[0m\u001b[0;34m[\u001b[0m\u001b[0;34m...\u001b[0m\u001b[0;34m,\u001b[0m\u001b[0;36m1\u001b[0m\u001b[0;34m:\u001b[0m\u001b[0;36m3\u001b[0m\u001b[0;34m]\u001b[0m\u001b[0;34m,\u001b[0m \u001b[0mC2\u001b[0m\u001b[0;34m[\u001b[0m\u001b[0;34m...\u001b[0m\u001b[0;34m,\u001b[0m\u001b[0;36m0\u001b[0m\u001b[0;34m]\u001b[0m\u001b[0;34m,\u001b[0m \u001b[0mdense_shape\u001b[0m\u001b[0;34m=\u001b[0m\u001b[0;34m[\u001b[0m\u001b[0mHEIGHT\u001b[0m\u001b[0;34m,\u001b[0m\u001b[0mWIDTH\u001b[0m\u001b[0;34m]\u001b[0m\u001b[0;34m)\u001b[0m\u001b[0;34m\u001b[0m\u001b[0m\n\u001b[0;32m----> 2\u001b[0;31m \u001b[0mC2_dense\u001b[0m \u001b[0;34m=\u001b[0m \u001b[0mtf\u001b[0m\u001b[0;34m.\u001b[0m\u001b[0msparse\u001b[0m\u001b[0;34m.\u001b[0m\u001b[0mto_dense\u001b[0m\u001b[0;34m(\u001b[0m\u001b[0mtf\u001b[0m\u001b[0;34m.\u001b[0m\u001b[0msparse\u001b[0m\u001b[0;34m.\u001b[0m\u001b[0mreorder\u001b[0m\u001b[0;34m(\u001b[0m\u001b[0msp\u001b[0m\u001b[0;34m)\u001b[0m\u001b[0;34m)\u001b[0m\u001b[0;34m\u001b[0m\u001b[0m\n\u001b[0m\u001b[1;32m      3\u001b[0m \u001b[0mplt\u001b[0m\u001b[0;34m.\u001b[0m\u001b[0mimshow\u001b[0m\u001b[0;34m(\u001b[0m\u001b[0mC2_dense\u001b[0m\u001b[0;34m)\u001b[0m\u001b[0;34m\u001b[0m\u001b[0m\n",
      "\u001b[0;32m~/.local/lib/python3.6/site-packages/tensorflow/python/ops/sparse_ops.py\u001b[0m in \u001b[0;36msparse_tensor_to_dense\u001b[0;34m(sp_input, default_value, validate_indices, name)\u001b[0m\n\u001b[1;32m   1498\u001b[0m       \u001b[0mdefault_value\u001b[0m\u001b[0;34m=\u001b[0m\u001b[0mdefault_value\u001b[0m\u001b[0;34m,\u001b[0m\u001b[0;34m\u001b[0m\u001b[0m\n\u001b[1;32m   1499\u001b[0m       \u001b[0mvalidate_indices\u001b[0m\u001b[0;34m=\u001b[0m\u001b[0mvalidate_indices\u001b[0m\u001b[0;34m,\u001b[0m\u001b[0;34m\u001b[0m\u001b[0m\n\u001b[0;32m-> 1500\u001b[0;31m       name=name)\n\u001b[0m\u001b[1;32m   1501\u001b[0m \u001b[0;34m\u001b[0m\u001b[0m\n\u001b[1;32m   1502\u001b[0m \u001b[0;34m\u001b[0m\u001b[0m\n",
      "\u001b[0;32m~/.local/lib/python3.6/site-packages/tensorflow/python/ops/gen_sparse_ops.py\u001b[0m in \u001b[0;36msparse_to_dense\u001b[0;34m(sparse_indices, output_shape, sparse_values, default_value, validate_indices, name)\u001b[0m\n\u001b[1;32m   2860\u001b[0m         \u001b[0;32mpass\u001b[0m  \u001b[0;31m# Add nodes to the TensorFlow graph.\u001b[0m\u001b[0;34m\u001b[0m\u001b[0m\n\u001b[1;32m   2861\u001b[0m     \u001b[0;32mexcept\u001b[0m \u001b[0m_core\u001b[0m\u001b[0;34m.\u001b[0m\u001b[0m_NotOkStatusException\u001b[0m \u001b[0;32mas\u001b[0m \u001b[0me\u001b[0m\u001b[0;34m:\u001b[0m\u001b[0;34m\u001b[0m\u001b[0m\n\u001b[0;32m-> 2862\u001b[0;31m       \u001b[0m_ops\u001b[0m\u001b[0;34m.\u001b[0m\u001b[0mraise_from_not_ok_status\u001b[0m\u001b[0;34m(\u001b[0m\u001b[0me\u001b[0m\u001b[0;34m,\u001b[0m \u001b[0mname\u001b[0m\u001b[0;34m)\u001b[0m\u001b[0;34m\u001b[0m\u001b[0m\n\u001b[0m\u001b[1;32m   2863\u001b[0m   \u001b[0;31m# Add nodes to the TensorFlow graph.\u001b[0m\u001b[0;34m\u001b[0m\u001b[0;34m\u001b[0m\u001b[0m\n\u001b[1;32m   2864\u001b[0m   \u001b[0;32mif\u001b[0m \u001b[0mvalidate_indices\u001b[0m \u001b[0;32mis\u001b[0m \u001b[0;32mNone\u001b[0m\u001b[0;34m:\u001b[0m\u001b[0;34m\u001b[0m\u001b[0m\n",
      "\u001b[0;32m~/.local/lib/python3.6/site-packages/tensorflow/python/framework/ops.py\u001b[0m in \u001b[0;36mraise_from_not_ok_status\u001b[0;34m(e, name)\u001b[0m\n\u001b[1;32m   6651\u001b[0m   \u001b[0mmessage\u001b[0m \u001b[0;34m=\u001b[0m \u001b[0me\u001b[0m\u001b[0;34m.\u001b[0m\u001b[0mmessage\u001b[0m \u001b[0;34m+\u001b[0m \u001b[0;34m(\u001b[0m\u001b[0;34m\" name: \"\u001b[0m \u001b[0;34m+\u001b[0m \u001b[0mname\u001b[0m \u001b[0;32mif\u001b[0m \u001b[0mname\u001b[0m \u001b[0;32mis\u001b[0m \u001b[0;32mnot\u001b[0m \u001b[0;32mNone\u001b[0m \u001b[0;32melse\u001b[0m \u001b[0;34m\"\"\u001b[0m\u001b[0;34m)\u001b[0m\u001b[0;34m\u001b[0m\u001b[0m\n\u001b[1;32m   6652\u001b[0m   \u001b[0;31m# pylint: disable=protected-access\u001b[0m\u001b[0;34m\u001b[0m\u001b[0;34m\u001b[0m\u001b[0m\n\u001b[0;32m-> 6653\u001b[0;31m   \u001b[0msix\u001b[0m\u001b[0;34m.\u001b[0m\u001b[0mraise_from\u001b[0m\u001b[0;34m(\u001b[0m\u001b[0mcore\u001b[0m\u001b[0;34m.\u001b[0m\u001b[0m_status_to_exception\u001b[0m\u001b[0;34m(\u001b[0m\u001b[0me\u001b[0m\u001b[0;34m.\u001b[0m\u001b[0mcode\u001b[0m\u001b[0;34m,\u001b[0m \u001b[0mmessage\u001b[0m\u001b[0;34m)\u001b[0m\u001b[0;34m,\u001b[0m \u001b[0;32mNone\u001b[0m\u001b[0;34m)\u001b[0m\u001b[0;34m\u001b[0m\u001b[0m\n\u001b[0m\u001b[1;32m   6654\u001b[0m   \u001b[0;31m# pylint: enable=protected-access\u001b[0m\u001b[0;34m\u001b[0m\u001b[0;34m\u001b[0m\u001b[0m\n\u001b[1;32m   6655\u001b[0m \u001b[0;34m\u001b[0m\u001b[0m\n",
      "\u001b[0;32m/cvmfs/sft.cern.ch/lcg/views/LCG_96python3/x86_64-centos7-gcc8-opt/lib/python3.6/site-packages/six.py\u001b[0m in \u001b[0;36mraise_from\u001b[0;34m(value, from_value)\u001b[0m\n",
      "\u001b[0;31mInvalidArgumentError\u001b[0m: indices[7] = [2,7] is repeated [Op:SparseToDense]"
     ]
    }
   ],
   "source": [
    "sp = tf.SparseTensor(C2[...,1:3], C2[...,0], dense_shape=[HEIGHT,WIDTH])\n",
    "C2_dense = tf.sparse.to_dense(tf.sparse.reorder(sp))\n",
    "plt.imshow(C2_dense)"
   ]
  },
  {
   "cell_type": "markdown",
   "metadata": {},
   "source": [
    "## Unit testing"
   ]
  },
  {
   "cell_type": "code",
   "execution_count": null,
   "metadata": {},
   "outputs": [],
   "source": [
    "def test_sorting():\n",
    "    # arrange\n",
    "    image = tf.constant([[[3., 2.], [6., 1.]], [[5., 8.], [7., 4.]]])\n",
    "    TSEED = 4.\n",
    "    seed_list = tf.where(tf.math.greater(image, TSEED))\n",
    "    seed_len = 4\n",
    "    \n",
    "    # act\n",
    "    sorted_seedlist = sorting(seed_list, seed_len, image)\n",
    "    \n",
    "    # assert\n",
    "    assert tf.equal(sorted_seedlist, tf.constant([[1,0,1], [1,1,0], [0,1,0], [1,0,0]], tf.int64)).numpy().all()"
   ]
  },
  {
   "cell_type": "code",
   "execution_count": 216,
   "metadata": {},
   "outputs": [],
   "source": [
    "def test_neighbors():\n",
    "    # arrange\n",
    "    index = tf.constant([0,0,0], tf.int64)\n",
    "    seed_list = tf.constant([[1,0,0], [1,1,0], [1,2,0]], tf.int64)\n",
    "    \n",
    "    # act\n",
    "    neigh = neighbors(index, seed_list)\n",
    "    \n",
    "    # assert\n",
    "    assert tf.equal(neigh, tf.constant([[0,0,1], [0,1,0]], tf.int64)).numpy().all()"
   ]
  },
  {
   "cell_type": "code",
   "execution_count": null,
   "metadata": {},
   "outputs": [],
   "source": [
    "test_neighbors()\n",
    "# test_sorting()"
   ]
  },
  {
   "cell_type": "code",
   "execution_count": 178,
   "metadata": {},
   "outputs": [
    {
     "data": {
      "text/plain": [
       "<tf.Tensor: shape=(1, 1), dtype=int32, numpy=array([[2]], dtype=int32)>"
      ]
     },
     "execution_count": 178,
     "metadata": {},
     "output_type": "execute_result"
    }
   ],
   "source": [
    "tf.sparse.to_dense(tf.sets.difference([[1, 2]], [[3, 1]]))"
   ]
  },
  {
   "cell_type": "code",
   "execution_count": 98,
   "metadata": {},
   "outputs": [
    {
     "name": "stdout",
     "output_type": "stream",
     "text": [
      "tf.Tensor([ 3 -1], shape=(2,), dtype=int32)\n"
     ]
    }
   ],
   "source": [
    "keys_tensor = tf.constant([1, 2])\n",
    "vals_tensor = tf.constant([3, 4])\n",
    "input_tensor = tf.constant([1, 5])\n",
    "table = tf.lookup.StaticHashTable(\n",
    "    tf.lookup.KeyValueTensorInitializer(keys_tensor, vals_tensor), -1)\n",
    "print(table.lookup(input_tensor))"
   ]
  },
  {
   "cell_type": "code",
   "execution_count": 232,
   "metadata": {},
   "outputs": [],
   "source": [
    "a = tf.constant([[1,2],[3,4]])"
   ]
  },
  {
   "cell_type": "code",
   "execution_count": 233,
   "metadata": {},
   "outputs": [],
   "source": [
    "is_empty = tf.equal(tf.size(a), 0)"
   ]
  },
  {
   "cell_type": "code",
   "execution_count": 234,
   "metadata": {},
   "outputs": [
    {
     "data": {
      "text/plain": [
       "<tf.Tensor: shape=(), dtype=bool, numpy=False>"
      ]
     },
     "execution_count": 234,
     "metadata": {},
     "output_type": "execute_result"
    }
   ],
   "source": [
    "is_empty"
   ]
  },
  {
   "cell_type": "code",
   "execution_count": 235,
   "metadata": {},
   "outputs": [
    {
     "data": {
      "text/plain": [
       "<tf.Tensor: shape=(), dtype=int32, numpy=4>"
      ]
     },
     "execution_count": 235,
     "metadata": {},
     "output_type": "execute_result"
    }
   ],
   "source": [
    "tf.size(a)"
   ]
  },
  {
   "cell_type": "code",
   "execution_count": null,
   "metadata": {},
   "outputs": [],
   "source": []
  }
 ],
 "metadata": {
  "kernelspec": {
   "display_name": "Python 3",
   "language": "python",
   "name": "python3"
  }
 },
 "nbformat": 4,
 "nbformat_minor": 2
}
